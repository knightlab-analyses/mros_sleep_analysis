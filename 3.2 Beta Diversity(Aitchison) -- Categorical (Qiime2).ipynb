{
 "cells": [
  {
   "cell_type": "markdown",
   "metadata": {},
   "source": [
    "#### This notebook is to perform beta-deversity analysis on continuous variables in metadata (Aitchison)"
   ]
  },
  {
   "cell_type": "code",
   "execution_count": 1,
   "metadata": {},
   "outputs": [
    {
     "name": "stdout",
     "output_type": "stream",
     "text": [
      "\u001b[32mSaved PCoAResults % Properties('biplot') to: ordination.qza\u001b[0m\n",
      "\u001b[32mSaved DistanceMatrix to: distance.qza\u001b[0m\n"
     ]
    }
   ],
   "source": [
    "#Get Aitchison Distance metrix by Deicode\n",
    "!qiime deicode rpca \\\n",
    "    --i-table mros_deblur_otus_unrare.qza \\\n",
    "    --p-min-feature-count 10 \\\n",
    "    --p-min-sample-count 500 \\\n",
    "    --o-biplot ordination.qza \\\n",
    "    --o-distance-matrix distance.qza"
   ]
  },
  {
   "cell_type": "code",
   "execution_count": 2,
   "metadata": {},
   "outputs": [
    {
     "name": "stdout",
     "output_type": "stream",
     "text": [
      "\u001b[32mSaved Visualization to: biplot.qzv\u001b[0m\r\n"
     ]
    }
   ],
   "source": [
    "#Get biplot for visualization\n",
    "!qiime emperor biplot \\\n",
    "    --i-biplot ordination.qza \\\n",
    "    --m-sample-metadata-file mapping_sleep_alpha.txt\\\n",
    "    --m-feature-metadata-file taxonomy.qza \\\n",
    "    --o-visualization biplot.qzv \\\n",
    "    --p-number-of-features 8"
   ]
  },
  {
   "cell_type": "code",
   "execution_count": 3,
   "metadata": {},
   "outputs": [
    {
     "name": "stdout",
     "output_type": "stream",
     "text": [
      "\u001b[32mExported distance.qza as DistanceMatrixDirectoryFormat to directory distance-matrix\u001b[0m\r\n"
     ]
    }
   ],
   "source": [
    "!qiime tools export \\\n",
    "  --input-path distance.qza \\\n",
    "  --output-path distance-matrix"
   ]
  },
  {
   "cell_type": "code",
   "execution_count": 4,
   "metadata": {},
   "outputs": [
    {
     "name": "stdout",
     "output_type": "stream",
     "text": [
      "\u001b[32mExported taxonomy.qza as TSVTaxonomyDirectoryFormat to directory taxonomy-table\u001b[0m\r\n"
     ]
    }
   ],
   "source": [
    "#export taxonomy table\n",
    "!qiime tools export \\\n",
    "  --input-path taxonomy.qza \\\n",
    "  --output-path taxonomy-table"
   ]
  },
  {
   "cell_type": "code",
   "execution_count": 6,
   "metadata": {},
   "outputs": [
    {
     "name": "stdout",
     "output_type": "stream",
     "text": [
      "\u001b[32mSaved Visualization to: deicode/amp_sig.qzv\u001b[0m\r\n"
     ]
    }
   ],
   "source": [
    "!qiime diversity beta-group-significance \\\n",
    "    --i-distance-matrix distance.qza \\\n",
    "    --m-metadata-file mapping_sleep_alpha.txt \\\n",
    "    --m-metadata-column AMAMPT_C1 \\\n",
    "    --p-method permanova \\\n",
    "    --o-visualization deicode/amp_sig.qzv"
   ]
  },
  {
   "cell_type": "code",
   "execution_count": 7,
   "metadata": {},
   "outputs": [
    {
     "name": "stdout",
     "output_type": "stream",
     "text": [
      "\u001b[32mSaved Visualization to: deicode/SLEEPHRS_sig.qzv\u001b[0m\r\n"
     ]
    }
   ],
   "source": [
    "!qiime diversity beta-group-significance \\\n",
    "    --i-distance-matrix distance.qza \\\n",
    "    --m-metadata-file mapping_sleep_alpha.txt \\\n",
    "    --m-metadata-column SLEEPHRS \\\n",
    "    --p-method permanova \\\n",
    "    --o-visualization deicode/SLEEPHRS_sig.qzv"
   ]
  },
  {
   "cell_type": "code",
   "execution_count": 8,
   "metadata": {},
   "outputs": [
    {
     "name": "stdout",
     "output_type": "stream",
     "text": [
      "\u001b[32mSaved Visualization to: deicode/SLSLPHRS_sig.qzv\u001b[0m\r\n"
     ]
    }
   ],
   "source": [
    "!qiime diversity beta-group-significance \\\n",
    "    --i-distance-matrix distance.qza \\\n",
    "    --m-metadata-file mapping_sleep_alpha.txt \\\n",
    "    --m-metadata-column SLSLPHRS \\\n",
    "    --p-method permanova \\\n",
    "    --o-visualization deicode/SLSLPHRS_sig.qzv"
   ]
  },
  {
   "cell_type": "code",
   "execution_count": 9,
   "metadata": {},
   "outputs": [
    {
     "name": "stdout",
     "output_type": "stream",
     "text": [
      "\u001b[32mSaved Visualization to: deicode/GIERACE_sig.qzv\u001b[0m\r\n"
     ]
    }
   ],
   "source": [
    "!qiime diversity beta-group-significance \\\n",
    "    --i-distance-matrix distance.qza \\\n",
    "    --m-metadata-file mapping_sleep_alpha.txt \\\n",
    "    --m-metadata-column GIERACE \\\n",
    "    --p-method permanova \\\n",
    "    --o-visualization deicode/GIERACE_sig.qzv"
   ]
  },
  {
   "cell_type": "code",
   "execution_count": 10,
   "metadata": {},
   "outputs": [
    {
     "name": "stdout",
     "output_type": "stream",
     "text": [
      "\u001b[32mSaved Visualization to: deicode/GIMSTAT_sig.qzv\u001b[0m\r\n"
     ]
    }
   ],
   "source": [
    "!qiime diversity beta-group-significance \\\n",
    "    --i-distance-matrix distance.qza \\\n",
    "    --m-metadata-file mapping_sleep_alpha.txt \\\n",
    "    --m-metadata-column GIMSTAT \\\n",
    "    --p-method permanova \\\n",
    "    --o-visualization deicode/GIMSTAT_sig.qzv"
   ]
  },
  {
   "cell_type": "code",
   "execution_count": 11,
   "metadata": {},
   "outputs": [
    {
     "name": "stdout",
     "output_type": "stream",
     "text": [
      "\u001b[32mSaved Visualization to: deicode/M1ADEPR_sig.qzv\u001b[0m\r\n"
     ]
    }
   ],
   "source": [
    "!qiime diversity beta-group-significance \\\n",
    "    --i-distance-matrix distance.qza \\\n",
    "    --m-metadata-file mapping_sleep_alpha.txt \\\n",
    "    --m-metadata-column M1ADEPR \\\n",
    "    --p-method permanova \\\n",
    "    --o-visualization deicode/M1ADEPR_sig.qzv"
   ]
  },
  {
   "cell_type": "code",
   "execution_count": 12,
   "metadata": {},
   "outputs": [
    {
     "name": "stdout",
     "output_type": "stream",
     "text": [
      "\u001b[32mSaved Visualization to: deicode/M1BENZO_sig.qzv\u001b[0m\r\n"
     ]
    }
   ],
   "source": [
    "!qiime diversity beta-group-significance \\\n",
    "    --i-distance-matrix distance.qza \\\n",
    "    --m-metadata-file mapping_sleep_alpha.txt \\\n",
    "    --m-metadata-column M1BENZO \\\n",
    "    --p-method permanova \\\n",
    "    --o-visualization deicode/M1BENZO_sig.qzv"
   ]
  },
  {
   "cell_type": "code",
   "execution_count": 13,
   "metadata": {},
   "outputs": [
    {
     "name": "stdout",
     "output_type": "stream",
     "text": [
      "\u001b[32mSaved Visualization to: deicode/MHCHF_sig.qzv\u001b[0m\r\n"
     ]
    }
   ],
   "source": [
    "!qiime diversity beta-group-significance \\\n",
    "    --i-distance-matrix distance.qza \\\n",
    "    --m-metadata-file mapping_sleep_alpha.txt \\\n",
    "    --m-metadata-column MHCHF \\\n",
    "    --p-method permanova \\\n",
    "    --o-visualization deicode/MHCHF_sig.qzv"
   ]
  },
  {
   "cell_type": "code",
   "execution_count": 14,
   "metadata": {},
   "outputs": [
    {
     "name": "stdout",
     "output_type": "stream",
     "text": [
      "\u001b[32mSaved Visualization to: deicode/MHDEPR_sig.qzv\u001b[0m\r\n"
     ]
    }
   ],
   "source": [
    "!qiime diversity beta-group-significance \\\n",
    "    --i-distance-matrix distance.qza \\\n",
    "    --m-metadata-file mapping_sleep_alpha.txt \\\n",
    "    --m-metadata-column MHDEPR \\\n",
    "    --p-method permanova \\\n",
    "    --o-visualization deicode/MHDEPR_sig.qzv"
   ]
  },
  {
   "cell_type": "code",
   "execution_count": 15,
   "metadata": {},
   "outputs": [
    {
     "name": "stdout",
     "output_type": "stream",
     "text": [
      "\u001b[32mSaved Visualization to: deicode/MHDEPRT_sig.qzv\u001b[0m\r\n"
     ]
    }
   ],
   "source": [
    "!qiime diversity beta-group-significance \\\n",
    "    --i-distance-matrix distance.qza \\\n",
    "    --m-metadata-file mapping_sleep_alpha.txt \\\n",
    "    --m-metadata-column MHDEPRT \\\n",
    "    --p-method permanova \\\n",
    "    --o-visualization deicode/MHDEPRT_sig.qzv"
   ]
  },
  {
   "cell_type": "code",
   "execution_count": 16,
   "metadata": {},
   "outputs": [
    {
     "name": "stdout",
     "output_type": "stream",
     "text": [
      "\u001b[32mSaved Visualization to: deicode/MHDIAB_sig.qzv\u001b[0m\r\n"
     ]
    }
   ],
   "source": [
    "!qiime diversity beta-group-significance \\\n",
    "    --i-distance-matrix distance.qza \\\n",
    "    --m-metadata-file mapping_sleep_alpha.txt \\\n",
    "    --m-metadata-column MHDIAB \\\n",
    "    --p-method permanova \\\n",
    "    --o-visualization deicode/MHDIAB_sig.qzv"
   ]
  },
  {
   "cell_type": "code",
   "execution_count": 17,
   "metadata": {},
   "outputs": [
    {
     "name": "stdout",
     "output_type": "stream",
     "text": [
      "\u001b[32mSaved Visualization to: deicode/MHMI_sig.qzv\u001b[0m\r\n"
     ]
    }
   ],
   "source": [
    "!qiime diversity beta-group-significance \\\n",
    "    --i-distance-matrix distance.qza \\\n",
    "    --m-metadata-file mapping_sleep_alpha.txt \\\n",
    "    --m-metadata-column MHMI \\\n",
    "    --p-method permanova \\\n",
    "    --o-visualization deicode/MHMI_sig.qzv"
   ]
  },
  {
   "cell_type": "code",
   "execution_count": 18,
   "metadata": {},
   "outputs": [
    {
     "name": "stdout",
     "output_type": "stream",
     "text": [
      "\u001b[32mSaved Visualization to: deicode/MHOA_sig.qzv\u001b[0m\r\n"
     ]
    }
   ],
   "source": [
    "!qiime diversity beta-group-significance \\\n",
    "    --i-distance-matrix distance.qza \\\n",
    "    --m-metadata-file mapping_sleep_alpha.txt \\\n",
    "    --m-metadata-column MHOA \\\n",
    "    --p-method permanova \\\n",
    "    --o-visualization deicode/MHOA_sig.qzv"
   ]
  },
  {
   "cell_type": "code",
   "execution_count": 19,
   "metadata": {},
   "outputs": [
    {
     "name": "stdout",
     "output_type": "stream",
     "text": [
      "\u001b[32mSaved Visualization to: deicode/MHRHEU1_sig.qzv\u001b[0m\r\n"
     ]
    }
   ],
   "source": [
    "!qiime diversity beta-group-significance \\\n",
    "    --i-distance-matrix distance.qza \\\n",
    "    --m-metadata-file mapping_sleep_alpha.txt \\\n",
    "    --m-metadata-column MHRHEU1 \\\n",
    "    --p-method permanova \\\n",
    "    --o-visualization deicode/MHRHEU1_sig.qzv"
   ]
  },
  {
   "cell_type": "code",
   "execution_count": 20,
   "metadata": {},
   "outputs": [
    {
     "name": "stdout",
     "output_type": "stream",
     "text": [
      "\u001b[32mSaved Visualization to: deicode/PQBADSLP_sig.qzv\u001b[0m\r\n"
     ]
    }
   ],
   "source": [
    "!qiime diversity beta-group-significance \\\n",
    "    --i-distance-matrix distance.qza \\\n",
    "    --m-metadata-file mapping_sleep_alpha.txt \\\n",
    "    --m-metadata-column PQBADSLP \\\n",
    "    --p-method permanova \\\n",
    "    --o-visualization deicode/PQBADSLP_sig.qzv"
   ]
  },
  {
   "cell_type": "code",
   "execution_count": 21,
   "metadata": {},
   "outputs": [
    {
     "name": "stdout",
     "output_type": "stream",
     "text": [
      "\u001b[32mSaved Visualization to: deicode/PQPSQUAL_sig.qzv\u001b[0m\r\n"
     ]
    }
   ],
   "source": [
    "!qiime diversity beta-group-significance \\\n",
    "    --i-distance-matrix distance.qza \\\n",
    "    --m-metadata-file mapping_sleep_alpha.txt \\\n",
    "    --m-metadata-column PQPSQUAL \\\n",
    "    --p-method permanova \\\n",
    "    --o-visualization deicode/PQPSQUAL_sig.qzv"
   ]
  },
  {
   "cell_type": "code",
   "execution_count": 22,
   "metadata": {},
   "outputs": [
    {
     "name": "stdout",
     "output_type": "stream",
     "text": [
      "\u001b[32mSaved Visualization to: deicode/QLCOMP_sig.qzv\u001b[0m\r\n"
     ]
    }
   ],
   "source": [
    "!qiime diversity beta-group-significance \\\n",
    "    --i-distance-matrix distance.qza \\\n",
    "    --m-metadata-file mapping_sleep_alpha.txt \\\n",
    "    --m-metadata-column QLCOMP \\\n",
    "    --p-method permanova \\\n",
    "    --o-visualization deicode/QLCOMP_sig.qzv"
   ]
  },
  {
   "cell_type": "code",
   "execution_count": 23,
   "metadata": {},
   "outputs": [
    {
     "name": "stdout",
     "output_type": "stream",
     "text": [
      "\u001b[32mSaved Visualization to: deicode/SITE_sig.qzv\u001b[0m\r\n"
     ]
    }
   ],
   "source": [
    "!qiime diversity beta-group-significance \\\n",
    "    --i-distance-matrix distance.qza \\\n",
    "    --m-metadata-file mapping_sleep_alpha.txt \\\n",
    "    --m-metadata-column SITE \\\n",
    "    --p-method permanova \\\n",
    "    --o-visualization deicode/SITE_sig.qzv"
   ]
  },
  {
   "cell_type": "code",
   "execution_count": 24,
   "metadata": {},
   "outputs": [
    {
     "name": "stdout",
     "output_type": "stream",
     "text": [
      "\u001b[32mSaved Visualization to: deicode/TUDRAMT_REVISED_sig.qzv\u001b[0m\r\n"
     ]
    }
   ],
   "source": [
    "!qiime diversity beta-group-significance \\\n",
    "    --i-distance-matrix distance.qza \\\n",
    "    --m-metadata-file mapping_sleep_alpha.txt \\\n",
    "    --m-metadata-column TUDRAMT_REVISED \\\n",
    "    --p-method permanova \\\n",
    "    --o-visualization deicode/TUDRAMT_REVISED_sig.qzv"
   ]
  },
  {
   "cell_type": "code",
   "execution_count": 25,
   "metadata": {},
   "outputs": [
    {
     "name": "stdout",
     "output_type": "stream",
     "text": [
      "\u001b[32mSaved Visualization to: deicode/TURSMOKE_sig.qzv\u001b[0m\r\n"
     ]
    }
   ],
   "source": [
    "!qiime diversity beta-group-significance \\\n",
    "    --i-distance-matrix distance.qza \\\n",
    "    --m-metadata-file mapping_sleep_alpha.txt \\\n",
    "    --m-metadata-column TURSMOKE \\\n",
    "    --p-method permanova \\\n",
    "    --o-visualization deicode/TURSMOKE_sig.qzv"
   ]
  },
  {
   "cell_type": "code",
   "execution_count": 26,
   "metadata": {},
   "outputs": [
    {
     "name": "stdout",
     "output_type": "stream",
     "text": [
      "\u001b[32mSaved Visualization to: deicode/PQPSLMED_sig.qzv\u001b[0m\r\n"
     ]
    }
   ],
   "source": [
    "!qiime diversity beta-group-significance \\\n",
    "    --i-distance-matrix distance.qza \\\n",
    "    --m-metadata-file mapping_sleep_alpha.txt \\\n",
    "    --m-metadata-column PQPSLMED \\\n",
    "    --p-method permanova \\\n",
    "    --o-visualization deicode/PQPSLMED_sig.qzv"
   ]
  },
  {
   "cell_type": "code",
   "execution_count": 27,
   "metadata": {},
   "outputs": [
    {
     "name": "stdout",
     "output_type": "stream",
     "text": [
      "\u001b[32mSaved Visualization to: deicode/PQPSQUAL_sig.qzv\u001b[0m\r\n"
     ]
    }
   ],
   "source": [
    "!qiime diversity beta-group-significance \\\n",
    "    --i-distance-matrix distance.qza \\\n",
    "    --m-metadata-file mapping_sleep_alpha.txt \\\n",
    "    --m-metadata-column PQPSQUAL \\\n",
    "    --p-method permanova \\\n",
    "    --o-visualization deicode/PQPSQUAL_sig.qzv"
   ]
  },
  {
   "cell_type": "code",
   "execution_count": 28,
   "metadata": {},
   "outputs": [
    {
     "name": "stdout",
     "output_type": "stream",
     "text": [
      "\u001b[32mSaved Visualization to: deicode/QLCOMP_sig.qzv\u001b[0m\r\n"
     ]
    }
   ],
   "source": [
    "!qiime diversity beta-group-significance \\\n",
    "    --i-distance-matrix distance.qza \\\n",
    "    --m-metadata-file mapping_sleep_alpha.txt \\\n",
    "    --m-metadata-column QLCOMP \\\n",
    "    --p-method permanova \\\n",
    "    --o-visualization deicode/QLCOMP_sig.qzv"
   ]
  },
  {
   "cell_type": "code",
   "execution_count": 29,
   "metadata": {},
   "outputs": [
    {
     "name": "stdout",
     "output_type": "stream",
     "text": [
      "\u001b[32mSaved Visualization to: deicode/PQPEFFIC_sig.qzv\u001b[0m\r\n"
     ]
    }
   ],
   "source": [
    "!qiime diversity beta-group-significance \\\n",
    "    --i-distance-matrix distance.qza \\\n",
    "    --m-metadata-file mapping_sleep_alpha.txt \\\n",
    "    --m-metadata-column PQPEFFIC \\\n",
    "    --p-method permanova \\\n",
    "    --o-visualization deicode/PQPEFFIC_sig.qzv"
   ]
  }
 ],
 "metadata": {
  "kernelspec": {
   "display_name": "Python 3",
   "language": "python",
   "name": "python3"
  },
  "language_info": {
   "codemirror_mode": {
    "name": "ipython",
    "version": 3
   },
   "file_extension": ".py",
   "mimetype": "text/x-python",
   "name": "python",
   "nbconvert_exporter": "python",
   "pygments_lexer": "ipython3",
   "version": "3.7.5"
  }
 },
 "nbformat": 4,
 "nbformat_minor": 2
}

{
 "cells": [
  {
   "cell_type": "markdown",
   "metadata": {},
   "source": [
    "#### This notebook is to perform Non-Redundant Analysis on beta diversities (unweighted UniFrac)\n",
    "#### reference: Falony G, Joossens M, Vieira-Silva S, et al. Population-level analysis of gut microbiome variation. Science 2016;352:560-4"
   ]
  },
  {
   "cell_type": "code",
   "execution_count": 1,
   "metadata": {},
   "outputs": [
    {
     "name": "stderr",
     "output_type": "stream",
     "text": [
      "Loading required package: permute\n",
      "Loading required package: lattice\n",
      "This is vegan 2.4-6\n"
     ]
    }
   ],
   "source": [
    "library(vegan)"
   ]
  },
  {
   "cell_type": "code",
   "execution_count": 2,
   "metadata": {},
   "outputs": [
    {
     "data": {
      "text/html": [
       "<ol class=list-inline>\n",
       "\t<li>599</li>\n",
       "\t<li>80</li>\n",
       "</ol>\n"
      ],
      "text/latex": [
       "\\begin{enumerate*}\n",
       "\\item 599\n",
       "\\item 80\n",
       "\\end{enumerate*}\n"
      ],
      "text/markdown": [
       "1. 599\n",
       "2. 80\n",
       "\n",
       "\n"
      ],
      "text/plain": [
       "[1] 599  80"
      ]
     },
     "metadata": {},
     "output_type": "display_data"
    }
   ],
   "source": [
    "mf = read.csv('../data/mapping_sleep_alpha.txt', stringsAsFactors=FALSE, sep='\\t')\n",
    "colnames(mf)[1] = 'SampleName'\n",
    "dim(mf)"
   ]
  },
  {
   "cell_type": "code",
   "execution_count": 3,
   "metadata": {},
   "outputs": [],
   "source": [
    "pc = read.csv('../Qiime_updated/core-metrics-results/unweighted_unifrac_pcoa_results/ordination.txt', \n",
    "              header=FALSE, sep='\\t', skip=9)"
   ]
  },
  {
   "cell_type": "code",
   "execution_count": 4,
   "metadata": {},
   "outputs": [
    {
     "data": {
      "text/html": [
       "<table>\n",
       "<thead><tr><th scope=col>V1</th><th scope=col>V2</th><th scope=col>V3</th><th scope=col>V4</th><th scope=col>V5</th><th scope=col>V6</th><th scope=col>V7</th><th scope=col>V8</th><th scope=col>V9</th><th scope=col>V10</th><th scope=col>⋯</th><th scope=col>V591</th><th scope=col>V592</th><th scope=col>V593</th><th scope=col>V594</th><th scope=col>V595</th><th scope=col>V596</th><th scope=col>V597</th><th scope=col>V598</th><th scope=col>V599</th><th scope=col>V600</th></tr></thead>\n",
       "<tbody>\n",
       "\t<tr><td>MN1696       </td><td> 0.22055575  </td><td> 0.039516069 </td><td>-0.033642823 </td><td>-0.029507619 </td><td> 0.02980334  </td><td>-0.04421325  </td><td>-0.104424065 </td><td>-0.051319227 </td><td> 0.06594653  </td><td>⋯            </td><td> 1.731998e-02</td><td> 0.0078587969</td><td>-0.0118407558</td><td>-0.0013041115</td><td>-0.0075271347</td><td> 0.0046440078</td><td> 0.0136591465</td><td> 6.164245e-03</td><td> 0.0001958224</td><td>0            </td></tr>\n",
       "\t<tr><td>PI4923       </td><td> 0.02210685  </td><td>-0.090194772 </td><td>-0.062452171 </td><td> 0.008983519 </td><td>-0.02970516  </td><td>-0.01624674  </td><td>-0.069043514 </td><td>-0.006215346 </td><td>-0.03967541  </td><td>⋯            </td><td> 9.633686e-04</td><td> 0.0033207770</td><td> 0.0017443716</td><td>-0.0016476774</td><td> 0.0014601150</td><td> 0.0005947216</td><td> 0.0031895829</td><td>-1.926862e-03</td><td>-0.0004882334</td><td>0            </td></tr>\n",
       "\t<tr><td>PA3754       </td><td>-0.22199487  </td><td> 0.029730908 </td><td> 0.071006684 </td><td> 0.092432372 </td><td> 0.01409292  </td><td>-0.01957842  </td><td> 0.017294177 </td><td>-0.026599511 </td><td>-0.01520805  </td><td>⋯            </td><td> 1.075612e-03</td><td>-0.0044317302</td><td> 0.0064329064</td><td>-0.0001938224</td><td> 0.0010719998</td><td> 0.0010608101</td><td> 0.0011932344</td><td>-2.755721e-03</td><td> 0.0008010110</td><td>0            </td></tr>\n",
       "\t<tr><td>PI4717       </td><td> 0.13494045  </td><td>-0.004423283 </td><td> 0.007870077 </td><td> 0.127694244 </td><td> 0.14021309  </td><td>-0.03583492  </td><td> 0.112186941 </td><td> 0.016129320 </td><td>-0.01343741  </td><td>⋯            </td><td>-5.246718e-05</td><td> 0.0000877613</td><td>-0.0021821368</td><td>-0.0012723607</td><td> 0.0026182410</td><td>-0.0030961344</td><td> 0.0002473224</td><td> 8.210881e-05</td><td>-0.0015490954</td><td>0            </td></tr>\n",
       "\t<tr><td>PA3960       </td><td> 0.23015659  </td><td>-0.024075513 </td><td> 0.038499089 </td><td> 0.006796306 </td><td> 0.11020717  </td><td> 0.01472405  </td><td> 0.001169064 </td><td>-0.003821731 </td><td>-0.07139770  </td><td>⋯            </td><td>-2.629668e-04</td><td> 0.0023834425</td><td> 0.0042287696</td><td> 0.0010056882</td><td>-0.0014142942</td><td>-0.0001194349</td><td>-0.0028035506</td><td>-1.706766e-03</td><td> 0.0014917356</td><td>0            </td></tr>\n",
       "\t<tr><td>MN1521       </td><td>-0.17116366  </td><td> 0.046229289 </td><td>-0.026568718 </td><td>-0.049177630 </td><td>-0.02157268  </td><td> 0.02355343  </td><td>-0.026676563 </td><td>-0.010484168 </td><td>-0.02494576  </td><td>⋯            </td><td>-5.102223e-04</td><td> 0.0011027192</td><td>-0.0009526921</td><td>-0.0019863712</td><td> 0.0002958471</td><td>-0.0004761844</td><td>-0.0003051521</td><td> 3.946676e-04</td><td>-0.0017079613</td><td>0            </td></tr>\n",
       "</tbody>\n",
       "</table>\n"
      ],
      "text/latex": [
       "\\begin{tabular}{r|llllllllllllllllllllllllllllllllllllllllllllllllllllllllllllllllllllllllllllllllllllllllllllllllllllllllllllllllllllllllllllllllllllllllllllllllllllllllllllllllllllllllllllllllllllllllllllllllllllllllllllllllllllllllllllllllllllllllllllllllllllllllllllllllllllllllllllllllllllllllllllllllllllllllllllllllllllllllllllllllllllllllllllllllllllllllllllllllllllllllllllllllllllllllllllllllllllllllllllllllllllllllllllllllllllllllllllllllllllllllllllllllllllllllllllllllllllllllllllllllllllllllllllllllllllllllllllllllllllllllllllllllllllllllllllllllllllllllllllllllllllllllllllllllllllllllllllllllllllllll}\n",
       " V1 & V2 & V3 & V4 & V5 & V6 & V7 & V8 & V9 & V10 & ⋯ & V591 & V592 & V593 & V594 & V595 & V596 & V597 & V598 & V599 & V600\\\\\n",
       "\\hline\n",
       "\t MN1696        &  0.22055575   &  0.039516069  & -0.033642823  & -0.029507619  &  0.02980334   & -0.04421325   & -0.104424065  & -0.051319227  &  0.06594653   & ⋯             &  1.731998e-02 &  0.0078587969 & -0.0118407558 & -0.0013041115 & -0.0075271347 &  0.0046440078 &  0.0136591465 &  6.164245e-03 &  0.0001958224 & 0            \\\\\n",
       "\t PI4923        &  0.02210685   & -0.090194772  & -0.062452171  &  0.008983519  & -0.02970516   & -0.01624674   & -0.069043514  & -0.006215346  & -0.03967541   & ⋯             &  9.633686e-04 &  0.0033207770 &  0.0017443716 & -0.0016476774 &  0.0014601150 &  0.0005947216 &  0.0031895829 & -1.926862e-03 & -0.0004882334 & 0            \\\\\n",
       "\t PA3754        & -0.22199487   &  0.029730908  &  0.071006684  &  0.092432372  &  0.01409292   & -0.01957842   &  0.017294177  & -0.026599511  & -0.01520805   & ⋯             &  1.075612e-03 & -0.0044317302 &  0.0064329064 & -0.0001938224 &  0.0010719998 &  0.0010608101 &  0.0011932344 & -2.755721e-03 &  0.0008010110 & 0            \\\\\n",
       "\t PI4717        &  0.13494045   & -0.004423283  &  0.007870077  &  0.127694244  &  0.14021309   & -0.03583492   &  0.112186941  &  0.016129320  & -0.01343741   & ⋯             & -5.246718e-05 &  0.0000877613 & -0.0021821368 & -0.0012723607 &  0.0026182410 & -0.0030961344 &  0.0002473224 &  8.210881e-05 & -0.0015490954 & 0            \\\\\n",
       "\t PA3960        &  0.23015659   & -0.024075513  &  0.038499089  &  0.006796306  &  0.11020717   &  0.01472405   &  0.001169064  & -0.003821731  & -0.07139770   & ⋯             & -2.629668e-04 &  0.0023834425 &  0.0042287696 &  0.0010056882 & -0.0014142942 & -0.0001194349 & -0.0028035506 & -1.706766e-03 &  0.0014917356 & 0            \\\\\n",
       "\t MN1521        & -0.17116366   &  0.046229289  & -0.026568718  & -0.049177630  & -0.02157268   &  0.02355343   & -0.026676563  & -0.010484168  & -0.02494576   & ⋯             & -5.102223e-04 &  0.0011027192 & -0.0009526921 & -0.0019863712 &  0.0002958471 & -0.0004761844 & -0.0003051521 &  3.946676e-04 & -0.0017079613 & 0            \\\\\n",
       "\\end{tabular}\n"
      ],
      "text/markdown": [
       "\n",
       "V1 | V2 | V3 | V4 | V5 | V6 | V7 | V8 | V9 | V10 | ⋯ | V591 | V592 | V593 | V594 | V595 | V596 | V597 | V598 | V599 | V600 | \n",
       "|---|---|---|---|---|---|\n",
       "| MN1696        |  0.22055575   |  0.039516069  | -0.033642823  | -0.029507619  |  0.02980334   | -0.04421325   | -0.104424065  | -0.051319227  |  0.06594653   | ⋯             |  1.731998e-02 |  0.0078587969 | -0.0118407558 | -0.0013041115 | -0.0075271347 |  0.0046440078 |  0.0136591465 |  6.164245e-03 |  0.0001958224 | 0             | \n",
       "| PI4923        |  0.02210685   | -0.090194772  | -0.062452171  |  0.008983519  | -0.02970516   | -0.01624674   | -0.069043514  | -0.006215346  | -0.03967541   | ⋯             |  9.633686e-04 |  0.0033207770 |  0.0017443716 | -0.0016476774 |  0.0014601150 |  0.0005947216 |  0.0031895829 | -1.926862e-03 | -0.0004882334 | 0             | \n",
       "| PA3754        | -0.22199487   |  0.029730908  |  0.071006684  |  0.092432372  |  0.01409292   | -0.01957842   |  0.017294177  | -0.026599511  | -0.01520805   | ⋯             |  1.075612e-03 | -0.0044317302 |  0.0064329064 | -0.0001938224 |  0.0010719998 |  0.0010608101 |  0.0011932344 | -2.755721e-03 |  0.0008010110 | 0             | \n",
       "| PI4717        |  0.13494045   | -0.004423283  |  0.007870077  |  0.127694244  |  0.14021309   | -0.03583492   |  0.112186941  |  0.016129320  | -0.01343741   | ⋯             | -5.246718e-05 |  0.0000877613 | -0.0021821368 | -0.0012723607 |  0.0026182410 | -0.0030961344 |  0.0002473224 |  8.210881e-05 | -0.0015490954 | 0             | \n",
       "| PA3960        |  0.23015659   | -0.024075513  |  0.038499089  |  0.006796306  |  0.11020717   |  0.01472405   |  0.001169064  | -0.003821731  | -0.07139770   | ⋯             | -2.629668e-04 |  0.0023834425 |  0.0042287696 |  0.0010056882 | -0.0014142942 | -0.0001194349 | -0.0028035506 | -1.706766e-03 |  0.0014917356 | 0             | \n",
       "| MN1521        | -0.17116366   |  0.046229289  | -0.026568718  | -0.049177630  | -0.02157268   |  0.02355343   | -0.026676563  | -0.010484168  | -0.02494576   | ⋯             | -5.102223e-04 |  0.0011027192 | -0.0009526921 | -0.0019863712 |  0.0002958471 | -0.0004761844 | -0.0003051521 |  3.946676e-04 | -0.0017079613 | 0             | \n",
       "\n",
       "\n"
      ],
      "text/plain": [
       "  V1     V2          V3           V4           V5           V6         \n",
       "1 MN1696  0.22055575  0.039516069 -0.033642823 -0.029507619  0.02980334\n",
       "2 PI4923  0.02210685 -0.090194772 -0.062452171  0.008983519 -0.02970516\n",
       "3 PA3754 -0.22199487  0.029730908  0.071006684  0.092432372  0.01409292\n",
       "4 PI4717  0.13494045 -0.004423283  0.007870077  0.127694244  0.14021309\n",
       "5 PA3960  0.23015659 -0.024075513  0.038499089  0.006796306  0.11020717\n",
       "6 MN1521 -0.17116366  0.046229289 -0.026568718 -0.049177630 -0.02157268\n",
       "  V7          V8           V9           V10         ⋯ V591         \n",
       "1 -0.04421325 -0.104424065 -0.051319227  0.06594653 ⋯  1.731998e-02\n",
       "2 -0.01624674 -0.069043514 -0.006215346 -0.03967541 ⋯  9.633686e-04\n",
       "3 -0.01957842  0.017294177 -0.026599511 -0.01520805 ⋯  1.075612e-03\n",
       "4 -0.03583492  0.112186941  0.016129320 -0.01343741 ⋯ -5.246718e-05\n",
       "5  0.01472405  0.001169064 -0.003821731 -0.07139770 ⋯ -2.629668e-04\n",
       "6  0.02355343 -0.026676563 -0.010484168 -0.02494576 ⋯ -5.102223e-04\n",
       "  V592          V593          V594          V595          V596         \n",
       "1  0.0078587969 -0.0118407558 -0.0013041115 -0.0075271347  0.0046440078\n",
       "2  0.0033207770  0.0017443716 -0.0016476774  0.0014601150  0.0005947216\n",
       "3 -0.0044317302  0.0064329064 -0.0001938224  0.0010719998  0.0010608101\n",
       "4  0.0000877613 -0.0021821368 -0.0012723607  0.0026182410 -0.0030961344\n",
       "5  0.0023834425  0.0042287696  0.0010056882 -0.0014142942 -0.0001194349\n",
       "6  0.0011027192 -0.0009526921 -0.0019863712  0.0002958471 -0.0004761844\n",
       "  V597          V598          V599          V600\n",
       "1  0.0136591465  6.164245e-03  0.0001958224 0   \n",
       "2  0.0031895829 -1.926862e-03 -0.0004882334 0   \n",
       "3  0.0011932344 -2.755721e-03  0.0008010110 0   \n",
       "4  0.0002473224  8.210881e-05 -0.0015490954 0   \n",
       "5 -0.0028035506 -1.706766e-03  0.0014917356 0   \n",
       "6 -0.0003051521  3.946676e-04 -0.0017079613 0   "
      ]
     },
     "metadata": {},
     "output_type": "display_data"
    }
   ],
   "source": [
    "head(pc)"
   ]
  },
  {
   "cell_type": "code",
   "execution_count": 5,
   "metadata": {},
   "outputs": [
    {
     "data": {
      "text/html": [
       "<ol class=list-inline>\n",
       "\t<li>601</li>\n",
       "\t<li>11</li>\n",
       "</ol>\n"
      ],
      "text/latex": [
       "\\begin{enumerate*}\n",
       "\\item 601\n",
       "\\item 11\n",
       "\\end{enumerate*}\n"
      ],
      "text/markdown": [
       "1. 601\n",
       "2. 11\n",
       "\n",
       "\n"
      ],
      "text/plain": [
       "[1] 601  11"
      ]
     },
     "metadata": {},
     "output_type": "display_data"
    },
    {
     "data": {
      "text/html": [
       "<table>\n",
       "<thead><tr><th scope=col>SampleName</th><th scope=col>PC1</th><th scope=col>PC2</th><th scope=col>PC3</th><th scope=col>PC4</th><th scope=col>PC5</th><th scope=col>PC6</th><th scope=col>PC7</th><th scope=col>PC8</th><th scope=col>PC9</th><th scope=col>PC10</th></tr></thead>\n",
       "<tbody>\n",
       "\t<tr><td>MN1696      </td><td> 0.22055575 </td><td> 0.039516069</td><td>-0.033642823</td><td>-0.029507619</td><td> 0.02980334 </td><td>-0.04421325 </td><td>-0.104424065</td><td>-0.051319227</td><td> 0.06594653 </td><td>-0.06020906 </td></tr>\n",
       "\t<tr><td>PI4923      </td><td> 0.02210685 </td><td>-0.090194772</td><td>-0.062452171</td><td> 0.008983519</td><td>-0.02970516 </td><td>-0.01624674 </td><td>-0.069043514</td><td>-0.006215346</td><td>-0.03967541 </td><td> 0.03902584 </td></tr>\n",
       "\t<tr><td>PA3754      </td><td>-0.22199487 </td><td> 0.029730908</td><td> 0.071006684</td><td> 0.092432372</td><td> 0.01409292 </td><td>-0.01957842 </td><td> 0.017294177</td><td>-0.026599511</td><td>-0.01520805 </td><td>-0.06454737 </td></tr>\n",
       "\t<tr><td>PI4717      </td><td> 0.13494045 </td><td>-0.004423283</td><td> 0.007870077</td><td> 0.127694244</td><td> 0.14021309 </td><td>-0.03583492 </td><td> 0.112186941</td><td> 0.016129320</td><td>-0.01343741 </td><td> 0.01545550 </td></tr>\n",
       "\t<tr><td>PA3960      </td><td> 0.23015659 </td><td>-0.024075513</td><td> 0.038499089</td><td> 0.006796306</td><td> 0.11020717 </td><td> 0.01472405 </td><td> 0.001169064</td><td>-0.003821731</td><td>-0.07139770 </td><td> 0.03598755 </td></tr>\n",
       "\t<tr><td>MN1521      </td><td>-0.17116366 </td><td> 0.046229289</td><td>-0.026568718</td><td>-0.049177630</td><td>-0.02157268 </td><td> 0.02355343 </td><td>-0.026676563</td><td>-0.010484168</td><td>-0.02494576 </td><td> 0.02340178 </td></tr>\n",
       "</tbody>\n",
       "</table>\n"
      ],
      "text/latex": [
       "\\begin{tabular}{r|lllllllllll}\n",
       " SampleName & PC1 & PC2 & PC3 & PC4 & PC5 & PC6 & PC7 & PC8 & PC9 & PC10\\\\\n",
       "\\hline\n",
       "\t MN1696       &  0.22055575  &  0.039516069 & -0.033642823 & -0.029507619 &  0.02980334  & -0.04421325  & -0.104424065 & -0.051319227 &  0.06594653  & -0.06020906 \\\\\n",
       "\t PI4923       &  0.02210685  & -0.090194772 & -0.062452171 &  0.008983519 & -0.02970516  & -0.01624674  & -0.069043514 & -0.006215346 & -0.03967541  &  0.03902584 \\\\\n",
       "\t PA3754       & -0.22199487  &  0.029730908 &  0.071006684 &  0.092432372 &  0.01409292  & -0.01957842  &  0.017294177 & -0.026599511 & -0.01520805  & -0.06454737 \\\\\n",
       "\t PI4717       &  0.13494045  & -0.004423283 &  0.007870077 &  0.127694244 &  0.14021309  & -0.03583492  &  0.112186941 &  0.016129320 & -0.01343741  &  0.01545550 \\\\\n",
       "\t PA3960       &  0.23015659  & -0.024075513 &  0.038499089 &  0.006796306 &  0.11020717  &  0.01472405  &  0.001169064 & -0.003821731 & -0.07139770  &  0.03598755 \\\\\n",
       "\t MN1521       & -0.17116366  &  0.046229289 & -0.026568718 & -0.049177630 & -0.02157268  &  0.02355343  & -0.026676563 & -0.010484168 & -0.02494576  &  0.02340178 \\\\\n",
       "\\end{tabular}\n"
      ],
      "text/markdown": [
       "\n",
       "SampleName | PC1 | PC2 | PC3 | PC4 | PC5 | PC6 | PC7 | PC8 | PC9 | PC10 | \n",
       "|---|---|---|---|---|---|\n",
       "| MN1696       |  0.22055575  |  0.039516069 | -0.033642823 | -0.029507619 |  0.02980334  | -0.04421325  | -0.104424065 | -0.051319227 |  0.06594653  | -0.06020906  | \n",
       "| PI4923       |  0.02210685  | -0.090194772 | -0.062452171 |  0.008983519 | -0.02970516  | -0.01624674  | -0.069043514 | -0.006215346 | -0.03967541  |  0.03902584  | \n",
       "| PA3754       | -0.22199487  |  0.029730908 |  0.071006684 |  0.092432372 |  0.01409292  | -0.01957842  |  0.017294177 | -0.026599511 | -0.01520805  | -0.06454737  | \n",
       "| PI4717       |  0.13494045  | -0.004423283 |  0.007870077 |  0.127694244 |  0.14021309  | -0.03583492  |  0.112186941 |  0.016129320 | -0.01343741  |  0.01545550  | \n",
       "| PA3960       |  0.23015659  | -0.024075513 |  0.038499089 |  0.006796306 |  0.11020717  |  0.01472405  |  0.001169064 | -0.003821731 | -0.07139770  |  0.03598755  | \n",
       "| MN1521       | -0.17116366  |  0.046229289 | -0.026568718 | -0.049177630 | -0.02157268  |  0.02355343  | -0.026676563 | -0.010484168 | -0.02494576  |  0.02340178  | \n",
       "\n",
       "\n"
      ],
      "text/plain": [
       "  SampleName PC1         PC2          PC3          PC4          PC5        \n",
       "1 MN1696      0.22055575  0.039516069 -0.033642823 -0.029507619  0.02980334\n",
       "2 PI4923      0.02210685 -0.090194772 -0.062452171  0.008983519 -0.02970516\n",
       "3 PA3754     -0.22199487  0.029730908  0.071006684  0.092432372  0.01409292\n",
       "4 PI4717      0.13494045 -0.004423283  0.007870077  0.127694244  0.14021309\n",
       "5 PA3960      0.23015659 -0.024075513  0.038499089  0.006796306  0.11020717\n",
       "6 MN1521     -0.17116366  0.046229289 -0.026568718 -0.049177630 -0.02157268\n",
       "  PC6         PC7          PC8          PC9         PC10       \n",
       "1 -0.04421325 -0.104424065 -0.051319227  0.06594653 -0.06020906\n",
       "2 -0.01624674 -0.069043514 -0.006215346 -0.03967541  0.03902584\n",
       "3 -0.01957842  0.017294177 -0.026599511 -0.01520805 -0.06454737\n",
       "4 -0.03583492  0.112186941  0.016129320 -0.01343741  0.01545550\n",
       "5  0.01472405  0.001169064 -0.003821731 -0.07139770  0.03598755\n",
       "6  0.02355343 -0.026676563 -0.010484168 -0.02494576  0.02340178"
      ]
     },
     "metadata": {},
     "output_type": "display_data"
    }
   ],
   "source": [
    "pc_10 = pc[, 1:11]\n",
    "colnames(pc_10) = c('SampleName', 'PC1', 'PC2', 'PC3', 'PC4', 'PC5', 'PC6', 'PC7', 'PC8', 'PC9', 'PC10')\n",
    "dim(pc_10)\n",
    "head(pc_10)"
   ]
  },
  {
   "cell_type": "code",
   "execution_count": 6,
   "metadata": {},
   "outputs": [
    {
     "data": {
      "text/html": [
       "<table>\n",
       "<thead><tr><th scope=col>SampleName</th><th scope=col>BarcodeSequence</th><th scope=col>LinkerPrimerSequence</th><th scope=col>Experiment_Design_Description</th><th scope=col>Library_Construction_Protocol</th><th scope=col>Linker</th><th scope=col>Platform</th><th scope=col>Center_Name</th><th scope=col>Center_Project</th><th scope=col>Instrument_Model</th><th scope=col>⋯</th><th scope=col>M1ADEPR</th><th scope=col>M1BENZO</th><th scope=col>AMAMPT_C1</th><th scope=col>AMFVT_C1</th><th scope=col>AMPHIT_15SD</th><th scope=col>Description</th><th scope=col>alpha_pd</th><th scope=col>observed_otus</th><th scope=col>shannon</th><th scope=col>pielou_e</th></tr></thead>\n",
       "<tbody>\n",
       "\t<tr><td>BI0023                                              </td><td>TCTGGTGACATT                                        </td><td>GGACTACHVGGGTWTCTAAT                                </td><td>16S stool samples sequenced for MrOS Vitamin D study</td><td>16S rRNA v4                                         </td><td>GT                                                  </td><td>Illumina                                            </td><td>BI                                                  </td><td>MrOS                                                </td><td>Illumina MiSeq                                      </td><td>⋯                                                   </td><td>0: No                                               </td><td>0: No                                               </td><td>Missing:not collected                               </td><td>Missing:not collected                               </td><td>Missing:not collected                               </td><td>Orwoll.BI0023.BI                                    </td><td>27.77117                                            </td><td>302                                                 </td><td>5.727116                                            </td><td>0.6951729                                           </td></tr>\n",
       "\t<tr><td>BI0056                                              </td><td>CAAGCATGCCTA                                        </td><td>GGACTACHVGGGTWTCTAAT                                </td><td>16S stool samples sequenced for MrOS Vitamin D study</td><td>16S rRNA v4                                         </td><td>GT                                                  </td><td>Illumina                                            </td><td>BI                                                  </td><td>MrOS                                                </td><td>Illumina MiSeq                                      </td><td>⋯                                                   </td><td>0: No                                               </td><td>0: No                                               </td><td>1.0                                                 </td><td>1.0                                                 </td><td>0.0                                                 </td><td>Orwoll.BI0056.BI                                    </td><td>17.93266                                            </td><td>173                                                 </td><td>3.888281                                            </td><td>0.5229960                                           </td></tr>\n",
       "\t<tr><td>BI0131                                              </td><td>CTATTTGCGACA                                        </td><td>GGACTACHVGGGTWTCTAAT                                </td><td>16S stool samples sequenced for MrOS Vitamin D study</td><td>16S rRNA v4                                         </td><td>GT                                                  </td><td>Illumina                                            </td><td>BI                                                  </td><td>MrOS                                                </td><td>Illumina MiSeq                                      </td><td>⋯                                                   </td><td>0: No                                               </td><td>0: No                                               </td><td>1.0                                                 </td><td>1.0                                                 </td><td>0.0                                                 </td><td>Orwoll.BI0131.BI                                    </td><td>21.45366                                            </td><td>223                                                 </td><td>4.050730                                            </td><td>0.5192645                                           </td></tr>\n",
       "\t<tr><td>BI0153                                              </td><td>ATCGGCGTTACA                                        </td><td>GGACTACHVGGGTWTCTAAT                                </td><td>16S stool samples sequenced for MrOS Vitamin D study</td><td>16S rRNA v4                                         </td><td>GT                                                  </td><td>Illumina                                            </td><td>BI                                                  </td><td>MrOS                                                </td><td>Illumina MiSeq                                      </td><td>⋯                                                   </td><td>0: No                                               </td><td>0: No                                               </td><td>1.0                                                 </td><td>1.0                                                 </td><td>-1.0                                                </td><td>Orwoll.BI0153.BI                                    </td><td>18.46968                                            </td><td>223                                                 </td><td>4.894253                                            </td><td>0.6273959                                           </td></tr>\n",
       "\t<tr><td>BI0215                                              </td><td>CCTCTCGTGATC                                        </td><td>GGACTACHVGGGTWTCTAAT                                </td><td>16S stool samples sequenced for MrOS Vitamin D study</td><td>16S rRNA v4                                         </td><td>GT                                                  </td><td>Illumina                                            </td><td>BI                                                  </td><td>MrOS                                                </td><td>Illumina MiSeq                                      </td><td>⋯                                                   </td><td>0: No                                               </td><td>0: No                                               </td><td>1.0                                                 </td><td>0.0                                                 </td><td>-1.0                                                </td><td>Orwoll.BI0215.BI                                    </td><td>20.04983                                            </td><td>222                                                 </td><td>5.295055                                            </td><td>0.6793396                                           </td></tr>\n",
       "\t<tr><td>BI0353                                              </td><td>TGCCATCTGAAT                                        </td><td>GGACTACHVGGGTWTCTAAT                                </td><td>16S stool samples sequenced for MrOS Vitamin D study</td><td>16S rRNA v4                                         </td><td>GT                                                  </td><td>Illumina                                            </td><td>BI                                                  </td><td>MrOS                                                </td><td>Illumina MiSeq                                      </td><td>⋯                                                   </td><td>0: No                                               </td><td>0: No                                               </td><td>1.0                                                 </td><td>1.0                                                 </td><td>0.0                                                 </td><td>Orwoll.BI0353.BI                                    </td><td>13.75183                                            </td><td>155                                                 </td><td>4.213016                                            </td><td>0.5790192                                           </td></tr>\n",
       "</tbody>\n",
       "</table>\n"
      ],
      "text/latex": [
       "\\begin{tabular}{r|llllllllllllllllllllllllllllllllllllllllllllllllllllllllllllllllllllllllllllllll}\n",
       " SampleName & BarcodeSequence & LinkerPrimerSequence & Experiment\\_Design\\_Description & Library\\_Construction\\_Protocol & Linker & Platform & Center\\_Name & Center\\_Project & Instrument\\_Model & ⋯ & M1ADEPR & M1BENZO & AMAMPT\\_C1 & AMFVT\\_C1 & AMPHIT\\_15SD & Description & alpha\\_pd & observed\\_otus & shannon & pielou\\_e\\\\\n",
       "\\hline\n",
       "\t BI0023                                               & TCTGGTGACATT                                         & GGACTACHVGGGTWTCTAAT                                 & 16S stool samples sequenced for MrOS Vitamin D study & 16S rRNA v4                                          & GT                                                   & Illumina                                             & BI                                                   & MrOS                                                 & Illumina MiSeq                                       & ⋯                                                    & 0: No                                                & 0: No                                                & Missing:not collected                                & Missing:not collected                                & Missing:not collected                                & Orwoll.BI0023.BI                                     & 27.77117                                             & 302                                                  & 5.727116                                             & 0.6951729                                           \\\\\n",
       "\t BI0056                                               & CAAGCATGCCTA                                         & GGACTACHVGGGTWTCTAAT                                 & 16S stool samples sequenced for MrOS Vitamin D study & 16S rRNA v4                                          & GT                                                   & Illumina                                             & BI                                                   & MrOS                                                 & Illumina MiSeq                                       & ⋯                                                    & 0: No                                                & 0: No                                                & 1.0                                                  & 1.0                                                  & 0.0                                                  & Orwoll.BI0056.BI                                     & 17.93266                                             & 173                                                  & 3.888281                                             & 0.5229960                                           \\\\\n",
       "\t BI0131                                               & CTATTTGCGACA                                         & GGACTACHVGGGTWTCTAAT                                 & 16S stool samples sequenced for MrOS Vitamin D study & 16S rRNA v4                                          & GT                                                   & Illumina                                             & BI                                                   & MrOS                                                 & Illumina MiSeq                                       & ⋯                                                    & 0: No                                                & 0: No                                                & 1.0                                                  & 1.0                                                  & 0.0                                                  & Orwoll.BI0131.BI                                     & 21.45366                                             & 223                                                  & 4.050730                                             & 0.5192645                                           \\\\\n",
       "\t BI0153                                               & ATCGGCGTTACA                                         & GGACTACHVGGGTWTCTAAT                                 & 16S stool samples sequenced for MrOS Vitamin D study & 16S rRNA v4                                          & GT                                                   & Illumina                                             & BI                                                   & MrOS                                                 & Illumina MiSeq                                       & ⋯                                                    & 0: No                                                & 0: No                                                & 1.0                                                  & 1.0                                                  & -1.0                                                 & Orwoll.BI0153.BI                                     & 18.46968                                             & 223                                                  & 4.894253                                             & 0.6273959                                           \\\\\n",
       "\t BI0215                                               & CCTCTCGTGATC                                         & GGACTACHVGGGTWTCTAAT                                 & 16S stool samples sequenced for MrOS Vitamin D study & 16S rRNA v4                                          & GT                                                   & Illumina                                             & BI                                                   & MrOS                                                 & Illumina MiSeq                                       & ⋯                                                    & 0: No                                                & 0: No                                                & 1.0                                                  & 0.0                                                  & -1.0                                                 & Orwoll.BI0215.BI                                     & 20.04983                                             & 222                                                  & 5.295055                                             & 0.6793396                                           \\\\\n",
       "\t BI0353                                               & TGCCATCTGAAT                                         & GGACTACHVGGGTWTCTAAT                                 & 16S stool samples sequenced for MrOS Vitamin D study & 16S rRNA v4                                          & GT                                                   & Illumina                                             & BI                                                   & MrOS                                                 & Illumina MiSeq                                       & ⋯                                                    & 0: No                                                & 0: No                                                & 1.0                                                  & 1.0                                                  & 0.0                                                  & Orwoll.BI0353.BI                                     & 13.75183                                             & 155                                                  & 4.213016                                             & 0.5790192                                           \\\\\n",
       "\\end{tabular}\n"
      ],
      "text/markdown": [
       "\n",
       "SampleName | BarcodeSequence | LinkerPrimerSequence | Experiment_Design_Description | Library_Construction_Protocol | Linker | Platform | Center_Name | Center_Project | Instrument_Model | ⋯ | M1ADEPR | M1BENZO | AMAMPT_C1 | AMFVT_C1 | AMPHIT_15SD | Description | alpha_pd | observed_otus | shannon | pielou_e | \n",
       "|---|---|---|---|---|---|\n",
       "| BI0023                                               | TCTGGTGACATT                                         | GGACTACHVGGGTWTCTAAT                                 | 16S stool samples sequenced for MrOS Vitamin D study | 16S rRNA v4                                          | GT                                                   | Illumina                                             | BI                                                   | MrOS                                                 | Illumina MiSeq                                       | ⋯                                                    | 0: No                                                | 0: No                                                | Missing:not collected                                | Missing:not collected                                | Missing:not collected                                | Orwoll.BI0023.BI                                     | 27.77117                                             | 302                                                  | 5.727116                                             | 0.6951729                                            | \n",
       "| BI0056                                               | CAAGCATGCCTA                                         | GGACTACHVGGGTWTCTAAT                                 | 16S stool samples sequenced for MrOS Vitamin D study | 16S rRNA v4                                          | GT                                                   | Illumina                                             | BI                                                   | MrOS                                                 | Illumina MiSeq                                       | ⋯                                                    | 0: No                                                | 0: No                                                | 1.0                                                  | 1.0                                                  | 0.0                                                  | Orwoll.BI0056.BI                                     | 17.93266                                             | 173                                                  | 3.888281                                             | 0.5229960                                            | \n",
       "| BI0131                                               | CTATTTGCGACA                                         | GGACTACHVGGGTWTCTAAT                                 | 16S stool samples sequenced for MrOS Vitamin D study | 16S rRNA v4                                          | GT                                                   | Illumina                                             | BI                                                   | MrOS                                                 | Illumina MiSeq                                       | ⋯                                                    | 0: No                                                | 0: No                                                | 1.0                                                  | 1.0                                                  | 0.0                                                  | Orwoll.BI0131.BI                                     | 21.45366                                             | 223                                                  | 4.050730                                             | 0.5192645                                            | \n",
       "| BI0153                                               | ATCGGCGTTACA                                         | GGACTACHVGGGTWTCTAAT                                 | 16S stool samples sequenced for MrOS Vitamin D study | 16S rRNA v4                                          | GT                                                   | Illumina                                             | BI                                                   | MrOS                                                 | Illumina MiSeq                                       | ⋯                                                    | 0: No                                                | 0: No                                                | 1.0                                                  | 1.0                                                  | -1.0                                                 | Orwoll.BI0153.BI                                     | 18.46968                                             | 223                                                  | 4.894253                                             | 0.6273959                                            | \n",
       "| BI0215                                               | CCTCTCGTGATC                                         | GGACTACHVGGGTWTCTAAT                                 | 16S stool samples sequenced for MrOS Vitamin D study | 16S rRNA v4                                          | GT                                                   | Illumina                                             | BI                                                   | MrOS                                                 | Illumina MiSeq                                       | ⋯                                                    | 0: No                                                | 0: No                                                | 1.0                                                  | 0.0                                                  | -1.0                                                 | Orwoll.BI0215.BI                                     | 20.04983                                             | 222                                                  | 5.295055                                             | 0.6793396                                            | \n",
       "| BI0353                                               | TGCCATCTGAAT                                         | GGACTACHVGGGTWTCTAAT                                 | 16S stool samples sequenced for MrOS Vitamin D study | 16S rRNA v4                                          | GT                                                   | Illumina                                             | BI                                                   | MrOS                                                 | Illumina MiSeq                                       | ⋯                                                    | 0: No                                                | 0: No                                                | 1.0                                                  | 1.0                                                  | 0.0                                                  | Orwoll.BI0353.BI                                     | 13.75183                                             | 155                                                  | 4.213016                                             | 0.5790192                                            | \n",
       "\n",
       "\n"
      ],
      "text/plain": [
       "  SampleName BarcodeSequence LinkerPrimerSequence\n",
       "1 BI0023     TCTGGTGACATT    GGACTACHVGGGTWTCTAAT\n",
       "2 BI0056     CAAGCATGCCTA    GGACTACHVGGGTWTCTAAT\n",
       "3 BI0131     CTATTTGCGACA    GGACTACHVGGGTWTCTAAT\n",
       "4 BI0153     ATCGGCGTTACA    GGACTACHVGGGTWTCTAAT\n",
       "5 BI0215     CCTCTCGTGATC    GGACTACHVGGGTWTCTAAT\n",
       "6 BI0353     TGCCATCTGAAT    GGACTACHVGGGTWTCTAAT\n",
       "  Experiment_Design_Description                       \n",
       "1 16S stool samples sequenced for MrOS Vitamin D study\n",
       "2 16S stool samples sequenced for MrOS Vitamin D study\n",
       "3 16S stool samples sequenced for MrOS Vitamin D study\n",
       "4 16S stool samples sequenced for MrOS Vitamin D study\n",
       "5 16S stool samples sequenced for MrOS Vitamin D study\n",
       "6 16S stool samples sequenced for MrOS Vitamin D study\n",
       "  Library_Construction_Protocol Linker Platform Center_Name Center_Project\n",
       "1 16S rRNA v4                   GT     Illumina BI          MrOS          \n",
       "2 16S rRNA v4                   GT     Illumina BI          MrOS          \n",
       "3 16S rRNA v4                   GT     Illumina BI          MrOS          \n",
       "4 16S rRNA v4                   GT     Illumina BI          MrOS          \n",
       "5 16S rRNA v4                   GT     Illumina BI          MrOS          \n",
       "6 16S rRNA v4                   GT     Illumina BI          MrOS          \n",
       "  Instrument_Model ⋯ M1ADEPR M1BENZO AMAMPT_C1            \n",
       "1 Illumina MiSeq   ⋯ 0: No   0: No   Missing:not collected\n",
       "2 Illumina MiSeq   ⋯ 0: No   0: No   1.0                  \n",
       "3 Illumina MiSeq   ⋯ 0: No   0: No   1.0                  \n",
       "4 Illumina MiSeq   ⋯ 0: No   0: No   1.0                  \n",
       "5 Illumina MiSeq   ⋯ 0: No   0: No   1.0                  \n",
       "6 Illumina MiSeq   ⋯ 0: No   0: No   1.0                  \n",
       "  AMFVT_C1              AMPHIT_15SD           Description      alpha_pd\n",
       "1 Missing:not collected Missing:not collected Orwoll.BI0023.BI 27.77117\n",
       "2 1.0                   0.0                   Orwoll.BI0056.BI 17.93266\n",
       "3 1.0                   0.0                   Orwoll.BI0131.BI 21.45366\n",
       "4 1.0                   -1.0                  Orwoll.BI0153.BI 18.46968\n",
       "5 0.0                   -1.0                  Orwoll.BI0215.BI 20.04983\n",
       "6 1.0                   0.0                   Orwoll.BI0353.BI 13.75183\n",
       "  observed_otus shannon  pielou_e \n",
       "1 302           5.727116 0.6951729\n",
       "2 173           3.888281 0.5229960\n",
       "3 223           4.050730 0.5192645\n",
       "4 223           4.894253 0.6273959\n",
       "5 222           5.295055 0.6793396\n",
       "6 155           4.213016 0.5790192"
      ]
     },
     "metadata": {},
     "output_type": "display_data"
    }
   ],
   "source": [
    "head(mf)"
   ]
  },
  {
   "cell_type": "code",
   "execution_count": 7,
   "metadata": {},
   "outputs": [
    {
     "data": {
      "text/html": [
       "<ol class=list-inline>\n",
       "\t<li>599</li>\n",
       "\t<li>90</li>\n",
       "</ol>\n"
      ],
      "text/latex": [
       "\\begin{enumerate*}\n",
       "\\item 599\n",
       "\\item 90\n",
       "\\end{enumerate*}\n"
      ],
      "text/markdown": [
       "1. 599\n",
       "2. 90\n",
       "\n",
       "\n"
      ],
      "text/plain": [
       "[1] 599  90"
      ]
     },
     "metadata": {},
     "output_type": "display_data"
    }
   ],
   "source": [
    "dat = merge(mf, pc_10, by='SampleName')\n",
    "dim(dat)"
   ]
  },
  {
   "cell_type": "code",
   "execution_count": 8,
   "metadata": {},
   "outputs": [
    {
     "data": {
      "text/html": [
       "<table>\n",
       "<thead><tr><th scope=col>SampleName</th><th scope=col>BarcodeSequence</th><th scope=col>LinkerPrimerSequence</th><th scope=col>Experiment_Design_Description</th><th scope=col>Library_Construction_Protocol</th><th scope=col>Linker</th><th scope=col>Platform</th><th scope=col>Center_Name</th><th scope=col>Center_Project</th><th scope=col>Instrument_Model</th><th scope=col>⋯</th><th scope=col>PC1</th><th scope=col>PC2</th><th scope=col>PC3</th><th scope=col>PC4</th><th scope=col>PC5</th><th scope=col>PC6</th><th scope=col>PC7</th><th scope=col>PC8</th><th scope=col>PC9</th><th scope=col>PC10</th></tr></thead>\n",
       "<tbody>\n",
       "\t<tr><td>BI0023                                              </td><td>TCTGGTGACATT                                        </td><td>GGACTACHVGGGTWTCTAAT                                </td><td>16S stool samples sequenced for MrOS Vitamin D study</td><td>16S rRNA v4                                         </td><td>GT                                                  </td><td>Illumina                                            </td><td>BI                                                  </td><td>MrOS                                                </td><td>Illumina MiSeq                                      </td><td>⋯                                                   </td><td>-0.182419965                                        </td><td> 0.03244704                                         </td><td> 0.017103878                                        </td><td> 0.0026633668                                       </td><td> 0.01867073                                         </td><td> 0.006386597                                        </td><td>-0.007694438                                        </td><td>-0.01643466                                         </td><td> 0.017548138                                        </td><td>-0.036995079                                        </td></tr>\n",
       "\t<tr><td>BI0056                                              </td><td>CAAGCATGCCTA                                        </td><td>GGACTACHVGGGTWTCTAAT                                </td><td>16S stool samples sequenced for MrOS Vitamin D study</td><td>16S rRNA v4                                         </td><td>GT                                                  </td><td>Illumina                                            </td><td>BI                                                  </td><td>MrOS                                                </td><td>Illumina MiSeq                                      </td><td>⋯                                                   </td><td> 0.067189060                                        </td><td>-0.06734805                                         </td><td>-0.026115733                                        </td><td>-0.0006725392                                       </td><td> 0.01139566                                         </td><td> 0.098768773                                        </td><td> 0.016512428                                        </td><td> 0.08688633                                         </td><td>-0.020694245                                        </td><td> 0.029536266                                        </td></tr>\n",
       "\t<tr><td>BI0131                                              </td><td>CTATTTGCGACA                                        </td><td>GGACTACHVGGGTWTCTAAT                                </td><td>16S stool samples sequenced for MrOS Vitamin D study</td><td>16S rRNA v4                                         </td><td>GT                                                  </td><td>Illumina                                            </td><td>BI                                                  </td><td>MrOS                                                </td><td>Illumina MiSeq                                      </td><td>⋯                                                   </td><td>-0.111184971                                        </td><td>-0.04643827                                         </td><td>-0.004327682                                        </td><td> 0.0974403021                                       </td><td>-0.08058773                                         </td><td> 0.021058176                                        </td><td>-0.042956137                                        </td><td> 0.03827265                                         </td><td>-0.037229404                                        </td><td>-0.010152724                                        </td></tr>\n",
       "\t<tr><td>BI0153                                              </td><td>ATCGGCGTTACA                                        </td><td>GGACTACHVGGGTWTCTAAT                                </td><td>16S stool samples sequenced for MrOS Vitamin D study</td><td>16S rRNA v4                                         </td><td>GT                                                  </td><td>Illumina                                            </td><td>BI                                                  </td><td>MrOS                                                </td><td>Illumina MiSeq                                      </td><td>⋯                                                   </td><td> 0.097999259                                        </td><td>-0.09336066                                         </td><td>-0.071756501                                        </td><td>-0.0835898160                                       </td><td> 0.05305107                                         </td><td> 0.050041440                                        </td><td>-0.002324747                                        </td><td>-0.02010602                                         </td><td> 0.036231161                                        </td><td>-0.004417871                                        </td></tr>\n",
       "\t<tr><td>BI0215                                              </td><td>CCTCTCGTGATC                                        </td><td>GGACTACHVGGGTWTCTAAT                                </td><td>16S stool samples sequenced for MrOS Vitamin D study</td><td>16S rRNA v4                                         </td><td>GT                                                  </td><td>Illumina                                            </td><td>BI                                                  </td><td>MrOS                                                </td><td>Illumina MiSeq                                      </td><td>⋯                                                   </td><td> 0.002442947                                        </td><td>-0.07331568                                         </td><td>-0.110321389                                        </td><td>-0.0046953357                                       </td><td> 0.03923230                                         </td><td>-0.011564637                                        </td><td>-0.076558892                                        </td><td>-0.02143262                                         </td><td> 0.004434227                                        </td><td> 0.038072632                                        </td></tr>\n",
       "\t<tr><td>BI0353                                              </td><td>TGCCATCTGAAT                                        </td><td>GGACTACHVGGGTWTCTAAT                                </td><td>16S stool samples sequenced for MrOS Vitamin D study</td><td>16S rRNA v4                                         </td><td>GT                                                  </td><td>Illumina                                            </td><td>BI                                                  </td><td>MrOS                                                </td><td>Illumina MiSeq                                      </td><td>⋯                                                   </td><td> 0.174613245                                        </td><td>-0.07619972                                         </td><td>-0.019615397                                        </td><td>-0.0424383862                                       </td><td>-0.14655369                                         </td><td> 0.032315761                                        </td><td> 0.083495446                                        </td><td>-0.05848061                                         </td><td> 0.063405369                                        </td><td> 0.120107415                                        </td></tr>\n",
       "</tbody>\n",
       "</table>\n"
      ],
      "text/latex": [
       "\\begin{tabular}{r|llllllllllllllllllllllllllllllllllllllllllllllllllllllllllllllllllllllllllllllllllllllllll}\n",
       " SampleName & BarcodeSequence & LinkerPrimerSequence & Experiment\\_Design\\_Description & Library\\_Construction\\_Protocol & Linker & Platform & Center\\_Name & Center\\_Project & Instrument\\_Model & ⋯ & PC1 & PC2 & PC3 & PC4 & PC5 & PC6 & PC7 & PC8 & PC9 & PC10\\\\\n",
       "\\hline\n",
       "\t BI0023                                               & TCTGGTGACATT                                         & GGACTACHVGGGTWTCTAAT                                 & 16S stool samples sequenced for MrOS Vitamin D study & 16S rRNA v4                                          & GT                                                   & Illumina                                             & BI                                                   & MrOS                                                 & Illumina MiSeq                                       & ⋯                                                    & -0.182419965                                         &  0.03244704                                          &  0.017103878                                         &  0.0026633668                                        &  0.01867073                                          &  0.006386597                                         & -0.007694438                                         & -0.01643466                                          &  0.017548138                                         & -0.036995079                                        \\\\\n",
       "\t BI0056                                               & CAAGCATGCCTA                                         & GGACTACHVGGGTWTCTAAT                                 & 16S stool samples sequenced for MrOS Vitamin D study & 16S rRNA v4                                          & GT                                                   & Illumina                                             & BI                                                   & MrOS                                                 & Illumina MiSeq                                       & ⋯                                                    &  0.067189060                                         & -0.06734805                                          & -0.026115733                                         & -0.0006725392                                        &  0.01139566                                          &  0.098768773                                         &  0.016512428                                         &  0.08688633                                          & -0.020694245                                         &  0.029536266                                        \\\\\n",
       "\t BI0131                                               & CTATTTGCGACA                                         & GGACTACHVGGGTWTCTAAT                                 & 16S stool samples sequenced for MrOS Vitamin D study & 16S rRNA v4                                          & GT                                                   & Illumina                                             & BI                                                   & MrOS                                                 & Illumina MiSeq                                       & ⋯                                                    & -0.111184971                                         & -0.04643827                                          & -0.004327682                                         &  0.0974403021                                        & -0.08058773                                          &  0.021058176                                         & -0.042956137                                         &  0.03827265                                          & -0.037229404                                         & -0.010152724                                        \\\\\n",
       "\t BI0153                                               & ATCGGCGTTACA                                         & GGACTACHVGGGTWTCTAAT                                 & 16S stool samples sequenced for MrOS Vitamin D study & 16S rRNA v4                                          & GT                                                   & Illumina                                             & BI                                                   & MrOS                                                 & Illumina MiSeq                                       & ⋯                                                    &  0.097999259                                         & -0.09336066                                          & -0.071756501                                         & -0.0835898160                                        &  0.05305107                                          &  0.050041440                                         & -0.002324747                                         & -0.02010602                                          &  0.036231161                                         & -0.004417871                                        \\\\\n",
       "\t BI0215                                               & CCTCTCGTGATC                                         & GGACTACHVGGGTWTCTAAT                                 & 16S stool samples sequenced for MrOS Vitamin D study & 16S rRNA v4                                          & GT                                                   & Illumina                                             & BI                                                   & MrOS                                                 & Illumina MiSeq                                       & ⋯                                                    &  0.002442947                                         & -0.07331568                                          & -0.110321389                                         & -0.0046953357                                        &  0.03923230                                          & -0.011564637                                         & -0.076558892                                         & -0.02143262                                          &  0.004434227                                         &  0.038072632                                        \\\\\n",
       "\t BI0353                                               & TGCCATCTGAAT                                         & GGACTACHVGGGTWTCTAAT                                 & 16S stool samples sequenced for MrOS Vitamin D study & 16S rRNA v4                                          & GT                                                   & Illumina                                             & BI                                                   & MrOS                                                 & Illumina MiSeq                                       & ⋯                                                    &  0.174613245                                         & -0.07619972                                          & -0.019615397                                         & -0.0424383862                                        & -0.14655369                                          &  0.032315761                                         &  0.083495446                                         & -0.05848061                                          &  0.063405369                                         &  0.120107415                                        \\\\\n",
       "\\end{tabular}\n"
      ],
      "text/markdown": [
       "\n",
       "SampleName | BarcodeSequence | LinkerPrimerSequence | Experiment_Design_Description | Library_Construction_Protocol | Linker | Platform | Center_Name | Center_Project | Instrument_Model | ⋯ | PC1 | PC2 | PC3 | PC4 | PC5 | PC6 | PC7 | PC8 | PC9 | PC10 | \n",
       "|---|---|---|---|---|---|\n",
       "| BI0023                                               | TCTGGTGACATT                                         | GGACTACHVGGGTWTCTAAT                                 | 16S stool samples sequenced for MrOS Vitamin D study | 16S rRNA v4                                          | GT                                                   | Illumina                                             | BI                                                   | MrOS                                                 | Illumina MiSeq                                       | ⋯                                                    | -0.182419965                                         |  0.03244704                                          |  0.017103878                                         |  0.0026633668                                        |  0.01867073                                          |  0.006386597                                         | -0.007694438                                         | -0.01643466                                          |  0.017548138                                         | -0.036995079                                         | \n",
       "| BI0056                                               | CAAGCATGCCTA                                         | GGACTACHVGGGTWTCTAAT                                 | 16S stool samples sequenced for MrOS Vitamin D study | 16S rRNA v4                                          | GT                                                   | Illumina                                             | BI                                                   | MrOS                                                 | Illumina MiSeq                                       | ⋯                                                    |  0.067189060                                         | -0.06734805                                          | -0.026115733                                         | -0.0006725392                                        |  0.01139566                                          |  0.098768773                                         |  0.016512428                                         |  0.08688633                                          | -0.020694245                                         |  0.029536266                                         | \n",
       "| BI0131                                               | CTATTTGCGACA                                         | GGACTACHVGGGTWTCTAAT                                 | 16S stool samples sequenced for MrOS Vitamin D study | 16S rRNA v4                                          | GT                                                   | Illumina                                             | BI                                                   | MrOS                                                 | Illumina MiSeq                                       | ⋯                                                    | -0.111184971                                         | -0.04643827                                          | -0.004327682                                         |  0.0974403021                                        | -0.08058773                                          |  0.021058176                                         | -0.042956137                                         |  0.03827265                                          | -0.037229404                                         | -0.010152724                                         | \n",
       "| BI0153                                               | ATCGGCGTTACA                                         | GGACTACHVGGGTWTCTAAT                                 | 16S stool samples sequenced for MrOS Vitamin D study | 16S rRNA v4                                          | GT                                                   | Illumina                                             | BI                                                   | MrOS                                                 | Illumina MiSeq                                       | ⋯                                                    |  0.097999259                                         | -0.09336066                                          | -0.071756501                                         | -0.0835898160                                        |  0.05305107                                          |  0.050041440                                         | -0.002324747                                         | -0.02010602                                          |  0.036231161                                         | -0.004417871                                         | \n",
       "| BI0215                                               | CCTCTCGTGATC                                         | GGACTACHVGGGTWTCTAAT                                 | 16S stool samples sequenced for MrOS Vitamin D study | 16S rRNA v4                                          | GT                                                   | Illumina                                             | BI                                                   | MrOS                                                 | Illumina MiSeq                                       | ⋯                                                    |  0.002442947                                         | -0.07331568                                          | -0.110321389                                         | -0.0046953357                                        |  0.03923230                                          | -0.011564637                                         | -0.076558892                                         | -0.02143262                                          |  0.004434227                                         |  0.038072632                                         | \n",
       "| BI0353                                               | TGCCATCTGAAT                                         | GGACTACHVGGGTWTCTAAT                                 | 16S stool samples sequenced for MrOS Vitamin D study | 16S rRNA v4                                          | GT                                                   | Illumina                                             | BI                                                   | MrOS                                                 | Illumina MiSeq                                       | ⋯                                                    |  0.174613245                                         | -0.07619972                                          | -0.019615397                                         | -0.0424383862                                        | -0.14655369                                          |  0.032315761                                         |  0.083495446                                         | -0.05848061                                          |  0.063405369                                         |  0.120107415                                         | \n",
       "\n",
       "\n"
      ],
      "text/plain": [
       "  SampleName BarcodeSequence LinkerPrimerSequence\n",
       "1 BI0023     TCTGGTGACATT    GGACTACHVGGGTWTCTAAT\n",
       "2 BI0056     CAAGCATGCCTA    GGACTACHVGGGTWTCTAAT\n",
       "3 BI0131     CTATTTGCGACA    GGACTACHVGGGTWTCTAAT\n",
       "4 BI0153     ATCGGCGTTACA    GGACTACHVGGGTWTCTAAT\n",
       "5 BI0215     CCTCTCGTGATC    GGACTACHVGGGTWTCTAAT\n",
       "6 BI0353     TGCCATCTGAAT    GGACTACHVGGGTWTCTAAT\n",
       "  Experiment_Design_Description                       \n",
       "1 16S stool samples sequenced for MrOS Vitamin D study\n",
       "2 16S stool samples sequenced for MrOS Vitamin D study\n",
       "3 16S stool samples sequenced for MrOS Vitamin D study\n",
       "4 16S stool samples sequenced for MrOS Vitamin D study\n",
       "5 16S stool samples sequenced for MrOS Vitamin D study\n",
       "6 16S stool samples sequenced for MrOS Vitamin D study\n",
       "  Library_Construction_Protocol Linker Platform Center_Name Center_Project\n",
       "1 16S rRNA v4                   GT     Illumina BI          MrOS          \n",
       "2 16S rRNA v4                   GT     Illumina BI          MrOS          \n",
       "3 16S rRNA v4                   GT     Illumina BI          MrOS          \n",
       "4 16S rRNA v4                   GT     Illumina BI          MrOS          \n",
       "5 16S rRNA v4                   GT     Illumina BI          MrOS          \n",
       "6 16S rRNA v4                   GT     Illumina BI          MrOS          \n",
       "  Instrument_Model ⋯ PC1          PC2         PC3          PC4          \n",
       "1 Illumina MiSeq   ⋯ -0.182419965  0.03244704  0.017103878  0.0026633668\n",
       "2 Illumina MiSeq   ⋯  0.067189060 -0.06734805 -0.026115733 -0.0006725392\n",
       "3 Illumina MiSeq   ⋯ -0.111184971 -0.04643827 -0.004327682  0.0974403021\n",
       "4 Illumina MiSeq   ⋯  0.097999259 -0.09336066 -0.071756501 -0.0835898160\n",
       "5 Illumina MiSeq   ⋯  0.002442947 -0.07331568 -0.110321389 -0.0046953357\n",
       "6 Illumina MiSeq   ⋯  0.174613245 -0.07619972 -0.019615397 -0.0424383862\n",
       "  PC5         PC6          PC7          PC8         PC9          PC10        \n",
       "1  0.01867073  0.006386597 -0.007694438 -0.01643466  0.017548138 -0.036995079\n",
       "2  0.01139566  0.098768773  0.016512428  0.08688633 -0.020694245  0.029536266\n",
       "3 -0.08058773  0.021058176 -0.042956137  0.03827265 -0.037229404 -0.010152724\n",
       "4  0.05305107  0.050041440 -0.002324747 -0.02010602  0.036231161 -0.004417871\n",
       "5  0.03923230 -0.011564637 -0.076558892 -0.02143262  0.004434227  0.038072632\n",
       "6 -0.14655369  0.032315761  0.083495446 -0.05848061  0.063405369  0.120107415"
      ]
     },
     "metadata": {},
     "output_type": "display_data"
    }
   ],
   "source": [
    "head(dat)"
   ]
  },
  {
   "cell_type": "code",
   "execution_count": 10,
   "metadata": {},
   "outputs": [],
   "source": [
    "# convert categorial to factors\n",
    "vars_cat = c('GIERACE', 'SITE', 'GIMSTAT', 'MHDIAB', 'MHRHEU1', 'MHOA', 'MHCHF', 'MHMI', 'MHDEPR', \n",
    "             'TUDRAMT_REVISED', 'PQPSLMED', 'PQPSQUAL', 'QLCOMP', 'SLEEPHRS', 'PQBADSLP', \n",
    "             'TURSMOKE', 'M1ADEPR', 'M1BENZO', 'PQPEFFIC', 'AMAMPT_C1', 'AMFVT_C1', 'AMPHIT_15SD')\n",
    "dat[vars_cat] = lapply(dat[vars_cat], factor)\n",
    "\n",
    "# # convert continuous to numeric\n",
    "vars_cts = c('Age', 'BMI', 'PASCORE')\n",
    "vars_pcs = c('PC1', 'PC2', 'PC3', 'PC4', 'PC5', 'PC6', 'PC7', 'PC8', 'PC9', 'PC10')"
   ]
  },
  {
   "cell_type": "code",
   "execution_count": 11,
   "metadata": {},
   "outputs": [
    {
     "data": {
      "text/html": [
       "22"
      ],
      "text/latex": [
       "22"
      ],
      "text/markdown": [
       "22"
      ],
      "text/plain": [
       "[1] 22"
      ]
     },
     "metadata": {},
     "output_type": "display_data"
    },
    {
     "data": {
      "text/html": [
       "3"
      ],
      "text/latex": [
       "3"
      ],
      "text/markdown": [
       "3"
      ],
      "text/plain": [
       "[1] 3"
      ]
     },
     "metadata": {},
     "output_type": "display_data"
    },
    {
     "data": {
      "text/html": [
       "10"
      ],
      "text/latex": [
       "10"
      ],
      "text/markdown": [
       "10"
      ],
      "text/plain": [
       "[1] 10"
      ]
     },
     "metadata": {},
     "output_type": "display_data"
    }
   ],
   "source": [
    "length(vars_cat)\n",
    "length(vars_cts)\n",
    "length(vars_pcs)"
   ]
  },
  {
   "cell_type": "code",
   "execution_count": 12,
   "metadata": {},
   "outputs": [
    {
     "data": {
      "text/html": [
       "<ol class=list-inline>\n",
       "\t<li>599</li>\n",
       "\t<li>25</li>\n",
       "</ol>\n"
      ],
      "text/latex": [
       "\\begin{enumerate*}\n",
       "\\item 599\n",
       "\\item 25\n",
       "\\end{enumerate*}\n"
      ],
      "text/markdown": [
       "1. 599\n",
       "2. 25\n",
       "\n",
       "\n"
      ],
      "text/plain": [
       "[1] 599  25"
      ]
     },
     "metadata": {},
     "output_type": "display_data"
    },
    {
     "data": {
      "text/html": [
       "<ol class=list-inline>\n",
       "\t<li>599</li>\n",
       "\t<li>10</li>\n",
       "</ol>\n"
      ],
      "text/latex": [
       "\\begin{enumerate*}\n",
       "\\item 599\n",
       "\\item 10\n",
       "\\end{enumerate*}\n"
      ],
      "text/markdown": [
       "1. 599\n",
       "2. 10\n",
       "\n",
       "\n"
      ],
      "text/plain": [
       "[1] 599  10"
      ]
     },
     "metadata": {},
     "output_type": "display_data"
    }
   ],
   "source": [
    "dat = dat[c(vars_cat, vars_cts, vars_pcs)]\n",
    "dat = dat[complete.cases(dat), ]\n",
    "X = dat[c(vars_cat, vars_cts)]\n",
    "Y = dat[, vars_pcs]\n",
    "\n",
    "dim(X)\n",
    "dim(Y)"
   ]
  },
  {
   "cell_type": "code",
   "execution_count": 13,
   "metadata": {},
   "outputs": [
    {
     "data": {
      "text/plain": [
       "               GIERACE             SITE                         GIMSTAT   \n",
       " 1:WHITE           :520   Birmingham : 75   1: Married              :428  \n",
       " 2:AFRICAN AMERICAN: 24   Minneapolis: 91   2: Widowed              :120  \n",
       " 3:ASIAN           : 34   Palo Alto  : 86   4: Divorced             : 35  \n",
       " 4:HISPANIC        : 12   Pittsburgh : 92   5: Single, never married: 16  \n",
       " 5:OTHER           :  9   Portland   :121                                 \n",
       "                          San Diego  :134                                 \n",
       "                                                                          \n",
       "    MHDIAB      MHRHEU1        MHOA        MHCHF         MHMI        MHDEPR   \n",
       " 0: No :508   0: No :552   0: No :450   0: No :550   0: No :520   0: No :542  \n",
       " 1: Yes: 91   1: Yes: 47   1: Yes:149   1: Yes: 49   1: Yes: 79   1: Yes: 57  \n",
       "                                                                              \n",
       "                                                                              \n",
       "                                                                              \n",
       "                                                                              \n",
       "                                                                              \n",
       "                        TUDRAMT_REVISED                          PQPSLMED  \n",
       " .                              :  2    0: Not during the past month :454  \n",
       " 0:None drinker                 :230    1: Less than once a week     : 40  \n",
       " 1: Less than one drink per week: 78    2: Once or twice a week      : 23  \n",
       " 2: 1-2drinks per week          : 66    3: Three or more times a week: 82  \n",
       " 3: 3-5 drinks per week         : 90                                       \n",
       " 4: 6-13 drinks per week        :106                                       \n",
       " 5: 14 or more drinks per week  : 27                                       \n",
       "           PQPSQUAL                QLCOMP                     SLEEPHRS  \n",
       " 0: Very good  :208   0:PR/VPOOR/FAIR : 66   1: <=6 HRS           :153  \n",
       " 1: Fairly good:337   1:GOOD/EXCELLENT:533   2: 7 HRS             :143  \n",
       " 2: Fairly bad : 50                          3:>=8 HRS            :128  \n",
       " 3: Very bad   :  4                          Missing:not collected:175  \n",
       "                                                                        \n",
       "                                                                        \n",
       "                                                                        \n",
       "   PQBADSLP               TURSMOKE     M1ADEPR      M1BENZO   \n",
       " 0: No :359   0:NO            :230   0: No :546   0: No :580  \n",
       " 1: Yes:240   1:PAST          :289   1: Yes: 53   1: Yes: 19  \n",
       "              2:CURRENT       :  9                            \n",
       "              M:Not Applicable: 71                            \n",
       "                                                              \n",
       "                                                              \n",
       "                                                              \n",
       "                        PQPEFFIC                   AMAMPT_C1  \n",
       " 0:>85% EFFICIENCY          :374   0.0                  :139  \n",
       " 1:>=75% TO <=85% EFFICIENCY:132   1.0                  :279  \n",
       " 2:>=65% TO <75% EFFICIENCY : 55   Missing:not collected:181  \n",
       " 3:<65% EFFICIENCY          : 36                              \n",
       " W:Weird Value              :  2                              \n",
       "                                                              \n",
       "                                                              \n",
       "                  AMFVT_C1                  AMPHIT_15SD       Age       \n",
       " 0.0                  :139   -1.0                 : 28   Min.   :78.00  \n",
       " 1.0                  :279   0.0                  :371   1st Qu.:81.00  \n",
       " Missing:not collected:181   1.0                  : 19   Median :83.00  \n",
       "                             Missing:not collected:181   Mean   :84.24  \n",
       "                                                         3rd Qu.:87.00  \n",
       "                                                         Max.   :98.00  \n",
       "                                                                        \n",
       "      BMI           PASCORE      \n",
       " Min.   :17.60   Min.   :  0.00  \n",
       " 1st Qu.:24.51   1st Qu.: 70.14  \n",
       " Median :26.72   Median :116.75  \n",
       " Mean   :27.01   Mean   :122.48  \n",
       " 3rd Qu.:28.98   3rd Qu.:165.79  \n",
       " Max.   :42.93   Max.   :359.14  \n",
       "                                 "
      ]
     },
     "metadata": {},
     "output_type": "display_data"
    }
   ],
   "source": [
    "summary(X)"
   ]
  },
  {
   "cell_type": "code",
   "execution_count": 14,
   "metadata": {},
   "outputs": [
    {
     "data": {
      "text/plain": [
       "      PC1                PC2                 PC3                 PC4           \n",
       " Min.   :-0.25630   Min.   :-0.191853   Min.   :-0.135672   Min.   :-0.214274  \n",
       " 1st Qu.:-0.12846   1st Qu.:-0.055930   1st Qu.:-0.050289   1st Qu.:-0.047030  \n",
       " Median :-0.01419   Median :-0.002753   Median :-0.007653   Median :-0.009062  \n",
       " Mean   : 0.00000   Mean   : 0.000000   Mean   : 0.000000   Mean   : 0.000000  \n",
       " 3rd Qu.: 0.12143   3rd Qu.: 0.056308   3rd Qu.: 0.042710   3rd Qu.: 0.050145  \n",
       " Max.   : 0.32462   Max.   : 0.235634   Max.   : 0.328623   Max.   : 0.192971  \n",
       "      PC5                 PC6                 PC7            \n",
       " Min.   :-0.212809   Min.   :-0.176948   Min.   :-0.1475112  \n",
       " 1st Qu.:-0.037351   1st Qu.:-0.038630   1st Qu.:-0.0330017  \n",
       " Median : 0.001394   Median : 0.002823   Median : 0.0003311  \n",
       " Mean   : 0.000000   Mean   : 0.000000   Mean   : 0.0000000  \n",
       " 3rd Qu.: 0.036739   3rd Qu.: 0.037061   3rd Qu.: 0.0316095  \n",
       " Max.   : 0.161070   Max.   : 0.171400   Max.   : 0.1544093  \n",
       "      PC8                 PC9                  PC10         \n",
       " Min.   :-0.162086   Min.   :-0.1269446   Min.   :-0.13752  \n",
       " 1st Qu.:-0.032377   1st Qu.:-0.0331870   1st Qu.:-0.02996  \n",
       " Median : 0.002337   Median :-0.0001616   Median :-0.00183  \n",
       " Mean   : 0.000000   Mean   : 0.0000000   Mean   : 0.00000  \n",
       " 3rd Qu.: 0.033198   3rd Qu.: 0.0347426   3rd Qu.: 0.02679  \n",
       " Max.   : 0.138253   Max.   : 0.1882994   Max.   : 0.14075  "
      ]
     },
     "metadata": {},
     "output_type": "display_data"
    }
   ],
   "source": [
    "summary(Y)"
   ]
  },
  {
   "cell_type": "code",
   "execution_count": 15,
   "metadata": {},
   "outputs": [],
   "source": [
    "mod0 <- rda(Y ~ 1., X)  # Model with intercept only\n",
    "mod1 <- rda(Y ~ ., X)  # Model with all explanatory variables"
   ]
  },
  {
   "cell_type": "code",
   "execution_count": 16,
   "metadata": {},
   "outputs": [
    {
     "name": "stdout",
     "output_type": "stream",
     "text": [
      "Step: R2.adj= 0 \n",
      "Call: Y ~ 1 \n",
      " \n",
      "                    R2.adjusted\n",
      "<All variables>    0.0575650846\n",
      "+ GIERACE          0.0155257812\n",
      "+ MHDIAB           0.0112391765\n",
      "+ SITE             0.0110057437\n",
      "+ PQBADSLP         0.0075441451\n",
      "+ M1ADEPR          0.0075294964\n",
      "+ TUDRAMT_REVISED  0.0068528160\n",
      "+ BMI              0.0040565363\n",
      "+ PQPSQUAL         0.0037937180\n",
      "+ PASCORE          0.0036656014\n",
      "+ TURSMOKE         0.0032938111\n",
      "+ M1BENZO          0.0028202262\n",
      "+ AMPHIT_15SD      0.0025674749\n",
      "+ QLCOMP           0.0025335988\n",
      "+ SLEEPHRS         0.0025202066\n",
      "+ Age              0.0024839919\n",
      "+ GIMSTAT          0.0023888316\n",
      "+ MHDEPR           0.0014613132\n",
      "+ AMFVT_C1         0.0011129643\n",
      "+ PQPEFFIC         0.0010023318\n",
      "+ MHCHF            0.0001422991\n",
      "<none>             0.0000000000\n",
      "+ AMAMPT_C1       -0.0004884626\n",
      "+ MHOA            -0.0005313149\n",
      "+ PQPSLMED        -0.0005821444\n",
      "+ MHMI            -0.0006902563\n",
      "+ MHRHEU1         -0.0010652354\n",
      "\n",
      "          Df     AIC      F Pr(>F)   \n",
      "+ GIERACE  4 -1781.3 3.3577  0.002 **\n",
      "---\n",
      "Signif. codes:  0 ‘***’ 0.001 ‘**’ 0.01 ‘*’ 0.05 ‘.’ 0.1 ‘ ’ 1\n",
      "\n",
      "Step: R2.adj= 0.01552578 \n",
      "Call: Y ~ GIERACE \n",
      " \n",
      "                  R2.adjusted\n",
      "<All variables>    0.05756508\n",
      "+ MHDIAB           0.02546317\n",
      "+ SITE             0.02517494\n",
      "+ M1ADEPR          0.02406433\n",
      "+ PQBADSLP         0.02322226\n",
      "+ BMI              0.02164393\n",
      "+ TUDRAMT_REVISED  0.02048569\n",
      "+ PASCORE          0.01965107\n",
      "+ AMPHIT_15SD      0.01957223\n",
      "+ TURSMOKE         0.01922387\n",
      "+ M1BENZO          0.01900690\n",
      "+ PQPSQUAL         0.01862620\n",
      "+ SLEEPHRS         0.01824480\n",
      "+ QLCOMP           0.01807314\n",
      "+ Age              0.01799099\n",
      "+ MHDEPR           0.01787604\n",
      "+ GIMSTAT          0.01762893\n",
      "+ AMFVT_C1         0.01691659\n",
      "+ PQPEFFIC         0.01630088\n",
      "+ MHCHF            0.01579095\n",
      "<none>             0.01552578\n",
      "+ AMAMPT_C1        0.01519311\n",
      "+ MHOA             0.01510212\n",
      "+ PQPSLMED         0.01495799\n",
      "+ MHRHEU1          0.01486409\n",
      "+ MHMI             0.01467594\n",
      "\n",
      "         Df     AIC     F Pr(>F)   \n",
      "+ MHDIAB  1 -1786.4 7.057  0.002 **\n",
      "---\n",
      "Signif. codes:  0 ‘***’ 0.001 ‘**’ 0.01 ‘*’ 0.05 ‘.’ 0.1 ‘ ’ 1\n",
      "\n",
      "Step: R2.adj= 0.02546317 \n",
      "Call: Y ~ GIERACE + MHDIAB \n",
      " \n",
      "                  R2.adjusted\n",
      "<All variables>    0.05756508\n",
      "+ M1ADEPR          0.03370979\n",
      "+ SITE             0.03322982\n",
      "+ PQBADSLP         0.03194154\n",
      "+ BMI              0.03060335\n",
      "+ TURSMOKE         0.02914009\n",
      "+ M1BENZO          0.02889928\n",
      "+ TUDRAMT_REVISED  0.02881132\n",
      "+ AMPHIT_15SD      0.02840264\n",
      "+ PQPSQUAL         0.02817548\n",
      "+ SLEEPHRS         0.02808870\n",
      "+ PASCORE          0.02808230\n",
      "+ GIMSTAT          0.02789753\n",
      "+ Age              0.02762817\n",
      "+ MHDEPR           0.02758168\n",
      "+ QLCOMP           0.02687210\n",
      "+ AMFVT_C1         0.02595699\n",
      "<none>             0.02546317\n",
      "+ MHCHF            0.02538336\n",
      "+ AMAMPT_C1        0.02528273\n",
      "+ PQPEFFIC         0.02525115\n",
      "+ MHOA             0.02515756\n",
      "+ MHRHEU1          0.02499222\n",
      "+ PQPSLMED         0.02482941\n",
      "+ MHMI             0.02466632\n",
      "\n",
      "          Df     AIC      F Pr(>F)   \n",
      "+ M1ADEPR  1 -1790.5 6.0608  0.002 **\n",
      "---\n",
      "Signif. codes:  0 ‘***’ 0.001 ‘**’ 0.01 ‘*’ 0.05 ‘.’ 0.1 ‘ ’ 1\n",
      "\n",
      "Step: R2.adj= 0.03370979 \n",
      "Call: Y ~ GIERACE + MHDIAB + M1ADEPR \n",
      " \n",
      "                  R2.adjusted\n",
      "<All variables>    0.05756508\n",
      "+ SITE             0.04109044\n",
      "+ BMI              0.03909500\n",
      "+ PQBADSLP         0.03859716\n",
      "+ GIMSTAT          0.03701237\n",
      "+ TURSMOKE         0.03694887\n",
      "+ SLEEPHRS         0.03672106\n",
      "+ AMPHIT_15SD      0.03646811\n",
      "+ PQPSQUAL         0.03635863\n",
      "+ TUDRAMT_REVISED  0.03604409\n",
      "+ Age              0.03593676\n",
      "+ PASCORE          0.03593533\n",
      "+ M1BENZO          0.03568895\n",
      "+ QLCOMP           0.03501395\n",
      "+ AMFVT_C1         0.03376639\n",
      "<none>             0.03370979\n",
      "+ MHCHF            0.03362270\n",
      "+ MHOA             0.03360446\n",
      "+ MHRHEU1          0.03349365\n",
      "+ AMAMPT_C1        0.03345049\n",
      "+ PQPEFFIC         0.03316460\n",
      "+ MHMI             0.03298966\n",
      "+ PQPSLMED         0.03283176\n",
      "+ MHDEPR           0.03276564\n",
      "\n",
      "       Df     AIC      F Pr(>F)  \n",
      "+ SITE  5 -1790.2 1.9113  0.012 *\n",
      "---\n",
      "Signif. codes:  0 ‘***’ 0.001 ‘**’ 0.01 ‘*’ 0.05 ‘.’ 0.1 ‘ ’ 1\n",
      "\n",
      "Step: R2.adj= 0.04109044 \n",
      "Call: Y ~ GIERACE + MHDIAB + M1ADEPR + SITE \n",
      " \n",
      "                  R2.adjusted\n",
      "<All variables>    0.05756508\n",
      "+ BMI              0.04572775\n",
      "+ PQBADSLP         0.04551160\n",
      "+ PASCORE          0.04434815\n",
      "+ TURSMOKE         0.04417115\n",
      "+ AMPHIT_15SD      0.04359224\n",
      "+ PQPSQUAL         0.04354494\n",
      "+ Age              0.04316194\n",
      "+ SLEEPHRS         0.04310963\n",
      "+ GIMSTAT          0.04300834\n",
      "+ QLCOMP           0.04254804\n",
      "+ M1BENZO          0.04224415\n",
      "+ TUDRAMT_REVISED  0.04151077\n",
      "+ AMFVT_C1         0.04147038\n",
      "<none>             0.04109044\n",
      "+ MHCHF            0.04108882\n",
      "+ AMAMPT_C1        0.04085564\n",
      "+ MHRHEU1          0.04067808\n",
      "+ MHOA             0.04064881\n",
      "+ MHMI             0.04055782\n",
      "+ PQPEFFIC         0.04029889\n",
      "+ MHDEPR           0.04017400\n",
      "+ PQPSLMED         0.04013661\n",
      "\n",
      "      Df     AIC      F Pr(>F)   \n",
      "+ BMI  1 -1792.1 3.8525  0.008 **\n",
      "---\n",
      "Signif. codes:  0 ‘***’ 0.001 ‘**’ 0.01 ‘*’ 0.05 ‘.’ 0.1 ‘ ’ 1\n",
      "\n",
      "Step: R2.adj= 0.04572775 \n",
      "Call: Y ~ GIERACE + MHDIAB + M1ADEPR + SITE + BMI \n",
      " \n",
      "                  R2.adjusted\n",
      "<All variables>    0.05756508\n",
      "+ PQBADSLP         0.04982265\n",
      "+ TURSMOKE         0.04887920\n",
      "+ PASCORE          0.04851404\n",
      "+ PQPSQUAL         0.04837786\n",
      "+ SLEEPHRS         0.04812175\n",
      "+ AMPHIT_15SD      0.04764269\n",
      "+ GIMSTAT          0.04751324\n",
      "+ QLCOMP           0.04729112\n",
      "+ Age              0.04716981\n",
      "+ M1BENZO          0.04667184\n",
      "+ TUDRAMT_REVISED  0.04610911\n",
      "+ AMFVT_C1         0.04609153\n",
      "+ MHCHF            0.04578679\n",
      "<none>             0.04572775\n",
      "+ AMAMPT_C1        0.04558257\n",
      "+ MHRHEU1          0.04522578\n",
      "+ MHMI             0.04520378\n",
      "+ PQPEFFIC         0.04499308\n",
      "+ PQPSLMED         0.04492900\n",
      "+ MHOA             0.04490647\n",
      "+ MHDEPR           0.04481761\n",
      "\n",
      "           Df     AIC      F Pr(>F)   \n",
      "+ PQBADSLP  1 -1793.7 3.5254   0.01 **\n",
      "---\n",
      "Signif. codes:  0 ‘***’ 0.001 ‘**’ 0.01 ‘*’ 0.05 ‘.’ 0.1 ‘ ’ 1\n",
      "\n",
      "Step: R2.adj= 0.04982265 \n",
      "Call: Y ~ GIERACE + MHDIAB + M1ADEPR + SITE + BMI + PQBADSLP \n",
      " \n",
      "                  R2.adjusted\n",
      "<All variables>    0.05756508\n",
      "+ TURSMOKE         0.05306391\n",
      "+ PASCORE          0.05214891\n",
      "+ GIMSTAT          0.05209770\n",
      "+ AMPHIT_15SD      0.05180078\n",
      "+ SLEEPHRS         0.05179679\n",
      "+ Age              0.05133191\n",
      "+ PQPSQUAL         0.05111796\n",
      "+ QLCOMP           0.05099999\n",
      "+ PQPSLMED         0.05038506\n",
      "+ M1BENZO          0.05037781\n",
      "+ TUDRAMT_REVISED  0.05001302\n",
      "+ MHCHF            0.04987671\n",
      "+ AMFVT_C1         0.04986193\n",
      "<none>             0.04982265\n",
      "+ AMAMPT_C1        0.04951917\n",
      "+ MHMI             0.04932985\n",
      "+ MHRHEU1          0.04897463\n",
      "+ MHOA             0.04892340\n",
      "+ MHDEPR           0.04879415\n",
      "+ PQPEFFIC         0.04801409\n",
      "\n",
      "           Df     AIC      F Pr(>F)  \n",
      "+ TURSMOKE  3 -1792.8 1.6675  0.044 *\n",
      "---\n",
      "Signif. codes:  0 ‘***’ 0.001 ‘**’ 0.01 ‘*’ 0.05 ‘.’ 0.1 ‘ ’ 1\n",
      "\n",
      "Step: R2.adj= 0.05306391 \n",
      "Call: Y ~ GIERACE + MHDIAB + M1ADEPR + SITE + BMI + PQBADSLP + TURSMOKE \n",
      " \n",
      "                  R2.adjusted\n",
      "<All variables>    0.05756508\n",
      "+ GIMSTAT          0.05627986\n",
      "+ PASCORE          0.05514026\n",
      "+ SLEEPHRS         0.05496918\n",
      "+ AMPHIT_15SD      0.05476620\n",
      "+ Age              0.05416904\n",
      "+ PQPSQUAL         0.05390745\n",
      "+ QLCOMP           0.05377782\n",
      "+ PQPSLMED         0.05360614\n",
      "+ M1BENZO          0.05345672\n",
      "+ TUDRAMT_REVISED  0.05331330\n",
      "<none>             0.05306391\n",
      "+ MHCHF            0.05302661\n",
      "+ AMFVT_C1         0.05260157\n",
      "+ MHMI             0.05252630\n",
      "+ MHOA             0.05230750\n",
      "+ AMAMPT_C1        0.05230541\n",
      "+ MHRHEU1          0.05225551\n",
      "+ MHDEPR           0.05210621\n",
      "+ PQPEFFIC         0.05137891\n",
      "\n",
      "          Df   AIC      F Pr(>F)  \n",
      "+ GIMSTAT  3 -1792 1.6611  0.058 .\n",
      "---\n",
      "Signif. codes:  0 ‘***’ 0.001 ‘**’ 0.01 ‘*’ 0.05 ‘.’ 0.1 ‘ ’ 1\n",
      "\n"
     ]
    }
   ],
   "source": [
    "step.res <- ordiR2step(mod0, mod1, perm.max = 1000)"
   ]
  },
  {
   "cell_type": "code",
   "execution_count": 17,
   "metadata": {},
   "outputs": [
    {
     "data": {
      "text/html": [
       "<table>\n",
       "<thead><tr><th></th><th scope=col>R2.adj</th><th scope=col>Df</th><th scope=col>AIC</th><th scope=col>F</th><th scope=col>Pr(&gt;F)</th></tr></thead>\n",
       "<tbody>\n",
       "\t<tr><th scope=row>+ GIERACE</th><td>0.01552578</td><td> 4        </td><td>-1781.328 </td><td>3.357710  </td><td>0.002     </td></tr>\n",
       "\t<tr><th scope=row>+ MHDIAB</th><td>0.02546317</td><td> 1        </td><td>-1786.414 </td><td>7.057037  </td><td>0.002     </td></tr>\n",
       "\t<tr><th scope=row>+ M1ADEPR</th><td>0.03370979</td><td> 1        </td><td>-1790.516 </td><td>6.060846  </td><td>0.002     </td></tr>\n",
       "\t<tr><th scope=row>+ SITE</th><td>0.04109044</td><td> 5        </td><td>-1790.189 </td><td>1.911316  </td><td>0.012     </td></tr>\n",
       "\t<tr><th scope=row>+ BMI</th><td>0.04572775</td><td> 1        </td><td>-1792.114 </td><td>3.852537  </td><td>0.008     </td></tr>\n",
       "\t<tr><th scope=row>+ PQBADSLP</th><td>0.04982265</td><td> 1        </td><td>-1793.713 </td><td>3.525439  </td><td>0.010     </td></tr>\n",
       "\t<tr><th scope=row>+ TURSMOKE</th><td>0.05306391</td><td> 3        </td><td>-1792.840 </td><td>1.667464  </td><td>0.044     </td></tr>\n",
       "\t<tr><th scope=row>&lt;All variables&gt;</th><td>0.05756508</td><td>NA        </td><td>       NA </td><td>      NA  </td><td>   NA     </td></tr>\n",
       "</tbody>\n",
       "</table>\n"
      ],
      "text/latex": [
       "\\begin{tabular}{r|lllll}\n",
       "  & R2.adj & Df & AIC & F & Pr(>F)\\\\\n",
       "\\hline\n",
       "\t+ GIERACE & 0.01552578 &  4         & -1781.328  & 3.357710   & 0.002     \\\\\n",
       "\t+ MHDIAB & 0.02546317 &  1         & -1786.414  & 7.057037   & 0.002     \\\\\n",
       "\t+ M1ADEPR & 0.03370979 &  1         & -1790.516  & 6.060846   & 0.002     \\\\\n",
       "\t+ SITE & 0.04109044 &  5         & -1790.189  & 1.911316   & 0.012     \\\\\n",
       "\t+ BMI & 0.04572775 &  1         & -1792.114  & 3.852537   & 0.008     \\\\\n",
       "\t+ PQBADSLP & 0.04982265 &  1         & -1793.713  & 3.525439   & 0.010     \\\\\n",
       "\t+ TURSMOKE & 0.05306391 &  3         & -1792.840  & 1.667464   & 0.044     \\\\\n",
       "\t<All variables> & 0.05756508 & NA         &        NA  &       NA   &    NA     \\\\\n",
       "\\end{tabular}\n"
      ],
      "text/markdown": [
       "\n",
       "| <!--/--> | R2.adj | Df | AIC | F | Pr(>F) | \n",
       "|---|---|---|---|---|---|---|---|\n",
       "| + GIERACE | 0.01552578 |  4         | -1781.328  | 3.357710   | 0.002      | \n",
       "| + MHDIAB | 0.02546317 |  1         | -1786.414  | 7.057037   | 0.002      | \n",
       "| + M1ADEPR | 0.03370979 |  1         | -1790.516  | 6.060846   | 0.002      | \n",
       "| + SITE | 0.04109044 |  5         | -1790.189  | 1.911316   | 0.012      | \n",
       "| + BMI | 0.04572775 |  1         | -1792.114  | 3.852537   | 0.008      | \n",
       "| + PQBADSLP | 0.04982265 |  1         | -1793.713  | 3.525439   | 0.010      | \n",
       "| + TURSMOKE | 0.05306391 |  3         | -1792.840  | 1.667464   | 0.044      | \n",
       "| <All variables> | 0.05756508 | NA         |        NA  |       NA   |    NA      | \n",
       "\n",
       "\n"
      ],
      "text/plain": [
       "                R2.adj     Df AIC       F        Pr(>F)\n",
       "+ GIERACE       0.01552578  4 -1781.328 3.357710 0.002 \n",
       "+ MHDIAB        0.02546317  1 -1786.414 7.057037 0.002 \n",
       "+ M1ADEPR       0.03370979  1 -1790.516 6.060846 0.002 \n",
       "+ SITE          0.04109044  5 -1790.189 1.911316 0.012 \n",
       "+ BMI           0.04572775  1 -1792.114 3.852537 0.008 \n",
       "+ PQBADSLP      0.04982265  1 -1793.713 3.525439 0.010 \n",
       "+ TURSMOKE      0.05306391  3 -1792.840 1.667464 0.044 \n",
       "<All variables> 0.05756508 NA        NA       NA    NA "
      ]
     },
     "metadata": {},
     "output_type": "display_data"
    }
   ],
   "source": [
    "table = step.res$anova\n",
    "table"
   ]
  },
  {
   "cell_type": "code",
   "execution_count": 19,
   "metadata": {},
   "outputs": [],
   "source": [
    "table$ES.RDA = c(table$R2.adj[1], table$R2.adj[2]-table$R2.adj[1], \n",
    "                 table$R2.adj[3]-table$R2.adj[2], table$R2.adj[4]-table$R2.adj[3],\n",
    "                 table$R2.adj[5]-table$R2.adj[4], table$R2.adj[6]-table$R2.adj[5],\n",
    "                 table$R2.adj[7]-table$R2.adj[6], table$R2.adj[8]-table$R2.adj[7])\n",
    "table = table[-8, ]"
   ]
  },
  {
   "cell_type": "code",
   "execution_count": 20,
   "metadata": {},
   "outputs": [
    {
     "data": {
      "text/plain": [
       "rda(formula = Y ~ GIERACE + MHDIAB + M1ADEPR + SITE + BMI + PQBADSLP + \n",
       "    TURSMOKE, data = X)"
      ]
     },
     "metadata": {},
     "output_type": "display_data"
    }
   ],
   "source": [
    "step.res$call"
   ]
  },
  {
   "cell_type": "code",
   "execution_count": 21,
   "metadata": {
    "scrolled": true
   },
   "outputs": [
    {
     "data": {
      "text/html": [
       "<table>\n",
       "<thead><tr><th></th><th scope=col>R2.adj</th><th scope=col>Df</th><th scope=col>AIC</th><th scope=col>F</th><th scope=col>Pr(&gt;F)</th><th scope=col>ES.RDA</th></tr></thead>\n",
       "<tbody>\n",
       "\t<tr><th scope=row>+ GIERACE</th><td>0.01552578 </td><td>4          </td><td>-1781.328  </td><td>3.357710   </td><td>0.002      </td><td>0.015525781</td></tr>\n",
       "\t<tr><th scope=row>+ MHDIAB</th><td>0.02546317 </td><td>1          </td><td>-1786.414  </td><td>7.057037   </td><td>0.002      </td><td>0.009937384</td></tr>\n",
       "\t<tr><th scope=row>+ M1ADEPR</th><td>0.03370979 </td><td>1          </td><td>-1790.516  </td><td>6.060846   </td><td>0.002      </td><td>0.008246621</td></tr>\n",
       "\t<tr><th scope=row>+ SITE</th><td>0.04109044 </td><td>5          </td><td>-1790.189  </td><td>1.911316   </td><td>0.012      </td><td>0.007380658</td></tr>\n",
       "\t<tr><th scope=row>+ BMI</th><td>0.04572775 </td><td>1          </td><td>-1792.114  </td><td>3.852537   </td><td>0.008      </td><td>0.004637303</td></tr>\n",
       "\t<tr><th scope=row>+ PQBADSLP</th><td>0.04982265 </td><td>1          </td><td>-1793.713  </td><td>3.525439   </td><td>0.010      </td><td>0.004094906</td></tr>\n",
       "\t<tr><th scope=row>+ TURSMOKE</th><td>0.05306391 </td><td>3          </td><td>-1792.840  </td><td>1.667464   </td><td>0.044      </td><td>0.003241261</td></tr>\n",
       "</tbody>\n",
       "</table>\n"
      ],
      "text/latex": [
       "\\begin{tabular}{r|llllll}\n",
       "  & R2.adj & Df & AIC & F & Pr(>F) & ES.RDA\\\\\n",
       "\\hline\n",
       "\t+ GIERACE & 0.01552578  & 4           & -1781.328   & 3.357710    & 0.002       & 0.015525781\\\\\n",
       "\t+ MHDIAB & 0.02546317  & 1           & -1786.414   & 7.057037    & 0.002       & 0.009937384\\\\\n",
       "\t+ M1ADEPR & 0.03370979  & 1           & -1790.516   & 6.060846    & 0.002       & 0.008246621\\\\\n",
       "\t+ SITE & 0.04109044  & 5           & -1790.189   & 1.911316    & 0.012       & 0.007380658\\\\\n",
       "\t+ BMI & 0.04572775  & 1           & -1792.114   & 3.852537    & 0.008       & 0.004637303\\\\\n",
       "\t+ PQBADSLP & 0.04982265  & 1           & -1793.713   & 3.525439    & 0.010       & 0.004094906\\\\\n",
       "\t+ TURSMOKE & 0.05306391  & 3           & -1792.840   & 1.667464    & 0.044       & 0.003241261\\\\\n",
       "\\end{tabular}\n"
      ],
      "text/markdown": [
       "\n",
       "| <!--/--> | R2.adj | Df | AIC | F | Pr(>F) | ES.RDA | \n",
       "|---|---|---|---|---|---|---|\n",
       "| + GIERACE | 0.01552578  | 4           | -1781.328   | 3.357710    | 0.002       | 0.015525781 | \n",
       "| + MHDIAB | 0.02546317  | 1           | -1786.414   | 7.057037    | 0.002       | 0.009937384 | \n",
       "| + M1ADEPR | 0.03370979  | 1           | -1790.516   | 6.060846    | 0.002       | 0.008246621 | \n",
       "| + SITE | 0.04109044  | 5           | -1790.189   | 1.911316    | 0.012       | 0.007380658 | \n",
       "| + BMI | 0.04572775  | 1           | -1792.114   | 3.852537    | 0.008       | 0.004637303 | \n",
       "| + PQBADSLP | 0.04982265  | 1           | -1793.713   | 3.525439    | 0.010       | 0.004094906 | \n",
       "| + TURSMOKE | 0.05306391  | 3           | -1792.840   | 1.667464    | 0.044       | 0.003241261 | \n",
       "\n",
       "\n"
      ],
      "text/plain": [
       "           R2.adj     Df AIC       F        Pr(>F) ES.RDA     \n",
       "+ GIERACE  0.01552578 4  -1781.328 3.357710 0.002  0.015525781\n",
       "+ MHDIAB   0.02546317 1  -1786.414 7.057037 0.002  0.009937384\n",
       "+ M1ADEPR  0.03370979 1  -1790.516 6.060846 0.002  0.008246621\n",
       "+ SITE     0.04109044 5  -1790.189 1.911316 0.012  0.007380658\n",
       "+ BMI      0.04572775 1  -1792.114 3.852537 0.008  0.004637303\n",
       "+ PQBADSLP 0.04982265 1  -1793.713 3.525439 0.010  0.004094906\n",
       "+ TURSMOKE 0.05306391 3  -1792.840 1.667464 0.044  0.003241261"
      ]
     },
     "metadata": {},
     "output_type": "display_data"
    }
   ],
   "source": [
    "table"
   ]
  },
  {
   "cell_type": "code",
   "execution_count": 22,
   "metadata": {},
   "outputs": [],
   "source": [
    "library(ggplot2)"
   ]
  },
  {
   "cell_type": "code",
   "execution_count": 23,
   "metadata": {},
   "outputs": [],
   "source": [
    "rownames(table) = c('Race', 'Diabetes', 'Antidepressent Use', 'Site', 'BMI',\n",
    "                   'Poor Sleep', 'Smoking')"
   ]
  },
  {
   "cell_type": "code",
   "execution_count": 24,
   "metadata": {},
   "outputs": [
    {
     "data": {},
     "metadata": {},
     "output_type": "display_data"
    },
    {
     "data": {
      "text/html": [
       "<strong>pdf:</strong> 2"
      ],
      "text/latex": [
       "\\textbf{pdf:} 2"
      ],
      "text/markdown": [
       "**pdf:** 2"
      ],
      "text/plain": [
       "pdf \n",
       "  2 "
      ]
     },
     "metadata": {},
     "output_type": "display_data"
    }
   ],
   "source": [
    "library(ggplot2)\n",
    "pdf('../figures/RDA_beta_uw.pdf')\n",
    "covariates = rownames(table)\n",
    "ggplot(table, aes(x=reorder(covariates, ES.RDA), y=ES.RDA, fill=covariates)) +\n",
    "  labs(x = 'Non-redundant Covariants', y = 'Effect Size (Unweighted UniFrac)') +\n",
    "  geom_bar(stat='identity') +\n",
    " theme(axis.text=element_text(size=10), \n",
    "       axis.title=element_text(size=14,face=\"bold\"), \n",
    "       legend.position=\"none\") + \n",
    "  coord_flip()\n",
    "dev.off()"
   ]
  },
  {
   "cell_type": "code",
   "execution_count": null,
   "metadata": {},
   "outputs": [],
   "source": []
  }
 ],
 "metadata": {
  "kernelspec": {
   "display_name": "R",
   "language": "R",
   "name": "ir"
  },
  "language_info": {
   "codemirror_mode": "r",
   "file_extension": ".r",
   "mimetype": "text/x-r-source",
   "name": "R",
   "pygments_lexer": "r",
   "version": "3.6.1"
  }
 },
 "nbformat": 4,
 "nbformat_minor": 2
}

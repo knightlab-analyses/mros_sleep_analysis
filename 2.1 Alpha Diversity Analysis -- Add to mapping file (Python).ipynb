{
 "cells": [
  {
   "cell_type": "markdown",
   "metadata": {},
   "source": [
    "#### This notebook is to add alpha diversities to existing mapping file"
   ]
  },
  {
   "cell_type": "code",
   "execution_count": 1,
   "metadata": {},
   "outputs": [],
   "source": [
    "import pandas as pd\n",
    "import numpy as np"
   ]
  },
  {
   "cell_type": "code",
   "execution_count": 2,
   "metadata": {},
   "outputs": [],
   "source": [
    "mf = pd.read_csv('../data/mapping_sleep.txt', sep='\\t', dtype=str, index_col='#SampleID')"
   ]
  },
  {
   "cell_type": "code",
   "execution_count": 3,
   "metadata": {},
   "outputs": [
    {
     "data": {
      "text/html": [
       "<div>\n",
       "<style scoped>\n",
       "    .dataframe tbody tr th:only-of-type {\n",
       "        vertical-align: middle;\n",
       "    }\n",
       "\n",
       "    .dataframe tbody tr th {\n",
       "        vertical-align: top;\n",
       "    }\n",
       "\n",
       "    .dataframe thead th {\n",
       "        text-align: right;\n",
       "    }\n",
       "</style>\n",
       "<table border=\"1\" class=\"dataframe\">\n",
       "  <thead>\n",
       "    <tr style=\"text-align: right;\">\n",
       "      <th></th>\n",
       "      <th>BarcodeSequence</th>\n",
       "      <th>LinkerPrimerSequence</th>\n",
       "      <th>Experiment_Design_Description</th>\n",
       "      <th>Library_Construction_Protocol</th>\n",
       "      <th>Linker</th>\n",
       "      <th>Platform</th>\n",
       "      <th>Center_Name</th>\n",
       "      <th>Center_Project</th>\n",
       "      <th>Instrument_Model</th>\n",
       "      <th>Title</th>\n",
       "      <th>...</th>\n",
       "      <th>PQPEFFIC</th>\n",
       "      <th>PQPSQI</th>\n",
       "      <th>PQBADSLP</th>\n",
       "      <th>TURSMOKE</th>\n",
       "      <th>M1ADEPR</th>\n",
       "      <th>M1BENZO</th>\n",
       "      <th>AMAMPT_C1</th>\n",
       "      <th>AMFVT_C1</th>\n",
       "      <th>AMPHIT_15SD</th>\n",
       "      <th>Description</th>\n",
       "    </tr>\n",
       "    <tr>\n",
       "      <th>#SampleID</th>\n",
       "      <th></th>\n",
       "      <th></th>\n",
       "      <th></th>\n",
       "      <th></th>\n",
       "      <th></th>\n",
       "      <th></th>\n",
       "      <th></th>\n",
       "      <th></th>\n",
       "      <th></th>\n",
       "      <th></th>\n",
       "      <th></th>\n",
       "      <th></th>\n",
       "      <th></th>\n",
       "      <th></th>\n",
       "      <th></th>\n",
       "      <th></th>\n",
       "      <th></th>\n",
       "      <th></th>\n",
       "      <th></th>\n",
       "      <th></th>\n",
       "      <th></th>\n",
       "    </tr>\n",
       "  </thead>\n",
       "  <tbody>\n",
       "    <tr>\n",
       "      <th>BI0023</th>\n",
       "      <td>TCTGGTGACATT</td>\n",
       "      <td>GGACTACHVGGGTWTCTAAT</td>\n",
       "      <td>16S stool samples sequenced for MrOS Vitamin D...</td>\n",
       "      <td>16S rRNA v4</td>\n",
       "      <td>GT</td>\n",
       "      <td>Illumina</td>\n",
       "      <td>BI</td>\n",
       "      <td>MrOS</td>\n",
       "      <td>Illumina MiSeq</td>\n",
       "      <td>MrOS_VitaminD</td>\n",
       "      <td>...</td>\n",
       "      <td>0:&gt;85% EFFICIENCY</td>\n",
       "      <td>4.0</td>\n",
       "      <td>0: No</td>\n",
       "      <td>M:Not Applicable</td>\n",
       "      <td>0: No</td>\n",
       "      <td>0: No</td>\n",
       "      <td>Missing:not collected</td>\n",
       "      <td>Missing:not collected</td>\n",
       "      <td>Missing:not collected</td>\n",
       "      <td>Orwoll.BI0023.BI</td>\n",
       "    </tr>\n",
       "    <tr>\n",
       "      <th>BI0056</th>\n",
       "      <td>CAAGCATGCCTA</td>\n",
       "      <td>GGACTACHVGGGTWTCTAAT</td>\n",
       "      <td>16S stool samples sequenced for MrOS Vitamin D...</td>\n",
       "      <td>16S rRNA v4</td>\n",
       "      <td>GT</td>\n",
       "      <td>Illumina</td>\n",
       "      <td>BI</td>\n",
       "      <td>MrOS</td>\n",
       "      <td>Illumina MiSeq</td>\n",
       "      <td>MrOS_VitaminD</td>\n",
       "      <td>...</td>\n",
       "      <td>3:&lt;65% EFFICIENCY</td>\n",
       "      <td>9.0</td>\n",
       "      <td>1: Yes</td>\n",
       "      <td>1:PAST</td>\n",
       "      <td>0: No</td>\n",
       "      <td>0: No</td>\n",
       "      <td>1.0</td>\n",
       "      <td>1.0</td>\n",
       "      <td>0.0</td>\n",
       "      <td>Orwoll.BI0056.BI</td>\n",
       "    </tr>\n",
       "    <tr>\n",
       "      <th>BI0131</th>\n",
       "      <td>CTATTTGCGACA</td>\n",
       "      <td>GGACTACHVGGGTWTCTAAT</td>\n",
       "      <td>16S stool samples sequenced for MrOS Vitamin D...</td>\n",
       "      <td>16S rRNA v4</td>\n",
       "      <td>GT</td>\n",
       "      <td>Illumina</td>\n",
       "      <td>BI</td>\n",
       "      <td>MrOS</td>\n",
       "      <td>Illumina MiSeq</td>\n",
       "      <td>MrOS_VitaminD</td>\n",
       "      <td>...</td>\n",
       "      <td>0:&gt;85% EFFICIENCY</td>\n",
       "      <td>2.0</td>\n",
       "      <td>0: No</td>\n",
       "      <td>1:PAST</td>\n",
       "      <td>0: No</td>\n",
       "      <td>0: No</td>\n",
       "      <td>1.0</td>\n",
       "      <td>1.0</td>\n",
       "      <td>0.0</td>\n",
       "      <td>Orwoll.BI0131.BI</td>\n",
       "    </tr>\n",
       "    <tr>\n",
       "      <th>BI0153</th>\n",
       "      <td>ATCGGCGTTACA</td>\n",
       "      <td>GGACTACHVGGGTWTCTAAT</td>\n",
       "      <td>16S stool samples sequenced for MrOS Vitamin D...</td>\n",
       "      <td>16S rRNA v4</td>\n",
       "      <td>GT</td>\n",
       "      <td>Illumina</td>\n",
       "      <td>BI</td>\n",
       "      <td>MrOS</td>\n",
       "      <td>Illumina MiSeq</td>\n",
       "      <td>MrOS_VitaminD</td>\n",
       "      <td>...</td>\n",
       "      <td>0:&gt;85% EFFICIENCY</td>\n",
       "      <td>3.0</td>\n",
       "      <td>0: No</td>\n",
       "      <td>1:PAST</td>\n",
       "      <td>0: No</td>\n",
       "      <td>0: No</td>\n",
       "      <td>1.0</td>\n",
       "      <td>1.0</td>\n",
       "      <td>-1.0</td>\n",
       "      <td>Orwoll.BI0153.BI</td>\n",
       "    </tr>\n",
       "    <tr>\n",
       "      <th>BI0215</th>\n",
       "      <td>CCTCTCGTGATC</td>\n",
       "      <td>GGACTACHVGGGTWTCTAAT</td>\n",
       "      <td>16S stool samples sequenced for MrOS Vitamin D...</td>\n",
       "      <td>16S rRNA v4</td>\n",
       "      <td>GT</td>\n",
       "      <td>Illumina</td>\n",
       "      <td>BI</td>\n",
       "      <td>MrOS</td>\n",
       "      <td>Illumina MiSeq</td>\n",
       "      <td>MrOS_VitaminD</td>\n",
       "      <td>...</td>\n",
       "      <td>0:&gt;85% EFFICIENCY</td>\n",
       "      <td>1.0</td>\n",
       "      <td>0: No</td>\n",
       "      <td>1:PAST</td>\n",
       "      <td>0: No</td>\n",
       "      <td>0: No</td>\n",
       "      <td>1.0</td>\n",
       "      <td>0.0</td>\n",
       "      <td>-1.0</td>\n",
       "      <td>Orwoll.BI0215.BI</td>\n",
       "    </tr>\n",
       "  </tbody>\n",
       "</table>\n",
       "<p>5 rows × 75 columns</p>\n",
       "</div>"
      ],
      "text/plain": [
       "          BarcodeSequence  LinkerPrimerSequence  \\\n",
       "#SampleID                                         \n",
       "BI0023       TCTGGTGACATT  GGACTACHVGGGTWTCTAAT   \n",
       "BI0056       CAAGCATGCCTA  GGACTACHVGGGTWTCTAAT   \n",
       "BI0131       CTATTTGCGACA  GGACTACHVGGGTWTCTAAT   \n",
       "BI0153       ATCGGCGTTACA  GGACTACHVGGGTWTCTAAT   \n",
       "BI0215       CCTCTCGTGATC  GGACTACHVGGGTWTCTAAT   \n",
       "\n",
       "                               Experiment_Design_Description  \\\n",
       "#SampleID                                                      \n",
       "BI0023     16S stool samples sequenced for MrOS Vitamin D...   \n",
       "BI0056     16S stool samples sequenced for MrOS Vitamin D...   \n",
       "BI0131     16S stool samples sequenced for MrOS Vitamin D...   \n",
       "BI0153     16S stool samples sequenced for MrOS Vitamin D...   \n",
       "BI0215     16S stool samples sequenced for MrOS Vitamin D...   \n",
       "\n",
       "          Library_Construction_Protocol Linker  Platform Center_Name  \\\n",
       "#SampleID                                                              \n",
       "BI0023                      16S rRNA v4     GT  Illumina          BI   \n",
       "BI0056                      16S rRNA v4     GT  Illumina          BI   \n",
       "BI0131                      16S rRNA v4     GT  Illumina          BI   \n",
       "BI0153                      16S rRNA v4     GT  Illumina          BI   \n",
       "BI0215                      16S rRNA v4     GT  Illumina          BI   \n",
       "\n",
       "          Center_Project Instrument_Model          Title        ...         \\\n",
       "#SampleID                                                       ...          \n",
       "BI0023              MrOS   Illumina MiSeq  MrOS_VitaminD        ...          \n",
       "BI0056              MrOS   Illumina MiSeq  MrOS_VitaminD        ...          \n",
       "BI0131              MrOS   Illumina MiSeq  MrOS_VitaminD        ...          \n",
       "BI0153              MrOS   Illumina MiSeq  MrOS_VitaminD        ...          \n",
       "BI0215              MrOS   Illumina MiSeq  MrOS_VitaminD        ...          \n",
       "\n",
       "                    PQPEFFIC PQPSQI PQBADSLP          TURSMOKE M1ADEPR  \\\n",
       "#SampleID                                                                \n",
       "BI0023     0:>85% EFFICIENCY    4.0    0: No  M:Not Applicable   0: No   \n",
       "BI0056     3:<65% EFFICIENCY    9.0   1: Yes            1:PAST   0: No   \n",
       "BI0131     0:>85% EFFICIENCY    2.0    0: No            1:PAST   0: No   \n",
       "BI0153     0:>85% EFFICIENCY    3.0    0: No            1:PAST   0: No   \n",
       "BI0215     0:>85% EFFICIENCY    1.0    0: No            1:PAST   0: No   \n",
       "\n",
       "          M1BENZO              AMAMPT_C1               AMFVT_C1  \\\n",
       "#SampleID                                                         \n",
       "BI0023      0: No  Missing:not collected  Missing:not collected   \n",
       "BI0056      0: No                    1.0                    1.0   \n",
       "BI0131      0: No                    1.0                    1.0   \n",
       "BI0153      0: No                    1.0                    1.0   \n",
       "BI0215      0: No                    1.0                    0.0   \n",
       "\n",
       "                     AMPHIT_15SD       Description  \n",
       "#SampleID                                           \n",
       "BI0023     Missing:not collected  Orwoll.BI0023.BI  \n",
       "BI0056                       0.0  Orwoll.BI0056.BI  \n",
       "BI0131                       0.0  Orwoll.BI0131.BI  \n",
       "BI0153                      -1.0  Orwoll.BI0153.BI  \n",
       "BI0215                      -1.0  Orwoll.BI0215.BI  \n",
       "\n",
       "[5 rows x 75 columns]"
      ]
     },
     "execution_count": 3,
     "metadata": {},
     "output_type": "execute_result"
    }
   ],
   "source": [
    "mf.head()"
   ]
  },
  {
   "cell_type": "code",
   "execution_count": 4,
   "metadata": {},
   "outputs": [
    {
     "data": {
      "text/plain": [
       "(599, 75)"
      ]
     },
     "execution_count": 4,
     "metadata": {},
     "output_type": "execute_result"
    }
   ],
   "source": [
    "mf.shape"
   ]
  },
  {
   "cell_type": "markdown",
   "metadata": {},
   "source": [
    "## add rarefied PD alpha diversity"
   ]
  },
  {
   "cell_type": "code",
   "execution_count": 18,
   "metadata": {},
   "outputs": [],
   "source": [
    "alpha_PD = pd.read_csv('../Qiime_updated/alpha_PD/alpha-diversity.tsv', sep='\\t', index_col=0)"
   ]
  },
  {
   "cell_type": "code",
   "execution_count": 19,
   "metadata": {},
   "outputs": [],
   "source": [
    "alpha_PD.rename(columns={'faith_pd': 'alpha_pd'}, inplace=True)"
   ]
  },
  {
   "cell_type": "code",
   "execution_count": 20,
   "metadata": {},
   "outputs": [
    {
     "data": {
      "text/plain": [
       "count    599.000000\n",
       "mean      21.093640\n",
       "std        6.373415\n",
       "min        3.900322\n",
       "25%       16.316893\n",
       "50%       20.245978\n",
       "75%       25.874790\n",
       "max       44.034041\n",
       "Name: alpha_pd, dtype: float64"
      ]
     },
     "execution_count": 20,
     "metadata": {},
     "output_type": "execute_result"
    }
   ],
   "source": [
    "alpha_PD.alpha_pd.describe()"
   ]
  },
  {
   "cell_type": "code",
   "execution_count": 21,
   "metadata": {},
   "outputs": [
    {
     "data": {
      "text/plain": [
       "(599, 76)"
      ]
     },
     "execution_count": 21,
     "metadata": {},
     "output_type": "execute_result"
    }
   ],
   "source": [
    "df = pd.merge(mf, alpha_PD, left_index=True, right_index=True)\n",
    "df.shape"
   ]
  },
  {
   "cell_type": "markdown",
   "metadata": {
    "collapsed": true
   },
   "source": [
    "## add Observed OTUs"
   ]
  },
  {
   "cell_type": "code",
   "execution_count": 24,
   "metadata": {},
   "outputs": [],
   "source": [
    "alpha_OTU = pd.read_csv('../Qiime_updated/sleep-alpha_ObsOTU/alpha-diversity.tsv', sep='\\t', index_col=0)"
   ]
  },
  {
   "cell_type": "code",
   "execution_count": 23,
   "metadata": {},
   "outputs": [
    {
     "data": {
      "text/html": [
       "<div>\n",
       "<style scoped>\n",
       "    .dataframe tbody tr th:only-of-type {\n",
       "        vertical-align: middle;\n",
       "    }\n",
       "\n",
       "    .dataframe tbody tr th {\n",
       "        vertical-align: top;\n",
       "    }\n",
       "\n",
       "    .dataframe thead th {\n",
       "        text-align: right;\n",
       "    }\n",
       "</style>\n",
       "<table border=\"1\" class=\"dataframe\">\n",
       "  <thead>\n",
       "    <tr style=\"text-align: right;\">\n",
       "      <th></th>\n",
       "      <th>observed_otus</th>\n",
       "    </tr>\n",
       "  </thead>\n",
       "  <tbody>\n",
       "    <tr>\n",
       "      <th>count</th>\n",
       "      <td>599.000000</td>\n",
       "    </tr>\n",
       "    <tr>\n",
       "      <th>mean</th>\n",
       "      <td>228.287145</td>\n",
       "    </tr>\n",
       "    <tr>\n",
       "      <th>std</th>\n",
       "      <td>79.967767</td>\n",
       "    </tr>\n",
       "    <tr>\n",
       "      <th>min</th>\n",
       "      <td>17.000000</td>\n",
       "    </tr>\n",
       "    <tr>\n",
       "      <th>25%</th>\n",
       "      <td>169.000000</td>\n",
       "    </tr>\n",
       "    <tr>\n",
       "      <th>50%</th>\n",
       "      <td>221.000000</td>\n",
       "    </tr>\n",
       "    <tr>\n",
       "      <th>75%</th>\n",
       "      <td>288.000000</td>\n",
       "    </tr>\n",
       "    <tr>\n",
       "      <th>max</th>\n",
       "      <td>513.000000</td>\n",
       "    </tr>\n",
       "  </tbody>\n",
       "</table>\n",
       "</div>"
      ],
      "text/plain": [
       "       observed_otus\n",
       "count     599.000000\n",
       "mean      228.287145\n",
       "std        79.967767\n",
       "min        17.000000\n",
       "25%       169.000000\n",
       "50%       221.000000\n",
       "75%       288.000000\n",
       "max       513.000000"
      ]
     },
     "execution_count": 23,
     "metadata": {},
     "output_type": "execute_result"
    }
   ],
   "source": [
    "alpha_OTU.describe()"
   ]
  },
  {
   "cell_type": "code",
   "execution_count": 9,
   "metadata": {},
   "outputs": [
    {
     "data": {
      "text/plain": [
       "(599, 77)"
      ]
     },
     "execution_count": 9,
     "metadata": {},
     "output_type": "execute_result"
    }
   ],
   "source": [
    "df = pd.merge(df, alpha_OTU, left_index=True, right_index=True)\n",
    "df.shape"
   ]
  },
  {
   "cell_type": "markdown",
   "metadata": {
    "collapsed": true
   },
   "source": [
    "## add Shannon diversity"
   ]
  },
  {
   "cell_type": "code",
   "execution_count": 10,
   "metadata": {},
   "outputs": [],
   "source": [
    "alpha_shannon = pd.read_csv('../Qiime_updated/alpha_Shannon/alpha-diversity.tsv', sep='\\t', index_col=0)"
   ]
  },
  {
   "cell_type": "code",
   "execution_count": 11,
   "metadata": {},
   "outputs": [
    {
     "data": {
      "text/plain": [
       "(599, 78)"
      ]
     },
     "execution_count": 11,
     "metadata": {},
     "output_type": "execute_result"
    }
   ],
   "source": [
    "df = pd.merge(df, alpha_shannon, left_index=True, right_index=True)\n",
    "df.shape"
   ]
  },
  {
   "cell_type": "markdown",
   "metadata": {},
   "source": [
    "## Pielou (Evenness)"
   ]
  },
  {
   "cell_type": "code",
   "execution_count": 12,
   "metadata": {},
   "outputs": [],
   "source": [
    "alpha_evenness = pd.read_csv('../Qiime_updated/alpha_Evenness/alpha-diversity.tsv', sep='\\t', index_col=0)"
   ]
  },
  {
   "cell_type": "code",
   "execution_count": 13,
   "metadata": {},
   "outputs": [
    {
     "data": {
      "text/plain": [
       "(599, 79)"
      ]
     },
     "execution_count": 13,
     "metadata": {},
     "output_type": "execute_result"
    }
   ],
   "source": [
    "df = pd.merge(df, alpha_evenness, left_index=True, right_index=True)\n",
    "df.shape"
   ]
  },
  {
   "cell_type": "markdown",
   "metadata": {
    "collapsed": true
   },
   "source": [
    "## export"
   ]
  },
  {
   "cell_type": "markdown",
   "metadata": {},
   "source": [
    "### output mapping file with PD alpha diveristy"
   ]
  },
  {
   "cell_type": "code",
   "execution_count": 14,
   "metadata": {},
   "outputs": [],
   "source": [
    "df.to_csv('../data/mapping_sleep_alpha.txt', sep='\\t', index_label='#SampleID')"
   ]
  },
  {
   "cell_type": "code",
   "execution_count": null,
   "metadata": {},
   "outputs": [],
   "source": []
  }
 ],
 "metadata": {
  "kernelspec": {
   "display_name": "Python 3",
   "language": "python",
   "name": "python3"
  },
  "language_info": {
   "codemirror_mode": {
    "name": "ipython",
    "version": 3
   },
   "file_extension": ".py",
   "mimetype": "text/x-python",
   "name": "python",
   "nbconvert_exporter": "python",
   "pygments_lexer": "ipython3",
   "version": "3.5.5"
  }
 },
 "nbformat": 4,
 "nbformat_minor": 2
}

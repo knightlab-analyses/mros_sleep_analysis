{
 "cells": [
  {
   "cell_type": "markdown",
   "metadata": {},
   "source": [
    "#### This notebook is to perform Redundancy analysis on beta diversities"
   ]
  },
  {
   "cell_type": "code",
   "execution_count": 1,
   "metadata": {},
   "outputs": [
    {
     "name": "stderr",
     "output_type": "stream",
     "text": [
      "Loading required package: permute\n",
      "\n",
      "Loading required package: lattice\n",
      "\n",
      "This is vegan 2.5-6\n",
      "\n"
     ]
    }
   ],
   "source": [
    "library(vegan)\n",
    "library(ggplot2)"
   ]
  },
  {
   "cell_type": "code",
   "execution_count": 2,
   "metadata": {},
   "outputs": [
    {
     "data": {
      "text/html": [
       "<ol class=list-inline>\n",
       "\t<li>599</li>\n",
       "\t<li>80</li>\n",
       "</ol>\n"
      ],
      "text/latex": [
       "\\begin{enumerate*}\n",
       "\\item 599\n",
       "\\item 80\n",
       "\\end{enumerate*}\n"
      ],
      "text/markdown": [
       "1. 599\n",
       "2. 80\n",
       "\n",
       "\n"
      ],
      "text/plain": [
       "[1] 599  80"
      ]
     },
     "metadata": {},
     "output_type": "display_data"
    }
   ],
   "source": [
    "mf = read.csv('mapping_sleep_alpha.txt', sep='\\t')\n",
    "colnames(mf)[1] = 'SampleName'\n",
    "dim(mf)"
   ]
  },
  {
   "cell_type": "code",
   "execution_count": 3,
   "metadata": {},
   "outputs": [
    {
     "data": {
      "text/html": [
       "<table>\n",
       "<caption>A data.frame: 6 × 80</caption>\n",
       "<thead>\n",
       "\t<tr><th></th><th scope=col>SampleName</th><th scope=col>BarcodeSequence</th><th scope=col>LinkerPrimerSequence</th><th scope=col>Experiment_Design_Description</th><th scope=col>Library_Construction_Protocol</th><th scope=col>Linker</th><th scope=col>Platform</th><th scope=col>Center_Name</th><th scope=col>Center_Project</th><th scope=col>Instrument_Model</th><th scope=col>⋯</th><th scope=col>M1ADEPR</th><th scope=col>M1BENZO</th><th scope=col>AMAMPT_C1</th><th scope=col>AMFVT_C1</th><th scope=col>AMPHIT_15SD</th><th scope=col>Description</th><th scope=col>alpha_pd</th><th scope=col>observed_otus</th><th scope=col>shannon</th><th scope=col>pielou_e</th></tr>\n",
       "\t<tr><th></th><th scope=col>&lt;fct&gt;</th><th scope=col>&lt;fct&gt;</th><th scope=col>&lt;fct&gt;</th><th scope=col>&lt;fct&gt;</th><th scope=col>&lt;fct&gt;</th><th scope=col>&lt;fct&gt;</th><th scope=col>&lt;fct&gt;</th><th scope=col>&lt;fct&gt;</th><th scope=col>&lt;fct&gt;</th><th scope=col>&lt;fct&gt;</th><th scope=col>⋯</th><th scope=col>&lt;fct&gt;</th><th scope=col>&lt;fct&gt;</th><th scope=col>&lt;fct&gt;</th><th scope=col>&lt;fct&gt;</th><th scope=col>&lt;fct&gt;</th><th scope=col>&lt;fct&gt;</th><th scope=col>&lt;dbl&gt;</th><th scope=col>&lt;int&gt;</th><th scope=col>&lt;dbl&gt;</th><th scope=col>&lt;dbl&gt;</th></tr>\n",
       "</thead>\n",
       "<tbody>\n",
       "\t<tr><th scope=row>1</th><td>BI0023</td><td>TCTGGTGACATT</td><td>GGACTACHVGGGTWTCTAAT</td><td>16S stool samples sequenced for MrOS Vitamin D study</td><td>16S rRNA v4</td><td>GT</td><td>Illumina</td><td>BI</td><td>MrOS</td><td>Illumina MiSeq</td><td>⋯</td><td>0: No</td><td>0: No</td><td>Missing:not collected</td><td>Missing:not collected</td><td>Missing:not collected</td><td>Orwoll.BI0023.BI</td><td>27.77117</td><td>302</td><td>5.727116</td><td>0.6951729</td></tr>\n",
       "\t<tr><th scope=row>2</th><td>BI0056</td><td>CAAGCATGCCTA</td><td>GGACTACHVGGGTWTCTAAT</td><td>16S stool samples sequenced for MrOS Vitamin D study</td><td>16S rRNA v4</td><td>GT</td><td>Illumina</td><td>BI</td><td>MrOS</td><td>Illumina MiSeq</td><td>⋯</td><td>0: No</td><td>0: No</td><td>1.0                  </td><td>1.0                  </td><td>0.0                  </td><td>Orwoll.BI0056.BI</td><td>17.93266</td><td>173</td><td>3.888281</td><td>0.5229960</td></tr>\n",
       "\t<tr><th scope=row>3</th><td>BI0131</td><td>CTATTTGCGACA</td><td>GGACTACHVGGGTWTCTAAT</td><td>16S stool samples sequenced for MrOS Vitamin D study</td><td>16S rRNA v4</td><td>GT</td><td>Illumina</td><td>BI</td><td>MrOS</td><td>Illumina MiSeq</td><td>⋯</td><td>0: No</td><td>0: No</td><td>1.0                  </td><td>1.0                  </td><td>0.0                  </td><td>Orwoll.BI0131.BI</td><td>21.45366</td><td>223</td><td>4.050730</td><td>0.5192645</td></tr>\n",
       "\t<tr><th scope=row>4</th><td>BI0153</td><td>ATCGGCGTTACA</td><td>GGACTACHVGGGTWTCTAAT</td><td>16S stool samples sequenced for MrOS Vitamin D study</td><td>16S rRNA v4</td><td>GT</td><td>Illumina</td><td>BI</td><td>MrOS</td><td>Illumina MiSeq</td><td>⋯</td><td>0: No</td><td>0: No</td><td>1.0                  </td><td>1.0                  </td><td>-1.0                 </td><td>Orwoll.BI0153.BI</td><td>18.46968</td><td>223</td><td>4.894253</td><td>0.6273959</td></tr>\n",
       "\t<tr><th scope=row>5</th><td>BI0215</td><td>CCTCTCGTGATC</td><td>GGACTACHVGGGTWTCTAAT</td><td>16S stool samples sequenced for MrOS Vitamin D study</td><td>16S rRNA v4</td><td>GT</td><td>Illumina</td><td>BI</td><td>MrOS</td><td>Illumina MiSeq</td><td>⋯</td><td>0: No</td><td>0: No</td><td>1.0                  </td><td>0.0                  </td><td>-1.0                 </td><td>Orwoll.BI0215.BI</td><td>20.04983</td><td>222</td><td>5.295055</td><td>0.6793396</td></tr>\n",
       "\t<tr><th scope=row>6</th><td>BI0353</td><td>TGCCATCTGAAT</td><td>GGACTACHVGGGTWTCTAAT</td><td>16S stool samples sequenced for MrOS Vitamin D study</td><td>16S rRNA v4</td><td>GT</td><td>Illumina</td><td>BI</td><td>MrOS</td><td>Illumina MiSeq</td><td>⋯</td><td>0: No</td><td>0: No</td><td>1.0                  </td><td>1.0                  </td><td>0.0                  </td><td>Orwoll.BI0353.BI</td><td>13.75183</td><td>155</td><td>4.213016</td><td>0.5790192</td></tr>\n",
       "</tbody>\n",
       "</table>\n"
      ],
      "text/latex": [
       "A data.frame: 6 × 80\n",
       "\\begin{tabular}{r|lllllllllllllllllllll}\n",
       "  & SampleName & BarcodeSequence & LinkerPrimerSequence & Experiment\\_Design\\_Description & Library\\_Construction\\_Protocol & Linker & Platform & Center\\_Name & Center\\_Project & Instrument\\_Model & ⋯ & M1ADEPR & M1BENZO & AMAMPT\\_C1 & AMFVT\\_C1 & AMPHIT\\_15SD & Description & alpha\\_pd & observed\\_otus & shannon & pielou\\_e\\\\\n",
       "  & <fct> & <fct> & <fct> & <fct> & <fct> & <fct> & <fct> & <fct> & <fct> & <fct> & ⋯ & <fct> & <fct> & <fct> & <fct> & <fct> & <fct> & <dbl> & <int> & <dbl> & <dbl>\\\\\n",
       "\\hline\n",
       "\t1 & BI0023 & TCTGGTGACATT & GGACTACHVGGGTWTCTAAT & 16S stool samples sequenced for MrOS Vitamin D study & 16S rRNA v4 & GT & Illumina & BI & MrOS & Illumina MiSeq & ⋯ & 0: No & 0: No & Missing:not collected & Missing:not collected & Missing:not collected & Orwoll.BI0023.BI & 27.77117 & 302 & 5.727116 & 0.6951729\\\\\n",
       "\t2 & BI0056 & CAAGCATGCCTA & GGACTACHVGGGTWTCTAAT & 16S stool samples sequenced for MrOS Vitamin D study & 16S rRNA v4 & GT & Illumina & BI & MrOS & Illumina MiSeq & ⋯ & 0: No & 0: No & 1.0                   & 1.0                   & 0.0                   & Orwoll.BI0056.BI & 17.93266 & 173 & 3.888281 & 0.5229960\\\\\n",
       "\t3 & BI0131 & CTATTTGCGACA & GGACTACHVGGGTWTCTAAT & 16S stool samples sequenced for MrOS Vitamin D study & 16S rRNA v4 & GT & Illumina & BI & MrOS & Illumina MiSeq & ⋯ & 0: No & 0: No & 1.0                   & 1.0                   & 0.0                   & Orwoll.BI0131.BI & 21.45366 & 223 & 4.050730 & 0.5192645\\\\\n",
       "\t4 & BI0153 & ATCGGCGTTACA & GGACTACHVGGGTWTCTAAT & 16S stool samples sequenced for MrOS Vitamin D study & 16S rRNA v4 & GT & Illumina & BI & MrOS & Illumina MiSeq & ⋯ & 0: No & 0: No & 1.0                   & 1.0                   & -1.0                  & Orwoll.BI0153.BI & 18.46968 & 223 & 4.894253 & 0.6273959\\\\\n",
       "\t5 & BI0215 & CCTCTCGTGATC & GGACTACHVGGGTWTCTAAT & 16S stool samples sequenced for MrOS Vitamin D study & 16S rRNA v4 & GT & Illumina & BI & MrOS & Illumina MiSeq & ⋯ & 0: No & 0: No & 1.0                   & 0.0                   & -1.0                  & Orwoll.BI0215.BI & 20.04983 & 222 & 5.295055 & 0.6793396\\\\\n",
       "\t6 & BI0353 & TGCCATCTGAAT & GGACTACHVGGGTWTCTAAT & 16S stool samples sequenced for MrOS Vitamin D study & 16S rRNA v4 & GT & Illumina & BI & MrOS & Illumina MiSeq & ⋯ & 0: No & 0: No & 1.0                   & 1.0                   & 0.0                   & Orwoll.BI0353.BI & 13.75183 & 155 & 4.213016 & 0.5790192\\\\\n",
       "\\end{tabular}\n"
      ],
      "text/markdown": [
       "\n",
       "A data.frame: 6 × 80\n",
       "\n",
       "| <!--/--> | SampleName &lt;fct&gt; | BarcodeSequence &lt;fct&gt; | LinkerPrimerSequence &lt;fct&gt; | Experiment_Design_Description &lt;fct&gt; | Library_Construction_Protocol &lt;fct&gt; | Linker &lt;fct&gt; | Platform &lt;fct&gt; | Center_Name &lt;fct&gt; | Center_Project &lt;fct&gt; | Instrument_Model &lt;fct&gt; | ⋯ ⋯ | M1ADEPR &lt;fct&gt; | M1BENZO &lt;fct&gt; | AMAMPT_C1 &lt;fct&gt; | AMFVT_C1 &lt;fct&gt; | AMPHIT_15SD &lt;fct&gt; | Description &lt;fct&gt; | alpha_pd &lt;dbl&gt; | observed_otus &lt;int&gt; | shannon &lt;dbl&gt; | pielou_e &lt;dbl&gt; |\n",
       "|---|---|---|---|---|---|---|---|---|---|---|---|---|---|---|---|---|---|---|---|---|---|\n",
       "| 1 | BI0023 | TCTGGTGACATT | GGACTACHVGGGTWTCTAAT | 16S stool samples sequenced for MrOS Vitamin D study | 16S rRNA v4 | GT | Illumina | BI | MrOS | Illumina MiSeq | ⋯ | 0: No | 0: No | Missing:not collected | Missing:not collected | Missing:not collected | Orwoll.BI0023.BI | 27.77117 | 302 | 5.727116 | 0.6951729 |\n",
       "| 2 | BI0056 | CAAGCATGCCTA | GGACTACHVGGGTWTCTAAT | 16S stool samples sequenced for MrOS Vitamin D study | 16S rRNA v4 | GT | Illumina | BI | MrOS | Illumina MiSeq | ⋯ | 0: No | 0: No | 1.0                   | 1.0                   | 0.0                   | Orwoll.BI0056.BI | 17.93266 | 173 | 3.888281 | 0.5229960 |\n",
       "| 3 | BI0131 | CTATTTGCGACA | GGACTACHVGGGTWTCTAAT | 16S stool samples sequenced for MrOS Vitamin D study | 16S rRNA v4 | GT | Illumina | BI | MrOS | Illumina MiSeq | ⋯ | 0: No | 0: No | 1.0                   | 1.0                   | 0.0                   | Orwoll.BI0131.BI | 21.45366 | 223 | 4.050730 | 0.5192645 |\n",
       "| 4 | BI0153 | ATCGGCGTTACA | GGACTACHVGGGTWTCTAAT | 16S stool samples sequenced for MrOS Vitamin D study | 16S rRNA v4 | GT | Illumina | BI | MrOS | Illumina MiSeq | ⋯ | 0: No | 0: No | 1.0                   | 1.0                   | -1.0                  | Orwoll.BI0153.BI | 18.46968 | 223 | 4.894253 | 0.6273959 |\n",
       "| 5 | BI0215 | CCTCTCGTGATC | GGACTACHVGGGTWTCTAAT | 16S stool samples sequenced for MrOS Vitamin D study | 16S rRNA v4 | GT | Illumina | BI | MrOS | Illumina MiSeq | ⋯ | 0: No | 0: No | 1.0                   | 0.0                   | -1.0                  | Orwoll.BI0215.BI | 20.04983 | 222 | 5.295055 | 0.6793396 |\n",
       "| 6 | BI0353 | TGCCATCTGAAT | GGACTACHVGGGTWTCTAAT | 16S stool samples sequenced for MrOS Vitamin D study | 16S rRNA v4 | GT | Illumina | BI | MrOS | Illumina MiSeq | ⋯ | 0: No | 0: No | 1.0                   | 1.0                   | 0.0                   | Orwoll.BI0353.BI | 13.75183 | 155 | 4.213016 | 0.5790192 |\n",
       "\n"
      ],
      "text/plain": [
       "  SampleName BarcodeSequence LinkerPrimerSequence\n",
       "1 BI0023     TCTGGTGACATT    GGACTACHVGGGTWTCTAAT\n",
       "2 BI0056     CAAGCATGCCTA    GGACTACHVGGGTWTCTAAT\n",
       "3 BI0131     CTATTTGCGACA    GGACTACHVGGGTWTCTAAT\n",
       "4 BI0153     ATCGGCGTTACA    GGACTACHVGGGTWTCTAAT\n",
       "5 BI0215     CCTCTCGTGATC    GGACTACHVGGGTWTCTAAT\n",
       "6 BI0353     TGCCATCTGAAT    GGACTACHVGGGTWTCTAAT\n",
       "  Experiment_Design_Description                       \n",
       "1 16S stool samples sequenced for MrOS Vitamin D study\n",
       "2 16S stool samples sequenced for MrOS Vitamin D study\n",
       "3 16S stool samples sequenced for MrOS Vitamin D study\n",
       "4 16S stool samples sequenced for MrOS Vitamin D study\n",
       "5 16S stool samples sequenced for MrOS Vitamin D study\n",
       "6 16S stool samples sequenced for MrOS Vitamin D study\n",
       "  Library_Construction_Protocol Linker Platform Center_Name Center_Project\n",
       "1 16S rRNA v4                   GT     Illumina BI          MrOS          \n",
       "2 16S rRNA v4                   GT     Illumina BI          MrOS          \n",
       "3 16S rRNA v4                   GT     Illumina BI          MrOS          \n",
       "4 16S rRNA v4                   GT     Illumina BI          MrOS          \n",
       "5 16S rRNA v4                   GT     Illumina BI          MrOS          \n",
       "6 16S rRNA v4                   GT     Illumina BI          MrOS          \n",
       "  Instrument_Model ⋯ M1ADEPR M1BENZO AMAMPT_C1            \n",
       "1 Illumina MiSeq   ⋯ 0: No   0: No   Missing:not collected\n",
       "2 Illumina MiSeq   ⋯ 0: No   0: No   1.0                  \n",
       "3 Illumina MiSeq   ⋯ 0: No   0: No   1.0                  \n",
       "4 Illumina MiSeq   ⋯ 0: No   0: No   1.0                  \n",
       "5 Illumina MiSeq   ⋯ 0: No   0: No   1.0                  \n",
       "6 Illumina MiSeq   ⋯ 0: No   0: No   1.0                  \n",
       "  AMFVT_C1              AMPHIT_15SD           Description      alpha_pd\n",
       "1 Missing:not collected Missing:not collected Orwoll.BI0023.BI 27.77117\n",
       "2 1.0                   0.0                   Orwoll.BI0056.BI 17.93266\n",
       "3 1.0                   0.0                   Orwoll.BI0131.BI 21.45366\n",
       "4 1.0                   -1.0                  Orwoll.BI0153.BI 18.46968\n",
       "5 0.0                   -1.0                  Orwoll.BI0215.BI 20.04983\n",
       "6 1.0                   0.0                   Orwoll.BI0353.BI 13.75183\n",
       "  observed_otus shannon  pielou_e \n",
       "1 302           5.727116 0.6951729\n",
       "2 173           3.888281 0.5229960\n",
       "3 223           4.050730 0.5192645\n",
       "4 223           4.894253 0.6273959\n",
       "5 222           5.295055 0.6793396\n",
       "6 155           4.213016 0.5790192"
      ]
     },
     "metadata": {},
     "output_type": "display_data"
    }
   ],
   "source": [
    "head(mf)"
   ]
  },
  {
   "cell_type": "code",
   "execution_count": 4,
   "metadata": {},
   "outputs": [
    {
     "data": {
      "text/html": [
       "<ol class=list-inline>\n",
       "\t<li>601</li>\n",
       "\t<li>4</li>\n",
       "</ol>\n"
      ],
      "text/latex": [
       "\\begin{enumerate*}\n",
       "\\item 601\n",
       "\\item 4\n",
       "\\end{enumerate*}\n"
      ],
      "text/markdown": [
       "1. 601\n",
       "2. 4\n",
       "\n",
       "\n"
      ],
      "text/plain": [
       "[1] 601   4"
      ]
     },
     "metadata": {},
     "output_type": "display_data"
    },
    {
     "data": {
      "text/html": [
       "<table>\n",
       "<caption>A data.frame: 6 × 4</caption>\n",
       "<thead>\n",
       "\t<tr><th></th><th scope=col>SampleName</th><th scope=col>PC1</th><th scope=col>PC2</th><th scope=col>PC3</th></tr>\n",
       "\t<tr><th></th><th scope=col>&lt;fct&gt;</th><th scope=col>&lt;dbl&gt;</th><th scope=col>&lt;dbl&gt;</th><th scope=col>&lt;dbl&gt;</th></tr>\n",
       "</thead>\n",
       "<tbody>\n",
       "\t<tr><th scope=row>1</th><td>MN1696</td><td>-0.01572254</td><td>-0.04562222</td><td>-0.009077330</td></tr>\n",
       "\t<tr><th scope=row>2</th><td>PI4923</td><td> 0.03410057</td><td> 0.00883331</td><td> 0.036736761</td></tr>\n",
       "\t<tr><th scope=row>3</th><td>PA3754</td><td>-0.03684407</td><td> 0.04831507</td><td>-0.046623863</td></tr>\n",
       "\t<tr><th scope=row>4</th><td>PI4717</td><td> 0.01563000</td><td>-0.02796466</td><td>-0.004461581</td></tr>\n",
       "\t<tr><th scope=row>5</th><td>PA3960</td><td> 0.04218699</td><td>-0.04054513</td><td>-0.015946403</td></tr>\n",
       "\t<tr><th scope=row>6</th><td>MN1521</td><td>-0.06798356</td><td> 0.01172051</td><td> 0.077248450</td></tr>\n",
       "</tbody>\n",
       "</table>\n"
      ],
      "text/latex": [
       "A data.frame: 6 × 4\n",
       "\\begin{tabular}{r|llll}\n",
       "  & SampleName & PC1 & PC2 & PC3\\\\\n",
       "  & <fct> & <dbl> & <dbl> & <dbl>\\\\\n",
       "\\hline\n",
       "\t1 & MN1696 & -0.01572254 & -0.04562222 & -0.009077330\\\\\n",
       "\t2 & PI4923 &  0.03410057 &  0.00883331 &  0.036736761\\\\\n",
       "\t3 & PA3754 & -0.03684407 &  0.04831507 & -0.046623863\\\\\n",
       "\t4 & PI4717 &  0.01563000 & -0.02796466 & -0.004461581\\\\\n",
       "\t5 & PA3960 &  0.04218699 & -0.04054513 & -0.015946403\\\\\n",
       "\t6 & MN1521 & -0.06798356 &  0.01172051 &  0.077248450\\\\\n",
       "\\end{tabular}\n"
      ],
      "text/markdown": [
       "\n",
       "A data.frame: 6 × 4\n",
       "\n",
       "| <!--/--> | SampleName &lt;fct&gt; | PC1 &lt;dbl&gt; | PC2 &lt;dbl&gt; | PC3 &lt;dbl&gt; |\n",
       "|---|---|---|---|---|\n",
       "| 1 | MN1696 | -0.01572254 | -0.04562222 | -0.009077330 |\n",
       "| 2 | PI4923 |  0.03410057 |  0.00883331 |  0.036736761 |\n",
       "| 3 | PA3754 | -0.03684407 |  0.04831507 | -0.046623863 |\n",
       "| 4 | PI4717 |  0.01563000 | -0.02796466 | -0.004461581 |\n",
       "| 5 | PA3960 |  0.04218699 | -0.04054513 | -0.015946403 |\n",
       "| 6 | MN1521 | -0.06798356 |  0.01172051 |  0.077248450 |\n",
       "\n"
      ],
      "text/plain": [
       "  SampleName PC1         PC2         PC3         \n",
       "1 MN1696     -0.01572254 -0.04562222 -0.009077330\n",
       "2 PI4923      0.03410057  0.00883331  0.036736761\n",
       "3 PA3754     -0.03684407  0.04831507 -0.046623863\n",
       "4 PI4717      0.01563000 -0.02796466 -0.004461581\n",
       "5 PA3960      0.04218699 -0.04054513 -0.015946403\n",
       "6 MN1521     -0.06798356  0.01172051  0.077248450"
      ]
     },
     "metadata": {},
     "output_type": "display_data"
    }
   ],
   "source": [
    "pc = read.csv('~/Downloads/lab/sleep/Results/ordination/ordination.txt', header=F, sep='\\t', skip = 4543)\n",
    "colnames(pc) = c('SampleName', 'PC1', 'PC2', 'PC3')\n",
    "dim(pc)\n",
    "head(pc)              "
   ]
  },
  {
   "cell_type": "code",
   "execution_count": 5,
   "metadata": {},
   "outputs": [
    {
     "data": {
      "text/html": [
       "<ol class=list-inline>\n",
       "\t<li>599</li>\n",
       "\t<li>83</li>\n",
       "</ol>\n"
      ],
      "text/latex": [
       "\\begin{enumerate*}\n",
       "\\item 599\n",
       "\\item 83\n",
       "\\end{enumerate*}\n"
      ],
      "text/markdown": [
       "1. 599\n",
       "2. 83\n",
       "\n",
       "\n"
      ],
      "text/plain": [
       "[1] 599  83"
      ]
     },
     "metadata": {},
     "output_type": "display_data"
    }
   ],
   "source": [
    "dat = merge(mf, pc, by='SampleName')\n",
    "dim(dat)"
   ]
  },
  {
   "cell_type": "code",
   "execution_count": 6,
   "metadata": {},
   "outputs": [
    {
     "data": {
      "text/html": [
       "<ol class=list-inline>\n",
       "\t<li>599</li>\n",
       "\t<li>25</li>\n",
       "</ol>\n"
      ],
      "text/latex": [
       "\\begin{enumerate*}\n",
       "\\item 599\n",
       "\\item 25\n",
       "\\end{enumerate*}\n"
      ],
      "text/markdown": [
       "1. 599\n",
       "2. 25\n",
       "\n",
       "\n"
      ],
      "text/plain": [
       "[1] 599  25"
      ]
     },
     "metadata": {},
     "output_type": "display_data"
    },
    {
     "data": {
      "text/html": [
       "<ol class=list-inline>\n",
       "\t<li>599</li>\n",
       "\t<li>3</li>\n",
       "</ol>\n"
      ],
      "text/latex": [
       "\\begin{enumerate*}\n",
       "\\item 599\n",
       "\\item 3\n",
       "\\end{enumerate*}\n"
      ],
      "text/markdown": [
       "1. 599\n",
       "2. 3\n",
       "\n",
       "\n"
      ],
      "text/plain": [
       "[1] 599   3"
      ]
     },
     "metadata": {},
     "output_type": "display_data"
    },
    {
     "data": {
      "text/html": [
       "<table>\n",
       "<caption>A data.frame: 6 × 25</caption>\n",
       "<thead>\n",
       "\t<tr><th></th><th scope=col>GIERACE</th><th scope=col>SITE</th><th scope=col>GIMSTAT</th><th scope=col>MHDIAB</th><th scope=col>MHRHEU1</th><th scope=col>MHOA</th><th scope=col>MHCHF</th><th scope=col>MHMI</th><th scope=col>MHDEPR</th><th scope=col>TUDRAMT_REVISED</th><th scope=col>⋯</th><th scope=col>TURSMOKE</th><th scope=col>M1ADEPR</th><th scope=col>M1BENZO</th><th scope=col>PQPEFFIC</th><th scope=col>AMAMPT_C1</th><th scope=col>AMFVT_C1</th><th scope=col>AMPHIT_15SD</th><th scope=col>Age</th><th scope=col>BMI</th><th scope=col>PASCORE</th></tr>\n",
       "\t<tr><th></th><th scope=col>&lt;fct&gt;</th><th scope=col>&lt;fct&gt;</th><th scope=col>&lt;fct&gt;</th><th scope=col>&lt;fct&gt;</th><th scope=col>&lt;fct&gt;</th><th scope=col>&lt;fct&gt;</th><th scope=col>&lt;fct&gt;</th><th scope=col>&lt;fct&gt;</th><th scope=col>&lt;fct&gt;</th><th scope=col>&lt;fct&gt;</th><th scope=col>⋯</th><th scope=col>&lt;fct&gt;</th><th scope=col>&lt;fct&gt;</th><th scope=col>&lt;fct&gt;</th><th scope=col>&lt;fct&gt;</th><th scope=col>&lt;fct&gt;</th><th scope=col>&lt;fct&gt;</th><th scope=col>&lt;fct&gt;</th><th scope=col>&lt;int&gt;</th><th scope=col>&lt;dbl&gt;</th><th scope=col>&lt;dbl&gt;</th></tr>\n",
       "</thead>\n",
       "<tbody>\n",
       "\t<tr><th scope=row>1</th><td>1:WHITE</td><td>Birmingham</td><td>2: Widowed</td><td>0: No</td><td>0: No </td><td>0: No </td><td>0: No </td><td>0: No </td><td>0: No</td><td>1: Less than one drink per week</td><td>⋯</td><td>M:Not Applicable</td><td>0: No</td><td>0: No</td><td><span style=white-space:pre-wrap>0:&gt;85% EFFICIENCY          </span></td><td>Missing:not collected</td><td>Missing:not collected</td><td>Missing:not collected</td><td>83</td><td>28.89012</td><td> 91.00000</td></tr>\n",
       "\t<tr><th scope=row>2</th><td>1:WHITE</td><td>Birmingham</td><td>1: Married</td><td>0: No</td><td>1: Yes</td><td>1: Yes</td><td>1: Yes</td><td>1: Yes</td><td>0: No</td><td><span style=white-space:pre-wrap>0:None drinker                 </span></td><td>⋯</td><td><span style=white-space:pre-wrap>1:PAST          </span></td><td>0: No</td><td>0: No</td><td><span style=white-space:pre-wrap>3:&lt;65% EFFICIENCY          </span></td><td><span style=white-space:pre-wrap>1.0                  </span></td><td><span style=white-space:pre-wrap>1.0                  </span></td><td><span style=white-space:pre-wrap>0.0                  </span></td><td>81</td><td>28.53980</td><td>199.17857</td></tr>\n",
       "\t<tr><th scope=row>3</th><td>1:WHITE</td><td>Birmingham</td><td>1: Married</td><td>0: No</td><td>0: No </td><td>0: No </td><td>0: No </td><td>0: No </td><td>0: No</td><td><span style=white-space:pre-wrap>0:None drinker                 </span></td><td>⋯</td><td><span style=white-space:pre-wrap>1:PAST          </span></td><td>0: No</td><td>0: No</td><td><span style=white-space:pre-wrap>0:&gt;85% EFFICIENCY          </span></td><td><span style=white-space:pre-wrap>1.0                  </span></td><td><span style=white-space:pre-wrap>1.0                  </span></td><td><span style=white-space:pre-wrap>0.0                  </span></td><td>83</td><td>25.01424</td><td>161.71429</td></tr>\n",
       "\t<tr><th scope=row>4</th><td>1:WHITE</td><td>Birmingham</td><td>1: Married</td><td>0: No</td><td>0: No </td><td>0: No </td><td>0: No </td><td>0: No </td><td>0: No</td><td><span style=white-space:pre-wrap>4: 6-13 drinks per week        </span></td><td>⋯</td><td><span style=white-space:pre-wrap>1:PAST          </span></td><td>0: No</td><td>0: No</td><td><span style=white-space:pre-wrap>0:&gt;85% EFFICIENCY          </span></td><td><span style=white-space:pre-wrap>1.0                  </span></td><td><span style=white-space:pre-wrap>1.0                  </span></td><td><span style=white-space:pre-wrap>-1.0                 </span></td><td>79</td><td>30.87637</td><td> 88.21429</td></tr>\n",
       "\t<tr><th scope=row>5</th><td>1:WHITE</td><td>Birmingham</td><td>1: Married</td><td>0: No</td><td>0: No </td><td>1: Yes</td><td>0: No </td><td>0: No </td><td>0: No</td><td><span style=white-space:pre-wrap>3: 3-5 drinks per week         </span></td><td>⋯</td><td><span style=white-space:pre-wrap>1:PAST          </span></td><td>0: No</td><td>0: No</td><td><span style=white-space:pre-wrap>0:&gt;85% EFFICIENCY          </span></td><td><span style=white-space:pre-wrap>1.0                  </span></td><td><span style=white-space:pre-wrap>0.0                  </span></td><td><span style=white-space:pre-wrap>-1.0                 </span></td><td>81</td><td>33.58739</td><td>256.82143</td></tr>\n",
       "\t<tr><th scope=row>6</th><td>1:WHITE</td><td>Birmingham</td><td>1: Married</td><td>0: No</td><td>0: No </td><td>0: No </td><td>0: No </td><td>0: No </td><td>0: No</td><td><span style=white-space:pre-wrap>0:None drinker                 </span></td><td>⋯</td><td><span style=white-space:pre-wrap>1:PAST          </span></td><td>0: No</td><td>0: No</td><td>1:&gt;=75% TO &lt;=85% EFFICIENCY</td><td><span style=white-space:pre-wrap>1.0                  </span></td><td><span style=white-space:pre-wrap>1.0                  </span></td><td><span style=white-space:pre-wrap>0.0                  </span></td><td>80</td><td>26.41523</td><td>179.57143</td></tr>\n",
       "</tbody>\n",
       "</table>\n"
      ],
      "text/latex": [
       "A data.frame: 6 × 25\n",
       "\\begin{tabular}{r|lllllllllllllllllllll}\n",
       "  & GIERACE & SITE & GIMSTAT & MHDIAB & MHRHEU1 & MHOA & MHCHF & MHMI & MHDEPR & TUDRAMT\\_REVISED & ⋯ & TURSMOKE & M1ADEPR & M1BENZO & PQPEFFIC & AMAMPT\\_C1 & AMFVT\\_C1 & AMPHIT\\_15SD & Age & BMI & PASCORE\\\\\n",
       "  & <fct> & <fct> & <fct> & <fct> & <fct> & <fct> & <fct> & <fct> & <fct> & <fct> & ⋯ & <fct> & <fct> & <fct> & <fct> & <fct> & <fct> & <fct> & <int> & <dbl> & <dbl>\\\\\n",
       "\\hline\n",
       "\t1 & 1:WHITE & Birmingham & 2: Widowed & 0: No & 0: No  & 0: No  & 0: No  & 0: No  & 0: No & 1: Less than one drink per week & ⋯ & M:Not Applicable & 0: No & 0: No & 0:>85\\% EFFICIENCY           & Missing:not collected & Missing:not collected & Missing:not collected & 83 & 28.89012 &  91.00000\\\\\n",
       "\t2 & 1:WHITE & Birmingham & 1: Married & 0: No & 1: Yes & 1: Yes & 1: Yes & 1: Yes & 0: No & 0:None drinker                  & ⋯ & 1:PAST           & 0: No & 0: No & 3:<65\\% EFFICIENCY           & 1.0                   & 1.0                   & 0.0                   & 81 & 28.53980 & 199.17857\\\\\n",
       "\t3 & 1:WHITE & Birmingham & 1: Married & 0: No & 0: No  & 0: No  & 0: No  & 0: No  & 0: No & 0:None drinker                  & ⋯ & 1:PAST           & 0: No & 0: No & 0:>85\\% EFFICIENCY           & 1.0                   & 1.0                   & 0.0                   & 83 & 25.01424 & 161.71429\\\\\n",
       "\t4 & 1:WHITE & Birmingham & 1: Married & 0: No & 0: No  & 0: No  & 0: No  & 0: No  & 0: No & 4: 6-13 drinks per week         & ⋯ & 1:PAST           & 0: No & 0: No & 0:>85\\% EFFICIENCY           & 1.0                   & 1.0                   & -1.0                  & 79 & 30.87637 &  88.21429\\\\\n",
       "\t5 & 1:WHITE & Birmingham & 1: Married & 0: No & 0: No  & 1: Yes & 0: No  & 0: No  & 0: No & 3: 3-5 drinks per week          & ⋯ & 1:PAST           & 0: No & 0: No & 0:>85\\% EFFICIENCY           & 1.0                   & 0.0                   & -1.0                  & 81 & 33.58739 & 256.82143\\\\\n",
       "\t6 & 1:WHITE & Birmingham & 1: Married & 0: No & 0: No  & 0: No  & 0: No  & 0: No  & 0: No & 0:None drinker                  & ⋯ & 1:PAST           & 0: No & 0: No & 1:>=75\\% TO <=85\\% EFFICIENCY & 1.0                   & 1.0                   & 0.0                   & 80 & 26.41523 & 179.57143\\\\\n",
       "\\end{tabular}\n"
      ],
      "text/markdown": [
       "\n",
       "A data.frame: 6 × 25\n",
       "\n",
       "| <!--/--> | GIERACE &lt;fct&gt; | SITE &lt;fct&gt; | GIMSTAT &lt;fct&gt; | MHDIAB &lt;fct&gt; | MHRHEU1 &lt;fct&gt; | MHOA &lt;fct&gt; | MHCHF &lt;fct&gt; | MHMI &lt;fct&gt; | MHDEPR &lt;fct&gt; | TUDRAMT_REVISED &lt;fct&gt; | ⋯ ⋯ | TURSMOKE &lt;fct&gt; | M1ADEPR &lt;fct&gt; | M1BENZO &lt;fct&gt; | PQPEFFIC &lt;fct&gt; | AMAMPT_C1 &lt;fct&gt; | AMFVT_C1 &lt;fct&gt; | AMPHIT_15SD &lt;fct&gt; | Age &lt;int&gt; | BMI &lt;dbl&gt; | PASCORE &lt;dbl&gt; |\n",
       "|---|---|---|---|---|---|---|---|---|---|---|---|---|---|---|---|---|---|---|---|---|---|\n",
       "| 1 | 1:WHITE | Birmingham | 2: Widowed | 0: No | 0: No  | 0: No  | 0: No  | 0: No  | 0: No | 1: Less than one drink per week | ⋯ | M:Not Applicable | 0: No | 0: No | 0:&gt;85% EFFICIENCY           | Missing:not collected | Missing:not collected | Missing:not collected | 83 | 28.89012 |  91.00000 |\n",
       "| 2 | 1:WHITE | Birmingham | 1: Married | 0: No | 1: Yes | 1: Yes | 1: Yes | 1: Yes | 0: No | 0:None drinker                  | ⋯ | 1:PAST           | 0: No | 0: No | 3:&lt;65% EFFICIENCY           | 1.0                   | 1.0                   | 0.0                   | 81 | 28.53980 | 199.17857 |\n",
       "| 3 | 1:WHITE | Birmingham | 1: Married | 0: No | 0: No  | 0: No  | 0: No  | 0: No  | 0: No | 0:None drinker                  | ⋯ | 1:PAST           | 0: No | 0: No | 0:&gt;85% EFFICIENCY           | 1.0                   | 1.0                   | 0.0                   | 83 | 25.01424 | 161.71429 |\n",
       "| 4 | 1:WHITE | Birmingham | 1: Married | 0: No | 0: No  | 0: No  | 0: No  | 0: No  | 0: No | 4: 6-13 drinks per week         | ⋯ | 1:PAST           | 0: No | 0: No | 0:&gt;85% EFFICIENCY           | 1.0                   | 1.0                   | -1.0                  | 79 | 30.87637 |  88.21429 |\n",
       "| 5 | 1:WHITE | Birmingham | 1: Married | 0: No | 0: No  | 1: Yes | 0: No  | 0: No  | 0: No | 3: 3-5 drinks per week          | ⋯ | 1:PAST           | 0: No | 0: No | 0:&gt;85% EFFICIENCY           | 1.0                   | 0.0                   | -1.0                  | 81 | 33.58739 | 256.82143 |\n",
       "| 6 | 1:WHITE | Birmingham | 1: Married | 0: No | 0: No  | 0: No  | 0: No  | 0: No  | 0: No | 0:None drinker                  | ⋯ | 1:PAST           | 0: No | 0: No | 1:&gt;=75% TO &lt;=85% EFFICIENCY | 1.0                   | 1.0                   | 0.0                   | 80 | 26.41523 | 179.57143 |\n",
       "\n"
      ],
      "text/plain": [
       "  GIERACE SITE       GIMSTAT    MHDIAB MHRHEU1 MHOA   MHCHF  MHMI   MHDEPR\n",
       "1 1:WHITE Birmingham 2: Widowed 0: No  0: No   0: No  0: No  0: No  0: No \n",
       "2 1:WHITE Birmingham 1: Married 0: No  1: Yes  1: Yes 1: Yes 1: Yes 0: No \n",
       "3 1:WHITE Birmingham 1: Married 0: No  0: No   0: No  0: No  0: No  0: No \n",
       "4 1:WHITE Birmingham 1: Married 0: No  0: No   0: No  0: No  0: No  0: No \n",
       "5 1:WHITE Birmingham 1: Married 0: No  0: No   1: Yes 0: No  0: No  0: No \n",
       "6 1:WHITE Birmingham 1: Married 0: No  0: No   0: No  0: No  0: No  0: No \n",
       "  TUDRAMT_REVISED                 ⋯ TURSMOKE         M1ADEPR M1BENZO\n",
       "1 1: Less than one drink per week ⋯ M:Not Applicable 0: No   0: No  \n",
       "2 0:None drinker                  ⋯ 1:PAST           0: No   0: No  \n",
       "3 0:None drinker                  ⋯ 1:PAST           0: No   0: No  \n",
       "4 4: 6-13 drinks per week         ⋯ 1:PAST           0: No   0: No  \n",
       "5 3: 3-5 drinks per week          ⋯ 1:PAST           0: No   0: No  \n",
       "6 0:None drinker                  ⋯ 1:PAST           0: No   0: No  \n",
       "  PQPEFFIC                    AMAMPT_C1             AMFVT_C1             \n",
       "1 0:>85% EFFICIENCY           Missing:not collected Missing:not collected\n",
       "2 3:<65% EFFICIENCY           1.0                   1.0                  \n",
       "3 0:>85% EFFICIENCY           1.0                   1.0                  \n",
       "4 0:>85% EFFICIENCY           1.0                   1.0                  \n",
       "5 0:>85% EFFICIENCY           1.0                   0.0                  \n",
       "6 1:>=75% TO <=85% EFFICIENCY 1.0                   1.0                  \n",
       "  AMPHIT_15SD           Age BMI      PASCORE  \n",
       "1 Missing:not collected 83  28.89012  91.00000\n",
       "2 0.0                   81  28.53980 199.17857\n",
       "3 0.0                   83  25.01424 161.71429\n",
       "4 -1.0                  79  30.87637  88.21429\n",
       "5 -1.0                  81  33.58739 256.82143\n",
       "6 0.0                   80  26.41523 179.57143"
      ]
     },
     "metadata": {},
     "output_type": "display_data"
    },
    {
     "data": {
      "text/html": [
       "<table>\n",
       "<caption>A data.frame: 6 × 3</caption>\n",
       "<thead>\n",
       "\t<tr><th></th><th scope=col>PC1</th><th scope=col>PC2</th><th scope=col>PC3</th></tr>\n",
       "\t<tr><th></th><th scope=col>&lt;dbl&gt;</th><th scope=col>&lt;dbl&gt;</th><th scope=col>&lt;dbl&gt;</th></tr>\n",
       "</thead>\n",
       "<tbody>\n",
       "\t<tr><th scope=row>1</th><td>-0.068734862</td><td> 0.01375740</td><td>-0.006227410</td></tr>\n",
       "\t<tr><th scope=row>2</th><td> 0.083499986</td><td>-0.02233200</td><td>-0.009408162</td></tr>\n",
       "\t<tr><th scope=row>3</th><td> 0.021765640</td><td> 0.02795400</td><td> 0.010326054</td></tr>\n",
       "\t<tr><th scope=row>4</th><td> 0.031469528</td><td> 0.01069463</td><td> 0.012727919</td></tr>\n",
       "\t<tr><th scope=row>5</th><td> 0.027728490</td><td>-0.01835689</td><td> 0.025420916</td></tr>\n",
       "\t<tr><th scope=row>6</th><td>-0.009028151</td><td>-0.02402834</td><td> 0.025013378</td></tr>\n",
       "</tbody>\n",
       "</table>\n"
      ],
      "text/latex": [
       "A data.frame: 6 × 3\n",
       "\\begin{tabular}{r|lll}\n",
       "  & PC1 & PC2 & PC3\\\\\n",
       "  & <dbl> & <dbl> & <dbl>\\\\\n",
       "\\hline\n",
       "\t1 & -0.068734862 &  0.01375740 & -0.006227410\\\\\n",
       "\t2 &  0.083499986 & -0.02233200 & -0.009408162\\\\\n",
       "\t3 &  0.021765640 &  0.02795400 &  0.010326054\\\\\n",
       "\t4 &  0.031469528 &  0.01069463 &  0.012727919\\\\\n",
       "\t5 &  0.027728490 & -0.01835689 &  0.025420916\\\\\n",
       "\t6 & -0.009028151 & -0.02402834 &  0.025013378\\\\\n",
       "\\end{tabular}\n"
      ],
      "text/markdown": [
       "\n",
       "A data.frame: 6 × 3\n",
       "\n",
       "| <!--/--> | PC1 &lt;dbl&gt; | PC2 &lt;dbl&gt; | PC3 &lt;dbl&gt; |\n",
       "|---|---|---|---|\n",
       "| 1 | -0.068734862 |  0.01375740 | -0.006227410 |\n",
       "| 2 |  0.083499986 | -0.02233200 | -0.009408162 |\n",
       "| 3 |  0.021765640 |  0.02795400 |  0.010326054 |\n",
       "| 4 |  0.031469528 |  0.01069463 |  0.012727919 |\n",
       "| 5 |  0.027728490 | -0.01835689 |  0.025420916 |\n",
       "| 6 | -0.009028151 | -0.02402834 |  0.025013378 |\n",
       "\n"
      ],
      "text/plain": [
       "  PC1          PC2         PC3         \n",
       "1 -0.068734862  0.01375740 -0.006227410\n",
       "2  0.083499986 -0.02233200 -0.009408162\n",
       "3  0.021765640  0.02795400  0.010326054\n",
       "4  0.031469528  0.01069463  0.012727919\n",
       "5  0.027728490 -0.01835689  0.025420916\n",
       "6 -0.009028151 -0.02402834  0.025013378"
      ]
     },
     "metadata": {},
     "output_type": "display_data"
    }
   ],
   "source": [
    "# convert categorial to factors\n",
    "vars_cat = c('GIERACE', 'SITE', 'GIMSTAT', 'MHDIAB', 'MHRHEU1', 'MHOA', 'MHCHF', 'MHMI', 'MHDEPR', \n",
    "             'TUDRAMT_REVISED', 'PQPSLMED', 'PQPSQUAL', 'QLCOMP', 'SLEEPHRS', 'PQBADSLP', \n",
    "             'TURSMOKE', 'M1ADEPR', 'M1BENZO', 'PQPEFFIC', 'AMAMPT_C1', 'AMFVT_C1', 'AMPHIT_15SD')\n",
    "dat[vars_cat] = lapply(dat[vars_cat], factor)\n",
    "\n",
    "# # convert continuous to numeric\n",
    "vars_cts = c('Age', 'BMI', 'PASCORE')\n",
    "vars_pcs = c('PC1', 'PC2', 'PC3')\n",
    "\n",
    "dat = dat[c(vars_cat, vars_cts, vars_pcs)]\n",
    "dat = dat[complete.cases(dat), ]\n",
    "X = dat[c(vars_cat, vars_cts)]\n",
    "Y = dat[, vars_pcs]\n",
    "\n",
    "dim(X)\n",
    "dim(Y)\n",
    "\n",
    "head(X)\n",
    "head(Y)"
   ]
  },
  {
   "cell_type": "code",
   "execution_count": 7,
   "metadata": {},
   "outputs": [],
   "source": [
    "mod0 <- rda(Y ~ 1., X)  # Model with intercept only\n",
    "mod1 <- rda(Y ~ ., X)  # Model with all explanatory variables"
   ]
  },
  {
   "cell_type": "code",
   "execution_count": 8,
   "metadata": {},
   "outputs": [
    {
     "name": "stdout",
     "output_type": "stream",
     "text": [
      "Step: R2.adj= 0 \n",
      "Call: Y ~ 1 \n",
      " \n",
      "                    R2.adjusted\n",
      "<All variables>    0.0553396657\n",
      "+ GIERACE          0.0212659989\n",
      "+ PASCORE          0.0108336143\n",
      "+ MHDIAB           0.0102277624\n",
      "+ SITE             0.0079410795\n",
      "+ M1ADEPR          0.0071428549\n",
      "+ AMFVT_C1         0.0071073862\n",
      "+ BMI              0.0052285766\n",
      "+ PQBADSLP         0.0044767415\n",
      "+ AMPHIT_15SD      0.0042169922\n",
      "+ PQPEFFIC         0.0038819240\n",
      "+ MHDEPR           0.0027601549\n",
      "+ MHOA             0.0026403285\n",
      "+ Age              0.0022206121\n",
      "+ PQPSQUAL         0.0021820901\n",
      "+ GIMSTAT          0.0018193795\n",
      "+ TURSMOKE         0.0015238012\n",
      "+ SLEEPHRS         0.0010555394\n",
      "+ PQPSLMED         0.0009710425\n",
      "+ TUDRAMT_REVISED  0.0005936172\n",
      "+ M1BENZO          0.0004094830\n",
      "+ AMAMPT_C1        0.0001422946\n",
      "<none>             0.0000000000\n",
      "+ QLCOMP          -0.0003964440\n",
      "+ MHRHEU1         -0.0004473415\n",
      "+ MHCHF           -0.0010117996\n",
      "+ MHMI            -0.0013239583\n",
      "\n",
      "          Df     AIC      F Pr(>F)   \n",
      "+ GIERACE  4 -3179.6 4.2483  0.002 **\n",
      "---\n",
      "Signif. codes:  0 ‘***’ 0.001 ‘**’ 0.01 ‘*’ 0.05 ‘.’ 0.1 ‘ ’ 1\n",
      "\n",
      "Step: R2.adj= 0.021266 \n",
      "Call: Y ~ GIERACE \n",
      " \n",
      "                  R2.adjusted\n",
      "<All variables>    0.05533967\n",
      "+ PASCORE          0.03186304\n",
      "+ MHDIAB           0.02984887\n",
      "+ SITE             0.02864094\n",
      "+ M1ADEPR          0.02859725\n",
      "+ AMFVT_C1         0.02775597\n",
      "+ BMI              0.02741286\n",
      "+ PQBADSLP         0.02620675\n",
      "+ AMPHIT_15SD      0.02604023\n",
      "+ MHOA             0.02451792\n",
      "+ PQPEFFIC         0.02397162\n",
      "+ TURSMOKE         0.02366985\n",
      "+ MHDEPR           0.02341256\n",
      "+ PQPSQUAL         0.02325610\n",
      "+ Age              0.02283549\n",
      "+ GIMSTAT          0.02252488\n",
      "+ SLEEPHRS         0.02245649\n",
      "+ PQPSLMED         0.02189165\n",
      "+ M1BENZO          0.02179128\n",
      "+ AMAMPT_C1        0.02151844\n",
      "<none>             0.02126600\n",
      "+ MHRHEU1          0.02102601\n",
      "+ MHCHF            0.02098133\n",
      "+ QLCOMP           0.02089196\n",
      "+ TUDRAMT_REVISED  0.02074059\n",
      "+ MHMI             0.02000903\n",
      "\n",
      "          Df     AIC      F Pr(>F)   \n",
      "+ PASCORE  1 -3185.1 7.5018  0.002 **\n",
      "---\n",
      "Signif. codes:  0 ‘***’ 0.001 ‘**’ 0.01 ‘*’ 0.05 ‘.’ 0.1 ‘ ’ 1\n",
      "\n",
      "Step: R2.adj= 0.03186304 \n",
      "Call: Y ~ GIERACE + PASCORE \n",
      " \n",
      "                  R2.adjusted\n",
      "<All variables>    0.05533967\n",
      "+ SITE             0.03985381\n",
      "+ MHDIAB           0.03913651\n",
      "+ M1ADEPR          0.03842874\n",
      "+ BMI              0.03755262\n",
      "+ PQBADSLP         0.03566963\n",
      "+ AMPHIT_15SD      0.03536311\n",
      "+ MHOA             0.03532340\n",
      "+ Age              0.03422063\n",
      "+ AMFVT_C1         0.03408731\n",
      "+ PQPSQUAL         0.03361352\n",
      "+ TURSMOKE         0.03354801\n",
      "+ MHDEPR           0.03352438\n",
      "+ GIMSTAT          0.03282919\n",
      "+ PQPEFFIC         0.03278381\n",
      "+ M1BENZO          0.03238114\n",
      "+ SLEEPHRS         0.03233926\n",
      "+ PQPSLMED         0.03219361\n",
      "<none>             0.03186304\n",
      "+ MHRHEU1          0.03180631\n",
      "+ MHCHF            0.03143096\n",
      "+ TUDRAMT_REVISED  0.03113618\n",
      "+ AMAMPT_C1        0.03076587\n",
      "+ QLCOMP           0.03057162\n",
      "+ MHMI             0.03050626\n",
      "\n",
      "       Df     AIC     F Pr(>F)  \n",
      "+ SITE  5 -3185.2 1.987  0.014 *\n",
      "---\n",
      "Signif. codes:  0 ‘***’ 0.001 ‘**’ 0.01 ‘*’ 0.05 ‘.’ 0.1 ‘ ’ 1\n",
      "\n",
      "Step: R2.adj= 0.03985381 \n",
      "Call: Y ~ GIERACE + PASCORE + SITE \n",
      " \n",
      "                  R2.adjusted\n",
      "<All variables>    0.05533967\n",
      "+ M1ADEPR          0.04610928\n",
      "+ MHDIAB           0.04496389\n",
      "+ BMI              0.04434320\n",
      "+ PQBADSLP         0.04350612\n",
      "+ AMPHIT_15SD      0.04317052\n",
      "+ MHOA             0.04269277\n",
      "+ AMFVT_C1         0.04200017\n",
      "+ TURSMOKE         0.04185365\n",
      "+ PQPSQUAL         0.04169750\n",
      "+ Age              0.04167989\n",
      "+ MHDEPR           0.04160905\n",
      "+ PQPEFFIC         0.04072917\n",
      "+ PQPSLMED         0.04034445\n",
      "+ M1BENZO          0.03991358\n",
      "<none>             0.03985381\n",
      "+ MHRHEU1          0.03964058\n",
      "+ GIMSTAT          0.03962598\n",
      "+ MHCHF            0.03928308\n",
      "+ SLEEPHRS         0.03904018\n",
      "+ QLCOMP           0.03852223\n",
      "+ MHMI             0.03841185\n",
      "+ AMAMPT_C1        0.03838130\n",
      "+ TUDRAMT_REVISED  0.03689635\n",
      "\n",
      "          Df     AIC     F Pr(>F)   \n",
      "+ M1ADEPR  1 -3188.1 4.856  0.004 **\n",
      "---\n",
      "Signif. codes:  0 ‘***’ 0.001 ‘**’ 0.01 ‘*’ 0.05 ‘.’ 0.1 ‘ ’ 1\n",
      "\n",
      "Step: R2.adj= 0.04610928 \n",
      "Call: Y ~ GIERACE + PASCORE + SITE + M1ADEPR \n",
      " \n",
      "                  R2.adjusted\n",
      "<All variables>    0.05533967\n",
      "+ MHDIAB           0.05119254\n",
      "+ BMI              0.05064989\n",
      "+ AMPHIT_15SD      0.04925877\n",
      "+ MHOA             0.04868290\n",
      "+ PQBADSLP         0.04861074\n",
      "+ Age              0.04798584\n",
      "+ AMFVT_C1         0.04756736\n",
      "+ TURSMOKE         0.04750350\n",
      "+ PQPSQUAL         0.04738382\n",
      "+ PQPEFFIC         0.04676423\n",
      "+ MHRHEU1          0.04625535\n",
      "+ M1BENZO          0.04616327\n",
      "<none>             0.04610928\n",
      "+ PQPSLMED         0.04601200\n",
      "+ GIMSTAT          0.04596435\n",
      "+ SLEEPHRS         0.04591094\n",
      "+ MHCHF            0.04553525\n",
      "+ MHDEPR           0.04505734\n",
      "+ QLCOMP           0.04475271\n",
      "+ MHMI             0.04465458\n",
      "+ AMAMPT_C1        0.04453282\n",
      "+ TUDRAMT_REVISED  0.04301671\n",
      "\n",
      "         Df     AIC      F Pr(>F)   \n",
      "+ MHDIAB  1 -3190.3 4.1449  0.008 **\n",
      "---\n",
      "Signif. codes:  0 ‘***’ 0.001 ‘**’ 0.01 ‘*’ 0.05 ‘.’ 0.1 ‘ ’ 1\n",
      "\n",
      "Step: R2.adj= 0.05119254 \n",
      "Call: Y ~ GIERACE + PASCORE + SITE + M1ADEPR + MHDIAB \n",
      " \n",
      "                  R2.adjusted\n",
      "+ BMI              0.05541869\n",
      "<All variables>    0.05533967\n",
      "+ MHOA             0.05393101\n",
      "+ AMPHIT_15SD      0.05378264\n",
      "+ PQBADSLP         0.05316272\n",
      "+ AMFVT_C1         0.05258484\n",
      "+ TURSMOKE         0.05255353\n",
      "+ Age              0.05254110\n",
      "+ PQPSQUAL         0.05237836\n",
      "+ MHRHEU1          0.05157658\n",
      "+ GIMSTAT          0.05141690\n",
      "+ PQPEFFIC         0.05132910\n",
      "+ M1BENZO          0.05126956\n",
      "<none>             0.05119254\n",
      "+ SLEEPHRS         0.05115183\n",
      "+ PQPSLMED         0.05101896\n",
      "+ MHCHF            0.05042592\n",
      "+ MHDEPR           0.05020162\n",
      "+ QLCOMP           0.05003523\n",
      "+ AMAMPT_C1        0.04999104\n",
      "+ MHMI             0.04974765\n",
      "+ TUDRAMT_REVISED  0.04806203\n",
      "\n"
     ]
    }
   ],
   "source": [
    "step.res <- ordiR2step(mod0, mod1, perm.max = 1000)"
   ]
  },
  {
   "cell_type": "code",
   "execution_count": 9,
   "metadata": {},
   "outputs": [
    {
     "data": {
      "text/html": [
       "<table>\n",
       "<caption>A anova: 6 × 5</caption>\n",
       "<thead>\n",
       "\t<tr><th></th><th scope=col>R2.adj</th><th scope=col>Df</th><th scope=col>AIC</th><th scope=col>F</th><th scope=col>Pr(&gt;F)</th></tr>\n",
       "\t<tr><th></th><th scope=col>&lt;dbl&gt;</th><th scope=col>&lt;dbl&gt;</th><th scope=col>&lt;dbl&gt;</th><th scope=col>&lt;dbl&gt;</th><th scope=col>&lt;dbl&gt;</th></tr>\n",
       "</thead>\n",
       "<tbody>\n",
       "\t<tr><th scope=row>+ GIERACE</th><td>0.02126600</td><td> 4</td><td>-3179.589</td><td>4.248346</td><td>0.002</td></tr>\n",
       "\t<tr><th scope=row>+ PASCORE</th><td>0.03186304</td><td> 1</td><td>-3185.119</td><td>7.501807</td><td>0.002</td></tr>\n",
       "\t<tr><th scope=row>+ SITE</th><td>0.03985381</td><td> 5</td><td>-3185.156</td><td>1.987043</td><td>0.014</td></tr>\n",
       "\t<tr><th scope=row>+ M1ADEPR</th><td>0.04610928</td><td> 1</td><td>-3188.090</td><td>4.856019</td><td>0.004</td></tr>\n",
       "\t<tr><th scope=row>+ MHDIAB</th><td>0.05119254</td><td> 1</td><td>-3190.312</td><td>4.144864</td><td>0.008</td></tr>\n",
       "\t<tr><th scope=row>&lt;All variables&gt;</th><td>0.05533967</td><td>NA</td><td>       NA</td><td>      NA</td><td>   NA</td></tr>\n",
       "</tbody>\n",
       "</table>\n"
      ],
      "text/latex": [
       "A anova: 6 × 5\n",
       "\\begin{tabular}{r|lllll}\n",
       "  & R2.adj & Df & AIC & F & Pr(>F)\\\\\n",
       "  & <dbl> & <dbl> & <dbl> & <dbl> & <dbl>\\\\\n",
       "\\hline\n",
       "\t+ GIERACE & 0.02126600 &  4 & -3179.589 & 4.248346 & 0.002\\\\\n",
       "\t+ PASCORE & 0.03186304 &  1 & -3185.119 & 7.501807 & 0.002\\\\\n",
       "\t+ SITE & 0.03985381 &  5 & -3185.156 & 1.987043 & 0.014\\\\\n",
       "\t+ M1ADEPR & 0.04610928 &  1 & -3188.090 & 4.856019 & 0.004\\\\\n",
       "\t+ MHDIAB & 0.05119254 &  1 & -3190.312 & 4.144864 & 0.008\\\\\n",
       "\t<All variables> & 0.05533967 & NA &        NA &       NA &    NA\\\\\n",
       "\\end{tabular}\n"
      ],
      "text/markdown": [
       "\n",
       "A anova: 6 × 5\n",
       "\n",
       "| <!--/--> | R2.adj &lt;dbl&gt; | Df &lt;dbl&gt; | AIC &lt;dbl&gt; | F &lt;dbl&gt; | Pr(&gt;F) &lt;dbl&gt; |\n",
       "|---|---|---|---|---|---|\n",
       "| + GIERACE | 0.02126600 |  4 | -3179.589 | 4.248346 | 0.002 |\n",
       "| + PASCORE | 0.03186304 |  1 | -3185.119 | 7.501807 | 0.002 |\n",
       "| + SITE | 0.03985381 |  5 | -3185.156 | 1.987043 | 0.014 |\n",
       "| + M1ADEPR | 0.04610928 |  1 | -3188.090 | 4.856019 | 0.004 |\n",
       "| + MHDIAB | 0.05119254 |  1 | -3190.312 | 4.144864 | 0.008 |\n",
       "| &lt;All variables&gt; | 0.05533967 | NA |        NA |       NA |    NA |\n",
       "\n"
      ],
      "text/plain": [
       "                R2.adj     Df AIC       F        Pr(>F)\n",
       "+ GIERACE       0.02126600  4 -3179.589 4.248346 0.002 \n",
       "+ PASCORE       0.03186304  1 -3185.119 7.501807 0.002 \n",
       "+ SITE          0.03985381  5 -3185.156 1.987043 0.014 \n",
       "+ M1ADEPR       0.04610928  1 -3188.090 4.856019 0.004 \n",
       "+ MHDIAB        0.05119254  1 -3190.312 4.144864 0.008 \n",
       "<All variables> 0.05533967 NA        NA       NA    NA "
      ]
     },
     "metadata": {},
     "output_type": "display_data"
    }
   ],
   "source": [
    "table = step.res$anova\n",
    "table"
   ]
  },
  {
   "cell_type": "code",
   "execution_count": 10,
   "metadata": {},
   "outputs": [
    {
     "data": {
      "text/plain": [
       "rda(formula = Y ~ GIERACE + PASCORE + SITE + M1ADEPR + MHDIAB, \n",
       "    data = X)"
      ]
     },
     "metadata": {},
     "output_type": "display_data"
    }
   ],
   "source": [
    "table$ES.RDA = c(table$R2.adj[1], table$R2.adj[2]-table$R2.adj[1], \n",
    "                       table$R2.adj[3]-table$R2.adj[2], table$R2.adj[4]-table$R2.adj[3],\n",
    "                       table$R2.adj[5]-table$R2.adj[4], table$R2.adj[6]-table$R2.adj[5])\n",
    "table = table[-6, ]\n",
    "\n",
    "step.res$call"
   ]
  },
  {
   "cell_type": "code",
   "execution_count": 11,
   "metadata": {},
   "outputs": [
    {
     "data": {
      "text/html": [
       "<table>\n",
       "<caption>A anova: 5 × 6</caption>\n",
       "<thead>\n",
       "\t<tr><th></th><th scope=col>R2.adj</th><th scope=col>Df</th><th scope=col>AIC</th><th scope=col>F</th><th scope=col>Pr(&gt;F)</th><th scope=col>ES.RDA</th></tr>\n",
       "\t<tr><th></th><th scope=col>&lt;dbl&gt;</th><th scope=col>&lt;dbl&gt;</th><th scope=col>&lt;dbl&gt;</th><th scope=col>&lt;dbl&gt;</th><th scope=col>&lt;dbl&gt;</th><th scope=col>&lt;dbl&gt;</th></tr>\n",
       "</thead>\n",
       "<tbody>\n",
       "\t<tr><th scope=row>+ GIERACE</th><td>0.02126600</td><td>4</td><td>-3179.589</td><td>4.248346</td><td>0.002</td><td>0.021265999</td></tr>\n",
       "\t<tr><th scope=row>+ PASCORE</th><td>0.03186304</td><td>1</td><td>-3185.119</td><td>7.501807</td><td>0.002</td><td>0.010597037</td></tr>\n",
       "\t<tr><th scope=row>+ SITE</th><td>0.03985381</td><td>5</td><td>-3185.156</td><td>1.987043</td><td>0.014</td><td>0.007990772</td></tr>\n",
       "\t<tr><th scope=row>+ M1ADEPR</th><td>0.04610928</td><td>1</td><td>-3188.090</td><td>4.856019</td><td>0.004</td><td>0.006255477</td></tr>\n",
       "\t<tr><th scope=row>+ MHDIAB</th><td>0.05119254</td><td>1</td><td>-3190.312</td><td>4.144864</td><td>0.008</td><td>0.005083255</td></tr>\n",
       "</tbody>\n",
       "</table>\n"
      ],
      "text/latex": [
       "A anova: 5 × 6\n",
       "\\begin{tabular}{r|llllll}\n",
       "  & R2.adj & Df & AIC & F & Pr(>F) & ES.RDA\\\\\n",
       "  & <dbl> & <dbl> & <dbl> & <dbl> & <dbl> & <dbl>\\\\\n",
       "\\hline\n",
       "\t+ GIERACE & 0.02126600 & 4 & -3179.589 & 4.248346 & 0.002 & 0.021265999\\\\\n",
       "\t+ PASCORE & 0.03186304 & 1 & -3185.119 & 7.501807 & 0.002 & 0.010597037\\\\\n",
       "\t+ SITE & 0.03985381 & 5 & -3185.156 & 1.987043 & 0.014 & 0.007990772\\\\\n",
       "\t+ M1ADEPR & 0.04610928 & 1 & -3188.090 & 4.856019 & 0.004 & 0.006255477\\\\\n",
       "\t+ MHDIAB & 0.05119254 & 1 & -3190.312 & 4.144864 & 0.008 & 0.005083255\\\\\n",
       "\\end{tabular}\n"
      ],
      "text/markdown": [
       "\n",
       "A anova: 5 × 6\n",
       "\n",
       "| <!--/--> | R2.adj &lt;dbl&gt; | Df &lt;dbl&gt; | AIC &lt;dbl&gt; | F &lt;dbl&gt; | Pr(&gt;F) &lt;dbl&gt; | ES.RDA &lt;dbl&gt; |\n",
       "|---|---|---|---|---|---|---|\n",
       "| + GIERACE | 0.02126600 | 4 | -3179.589 | 4.248346 | 0.002 | 0.021265999 |\n",
       "| + PASCORE | 0.03186304 | 1 | -3185.119 | 7.501807 | 0.002 | 0.010597037 |\n",
       "| + SITE | 0.03985381 | 5 | -3185.156 | 1.987043 | 0.014 | 0.007990772 |\n",
       "| + M1ADEPR | 0.04610928 | 1 | -3188.090 | 4.856019 | 0.004 | 0.006255477 |\n",
       "| + MHDIAB | 0.05119254 | 1 | -3190.312 | 4.144864 | 0.008 | 0.005083255 |\n",
       "\n"
      ],
      "text/plain": [
       "          R2.adj     Df AIC       F        Pr(>F) ES.RDA     \n",
       "+ GIERACE 0.02126600 4  -3179.589 4.248346 0.002  0.021265999\n",
       "+ PASCORE 0.03186304 1  -3185.119 7.501807 0.002  0.010597037\n",
       "+ SITE    0.03985381 5  -3185.156 1.987043 0.014  0.007990772\n",
       "+ M1ADEPR 0.04610928 1  -3188.090 4.856019 0.004  0.006255477\n",
       "+ MHDIAB  0.05119254 1  -3190.312 4.144864 0.008  0.005083255"
      ]
     },
     "metadata": {},
     "output_type": "display_data"
    }
   ],
   "source": [
    "table"
   ]
  },
  {
   "cell_type": "code",
   "execution_count": 12,
   "metadata": {},
   "outputs": [
    {
     "data": {
      "text/html": [
       "<strong>null device:</strong> 1"
      ],
      "text/latex": [
       "\\textbf{null device:} 1"
      ],
      "text/markdown": [
       "**null device:** 1"
      ],
      "text/plain": [
       "null device \n",
       "          1 "
      ]
     },
     "metadata": {},
     "output_type": "display_data"
    },
    {
     "data": {
      "image/png": "[encoded data removed]",
      "text/plain": [
       "plot without title"
      ]
     },
     "metadata": {
      "image/png": {
       "height": 420,
       "width": 420
      },
      "text/plain": {
       "height": 420,
       "width": 420
      }
     },
     "output_type": "display_data"
    }
   ],
   "source": [
    "#make plot\n",
    "covariates = rownames(table)\n",
    "ggplot(table, aes(x=reorder(covariates, ES.RDA), y=ES.RDA, fill=covariates)) +\n",
    "  labs(x = 'Non-redundant Covariants', y = 'Effect Size (Aitchison distance)') +\n",
    "  geom_bar(stat='identity') +\n",
    "  theme(axis.text=element_text(size=10), \n",
    "        axis.title=element_text(size=14,face=\"bold\"), \n",
    "        legend.position=\"none\") + \n",
    "  coord_flip()\n",
    "dev.off()\n"
   ]
  }
 ],
 "metadata": {
  "kernelspec": {
   "display_name": "R",
   "language": "R",
   "name": "ir"
  },
  "language_info": {
   "codemirror_mode": "r",
   "file_extension": ".r",
   "mimetype": "text/x-r-source",
   "name": "R",
   "pygments_lexer": "r",
   "version": "3.6.1"
  }
 },
 "nbformat": 4,
 "nbformat_minor": 2
}

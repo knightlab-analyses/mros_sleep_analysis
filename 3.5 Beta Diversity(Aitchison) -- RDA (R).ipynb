{
 "cells": [
  {
   "cell_type": "markdown",
   "metadata": {},
   "source": [
    "#### This notebook is to perform Redundancy analysis on beta diversities"
   ]
  },
  {
   "cell_type": "code",
   "execution_count": 1,
   "metadata": {},
   "outputs": [
    {
     "name": "stderr",
     "output_type": "stream",
     "text": [
      "Loading required package: permute\n",
      "\n",
      "Loading required package: lattice\n",
      "\n",
      "This is vegan 2.5-6\n",
      "\n"
     ]
    }
   ],
   "source": [
    "library(vegan)\n",
    "library(ggplot2)"
   ]
  },
  {
   "cell_type": "code",
   "execution_count": 25,
   "metadata": {},
   "outputs": [
    {
     "data": {
      "text/html": [
       "<ol class=list-inline>\n",
       "\t<li>599</li>\n",
       "\t<li>80</li>\n",
       "</ol>\n"
      ],
      "text/latex": [
       "\\begin{enumerate*}\n",
       "\\item 599\n",
       "\\item 80\n",
       "\\end{enumerate*}\n"
      ],
      "text/markdown": [
       "1. 599\n",
       "2. 80\n",
       "\n",
       "\n"
      ],
      "text/plain": [
       "[1] 599  80"
      ]
     },
     "metadata": {},
     "output_type": "display_data"
    }
   ],
   "source": [
    "mf = read.csv('mapping_sleep_alpha.txt', sep='\\t')\n",
    "colnames(mf)[1] = 'SampleName'\n",
    "dim(mf)"
   ]
  },
  {
   "cell_type": "code",
   "execution_count": 26,
   "metadata": {},
   "outputs": [
    {
     "data": {
      "text/html": [
       "<table>\n",
       "<caption>A data.frame: 6 × 80</caption>\n",
       "<thead>\n",
       "\t<tr><th></th><th scope=col>SampleName</th><th scope=col>BarcodeSequence</th><th scope=col>LinkerPrimerSequence</th><th scope=col>Experiment_Design_Description</th><th scope=col>Library_Construction_Protocol</th><th scope=col>Linker</th><th scope=col>Platform</th><th scope=col>Center_Name</th><th scope=col>Center_Project</th><th scope=col>Instrument_Model</th><th scope=col>⋯</th><th scope=col>M1ADEPR</th><th scope=col>M1BENZO</th><th scope=col>AMAMPT_C1</th><th scope=col>AMFVT_C1</th><th scope=col>AMPHIT_15SD</th><th scope=col>Description</th><th scope=col>alpha_pd</th><th scope=col>observed_otus</th><th scope=col>shannon</th><th scope=col>pielou_e</th></tr>\n",
       "\t<tr><th></th><th scope=col>&lt;fct&gt;</th><th scope=col>&lt;fct&gt;</th><th scope=col>&lt;fct&gt;</th><th scope=col>&lt;fct&gt;</th><th scope=col>&lt;fct&gt;</th><th scope=col>&lt;fct&gt;</th><th scope=col>&lt;fct&gt;</th><th scope=col>&lt;fct&gt;</th><th scope=col>&lt;fct&gt;</th><th scope=col>&lt;fct&gt;</th><th scope=col>⋯</th><th scope=col>&lt;fct&gt;</th><th scope=col>&lt;fct&gt;</th><th scope=col>&lt;fct&gt;</th><th scope=col>&lt;fct&gt;</th><th scope=col>&lt;fct&gt;</th><th scope=col>&lt;fct&gt;</th><th scope=col>&lt;dbl&gt;</th><th scope=col>&lt;int&gt;</th><th scope=col>&lt;dbl&gt;</th><th scope=col>&lt;dbl&gt;</th></tr>\n",
       "</thead>\n",
       "<tbody>\n",
       "\t<tr><th scope=row>1</th><td>BI0023</td><td>TCTGGTGACATT</td><td>GGACTACHVGGGTWTCTAAT</td><td>16S stool samples sequenced for MrOS Vitamin D study</td><td>16S rRNA v4</td><td>GT</td><td>Illumina</td><td>BI</td><td>MrOS</td><td>Illumina MiSeq</td><td>⋯</td><td>0: No</td><td>0: No</td><td>Missing:not collected</td><td>Missing:not collected</td><td>Missing:not collected</td><td>Orwoll.BI0023.BI</td><td>27.77117</td><td>302</td><td>5.727116</td><td>0.6951729</td></tr>\n",
       "\t<tr><th scope=row>2</th><td>BI0056</td><td>CAAGCATGCCTA</td><td>GGACTACHVGGGTWTCTAAT</td><td>16S stool samples sequenced for MrOS Vitamin D study</td><td>16S rRNA v4</td><td>GT</td><td>Illumina</td><td>BI</td><td>MrOS</td><td>Illumina MiSeq</td><td>⋯</td><td>0: No</td><td>0: No</td><td>1.0                  </td><td>1.0                  </td><td>0.0                  </td><td>Orwoll.BI0056.BI</td><td>17.93266</td><td>173</td><td>3.888281</td><td>0.5229960</td></tr>\n",
       "\t<tr><th scope=row>3</th><td>BI0131</td><td>CTATTTGCGACA</td><td>GGACTACHVGGGTWTCTAAT</td><td>16S stool samples sequenced for MrOS Vitamin D study</td><td>16S rRNA v4</td><td>GT</td><td>Illumina</td><td>BI</td><td>MrOS</td><td>Illumina MiSeq</td><td>⋯</td><td>0: No</td><td>0: No</td><td>1.0                  </td><td>1.0                  </td><td>0.0                  </td><td>Orwoll.BI0131.BI</td><td>21.45366</td><td>223</td><td>4.050730</td><td>0.5192645</td></tr>\n",
       "\t<tr><th scope=row>4</th><td>BI0153</td><td>ATCGGCGTTACA</td><td>GGACTACHVGGGTWTCTAAT</td><td>16S stool samples sequenced for MrOS Vitamin D study</td><td>16S rRNA v4</td><td>GT</td><td>Illumina</td><td>BI</td><td>MrOS</td><td>Illumina MiSeq</td><td>⋯</td><td>0: No</td><td>0: No</td><td>1.0                  </td><td>1.0                  </td><td>-1.0                 </td><td>Orwoll.BI0153.BI</td><td>18.46968</td><td>223</td><td>4.894253</td><td>0.6273959</td></tr>\n",
       "\t<tr><th scope=row>5</th><td>BI0215</td><td>CCTCTCGTGATC</td><td>GGACTACHVGGGTWTCTAAT</td><td>16S stool samples sequenced for MrOS Vitamin D study</td><td>16S rRNA v4</td><td>GT</td><td>Illumina</td><td>BI</td><td>MrOS</td><td>Illumina MiSeq</td><td>⋯</td><td>0: No</td><td>0: No</td><td>1.0                  </td><td>0.0                  </td><td>-1.0                 </td><td>Orwoll.BI0215.BI</td><td>20.04983</td><td>222</td><td>5.295055</td><td>0.6793396</td></tr>\n",
       "\t<tr><th scope=row>6</th><td>BI0353</td><td>TGCCATCTGAAT</td><td>GGACTACHVGGGTWTCTAAT</td><td>16S stool samples sequenced for MrOS Vitamin D study</td><td>16S rRNA v4</td><td>GT</td><td>Illumina</td><td>BI</td><td>MrOS</td><td>Illumina MiSeq</td><td>⋯</td><td>0: No</td><td>0: No</td><td>1.0                  </td><td>1.0                  </td><td>0.0                  </td><td>Orwoll.BI0353.BI</td><td>13.75183</td><td>155</td><td>4.213016</td><td>0.5790192</td></tr>\n",
       "</tbody>\n",
       "</table>\n"
      ],
      "text/latex": [
       "A data.frame: 6 × 80\n",
       "\\begin{tabular}{r|lllllllllllllllllllll}\n",
       "  & SampleName & BarcodeSequence & LinkerPrimerSequence & Experiment\\_Design\\_Description & Library\\_Construction\\_Protocol & Linker & Platform & Center\\_Name & Center\\_Project & Instrument\\_Model & ⋯ & M1ADEPR & M1BENZO & AMAMPT\\_C1 & AMFVT\\_C1 & AMPHIT\\_15SD & Description & alpha\\_pd & observed\\_otus & shannon & pielou\\_e\\\\\n",
       "  & <fct> & <fct> & <fct> & <fct> & <fct> & <fct> & <fct> & <fct> & <fct> & <fct> & ⋯ & <fct> & <fct> & <fct> & <fct> & <fct> & <fct> & <dbl> & <int> & <dbl> & <dbl>\\\\\n",
       "\\hline\n",
       "\t1 & BI0023 & TCTGGTGACATT & GGACTACHVGGGTWTCTAAT & 16S stool samples sequenced for MrOS Vitamin D study & 16S rRNA v4 & GT & Illumina & BI & MrOS & Illumina MiSeq & ⋯ & 0: No & 0: No & Missing:not collected & Missing:not collected & Missing:not collected & Orwoll.BI0023.BI & 27.77117 & 302 & 5.727116 & 0.6951729\\\\\n",
       "\t2 & BI0056 & CAAGCATGCCTA & GGACTACHVGGGTWTCTAAT & 16S stool samples sequenced for MrOS Vitamin D study & 16S rRNA v4 & GT & Illumina & BI & MrOS & Illumina MiSeq & ⋯ & 0: No & 0: No & 1.0                   & 1.0                   & 0.0                   & Orwoll.BI0056.BI & 17.93266 & 173 & 3.888281 & 0.5229960\\\\\n",
       "\t3 & BI0131 & CTATTTGCGACA & GGACTACHVGGGTWTCTAAT & 16S stool samples sequenced for MrOS Vitamin D study & 16S rRNA v4 & GT & Illumina & BI & MrOS & Illumina MiSeq & ⋯ & 0: No & 0: No & 1.0                   & 1.0                   & 0.0                   & Orwoll.BI0131.BI & 21.45366 & 223 & 4.050730 & 0.5192645\\\\\n",
       "\t4 & BI0153 & ATCGGCGTTACA & GGACTACHVGGGTWTCTAAT & 16S stool samples sequenced for MrOS Vitamin D study & 16S rRNA v4 & GT & Illumina & BI & MrOS & Illumina MiSeq & ⋯ & 0: No & 0: No & 1.0                   & 1.0                   & -1.0                  & Orwoll.BI0153.BI & 18.46968 & 223 & 4.894253 & 0.6273959\\\\\n",
       "\t5 & BI0215 & CCTCTCGTGATC & GGACTACHVGGGTWTCTAAT & 16S stool samples sequenced for MrOS Vitamin D study & 16S rRNA v4 & GT & Illumina & BI & MrOS & Illumina MiSeq & ⋯ & 0: No & 0: No & 1.0                   & 0.0                   & -1.0                  & Orwoll.BI0215.BI & 20.04983 & 222 & 5.295055 & 0.6793396\\\\\n",
       "\t6 & BI0353 & TGCCATCTGAAT & GGACTACHVGGGTWTCTAAT & 16S stool samples sequenced for MrOS Vitamin D study & 16S rRNA v4 & GT & Illumina & BI & MrOS & Illumina MiSeq & ⋯ & 0: No & 0: No & 1.0                   & 1.0                   & 0.0                   & Orwoll.BI0353.BI & 13.75183 & 155 & 4.213016 & 0.5790192\\\\\n",
       "\\end{tabular}\n"
      ],
      "text/markdown": [
       "\n",
       "A data.frame: 6 × 80\n",
       "\n",
       "| <!--/--> | SampleName &lt;fct&gt; | BarcodeSequence &lt;fct&gt; | LinkerPrimerSequence &lt;fct&gt; | Experiment_Design_Description &lt;fct&gt; | Library_Construction_Protocol &lt;fct&gt; | Linker &lt;fct&gt; | Platform &lt;fct&gt; | Center_Name &lt;fct&gt; | Center_Project &lt;fct&gt; | Instrument_Model &lt;fct&gt; | ⋯ ⋯ | M1ADEPR &lt;fct&gt; | M1BENZO &lt;fct&gt; | AMAMPT_C1 &lt;fct&gt; | AMFVT_C1 &lt;fct&gt; | AMPHIT_15SD &lt;fct&gt; | Description &lt;fct&gt; | alpha_pd &lt;dbl&gt; | observed_otus &lt;int&gt; | shannon &lt;dbl&gt; | pielou_e &lt;dbl&gt; |\n",
       "|---|---|---|---|---|---|---|---|---|---|---|---|---|---|---|---|---|---|---|---|---|---|\n",
       "| 1 | BI0023 | TCTGGTGACATT | GGACTACHVGGGTWTCTAAT | 16S stool samples sequenced for MrOS Vitamin D study | 16S rRNA v4 | GT | Illumina | BI | MrOS | Illumina MiSeq | ⋯ | 0: No | 0: No | Missing:not collected | Missing:not collected | Missing:not collected | Orwoll.BI0023.BI | 27.77117 | 302 | 5.727116 | 0.6951729 |\n",
       "| 2 | BI0056 | CAAGCATGCCTA | GGACTACHVGGGTWTCTAAT | 16S stool samples sequenced for MrOS Vitamin D study | 16S rRNA v4 | GT | Illumina | BI | MrOS | Illumina MiSeq | ⋯ | 0: No | 0: No | 1.0                   | 1.0                   | 0.0                   | Orwoll.BI0056.BI | 17.93266 | 173 | 3.888281 | 0.5229960 |\n",
       "| 3 | BI0131 | CTATTTGCGACA | GGACTACHVGGGTWTCTAAT | 16S stool samples sequenced for MrOS Vitamin D study | 16S rRNA v4 | GT | Illumina | BI | MrOS | Illumina MiSeq | ⋯ | 0: No | 0: No | 1.0                   | 1.0                   | 0.0                   | Orwoll.BI0131.BI | 21.45366 | 223 | 4.050730 | 0.5192645 |\n",
       "| 4 | BI0153 | ATCGGCGTTACA | GGACTACHVGGGTWTCTAAT | 16S stool samples sequenced for MrOS Vitamin D study | 16S rRNA v4 | GT | Illumina | BI | MrOS | Illumina MiSeq | ⋯ | 0: No | 0: No | 1.0                   | 1.0                   | -1.0                  | Orwoll.BI0153.BI | 18.46968 | 223 | 4.894253 | 0.6273959 |\n",
       "| 5 | BI0215 | CCTCTCGTGATC | GGACTACHVGGGTWTCTAAT | 16S stool samples sequenced for MrOS Vitamin D study | 16S rRNA v4 | GT | Illumina | BI | MrOS | Illumina MiSeq | ⋯ | 0: No | 0: No | 1.0                   | 0.0                   | -1.0                  | Orwoll.BI0215.BI | 20.04983 | 222 | 5.295055 | 0.6793396 |\n",
       "| 6 | BI0353 | TGCCATCTGAAT | GGACTACHVGGGTWTCTAAT | 16S stool samples sequenced for MrOS Vitamin D study | 16S rRNA v4 | GT | Illumina | BI | MrOS | Illumina MiSeq | ⋯ | 0: No | 0: No | 1.0                   | 1.0                   | 0.0                   | Orwoll.BI0353.BI | 13.75183 | 155 | 4.213016 | 0.5790192 |\n",
       "\n"
      ],
      "text/plain": [
       "  SampleName BarcodeSequence LinkerPrimerSequence\n",
       "1 BI0023     TCTGGTGACATT    GGACTACHVGGGTWTCTAAT\n",
       "2 BI0056     CAAGCATGCCTA    GGACTACHVGGGTWTCTAAT\n",
       "3 BI0131     CTATTTGCGACA    GGACTACHVGGGTWTCTAAT\n",
       "4 BI0153     ATCGGCGTTACA    GGACTACHVGGGTWTCTAAT\n",
       "5 BI0215     CCTCTCGTGATC    GGACTACHVGGGTWTCTAAT\n",
       "6 BI0353     TGCCATCTGAAT    GGACTACHVGGGTWTCTAAT\n",
       "  Experiment_Design_Description                       \n",
       "1 16S stool samples sequenced for MrOS Vitamin D study\n",
       "2 16S stool samples sequenced for MrOS Vitamin D study\n",
       "3 16S stool samples sequenced for MrOS Vitamin D study\n",
       "4 16S stool samples sequenced for MrOS Vitamin D study\n",
       "5 16S stool samples sequenced for MrOS Vitamin D study\n",
       "6 16S stool samples sequenced for MrOS Vitamin D study\n",
       "  Library_Construction_Protocol Linker Platform Center_Name Center_Project\n",
       "1 16S rRNA v4                   GT     Illumina BI          MrOS          \n",
       "2 16S rRNA v4                   GT     Illumina BI          MrOS          \n",
       "3 16S rRNA v4                   GT     Illumina BI          MrOS          \n",
       "4 16S rRNA v4                   GT     Illumina BI          MrOS          \n",
       "5 16S rRNA v4                   GT     Illumina BI          MrOS          \n",
       "6 16S rRNA v4                   GT     Illumina BI          MrOS          \n",
       "  Instrument_Model ⋯ M1ADEPR M1BENZO AMAMPT_C1            \n",
       "1 Illumina MiSeq   ⋯ 0: No   0: No   Missing:not collected\n",
       "2 Illumina MiSeq   ⋯ 0: No   0: No   1.0                  \n",
       "3 Illumina MiSeq   ⋯ 0: No   0: No   1.0                  \n",
       "4 Illumina MiSeq   ⋯ 0: No   0: No   1.0                  \n",
       "5 Illumina MiSeq   ⋯ 0: No   0: No   1.0                  \n",
       "6 Illumina MiSeq   ⋯ 0: No   0: No   1.0                  \n",
       "  AMFVT_C1              AMPHIT_15SD           Description      alpha_pd\n",
       "1 Missing:not collected Missing:not collected Orwoll.BI0023.BI 27.77117\n",
       "2 1.0                   0.0                   Orwoll.BI0056.BI 17.93266\n",
       "3 1.0                   0.0                   Orwoll.BI0131.BI 21.45366\n",
       "4 1.0                   -1.0                  Orwoll.BI0153.BI 18.46968\n",
       "5 0.0                   -1.0                  Orwoll.BI0215.BI 20.04983\n",
       "6 1.0                   0.0                   Orwoll.BI0353.BI 13.75183\n",
       "  observed_otus shannon  pielou_e \n",
       "1 302           5.727116 0.6951729\n",
       "2 173           3.888281 0.5229960\n",
       "3 223           4.050730 0.5192645\n",
       "4 223           4.894253 0.6273959\n",
       "5 222           5.295055 0.6793396\n",
       "6 155           4.213016 0.5790192"
      ]
     },
     "metadata": {},
     "output_type": "display_data"
    }
   ],
   "source": [
    "head(mf)"
   ]
  },
  {
   "cell_type": "code",
   "execution_count": 27,
   "metadata": {},
   "outputs": [
    {
     "data": {
      "text/html": [
       "<ol class=list-inline>\n",
       "\t<li>599</li>\n",
       "\t<li>11</li>\n",
       "</ol>\n"
      ],
      "text/latex": [
       "\\begin{enumerate*}\n",
       "\\item 599\n",
       "\\item 11\n",
       "\\end{enumerate*}\n"
      ],
      "text/markdown": [
       "1. 599\n",
       "2. 11\n",
       "\n",
       "\n"
      ],
      "text/plain": [
       "[1] 599  11"
      ]
     },
     "metadata": {},
     "output_type": "display_data"
    },
    {
     "data": {
      "text/html": [
       "<table>\n",
       "<caption>A data.frame: 6 × 11</caption>\n",
       "<thead>\n",
       "\t<tr><th></th><th scope=col>PC1</th><th scope=col>PC2</th><th scope=col>PC3</th><th scope=col>PC4</th><th scope=col>PC5</th><th scope=col>PC6</th><th scope=col>PC7</th><th scope=col>PC8</th><th scope=col>PC9</th><th scope=col>PC10</th><th scope=col>SampleName</th></tr>\n",
       "\t<tr><th></th><th scope=col>&lt;dbl&gt;</th><th scope=col>&lt;dbl&gt;</th><th scope=col>&lt;dbl&gt;</th><th scope=col>&lt;dbl&gt;</th><th scope=col>&lt;dbl&gt;</th><th scope=col>&lt;dbl&gt;</th><th scope=col>&lt;dbl&gt;</th><th scope=col>&lt;dbl&gt;</th><th scope=col>&lt;dbl&gt;</th><th scope=col>&lt;dbl&gt;</th><th scope=col>&lt;chr&gt;</th></tr>\n",
       "</thead>\n",
       "<tbody>\n",
       "\t<tr><th scope=row>BI0023</th><td>0.000000</td><td>3.854117</td><td>2.2624907</td><td>2.4775439</td><td>2.5230138</td><td>1.7619373</td><td>2.1528977</td><td>1.9830176</td><td>2.6162961</td><td>3.2161124</td><td>BI0023</td></tr>\n",
       "\t<tr><th scope=row>BI0056</th><td>3.854117</td><td>0.000000</td><td>1.9646308</td><td>1.5220292</td><td>1.3861677</td><td>2.2796945</td><td>2.1249924</td><td>1.9383154</td><td>1.3795474</td><td>0.7936802</td><td>BI0056</td></tr>\n",
       "\t<tr><th scope=row>BI0131</th><td>2.262491</td><td>1.964631</td><td>0.0000000</td><td>0.4890927</td><td>1.1557511</td><td>1.4876324</td><td>0.2544336</td><td>1.0246636</td><td>0.7861452</td><td>1.2313847</td><td>BI0131</td></tr>\n",
       "\t<tr><th scope=row>BI0153</th><td>2.477544</td><td>1.522029</td><td>0.4890927</td><td>0.0000000</td><td>0.7256925</td><td>1.3117906</td><td>0.6347898</td><td>0.8148648</td><td>0.3597706</td><td>0.7980843</td><td>BI0153</td></tr>\n",
       "\t<tr><th scope=row>BI0215</th><td>2.523014</td><td>1.386168</td><td>1.1557511</td><td>0.7256925</td><td>0.0000000</td><td>0.9155407</td><td>1.2265470</td><td>0.5707754</td><td>0.5491120</td><td>0.8728960</td><td>BI0215</td></tr>\n",
       "\t<tr><th scope=row>BI0353</th><td>1.761937</td><td>2.279694</td><td>1.4876324</td><td>1.3117906</td><td>0.9155407</td><td>0.0000000</td><td>1.4634691</td><td>0.5320803</td><td>1.2680218</td><td>1.7699147</td><td>BI0353</td></tr>\n",
       "</tbody>\n",
       "</table>\n"
      ],
      "text/latex": [
       "A data.frame: 6 × 11\n",
       "\\begin{tabular}{r|lllllllllll}\n",
       "  & PC1 & PC2 & PC3 & PC4 & PC5 & PC6 & PC7 & PC8 & PC9 & PC10 & SampleName\\\\\n",
       "  & <dbl> & <dbl> & <dbl> & <dbl> & <dbl> & <dbl> & <dbl> & <dbl> & <dbl> & <dbl> & <chr>\\\\\n",
       "\\hline\n",
       "\tBI0023 & 0.000000 & 3.854117 & 2.2624907 & 2.4775439 & 2.5230138 & 1.7619373 & 2.1528977 & 1.9830176 & 2.6162961 & 3.2161124 & BI0023\\\\\n",
       "\tBI0056 & 3.854117 & 0.000000 & 1.9646308 & 1.5220292 & 1.3861677 & 2.2796945 & 2.1249924 & 1.9383154 & 1.3795474 & 0.7936802 & BI0056\\\\\n",
       "\tBI0131 & 2.262491 & 1.964631 & 0.0000000 & 0.4890927 & 1.1557511 & 1.4876324 & 0.2544336 & 1.0246636 & 0.7861452 & 1.2313847 & BI0131\\\\\n",
       "\tBI0153 & 2.477544 & 1.522029 & 0.4890927 & 0.0000000 & 0.7256925 & 1.3117906 & 0.6347898 & 0.8148648 & 0.3597706 & 0.7980843 & BI0153\\\\\n",
       "\tBI0215 & 2.523014 & 1.386168 & 1.1557511 & 0.7256925 & 0.0000000 & 0.9155407 & 1.2265470 & 0.5707754 & 0.5491120 & 0.8728960 & BI0215\\\\\n",
       "\tBI0353 & 1.761937 & 2.279694 & 1.4876324 & 1.3117906 & 0.9155407 & 0.0000000 & 1.4634691 & 0.5320803 & 1.2680218 & 1.7699147 & BI0353\\\\\n",
       "\\end{tabular}\n"
      ],
      "text/markdown": [
       "\n",
       "A data.frame: 6 × 11\n",
       "\n",
       "| <!--/--> | PC1 &lt;dbl&gt; | PC2 &lt;dbl&gt; | PC3 &lt;dbl&gt; | PC4 &lt;dbl&gt; | PC5 &lt;dbl&gt; | PC6 &lt;dbl&gt; | PC7 &lt;dbl&gt; | PC8 &lt;dbl&gt; | PC9 &lt;dbl&gt; | PC10 &lt;dbl&gt; | SampleName &lt;chr&gt; |\n",
       "|---|---|---|---|---|---|---|---|---|---|---|---|\n",
       "| BI0023 | 0.000000 | 3.854117 | 2.2624907 | 2.4775439 | 2.5230138 | 1.7619373 | 2.1528977 | 1.9830176 | 2.6162961 | 3.2161124 | BI0023 |\n",
       "| BI0056 | 3.854117 | 0.000000 | 1.9646308 | 1.5220292 | 1.3861677 | 2.2796945 | 2.1249924 | 1.9383154 | 1.3795474 | 0.7936802 | BI0056 |\n",
       "| BI0131 | 2.262491 | 1.964631 | 0.0000000 | 0.4890927 | 1.1557511 | 1.4876324 | 0.2544336 | 1.0246636 | 0.7861452 | 1.2313847 | BI0131 |\n",
       "| BI0153 | 2.477544 | 1.522029 | 0.4890927 | 0.0000000 | 0.7256925 | 1.3117906 | 0.6347898 | 0.8148648 | 0.3597706 | 0.7980843 | BI0153 |\n",
       "| BI0215 | 2.523014 | 1.386168 | 1.1557511 | 0.7256925 | 0.0000000 | 0.9155407 | 1.2265470 | 0.5707754 | 0.5491120 | 0.8728960 | BI0215 |\n",
       "| BI0353 | 1.761937 | 2.279694 | 1.4876324 | 1.3117906 | 0.9155407 | 0.0000000 | 1.4634691 | 0.5320803 | 1.2680218 | 1.7699147 | BI0353 |\n",
       "\n"
      ],
      "text/plain": [
       "       PC1      PC2      PC3       PC4       PC5       PC6       PC7      \n",
       "BI0023 0.000000 3.854117 2.2624907 2.4775439 2.5230138 1.7619373 2.1528977\n",
       "BI0056 3.854117 0.000000 1.9646308 1.5220292 1.3861677 2.2796945 2.1249924\n",
       "BI0131 2.262491 1.964631 0.0000000 0.4890927 1.1557511 1.4876324 0.2544336\n",
       "BI0153 2.477544 1.522029 0.4890927 0.0000000 0.7256925 1.3117906 0.6347898\n",
       "BI0215 2.523014 1.386168 1.1557511 0.7256925 0.0000000 0.9155407 1.2265470\n",
       "BI0353 1.761937 2.279694 1.4876324 1.3117906 0.9155407 0.0000000 1.4634691\n",
       "       PC8       PC9       PC10      SampleName\n",
       "BI0023 1.9830176 2.6162961 3.2161124 BI0023    \n",
       "BI0056 1.9383154 1.3795474 0.7936802 BI0056    \n",
       "BI0131 1.0246636 0.7861452 1.2313847 BI0131    \n",
       "BI0153 0.8148648 0.3597706 0.7980843 BI0153    \n",
       "BI0215 0.5707754 0.5491120 0.8728960 BI0215    \n",
       "BI0353 0.5320803 1.2680218 1.7699147 BI0353    "
      ]
     },
     "metadata": {},
     "output_type": "display_data"
    }
   ],
   "source": [
    "distance = read.table('distance-matrix.tsv', header=TRUE, sep='\\t',row.names = 1)\n",
    "distance <- distance[ , order(colnames(distance))]\n",
    "distance <- distance[ order(rownames(distance)), ]\n",
    "distance[] <- lapply(distance, as.numeric)\n",
    "pc_10 = distance[, 1:10]\n",
    "colnames(pc_10) = c('PC1', 'PC2', 'PC3', 'PC4', 'PC5', 'PC6', 'PC7', 'PC8', 'PC9', 'PC10')\n",
    "pc_10$SampleName <- rownames(pc_10) \n",
    "dim(pc_10)\n",
    "head(pc_10)              "
   ]
  },
  {
   "cell_type": "code",
   "execution_count": 28,
   "metadata": {},
   "outputs": [
    {
     "data": {
      "text/html": [
       "<ol class=list-inline>\n",
       "\t<li>599</li>\n",
       "\t<li>90</li>\n",
       "</ol>\n"
      ],
      "text/latex": [
       "\\begin{enumerate*}\n",
       "\\item 599\n",
       "\\item 90\n",
       "\\end{enumerate*}\n"
      ],
      "text/markdown": [
       "1. 599\n",
       "2. 90\n",
       "\n",
       "\n"
      ],
      "text/plain": [
       "[1] 599  90"
      ]
     },
     "metadata": {},
     "output_type": "display_data"
    }
   ],
   "source": [
    "dat = merge(mf, pc_10, by='SampleName')\n",
    "dim(dat)"
   ]
  },
  {
   "cell_type": "code",
   "execution_count": 29,
   "metadata": {},
   "outputs": [
    {
     "data": {
      "text/html": [
       "<ol class=list-inline>\n",
       "\t<li>599</li>\n",
       "\t<li>25</li>\n",
       "</ol>\n"
      ],
      "text/latex": [
       "\\begin{enumerate*}\n",
       "\\item 599\n",
       "\\item 25\n",
       "\\end{enumerate*}\n"
      ],
      "text/markdown": [
       "1. 599\n",
       "2. 25\n",
       "\n",
       "\n"
      ],
      "text/plain": [
       "[1] 599  25"
      ]
     },
     "metadata": {},
     "output_type": "display_data"
    },
    {
     "data": {
      "text/html": [
       "<ol class=list-inline>\n",
       "\t<li>599</li>\n",
       "\t<li>10</li>\n",
       "</ol>\n"
      ],
      "text/latex": [
       "\\begin{enumerate*}\n",
       "\\item 599\n",
       "\\item 10\n",
       "\\end{enumerate*}\n"
      ],
      "text/markdown": [
       "1. 599\n",
       "2. 10\n",
       "\n",
       "\n"
      ],
      "text/plain": [
       "[1] 599  10"
      ]
     },
     "metadata": {},
     "output_type": "display_data"
    },
    {
     "data": {
      "text/html": [
       "<table>\n",
       "<caption>A data.frame: 6 × 25</caption>\n",
       "<thead>\n",
       "\t<tr><th></th><th scope=col>GIERACE</th><th scope=col>SITE</th><th scope=col>GIMSTAT</th><th scope=col>MHDIAB</th><th scope=col>MHRHEU1</th><th scope=col>MHOA</th><th scope=col>MHCHF</th><th scope=col>MHMI</th><th scope=col>MHDEPR</th><th scope=col>TUDRAMT_REVISED</th><th scope=col>⋯</th><th scope=col>TURSMOKE</th><th scope=col>M1ADEPR</th><th scope=col>M1BENZO</th><th scope=col>PQPEFFIC</th><th scope=col>AMAMPT_C1</th><th scope=col>AMFVT_C1</th><th scope=col>AMPHIT_15SD</th><th scope=col>Age</th><th scope=col>BMI</th><th scope=col>PASCORE</th></tr>\n",
       "\t<tr><th></th><th scope=col>&lt;fct&gt;</th><th scope=col>&lt;fct&gt;</th><th scope=col>&lt;fct&gt;</th><th scope=col>&lt;fct&gt;</th><th scope=col>&lt;fct&gt;</th><th scope=col>&lt;fct&gt;</th><th scope=col>&lt;fct&gt;</th><th scope=col>&lt;fct&gt;</th><th scope=col>&lt;fct&gt;</th><th scope=col>&lt;fct&gt;</th><th scope=col>⋯</th><th scope=col>&lt;fct&gt;</th><th scope=col>&lt;fct&gt;</th><th scope=col>&lt;fct&gt;</th><th scope=col>&lt;fct&gt;</th><th scope=col>&lt;fct&gt;</th><th scope=col>&lt;fct&gt;</th><th scope=col>&lt;fct&gt;</th><th scope=col>&lt;int&gt;</th><th scope=col>&lt;dbl&gt;</th><th scope=col>&lt;dbl&gt;</th></tr>\n",
       "</thead>\n",
       "<tbody>\n",
       "\t<tr><th scope=row>1</th><td>1:WHITE</td><td>Birmingham</td><td>2: Widowed</td><td>0: No</td><td>0: No </td><td>0: No </td><td>0: No </td><td>0: No </td><td>0: No</td><td>1: Less than one drink per week</td><td>⋯</td><td>M:Not Applicable</td><td>0: No</td><td>0: No</td><td><span style=white-space:pre-wrap>0:&gt;85% EFFICIENCY          </span></td><td>Missing:not collected</td><td>Missing:not collected</td><td>Missing:not collected</td><td>83</td><td>28.89012</td><td> 91.00000</td></tr>\n",
       "\t<tr><th scope=row>2</th><td>1:WHITE</td><td>Birmingham</td><td>1: Married</td><td>0: No</td><td>1: Yes</td><td>1: Yes</td><td>1: Yes</td><td>1: Yes</td><td>0: No</td><td><span style=white-space:pre-wrap>0:None drinker                 </span></td><td>⋯</td><td><span style=white-space:pre-wrap>1:PAST          </span></td><td>0: No</td><td>0: No</td><td><span style=white-space:pre-wrap>3:&lt;65% EFFICIENCY          </span></td><td><span style=white-space:pre-wrap>1.0                  </span></td><td><span style=white-space:pre-wrap>1.0                  </span></td><td><span style=white-space:pre-wrap>0.0                  </span></td><td>81</td><td>28.53980</td><td>199.17857</td></tr>\n",
       "\t<tr><th scope=row>3</th><td>1:WHITE</td><td>Birmingham</td><td>1: Married</td><td>0: No</td><td>0: No </td><td>0: No </td><td>0: No </td><td>0: No </td><td>0: No</td><td><span style=white-space:pre-wrap>0:None drinker                 </span></td><td>⋯</td><td><span style=white-space:pre-wrap>1:PAST          </span></td><td>0: No</td><td>0: No</td><td><span style=white-space:pre-wrap>0:&gt;85% EFFICIENCY          </span></td><td><span style=white-space:pre-wrap>1.0                  </span></td><td><span style=white-space:pre-wrap>1.0                  </span></td><td><span style=white-space:pre-wrap>0.0                  </span></td><td>83</td><td>25.01424</td><td>161.71429</td></tr>\n",
       "\t<tr><th scope=row>4</th><td>1:WHITE</td><td>Birmingham</td><td>1: Married</td><td>0: No</td><td>0: No </td><td>0: No </td><td>0: No </td><td>0: No </td><td>0: No</td><td><span style=white-space:pre-wrap>4: 6-13 drinks per week        </span></td><td>⋯</td><td><span style=white-space:pre-wrap>1:PAST          </span></td><td>0: No</td><td>0: No</td><td><span style=white-space:pre-wrap>0:&gt;85% EFFICIENCY          </span></td><td><span style=white-space:pre-wrap>1.0                  </span></td><td><span style=white-space:pre-wrap>1.0                  </span></td><td><span style=white-space:pre-wrap>-1.0                 </span></td><td>79</td><td>30.87637</td><td> 88.21429</td></tr>\n",
       "\t<tr><th scope=row>5</th><td>1:WHITE</td><td>Birmingham</td><td>1: Married</td><td>0: No</td><td>0: No </td><td>1: Yes</td><td>0: No </td><td>0: No </td><td>0: No</td><td><span style=white-space:pre-wrap>3: 3-5 drinks per week         </span></td><td>⋯</td><td><span style=white-space:pre-wrap>1:PAST          </span></td><td>0: No</td><td>0: No</td><td><span style=white-space:pre-wrap>0:&gt;85% EFFICIENCY          </span></td><td><span style=white-space:pre-wrap>1.0                  </span></td><td><span style=white-space:pre-wrap>0.0                  </span></td><td><span style=white-space:pre-wrap>-1.0                 </span></td><td>81</td><td>33.58739</td><td>256.82143</td></tr>\n",
       "\t<tr><th scope=row>6</th><td>1:WHITE</td><td>Birmingham</td><td>1: Married</td><td>0: No</td><td>0: No </td><td>0: No </td><td>0: No </td><td>0: No </td><td>0: No</td><td><span style=white-space:pre-wrap>0:None drinker                 </span></td><td>⋯</td><td><span style=white-space:pre-wrap>1:PAST          </span></td><td>0: No</td><td>0: No</td><td>1:&gt;=75% TO &lt;=85% EFFICIENCY</td><td><span style=white-space:pre-wrap>1.0                  </span></td><td><span style=white-space:pre-wrap>1.0                  </span></td><td><span style=white-space:pre-wrap>0.0                  </span></td><td>80</td><td>26.41523</td><td>179.57143</td></tr>\n",
       "</tbody>\n",
       "</table>\n"
      ],
      "text/latex": [
       "A data.frame: 6 × 25\n",
       "\\begin{tabular}{r|lllllllllllllllllllll}\n",
       "  & GIERACE & SITE & GIMSTAT & MHDIAB & MHRHEU1 & MHOA & MHCHF & MHMI & MHDEPR & TUDRAMT\\_REVISED & ⋯ & TURSMOKE & M1ADEPR & M1BENZO & PQPEFFIC & AMAMPT\\_C1 & AMFVT\\_C1 & AMPHIT\\_15SD & Age & BMI & PASCORE\\\\\n",
       "  & <fct> & <fct> & <fct> & <fct> & <fct> & <fct> & <fct> & <fct> & <fct> & <fct> & ⋯ & <fct> & <fct> & <fct> & <fct> & <fct> & <fct> & <fct> & <int> & <dbl> & <dbl>\\\\\n",
       "\\hline\n",
       "\t1 & 1:WHITE & Birmingham & 2: Widowed & 0: No & 0: No  & 0: No  & 0: No  & 0: No  & 0: No & 1: Less than one drink per week & ⋯ & M:Not Applicable & 0: No & 0: No & 0:>85\\% EFFICIENCY           & Missing:not collected & Missing:not collected & Missing:not collected & 83 & 28.89012 &  91.00000\\\\\n",
       "\t2 & 1:WHITE & Birmingham & 1: Married & 0: No & 1: Yes & 1: Yes & 1: Yes & 1: Yes & 0: No & 0:None drinker                  & ⋯ & 1:PAST           & 0: No & 0: No & 3:<65\\% EFFICIENCY           & 1.0                   & 1.0                   & 0.0                   & 81 & 28.53980 & 199.17857\\\\\n",
       "\t3 & 1:WHITE & Birmingham & 1: Married & 0: No & 0: No  & 0: No  & 0: No  & 0: No  & 0: No & 0:None drinker                  & ⋯ & 1:PAST           & 0: No & 0: No & 0:>85\\% EFFICIENCY           & 1.0                   & 1.0                   & 0.0                   & 83 & 25.01424 & 161.71429\\\\\n",
       "\t4 & 1:WHITE & Birmingham & 1: Married & 0: No & 0: No  & 0: No  & 0: No  & 0: No  & 0: No & 4: 6-13 drinks per week         & ⋯ & 1:PAST           & 0: No & 0: No & 0:>85\\% EFFICIENCY           & 1.0                   & 1.0                   & -1.0                  & 79 & 30.87637 &  88.21429\\\\\n",
       "\t5 & 1:WHITE & Birmingham & 1: Married & 0: No & 0: No  & 1: Yes & 0: No  & 0: No  & 0: No & 3: 3-5 drinks per week          & ⋯ & 1:PAST           & 0: No & 0: No & 0:>85\\% EFFICIENCY           & 1.0                   & 0.0                   & -1.0                  & 81 & 33.58739 & 256.82143\\\\\n",
       "\t6 & 1:WHITE & Birmingham & 1: Married & 0: No & 0: No  & 0: No  & 0: No  & 0: No  & 0: No & 0:None drinker                  & ⋯ & 1:PAST           & 0: No & 0: No & 1:>=75\\% TO <=85\\% EFFICIENCY & 1.0                   & 1.0                   & 0.0                   & 80 & 26.41523 & 179.57143\\\\\n",
       "\\end{tabular}\n"
      ],
      "text/markdown": [
       "\n",
       "A data.frame: 6 × 25\n",
       "\n",
       "| <!--/--> | GIERACE &lt;fct&gt; | SITE &lt;fct&gt; | GIMSTAT &lt;fct&gt; | MHDIAB &lt;fct&gt; | MHRHEU1 &lt;fct&gt; | MHOA &lt;fct&gt; | MHCHF &lt;fct&gt; | MHMI &lt;fct&gt; | MHDEPR &lt;fct&gt; | TUDRAMT_REVISED &lt;fct&gt; | ⋯ ⋯ | TURSMOKE &lt;fct&gt; | M1ADEPR &lt;fct&gt; | M1BENZO &lt;fct&gt; | PQPEFFIC &lt;fct&gt; | AMAMPT_C1 &lt;fct&gt; | AMFVT_C1 &lt;fct&gt; | AMPHIT_15SD &lt;fct&gt; | Age &lt;int&gt; | BMI &lt;dbl&gt; | PASCORE &lt;dbl&gt; |\n",
       "|---|---|---|---|---|---|---|---|---|---|---|---|---|---|---|---|---|---|---|---|---|---|\n",
       "| 1 | 1:WHITE | Birmingham | 2: Widowed | 0: No | 0: No  | 0: No  | 0: No  | 0: No  | 0: No | 1: Less than one drink per week | ⋯ | M:Not Applicable | 0: No | 0: No | 0:&gt;85% EFFICIENCY           | Missing:not collected | Missing:not collected | Missing:not collected | 83 | 28.89012 |  91.00000 |\n",
       "| 2 | 1:WHITE | Birmingham | 1: Married | 0: No | 1: Yes | 1: Yes | 1: Yes | 1: Yes | 0: No | 0:None drinker                  | ⋯ | 1:PAST           | 0: No | 0: No | 3:&lt;65% EFFICIENCY           | 1.0                   | 1.0                   | 0.0                   | 81 | 28.53980 | 199.17857 |\n",
       "| 3 | 1:WHITE | Birmingham | 1: Married | 0: No | 0: No  | 0: No  | 0: No  | 0: No  | 0: No | 0:None drinker                  | ⋯ | 1:PAST           | 0: No | 0: No | 0:&gt;85% EFFICIENCY           | 1.0                   | 1.0                   | 0.0                   | 83 | 25.01424 | 161.71429 |\n",
       "| 4 | 1:WHITE | Birmingham | 1: Married | 0: No | 0: No  | 0: No  | 0: No  | 0: No  | 0: No | 4: 6-13 drinks per week         | ⋯ | 1:PAST           | 0: No | 0: No | 0:&gt;85% EFFICIENCY           | 1.0                   | 1.0                   | -1.0                  | 79 | 30.87637 |  88.21429 |\n",
       "| 5 | 1:WHITE | Birmingham | 1: Married | 0: No | 0: No  | 1: Yes | 0: No  | 0: No  | 0: No | 3: 3-5 drinks per week          | ⋯ | 1:PAST           | 0: No | 0: No | 0:&gt;85% EFFICIENCY           | 1.0                   | 0.0                   | -1.0                  | 81 | 33.58739 | 256.82143 |\n",
       "| 6 | 1:WHITE | Birmingham | 1: Married | 0: No | 0: No  | 0: No  | 0: No  | 0: No  | 0: No | 0:None drinker                  | ⋯ | 1:PAST           | 0: No | 0: No | 1:&gt;=75% TO &lt;=85% EFFICIENCY | 1.0                   | 1.0                   | 0.0                   | 80 | 26.41523 | 179.57143 |\n",
       "\n"
      ],
      "text/plain": [
       "  GIERACE SITE       GIMSTAT    MHDIAB MHRHEU1 MHOA   MHCHF  MHMI   MHDEPR\n",
       "1 1:WHITE Birmingham 2: Widowed 0: No  0: No   0: No  0: No  0: No  0: No \n",
       "2 1:WHITE Birmingham 1: Married 0: No  1: Yes  1: Yes 1: Yes 1: Yes 0: No \n",
       "3 1:WHITE Birmingham 1: Married 0: No  0: No   0: No  0: No  0: No  0: No \n",
       "4 1:WHITE Birmingham 1: Married 0: No  0: No   0: No  0: No  0: No  0: No \n",
       "5 1:WHITE Birmingham 1: Married 0: No  0: No   1: Yes 0: No  0: No  0: No \n",
       "6 1:WHITE Birmingham 1: Married 0: No  0: No   0: No  0: No  0: No  0: No \n",
       "  TUDRAMT_REVISED                 ⋯ TURSMOKE         M1ADEPR M1BENZO\n",
       "1 1: Less than one drink per week ⋯ M:Not Applicable 0: No   0: No  \n",
       "2 0:None drinker                  ⋯ 1:PAST           0: No   0: No  \n",
       "3 0:None drinker                  ⋯ 1:PAST           0: No   0: No  \n",
       "4 4: 6-13 drinks per week         ⋯ 1:PAST           0: No   0: No  \n",
       "5 3: 3-5 drinks per week          ⋯ 1:PAST           0: No   0: No  \n",
       "6 0:None drinker                  ⋯ 1:PAST           0: No   0: No  \n",
       "  PQPEFFIC                    AMAMPT_C1             AMFVT_C1             \n",
       "1 0:>85% EFFICIENCY           Missing:not collected Missing:not collected\n",
       "2 3:<65% EFFICIENCY           1.0                   1.0                  \n",
       "3 0:>85% EFFICIENCY           1.0                   1.0                  \n",
       "4 0:>85% EFFICIENCY           1.0                   1.0                  \n",
       "5 0:>85% EFFICIENCY           1.0                   0.0                  \n",
       "6 1:>=75% TO <=85% EFFICIENCY 1.0                   1.0                  \n",
       "  AMPHIT_15SD           Age BMI      PASCORE  \n",
       "1 Missing:not collected 83  28.89012  91.00000\n",
       "2 0.0                   81  28.53980 199.17857\n",
       "3 0.0                   83  25.01424 161.71429\n",
       "4 -1.0                  79  30.87637  88.21429\n",
       "5 -1.0                  81  33.58739 256.82143\n",
       "6 0.0                   80  26.41523 179.57143"
      ]
     },
     "metadata": {},
     "output_type": "display_data"
    },
    {
     "data": {
      "text/html": [
       "<table>\n",
       "<caption>A data.frame: 6 × 10</caption>\n",
       "<thead>\n",
       "\t<tr><th></th><th scope=col>PC1</th><th scope=col>PC2</th><th scope=col>PC3</th><th scope=col>PC4</th><th scope=col>PC5</th><th scope=col>PC6</th><th scope=col>PC7</th><th scope=col>PC8</th><th scope=col>PC9</th><th scope=col>PC10</th></tr>\n",
       "\t<tr><th></th><th scope=col>&lt;dbl&gt;</th><th scope=col>&lt;dbl&gt;</th><th scope=col>&lt;dbl&gt;</th><th scope=col>&lt;dbl&gt;</th><th scope=col>&lt;dbl&gt;</th><th scope=col>&lt;dbl&gt;</th><th scope=col>&lt;dbl&gt;</th><th scope=col>&lt;dbl&gt;</th><th scope=col>&lt;dbl&gt;</th><th scope=col>&lt;dbl&gt;</th></tr>\n",
       "</thead>\n",
       "<tbody>\n",
       "\t<tr><th scope=row>1</th><td>0.000000</td><td>3.854117</td><td>2.2624907</td><td>2.4775439</td><td>2.5230138</td><td>1.7619373</td><td>2.1528977</td><td>1.9830176</td><td>2.6162961</td><td>3.2161124</td></tr>\n",
       "\t<tr><th scope=row>2</th><td>3.854117</td><td>0.000000</td><td>1.9646308</td><td>1.5220292</td><td>1.3861677</td><td>2.2796945</td><td>2.1249924</td><td>1.9383154</td><td>1.3795474</td><td>0.7936802</td></tr>\n",
       "\t<tr><th scope=row>3</th><td>2.262491</td><td>1.964631</td><td>0.0000000</td><td>0.4890927</td><td>1.1557511</td><td>1.4876324</td><td>0.2544336</td><td>1.0246636</td><td>0.7861452</td><td>1.2313847</td></tr>\n",
       "\t<tr><th scope=row>4</th><td>2.477544</td><td>1.522029</td><td>0.4890927</td><td>0.0000000</td><td>0.7256925</td><td>1.3117906</td><td>0.6347898</td><td>0.8148648</td><td>0.3597706</td><td>0.7980843</td></tr>\n",
       "\t<tr><th scope=row>5</th><td>2.523014</td><td>1.386168</td><td>1.1557511</td><td>0.7256925</td><td>0.0000000</td><td>0.9155407</td><td>1.2265470</td><td>0.5707754</td><td>0.5491120</td><td>0.8728960</td></tr>\n",
       "\t<tr><th scope=row>6</th><td>1.761937</td><td>2.279694</td><td>1.4876324</td><td>1.3117906</td><td>0.9155407</td><td>0.0000000</td><td>1.4634691</td><td>0.5320803</td><td>1.2680218</td><td>1.7699147</td></tr>\n",
       "</tbody>\n",
       "</table>\n"
      ],
      "text/latex": [
       "A data.frame: 6 × 10\n",
       "\\begin{tabular}{r|llllllllll}\n",
       "  & PC1 & PC2 & PC3 & PC4 & PC5 & PC6 & PC7 & PC8 & PC9 & PC10\\\\\n",
       "  & <dbl> & <dbl> & <dbl> & <dbl> & <dbl> & <dbl> & <dbl> & <dbl> & <dbl> & <dbl>\\\\\n",
       "\\hline\n",
       "\t1 & 0.000000 & 3.854117 & 2.2624907 & 2.4775439 & 2.5230138 & 1.7619373 & 2.1528977 & 1.9830176 & 2.6162961 & 3.2161124\\\\\n",
       "\t2 & 3.854117 & 0.000000 & 1.9646308 & 1.5220292 & 1.3861677 & 2.2796945 & 2.1249924 & 1.9383154 & 1.3795474 & 0.7936802\\\\\n",
       "\t3 & 2.262491 & 1.964631 & 0.0000000 & 0.4890927 & 1.1557511 & 1.4876324 & 0.2544336 & 1.0246636 & 0.7861452 & 1.2313847\\\\\n",
       "\t4 & 2.477544 & 1.522029 & 0.4890927 & 0.0000000 & 0.7256925 & 1.3117906 & 0.6347898 & 0.8148648 & 0.3597706 & 0.7980843\\\\\n",
       "\t5 & 2.523014 & 1.386168 & 1.1557511 & 0.7256925 & 0.0000000 & 0.9155407 & 1.2265470 & 0.5707754 & 0.5491120 & 0.8728960\\\\\n",
       "\t6 & 1.761937 & 2.279694 & 1.4876324 & 1.3117906 & 0.9155407 & 0.0000000 & 1.4634691 & 0.5320803 & 1.2680218 & 1.7699147\\\\\n",
       "\\end{tabular}\n"
      ],
      "text/markdown": [
       "\n",
       "A data.frame: 6 × 10\n",
       "\n",
       "| <!--/--> | PC1 &lt;dbl&gt; | PC2 &lt;dbl&gt; | PC3 &lt;dbl&gt; | PC4 &lt;dbl&gt; | PC5 &lt;dbl&gt; | PC6 &lt;dbl&gt; | PC7 &lt;dbl&gt; | PC8 &lt;dbl&gt; | PC9 &lt;dbl&gt; | PC10 &lt;dbl&gt; |\n",
       "|---|---|---|---|---|---|---|---|---|---|---|\n",
       "| 1 | 0.000000 | 3.854117 | 2.2624907 | 2.4775439 | 2.5230138 | 1.7619373 | 2.1528977 | 1.9830176 | 2.6162961 | 3.2161124 |\n",
       "| 2 | 3.854117 | 0.000000 | 1.9646308 | 1.5220292 | 1.3861677 | 2.2796945 | 2.1249924 | 1.9383154 | 1.3795474 | 0.7936802 |\n",
       "| 3 | 2.262491 | 1.964631 | 0.0000000 | 0.4890927 | 1.1557511 | 1.4876324 | 0.2544336 | 1.0246636 | 0.7861452 | 1.2313847 |\n",
       "| 4 | 2.477544 | 1.522029 | 0.4890927 | 0.0000000 | 0.7256925 | 1.3117906 | 0.6347898 | 0.8148648 | 0.3597706 | 0.7980843 |\n",
       "| 5 | 2.523014 | 1.386168 | 1.1557511 | 0.7256925 | 0.0000000 | 0.9155407 | 1.2265470 | 0.5707754 | 0.5491120 | 0.8728960 |\n",
       "| 6 | 1.761937 | 2.279694 | 1.4876324 | 1.3117906 | 0.9155407 | 0.0000000 | 1.4634691 | 0.5320803 | 1.2680218 | 1.7699147 |\n",
       "\n"
      ],
      "text/plain": [
       "  PC1      PC2      PC3       PC4       PC5       PC6       PC7       PC8      \n",
       "1 0.000000 3.854117 2.2624907 2.4775439 2.5230138 1.7619373 2.1528977 1.9830176\n",
       "2 3.854117 0.000000 1.9646308 1.5220292 1.3861677 2.2796945 2.1249924 1.9383154\n",
       "3 2.262491 1.964631 0.0000000 0.4890927 1.1557511 1.4876324 0.2544336 1.0246636\n",
       "4 2.477544 1.522029 0.4890927 0.0000000 0.7256925 1.3117906 0.6347898 0.8148648\n",
       "5 2.523014 1.386168 1.1557511 0.7256925 0.0000000 0.9155407 1.2265470 0.5707754\n",
       "6 1.761937 2.279694 1.4876324 1.3117906 0.9155407 0.0000000 1.4634691 0.5320803\n",
       "  PC9       PC10     \n",
       "1 2.6162961 3.2161124\n",
       "2 1.3795474 0.7936802\n",
       "3 0.7861452 1.2313847\n",
       "4 0.3597706 0.7980843\n",
       "5 0.5491120 0.8728960\n",
       "6 1.2680218 1.7699147"
      ]
     },
     "metadata": {},
     "output_type": "display_data"
    }
   ],
   "source": [
    "# convert categorial to factors\n",
    "vars_cat = c('GIERACE', 'SITE', 'GIMSTAT', 'MHDIAB', 'MHRHEU1', 'MHOA', 'MHCHF', 'MHMI', 'MHDEPR', \n",
    "             'TUDRAMT_REVISED', 'PQPSLMED', 'PQPSQUAL', 'QLCOMP', 'SLEEPHRS', 'PQBADSLP', \n",
    "             'TURSMOKE', 'M1ADEPR', 'M1BENZO', 'PQPEFFIC', 'AMAMPT_C1', 'AMFVT_C1', 'AMPHIT_15SD')\n",
    "dat[vars_cat] = lapply(dat[vars_cat], factor)\n",
    "\n",
    "# # convert continuous to numeric\n",
    "vars_cts = c('Age', 'BMI', 'PASCORE')\n",
    "vars_pcs = c('PC1', 'PC2', 'PC3', 'PC4', 'PC5', 'PC6', 'PC7', 'PC8', 'PC9', 'PC10')\n",
    "\n",
    "dat = dat[c(vars_cat, vars_cts, vars_pcs)]\n",
    "dat = dat[complete.cases(dat), ]\n",
    "X = dat[c(vars_cat, vars_cts)]\n",
    "Y = dat[, vars_pcs]\n",
    "\n",
    "dim(X)\n",
    "dim(Y)\n",
    "\n",
    "head(X)\n",
    "head(Y)"
   ]
  },
  {
   "cell_type": "code",
   "execution_count": 30,
   "metadata": {},
   "outputs": [],
   "source": [
    "mod0 <- rda(Y ~ 1., X)  # Model with intercept only\n",
    "mod1 <- rda(Y ~ ., X)  # Model with all explanatory variables"
   ]
  },
  {
   "cell_type": "code",
   "execution_count": 31,
   "metadata": {},
   "outputs": [
    {
     "name": "stdout",
     "output_type": "stream",
     "text": [
      "Step: R2.adj= 0 \n",
      "Call: Y ~ 1 \n",
      " \n",
      "                    R2.adjusted\n",
      "<All variables>    0.0630858980\n",
      "+ GIERACE          0.0218335043\n",
      "+ PQPEFFIC         0.0124038293\n",
      "+ SITE             0.0121444993\n",
      "+ M1ADEPR          0.0090346327\n",
      "+ PASCORE          0.0081355199\n",
      "+ AMFVT_C1         0.0075583255\n",
      "+ PQPSQUAL         0.0075442989\n",
      "+ MHDEPR           0.0074424167\n",
      "+ MHOA             0.0058351973\n",
      "+ MHDIAB           0.0057865628\n",
      "+ TURSMOKE         0.0051518306\n",
      "+ BMI              0.0044739644\n",
      "+ PQBADSLP         0.0032844769\n",
      "+ Age              0.0031119391\n",
      "+ AMAMPT_C1        0.0029607419\n",
      "+ AMPHIT_15SD      0.0022232762\n",
      "+ GIMSTAT          0.0015558703\n",
      "+ QLCOMP           0.0015300621\n",
      "<none>             0.0000000000\n",
      "+ PQPSLMED        -0.0006602163\n",
      "+ MHRHEU1         -0.0010731774\n",
      "+ M1BENZO         -0.0011421686\n",
      "+ MHMI            -0.0011819206\n",
      "+ TUDRAMT_REVISED -0.0013228199\n",
      "+ MHCHF           -0.0014322133\n",
      "+ SLEEPHRS        -0.0022838704\n",
      "\n",
      "          Df    AIC     F Pr(>F)   \n",
      "+ GIERACE  4 1016.7 4.337  0.002 **\n",
      "---\n",
      "Signif. codes:  0 ‘***’ 0.001 ‘**’ 0.01 ‘*’ 0.05 ‘.’ 0.1 ‘ ’ 1\n",
      "\n",
      "Step: R2.adj= 0.0218335 \n",
      "Call: Y ~ GIERACE \n",
      " \n",
      "                  R2.adjusted\n",
      "<All variables>    0.06308590\n",
      "+ PQPEFFIC         0.03275667\n",
      "+ SITE             0.03265662\n",
      "+ M1ADEPR          0.02968195\n",
      "+ PASCORE          0.02896409\n",
      "+ BMI              0.02876085\n",
      "+ PQPSQUAL         0.02847762\n",
      "+ MHOA             0.02841905\n",
      "+ AMFVT_C1         0.02838865\n",
      "+ MHDEPR           0.02729306\n",
      "+ TURSMOKE         0.02643939\n",
      "+ MHDIAB           0.02605499\n",
      "+ PQBADSLP         0.02500609\n",
      "+ AMAMPT_C1        0.02484291\n",
      "+ AMPHIT_15SD      0.02457990\n",
      "+ Age              0.02422583\n",
      "+ QLCOMP           0.02348412\n",
      "+ GIMSTAT          0.02256424\n",
      "<none>             0.02183350\n",
      "+ M1BENZO          0.02081595\n",
      "+ MHMI             0.02058817\n",
      "+ MHCHF            0.02057595\n",
      "+ PQPSLMED         0.02057021\n",
      "+ MHRHEU1          0.02052888\n",
      "+ TUDRAMT_REVISED  0.01990033\n",
      "+ SLEEPHRS         0.01979422\n",
      "\n",
      "           Df  AIC     F Pr(>F)   \n",
      "+ PQPEFFIC  4 1014 2.677  0.004 **\n",
      "---\n",
      "Signif. codes:  0 ‘***’ 0.001 ‘**’ 0.01 ‘*’ 0.05 ‘.’ 0.1 ‘ ’ 1\n",
      "\n",
      "Step: R2.adj= 0.03275667 \n",
      "Call: Y ~ GIERACE + PQPEFFIC \n",
      " \n",
      "                  R2.adjusted\n",
      "<All variables>    0.06308590\n",
      "+ SITE             0.04475677\n",
      "+ BMI              0.04083039\n",
      "+ M1ADEPR          0.04035630\n",
      "+ MHOA             0.04021291\n",
      "+ AMFVT_C1         0.03950760\n",
      "+ TURSMOKE         0.03824914\n",
      "+ PASCORE          0.03796141\n",
      "+ MHDIAB           0.03701733\n",
      "+ MHDEPR           0.03666919\n",
      "+ AMAMPT_C1        0.03639338\n",
      "+ AMPHIT_15SD      0.03596231\n",
      "+ PQPSQUAL         0.03466295\n",
      "+ Age              0.03457324\n",
      "+ QLCOMP           0.03379520\n",
      "+ GIMSTAT          0.03313049\n",
      "<none>             0.03275667\n",
      "+ PQBADSLP         0.03228453\n",
      "+ M1BENZO          0.03173698\n",
      "+ MHMI             0.03163159\n",
      "+ PQPSLMED         0.03157034\n",
      "+ MHCHF            0.03154171\n",
      "+ MHRHEU1          0.03138989\n",
      "+ TUDRAMT_REVISED  0.03106186\n",
      "+ SLEEPHRS         0.03087363\n",
      "\n",
      "       Df    AIC      F Pr(>F)   \n",
      "+ SITE  5 1011.4 2.4824  0.008 **\n",
      "---\n",
      "Signif. codes:  0 ‘***’ 0.001 ‘**’ 0.01 ‘*’ 0.05 ‘.’ 0.1 ‘ ’ 1\n",
      "\n",
      "Step: R2.adj= 0.04475677 \n",
      "Call: Y ~ GIERACE + PQPEFFIC + SITE \n",
      " \n",
      "                  R2.adjusted\n",
      "<All variables>    0.06308590\n",
      "+ BMI              0.05316453\n",
      "+ M1ADEPR          0.05188770\n",
      "+ MHOA             0.05068166\n",
      "+ AMFVT_C1         0.05026946\n",
      "+ PASCORE          0.04953043\n",
      "+ TURSMOKE         0.04915711\n",
      "+ MHDEPR           0.04885992\n",
      "+ MHDIAB           0.04830328\n",
      "+ AMPHIT_15SD      0.04718936\n",
      "+ AMAMPT_C1        0.04714212\n",
      "+ PQPSQUAL         0.04671026\n",
      "+ QLCOMP           0.04606778\n",
      "+ Age              0.04602437\n",
      "<none>             0.04475677\n",
      "+ PQBADSLP         0.04431621\n",
      "+ GIMSTAT          0.04413869\n",
      "+ PQPSLMED         0.04362458\n",
      "+ MHCHF            0.04352944\n",
      "+ MHMI             0.04352658\n",
      "+ M1BENZO          0.04350430\n",
      "+ MHRHEU1          0.04341404\n",
      "+ SLEEPHRS         0.04250572\n",
      "+ TUDRAMT_REVISED  0.04159716\n",
      "\n",
      "      Df    AIC      F Pr(>F)   \n",
      "+ BMI  1 1007.1 6.1947  0.002 **\n",
      "---\n",
      "Signif. codes:  0 ‘***’ 0.001 ‘**’ 0.01 ‘*’ 0.05 ‘.’ 0.1 ‘ ’ 1\n",
      "\n",
      "Step: R2.adj= 0.05316453 \n",
      "Call: Y ~ GIERACE + PQPEFFIC + SITE + BMI \n",
      " \n",
      "                  R2.adjusted\n",
      "<All variables>    0.06308590\n",
      "+ M1ADEPR          0.06004041\n",
      "+ AMFVT_C1         0.05888399\n",
      "+ PASCORE          0.05868879\n",
      "+ MHOA             0.05793607\n",
      "+ TURSMOKE         0.05786831\n",
      "+ MHDEPR           0.05724644\n",
      "+ PQPSQUAL         0.05600234\n",
      "+ AMAMPT_C1        0.05586851\n",
      "+ MHDIAB           0.05584253\n",
      "+ AMPHIT_15SD      0.05522335\n",
      "+ QLCOMP           0.05514723\n",
      "+ Age              0.05335759\n",
      "<none>             0.05316453\n",
      "+ PQBADSLP         0.05274569\n",
      "+ PQPSLMED         0.05243546\n",
      "+ GIMSTAT          0.05241618\n",
      "+ MHCHF            0.05203922\n",
      "+ M1BENZO          0.05200949\n",
      "+ MHMI             0.05195686\n",
      "+ MHRHEU1          0.05191478\n",
      "+ SLEEPHRS         0.05133792\n",
      "+ TUDRAMT_REVISED  0.04969916\n",
      "\n",
      "          Df    AIC     F Pr(>F)   \n",
      "+ M1ADEPR  1 1003.7 5.272  0.006 **\n",
      "---\n",
      "Signif. codes:  0 ‘***’ 0.001 ‘**’ 0.01 ‘*’ 0.05 ‘.’ 0.1 ‘ ’ 1\n",
      "\n",
      "Step: R2.adj= 0.06004041 \n",
      "Call: Y ~ GIERACE + PQPEFFIC + SITE + BMI + M1ADEPR \n",
      " \n",
      "                  R2.adjusted\n",
      "+ AMFVT_C1         0.06502686\n",
      "+ PASCORE          0.06488508\n",
      "+ MHOA             0.06430924\n",
      "+ TURSMOKE         0.06380221\n",
      "<All variables>    0.06308590\n",
      "+ MHDIAB           0.06275993\n",
      "+ AMAMPT_C1        0.06246407\n",
      "+ PQPSQUAL         0.06234256\n",
      "+ AMPHIT_15SD      0.06184120\n",
      "+ QLCOMP           0.06175829\n",
      "+ Age              0.06015248\n",
      "<none>             0.06004041\n",
      "+ MHDEPR           0.05981360\n",
      "+ GIMSTAT          0.05942905\n",
      "+ PQBADSLP         0.05924984\n",
      "+ M1BENZO          0.05900835\n",
      "+ MHRHEU1          0.05897519\n",
      "+ MHCHF            0.05888423\n",
      "+ MHMI             0.05871772\n",
      "+ PQPSLMED         0.05863054\n",
      "+ SLEEPHRS         0.05821192\n",
      "+ TUDRAMT_REVISED  0.05638925\n",
      "\n"
     ]
    }
   ],
   "source": [
    "step.res <- ordiR2step(mod0, mod1, perm.max = 1000)"
   ]
  },
  {
   "cell_type": "code",
   "execution_count": 32,
   "metadata": {},
   "outputs": [
    {
     "data": {
      "text/html": [
       "<table>\n",
       "<caption>A anova: 6 × 5</caption>\n",
       "<thead>\n",
       "\t<tr><th></th><th scope=col>R2.adj</th><th scope=col>Df</th><th scope=col>AIC</th><th scope=col>F</th><th scope=col>Pr(&gt;F)</th></tr>\n",
       "\t<tr><th></th><th scope=col>&lt;dbl&gt;</th><th scope=col>&lt;dbl&gt;</th><th scope=col>&lt;dbl&gt;</th><th scope=col>&lt;dbl&gt;</th><th scope=col>&lt;dbl&gt;</th></tr>\n",
       "</thead>\n",
       "<tbody>\n",
       "\t<tr><th scope=row>+ GIERACE</th><td>0.02183350</td><td> 4</td><td>1016.745</td><td>4.336967</td><td>0.002</td></tr>\n",
       "\t<tr><th scope=row>+ PQPEFFIC</th><td>0.03275667</td><td> 4</td><td>1013.971</td><td>2.677025</td><td>0.004</td></tr>\n",
       "\t<tr><th scope=row>+ SITE</th><td>0.04475677</td><td> 5</td><td>1011.395</td><td>2.482357</td><td>0.008</td></tr>\n",
       "\t<tr><th scope=row>+ BMI</th><td>0.05316453</td><td> 1</td><td>1007.074</td><td>6.194713</td><td>0.002</td></tr>\n",
       "\t<tr><th scope=row>+ M1ADEPR</th><td>0.06004041</td><td> 1</td><td>1003.682</td><td>5.272005</td><td>0.006</td></tr>\n",
       "\t<tr><th scope=row>&lt;All variables&gt;</th><td>0.06308590</td><td>NA</td><td>      NA</td><td>      NA</td><td>   NA</td></tr>\n",
       "</tbody>\n",
       "</table>\n"
      ],
      "text/latex": [
       "A anova: 6 × 5\n",
       "\\begin{tabular}{r|lllll}\n",
       "  & R2.adj & Df & AIC & F & Pr(>F)\\\\\n",
       "  & <dbl> & <dbl> & <dbl> & <dbl> & <dbl>\\\\\n",
       "\\hline\n",
       "\t+ GIERACE & 0.02183350 &  4 & 1016.745 & 4.336967 & 0.002\\\\\n",
       "\t+ PQPEFFIC & 0.03275667 &  4 & 1013.971 & 2.677025 & 0.004\\\\\n",
       "\t+ SITE & 0.04475677 &  5 & 1011.395 & 2.482357 & 0.008\\\\\n",
       "\t+ BMI & 0.05316453 &  1 & 1007.074 & 6.194713 & 0.002\\\\\n",
       "\t+ M1ADEPR & 0.06004041 &  1 & 1003.682 & 5.272005 & 0.006\\\\\n",
       "\t<All variables> & 0.06308590 & NA &       NA &       NA &    NA\\\\\n",
       "\\end{tabular}\n"
      ],
      "text/markdown": [
       "\n",
       "A anova: 6 × 5\n",
       "\n",
       "| <!--/--> | R2.adj &lt;dbl&gt; | Df &lt;dbl&gt; | AIC &lt;dbl&gt; | F &lt;dbl&gt; | Pr(&gt;F) &lt;dbl&gt; |\n",
       "|---|---|---|---|---|---|\n",
       "| + GIERACE | 0.02183350 |  4 | 1016.745 | 4.336967 | 0.002 |\n",
       "| + PQPEFFIC | 0.03275667 |  4 | 1013.971 | 2.677025 | 0.004 |\n",
       "| + SITE | 0.04475677 |  5 | 1011.395 | 2.482357 | 0.008 |\n",
       "| + BMI | 0.05316453 |  1 | 1007.074 | 6.194713 | 0.002 |\n",
       "| + M1ADEPR | 0.06004041 |  1 | 1003.682 | 5.272005 | 0.006 |\n",
       "| &lt;All variables&gt; | 0.06308590 | NA |       NA |       NA |    NA |\n",
       "\n"
      ],
      "text/plain": [
       "                R2.adj     Df AIC      F        Pr(>F)\n",
       "+ GIERACE       0.02183350  4 1016.745 4.336967 0.002 \n",
       "+ PQPEFFIC      0.03275667  4 1013.971 2.677025 0.004 \n",
       "+ SITE          0.04475677  5 1011.395 2.482357 0.008 \n",
       "+ BMI           0.05316453  1 1007.074 6.194713 0.002 \n",
       "+ M1ADEPR       0.06004041  1 1003.682 5.272005 0.006 \n",
       "<All variables> 0.06308590 NA       NA       NA    NA "
      ]
     },
     "metadata": {},
     "output_type": "display_data"
    }
   ],
   "source": [
    "table = step.res$anova\n",
    "table"
   ]
  },
  {
   "cell_type": "code",
   "execution_count": 37,
   "metadata": {},
   "outputs": [
    {
     "data": {
      "text/plain": [
       "rda(formula = Y ~ GIERACE + PQPEFFIC + SITE + BMI + M1ADEPR, \n",
       "    data = X)"
      ]
     },
     "metadata": {},
     "output_type": "display_data"
    }
   ],
   "source": [
    "table$ES.RDA = c(table$R2.adj[1], table$R2.adj[2]-table$R2.adj[1], \n",
    "                       table$R2.adj[3]-table$R2.adj[2], table$R2.adj[4]-table$R2.adj[3],\n",
    "                       table$R2.adj[5]-table$R2.adj[4], table$R2.adj[6]-table$R2.adj[5])\n",
    "table = table[-6, ]\n",
    "\n",
    "step.res$call"
   ]
  },
  {
   "cell_type": "code",
   "execution_count": 38,
   "metadata": {},
   "outputs": [
    {
     "data": {
      "text/html": [
       "<table>\n",
       "<caption>A anova: 5 × 6</caption>\n",
       "<thead>\n",
       "\t<tr><th></th><th scope=col>R2.adj</th><th scope=col>Df</th><th scope=col>AIC</th><th scope=col>F</th><th scope=col>Pr(&gt;F)</th><th scope=col>ES.RDA</th></tr>\n",
       "\t<tr><th></th><th scope=col>&lt;dbl&gt;</th><th scope=col>&lt;dbl&gt;</th><th scope=col>&lt;dbl&gt;</th><th scope=col>&lt;dbl&gt;</th><th scope=col>&lt;dbl&gt;</th><th scope=col>&lt;dbl&gt;</th></tr>\n",
       "</thead>\n",
       "<tbody>\n",
       "\t<tr><th scope=row>Race</th><td>0.02183350</td><td>4</td><td>1016.745</td><td>4.336967</td><td>0.002</td><td>0.021833504</td></tr>\n",
       "\t<tr><th scope=row>Site</th><td>0.03275667</td><td>4</td><td>1013.971</td><td>2.677025</td><td>0.004</td><td>0.010923170</td></tr>\n",
       "\t<tr><th scope=row>Diabetes</th><td>0.04475677</td><td>5</td><td>1011.395</td><td>2.482357</td><td>0.008</td><td>0.012000098</td></tr>\n",
       "\t<tr><th scope=row>PQPEFFIC</th><td>0.05316453</td><td>1</td><td>1007.074</td><td>6.194713</td><td>0.002</td><td>0.008407759</td></tr>\n",
       "\t<tr><th scope=row>BMI</th><td>0.06004041</td><td>1</td><td>1003.682</td><td>5.272005</td><td>0.006</td><td>0.006875877</td></tr>\n",
       "</tbody>\n",
       "</table>\n"
      ],
      "text/latex": [
       "A anova: 5 × 6\n",
       "\\begin{tabular}{r|llllll}\n",
       "  & R2.adj & Df & AIC & F & Pr(>F) & ES.RDA\\\\\n",
       "  & <dbl> & <dbl> & <dbl> & <dbl> & <dbl> & <dbl>\\\\\n",
       "\\hline\n",
       "\tRace & 0.02183350 & 4 & 1016.745 & 4.336967 & 0.002 & 0.021833504\\\\\n",
       "\tSite & 0.03275667 & 4 & 1013.971 & 2.677025 & 0.004 & 0.010923170\\\\\n",
       "\tDiabetes & 0.04475677 & 5 & 1011.395 & 2.482357 & 0.008 & 0.012000098\\\\\n",
       "\tPQPEFFIC & 0.05316453 & 1 & 1007.074 & 6.194713 & 0.002 & 0.008407759\\\\\n",
       "\tBMI & 0.06004041 & 1 & 1003.682 & 5.272005 & 0.006 & 0.006875877\\\\\n",
       "\\end{tabular}\n"
      ],
      "text/markdown": [
       "\n",
       "A anova: 5 × 6\n",
       "\n",
       "| <!--/--> | R2.adj &lt;dbl&gt; | Df &lt;dbl&gt; | AIC &lt;dbl&gt; | F &lt;dbl&gt; | Pr(&gt;F) &lt;dbl&gt; | ES.RDA &lt;dbl&gt; |\n",
       "|---|---|---|---|---|---|---|\n",
       "| Race | 0.02183350 | 4 | 1016.745 | 4.336967 | 0.002 | 0.021833504 |\n",
       "| Site | 0.03275667 | 4 | 1013.971 | 2.677025 | 0.004 | 0.010923170 |\n",
       "| Diabetes | 0.04475677 | 5 | 1011.395 | 2.482357 | 0.008 | 0.012000098 |\n",
       "| PQPEFFIC | 0.05316453 | 1 | 1007.074 | 6.194713 | 0.002 | 0.008407759 |\n",
       "| BMI | 0.06004041 | 1 | 1003.682 | 5.272005 | 0.006 | 0.006875877 |\n",
       "\n"
      ],
      "text/plain": [
       "         R2.adj     Df AIC      F        Pr(>F) ES.RDA     \n",
       "Race     0.02183350 4  1016.745 4.336967 0.002  0.021833504\n",
       "Site     0.03275667 4  1013.971 2.677025 0.004  0.010923170\n",
       "Diabetes 0.04475677 5  1011.395 2.482357 0.008  0.012000098\n",
       "PQPEFFIC 0.05316453 1  1007.074 6.194713 0.002  0.008407759\n",
       "BMI      0.06004041 1  1003.682 5.272005 0.006  0.006875877"
      ]
     },
     "metadata": {},
     "output_type": "display_data"
    }
   ],
   "source": [
    "table"
   ]
  },
  {
   "cell_type": "code",
   "execution_count": 39,
   "metadata": {},
   "outputs": [
    {
     "data": {
      "text/html": [
       "<strong>null device:</strong> 1"
      ],
      "text/latex": [
       "\\textbf{null device:} 1"
      ],
      "text/markdown": [
       "**null device:** 1"
      ],
      "text/plain": [
       "null device \n",
       "          1 "
      ]
     },
     "metadata": {},
     "output_type": "display_data"
    },
    {
     "data": {
      "image/png": "[encoded data removed]",
      "text/plain": [
       "plot without title"
      ]
     },
     "metadata": {
      "image/png": {
       "height": 420,
       "width": 420
      },
      "text/plain": {
       "height": 420,
       "width": 420
      }
     },
     "output_type": "display_data"
    }
   ],
   "source": [
    "#make plot\n",
    "covariates = rownames(table)\n",
    "ggplot(table, aes(x=reorder(covariates, ES.RDA), y=ES.RDA, fill=covariates)) +\n",
    "  labs(x = 'Non-redundant Covariants', y = 'Effect Size (Aitchison distance)') +\n",
    "  geom_bar(stat='identity') +\n",
    "  theme(axis.text=element_text(size=10), \n",
    "        axis.title=element_text(size=14,face=\"bold\"), \n",
    "        legend.position=\"none\") + \n",
    "  coord_flip()\n",
    "dev.off()\n"
   ]
  }
 ],
 "metadata": {
  "kernelspec": {
   "display_name": "R",
   "language": "R",
   "name": "ir"
  },
  "language_info": {
   "codemirror_mode": "r",
   "file_extension": ".r",
   "mimetype": "text/x-r-source",
   "name": "R",
   "pygments_lexer": "r",
   "version": "3.6.1"
  }
 },
 "nbformat": 4,
 "nbformat_minor": 2
}

{
 "cells": [
  {
   "cell_type": "markdown",
   "metadata": {},
   "source": [
    "#### This notebook is to handle missing values from data collection"
   ]
  },
  {
   "cell_type": "code",
   "execution_count": 1,
   "metadata": {},
   "outputs": [
    {
     "name": "stderr",
     "output_type": "stream",
     "text": [
      "Warning message in eval(expr, envir, enclos):\n",
      "“NAs introduced by coercion”\n",
      "Warning message in eval(expr, envir, enclos):\n",
      "“NAs introduced by coercion”\n",
      "Warning message in eval(expr, envir, enclos):\n",
      "“NAs introduced by coercion”\n"
     ]
    }
   ],
   "source": [
    "meta <- read.delim(\"mapping_sleep_alpha.txt\")\n",
    "meta$AMPHIT <- as.numeric(as.character(meta$AMPHIT))\n",
    "meta$AMFVT <- as.numeric(as.character(meta$AMFVT))\n",
    "meta$SLSLPHRS<- as.numeric(as.character(meta$SLSLPHRS))"
   ]
  },
  {
   "cell_type": "code",
   "execution_count": 2,
   "metadata": {},
   "outputs": [
    {
     "data": {
      "text/html": [
       "<table>\n",
       "<caption>A data.frame: 6 × 80</caption>\n",
       "<thead>\n",
       "\t<tr><th></th><th scope=col>#SampleID</th><th scope=col>BarcodeSequence</th><th scope=col>LinkerPrimerSequence</th><th scope=col>Experiment_Design_Description</th><th scope=col>Library_Construction_Protocol</th><th scope=col>Linker</th><th scope=col>Platform</th><th scope=col>Center_Name</th><th scope=col>Center_Project</th><th scope=col>Instrument_Model</th><th scope=col>⋯</th><th scope=col>M1ADEPR</th><th scope=col>M1BENZO</th><th scope=col>AMAMPT_C1</th><th scope=col>AMFVT_C1</th><th scope=col>AMPHIT_15SD</th><th scope=col>Description</th><th scope=col>alpha_pd</th><th scope=col>observed_otus</th><th scope=col>shannon</th><th scope=col>pielou_e</th></tr>\n",
       "\t<tr><th></th><th scope=col>&lt;fct&gt;</th><th scope=col>&lt;fct&gt;</th><th scope=col>&lt;fct&gt;</th><th scope=col>&lt;fct&gt;</th><th scope=col>&lt;fct&gt;</th><th scope=col>&lt;fct&gt;</th><th scope=col>&lt;fct&gt;</th><th scope=col>&lt;fct&gt;</th><th scope=col>&lt;fct&gt;</th><th scope=col>&lt;fct&gt;</th><th scope=col>⋯</th><th scope=col>&lt;fct&gt;</th><th scope=col>&lt;fct&gt;</th><th scope=col>&lt;fct&gt;</th><th scope=col>&lt;fct&gt;</th><th scope=col>&lt;fct&gt;</th><th scope=col>&lt;fct&gt;</th><th scope=col>&lt;dbl&gt;</th><th scope=col>&lt;int&gt;</th><th scope=col>&lt;dbl&gt;</th><th scope=col>&lt;dbl&gt;</th></tr>\n",
       "</thead>\n",
       "<tbody>\n",
       "\t<tr><th scope=row>4</th><td>BI0153</td><td>ATCGGCGTTACA</td><td>GGACTACHVGGGTWTCTAAT</td><td>16S stool samples sequenced for MrOS Vitamin D study</td><td>16S rRNA v4</td><td>GT</td><td>Illumina</td><td>BI</td><td>MrOS</td><td>Illumina MiSeq</td><td>⋯</td><td>0: No </td><td>0: No</td><td>1.0</td><td>1.0</td><td>-1.0</td><td>Orwoll.BI0153.BI</td><td>18.46968</td><td>223</td><td>4.894253</td><td>0.6273959</td></tr>\n",
       "\t<tr><th scope=row>6</th><td>BI0353</td><td>TGCCATCTGAAT</td><td>GGACTACHVGGGTWTCTAAT</td><td>16S stool samples sequenced for MrOS Vitamin D study</td><td>16S rRNA v4</td><td>GT</td><td>Illumina</td><td>BI</td><td>MrOS</td><td>Illumina MiSeq</td><td>⋯</td><td>0: No </td><td>0: No</td><td>1.0</td><td>1.0</td><td>0.0 </td><td>Orwoll.BI0353.BI</td><td>13.75183</td><td>155</td><td>4.213016</td><td>0.5790192</td></tr>\n",
       "\t<tr><th scope=row>7</th><td>BI0371</td><td>GAATAGAGCCAA</td><td>GGACTACHVGGGTWTCTAAT</td><td>16S stool samples sequenced for MrOS Vitamin D study</td><td>16S rRNA v4</td><td>GT</td><td>Illumina</td><td>BI</td><td>MrOS</td><td>Illumina MiSeq</td><td>⋯</td><td>0: No </td><td>0: No</td><td>1.0</td><td>0.0</td><td>0.0 </td><td>Orwoll.BI0371.BI</td><td>21.84852</td><td>236</td><td>5.727235</td><td>0.7265627</td></tr>\n",
       "\t<tr><th scope=row>8</th><td>BI0372</td><td>ATGCCAACCAAC</td><td>GGACTACHVGGGTWTCTAAT</td><td>16S stool samples sequenced for MrOS Vitamin D study</td><td>16S rRNA v4</td><td>GT</td><td>Illumina</td><td>BI</td><td>MrOS</td><td>Illumina MiSeq</td><td>⋯</td><td>1: Yes</td><td>0: No</td><td>0.0</td><td>0.0</td><td>-1.0</td><td>Orwoll.BI0372.BI</td><td>21.14965</td><td>218</td><td>5.185855</td><td>0.6675762</td></tr>\n",
       "\t<tr><th scope=row>9</th><td>BI0380</td><td>GAGTCGCGTTTA</td><td>GGACTACHVGGGTWTCTAAT</td><td>16S stool samples sequenced for MrOS Vitamin D study</td><td>16S rRNA v4</td><td>GT</td><td>Illumina</td><td>BI</td><td>MrOS</td><td>Illumina MiSeq</td><td>⋯</td><td>0: No </td><td>0: No</td><td>0.0</td><td>0.0</td><td>0.0 </td><td>Orwoll.BI0380.BI</td><td>22.53440</td><td>230</td><td>5.060311</td><td>0.6449961</td></tr>\n",
       "\t<tr><th scope=row>10</th><td>BI0389</td><td>GCTATGGACCGA</td><td>GGACTACHVGGGTWTCTAAT</td><td>16S stool samples sequenced for MrOS Vitamin D study</td><td>16S rRNA v4</td><td>GT</td><td>Illumina</td><td>BI</td><td>MrOS</td><td>Illumina MiSeq</td><td>⋯</td><td>1: Yes</td><td>0: No</td><td>1.0</td><td>1.0</td><td>0.0 </td><td>Orwoll.BI0389.BI</td><td>15.14976</td><td>171</td><td>4.755662</td><td>0.6411104</td></tr>\n",
       "</tbody>\n",
       "</table>\n"
      ],
      "text/latex": [
       "A data.frame: 6 × 80\n",
       "\\begin{tabular}{r|lllllllllllllllllllll}\n",
       "  & \\#SampleID & BarcodeSequence & LinkerPrimerSequence & Experiment\\_Design\\_Description & Library\\_Construction\\_Protocol & Linker & Platform & Center\\_Name & Center\\_Project & Instrument\\_Model & ⋯ & M1ADEPR & M1BENZO & AMAMPT\\_C1 & AMFVT\\_C1 & AMPHIT\\_15SD & Description & alpha\\_pd & observed\\_otus & shannon & pielou\\_e\\\\\n",
       "  & <fct> & <fct> & <fct> & <fct> & <fct> & <fct> & <fct> & <fct> & <fct> & <fct> & ⋯ & <fct> & <fct> & <fct> & <fct> & <fct> & <fct> & <dbl> & <int> & <dbl> & <dbl>\\\\\n",
       "\\hline\n",
       "\t4 & BI0153 & ATCGGCGTTACA & GGACTACHVGGGTWTCTAAT & 16S stool samples sequenced for MrOS Vitamin D study & 16S rRNA v4 & GT & Illumina & BI & MrOS & Illumina MiSeq & ⋯ & 0: No  & 0: No & 1.0 & 1.0 & -1.0 & Orwoll.BI0153.BI & 18.46968 & 223 & 4.894253 & 0.6273959\\\\\n",
       "\t6 & BI0353 & TGCCATCTGAAT & GGACTACHVGGGTWTCTAAT & 16S stool samples sequenced for MrOS Vitamin D study & 16S rRNA v4 & GT & Illumina & BI & MrOS & Illumina MiSeq & ⋯ & 0: No  & 0: No & 1.0 & 1.0 & 0.0  & Orwoll.BI0353.BI & 13.75183 & 155 & 4.213016 & 0.5790192\\\\\n",
       "\t7 & BI0371 & GAATAGAGCCAA & GGACTACHVGGGTWTCTAAT & 16S stool samples sequenced for MrOS Vitamin D study & 16S rRNA v4 & GT & Illumina & BI & MrOS & Illumina MiSeq & ⋯ & 0: No  & 0: No & 1.0 & 0.0 & 0.0  & Orwoll.BI0371.BI & 21.84852 & 236 & 5.727235 & 0.7265627\\\\\n",
       "\t8 & BI0372 & ATGCCAACCAAC & GGACTACHVGGGTWTCTAAT & 16S stool samples sequenced for MrOS Vitamin D study & 16S rRNA v4 & GT & Illumina & BI & MrOS & Illumina MiSeq & ⋯ & 1: Yes & 0: No & 0.0 & 0.0 & -1.0 & Orwoll.BI0372.BI & 21.14965 & 218 & 5.185855 & 0.6675762\\\\\n",
       "\t9 & BI0380 & GAGTCGCGTTTA & GGACTACHVGGGTWTCTAAT & 16S stool samples sequenced for MrOS Vitamin D study & 16S rRNA v4 & GT & Illumina & BI & MrOS & Illumina MiSeq & ⋯ & 0: No  & 0: No & 0.0 & 0.0 & 0.0  & Orwoll.BI0380.BI & 22.53440 & 230 & 5.060311 & 0.6449961\\\\\n",
       "\t10 & BI0389 & GCTATGGACCGA & GGACTACHVGGGTWTCTAAT & 16S stool samples sequenced for MrOS Vitamin D study & 16S rRNA v4 & GT & Illumina & BI & MrOS & Illumina MiSeq & ⋯ & 1: Yes & 0: No & 1.0 & 1.0 & 0.0  & Orwoll.BI0389.BI & 15.14976 & 171 & 4.755662 & 0.6411104\\\\\n",
       "\\end{tabular}\n"
      ],
      "text/markdown": [
       "\n",
       "A data.frame: 6 × 80\n",
       "\n",
       "| <!--/--> | #SampleID &lt;fct&gt; | BarcodeSequence &lt;fct&gt; | LinkerPrimerSequence &lt;fct&gt; | Experiment_Design_Description &lt;fct&gt; | Library_Construction_Protocol &lt;fct&gt; | Linker &lt;fct&gt; | Platform &lt;fct&gt; | Center_Name &lt;fct&gt; | Center_Project &lt;fct&gt; | Instrument_Model &lt;fct&gt; | ⋯ ⋯ | M1ADEPR &lt;fct&gt; | M1BENZO &lt;fct&gt; | AMAMPT_C1 &lt;fct&gt; | AMFVT_C1 &lt;fct&gt; | AMPHIT_15SD &lt;fct&gt; | Description &lt;fct&gt; | alpha_pd &lt;dbl&gt; | observed_otus &lt;int&gt; | shannon &lt;dbl&gt; | pielou_e &lt;dbl&gt; |\n",
       "|---|---|---|---|---|---|---|---|---|---|---|---|---|---|---|---|---|---|---|---|---|---|\n",
       "| 4 | BI0153 | ATCGGCGTTACA | GGACTACHVGGGTWTCTAAT | 16S stool samples sequenced for MrOS Vitamin D study | 16S rRNA v4 | GT | Illumina | BI | MrOS | Illumina MiSeq | ⋯ | 0: No  | 0: No | 1.0 | 1.0 | -1.0 | Orwoll.BI0153.BI | 18.46968 | 223 | 4.894253 | 0.6273959 |\n",
       "| 6 | BI0353 | TGCCATCTGAAT | GGACTACHVGGGTWTCTAAT | 16S stool samples sequenced for MrOS Vitamin D study | 16S rRNA v4 | GT | Illumina | BI | MrOS | Illumina MiSeq | ⋯ | 0: No  | 0: No | 1.0 | 1.0 | 0.0  | Orwoll.BI0353.BI | 13.75183 | 155 | 4.213016 | 0.5790192 |\n",
       "| 7 | BI0371 | GAATAGAGCCAA | GGACTACHVGGGTWTCTAAT | 16S stool samples sequenced for MrOS Vitamin D study | 16S rRNA v4 | GT | Illumina | BI | MrOS | Illumina MiSeq | ⋯ | 0: No  | 0: No | 1.0 | 0.0 | 0.0  | Orwoll.BI0371.BI | 21.84852 | 236 | 5.727235 | 0.7265627 |\n",
       "| 8 | BI0372 | ATGCCAACCAAC | GGACTACHVGGGTWTCTAAT | 16S stool samples sequenced for MrOS Vitamin D study | 16S rRNA v4 | GT | Illumina | BI | MrOS | Illumina MiSeq | ⋯ | 1: Yes | 0: No | 0.0 | 0.0 | -1.0 | Orwoll.BI0372.BI | 21.14965 | 218 | 5.185855 | 0.6675762 |\n",
       "| 9 | BI0380 | GAGTCGCGTTTA | GGACTACHVGGGTWTCTAAT | 16S stool samples sequenced for MrOS Vitamin D study | 16S rRNA v4 | GT | Illumina | BI | MrOS | Illumina MiSeq | ⋯ | 0: No  | 0: No | 0.0 | 0.0 | 0.0  | Orwoll.BI0380.BI | 22.53440 | 230 | 5.060311 | 0.6449961 |\n",
       "| 10 | BI0389 | GCTATGGACCGA | GGACTACHVGGGTWTCTAAT | 16S stool samples sequenced for MrOS Vitamin D study | 16S rRNA v4 | GT | Illumina | BI | MrOS | Illumina MiSeq | ⋯ | 1: Yes | 0: No | 1.0 | 1.0 | 0.0  | Orwoll.BI0389.BI | 15.14976 | 171 | 4.755662 | 0.6411104 |\n",
       "\n"
      ],
      "text/plain": [
       "   #SampleID BarcodeSequence LinkerPrimerSequence\n",
       "4  BI0153    ATCGGCGTTACA    GGACTACHVGGGTWTCTAAT\n",
       "6  BI0353    TGCCATCTGAAT    GGACTACHVGGGTWTCTAAT\n",
       "7  BI0371    GAATAGAGCCAA    GGACTACHVGGGTWTCTAAT\n",
       "8  BI0372    ATGCCAACCAAC    GGACTACHVGGGTWTCTAAT\n",
       "9  BI0380    GAGTCGCGTTTA    GGACTACHVGGGTWTCTAAT\n",
       "10 BI0389    GCTATGGACCGA    GGACTACHVGGGTWTCTAAT\n",
       "   Experiment_Design_Description                       \n",
       "4  16S stool samples sequenced for MrOS Vitamin D study\n",
       "6  16S stool samples sequenced for MrOS Vitamin D study\n",
       "7  16S stool samples sequenced for MrOS Vitamin D study\n",
       "8  16S stool samples sequenced for MrOS Vitamin D study\n",
       "9  16S stool samples sequenced for MrOS Vitamin D study\n",
       "10 16S stool samples sequenced for MrOS Vitamin D study\n",
       "   Library_Construction_Protocol Linker Platform Center_Name Center_Project\n",
       "4  16S rRNA v4                   GT     Illumina BI          MrOS          \n",
       "6  16S rRNA v4                   GT     Illumina BI          MrOS          \n",
       "7  16S rRNA v4                   GT     Illumina BI          MrOS          \n",
       "8  16S rRNA v4                   GT     Illumina BI          MrOS          \n",
       "9  16S rRNA v4                   GT     Illumina BI          MrOS          \n",
       "10 16S rRNA v4                   GT     Illumina BI          MrOS          \n",
       "   Instrument_Model ⋯ M1ADEPR M1BENZO AMAMPT_C1 AMFVT_C1 AMPHIT_15SD\n",
       "4  Illumina MiSeq   ⋯ 0: No   0: No   1.0       1.0      -1.0       \n",
       "6  Illumina MiSeq   ⋯ 0: No   0: No   1.0       1.0      0.0        \n",
       "7  Illumina MiSeq   ⋯ 0: No   0: No   1.0       0.0      0.0        \n",
       "8  Illumina MiSeq   ⋯ 1: Yes  0: No   0.0       0.0      -1.0       \n",
       "9  Illumina MiSeq   ⋯ 0: No   0: No   0.0       0.0      0.0        \n",
       "10 Illumina MiSeq   ⋯ 1: Yes  0: No   1.0       1.0      0.0        \n",
       "   Description      alpha_pd observed_otus shannon  pielou_e \n",
       "4  Orwoll.BI0153.BI 18.46968 223           4.894253 0.6273959\n",
       "6  Orwoll.BI0353.BI 13.75183 155           4.213016 0.5790192\n",
       "7  Orwoll.BI0371.BI 21.84852 236           5.727235 0.7265627\n",
       "8  Orwoll.BI0372.BI 21.14965 218           5.185855 0.6675762\n",
       "9  Orwoll.BI0380.BI 22.53440 230           5.060311 0.6449961\n",
       "10 Orwoll.BI0389.BI 15.14976 171           4.755662 0.6411104"
      ]
     },
     "metadata": {},
     "output_type": "display_data"
    }
   ],
   "source": [
    "ind <- which(is.na(meta$AMPHIT))\n",
    "ind2 <- which(is.na(meta$SLSLPHRS))\n",
    "meta <- na.omit(meta)\n",
    "colnames(meta)[1] <- \"#SampleID\"\n",
    "head(meta)"
   ]
  },
  {
   "cell_type": "code",
   "execution_count": 3,
   "metadata": {},
   "outputs": [],
   "source": [
    "write.table(meta, \"mapping_sleep_alpha_omit.txt\", sep = \"\\t\", row.names = F)"
   ]
  },
  {
   "cell_type": "code",
   "execution_count": 4,
   "metadata": {},
   "outputs": [
    {
     "data": {
      "text/html": [
       "'integer'"
      ],
      "text/latex": [
       "'integer'"
      ],
      "text/markdown": [
       "'integer'"
      ],
      "text/plain": [
       "[1] \"integer\""
      ]
     },
     "metadata": {},
     "output_type": "display_data"
    },
    {
     "data": {
      "text/html": [
       "<table>\n",
       "<caption>A data.frame: 6 × 80</caption>\n",
       "<thead>\n",
       "\t<tr><th></th><th scope=col>#SampleID</th><th scope=col>BarcodeSequence</th><th scope=col>LinkerPrimerSequence</th><th scope=col>Experiment_Design_Description</th><th scope=col>Library_Construction_Protocol</th><th scope=col>Linker</th><th scope=col>Platform</th><th scope=col>Center_Name</th><th scope=col>Center_Project</th><th scope=col>Instrument_Model</th><th scope=col>⋯</th><th scope=col>M1ADEPR</th><th scope=col>M1BENZO</th><th scope=col>AMAMPT_C1</th><th scope=col>AMFVT_C1</th><th scope=col>AMPHIT_15SD</th><th scope=col>Description</th><th scope=col>alpha_pd</th><th scope=col>observed_otus</th><th scope=col>shannon</th><th scope=col>pielou_e</th></tr>\n",
       "\t<tr><th></th><th scope=col>&lt;fct&gt;</th><th scope=col>&lt;fct&gt;</th><th scope=col>&lt;fct&gt;</th><th scope=col>&lt;fct&gt;</th><th scope=col>&lt;fct&gt;</th><th scope=col>&lt;fct&gt;</th><th scope=col>&lt;fct&gt;</th><th scope=col>&lt;fct&gt;</th><th scope=col>&lt;fct&gt;</th><th scope=col>&lt;fct&gt;</th><th scope=col>⋯</th><th scope=col>&lt;fct&gt;</th><th scope=col>&lt;fct&gt;</th><th scope=col>&lt;dbl&gt;</th><th scope=col>&lt;dbl&gt;</th><th scope=col>&lt;dbl&gt;</th><th scope=col>&lt;fct&gt;</th><th scope=col>&lt;dbl&gt;</th><th scope=col>&lt;int&gt;</th><th scope=col>&lt;dbl&gt;</th><th scope=col>&lt;dbl&gt;</th></tr>\n",
       "</thead>\n",
       "<tbody>\n",
       "\t<tr><th scope=row>1</th><td>BI0153</td><td>ATCGGCGTTACA</td><td>GGACTACHVGGGTWTCTAAT</td><td>16S stool samples sequenced for MrOS Vitamin D study</td><td>16S rRNA v4</td><td>GT</td><td>Illumina</td><td>BI</td><td>MrOS</td><td>Illumina MiSeq</td><td>⋯</td><td>0: No </td><td>0: No</td><td>1</td><td>1</td><td>-1</td><td>Orwoll.BI0153.BI</td><td>18.46968</td><td>223</td><td>4.894253</td><td>0.6273959</td></tr>\n",
       "\t<tr><th scope=row>2</th><td>BI0353</td><td>TGCCATCTGAAT</td><td>GGACTACHVGGGTWTCTAAT</td><td>16S stool samples sequenced for MrOS Vitamin D study</td><td>16S rRNA v4</td><td>GT</td><td>Illumina</td><td>BI</td><td>MrOS</td><td>Illumina MiSeq</td><td>⋯</td><td>0: No </td><td>0: No</td><td>1</td><td>1</td><td> 0</td><td>Orwoll.BI0353.BI</td><td>13.75183</td><td>155</td><td>4.213016</td><td>0.5790192</td></tr>\n",
       "\t<tr><th scope=row>3</th><td>BI0371</td><td>GAATAGAGCCAA</td><td>GGACTACHVGGGTWTCTAAT</td><td>16S stool samples sequenced for MrOS Vitamin D study</td><td>16S rRNA v4</td><td>GT</td><td>Illumina</td><td>BI</td><td>MrOS</td><td>Illumina MiSeq</td><td>⋯</td><td>0: No </td><td>0: No</td><td>1</td><td>0</td><td> 0</td><td>Orwoll.BI0371.BI</td><td>21.84852</td><td>236</td><td>5.727235</td><td>0.7265627</td></tr>\n",
       "\t<tr><th scope=row>4</th><td>BI0372</td><td>ATGCCAACCAAC</td><td>GGACTACHVGGGTWTCTAAT</td><td>16S stool samples sequenced for MrOS Vitamin D study</td><td>16S rRNA v4</td><td>GT</td><td>Illumina</td><td>BI</td><td>MrOS</td><td>Illumina MiSeq</td><td>⋯</td><td>1: Yes</td><td>0: No</td><td>0</td><td>0</td><td>-1</td><td>Orwoll.BI0372.BI</td><td>21.14965</td><td>218</td><td>5.185855</td><td>0.6675762</td></tr>\n",
       "\t<tr><th scope=row>6</th><td>BI0389</td><td>GCTATGGACCGA</td><td>GGACTACHVGGGTWTCTAAT</td><td>16S stool samples sequenced for MrOS Vitamin D study</td><td>16S rRNA v4</td><td>GT</td><td>Illumina</td><td>BI</td><td>MrOS</td><td>Illumina MiSeq</td><td>⋯</td><td>1: Yes</td><td>0: No</td><td>1</td><td>1</td><td> 0</td><td>Orwoll.BI0389.BI</td><td>15.14976</td><td>171</td><td>4.755662</td><td>0.6411104</td></tr>\n",
       "\t<tr><th scope=row>8</th><td>BI0397</td><td>GTTGGTCAATCT</td><td>GGACTACHVGGGTWTCTAAT</td><td>16S stool samples sequenced for MrOS Vitamin D study</td><td>16S rRNA v4</td><td>GT</td><td>Illumina</td><td>BI</td><td>MrOS</td><td>Illumina MiSeq</td><td>⋯</td><td>0: No </td><td>0: No</td><td>1</td><td>1</td><td> 0</td><td>Orwoll.BI0397.BI</td><td>17.49230</td><td>187</td><td>4.781767</td><td>0.6336073</td></tr>\n",
       "</tbody>\n",
       "</table>\n"
      ],
      "text/latex": [
       "A data.frame: 6 × 80\n",
       "\\begin{tabular}{r|lllllllllllllllllllll}\n",
       "  & \\#SampleID & BarcodeSequence & LinkerPrimerSequence & Experiment\\_Design\\_Description & Library\\_Construction\\_Protocol & Linker & Platform & Center\\_Name & Center\\_Project & Instrument\\_Model & ⋯ & M1ADEPR & M1BENZO & AMAMPT\\_C1 & AMFVT\\_C1 & AMPHIT\\_15SD & Description & alpha\\_pd & observed\\_otus & shannon & pielou\\_e\\\\\n",
       "  & <fct> & <fct> & <fct> & <fct> & <fct> & <fct> & <fct> & <fct> & <fct> & <fct> & ⋯ & <fct> & <fct> & <dbl> & <dbl> & <dbl> & <fct> & <dbl> & <int> & <dbl> & <dbl>\\\\\n",
       "\\hline\n",
       "\t1 & BI0153 & ATCGGCGTTACA & GGACTACHVGGGTWTCTAAT & 16S stool samples sequenced for MrOS Vitamin D study & 16S rRNA v4 & GT & Illumina & BI & MrOS & Illumina MiSeq & ⋯ & 0: No  & 0: No & 1 & 1 & -1 & Orwoll.BI0153.BI & 18.46968 & 223 & 4.894253 & 0.6273959\\\\\n",
       "\t2 & BI0353 & TGCCATCTGAAT & GGACTACHVGGGTWTCTAAT & 16S stool samples sequenced for MrOS Vitamin D study & 16S rRNA v4 & GT & Illumina & BI & MrOS & Illumina MiSeq & ⋯ & 0: No  & 0: No & 1 & 1 &  0 & Orwoll.BI0353.BI & 13.75183 & 155 & 4.213016 & 0.5790192\\\\\n",
       "\t3 & BI0371 & GAATAGAGCCAA & GGACTACHVGGGTWTCTAAT & 16S stool samples sequenced for MrOS Vitamin D study & 16S rRNA v4 & GT & Illumina & BI & MrOS & Illumina MiSeq & ⋯ & 0: No  & 0: No & 1 & 0 &  0 & Orwoll.BI0371.BI & 21.84852 & 236 & 5.727235 & 0.7265627\\\\\n",
       "\t4 & BI0372 & ATGCCAACCAAC & GGACTACHVGGGTWTCTAAT & 16S stool samples sequenced for MrOS Vitamin D study & 16S rRNA v4 & GT & Illumina & BI & MrOS & Illumina MiSeq & ⋯ & 1: Yes & 0: No & 0 & 0 & -1 & Orwoll.BI0372.BI & 21.14965 & 218 & 5.185855 & 0.6675762\\\\\n",
       "\t6 & BI0389 & GCTATGGACCGA & GGACTACHVGGGTWTCTAAT & 16S stool samples sequenced for MrOS Vitamin D study & 16S rRNA v4 & GT & Illumina & BI & MrOS & Illumina MiSeq & ⋯ & 1: Yes & 0: No & 1 & 1 &  0 & Orwoll.BI0389.BI & 15.14976 & 171 & 4.755662 & 0.6411104\\\\\n",
       "\t8 & BI0397 & GTTGGTCAATCT & GGACTACHVGGGTWTCTAAT & 16S stool samples sequenced for MrOS Vitamin D study & 16S rRNA v4 & GT & Illumina & BI & MrOS & Illumina MiSeq & ⋯ & 0: No  & 0: No & 1 & 1 &  0 & Orwoll.BI0397.BI & 17.49230 & 187 & 4.781767 & 0.6336073\\\\\n",
       "\\end{tabular}\n"
      ],
      "text/markdown": [
       "\n",
       "A data.frame: 6 × 80\n",
       "\n",
       "| <!--/--> | #SampleID &lt;fct&gt; | BarcodeSequence &lt;fct&gt; | LinkerPrimerSequence &lt;fct&gt; | Experiment_Design_Description &lt;fct&gt; | Library_Construction_Protocol &lt;fct&gt; | Linker &lt;fct&gt; | Platform &lt;fct&gt; | Center_Name &lt;fct&gt; | Center_Project &lt;fct&gt; | Instrument_Model &lt;fct&gt; | ⋯ ⋯ | M1ADEPR &lt;fct&gt; | M1BENZO &lt;fct&gt; | AMAMPT_C1 &lt;dbl&gt; | AMFVT_C1 &lt;dbl&gt; | AMPHIT_15SD &lt;dbl&gt; | Description &lt;fct&gt; | alpha_pd &lt;dbl&gt; | observed_otus &lt;int&gt; | shannon &lt;dbl&gt; | pielou_e &lt;dbl&gt; |\n",
       "|---|---|---|---|---|---|---|---|---|---|---|---|---|---|---|---|---|---|---|---|---|---|\n",
       "| 1 | BI0153 | ATCGGCGTTACA | GGACTACHVGGGTWTCTAAT | 16S stool samples sequenced for MrOS Vitamin D study | 16S rRNA v4 | GT | Illumina | BI | MrOS | Illumina MiSeq | ⋯ | 0: No  | 0: No | 1 | 1 | -1 | Orwoll.BI0153.BI | 18.46968 | 223 | 4.894253 | 0.6273959 |\n",
       "| 2 | BI0353 | TGCCATCTGAAT | GGACTACHVGGGTWTCTAAT | 16S stool samples sequenced for MrOS Vitamin D study | 16S rRNA v4 | GT | Illumina | BI | MrOS | Illumina MiSeq | ⋯ | 0: No  | 0: No | 1 | 1 |  0 | Orwoll.BI0353.BI | 13.75183 | 155 | 4.213016 | 0.5790192 |\n",
       "| 3 | BI0371 | GAATAGAGCCAA | GGACTACHVGGGTWTCTAAT | 16S stool samples sequenced for MrOS Vitamin D study | 16S rRNA v4 | GT | Illumina | BI | MrOS | Illumina MiSeq | ⋯ | 0: No  | 0: No | 1 | 0 |  0 | Orwoll.BI0371.BI | 21.84852 | 236 | 5.727235 | 0.7265627 |\n",
       "| 4 | BI0372 | ATGCCAACCAAC | GGACTACHVGGGTWTCTAAT | 16S stool samples sequenced for MrOS Vitamin D study | 16S rRNA v4 | GT | Illumina | BI | MrOS | Illumina MiSeq | ⋯ | 1: Yes | 0: No | 0 | 0 | -1 | Orwoll.BI0372.BI | 21.14965 | 218 | 5.185855 | 0.6675762 |\n",
       "| 6 | BI0389 | GCTATGGACCGA | GGACTACHVGGGTWTCTAAT | 16S stool samples sequenced for MrOS Vitamin D study | 16S rRNA v4 | GT | Illumina | BI | MrOS | Illumina MiSeq | ⋯ | 1: Yes | 0: No | 1 | 1 |  0 | Orwoll.BI0389.BI | 15.14976 | 171 | 4.755662 | 0.6411104 |\n",
       "| 8 | BI0397 | GTTGGTCAATCT | GGACTACHVGGGTWTCTAAT | 16S stool samples sequenced for MrOS Vitamin D study | 16S rRNA v4 | GT | Illumina | BI | MrOS | Illumina MiSeq | ⋯ | 0: No  | 0: No | 1 | 1 |  0 | Orwoll.BI0397.BI | 17.49230 | 187 | 4.781767 | 0.6336073 |\n",
       "\n"
      ],
      "text/plain": [
       "  #SampleID BarcodeSequence LinkerPrimerSequence\n",
       "1 BI0153    ATCGGCGTTACA    GGACTACHVGGGTWTCTAAT\n",
       "2 BI0353    TGCCATCTGAAT    GGACTACHVGGGTWTCTAAT\n",
       "3 BI0371    GAATAGAGCCAA    GGACTACHVGGGTWTCTAAT\n",
       "4 BI0372    ATGCCAACCAAC    GGACTACHVGGGTWTCTAAT\n",
       "6 BI0389    GCTATGGACCGA    GGACTACHVGGGTWTCTAAT\n",
       "8 BI0397    GTTGGTCAATCT    GGACTACHVGGGTWTCTAAT\n",
       "  Experiment_Design_Description                       \n",
       "1 16S stool samples sequenced for MrOS Vitamin D study\n",
       "2 16S stool samples sequenced for MrOS Vitamin D study\n",
       "3 16S stool samples sequenced for MrOS Vitamin D study\n",
       "4 16S stool samples sequenced for MrOS Vitamin D study\n",
       "6 16S stool samples sequenced for MrOS Vitamin D study\n",
       "8 16S stool samples sequenced for MrOS Vitamin D study\n",
       "  Library_Construction_Protocol Linker Platform Center_Name Center_Project\n",
       "1 16S rRNA v4                   GT     Illumina BI          MrOS          \n",
       "2 16S rRNA v4                   GT     Illumina BI          MrOS          \n",
       "3 16S rRNA v4                   GT     Illumina BI          MrOS          \n",
       "4 16S rRNA v4                   GT     Illumina BI          MrOS          \n",
       "6 16S rRNA v4                   GT     Illumina BI          MrOS          \n",
       "8 16S rRNA v4                   GT     Illumina BI          MrOS          \n",
       "  Instrument_Model ⋯ M1ADEPR M1BENZO AMAMPT_C1 AMFVT_C1 AMPHIT_15SD\n",
       "1 Illumina MiSeq   ⋯ 0: No   0: No   1         1        -1         \n",
       "2 Illumina MiSeq   ⋯ 0: No   0: No   1         1         0         \n",
       "3 Illumina MiSeq   ⋯ 0: No   0: No   1         0         0         \n",
       "4 Illumina MiSeq   ⋯ 1: Yes  0: No   0         0        -1         \n",
       "6 Illumina MiSeq   ⋯ 1: Yes  0: No   1         1         0         \n",
       "8 Illumina MiSeq   ⋯ 0: No   0: No   1         1         0         \n",
       "  Description      alpha_pd observed_otus shannon  pielou_e \n",
       "1 Orwoll.BI0153.BI 18.46968 223           4.894253 0.6273959\n",
       "2 Orwoll.BI0353.BI 13.75183 155           4.213016 0.5790192\n",
       "3 Orwoll.BI0371.BI 21.84852 236           5.727235 0.7265627\n",
       "4 Orwoll.BI0372.BI 21.14965 218           5.185855 0.6675762\n",
       "6 Orwoll.BI0389.BI 15.14976 171           4.755662 0.6411104\n",
       "8 Orwoll.BI0397.BI 17.49230 187           4.781767 0.6336073"
      ]
     },
     "metadata": {},
     "output_type": "display_data"
    }
   ],
   "source": [
    "meta.omit <- read.delim(\"mapping_sleep_alpha_omit.txt\")\n",
    "meta.omit<-meta.omit[!(meta.omit$SLSLPHRS==7),]\n",
    "meta.omit$SLSLPHRS <- as.numeric(meta.omit$SLSLPHRS)\n",
    "colnames(meta.omit)[1] <- \"#SampleID\"\n",
    "head(meta.omit)"
   ]
  },
  {
   "cell_type": "code",
   "execution_count": 5,
   "metadata": {},
   "outputs": [],
   "source": [
    "write.table(meta, \"mapping_sleep_alpha_omit_sleep.txt\", sep = \"\\t\", row.names = F)"
   ]
  }
 ],
 "metadata": {
  "kernelspec": {
   "display_name": "R",
   "language": "R",
   "name": "ir"
  },
  "language_info": {
   "codemirror_mode": "r",
   "file_extension": ".r",
   "mimetype": "text/x-r-source",
   "name": "R",
   "pygments_lexer": "r",
   "version": "3.6.1"
  }
 },
 "nbformat": 4,
 "nbformat_minor": 2
}

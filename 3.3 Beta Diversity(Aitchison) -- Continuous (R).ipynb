{
 "cells": [
  {
   "cell_type": "markdown",
   "metadata": {},
   "source": [
    "#### This notebook is to perform Adonis test on continuous variables for beta diversities (Aitchison)"
   ]
  },
  {
   "cell_type": "code",
   "execution_count": 1,
   "metadata": {},
   "outputs": [
    {
     "name": "stderr",
     "output_type": "stream",
     "text": [
      "Loading required package: permute\n",
      "\n",
      "Loading required package: lattice\n",
      "\n",
      "This is vegan 2.5-6\n",
      "\n"
     ]
    }
   ],
   "source": [
    "library(vegan)"
   ]
  },
  {
   "cell_type": "code",
   "execution_count": 2,
   "metadata": {},
   "outputs": [
    {
     "data": {
      "text/html": [
       "<table>\n",
       "<caption>A data.frame: 6 × 80</caption>\n",
       "<thead>\n",
       "\t<tr><th></th><th scope=col>X.SampleID</th><th scope=col>BarcodeSequence</th><th scope=col>LinkerPrimerSequence</th><th scope=col>Experiment_Design_Description</th><th scope=col>Library_Construction_Protocol</th><th scope=col>Linker</th><th scope=col>Platform</th><th scope=col>Center_Name</th><th scope=col>Center_Project</th><th scope=col>Instrument_Model</th><th scope=col>⋯</th><th scope=col>M1ADEPR</th><th scope=col>M1BENZO</th><th scope=col>AMAMPT_C1</th><th scope=col>AMFVT_C1</th><th scope=col>AMPHIT_15SD</th><th scope=col>Description</th><th scope=col>alpha_pd</th><th scope=col>observed_otus</th><th scope=col>shannon</th><th scope=col>pielou_e</th></tr>\n",
       "\t<tr><th></th><th scope=col>&lt;fct&gt;</th><th scope=col>&lt;fct&gt;</th><th scope=col>&lt;fct&gt;</th><th scope=col>&lt;fct&gt;</th><th scope=col>&lt;fct&gt;</th><th scope=col>&lt;fct&gt;</th><th scope=col>&lt;fct&gt;</th><th scope=col>&lt;fct&gt;</th><th scope=col>&lt;fct&gt;</th><th scope=col>&lt;fct&gt;</th><th scope=col>⋯</th><th scope=col>&lt;fct&gt;</th><th scope=col>&lt;fct&gt;</th><th scope=col>&lt;fct&gt;</th><th scope=col>&lt;fct&gt;</th><th scope=col>&lt;fct&gt;</th><th scope=col>&lt;fct&gt;</th><th scope=col>&lt;dbl&gt;</th><th scope=col>&lt;int&gt;</th><th scope=col>&lt;dbl&gt;</th><th scope=col>&lt;dbl&gt;</th></tr>\n",
       "</thead>\n",
       "<tbody>\n",
       "\t<tr><th scope=row>1</th><td>BI0023</td><td>TCTGGTGACATT</td><td>GGACTACHVGGGTWTCTAAT</td><td>16S stool samples sequenced for MrOS Vitamin D study</td><td>16S rRNA v4</td><td>GT</td><td>Illumina</td><td>BI</td><td>MrOS</td><td>Illumina MiSeq</td><td>⋯</td><td>0: No</td><td>0: No</td><td>Missing:not collected</td><td>Missing:not collected</td><td>Missing:not collected</td><td>Orwoll.BI0023.BI</td><td>27.77117</td><td>302</td><td>5.727116</td><td>0.6951729</td></tr>\n",
       "\t<tr><th scope=row>2</th><td>BI0056</td><td>CAAGCATGCCTA</td><td>GGACTACHVGGGTWTCTAAT</td><td>16S stool samples sequenced for MrOS Vitamin D study</td><td>16S rRNA v4</td><td>GT</td><td>Illumina</td><td>BI</td><td>MrOS</td><td>Illumina MiSeq</td><td>⋯</td><td>0: No</td><td>0: No</td><td>1.0                  </td><td>1.0                  </td><td>0.0                  </td><td>Orwoll.BI0056.BI</td><td>17.93266</td><td>173</td><td>3.888281</td><td>0.5229960</td></tr>\n",
       "\t<tr><th scope=row>3</th><td>BI0131</td><td>CTATTTGCGACA</td><td>GGACTACHVGGGTWTCTAAT</td><td>16S stool samples sequenced for MrOS Vitamin D study</td><td>16S rRNA v4</td><td>GT</td><td>Illumina</td><td>BI</td><td>MrOS</td><td>Illumina MiSeq</td><td>⋯</td><td>0: No</td><td>0: No</td><td>1.0                  </td><td>1.0                  </td><td>0.0                  </td><td>Orwoll.BI0131.BI</td><td>21.45366</td><td>223</td><td>4.050730</td><td>0.5192645</td></tr>\n",
       "\t<tr><th scope=row>4</th><td>BI0153</td><td>ATCGGCGTTACA</td><td>GGACTACHVGGGTWTCTAAT</td><td>16S stool samples sequenced for MrOS Vitamin D study</td><td>16S rRNA v4</td><td>GT</td><td>Illumina</td><td>BI</td><td>MrOS</td><td>Illumina MiSeq</td><td>⋯</td><td>0: No</td><td>0: No</td><td>1.0                  </td><td>1.0                  </td><td>-1.0                 </td><td>Orwoll.BI0153.BI</td><td>18.46968</td><td>223</td><td>4.894253</td><td>0.6273959</td></tr>\n",
       "\t<tr><th scope=row>5</th><td>BI0215</td><td>CCTCTCGTGATC</td><td>GGACTACHVGGGTWTCTAAT</td><td>16S stool samples sequenced for MrOS Vitamin D study</td><td>16S rRNA v4</td><td>GT</td><td>Illumina</td><td>BI</td><td>MrOS</td><td>Illumina MiSeq</td><td>⋯</td><td>0: No</td><td>0: No</td><td>1.0                  </td><td>0.0                  </td><td>-1.0                 </td><td>Orwoll.BI0215.BI</td><td>20.04983</td><td>222</td><td>5.295055</td><td>0.6793396</td></tr>\n",
       "\t<tr><th scope=row>6</th><td>BI0353</td><td>TGCCATCTGAAT</td><td>GGACTACHVGGGTWTCTAAT</td><td>16S stool samples sequenced for MrOS Vitamin D study</td><td>16S rRNA v4</td><td>GT</td><td>Illumina</td><td>BI</td><td>MrOS</td><td>Illumina MiSeq</td><td>⋯</td><td>0: No</td><td>0: No</td><td>1.0                  </td><td>1.0                  </td><td>0.0                  </td><td>Orwoll.BI0353.BI</td><td>13.75183</td><td>155</td><td>4.213016</td><td>0.5790192</td></tr>\n",
       "</tbody>\n",
       "</table>\n"
      ],
      "text/latex": [
       "A data.frame: 6 × 80\n",
       "\\begin{tabular}{r|lllllllllllllllllllll}\n",
       "  & X.SampleID & BarcodeSequence & LinkerPrimerSequence & Experiment\\_Design\\_Description & Library\\_Construction\\_Protocol & Linker & Platform & Center\\_Name & Center\\_Project & Instrument\\_Model & ⋯ & M1ADEPR & M1BENZO & AMAMPT\\_C1 & AMFVT\\_C1 & AMPHIT\\_15SD & Description & alpha\\_pd & observed\\_otus & shannon & pielou\\_e\\\\\n",
       "  & <fct> & <fct> & <fct> & <fct> & <fct> & <fct> & <fct> & <fct> & <fct> & <fct> & ⋯ & <fct> & <fct> & <fct> & <fct> & <fct> & <fct> & <dbl> & <int> & <dbl> & <dbl>\\\\\n",
       "\\hline\n",
       "\t1 & BI0023 & TCTGGTGACATT & GGACTACHVGGGTWTCTAAT & 16S stool samples sequenced for MrOS Vitamin D study & 16S rRNA v4 & GT & Illumina & BI & MrOS & Illumina MiSeq & ⋯ & 0: No & 0: No & Missing:not collected & Missing:not collected & Missing:not collected & Orwoll.BI0023.BI & 27.77117 & 302 & 5.727116 & 0.6951729\\\\\n",
       "\t2 & BI0056 & CAAGCATGCCTA & GGACTACHVGGGTWTCTAAT & 16S stool samples sequenced for MrOS Vitamin D study & 16S rRNA v4 & GT & Illumina & BI & MrOS & Illumina MiSeq & ⋯ & 0: No & 0: No & 1.0                   & 1.0                   & 0.0                   & Orwoll.BI0056.BI & 17.93266 & 173 & 3.888281 & 0.5229960\\\\\n",
       "\t3 & BI0131 & CTATTTGCGACA & GGACTACHVGGGTWTCTAAT & 16S stool samples sequenced for MrOS Vitamin D study & 16S rRNA v4 & GT & Illumina & BI & MrOS & Illumina MiSeq & ⋯ & 0: No & 0: No & 1.0                   & 1.0                   & 0.0                   & Orwoll.BI0131.BI & 21.45366 & 223 & 4.050730 & 0.5192645\\\\\n",
       "\t4 & BI0153 & ATCGGCGTTACA & GGACTACHVGGGTWTCTAAT & 16S stool samples sequenced for MrOS Vitamin D study & 16S rRNA v4 & GT & Illumina & BI & MrOS & Illumina MiSeq & ⋯ & 0: No & 0: No & 1.0                   & 1.0                   & -1.0                  & Orwoll.BI0153.BI & 18.46968 & 223 & 4.894253 & 0.6273959\\\\\n",
       "\t5 & BI0215 & CCTCTCGTGATC & GGACTACHVGGGTWTCTAAT & 16S stool samples sequenced for MrOS Vitamin D study & 16S rRNA v4 & GT & Illumina & BI & MrOS & Illumina MiSeq & ⋯ & 0: No & 0: No & 1.0                   & 0.0                   & -1.0                  & Orwoll.BI0215.BI & 20.04983 & 222 & 5.295055 & 0.6793396\\\\\n",
       "\t6 & BI0353 & TGCCATCTGAAT & GGACTACHVGGGTWTCTAAT & 16S stool samples sequenced for MrOS Vitamin D study & 16S rRNA v4 & GT & Illumina & BI & MrOS & Illumina MiSeq & ⋯ & 0: No & 0: No & 1.0                   & 1.0                   & 0.0                   & Orwoll.BI0353.BI & 13.75183 & 155 & 4.213016 & 0.5790192\\\\\n",
       "\\end{tabular}\n"
      ],
      "text/markdown": [
       "\n",
       "A data.frame: 6 × 80\n",
       "\n",
       "| <!--/--> | X.SampleID &lt;fct&gt; | BarcodeSequence &lt;fct&gt; | LinkerPrimerSequence &lt;fct&gt; | Experiment_Design_Description &lt;fct&gt; | Library_Construction_Protocol &lt;fct&gt; | Linker &lt;fct&gt; | Platform &lt;fct&gt; | Center_Name &lt;fct&gt; | Center_Project &lt;fct&gt; | Instrument_Model &lt;fct&gt; | ⋯ ⋯ | M1ADEPR &lt;fct&gt; | M1BENZO &lt;fct&gt; | AMAMPT_C1 &lt;fct&gt; | AMFVT_C1 &lt;fct&gt; | AMPHIT_15SD &lt;fct&gt; | Description &lt;fct&gt; | alpha_pd &lt;dbl&gt; | observed_otus &lt;int&gt; | shannon &lt;dbl&gt; | pielou_e &lt;dbl&gt; |\n",
       "|---|---|---|---|---|---|---|---|---|---|---|---|---|---|---|---|---|---|---|---|---|---|\n",
       "| 1 | BI0023 | TCTGGTGACATT | GGACTACHVGGGTWTCTAAT | 16S stool samples sequenced for MrOS Vitamin D study | 16S rRNA v4 | GT | Illumina | BI | MrOS | Illumina MiSeq | ⋯ | 0: No | 0: No | Missing:not collected | Missing:not collected | Missing:not collected | Orwoll.BI0023.BI | 27.77117 | 302 | 5.727116 | 0.6951729 |\n",
       "| 2 | BI0056 | CAAGCATGCCTA | GGACTACHVGGGTWTCTAAT | 16S stool samples sequenced for MrOS Vitamin D study | 16S rRNA v4 | GT | Illumina | BI | MrOS | Illumina MiSeq | ⋯ | 0: No | 0: No | 1.0                   | 1.0                   | 0.0                   | Orwoll.BI0056.BI | 17.93266 | 173 | 3.888281 | 0.5229960 |\n",
       "| 3 | BI0131 | CTATTTGCGACA | GGACTACHVGGGTWTCTAAT | 16S stool samples sequenced for MrOS Vitamin D study | 16S rRNA v4 | GT | Illumina | BI | MrOS | Illumina MiSeq | ⋯ | 0: No | 0: No | 1.0                   | 1.0                   | 0.0                   | Orwoll.BI0131.BI | 21.45366 | 223 | 4.050730 | 0.5192645 |\n",
       "| 4 | BI0153 | ATCGGCGTTACA | GGACTACHVGGGTWTCTAAT | 16S stool samples sequenced for MrOS Vitamin D study | 16S rRNA v4 | GT | Illumina | BI | MrOS | Illumina MiSeq | ⋯ | 0: No | 0: No | 1.0                   | 1.0                   | -1.0                  | Orwoll.BI0153.BI | 18.46968 | 223 | 4.894253 | 0.6273959 |\n",
       "| 5 | BI0215 | CCTCTCGTGATC | GGACTACHVGGGTWTCTAAT | 16S stool samples sequenced for MrOS Vitamin D study | 16S rRNA v4 | GT | Illumina | BI | MrOS | Illumina MiSeq | ⋯ | 0: No | 0: No | 1.0                   | 0.0                   | -1.0                  | Orwoll.BI0215.BI | 20.04983 | 222 | 5.295055 | 0.6793396 |\n",
       "| 6 | BI0353 | TGCCATCTGAAT | GGACTACHVGGGTWTCTAAT | 16S stool samples sequenced for MrOS Vitamin D study | 16S rRNA v4 | GT | Illumina | BI | MrOS | Illumina MiSeq | ⋯ | 0: No | 0: No | 1.0                   | 1.0                   | 0.0                   | Orwoll.BI0353.BI | 13.75183 | 155 | 4.213016 | 0.5790192 |\n",
       "\n"
      ],
      "text/plain": [
       "  X.SampleID BarcodeSequence LinkerPrimerSequence\n",
       "1 BI0023     TCTGGTGACATT    GGACTACHVGGGTWTCTAAT\n",
       "2 BI0056     CAAGCATGCCTA    GGACTACHVGGGTWTCTAAT\n",
       "3 BI0131     CTATTTGCGACA    GGACTACHVGGGTWTCTAAT\n",
       "4 BI0153     ATCGGCGTTACA    GGACTACHVGGGTWTCTAAT\n",
       "5 BI0215     CCTCTCGTGATC    GGACTACHVGGGTWTCTAAT\n",
       "6 BI0353     TGCCATCTGAAT    GGACTACHVGGGTWTCTAAT\n",
       "  Experiment_Design_Description                       \n",
       "1 16S stool samples sequenced for MrOS Vitamin D study\n",
       "2 16S stool samples sequenced for MrOS Vitamin D study\n",
       "3 16S stool samples sequenced for MrOS Vitamin D study\n",
       "4 16S stool samples sequenced for MrOS Vitamin D study\n",
       "5 16S stool samples sequenced for MrOS Vitamin D study\n",
       "6 16S stool samples sequenced for MrOS Vitamin D study\n",
       "  Library_Construction_Protocol Linker Platform Center_Name Center_Project\n",
       "1 16S rRNA v4                   GT     Illumina BI          MrOS          \n",
       "2 16S rRNA v4                   GT     Illumina BI          MrOS          \n",
       "3 16S rRNA v4                   GT     Illumina BI          MrOS          \n",
       "4 16S rRNA v4                   GT     Illumina BI          MrOS          \n",
       "5 16S rRNA v4                   GT     Illumina BI          MrOS          \n",
       "6 16S rRNA v4                   GT     Illumina BI          MrOS          \n",
       "  Instrument_Model ⋯ M1ADEPR M1BENZO AMAMPT_C1            \n",
       "1 Illumina MiSeq   ⋯ 0: No   0: No   Missing:not collected\n",
       "2 Illumina MiSeq   ⋯ 0: No   0: No   1.0                  \n",
       "3 Illumina MiSeq   ⋯ 0: No   0: No   1.0                  \n",
       "4 Illumina MiSeq   ⋯ 0: No   0: No   1.0                  \n",
       "5 Illumina MiSeq   ⋯ 0: No   0: No   1.0                  \n",
       "6 Illumina MiSeq   ⋯ 0: No   0: No   1.0                  \n",
       "  AMFVT_C1              AMPHIT_15SD           Description      alpha_pd\n",
       "1 Missing:not collected Missing:not collected Orwoll.BI0023.BI 27.77117\n",
       "2 1.0                   0.0                   Orwoll.BI0056.BI 17.93266\n",
       "3 1.0                   0.0                   Orwoll.BI0131.BI 21.45366\n",
       "4 1.0                   -1.0                  Orwoll.BI0153.BI 18.46968\n",
       "5 0.0                   -1.0                  Orwoll.BI0215.BI 20.04983\n",
       "6 1.0                   0.0                   Orwoll.BI0353.BI 13.75183\n",
       "  observed_otus shannon  pielou_e \n",
       "1 302           5.727116 0.6951729\n",
       "2 173           3.888281 0.5229960\n",
       "3 223           4.050730 0.5192645\n",
       "4 223           4.894253 0.6273959\n",
       "5 222           5.295055 0.6793396\n",
       "6 155           4.213016 0.5790192"
      ]
     },
     "metadata": {},
     "output_type": "display_data"
    }
   ],
   "source": [
    "dat <- read.delim(\"mapping_sleep_alpha.txt\")\n",
    "head(dat)"
   ]
  },
  {
   "cell_type": "code",
   "execution_count": 3,
   "metadata": {},
   "outputs": [
    {
     "data": {
      "text/html": [
       "<table>\n",
       "<caption>A data.frame: 6 × 599</caption>\n",
       "<thead>\n",
       "\t<tr><th></th><th scope=col>BI0023</th><th scope=col>BI0056</th><th scope=col>BI0131</th><th scope=col>BI0153</th><th scope=col>BI0215</th><th scope=col>BI0353</th><th scope=col>BI0371</th><th scope=col>BI0372</th><th scope=col>BI0380</th><th scope=col>BI0389</th><th scope=col>⋯</th><th scope=col>SD8964</th><th scope=col>SD8966</th><th scope=col>SD8972</th><th scope=col>SD8973</th><th scope=col>SD8985</th><th scope=col>SD8996</th><th scope=col>SD8999</th><th scope=col>SD9001</th><th scope=col>SD9003</th><th scope=col>SD9009</th></tr>\n",
       "\t<tr><th></th><th scope=col>&lt;dbl&gt;</th><th scope=col>&lt;dbl&gt;</th><th scope=col>&lt;dbl&gt;</th><th scope=col>&lt;dbl&gt;</th><th scope=col>&lt;dbl&gt;</th><th scope=col>&lt;dbl&gt;</th><th scope=col>&lt;dbl&gt;</th><th scope=col>&lt;dbl&gt;</th><th scope=col>&lt;dbl&gt;</th><th scope=col>&lt;dbl&gt;</th><th scope=col>⋯</th><th scope=col>&lt;dbl&gt;</th><th scope=col>&lt;dbl&gt;</th><th scope=col>&lt;dbl&gt;</th><th scope=col>&lt;dbl&gt;</th><th scope=col>&lt;dbl&gt;</th><th scope=col>&lt;dbl&gt;</th><th scope=col>&lt;dbl&gt;</th><th scope=col>&lt;dbl&gt;</th><th scope=col>&lt;dbl&gt;</th><th scope=col>&lt;dbl&gt;</th></tr>\n",
       "</thead>\n",
       "<tbody>\n",
       "\t<tr><th scope=row>BI0023</th><td>0.000000</td><td>3.854117</td><td>2.2624907</td><td>2.4775439</td><td>2.5230138</td><td>1.7619373</td><td>2.1528977</td><td>1.9830176</td><td>2.6162961</td><td>3.2161124</td><td>⋯</td><td>2.580809</td><td>2.363842</td><td>1.8658996</td><td>0.6541107</td><td>2.0763756</td><td>2.4418900</td><td>2.1524018</td><td>2.4828776</td><td>1.4064145</td><td>1.9565111</td></tr>\n",
       "\t<tr><th scope=row>BI0056</th><td>3.854117</td><td>0.000000</td><td>1.9646308</td><td>1.5220292</td><td>1.3861677</td><td>2.2796945</td><td>2.1249924</td><td>1.9383154</td><td>1.3795474</td><td>0.7936802</td><td>⋯</td><td>2.497952</td><td>2.510412</td><td>2.1737659</td><td>3.3408064</td><td>1.8774769</td><td>1.6105415</td><td>1.7734031</td><td>1.6163271</td><td>2.6733278</td><td>2.0245220</td></tr>\n",
       "\t<tr><th scope=row>BI0131</th><td>2.262491</td><td>1.964631</td><td>0.0000000</td><td>0.4890927</td><td>1.1557511</td><td>1.4876324</td><td>0.2544336</td><td>1.0246636</td><td>0.7861452</td><td>1.2313847</td><td>⋯</td><td>2.504723</td><td>1.458492</td><td>0.6172946</td><td>1.6397262</td><td>0.4333382</td><td>1.4194710</td><td>1.1651333</td><td>0.5942780</td><td>0.8830507</td><td>0.4597581</td></tr>\n",
       "\t<tr><th scope=row>BI0153</th><td>2.477544</td><td>1.522029</td><td>0.4890927</td><td>0.0000000</td><td>0.7256925</td><td>1.3117906</td><td>0.6347898</td><td>0.8148648</td><td>0.3597706</td><td>0.7980843</td><td>⋯</td><td>2.188765</td><td>1.576987</td><td>0.7198735</td><td>1.9029710</td><td>0.4015967</td><td>1.0378047</td><td>0.8612151</td><td>0.4745573</td><td>1.1733543</td><td>0.5377071</td></tr>\n",
       "\t<tr><th scope=row>BI0215</th><td>2.523014</td><td>1.386168</td><td>1.1557511</td><td>0.7256925</td><td>0.0000000</td><td>0.9155407</td><td>1.2265470</td><td>0.5707754</td><td>0.5491120</td><td>0.8728960</td><td>⋯</td><td>1.521053</td><td>1.914718</td><td>1.0009216</td><td>2.0749441</td><td>0.8104914</td><td>0.3478145</td><td>0.3933339</td><td>0.9894309</td><td>1.4846073</td><td>0.9068951</td></tr>\n",
       "\t<tr><th scope=row>BI0353</th><td>1.761937</td><td>2.279694</td><td>1.4876324</td><td>1.3117906</td><td>0.9155407</td><td>0.0000000</td><td>1.4634691</td><td>0.5320803</td><td>1.2680218</td><td>1.7699147</td><td>⋯</td><td>1.131693</td><td>1.997822</td><td>1.0184174</td><td>1.4855149</td><td>1.0649812</td><td>0.7169299</td><td>0.5315208</td><td>1.4751000</td><td>1.2178086</td><td>1.0416172</td></tr>\n",
       "</tbody>\n",
       "</table>\n"
      ],
      "text/latex": [
       "A data.frame: 6 × 599\n",
       "\\begin{tabular}{r|lllllllllllllllllllll}\n",
       "  & BI0023 & BI0056 & BI0131 & BI0153 & BI0215 & BI0353 & BI0371 & BI0372 & BI0380 & BI0389 & ⋯ & SD8964 & SD8966 & SD8972 & SD8973 & SD8985 & SD8996 & SD8999 & SD9001 & SD9003 & SD9009\\\\\n",
       "  & <dbl> & <dbl> & <dbl> & <dbl> & <dbl> & <dbl> & <dbl> & <dbl> & <dbl> & <dbl> & ⋯ & <dbl> & <dbl> & <dbl> & <dbl> & <dbl> & <dbl> & <dbl> & <dbl> & <dbl> & <dbl>\\\\\n",
       "\\hline\n",
       "\tBI0023 & 0.000000 & 3.854117 & 2.2624907 & 2.4775439 & 2.5230138 & 1.7619373 & 2.1528977 & 1.9830176 & 2.6162961 & 3.2161124 & ⋯ & 2.580809 & 2.363842 & 1.8658996 & 0.6541107 & 2.0763756 & 2.4418900 & 2.1524018 & 2.4828776 & 1.4064145 & 1.9565111\\\\\n",
       "\tBI0056 & 3.854117 & 0.000000 & 1.9646308 & 1.5220292 & 1.3861677 & 2.2796945 & 2.1249924 & 1.9383154 & 1.3795474 & 0.7936802 & ⋯ & 2.497952 & 2.510412 & 2.1737659 & 3.3408064 & 1.8774769 & 1.6105415 & 1.7734031 & 1.6163271 & 2.6733278 & 2.0245220\\\\\n",
       "\tBI0131 & 2.262491 & 1.964631 & 0.0000000 & 0.4890927 & 1.1557511 & 1.4876324 & 0.2544336 & 1.0246636 & 0.7861452 & 1.2313847 & ⋯ & 2.504723 & 1.458492 & 0.6172946 & 1.6397262 & 0.4333382 & 1.4194710 & 1.1651333 & 0.5942780 & 0.8830507 & 0.4597581\\\\\n",
       "\tBI0153 & 2.477544 & 1.522029 & 0.4890927 & 0.0000000 & 0.7256925 & 1.3117906 & 0.6347898 & 0.8148648 & 0.3597706 & 0.7980843 & ⋯ & 2.188765 & 1.576987 & 0.7198735 & 1.9029710 & 0.4015967 & 1.0378047 & 0.8612151 & 0.4745573 & 1.1733543 & 0.5377071\\\\\n",
       "\tBI0215 & 2.523014 & 1.386168 & 1.1557511 & 0.7256925 & 0.0000000 & 0.9155407 & 1.2265470 & 0.5707754 & 0.5491120 & 0.8728960 & ⋯ & 1.521053 & 1.914718 & 1.0009216 & 2.0749441 & 0.8104914 & 0.3478145 & 0.3933339 & 0.9894309 & 1.4846073 & 0.9068951\\\\\n",
       "\tBI0353 & 1.761937 & 2.279694 & 1.4876324 & 1.3117906 & 0.9155407 & 0.0000000 & 1.4634691 & 0.5320803 & 1.2680218 & 1.7699147 & ⋯ & 1.131693 & 1.997822 & 1.0184174 & 1.4855149 & 1.0649812 & 0.7169299 & 0.5315208 & 1.4751000 & 1.2178086 & 1.0416172\\\\\n",
       "\\end{tabular}\n"
      ],
      "text/markdown": [
       "\n",
       "A data.frame: 6 × 599\n",
       "\n",
       "| <!--/--> | BI0023 &lt;dbl&gt; | BI0056 &lt;dbl&gt; | BI0131 &lt;dbl&gt; | BI0153 &lt;dbl&gt; | BI0215 &lt;dbl&gt; | BI0353 &lt;dbl&gt; | BI0371 &lt;dbl&gt; | BI0372 &lt;dbl&gt; | BI0380 &lt;dbl&gt; | BI0389 &lt;dbl&gt; | ⋯ ⋯ | SD8964 &lt;dbl&gt; | SD8966 &lt;dbl&gt; | SD8972 &lt;dbl&gt; | SD8973 &lt;dbl&gt; | SD8985 &lt;dbl&gt; | SD8996 &lt;dbl&gt; | SD8999 &lt;dbl&gt; | SD9001 &lt;dbl&gt; | SD9003 &lt;dbl&gt; | SD9009 &lt;dbl&gt; |\n",
       "|---|---|---|---|---|---|---|---|---|---|---|---|---|---|---|---|---|---|---|---|---|---|\n",
       "| BI0023 | 0.000000 | 3.854117 | 2.2624907 | 2.4775439 | 2.5230138 | 1.7619373 | 2.1528977 | 1.9830176 | 2.6162961 | 3.2161124 | ⋯ | 2.580809 | 2.363842 | 1.8658996 | 0.6541107 | 2.0763756 | 2.4418900 | 2.1524018 | 2.4828776 | 1.4064145 | 1.9565111 |\n",
       "| BI0056 | 3.854117 | 0.000000 | 1.9646308 | 1.5220292 | 1.3861677 | 2.2796945 | 2.1249924 | 1.9383154 | 1.3795474 | 0.7936802 | ⋯ | 2.497952 | 2.510412 | 2.1737659 | 3.3408064 | 1.8774769 | 1.6105415 | 1.7734031 | 1.6163271 | 2.6733278 | 2.0245220 |\n",
       "| BI0131 | 2.262491 | 1.964631 | 0.0000000 | 0.4890927 | 1.1557511 | 1.4876324 | 0.2544336 | 1.0246636 | 0.7861452 | 1.2313847 | ⋯ | 2.504723 | 1.458492 | 0.6172946 | 1.6397262 | 0.4333382 | 1.4194710 | 1.1651333 | 0.5942780 | 0.8830507 | 0.4597581 |\n",
       "| BI0153 | 2.477544 | 1.522029 | 0.4890927 | 0.0000000 | 0.7256925 | 1.3117906 | 0.6347898 | 0.8148648 | 0.3597706 | 0.7980843 | ⋯ | 2.188765 | 1.576987 | 0.7198735 | 1.9029710 | 0.4015967 | 1.0378047 | 0.8612151 | 0.4745573 | 1.1733543 | 0.5377071 |\n",
       "| BI0215 | 2.523014 | 1.386168 | 1.1557511 | 0.7256925 | 0.0000000 | 0.9155407 | 1.2265470 | 0.5707754 | 0.5491120 | 0.8728960 | ⋯ | 1.521053 | 1.914718 | 1.0009216 | 2.0749441 | 0.8104914 | 0.3478145 | 0.3933339 | 0.9894309 | 1.4846073 | 0.9068951 |\n",
       "| BI0353 | 1.761937 | 2.279694 | 1.4876324 | 1.3117906 | 0.9155407 | 0.0000000 | 1.4634691 | 0.5320803 | 1.2680218 | 1.7699147 | ⋯ | 1.131693 | 1.997822 | 1.0184174 | 1.4855149 | 1.0649812 | 0.7169299 | 0.5315208 | 1.4751000 | 1.2178086 | 1.0416172 |\n",
       "\n"
      ],
      "text/plain": [
       "       BI0023   BI0056   BI0131    BI0153    BI0215    BI0353    BI0371   \n",
       "BI0023 0.000000 3.854117 2.2624907 2.4775439 2.5230138 1.7619373 2.1528977\n",
       "BI0056 3.854117 0.000000 1.9646308 1.5220292 1.3861677 2.2796945 2.1249924\n",
       "BI0131 2.262491 1.964631 0.0000000 0.4890927 1.1557511 1.4876324 0.2544336\n",
       "BI0153 2.477544 1.522029 0.4890927 0.0000000 0.7256925 1.3117906 0.6347898\n",
       "BI0215 2.523014 1.386168 1.1557511 0.7256925 0.0000000 0.9155407 1.2265470\n",
       "BI0353 1.761937 2.279694 1.4876324 1.3117906 0.9155407 0.0000000 1.4634691\n",
       "       BI0372    BI0380    BI0389    ⋯ SD8964   SD8966   SD8972    SD8973   \n",
       "BI0023 1.9830176 2.6162961 3.2161124 ⋯ 2.580809 2.363842 1.8658996 0.6541107\n",
       "BI0056 1.9383154 1.3795474 0.7936802 ⋯ 2.497952 2.510412 2.1737659 3.3408064\n",
       "BI0131 1.0246636 0.7861452 1.2313847 ⋯ 2.504723 1.458492 0.6172946 1.6397262\n",
       "BI0153 0.8148648 0.3597706 0.7980843 ⋯ 2.188765 1.576987 0.7198735 1.9029710\n",
       "BI0215 0.5707754 0.5491120 0.8728960 ⋯ 1.521053 1.914718 1.0009216 2.0749441\n",
       "BI0353 0.5320803 1.2680218 1.7699147 ⋯ 1.131693 1.997822 1.0184174 1.4855149\n",
       "       SD8985    SD8996    SD8999    SD9001    SD9003    SD9009   \n",
       "BI0023 2.0763756 2.4418900 2.1524018 2.4828776 1.4064145 1.9565111\n",
       "BI0056 1.8774769 1.6105415 1.7734031 1.6163271 2.6733278 2.0245220\n",
       "BI0131 0.4333382 1.4194710 1.1651333 0.5942780 0.8830507 0.4597581\n",
       "BI0153 0.4015967 1.0378047 0.8612151 0.4745573 1.1733543 0.5377071\n",
       "BI0215 0.8104914 0.3478145 0.3933339 0.9894309 1.4846073 0.9068951\n",
       "BI0353 1.0649812 0.7169299 0.5315208 1.4751000 1.2178086 1.0416172"
      ]
     },
     "metadata": {},
     "output_type": "display_data"
    }
   ],
   "source": [
    "distance <- read.table(file = 'distance-matrix/distance-matrix.tsv', sep = '\\t', header = TRUE, row.names = 1)\n",
    "distance <- distance[ , order(colnames(distance))]\n",
    "distance <- distance[ order(rownames(distance)), ]\n",
    "distance[] <- lapply(distance, as.numeric)\n",
    "head(distance)"
   ]
  },
  {
   "cell_type": "code",
   "execution_count": 4,
   "metadata": {},
   "outputs": [
    {
     "data": {
      "text/html": [
       "<table>\n",
       "<caption>A data.frame: 6 × 12</caption>\n",
       "<thead>\n",
       "\t<tr><th></th><th scope=col>X.SampleID</th><th scope=col>Age</th><th scope=col>AMAMPT</th><th scope=col>AMPHIT</th><th scope=col>AMFVT</th><th scope=col>PQPSQI</th><th scope=col>BMI</th><th scope=col>Height</th><th scope=col>Weight</th><th scope=col>PASCORE</th><th scope=col>SLSLPHRS</th><th scope=col>PQPEFFCY</th></tr>\n",
       "\t<tr><th></th><th scope=col>&lt;fct&gt;</th><th scope=col>&lt;int&gt;</th><th scope=col>&lt;fct&gt;</th><th scope=col>&lt;fct&gt;</th><th scope=col>&lt;fct&gt;</th><th scope=col>&lt;dbl&gt;</th><th scope=col>&lt;dbl&gt;</th><th scope=col>&lt;dbl&gt;</th><th scope=col>&lt;dbl&gt;</th><th scope=col>&lt;dbl&gt;</th><th scope=col>&lt;fct&gt;</th><th scope=col>&lt;fct&gt;</th></tr>\n",
       "</thead>\n",
       "<tbody>\n",
       "\t<tr><th scope=row>1</th><td>BI0023</td><td>83</td><td>Missing:not collected</td><td>Missing:not collected</td><td>Missing:not collected</td><td>4</td><td>28.89012</td><td>169.60</td><td>83.1</td><td> 91.00000</td><td>6.0                  </td><td>93.33</td></tr>\n",
       "\t<tr><th scope=row>2</th><td>BI0056</td><td>81</td><td>176.1758554          </td><td>11.9598842           </td><td>1049.2338550000002   </td><td>9</td><td>28.53980</td><td>163.40</td><td>76.2</td><td>199.17857</td><td>Missing:not collected</td><td>60.0 </td></tr>\n",
       "\t<tr><th scope=row>3</th><td>BI0131</td><td>83</td><td>271.7428785          </td><td>10.99705997          </td><td>2069.032006          </td><td>2</td><td>25.01424</td><td>177.15</td><td>78.5</td><td>161.71429</td><td>Missing:not collected</td><td>90.0 </td></tr>\n",
       "\t<tr><th scope=row>4</th><td>BI0153</td><td>79</td><td>190.69266919999998   </td><td>10.51493608          </td><td>1498.285048          </td><td>3</td><td>30.87637</td><td>175.50</td><td>95.1</td><td> 88.21429</td><td>8.0                  </td><td>100.0</td></tr>\n",
       "\t<tr><th scope=row>5</th><td>BI0215</td><td>81</td><td>240.3133519          </td><td>10.83951835          </td><td>702.4915457000001    </td><td>1</td><td>33.58739</td><td>166.40</td><td>93.0</td><td>256.82143</td><td>Missing:not collected</td><td>88.89</td></tr>\n",
       "\t<tr><th scope=row>6</th><td>BI0353</td><td>80</td><td>345.2370838          </td><td>12.17318952          </td><td>1836.677682          </td><td>6</td><td>26.41523</td><td>177.90</td><td>83.6</td><td>179.57143</td><td>8.0                  </td><td>80.0 </td></tr>\n",
       "</tbody>\n",
       "</table>\n"
      ],
      "text/latex": [
       "A data.frame: 6 × 12\n",
       "\\begin{tabular}{r|llllllllllll}\n",
       "  & X.SampleID & Age & AMAMPT & AMPHIT & AMFVT & PQPSQI & BMI & Height & Weight & PASCORE & SLSLPHRS & PQPEFFCY\\\\\n",
       "  & <fct> & <int> & <fct> & <fct> & <fct> & <dbl> & <dbl> & <dbl> & <dbl> & <dbl> & <fct> & <fct>\\\\\n",
       "\\hline\n",
       "\t1 & BI0023 & 83 & Missing:not collected & Missing:not collected & Missing:not collected & 4 & 28.89012 & 169.60 & 83.1 &  91.00000 & 6.0                   & 93.33\\\\\n",
       "\t2 & BI0056 & 81 & 176.1758554           & 11.9598842            & 1049.2338550000002    & 9 & 28.53980 & 163.40 & 76.2 & 199.17857 & Missing:not collected & 60.0 \\\\\n",
       "\t3 & BI0131 & 83 & 271.7428785           & 10.99705997           & 2069.032006           & 2 & 25.01424 & 177.15 & 78.5 & 161.71429 & Missing:not collected & 90.0 \\\\\n",
       "\t4 & BI0153 & 79 & 190.69266919999998    & 10.51493608           & 1498.285048           & 3 & 30.87637 & 175.50 & 95.1 &  88.21429 & 8.0                   & 100.0\\\\\n",
       "\t5 & BI0215 & 81 & 240.3133519           & 10.83951835           & 702.4915457000001     & 1 & 33.58739 & 166.40 & 93.0 & 256.82143 & Missing:not collected & 88.89\\\\\n",
       "\t6 & BI0353 & 80 & 345.2370838           & 12.17318952           & 1836.677682           & 6 & 26.41523 & 177.90 & 83.6 & 179.57143 & 8.0                   & 80.0 \\\\\n",
       "\\end{tabular}\n"
      ],
      "text/markdown": [
       "\n",
       "A data.frame: 6 × 12\n",
       "\n",
       "| <!--/--> | X.SampleID &lt;fct&gt; | Age &lt;int&gt; | AMAMPT &lt;fct&gt; | AMPHIT &lt;fct&gt; | AMFVT &lt;fct&gt; | PQPSQI &lt;dbl&gt; | BMI &lt;dbl&gt; | Height &lt;dbl&gt; | Weight &lt;dbl&gt; | PASCORE &lt;dbl&gt; | SLSLPHRS &lt;fct&gt; | PQPEFFCY &lt;fct&gt; |\n",
       "|---|---|---|---|---|---|---|---|---|---|---|---|---|\n",
       "| 1 | BI0023 | 83 | Missing:not collected | Missing:not collected | Missing:not collected | 4 | 28.89012 | 169.60 | 83.1 |  91.00000 | 6.0                   | 93.33 |\n",
       "| 2 | BI0056 | 81 | 176.1758554           | 11.9598842            | 1049.2338550000002    | 9 | 28.53980 | 163.40 | 76.2 | 199.17857 | Missing:not collected | 60.0  |\n",
       "| 3 | BI0131 | 83 | 271.7428785           | 10.99705997           | 2069.032006           | 2 | 25.01424 | 177.15 | 78.5 | 161.71429 | Missing:not collected | 90.0  |\n",
       "| 4 | BI0153 | 79 | 190.69266919999998    | 10.51493608           | 1498.285048           | 3 | 30.87637 | 175.50 | 95.1 |  88.21429 | 8.0                   | 100.0 |\n",
       "| 5 | BI0215 | 81 | 240.3133519           | 10.83951835           | 702.4915457000001     | 1 | 33.58739 | 166.40 | 93.0 | 256.82143 | Missing:not collected | 88.89 |\n",
       "| 6 | BI0353 | 80 | 345.2370838           | 12.17318952           | 1836.677682           | 6 | 26.41523 | 177.90 | 83.6 | 179.57143 | 8.0                   | 80.0  |\n",
       "\n"
      ],
      "text/plain": [
       "  X.SampleID Age AMAMPT                AMPHIT               \n",
       "1 BI0023     83  Missing:not collected Missing:not collected\n",
       "2 BI0056     81  176.1758554           11.9598842           \n",
       "3 BI0131     83  271.7428785           10.99705997          \n",
       "4 BI0153     79  190.69266919999998    10.51493608          \n",
       "5 BI0215     81  240.3133519           10.83951835          \n",
       "6 BI0353     80  345.2370838           12.17318952          \n",
       "  AMFVT                 PQPSQI BMI      Height Weight PASCORE  \n",
       "1 Missing:not collected 4      28.89012 169.60 83.1    91.00000\n",
       "2 1049.2338550000002    9      28.53980 163.40 76.2   199.17857\n",
       "3 2069.032006           2      25.01424 177.15 78.5   161.71429\n",
       "4 1498.285048           3      30.87637 175.50 95.1    88.21429\n",
       "5 702.4915457000001     1      33.58739 166.40 93.0   256.82143\n",
       "6 1836.677682           6      26.41523 177.90 83.6   179.57143\n",
       "  SLSLPHRS              PQPEFFCY\n",
       "1 6.0                   93.33   \n",
       "2 Missing:not collected 60.0    \n",
       "3 Missing:not collected 90.0    \n",
       "4 8.0                   100.0   \n",
       "5 Missing:not collected 88.89   \n",
       "6 8.0                   80.0    "
      ]
     },
     "metadata": {},
     "output_type": "display_data"
    }
   ],
   "source": [
    "#select test variables\n",
    "varname <- c(\"X.SampleID\", \"Age\", \"AMAMPT\", \"AMPHIT\", \"AMFVT\", \"PQPSQI\", \"BMI\", \"Height\", \"Weight\", \"PASCORE\", \"SLSLPHRS\", \"PQPEFFCY\")\n",
    "meta <- dat[c(varname)]\n",
    "head(meta)"
   ]
  },
  {
   "cell_type": "code",
   "execution_count": 5,
   "metadata": {},
   "outputs": [
    {
     "data": {
      "text/html": [
       "<dl>\n",
       "\t<dt>$X.SampleID</dt>\n",
       "\t\t<dd>'factor'</dd>\n",
       "\t<dt>$Age</dt>\n",
       "\t\t<dd>'integer'</dd>\n",
       "\t<dt>$AMAMPT</dt>\n",
       "\t\t<dd>'factor'</dd>\n",
       "\t<dt>$AMPHIT</dt>\n",
       "\t\t<dd>'factor'</dd>\n",
       "\t<dt>$AMFVT</dt>\n",
       "\t\t<dd>'factor'</dd>\n",
       "\t<dt>$PQPSQI</dt>\n",
       "\t\t<dd>'numeric'</dd>\n",
       "\t<dt>$BMI</dt>\n",
       "\t\t<dd>'numeric'</dd>\n",
       "\t<dt>$Height</dt>\n",
       "\t\t<dd>'numeric'</dd>\n",
       "\t<dt>$Weight</dt>\n",
       "\t\t<dd>'numeric'</dd>\n",
       "\t<dt>$PASCORE</dt>\n",
       "\t\t<dd>'numeric'</dd>\n",
       "\t<dt>$SLSLPHRS</dt>\n",
       "\t\t<dd>'factor'</dd>\n",
       "\t<dt>$PQPEFFCY</dt>\n",
       "\t\t<dd>'factor'</dd>\n",
       "</dl>\n"
      ],
      "text/latex": [
       "\\begin{description}\n",
       "\\item[\\$X.SampleID] 'factor'\n",
       "\\item[\\$Age] 'integer'\n",
       "\\item[\\$AMAMPT] 'factor'\n",
       "\\item[\\$AMPHIT] 'factor'\n",
       "\\item[\\$AMFVT] 'factor'\n",
       "\\item[\\$PQPSQI] 'numeric'\n",
       "\\item[\\$BMI] 'numeric'\n",
       "\\item[\\$Height] 'numeric'\n",
       "\\item[\\$Weight] 'numeric'\n",
       "\\item[\\$PASCORE] 'numeric'\n",
       "\\item[\\$SLSLPHRS] 'factor'\n",
       "\\item[\\$PQPEFFCY] 'factor'\n",
       "\\end{description}\n"
      ],
      "text/markdown": [
       "$X.SampleID\n",
       ":   'factor'\n",
       "$Age\n",
       ":   'integer'\n",
       "$AMAMPT\n",
       ":   'factor'\n",
       "$AMPHIT\n",
       ":   'factor'\n",
       "$AMFVT\n",
       ":   'factor'\n",
       "$PQPSQI\n",
       ":   'numeric'\n",
       "$BMI\n",
       ":   'numeric'\n",
       "$Height\n",
       ":   'numeric'\n",
       "$Weight\n",
       ":   'numeric'\n",
       "$PASCORE\n",
       ":   'numeric'\n",
       "$SLSLPHRS\n",
       ":   'factor'\n",
       "$PQPEFFCY\n",
       ":   'factor'\n",
       "\n",
       "\n"
      ],
      "text/plain": [
       "$X.SampleID\n",
       "[1] \"factor\"\n",
       "\n",
       "$Age\n",
       "[1] \"integer\"\n",
       "\n",
       "$AMAMPT\n",
       "[1] \"factor\"\n",
       "\n",
       "$AMPHIT\n",
       "[1] \"factor\"\n",
       "\n",
       "$AMFVT\n",
       "[1] \"factor\"\n",
       "\n",
       "$PQPSQI\n",
       "[1] \"numeric\"\n",
       "\n",
       "$BMI\n",
       "[1] \"numeric\"\n",
       "\n",
       "$Height\n",
       "[1] \"numeric\"\n",
       "\n",
       "$Weight\n",
       "[1] \"numeric\"\n",
       "\n",
       "$PASCORE\n",
       "[1] \"numeric\"\n",
       "\n",
       "$SLSLPHRS\n",
       "[1] \"factor\"\n",
       "\n",
       "$PQPEFFCY\n",
       "[1] \"factor\"\n"
      ]
     },
     "metadata": {},
     "output_type": "display_data"
    }
   ],
   "source": [
    "lapply(meta, class)"
   ]
  },
  {
   "cell_type": "code",
   "execution_count": 6,
   "metadata": {},
   "outputs": [
    {
     "data": {
      "text/plain": [
       "\n",
       "Call:\n",
       "adonis(formula = distance ~ Age, data = meta) \n",
       "\n",
       "Permutation: free\n",
       "Number of permutations: 999\n",
       "\n",
       "Terms added sequentially (first to last)\n",
       "\n",
       "           Df SumsOfSqs MeanSqs F.Model      R2 Pr(>F)  \n",
       "Age         1      4.73  4.7333  2.2539 0.00376   0.09 .\n",
       "Residuals 597   1253.71  2.1000         0.99624         \n",
       "Total     598   1258.45                 1.00000         \n",
       "---\n",
       "Signif. codes:  0 ‘***’ 0.001 ‘**’ 0.01 ‘*’ 0.05 ‘.’ 0.1 ‘ ’ 1"
      ]
     },
     "metadata": {},
     "output_type": "display_data"
    }
   ],
   "source": [
    "set.seed(123)\n",
    "meta$Age<- as.numeric(as.character(meta$Age))\n",
    "age <- adonis(distance~Age, data = meta)\n",
    "age"
   ]
  },
  {
   "cell_type": "code",
   "execution_count": 7,
   "metadata": {},
   "outputs": [
    {
     "data": {
      "text/plain": [
       "\n",
       "Call:\n",
       "adonis(formula = distance ~ BMI, data = meta) \n",
       "\n",
       "Permutation: free\n",
       "Number of permutations: 999\n",
       "\n",
       "Terms added sequentially (first to last)\n",
       "\n",
       "           Df SumsOfSqs MeanSqs F.Model      R2 Pr(>F)  \n",
       "BMI         1      6.75  6.7455  3.2173 0.00536  0.035 *\n",
       "Residuals 597   1251.70  2.0967         0.99464         \n",
       "Total     598   1258.45                 1.00000         \n",
       "---\n",
       "Signif. codes:  0 ‘***’ 0.001 ‘**’ 0.01 ‘*’ 0.05 ‘.’ 0.1 ‘ ’ 1"
      ]
     },
     "metadata": {},
     "output_type": "display_data"
    }
   ],
   "source": [
    "set.seed(123)\n",
    "BMI<- adonis(distance~BMI, data = meta)\n",
    "BMI"
   ]
  },
  {
   "cell_type": "code",
   "execution_count": 8,
   "metadata": {},
   "outputs": [
    {
     "data": {
      "text/plain": [
       "\n",
       "Call:\n",
       "adonis(formula = distance ~ PASCORE, data = meta) \n",
       "\n",
       "Permutation: free\n",
       "Number of permutations: 999\n",
       "\n",
       "Terms added sequentially (first to last)\n",
       "\n",
       "           Df SumsOfSqs MeanSqs F.Model      R2 Pr(>F)    \n",
       "PASCORE     1     19.41 19.4123  9.3534 0.01543  0.001 ***\n",
       "Residuals 597   1239.04  2.0754         0.98457           \n",
       "Total     598   1258.45                 1.00000           \n",
       "---\n",
       "Signif. codes:  0 ‘***’ 0.001 ‘**’ 0.01 ‘*’ 0.05 ‘.’ 0.1 ‘ ’ 1"
      ]
     },
     "metadata": {},
     "output_type": "display_data"
    }
   ],
   "source": [
    "set.seed(123)\n",
    "PASCORE<- adonis(distance~PASCORE, data = meta)\n",
    "PASCORE"
   ]
  },
  {
   "cell_type": "code",
   "execution_count": 9,
   "metadata": {},
   "outputs": [
    {
     "name": "stderr",
     "output_type": "stream",
     "text": [
      "Warning message in eval(expr, envir, enclos):\n",
      "“NAs introduced by coercion”\n"
     ]
    },
    {
     "data": {
      "text/plain": [
       "\n",
       "Call:\n",
       "adonis(formula = dist ~ AMAMPT, data = meta.omit) \n",
       "\n",
       "Permutation: free\n",
       "Number of permutations: 999\n",
       "\n",
       "Terms added sequentially (first to last)\n",
       "\n",
       "           Df SumsOfSqs MeanSqs F.Model     R2 Pr(>F)\n",
       "AMAMPT      1      1.61  1.6060 0.79299 0.0019  0.482\n",
       "Residuals 416    842.50  2.0252         0.9981       \n",
       "Total     417    844.11                 1.0000       "
      ]
     },
     "metadata": {},
     "output_type": "display_data"
    }
   ],
   "source": [
    "set.seed(123)\n",
    "meta$AMAMPT <- as.numeric(as.character(meta$AMAMPT))\n",
    "ind <- which(is.na(meta$AMAMPT))\n",
    "dist <- distance[-ind, ]\n",
    "dist <- dist[, -ind]\n",
    "meta.omit <- meta[!is.na(meta$AMAMPT), ]\n",
    "AMAMPT<- adonis(dist~AMAMPT, data = meta.omit)\n",
    "AMAMPT"
   ]
  },
  {
   "cell_type": "code",
   "execution_count": 10,
   "metadata": {},
   "outputs": [
    {
     "name": "stderr",
     "output_type": "stream",
     "text": [
      "Warning message in eval(expr, envir, enclos):\n",
      "“NAs introduced by coercion”\n"
     ]
    },
    {
     "data": {
      "text/plain": [
       "\n",
       "Call:\n",
       "adonis(formula = dist ~ SLSLPHRS, data = meta.omit) \n",
       "\n",
       "Permutation: free\n",
       "Number of permutations: 999\n",
       "\n",
       "Terms added sequentially (first to last)\n",
       "\n",
       "           Df SumsOfSqs MeanSqs F.Model      R2 Pr(>F)\n",
       "SLSLPHRS    1      1.91  1.9115  0.8909 0.00211  0.411\n",
       "Residuals 422    905.43  2.1456         0.99789       \n",
       "Total     423    907.34                 1.00000       "
      ]
     },
     "metadata": {},
     "output_type": "display_data"
    }
   ],
   "source": [
    "set.seed(123)\n",
    "meta$SLSLPHRS <- as.numeric(as.character(meta$SLSLPHRS))\n",
    "ind <- which(is.na(meta$SLSLPHRS))\n",
    "dist <- distance[-ind, ]\n",
    "dist <- dist[, -ind]\n",
    "meta.omit <- meta[!is.na(meta$SLSLPHRS), ]\n",
    "SLSLPHRS  <- adonis(dist~SLSLPHRS, data = meta.omit)\n",
    "SLSLPHRS"
   ]
  },
  {
   "cell_type": "code",
   "execution_count": 11,
   "metadata": {},
   "outputs": [
    {
     "name": "stderr",
     "output_type": "stream",
     "text": [
      "Warning message in eval(expr, envir, enclos):\n",
      "“NAs introduced by coercion”\n"
     ]
    },
    {
     "data": {
      "text/plain": [
       "\n",
       "Call:\n",
       "adonis(formula = dist ~ AMPHIT, data = meta.omit) \n",
       "\n",
       "Permutation: free\n",
       "Number of permutations: 999\n",
       "\n",
       "Terms added sequentially (first to last)\n",
       "\n",
       "           Df SumsOfSqs MeanSqs F.Model      R2 Pr(>F)\n",
       "AMPHIT      1      0.93 0.93411 0.46087 0.00111  0.628\n",
       "Residuals 416    843.17 2.02686         0.99889       \n",
       "Total     417    844.11                 1.00000       "
      ]
     },
     "metadata": {},
     "output_type": "display_data"
    }
   ],
   "source": [
    "set.seed(123)\n",
    "meta$AMPHIT <- as.numeric(as.character(meta$AMPHIT))\n",
    "ind <- which(is.na(meta$AMPHIT))\n",
    "dist <- distance[-ind, ]\n",
    "dist <- dist[, -ind]\n",
    "meta.omit <- meta[!is.na(meta$AMPHIT), ]\n",
    "acrophase  <- adonis(dist~AMPHIT, data = meta.omit)\n",
    "acrophase"
   ]
  },
  {
   "cell_type": "code",
   "execution_count": 12,
   "metadata": {},
   "outputs": [
    {
     "name": "stderr",
     "output_type": "stream",
     "text": [
      "Warning message in eval(expr, envir, enclos):\n",
      "“NAs introduced by coercion”\n"
     ]
    },
    {
     "data": {
      "text/plain": [
       "\n",
       "Call:\n",
       "adonis(formula = dist ~ AMFVT, data = meta.omit) \n",
       "\n",
       "Permutation: free\n",
       "Number of permutations: 999\n",
       "\n",
       "Terms added sequentially (first to last)\n",
       "\n",
       "           Df SumsOfSqs MeanSqs F.Model      R2 Pr(>F)    \n",
       "AMFVT       1     18.79 18.7918   9.472 0.02226  0.001 ***\n",
       "Residuals 416    825.32  1.9839         0.97774           \n",
       "Total     417    844.11                 1.00000           \n",
       "---\n",
       "Signif. codes:  0 ‘***’ 0.001 ‘**’ 0.01 ‘*’ 0.05 ‘.’ 0.1 ‘ ’ 1"
      ]
     },
     "metadata": {},
     "output_type": "display_data"
    }
   ],
   "source": [
    "set.seed(123)\n",
    "meta$AMFVT <- as.numeric(as.character(meta$AMFVT))\n",
    "ind <- which(is.na(meta$AMFVT))\n",
    "dist <- distance[-ind, ]\n",
    "dist <- dist[, -ind]\n",
    "meta.omit <- meta[!is.na(meta$AMFVT), ]\n",
    "AMFVT  <- adonis(dist~AMFVT, data = meta.omit)\n",
    "AMFVT"
   ]
  },
  {
   "cell_type": "code",
   "execution_count": 13,
   "metadata": {},
   "outputs": [
    {
     "data": {
      "text/plain": [
       "\n",
       "Call:\n",
       "adonis(formula = distance ~ PQPSQI, data = meta) \n",
       "\n",
       "Permutation: free\n",
       "Number of permutations: 999\n",
       "\n",
       "Terms added sequentially (first to last)\n",
       "\n",
       "           Df SumsOfSqs MeanSqs F.Model      R2 Pr(>F)   \n",
       "PQPSQI      1     10.08 10.0765  4.8188 0.00801   0.01 **\n",
       "Residuals 597   1248.37  2.0911         0.99199          \n",
       "Total     598   1258.45                 1.00000          \n",
       "---\n",
       "Signif. codes:  0 ‘***’ 0.001 ‘**’ 0.01 ‘*’ 0.05 ‘.’ 0.1 ‘ ’ 1"
      ]
     },
     "metadata": {},
     "output_type": "display_data"
    }
   ],
   "source": [
    "set.seed(123)\n",
    "PQPSQI<- adonis(distance~PQPSQI, data = meta)\n",
    "PQPSQI"
   ]
  },
  {
   "cell_type": "code",
   "execution_count": 14,
   "metadata": {},
   "outputs": [
    {
     "name": "stderr",
     "output_type": "stream",
     "text": [
      "Warning message in eval(expr, envir, enclos):\n",
      "“NAs introduced by coercion”\n"
     ]
    },
    {
     "data": {
      "text/plain": [
       "\n",
       "Call:\n",
       "adonis(formula = dist ~ PQPEFFCY, data = meta.omit) \n",
       "\n",
       "Permutation: free\n",
       "Number of permutations: 999\n",
       "\n",
       "Terms added sequentially (first to last)\n",
       "\n",
       "           Df SumsOfSqs MeanSqs F.Model     R2 Pr(>F)  \n",
       "PQPEFFCY    1      7.89  7.8871  3.7712 0.0063  0.018 *\n",
       "Residuals 595   1244.39  2.0914         0.9937         \n",
       "Total     596   1252.27                 1.0000         \n",
       "---\n",
       "Signif. codes:  0 ‘***’ 0.001 ‘**’ 0.01 ‘*’ 0.05 ‘.’ 0.1 ‘ ’ 1"
      ]
     },
     "metadata": {},
     "output_type": "display_data"
    }
   ],
   "source": [
    "set.seed(123)\n",
    "meta$PQPEFFCY <- as.numeric(as.character(meta$PQPEFFCY))\n",
    "ind <- which(is.na(meta$PQPEFFCY))\n",
    "dist <- distance[-ind, ]\n",
    "dist <- dist[, -ind]\n",
    "meta.omit <- meta[!is.na(meta$PQPEFFCY), ]\n",
    "PQPEFFCY  <- adonis(dist~PQPEFFCY, data = meta.omit)\n",
    "PQPEFFCY"
   ]
  },
  {
   "cell_type": "markdown",
   "metadata": {},
   "source": [
    "#### adjust p value by BH method"
   ]
  },
  {
   "cell_type": "code",
   "execution_count": 15,
   "metadata": {},
   "outputs": [
    {
     "data": {
      "text/html": [
       "<ol class=list-inline>\n",
       "\t<li>0.00775</li>\n",
       "\t<li>0.0177142857142857</li>\n",
       "\t<li>0.206666666666667</li>\n",
       "\t<li>0.00775</li>\n",
       "\t<li>0.625961538461538</li>\n",
       "\t<li>0.0786923076923077</li>\n",
       "\t<li>0.8556</li>\n",
       "\t<li>0.887</li>\n",
       "\t<li>0.0786923076923077</li>\n",
       "\t<li>0.2728</li>\n",
       "\t<li>0.648703703703704</li>\n",
       "\t<li>0.197625</li>\n",
       "\t<li>0.55676</li>\n",
       "\t<li>0.380857142857143</li>\n",
       "\t<li>0.031</li>\n",
       "\t<li>0.471739130434783</li>\n",
       "\t<li>0.0124</li>\n",
       "\t<li>0.700172413793103</li>\n",
       "\t<li>0.206666666666667</li>\n",
       "\t<li>0.471739130434783</li>\n",
       "\t<li>0.0155</li>\n",
       "\t<li>0.223526315789474</li>\n",
       "\t<li>0.197625</li>\n",
       "\t<li>0.0786923076923077</li>\n",
       "\t<li>0.00775</li>\n",
       "\t<li>0.197625</li>\n",
       "\t<li>0.53475</li>\n",
       "\t<li>0.700172413793103</li>\n",
       "\t<li>0.00775</li>\n",
       "\t<li>0.0378888888888889</li>\n",
       "\t<li>0.0651</li>\n",
       "</ol>\n"
      ],
      "text/latex": [
       "\\begin{enumerate*}\n",
       "\\item 0.00775\n",
       "\\item 0.0177142857142857\n",
       "\\item 0.206666666666667\n",
       "\\item 0.00775\n",
       "\\item 0.625961538461538\n",
       "\\item 0.0786923076923077\n",
       "\\item 0.8556\n",
       "\\item 0.887\n",
       "\\item 0.0786923076923077\n",
       "\\item 0.2728\n",
       "\\item 0.648703703703704\n",
       "\\item 0.197625\n",
       "\\item 0.55676\n",
       "\\item 0.380857142857143\n",
       "\\item 0.031\n",
       "\\item 0.471739130434783\n",
       "\\item 0.0124\n",
       "\\item 0.700172413793103\n",
       "\\item 0.206666666666667\n",
       "\\item 0.471739130434783\n",
       "\\item 0.0155\n",
       "\\item 0.223526315789474\n",
       "\\item 0.197625\n",
       "\\item 0.0786923076923077\n",
       "\\item 0.00775\n",
       "\\item 0.197625\n",
       "\\item 0.53475\n",
       "\\item 0.700172413793103\n",
       "\\item 0.00775\n",
       "\\item 0.0378888888888889\n",
       "\\item 0.0651\n",
       "\\end{enumerate*}\n"
      ],
      "text/markdown": [
       "1. 0.00775\n",
       "2. 0.0177142857142857\n",
       "3. 0.206666666666667\n",
       "4. 0.00775\n",
       "5. 0.625961538461538\n",
       "6. 0.0786923076923077\n",
       "7. 0.8556\n",
       "8. 0.887\n",
       "9. 0.0786923076923077\n",
       "10. 0.2728\n",
       "11. 0.648703703703704\n",
       "12. 0.197625\n",
       "13. 0.55676\n",
       "14. 0.380857142857143\n",
       "15. 0.031\n",
       "16. 0.471739130434783\n",
       "17. 0.0124\n",
       "18. 0.700172413793103\n",
       "19. 0.206666666666667\n",
       "20. 0.471739130434783\n",
       "21. 0.0155\n",
       "22. 0.223526315789474\n",
       "23. 0.197625\n",
       "24. 0.0786923076923077\n",
       "25. 0.00775\n",
       "26. 0.197625\n",
       "27. 0.53475\n",
       "28. 0.700172413793103\n",
       "29. 0.00775\n",
       "30. 0.0378888888888889\n",
       "31. 0.0651\n",
       "\n",
       "\n"
      ],
      "text/plain": [
       " [1] 0.00775000 0.01771429 0.20666667 0.00775000 0.62596154 0.07869231\n",
       " [7] 0.85560000 0.88700000 0.07869231 0.27280000 0.64870370 0.19762500\n",
       "[13] 0.55676000 0.38085714 0.03100000 0.47173913 0.01240000 0.70017241\n",
       "[19] 0.20666667 0.47173913 0.01550000 0.22352632 0.19762500 0.07869231\n",
       "[25] 0.00775000 0.19762500 0.53475000 0.70017241 0.00775000 0.03788889\n",
       "[31] 0.06510000"
      ]
     },
     "metadata": {},
     "output_type": "display_data"
    }
   ],
   "source": [
    "pval <- c(0.001,0.004,0.12,0.001,0.525,0.032,0.828,0.887,0.033,0.176,0.565,0.102,0.449\n",
    "          ,0.258,0.008,0.35,0.002,0.641,0.116,0.349,0.003,0.137,\n",
    "          0.09,0.035,0.001,0.482,0.411,0.628,0.001,0.01,0.018)\n",
    "p.adjust(pval,\"BH\")"
   ]
  },
  {
   "cell_type": "code",
   "execution_count": null,
   "metadata": {},
   "outputs": [],
   "source": [
    "head(dat)\n",
    "dim(dat)"
   ]
  },
  {
   "cell_type": "code",
   "execution_count": null,
   "metadata": {},
   "outputs": [],
   "source": [
    "test <- dat[c(vars_test)]\n",
    "imp <- dat[c(vars_imp)]\n",
    "head(test)\n",
    "head(imp)"
   ]
  },
  {
   "cell_type": "code",
   "execution_count": null,
   "metadata": {},
   "outputs": [],
   "source": [
    "lapply(test, class)\n",
    "lapply(imp, class)"
   ]
  },
  {
   "cell_type": "code",
   "execution_count": null,
   "metadata": {},
   "outputs": [],
   "source": [
    "imp[] <- lapply(imp, as.numeric)\n",
    "test[, 1:5] <- lapply(test[, 1:5], as.character)\n",
    "test[, 1:5] <- lapply(test[, 1:5], as.numeric)"
   ]
  },
  {
   "cell_type": "code",
   "execution_count": null,
   "metadata": {},
   "outputs": [],
   "source": [
    "test"
   ]
  },
  {
   "cell_type": "code",
   "execution_count": 6,
   "metadata": {},
   "outputs": [
    {
     "name": "stderr",
     "output_type": "stream",
     "text": [
      "also installing the dependency ‘PearsonDS’\n",
      "\n",
      "Warning message in install.packages(\"MiRKAT\", dependencies = TRUE):\n",
      "“installation of package ‘PearsonDS’ had non-zero exit status”Warning message in install.packages(\"MiRKAT\", dependencies = TRUE):\n",
      "“installation of package ‘MiRKAT’ had non-zero exit status”Updating HTML index of packages in '.Library'\n",
      "Making 'packages.html' ... done\n"
     ]
    }
   ],
   "source": [
    "install.packages(\"MiRKAT\",dependencies=TRUE)"
   ]
  },
  {
   "cell_type": "code",
   "execution_count": 2,
   "metadata": {},
   "outputs": [
    {
     "ename": "ERROR",
     "evalue": "Error in library(MiRKAT): there is no package called ‘MiRKAT’\n",
     "output_type": "error",
     "traceback": [
      "Error in library(MiRKAT): there is no package called ‘MiRKAT’\nTraceback:\n",
      "1. library(MiRKAT)"
     ]
    }
   ],
   "source": [
    "library(MiRKAT)\n",
    "ker <- D2K(dist)"
   ]
  },
  {
   "cell_type": "code",
   "execution_count": 7,
   "metadata": {},
   "outputs": [
    {
     "name": "stderr",
     "output_type": "stream",
     "text": [
      "Warning message in install.packages(\"PearsonDS\"):\n",
      "“installation of package ‘PearsonDS’ had non-zero exit status”Updating HTML index of packages in '.Library'\n",
      "Making 'packages.html' ... done\n"
     ]
    }
   ],
   "source": [
    "install.packages(\"PearsonDS\")"
   ]
  }
 ],
 "metadata": {
  "kernelspec": {
   "display_name": "R",
   "language": "R",
   "name": "ir"
  },
  "language_info": {
   "codemirror_mode": "r",
   "file_extension": ".r",
   "mimetype": "text/x-r-source",
   "name": "R",
   "pygments_lexer": "r",
   "version": "3.6.1"
  }
 },
 "nbformat": 4,
 "nbformat_minor": 2
}

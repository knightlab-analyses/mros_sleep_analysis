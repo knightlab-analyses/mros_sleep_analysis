{
 "cells": [
  {
   "cell_type": "markdown",
   "metadata": {},
   "source": [
    "#### This notebook is to perform Non-Redundant Analysis on alpha diversities\n",
    "#### reference: Falony G, Joossens M, Vieira-Silva S, et al. Population-level analysis of gut microbiome variation. Science 2016;352:560-4"
   ]
  },
  {
   "cell_type": "code",
   "execution_count": 1,
   "metadata": {},
   "outputs": [
    {
     "name": "stderr",
     "output_type": "stream",
     "text": [
      "Loading required package: permute\n",
      "Loading required package: lattice\n",
      "This is vegan 2.5-2\n"
     ]
    }
   ],
   "source": [
    "library(vegan)"
   ]
  },
  {
   "cell_type": "code",
   "execution_count": 2,
   "metadata": {},
   "outputs": [
    {
     "data": {
      "text/html": [
       "<ol class=list-inline>\n",
       "\t<li>599</li>\n",
       "\t<li>80</li>\n",
       "</ol>\n"
      ],
      "text/latex": [
       "\\begin{enumerate*}\n",
       "\\item 599\n",
       "\\item 80\n",
       "\\end{enumerate*}\n"
      ],
      "text/markdown": [
       "1. 599\n",
       "2. 80\n",
       "\n",
       "\n"
      ],
      "text/plain": [
       "[1] 599  80"
      ]
     },
     "metadata": {},
     "output_type": "display_data"
    }
   ],
   "source": [
    "mf = read.csv('../data/mapping_sleep_alpha.txt', stringsAsFactors=FALSE, sep='\\t')\n",
    "colnames(mf)[1] = 'SampleName'\n",
    "dim(mf)"
   ]
  },
  {
   "cell_type": "code",
   "execution_count": 3,
   "metadata": {},
   "outputs": [
    {
     "data": {
      "text/html": [
       "<table>\n",
       "<thead><tr><th scope=col>SampleName</th><th scope=col>BarcodeSequence</th><th scope=col>LinkerPrimerSequence</th><th scope=col>Experiment_Design_Description</th><th scope=col>Library_Construction_Protocol</th><th scope=col>Linker</th><th scope=col>Platform</th><th scope=col>Center_Name</th><th scope=col>Center_Project</th><th scope=col>Instrument_Model</th><th scope=col>⋯</th><th scope=col>M1ADEPR</th><th scope=col>M1BENZO</th><th scope=col>AMAMPT_C1</th><th scope=col>AMFVT_C1</th><th scope=col>AMPHIT_15SD</th><th scope=col>Description</th><th scope=col>alpha_pd</th><th scope=col>observed_otus</th><th scope=col>shannon</th><th scope=col>pielou_e</th></tr></thead>\n",
       "<tbody>\n",
       "\t<tr><td>BI0023                                              </td><td>TCTGGTGACATT                                        </td><td>GGACTACHVGGGTWTCTAAT                                </td><td>16S stool samples sequenced for MrOS Vitamin D study</td><td>16S rRNA v4                                         </td><td>GT                                                  </td><td>Illumina                                            </td><td>BI                                                  </td><td>MrOS                                                </td><td>Illumina MiSeq                                      </td><td>⋯                                                   </td><td>0: No                                               </td><td>0: No                                               </td><td>Missing:not collected                               </td><td>Missing:not collected                               </td><td>Missing:not collected                               </td><td>Orwoll.BI0023.BI                                    </td><td>27.77117                                            </td><td>302                                                 </td><td>5.727116                                            </td><td>0.6951729                                           </td></tr>\n",
       "\t<tr><td>BI0056                                              </td><td>CAAGCATGCCTA                                        </td><td>GGACTACHVGGGTWTCTAAT                                </td><td>16S stool samples sequenced for MrOS Vitamin D study</td><td>16S rRNA v4                                         </td><td>GT                                                  </td><td>Illumina                                            </td><td>BI                                                  </td><td>MrOS                                                </td><td>Illumina MiSeq                                      </td><td>⋯                                                   </td><td>0: No                                               </td><td>0: No                                               </td><td>1.0                                                 </td><td>1.0                                                 </td><td>0.0                                                 </td><td>Orwoll.BI0056.BI                                    </td><td>17.93266                                            </td><td>173                                                 </td><td>3.888281                                            </td><td>0.5229960                                           </td></tr>\n",
       "\t<tr><td>BI0131                                              </td><td>CTATTTGCGACA                                        </td><td>GGACTACHVGGGTWTCTAAT                                </td><td>16S stool samples sequenced for MrOS Vitamin D study</td><td>16S rRNA v4                                         </td><td>GT                                                  </td><td>Illumina                                            </td><td>BI                                                  </td><td>MrOS                                                </td><td>Illumina MiSeq                                      </td><td>⋯                                                   </td><td>0: No                                               </td><td>0: No                                               </td><td>1.0                                                 </td><td>1.0                                                 </td><td>0.0                                                 </td><td>Orwoll.BI0131.BI                                    </td><td>21.45366                                            </td><td>223                                                 </td><td>4.050730                                            </td><td>0.5192645                                           </td></tr>\n",
       "\t<tr><td>BI0153                                              </td><td>ATCGGCGTTACA                                        </td><td>GGACTACHVGGGTWTCTAAT                                </td><td>16S stool samples sequenced for MrOS Vitamin D study</td><td>16S rRNA v4                                         </td><td>GT                                                  </td><td>Illumina                                            </td><td>BI                                                  </td><td>MrOS                                                </td><td>Illumina MiSeq                                      </td><td>⋯                                                   </td><td>0: No                                               </td><td>0: No                                               </td><td>1.0                                                 </td><td>1.0                                                 </td><td>-1.0                                                </td><td>Orwoll.BI0153.BI                                    </td><td>18.46968                                            </td><td>223                                                 </td><td>4.894253                                            </td><td>0.6273959                                           </td></tr>\n",
       "\t<tr><td>BI0215                                              </td><td>CCTCTCGTGATC                                        </td><td>GGACTACHVGGGTWTCTAAT                                </td><td>16S stool samples sequenced for MrOS Vitamin D study</td><td>16S rRNA v4                                         </td><td>GT                                                  </td><td>Illumina                                            </td><td>BI                                                  </td><td>MrOS                                                </td><td>Illumina MiSeq                                      </td><td>⋯                                                   </td><td>0: No                                               </td><td>0: No                                               </td><td>1.0                                                 </td><td>0.0                                                 </td><td>-1.0                                                </td><td>Orwoll.BI0215.BI                                    </td><td>20.04983                                            </td><td>222                                                 </td><td>5.295055                                            </td><td>0.6793396                                           </td></tr>\n",
       "\t<tr><td>BI0353                                              </td><td>TGCCATCTGAAT                                        </td><td>GGACTACHVGGGTWTCTAAT                                </td><td>16S stool samples sequenced for MrOS Vitamin D study</td><td>16S rRNA v4                                         </td><td>GT                                                  </td><td>Illumina                                            </td><td>BI                                                  </td><td>MrOS                                                </td><td>Illumina MiSeq                                      </td><td>⋯                                                   </td><td>0: No                                               </td><td>0: No                                               </td><td>1.0                                                 </td><td>1.0                                                 </td><td>0.0                                                 </td><td>Orwoll.BI0353.BI                                    </td><td>13.75183                                            </td><td>155                                                 </td><td>4.213016                                            </td><td>0.5790192                                           </td></tr>\n",
       "</tbody>\n",
       "</table>\n"
      ],
      "text/latex": [
       "\\begin{tabular}{r|llllllllllllllllllllllllllllllllllllllllllllllllllllllllllllllllllllllllllllllll}\n",
       " SampleName & BarcodeSequence & LinkerPrimerSequence & Experiment\\_Design\\_Description & Library\\_Construction\\_Protocol & Linker & Platform & Center\\_Name & Center\\_Project & Instrument\\_Model & ⋯ & M1ADEPR & M1BENZO & AMAMPT\\_C1 & AMFVT\\_C1 & AMPHIT\\_15SD & Description & alpha\\_pd & observed\\_otus & shannon & pielou\\_e\\\\\n",
       "\\hline\n",
       "\t BI0023                                               & TCTGGTGACATT                                         & GGACTACHVGGGTWTCTAAT                                 & 16S stool samples sequenced for MrOS Vitamin D study & 16S rRNA v4                                          & GT                                                   & Illumina                                             & BI                                                   & MrOS                                                 & Illumina MiSeq                                       & ⋯                                                    & 0: No                                                & 0: No                                                & Missing:not collected                                & Missing:not collected                                & Missing:not collected                                & Orwoll.BI0023.BI                                     & 27.77117                                             & 302                                                  & 5.727116                                             & 0.6951729                                           \\\\\n",
       "\t BI0056                                               & CAAGCATGCCTA                                         & GGACTACHVGGGTWTCTAAT                                 & 16S stool samples sequenced for MrOS Vitamin D study & 16S rRNA v4                                          & GT                                                   & Illumina                                             & BI                                                   & MrOS                                                 & Illumina MiSeq                                       & ⋯                                                    & 0: No                                                & 0: No                                                & 1.0                                                  & 1.0                                                  & 0.0                                                  & Orwoll.BI0056.BI                                     & 17.93266                                             & 173                                                  & 3.888281                                             & 0.5229960                                           \\\\\n",
       "\t BI0131                                               & CTATTTGCGACA                                         & GGACTACHVGGGTWTCTAAT                                 & 16S stool samples sequenced for MrOS Vitamin D study & 16S rRNA v4                                          & GT                                                   & Illumina                                             & BI                                                   & MrOS                                                 & Illumina MiSeq                                       & ⋯                                                    & 0: No                                                & 0: No                                                & 1.0                                                  & 1.0                                                  & 0.0                                                  & Orwoll.BI0131.BI                                     & 21.45366                                             & 223                                                  & 4.050730                                             & 0.5192645                                           \\\\\n",
       "\t BI0153                                               & ATCGGCGTTACA                                         & GGACTACHVGGGTWTCTAAT                                 & 16S stool samples sequenced for MrOS Vitamin D study & 16S rRNA v4                                          & GT                                                   & Illumina                                             & BI                                                   & MrOS                                                 & Illumina MiSeq                                       & ⋯                                                    & 0: No                                                & 0: No                                                & 1.0                                                  & 1.0                                                  & -1.0                                                 & Orwoll.BI0153.BI                                     & 18.46968                                             & 223                                                  & 4.894253                                             & 0.6273959                                           \\\\\n",
       "\t BI0215                                               & CCTCTCGTGATC                                         & GGACTACHVGGGTWTCTAAT                                 & 16S stool samples sequenced for MrOS Vitamin D study & 16S rRNA v4                                          & GT                                                   & Illumina                                             & BI                                                   & MrOS                                                 & Illumina MiSeq                                       & ⋯                                                    & 0: No                                                & 0: No                                                & 1.0                                                  & 0.0                                                  & -1.0                                                 & Orwoll.BI0215.BI                                     & 20.04983                                             & 222                                                  & 5.295055                                             & 0.6793396                                           \\\\\n",
       "\t BI0353                                               & TGCCATCTGAAT                                         & GGACTACHVGGGTWTCTAAT                                 & 16S stool samples sequenced for MrOS Vitamin D study & 16S rRNA v4                                          & GT                                                   & Illumina                                             & BI                                                   & MrOS                                                 & Illumina MiSeq                                       & ⋯                                                    & 0: No                                                & 0: No                                                & 1.0                                                  & 1.0                                                  & 0.0                                                  & Orwoll.BI0353.BI                                     & 13.75183                                             & 155                                                  & 4.213016                                             & 0.5790192                                           \\\\\n",
       "\\end{tabular}\n"
      ],
      "text/markdown": [
       "\n",
       "SampleName | BarcodeSequence | LinkerPrimerSequence | Experiment_Design_Description | Library_Construction_Protocol | Linker | Platform | Center_Name | Center_Project | Instrument_Model | ⋯ | M1ADEPR | M1BENZO | AMAMPT_C1 | AMFVT_C1 | AMPHIT_15SD | Description | alpha_pd | observed_otus | shannon | pielou_e | \n",
       "|---|---|---|---|---|---|\n",
       "| BI0023                                               | TCTGGTGACATT                                         | GGACTACHVGGGTWTCTAAT                                 | 16S stool samples sequenced for MrOS Vitamin D study | 16S rRNA v4                                          | GT                                                   | Illumina                                             | BI                                                   | MrOS                                                 | Illumina MiSeq                                       | ⋯                                                    | 0: No                                                | 0: No                                                | Missing:not collected                                | Missing:not collected                                | Missing:not collected                                | Orwoll.BI0023.BI                                     | 27.77117                                             | 302                                                  | 5.727116                                             | 0.6951729                                            | \n",
       "| BI0056                                               | CAAGCATGCCTA                                         | GGACTACHVGGGTWTCTAAT                                 | 16S stool samples sequenced for MrOS Vitamin D study | 16S rRNA v4                                          | GT                                                   | Illumina                                             | BI                                                   | MrOS                                                 | Illumina MiSeq                                       | ⋯                                                    | 0: No                                                | 0: No                                                | 1.0                                                  | 1.0                                                  | 0.0                                                  | Orwoll.BI0056.BI                                     | 17.93266                                             | 173                                                  | 3.888281                                             | 0.5229960                                            | \n",
       "| BI0131                                               | CTATTTGCGACA                                         | GGACTACHVGGGTWTCTAAT                                 | 16S stool samples sequenced for MrOS Vitamin D study | 16S rRNA v4                                          | GT                                                   | Illumina                                             | BI                                                   | MrOS                                                 | Illumina MiSeq                                       | ⋯                                                    | 0: No                                                | 0: No                                                | 1.0                                                  | 1.0                                                  | 0.0                                                  | Orwoll.BI0131.BI                                     | 21.45366                                             | 223                                                  | 4.050730                                             | 0.5192645                                            | \n",
       "| BI0153                                               | ATCGGCGTTACA                                         | GGACTACHVGGGTWTCTAAT                                 | 16S stool samples sequenced for MrOS Vitamin D study | 16S rRNA v4                                          | GT                                                   | Illumina                                             | BI                                                   | MrOS                                                 | Illumina MiSeq                                       | ⋯                                                    | 0: No                                                | 0: No                                                | 1.0                                                  | 1.0                                                  | -1.0                                                 | Orwoll.BI0153.BI                                     | 18.46968                                             | 223                                                  | 4.894253                                             | 0.6273959                                            | \n",
       "| BI0215                                               | CCTCTCGTGATC                                         | GGACTACHVGGGTWTCTAAT                                 | 16S stool samples sequenced for MrOS Vitamin D study | 16S rRNA v4                                          | GT                                                   | Illumina                                             | BI                                                   | MrOS                                                 | Illumina MiSeq                                       | ⋯                                                    | 0: No                                                | 0: No                                                | 1.0                                                  | 0.0                                                  | -1.0                                                 | Orwoll.BI0215.BI                                     | 20.04983                                             | 222                                                  | 5.295055                                             | 0.6793396                                            | \n",
       "| BI0353                                               | TGCCATCTGAAT                                         | GGACTACHVGGGTWTCTAAT                                 | 16S stool samples sequenced for MrOS Vitamin D study | 16S rRNA v4                                          | GT                                                   | Illumina                                             | BI                                                   | MrOS                                                 | Illumina MiSeq                                       | ⋯                                                    | 0: No                                                | 0: No                                                | 1.0                                                  | 1.0                                                  | 0.0                                                  | Orwoll.BI0353.BI                                     | 13.75183                                             | 155                                                  | 4.213016                                             | 0.5790192                                            | \n",
       "\n",
       "\n"
      ],
      "text/plain": [
       "  SampleName BarcodeSequence LinkerPrimerSequence\n",
       "1 BI0023     TCTGGTGACATT    GGACTACHVGGGTWTCTAAT\n",
       "2 BI0056     CAAGCATGCCTA    GGACTACHVGGGTWTCTAAT\n",
       "3 BI0131     CTATTTGCGACA    GGACTACHVGGGTWTCTAAT\n",
       "4 BI0153     ATCGGCGTTACA    GGACTACHVGGGTWTCTAAT\n",
       "5 BI0215     CCTCTCGTGATC    GGACTACHVGGGTWTCTAAT\n",
       "6 BI0353     TGCCATCTGAAT    GGACTACHVGGGTWTCTAAT\n",
       "  Experiment_Design_Description                       \n",
       "1 16S stool samples sequenced for MrOS Vitamin D study\n",
       "2 16S stool samples sequenced for MrOS Vitamin D study\n",
       "3 16S stool samples sequenced for MrOS Vitamin D study\n",
       "4 16S stool samples sequenced for MrOS Vitamin D study\n",
       "5 16S stool samples sequenced for MrOS Vitamin D study\n",
       "6 16S stool samples sequenced for MrOS Vitamin D study\n",
       "  Library_Construction_Protocol Linker Platform Center_Name Center_Project\n",
       "1 16S rRNA v4                   GT     Illumina BI          MrOS          \n",
       "2 16S rRNA v4                   GT     Illumina BI          MrOS          \n",
       "3 16S rRNA v4                   GT     Illumina BI          MrOS          \n",
       "4 16S rRNA v4                   GT     Illumina BI          MrOS          \n",
       "5 16S rRNA v4                   GT     Illumina BI          MrOS          \n",
       "6 16S rRNA v4                   GT     Illumina BI          MrOS          \n",
       "  Instrument_Model ⋯ M1ADEPR M1BENZO AMAMPT_C1            \n",
       "1 Illumina MiSeq   ⋯ 0: No   0: No   Missing:not collected\n",
       "2 Illumina MiSeq   ⋯ 0: No   0: No   1.0                  \n",
       "3 Illumina MiSeq   ⋯ 0: No   0: No   1.0                  \n",
       "4 Illumina MiSeq   ⋯ 0: No   0: No   1.0                  \n",
       "5 Illumina MiSeq   ⋯ 0: No   0: No   1.0                  \n",
       "6 Illumina MiSeq   ⋯ 0: No   0: No   1.0                  \n",
       "  AMFVT_C1              AMPHIT_15SD           Description      alpha_pd\n",
       "1 Missing:not collected Missing:not collected Orwoll.BI0023.BI 27.77117\n",
       "2 1.0                   0.0                   Orwoll.BI0056.BI 17.93266\n",
       "3 1.0                   0.0                   Orwoll.BI0131.BI 21.45366\n",
       "4 1.0                   -1.0                  Orwoll.BI0153.BI 18.46968\n",
       "5 0.0                   -1.0                  Orwoll.BI0215.BI 20.04983\n",
       "6 1.0                   0.0                   Orwoll.BI0353.BI 13.75183\n",
       "  observed_otus shannon  pielou_e \n",
       "1 302           5.727116 0.6951729\n",
       "2 173           3.888281 0.5229960\n",
       "3 223           4.050730 0.5192645\n",
       "4 223           4.894253 0.6273959\n",
       "5 222           5.295055 0.6793396\n",
       "6 155           4.213016 0.5790192"
      ]
     },
     "metadata": {},
     "output_type": "display_data"
    }
   ],
   "source": [
    "head(mf)"
   ]
  },
  {
   "cell_type": "code",
   "execution_count": 4,
   "metadata": {},
   "outputs": [],
   "source": [
    "#sapply(mf, class)"
   ]
  },
  {
   "cell_type": "code",
   "execution_count": 5,
   "metadata": {},
   "outputs": [
    {
     "data": {
      "text/html": [
       "<ol class=list-inline>\n",
       "\t<li>'SampleName'</li>\n",
       "\t<li>'BarcodeSequence'</li>\n",
       "\t<li>'LinkerPrimerSequence'</li>\n",
       "\t<li>'Experiment_Design_Description'</li>\n",
       "\t<li>'Library_Construction_Protocol'</li>\n",
       "\t<li>'Linker'</li>\n",
       "\t<li>'Platform'</li>\n",
       "\t<li>'Center_Name'</li>\n",
       "\t<li>'Center_Project'</li>\n",
       "\t<li>'Instrument_Model'</li>\n",
       "\t<li>'Title'</li>\n",
       "\t<li>'Anonymized_Name'</li>\n",
       "\t<li>'Scientific_Name'</li>\n",
       "\t<li>'Taxon_ID'</li>\n",
       "\t<li>'Sample_Type'</li>\n",
       "\t<li>'Geo_Loc_Name'</li>\n",
       "\t<li>'Elevation'</li>\n",
       "\t<li>'Env_Biome'</li>\n",
       "\t<li>'Env_Feature'</li>\n",
       "\t<li>'Env_Material'</li>\n",
       "\t<li>'Env_Package'</li>\n",
       "\t<li>'Latitude'</li>\n",
       "\t<li>'Longitude'</li>\n",
       "\t<li>'Collection_Timestamp'</li>\n",
       "\t<li>'DNA_Extracted'</li>\n",
       "\t<li>'Physical_Specimen_Location'</li>\n",
       "\t<li>'Physical_Specimen_Remaining'</li>\n",
       "\t<li>'Age'</li>\n",
       "\t<li>'Age_Units'</li>\n",
       "\t<li>'Host_Subject_ID'</li>\n",
       "\t<li>'Host_Taxid'</li>\n",
       "\t<li>'Host_Scientific_Name'</li>\n",
       "\t<li>'Host_Common_Name'</li>\n",
       "\t<li>'Life_Stage'</li>\n",
       "\t<li>'Sex'</li>\n",
       "\t<li>'Height'</li>\n",
       "\t<li>'Height_Units'</li>\n",
       "\t<li>'Weight'</li>\n",
       "\t<li>'Weight_Units'</li>\n",
       "\t<li>'BMI'</li>\n",
       "\t<li>'Body_Habitat'</li>\n",
       "\t<li>'Body_Site'</li>\n",
       "\t<li>'Body_Product'</li>\n",
       "\t<li>'GIERACE'</li>\n",
       "\t<li>'SITE'</li>\n",
       "\t<li>'AMAMPT'</li>\n",
       "\t<li>'AMPHIT'</li>\n",
       "\t<li>'AMFVT'</li>\n",
       "\t<li>'MIDATA'</li>\n",
       "\t<li>'V4DATE'</li>\n",
       "\t<li>'GIMSTAT'</li>\n",
       "\t<li>'MHDIAB'</li>\n",
       "\t<li>'MHRHEU1'</li>\n",
       "\t<li>'MHOA'</li>\n",
       "\t<li>'MHCHF'</li>\n",
       "\t<li>'MHMI'</li>\n",
       "\t<li>'MHDEPR'</li>\n",
       "\t<li>'MHDEPRT'</li>\n",
       "\t<li>'TUDRAMT_REVISED'</li>\n",
       "\t<li>'PQPSLMED'</li>\n",
       "\t<li>'PQPSQUAL'</li>\n",
       "\t<li>'PASCORE'</li>\n",
       "\t<li>'QLCOMP'</li>\n",
       "\t<li>'SLSLPHRS'</li>\n",
       "\t<li>'SLEEPHRS'</li>\n",
       "\t<li>'PQPEFFCY'</li>\n",
       "\t<li>'PQPEFFIC'</li>\n",
       "\t<li>'PQPSQI'</li>\n",
       "\t<li>'PQBADSLP'</li>\n",
       "\t<li>'TURSMOKE'</li>\n",
       "\t<li>'M1ADEPR'</li>\n",
       "\t<li>'M1BENZO'</li>\n",
       "\t<li>'AMAMPT_C1'</li>\n",
       "\t<li>'AMFVT_C1'</li>\n",
       "\t<li>'AMPHIT_15SD'</li>\n",
       "\t<li>'Description'</li>\n",
       "\t<li>'alpha_pd'</li>\n",
       "\t<li>'observed_otus'</li>\n",
       "\t<li>'shannon'</li>\n",
       "\t<li>'pielou_e'</li>\n",
       "</ol>\n"
      ],
      "text/latex": [
       "\\begin{enumerate*}\n",
       "\\item 'SampleName'\n",
       "\\item 'BarcodeSequence'\n",
       "\\item 'LinkerPrimerSequence'\n",
       "\\item 'Experiment\\_Design\\_Description'\n",
       "\\item 'Library\\_Construction\\_Protocol'\n",
       "\\item 'Linker'\n",
       "\\item 'Platform'\n",
       "\\item 'Center\\_Name'\n",
       "\\item 'Center\\_Project'\n",
       "\\item 'Instrument\\_Model'\n",
       "\\item 'Title'\n",
       "\\item 'Anonymized\\_Name'\n",
       "\\item 'Scientific\\_Name'\n",
       "\\item 'Taxon\\_ID'\n",
       "\\item 'Sample\\_Type'\n",
       "\\item 'Geo\\_Loc\\_Name'\n",
       "\\item 'Elevation'\n",
       "\\item 'Env\\_Biome'\n",
       "\\item 'Env\\_Feature'\n",
       "\\item 'Env\\_Material'\n",
       "\\item 'Env\\_Package'\n",
       "\\item 'Latitude'\n",
       "\\item 'Longitude'\n",
       "\\item 'Collection\\_Timestamp'\n",
       "\\item 'DNA\\_Extracted'\n",
       "\\item 'Physical\\_Specimen\\_Location'\n",
       "\\item 'Physical\\_Specimen\\_Remaining'\n",
       "\\item 'Age'\n",
       "\\item 'Age\\_Units'\n",
       "\\item 'Host\\_Subject\\_ID'\n",
       "\\item 'Host\\_Taxid'\n",
       "\\item 'Host\\_Scientific\\_Name'\n",
       "\\item 'Host\\_Common\\_Name'\n",
       "\\item 'Life\\_Stage'\n",
       "\\item 'Sex'\n",
       "\\item 'Height'\n",
       "\\item 'Height\\_Units'\n",
       "\\item 'Weight'\n",
       "\\item 'Weight\\_Units'\n",
       "\\item 'BMI'\n",
       "\\item 'Body\\_Habitat'\n",
       "\\item 'Body\\_Site'\n",
       "\\item 'Body\\_Product'\n",
       "\\item 'GIERACE'\n",
       "\\item 'SITE'\n",
       "\\item 'AMAMPT'\n",
       "\\item 'AMPHIT'\n",
       "\\item 'AMFVT'\n",
       "\\item 'MIDATA'\n",
       "\\item 'V4DATE'\n",
       "\\item 'GIMSTAT'\n",
       "\\item 'MHDIAB'\n",
       "\\item 'MHRHEU1'\n",
       "\\item 'MHOA'\n",
       "\\item 'MHCHF'\n",
       "\\item 'MHMI'\n",
       "\\item 'MHDEPR'\n",
       "\\item 'MHDEPRT'\n",
       "\\item 'TUDRAMT\\_REVISED'\n",
       "\\item 'PQPSLMED'\n",
       "\\item 'PQPSQUAL'\n",
       "\\item 'PASCORE'\n",
       "\\item 'QLCOMP'\n",
       "\\item 'SLSLPHRS'\n",
       "\\item 'SLEEPHRS'\n",
       "\\item 'PQPEFFCY'\n",
       "\\item 'PQPEFFIC'\n",
       "\\item 'PQPSQI'\n",
       "\\item 'PQBADSLP'\n",
       "\\item 'TURSMOKE'\n",
       "\\item 'M1ADEPR'\n",
       "\\item 'M1BENZO'\n",
       "\\item 'AMAMPT\\_C1'\n",
       "\\item 'AMFVT\\_C1'\n",
       "\\item 'AMPHIT\\_15SD'\n",
       "\\item 'Description'\n",
       "\\item 'alpha\\_pd'\n",
       "\\item 'observed\\_otus'\n",
       "\\item 'shannon'\n",
       "\\item 'pielou\\_e'\n",
       "\\end{enumerate*}\n"
      ],
      "text/markdown": [
       "1. 'SampleName'\n",
       "2. 'BarcodeSequence'\n",
       "3. 'LinkerPrimerSequence'\n",
       "4. 'Experiment_Design_Description'\n",
       "5. 'Library_Construction_Protocol'\n",
       "6. 'Linker'\n",
       "7. 'Platform'\n",
       "8. 'Center_Name'\n",
       "9. 'Center_Project'\n",
       "10. 'Instrument_Model'\n",
       "11. 'Title'\n",
       "12. 'Anonymized_Name'\n",
       "13. 'Scientific_Name'\n",
       "14. 'Taxon_ID'\n",
       "15. 'Sample_Type'\n",
       "16. 'Geo_Loc_Name'\n",
       "17. 'Elevation'\n",
       "18. 'Env_Biome'\n",
       "19. 'Env_Feature'\n",
       "20. 'Env_Material'\n",
       "21. 'Env_Package'\n",
       "22. 'Latitude'\n",
       "23. 'Longitude'\n",
       "24. 'Collection_Timestamp'\n",
       "25. 'DNA_Extracted'\n",
       "26. 'Physical_Specimen_Location'\n",
       "27. 'Physical_Specimen_Remaining'\n",
       "28. 'Age'\n",
       "29. 'Age_Units'\n",
       "30. 'Host_Subject_ID'\n",
       "31. 'Host_Taxid'\n",
       "32. 'Host_Scientific_Name'\n",
       "33. 'Host_Common_Name'\n",
       "34. 'Life_Stage'\n",
       "35. 'Sex'\n",
       "36. 'Height'\n",
       "37. 'Height_Units'\n",
       "38. 'Weight'\n",
       "39. 'Weight_Units'\n",
       "40. 'BMI'\n",
       "41. 'Body_Habitat'\n",
       "42. 'Body_Site'\n",
       "43. 'Body_Product'\n",
       "44. 'GIERACE'\n",
       "45. 'SITE'\n",
       "46. 'AMAMPT'\n",
       "47. 'AMPHIT'\n",
       "48. 'AMFVT'\n",
       "49. 'MIDATA'\n",
       "50. 'V4DATE'\n",
       "51. 'GIMSTAT'\n",
       "52. 'MHDIAB'\n",
       "53. 'MHRHEU1'\n",
       "54. 'MHOA'\n",
       "55. 'MHCHF'\n",
       "56. 'MHMI'\n",
       "57. 'MHDEPR'\n",
       "58. 'MHDEPRT'\n",
       "59. 'TUDRAMT_REVISED'\n",
       "60. 'PQPSLMED'\n",
       "61. 'PQPSQUAL'\n",
       "62. 'PASCORE'\n",
       "63. 'QLCOMP'\n",
       "64. 'SLSLPHRS'\n",
       "65. 'SLEEPHRS'\n",
       "66. 'PQPEFFCY'\n",
       "67. 'PQPEFFIC'\n",
       "68. 'PQPSQI'\n",
       "69. 'PQBADSLP'\n",
       "70. 'TURSMOKE'\n",
       "71. 'M1ADEPR'\n",
       "72. 'M1BENZO'\n",
       "73. 'AMAMPT_C1'\n",
       "74. 'AMFVT_C1'\n",
       "75. 'AMPHIT_15SD'\n",
       "76. 'Description'\n",
       "77. 'alpha_pd'\n",
       "78. 'observed_otus'\n",
       "79. 'shannon'\n",
       "80. 'pielou_e'\n",
       "\n",
       "\n"
      ],
      "text/plain": [
       " [1] \"SampleName\"                    \"BarcodeSequence\"              \n",
       " [3] \"LinkerPrimerSequence\"          \"Experiment_Design_Description\"\n",
       " [5] \"Library_Construction_Protocol\" \"Linker\"                       \n",
       " [7] \"Platform\"                      \"Center_Name\"                  \n",
       " [9] \"Center_Project\"                \"Instrument_Model\"             \n",
       "[11] \"Title\"                         \"Anonymized_Name\"              \n",
       "[13] \"Scientific_Name\"               \"Taxon_ID\"                     \n",
       "[15] \"Sample_Type\"                   \"Geo_Loc_Name\"                 \n",
       "[17] \"Elevation\"                     \"Env_Biome\"                    \n",
       "[19] \"Env_Feature\"                   \"Env_Material\"                 \n",
       "[21] \"Env_Package\"                   \"Latitude\"                     \n",
       "[23] \"Longitude\"                     \"Collection_Timestamp\"         \n",
       "[25] \"DNA_Extracted\"                 \"Physical_Specimen_Location\"   \n",
       "[27] \"Physical_Specimen_Remaining\"   \"Age\"                          \n",
       "[29] \"Age_Units\"                     \"Host_Subject_ID\"              \n",
       "[31] \"Host_Taxid\"                    \"Host_Scientific_Name\"         \n",
       "[33] \"Host_Common_Name\"              \"Life_Stage\"                   \n",
       "[35] \"Sex\"                           \"Height\"                       \n",
       "[37] \"Height_Units\"                  \"Weight\"                       \n",
       "[39] \"Weight_Units\"                  \"BMI\"                          \n",
       "[41] \"Body_Habitat\"                  \"Body_Site\"                    \n",
       "[43] \"Body_Product\"                  \"GIERACE\"                      \n",
       "[45] \"SITE\"                          \"AMAMPT\"                       \n",
       "[47] \"AMPHIT\"                        \"AMFVT\"                        \n",
       "[49] \"MIDATA\"                        \"V4DATE\"                       \n",
       "[51] \"GIMSTAT\"                       \"MHDIAB\"                       \n",
       "[53] \"MHRHEU1\"                       \"MHOA\"                         \n",
       "[55] \"MHCHF\"                         \"MHMI\"                         \n",
       "[57] \"MHDEPR\"                        \"MHDEPRT\"                      \n",
       "[59] \"TUDRAMT_REVISED\"               \"PQPSLMED\"                     \n",
       "[61] \"PQPSQUAL\"                      \"PASCORE\"                      \n",
       "[63] \"QLCOMP\"                        \"SLSLPHRS\"                     \n",
       "[65] \"SLEEPHRS\"                      \"PQPEFFCY\"                     \n",
       "[67] \"PQPEFFIC\"                      \"PQPSQI\"                       \n",
       "[69] \"PQBADSLP\"                      \"TURSMOKE\"                     \n",
       "[71] \"M1ADEPR\"                       \"M1BENZO\"                      \n",
       "[73] \"AMAMPT_C1\"                     \"AMFVT_C1\"                     \n",
       "[75] \"AMPHIT_15SD\"                   \"Description\"                  \n",
       "[77] \"alpha_pd\"                      \"observed_otus\"                \n",
       "[79] \"shannon\"                       \"pielou_e\"                     "
      ]
     },
     "metadata": {},
     "output_type": "display_data"
    }
   ],
   "source": [
    "names(mf)"
   ]
  },
  {
   "cell_type": "code",
   "execution_count": 6,
   "metadata": {},
   "outputs": [],
   "source": [
    "# correlated variables are not selected, such as the same variable yet one categorical and one continuous\n",
    "# for example, choose categorical not continuous: 'AMAMPT_C1', 'AMFVT_C1', 'AMPHIT_15SD', 'PQBADSLP', 'PQPEFFIC'\n",
    "\n",
    "# convert categorial to factors\n",
    "vars_cat = c('GIERACE', 'SITE', 'GIMSTAT', 'MHDIAB', 'MHRHEU1', 'MHOA', 'MHCHF', 'MHMI', 'MHDEPR', \n",
    "             'TUDRAMT_REVISED', 'PQPSLMED', 'PQPSQUAL', 'QLCOMP', 'SLEEPHRS', 'PQBADSLP', \n",
    "             'TURSMOKE', 'M1ADEPR', 'M1BENZO', 'PQPEFFIC', 'AMAMPT_C1', 'AMFVT_C1', 'AMPHIT_15SD')\n",
    "mf[vars_cat] = lapply(mf[vars_cat], factor)\n",
    "\n",
    "# # convert continuous to numeric\n",
    "vars_cts = c('Age', 'BMI', 'PASCORE', 'alpha_pd')\n",
    "mf[vars_cts] = lapply(mf[vars_cts], as.numeric)"
   ]
  },
  {
   "cell_type": "code",
   "execution_count": 7,
   "metadata": {},
   "outputs": [
    {
     "data": {
      "text/html": [
       "22"
      ],
      "text/latex": [
       "22"
      ],
      "text/markdown": [
       "22"
      ],
      "text/plain": [
       "[1] 22"
      ]
     },
     "metadata": {},
     "output_type": "display_data"
    },
    {
     "data": {
      "text/html": [
       "4"
      ],
      "text/latex": [
       "4"
      ],
      "text/markdown": [
       "4"
      ],
      "text/plain": [
       "[1] 4"
      ]
     },
     "metadata": {},
     "output_type": "display_data"
    }
   ],
   "source": [
    "length(vars_cat)\n",
    "length(vars_cts)"
   ]
  },
  {
   "cell_type": "code",
   "execution_count": 8,
   "metadata": {},
   "outputs": [
    {
     "data": {
      "text/html": [
       "<ol class=list-inline>\n",
       "\t<li>599</li>\n",
       "\t<li>26</li>\n",
       "</ol>\n"
      ],
      "text/latex": [
       "\\begin{enumerate*}\n",
       "\\item 599\n",
       "\\item 26\n",
       "\\end{enumerate*}\n"
      ],
      "text/markdown": [
       "1. 599\n",
       "2. 26\n",
       "\n",
       "\n"
      ],
      "text/plain": [
       "[1] 599  26"
      ]
     },
     "metadata": {},
     "output_type": "display_data"
    },
    {
     "data": {
      "text/html": [
       "<table>\n",
       "<thead><tr><th scope=col>GIERACE</th><th scope=col>SITE</th><th scope=col>GIMSTAT</th><th scope=col>MHDIAB</th><th scope=col>MHRHEU1</th><th scope=col>MHOA</th><th scope=col>MHCHF</th><th scope=col>MHMI</th><th scope=col>MHDEPR</th><th scope=col>TUDRAMT_REVISED</th><th scope=col>⋯</th><th scope=col>M1ADEPR</th><th scope=col>M1BENZO</th><th scope=col>PQPEFFIC</th><th scope=col>AMAMPT_C1</th><th scope=col>AMFVT_C1</th><th scope=col>AMPHIT_15SD</th><th scope=col>Age</th><th scope=col>BMI</th><th scope=col>PASCORE</th><th scope=col>alpha_pd</th></tr></thead>\n",
       "<tbody>\n",
       "\t<tr><td>1:WHITE                                                               </td><td>Birmingham                                                            </td><td>2: Widowed                                                            </td><td>0: No                                                                 </td><td>0: No                                                                 </td><td>0: No                                                                 </td><td>0: No                                                                 </td><td>0: No                                                                 </td><td>0: No                                                                 </td><td>1: Less than one drink per week                                       </td><td>⋯                                                                     </td><td>0: No                                                                 </td><td>0: No                                                                 </td><td><span style=white-space:pre-wrap>0:&gt;85% EFFICIENCY          </span></td><td>Missing:not collected                                                 </td><td>Missing:not collected                                                 </td><td>Missing:not collected                                                 </td><td>83                                                                    </td><td>28.89012                                                              </td><td> 91.00000                                                             </td><td>27.77117                                                              </td></tr>\n",
       "\t<tr><td>1:WHITE                                                                </td><td>Birmingham                                                             </td><td>1: Married                                                             </td><td>0: No                                                                  </td><td>1: Yes                                                                 </td><td>1: Yes                                                                 </td><td>1: Yes                                                                 </td><td>1: Yes                                                                 </td><td>0: No                                                                  </td><td><span style=white-space:pre-wrap>0:None drinker                 </span></td><td>⋯                                                                      </td><td>0: No                                                                  </td><td>0: No                                                                  </td><td><span style=white-space:pre-wrap>3:&lt;65% EFFICIENCY          </span> </td><td><span style=white-space:pre-wrap>1.0                  </span>          </td><td><span style=white-space:pre-wrap>1.0                  </span>          </td><td><span style=white-space:pre-wrap>0.0                  </span>          </td><td>81                                                                     </td><td>28.53980                                                               </td><td>199.17857                                                              </td><td>17.93266                                                               </td></tr>\n",
       "\t<tr><td>1:WHITE                                                                </td><td>Birmingham                                                             </td><td>1: Married                                                             </td><td>0: No                                                                  </td><td>0: No                                                                  </td><td>0: No                                                                  </td><td>0: No                                                                  </td><td>0: No                                                                  </td><td>0: No                                                                  </td><td><span style=white-space:pre-wrap>0:None drinker                 </span></td><td>⋯                                                                      </td><td>0: No                                                                  </td><td>0: No                                                                  </td><td><span style=white-space:pre-wrap>0:&gt;85% EFFICIENCY          </span> </td><td><span style=white-space:pre-wrap>1.0                  </span>          </td><td><span style=white-space:pre-wrap>1.0                  </span>          </td><td><span style=white-space:pre-wrap>0.0                  </span>          </td><td>83                                                                     </td><td>25.01424                                                               </td><td>161.71429                                                              </td><td>21.45366                                                               </td></tr>\n",
       "\t<tr><td>1:WHITE                                                                </td><td>Birmingham                                                             </td><td>1: Married                                                             </td><td>0: No                                                                  </td><td>0: No                                                                  </td><td>0: No                                                                  </td><td>0: No                                                                  </td><td>0: No                                                                  </td><td>0: No                                                                  </td><td><span style=white-space:pre-wrap>4: 6-13 drinks per week        </span></td><td>⋯                                                                      </td><td>0: No                                                                  </td><td>0: No                                                                  </td><td><span style=white-space:pre-wrap>0:&gt;85% EFFICIENCY          </span> </td><td><span style=white-space:pre-wrap>1.0                  </span>          </td><td><span style=white-space:pre-wrap>1.0                  </span>          </td><td><span style=white-space:pre-wrap>-1.0                 </span>          </td><td>79                                                                     </td><td>30.87637                                                               </td><td> 88.21429                                                              </td><td>18.46968                                                               </td></tr>\n",
       "\t<tr><td>1:WHITE                                                                </td><td>Birmingham                                                             </td><td>1: Married                                                             </td><td>0: No                                                                  </td><td>0: No                                                                  </td><td>1: Yes                                                                 </td><td>0: No                                                                  </td><td>0: No                                                                  </td><td>0: No                                                                  </td><td><span style=white-space:pre-wrap>3: 3-5 drinks per week         </span></td><td>⋯                                                                      </td><td>0: No                                                                  </td><td>0: No                                                                  </td><td><span style=white-space:pre-wrap>0:&gt;85% EFFICIENCY          </span> </td><td><span style=white-space:pre-wrap>1.0                  </span>          </td><td><span style=white-space:pre-wrap>0.0                  </span>          </td><td><span style=white-space:pre-wrap>-1.0                 </span>          </td><td>81                                                                     </td><td>33.58739                                                               </td><td>256.82143                                                              </td><td>20.04983                                                               </td></tr>\n",
       "\t<tr><td>1:WHITE                                                                </td><td>Birmingham                                                             </td><td>1: Married                                                             </td><td>0: No                                                                  </td><td>0: No                                                                  </td><td>0: No                                                                  </td><td>0: No                                                                  </td><td>0: No                                                                  </td><td>0: No                                                                  </td><td><span style=white-space:pre-wrap>0:None drinker                 </span></td><td>⋯                                                                      </td><td>0: No                                                                  </td><td>0: No                                                                  </td><td>1:&gt;=75% TO &lt;=85% EFFICIENCY                                      </td><td><span style=white-space:pre-wrap>1.0                  </span>          </td><td><span style=white-space:pre-wrap>1.0                  </span>          </td><td><span style=white-space:pre-wrap>0.0                  </span>          </td><td>80                                                                     </td><td>26.41523                                                               </td><td>179.57143                                                              </td><td>13.75183                                                               </td></tr>\n",
       "</tbody>\n",
       "</table>\n"
      ],
      "text/latex": [
       "\\begin{tabular}{r|llllllllllllllllllllllllll}\n",
       " GIERACE & SITE & GIMSTAT & MHDIAB & MHRHEU1 & MHOA & MHCHF & MHMI & MHDEPR & TUDRAMT\\_REVISED & ⋯ & M1ADEPR & M1BENZO & PQPEFFIC & AMAMPT\\_C1 & AMFVT\\_C1 & AMPHIT\\_15SD & Age & BMI & PASCORE & alpha\\_pd\\\\\n",
       "\\hline\n",
       "\t 1:WHITE                         & Birmingham                      & 2: Widowed                      & 0: No                           & 0: No                           & 0: No                           & 0: No                           & 0: No                           & 0: No                           & 1: Less than one drink per week & ⋯                               & 0: No                           & 0: No                           & 0:>85\\% EFFICIENCY             & Missing:not collected           & Missing:not collected           & Missing:not collected           & 83                              & 28.89012                        &  91.00000                       & 27.77117                       \\\\\n",
       "\t 1:WHITE                         & Birmingham                      & 1: Married                      & 0: No                           & 1: Yes                          & 1: Yes                          & 1: Yes                          & 1: Yes                          & 0: No                           & 0:None drinker                  & ⋯                               & 0: No                           & 0: No                           & 3:<65\\% EFFICIENCY             & 1.0                             & 1.0                             & 0.0                             & 81                              & 28.53980                        & 199.17857                       & 17.93266                       \\\\\n",
       "\t 1:WHITE                         & Birmingham                      & 1: Married                      & 0: No                           & 0: No                           & 0: No                           & 0: No                           & 0: No                           & 0: No                           & 0:None drinker                  & ⋯                               & 0: No                           & 0: No                           & 0:>85\\% EFFICIENCY             & 1.0                             & 1.0                             & 0.0                             & 83                              & 25.01424                        & 161.71429                       & 21.45366                       \\\\\n",
       "\t 1:WHITE                         & Birmingham                      & 1: Married                      & 0: No                           & 0: No                           & 0: No                           & 0: No                           & 0: No                           & 0: No                           & 4: 6-13 drinks per week         & ⋯                               & 0: No                           & 0: No                           & 0:>85\\% EFFICIENCY             & 1.0                             & 1.0                             & -1.0                            & 79                              & 30.87637                        &  88.21429                       & 18.46968                       \\\\\n",
       "\t 1:WHITE                         & Birmingham                      & 1: Married                      & 0: No                           & 0: No                           & 1: Yes                          & 0: No                           & 0: No                           & 0: No                           & 3: 3-5 drinks per week          & ⋯                               & 0: No                           & 0: No                           & 0:>85\\% EFFICIENCY             & 1.0                             & 0.0                             & -1.0                            & 81                              & 33.58739                        & 256.82143                       & 20.04983                       \\\\\n",
       "\t 1:WHITE                         & Birmingham                      & 1: Married                      & 0: No                           & 0: No                           & 0: No                           & 0: No                           & 0: No                           & 0: No                           & 0:None drinker                  & ⋯                               & 0: No                           & 0: No                           & 1:>=75\\% TO <=85\\% EFFICIENCY & 1.0                             & 1.0                             & 0.0                             & 80                              & 26.41523                        & 179.57143                       & 13.75183                       \\\\\n",
       "\\end{tabular}\n"
      ],
      "text/markdown": [
       "\n",
       "GIERACE | SITE | GIMSTAT | MHDIAB | MHRHEU1 | MHOA | MHCHF | MHMI | MHDEPR | TUDRAMT_REVISED | ⋯ | M1ADEPR | M1BENZO | PQPEFFIC | AMAMPT_C1 | AMFVT_C1 | AMPHIT_15SD | Age | BMI | PASCORE | alpha_pd | \n",
       "|---|---|---|---|---|---|\n",
       "| 1:WHITE                         | Birmingham                      | 2: Widowed                      | 0: No                           | 0: No                           | 0: No                           | 0: No                           | 0: No                           | 0: No                           | 1: Less than one drink per week | ⋯                               | 0: No                           | 0: No                           | 0:>85% EFFICIENCY               | Missing:not collected           | Missing:not collected           | Missing:not collected           | 83                              | 28.89012                        |  91.00000                       | 27.77117                        | \n",
       "| 1:WHITE                         | Birmingham                      | 1: Married                      | 0: No                           | 1: Yes                          | 1: Yes                          | 1: Yes                          | 1: Yes                          | 0: No                           | 0:None drinker                  | ⋯                               | 0: No                           | 0: No                           | 3:<65% EFFICIENCY               | 1.0                             | 1.0                             | 0.0                             | 81                              | 28.53980                        | 199.17857                       | 17.93266                        | \n",
       "| 1:WHITE                         | Birmingham                      | 1: Married                      | 0: No                           | 0: No                           | 0: No                           | 0: No                           | 0: No                           | 0: No                           | 0:None drinker                  | ⋯                               | 0: No                           | 0: No                           | 0:>85% EFFICIENCY               | 1.0                             | 1.0                             | 0.0                             | 83                              | 25.01424                        | 161.71429                       | 21.45366                        | \n",
       "| 1:WHITE                         | Birmingham                      | 1: Married                      | 0: No                           | 0: No                           | 0: No                           | 0: No                           | 0: No                           | 0: No                           | 4: 6-13 drinks per week         | ⋯                               | 0: No                           | 0: No                           | 0:>85% EFFICIENCY               | 1.0                             | 1.0                             | -1.0                            | 79                              | 30.87637                        |  88.21429                       | 18.46968                        | \n",
       "| 1:WHITE                         | Birmingham                      | 1: Married                      | 0: No                           | 0: No                           | 1: Yes                          | 0: No                           | 0: No                           | 0: No                           | 3: 3-5 drinks per week          | ⋯                               | 0: No                           | 0: No                           | 0:>85% EFFICIENCY               | 1.0                             | 0.0                             | -1.0                            | 81                              | 33.58739                        | 256.82143                       | 20.04983                        | \n",
       "| 1:WHITE                         | Birmingham                      | 1: Married                      | 0: No                           | 0: No                           | 0: No                           | 0: No                           | 0: No                           | 0: No                           | 0:None drinker                  | ⋯                               | 0: No                           | 0: No                           | 1:>=75% TO <=85% EFFICIENCY     | 1.0                             | 1.0                             | 0.0                             | 80                              | 26.41523                        | 179.57143                       | 13.75183                        | \n",
       "\n",
       "\n"
      ],
      "text/plain": [
       "  GIERACE SITE       GIMSTAT    MHDIAB MHRHEU1 MHOA   MHCHF  MHMI   MHDEPR\n",
       "1 1:WHITE Birmingham 2: Widowed 0: No  0: No   0: No  0: No  0: No  0: No \n",
       "2 1:WHITE Birmingham 1: Married 0: No  1: Yes  1: Yes 1: Yes 1: Yes 0: No \n",
       "3 1:WHITE Birmingham 1: Married 0: No  0: No   0: No  0: No  0: No  0: No \n",
       "4 1:WHITE Birmingham 1: Married 0: No  0: No   0: No  0: No  0: No  0: No \n",
       "5 1:WHITE Birmingham 1: Married 0: No  0: No   1: Yes 0: No  0: No  0: No \n",
       "6 1:WHITE Birmingham 1: Married 0: No  0: No   0: No  0: No  0: No  0: No \n",
       "  TUDRAMT_REVISED                 ⋯ M1ADEPR M1BENZO PQPEFFIC                   \n",
       "1 1: Less than one drink per week ⋯ 0: No   0: No   0:>85% EFFICIENCY          \n",
       "2 0:None drinker                  ⋯ 0: No   0: No   3:<65% EFFICIENCY          \n",
       "3 0:None drinker                  ⋯ 0: No   0: No   0:>85% EFFICIENCY          \n",
       "4 4: 6-13 drinks per week         ⋯ 0: No   0: No   0:>85% EFFICIENCY          \n",
       "5 3: 3-5 drinks per week          ⋯ 0: No   0: No   0:>85% EFFICIENCY          \n",
       "6 0:None drinker                  ⋯ 0: No   0: No   1:>=75% TO <=85% EFFICIENCY\n",
       "  AMAMPT_C1             AMFVT_C1              AMPHIT_15SD           Age\n",
       "1 Missing:not collected Missing:not collected Missing:not collected 83 \n",
       "2 1.0                   1.0                   0.0                   81 \n",
       "3 1.0                   1.0                   0.0                   83 \n",
       "4 1.0                   1.0                   -1.0                  79 \n",
       "5 1.0                   0.0                   -1.0                  81 \n",
       "6 1.0                   1.0                   0.0                   80 \n",
       "  BMI      PASCORE   alpha_pd\n",
       "1 28.89012  91.00000 27.77117\n",
       "2 28.53980 199.17857 17.93266\n",
       "3 25.01424 161.71429 21.45366\n",
       "4 30.87637  88.21429 18.46968\n",
       "5 33.58739 256.82143 20.04983\n",
       "6 26.41523 179.57143 13.75183"
      ]
     },
     "metadata": {},
     "output_type": "display_data"
    }
   ],
   "source": [
    "dat = mf[c(vars_cat, vars_cts)]\n",
    "dim(dat)\n",
    "head(dat)"
   ]
  },
  {
   "cell_type": "code",
   "execution_count": 9,
   "metadata": {},
   "outputs": [
    {
     "data": {
      "text/plain": [
       "               GIERACE             SITE                         GIMSTAT   \n",
       " 1:WHITE           :520   Birmingham : 75   1: Married              :428  \n",
       " 2:AFRICAN AMERICAN: 24   Minneapolis: 91   2: Widowed              :120  \n",
       " 3:ASIAN           : 34   Palo Alto  : 86   4: Divorced             : 35  \n",
       " 4:HISPANIC        : 12   Pittsburgh : 92   5: Single, never married: 16  \n",
       " 5:OTHER           :  9   Portland   :121                                 \n",
       "                          San Diego  :134                                 \n",
       "                                                                          \n",
       "    MHDIAB      MHRHEU1        MHOA        MHCHF         MHMI        MHDEPR   \n",
       " 0: No :508   0: No :552   0: No :450   0: No :550   0: No :520   0: No :542  \n",
       " 1: Yes: 91   1: Yes: 47   1: Yes:149   1: Yes: 49   1: Yes: 79   1: Yes: 57  \n",
       "                                                                              \n",
       "                                                                              \n",
       "                                                                              \n",
       "                                                                              \n",
       "                                                                              \n",
       "                        TUDRAMT_REVISED                          PQPSLMED  \n",
       " .                              :  2    0: Not during the past month :454  \n",
       " 0:None drinker                 :230    1: Less than once a week     : 40  \n",
       " 1: Less than one drink per week: 78    2: Once or twice a week      : 23  \n",
       " 2: 1-2drinks per week          : 66    3: Three or more times a week: 82  \n",
       " 3: 3-5 drinks per week         : 90                                       \n",
       " 4: 6-13 drinks per week        :106                                       \n",
       " 5: 14 or more drinks per week  : 27                                       \n",
       "           PQPSQUAL                QLCOMP                     SLEEPHRS  \n",
       " 0: Very good  :208   0:PR/VPOOR/FAIR : 66   1: <=6 HRS           :153  \n",
       " 1: Fairly good:337   1:GOOD/EXCELLENT:533   2: 7 HRS             :143  \n",
       " 2: Fairly bad : 50                          3:>=8 HRS            :128  \n",
       " 3: Very bad   :  4                          Missing:not collected:175  \n",
       "                                                                        \n",
       "                                                                        \n",
       "                                                                        \n",
       "   PQBADSLP               TURSMOKE     M1ADEPR      M1BENZO   \n",
       " 0: No :359   0:NO            :230   0: No :546   0: No :580  \n",
       " 1: Yes:240   1:PAST          :289   1: Yes: 53   1: Yes: 19  \n",
       "              2:CURRENT       :  9                            \n",
       "              M:Not Applicable: 71                            \n",
       "                                                              \n",
       "                                                              \n",
       "                                                              \n",
       "                        PQPEFFIC                   AMAMPT_C1  \n",
       " 0:>85% EFFICIENCY          :374   0.0                  :139  \n",
       " 1:>=75% TO <=85% EFFICIENCY:132   1.0                  :279  \n",
       " 2:>=65% TO <75% EFFICIENCY : 55   Missing:not collected:181  \n",
       " 3:<65% EFFICIENCY          : 36                              \n",
       " W:Weird Value              :  2                              \n",
       "                                                              \n",
       "                                                              \n",
       "                  AMFVT_C1                  AMPHIT_15SD       Age       \n",
       " 0.0                  :139   -1.0                 : 28   Min.   :78.00  \n",
       " 1.0                  :279   0.0                  :371   1st Qu.:81.00  \n",
       " Missing:not collected:181   1.0                  : 19   Median :83.00  \n",
       "                             Missing:not collected:181   Mean   :84.24  \n",
       "                                                         3rd Qu.:87.00  \n",
       "                                                         Max.   :98.00  \n",
       "                                                                        \n",
       "      BMI           PASCORE          alpha_pd    \n",
       " Min.   :17.60   Min.   :  0.00   Min.   : 3.90  \n",
       " 1st Qu.:24.51   1st Qu.: 70.14   1st Qu.:16.32  \n",
       " Median :26.72   Median :116.75   Median :20.25  \n",
       " Mean   :27.01   Mean   :122.48   Mean   :21.09  \n",
       " 3rd Qu.:28.98   3rd Qu.:165.79   3rd Qu.:25.87  \n",
       " Max.   :42.93   Max.   :359.14   Max.   :44.03  \n",
       "                                                 "
      ]
     },
     "metadata": {},
     "output_type": "display_data"
    }
   ],
   "source": [
    "summary(dat)"
   ]
  },
  {
   "cell_type": "code",
   "execution_count": 10,
   "metadata": {},
   "outputs": [
    {
     "name": "stdout",
     "output_type": "stream",
     "text": [
      "[1] 599  26\n"
     ]
    },
    {
     "data": {
      "text/html": [
       "<ol class=list-inline>\n",
       "\t<li>599</li>\n",
       "\t<li>25</li>\n",
       "</ol>\n"
      ],
      "text/latex": [
       "\\begin{enumerate*}\n",
       "\\item 599\n",
       "\\item 25\n",
       "\\end{enumerate*}\n"
      ],
      "text/markdown": [
       "1. 599\n",
       "2. 25\n",
       "\n",
       "\n"
      ],
      "text/plain": [
       "[1] 599  25"
      ]
     },
     "metadata": {},
     "output_type": "display_data"
    }
   ],
   "source": [
    "dat = dat[complete.cases(dat), ]\n",
    "print(dim(dat))\n",
    "alpha = dat$alpha_pd\n",
    "dat = dat[, -which(names(dat) %in% 'alpha_pd')]\n",
    "dim(dat)"
   ]
  },
  {
   "cell_type": "code",
   "execution_count": 11,
   "metadata": {},
   "outputs": [],
   "source": [
    "mod0 <- rda(alpha ~ 1., dat)  # Model with intercept only\n",
    "mod1 <- rda(alpha ~ ., dat)  # Model with all explanatory variables"
   ]
  },
  {
   "cell_type": "code",
   "execution_count": 12,
   "metadata": {
    "scrolled": true
   },
   "outputs": [
    {
     "name": "stdout",
     "output_type": "stream",
     "text": [
      "Step: R2.adj= 0 \n",
      "Call: alpha ~ 1 \n",
      " \n",
      "                    R2.adjusted\n",
      "<All variables>    0.0760813638\n",
      "+ MHDIAB           0.0282094594\n",
      "+ GIERACE          0.0186947251\n",
      "+ SITE             0.0165868860\n",
      "+ PQBADSLP         0.0129516906\n",
      "+ TUDRAMT_REVISED  0.0114233656\n",
      "+ M1ADEPR          0.0090012065\n",
      "+ M1BENZO          0.0053595118\n",
      "+ PQPSQUAL         0.0051267187\n",
      "+ BMI              0.0048169669\n",
      "+ AMPHIT_15SD      0.0037344622\n",
      "+ GIMSTAT          0.0037162637\n",
      "+ PASCORE          0.0036274312\n",
      "+ PQPEFFIC         0.0022141982\n",
      "+ QLCOMP           0.0020128693\n",
      "+ SLEEPHRS         0.0015793774\n",
      "+ Age              0.0008848537\n",
      "+ MHDEPR           0.0006627175\n",
      "+ AMFVT_C1         0.0002148739\n",
      "<none>             0.0000000000\n",
      "+ MHRHEU1         -0.0008302351\n",
      "+ MHOA            -0.0010655942\n",
      "+ MHMI            -0.0014456000\n",
      "+ MHCHF           -0.0015798390\n",
      "+ TURSMOKE        -0.0023219533\n",
      "+ AMAMPT_C1       -0.0031391180\n",
      "+ PQPSLMED        -0.0036370345\n",
      "\n",
      "         Df    AIC      F Pr(>F)   \n",
      "+ MHDIAB  1 2203.7 18.359  0.002 **\n",
      "---\n",
      "Signif. codes:  0 ‘***’ 0.001 ‘**’ 0.01 ‘*’ 0.05 ‘.’ 0.1 ‘ ’ 1\n",
      "\n",
      "Step: R2.adj= 0.02820946 \n",
      "Call: alpha ~ MHDIAB \n",
      " \n",
      "                  R2.adjusted\n",
      "<All variables>    0.07608136\n",
      "+ GIERACE          0.04439227\n",
      "+ SITE             0.04119957\n",
      "+ PQBADSLP         0.03844714\n",
      "+ M1ADEPR          0.03672705\n",
      "+ TUDRAMT_REVISED  0.03564563\n",
      "+ M1BENZO          0.03353812\n",
      "+ GIMSTAT          0.03252754\n",
      "+ PQPSQUAL         0.03249203\n",
      "+ BMI              0.03119490\n",
      "+ SLEEPHRS         0.02994674\n",
      "+ PASCORE          0.02943333\n",
      "+ AMPHIT_15SD      0.02936808\n",
      "+ MHDEPR           0.02857924\n",
      "+ Age              0.02834714\n",
      "<none>             0.02820946\n",
      "+ MHRHEU1          0.02784054\n",
      "+ MHOA             0.02745668\n",
      "+ PQPEFFIC         0.02740906\n",
      "+ QLCOMP           0.02736083\n",
      "+ MHCHF            0.02726513\n",
      "+ MHMI             0.02707666\n",
      "+ TURSMOKE         0.02632886\n",
      "+ AMFVT_C1         0.02606173\n",
      "+ AMAMPT_C1        0.02496084\n",
      "+ PQPSLMED         0.02417394\n",
      "\n",
      "          Df    AIC      F Pr(>F)   \n",
      "+ GIERACE  4 2197.6 3.5275  0.006 **\n",
      "---\n",
      "Signif. codes:  0 ‘***’ 0.001 ‘**’ 0.01 ‘*’ 0.05 ‘.’ 0.1 ‘ ’ 1\n",
      "\n",
      "Step: R2.adj= 0.04439227 \n",
      "Call: alpha ~ MHDIAB + GIERACE \n",
      " \n",
      "                  R2.adjusted\n",
      "<All variables>    0.07608136\n",
      "+ SITE             0.05514210\n",
      "+ M1ADEPR          0.05456050\n",
      "+ PQBADSLP         0.05365537\n",
      "+ BMI              0.05161178\n",
      "+ M1BENZO          0.05072938\n",
      "+ TUDRAMT_REVISED  0.04949346\n",
      "+ GIMSTAT          0.04834596\n",
      "+ PQPSQUAL         0.04816596\n",
      "+ AMPHIT_15SD      0.04801717\n",
      "+ SLEEPHRS         0.04676441\n",
      "+ PASCORE          0.04621041\n",
      "+ MHDEPR           0.04620800\n",
      "+ MHRHEU1          0.04485090\n",
      "+ Age              0.04455889\n",
      "<none>             0.04439227\n",
      "+ TURSMOKE         0.04399971\n",
      "+ MHOA             0.04376376\n",
      "+ QLCOMP           0.04362318\n",
      "+ PQPEFFIC         0.04328843\n",
      "+ AMFVT_C1         0.04317170\n",
      "+ MHCHF            0.04304573\n",
      "+ MHMI             0.04296215\n",
      "+ AMAMPT_C1        0.04118184\n",
      "+ PQPSLMED         0.04037284\n",
      "\n",
      "       Df    AIC      F Pr(>F)  \n",
      "+ SITE  5 2195.8 2.3493  0.048 *\n",
      "---\n",
      "Signif. codes:  0 ‘***’ 0.001 ‘**’ 0.01 ‘*’ 0.05 ‘.’ 0.1 ‘ ’ 1\n",
      "\n",
      "Step: R2.adj= 0.0551421 \n",
      "Call: alpha ~ MHDIAB + GIERACE + SITE \n",
      " \n",
      "                  R2.adjusted\n",
      "<All variables>    0.07608136\n",
      "+ M1ADEPR          0.06599851\n",
      "+ PQBADSLP         0.06263353\n",
      "+ BMI              0.06176321\n",
      "+ M1BENZO          0.05952313\n",
      "+ PASCORE          0.05858824\n",
      "+ AMPHIT_15SD      0.05849408\n",
      "+ PQPSQUAL         0.05818497\n",
      "+ TUDRAMT_REVISED  0.05771413\n",
      "+ MHDEPR           0.05715191\n",
      "+ GIMSTAT          0.05687568\n",
      "+ SLEEPHRS         0.05649066\n",
      "+ TURSMOKE         0.05527186\n",
      "<none>             0.05514210\n",
      "+ Age              0.05513813\n",
      "+ MHRHEU1          0.05507076\n",
      "+ AMFVT_C1         0.05481609\n",
      "+ QLCOMP           0.05407783\n",
      "+ MHOA             0.05395967\n",
      "+ MHMI             0.05390475\n",
      "+ MHCHF            0.05390100\n",
      "+ PQPEFFIC         0.05362827\n",
      "+ AMAMPT_C1        0.05205997\n",
      "+ PQPSLMED         0.05117331\n",
      "\n",
      "          Df    AIC      F Pr(>F)   \n",
      "+ M1ADEPR  1 2189.8 7.8346  0.002 **\n",
      "---\n",
      "Signif. codes:  0 ‘***’ 0.001 ‘**’ 0.01 ‘*’ 0.05 ‘.’ 0.1 ‘ ’ 1\n",
      "\n",
      "Step: R2.adj= 0.06599851 \n",
      "Call: alpha ~ MHDIAB + GIERACE + SITE + M1ADEPR \n",
      " \n",
      "                  R2.adjusted\n",
      "<All variables>    0.07608136\n",
      "+ BMI              0.07331497\n",
      "+ PQBADSLP         0.07132607\n",
      "+ GIMSTAT          0.06902224\n",
      "+ AMPHIT_15SD      0.06885504\n",
      "+ PQPSQUAL         0.06879732\n",
      "+ PASCORE          0.06876086\n",
      "+ M1BENZO          0.06786602\n",
      "+ SLEEPHRS         0.06770006\n",
      "+ TUDRAMT_REVISED  0.06732186\n",
      "+ MHRHEU1          0.06645508\n",
      "+ Age              0.06621992\n",
      "<none>             0.06599851\n",
      "+ TURSMOKE         0.06569524\n",
      "+ MHOA             0.06510682\n",
      "+ AMFVT_C1         0.06505693\n",
      "+ MHMI             0.06500362\n",
      "+ MHCHF            0.06485944\n",
      "+ QLCOMP           0.06481770\n",
      "+ MHDEPR           0.06440469\n",
      "+ PQPEFFIC         0.06371569\n",
      "+ AMAMPT_C1        0.06304169\n",
      "+ PQPSLMED         0.06173111\n",
      "\n",
      "      Df    AIC      F Pr(>F)  \n",
      "+ BMI  1 2186.1 5.6345  0.016 *\n",
      "---\n",
      "Signif. codes:  0 ‘***’ 0.001 ‘**’ 0.01 ‘*’ 0.05 ‘.’ 0.1 ‘ ’ 1\n",
      "\n",
      "Step: R2.adj= 0.07331497 \n",
      "Call: alpha ~ MHDIAB + GIERACE + SITE + M1ADEPR + BMI \n",
      " \n",
      "                  R2.adjusted\n",
      "+ PQBADSLP         0.07799165\n",
      "+ PQPSQUAL         0.07662928\n",
      "<All variables>    0.07608136\n",
      "+ GIMSTAT          0.07604873\n",
      "+ SLEEPHRS         0.07589423\n",
      "+ TUDRAMT_REVISED  0.07503094\n",
      "+ PASCORE          0.07491148\n",
      "+ AMPHIT_15SD      0.07487380\n",
      "+ M1BENZO          0.07472000\n",
      "+ MHRHEU1          0.07349546\n",
      "<none>             0.07331497\n",
      "+ Age              0.07266294\n",
      "+ MHCHF            0.07240960\n",
      "+ MHMI             0.07233349\n",
      "+ AMFVT_C1         0.07207541\n",
      "+ MHOA             0.07203544\n",
      "+ QLCOMP           0.07196398\n",
      "+ TURSMOKE         0.07192741\n",
      "+ MHDEPR           0.07173336\n",
      "+ PQPEFFIC         0.07135606\n",
      "+ AMAMPT_C1        0.07025243\n",
      "+ PQPSLMED         0.06904975\n",
      "\n"
     ]
    }
   ],
   "source": [
    "step.res <- ordiR2step(mod0, mod1, perm.max = 1000)"
   ]
  },
  {
   "cell_type": "code",
   "execution_count": 13,
   "metadata": {},
   "outputs": [
    {
     "data": {
      "text/html": [
       "<table>\n",
       "<thead><tr><th></th><th scope=col>R2.adj</th><th scope=col>Df</th><th scope=col>AIC</th><th scope=col>F</th><th scope=col>Pr(&gt;F)</th></tr></thead>\n",
       "<tbody>\n",
       "\t<tr><th scope=row>+ MHDIAB</th><td>0.02820946</td><td> 1        </td><td>2203.715  </td><td>18.358943 </td><td>0.002     </td></tr>\n",
       "\t<tr><th scope=row>+ GIERACE</th><td>0.04439227</td><td> 4        </td><td>2197.629  </td><td> 3.527485 </td><td>0.006     </td></tr>\n",
       "\t<tr><th scope=row>+ SITE</th><td>0.05514210</td><td> 5        </td><td>2195.780  </td><td> 2.349336 </td><td>0.048     </td></tr>\n",
       "\t<tr><th scope=row>+ M1ADEPR</th><td>0.06599851</td><td> 1        </td><td>2189.838  </td><td> 7.834645 </td><td>0.002     </td></tr>\n",
       "\t<tr><th scope=row>+ BMI</th><td>0.07331497</td><td> 1        </td><td>2186.106  </td><td> 5.634544 </td><td>0.016     </td></tr>\n",
       "\t<tr><th scope=row>&lt;All variables&gt;</th><td>0.07608136</td><td>NA        </td><td>      NA  </td><td>       NA </td><td>   NA     </td></tr>\n",
       "</tbody>\n",
       "</table>\n"
      ],
      "text/latex": [
       "\\begin{tabular}{r|lllll}\n",
       "  & R2.adj & Df & AIC & F & Pr(>F)\\\\\n",
       "\\hline\n",
       "\t+ MHDIAB & 0.02820946 &  1         & 2203.715   & 18.358943  & 0.002     \\\\\n",
       "\t+ GIERACE & 0.04439227 &  4         & 2197.629   &  3.527485  & 0.006     \\\\\n",
       "\t+ SITE & 0.05514210 &  5         & 2195.780   &  2.349336  & 0.048     \\\\\n",
       "\t+ M1ADEPR & 0.06599851 &  1         & 2189.838   &  7.834645  & 0.002     \\\\\n",
       "\t+ BMI & 0.07331497 &  1         & 2186.106   &  5.634544  & 0.016     \\\\\n",
       "\t<All variables> & 0.07608136 & NA         &       NA   &        NA  &    NA     \\\\\n",
       "\\end{tabular}\n"
      ],
      "text/markdown": [
       "\n",
       "| <!--/--> | R2.adj | Df | AIC | F | Pr(>F) | \n",
       "|---|---|---|---|---|---|\n",
       "| + MHDIAB | 0.02820946 |  1         | 2203.715   | 18.358943  | 0.002      | \n",
       "| + GIERACE | 0.04439227 |  4         | 2197.629   |  3.527485  | 0.006      | \n",
       "| + SITE | 0.05514210 |  5         | 2195.780   |  2.349336  | 0.048      | \n",
       "| + M1ADEPR | 0.06599851 |  1         | 2189.838   |  7.834645  | 0.002      | \n",
       "| + BMI | 0.07331497 |  1         | 2186.106   |  5.634544  | 0.016      | \n",
       "| <All variables> | 0.07608136 | NA         |       NA   |        NA  |    NA      | \n",
       "\n",
       "\n"
      ],
      "text/plain": [
       "                R2.adj     Df AIC      F         Pr(>F)\n",
       "+ MHDIAB        0.02820946  1 2203.715 18.358943 0.002 \n",
       "+ GIERACE       0.04439227  4 2197.629  3.527485 0.006 \n",
       "+ SITE          0.05514210  5 2195.780  2.349336 0.048 \n",
       "+ M1ADEPR       0.06599851  1 2189.838  7.834645 0.002 \n",
       "+ BMI           0.07331497  1 2186.106  5.634544 0.016 \n",
       "<All variables> 0.07608136 NA       NA        NA    NA "
      ]
     },
     "metadata": {},
     "output_type": "display_data"
    }
   ],
   "source": [
    "table = step.res$anova\n",
    "table"
   ]
  },
  {
   "cell_type": "code",
   "execution_count": 14,
   "metadata": {},
   "outputs": [],
   "source": [
    "table$ES.RDA = c(table$R2.adj[1], table$R2.adj[2]-table$R2.adj[1], \n",
    "                       table$R2.adj[3]-table$R2.adj[2], table$R2.adj[4]-table$R2.adj[3],\n",
    "                       table$R2.adj[5]-table$R2.adj[4], table$R2.adj[6]-table$R2.adj[5])\n",
    "table = table[-6, ]"
   ]
  },
  {
   "cell_type": "code",
   "execution_count": 15,
   "metadata": {},
   "outputs": [
    {
     "data": {
      "text/plain": [
       "rda(formula = alpha ~ MHDIAB + GIERACE + SITE + M1ADEPR + BMI, \n",
       "    data = dat)"
      ]
     },
     "metadata": {},
     "output_type": "display_data"
    }
   ],
   "source": [
    "step.res$call"
   ]
  },
  {
   "cell_type": "code",
   "execution_count": 16,
   "metadata": {
    "scrolled": true
   },
   "outputs": [
    {
     "data": {
      "text/html": [
       "<table>\n",
       "<thead><tr><th></th><th scope=col>R2.adj</th><th scope=col>Df</th><th scope=col>AIC</th><th scope=col>F</th><th scope=col>Pr(&gt;F)</th><th scope=col>ES.RDA</th></tr></thead>\n",
       "<tbody>\n",
       "\t<tr><th scope=row>+ MHDIAB</th><td>0.02820946 </td><td>1          </td><td>2203.715   </td><td>18.358943  </td><td>0.002      </td><td>0.028209459</td></tr>\n",
       "\t<tr><th scope=row>+ GIERACE</th><td>0.04439227 </td><td>4          </td><td>2197.629   </td><td> 3.527485  </td><td>0.006      </td><td>0.016182807</td></tr>\n",
       "\t<tr><th scope=row>+ SITE</th><td>0.05514210 </td><td>5          </td><td>2195.780   </td><td> 2.349336  </td><td>0.048      </td><td>0.010749839</td></tr>\n",
       "\t<tr><th scope=row>+ M1ADEPR</th><td>0.06599851 </td><td>1          </td><td>2189.838   </td><td> 7.834645  </td><td>0.002      </td><td>0.010856409</td></tr>\n",
       "\t<tr><th scope=row>+ BMI</th><td>0.07331497 </td><td>1          </td><td>2186.106   </td><td> 5.634544  </td><td>0.016      </td><td>0.007316461</td></tr>\n",
       "</tbody>\n",
       "</table>\n"
      ],
      "text/latex": [
       "\\begin{tabular}{r|llllll}\n",
       "  & R2.adj & Df & AIC & F & Pr(>F) & ES.RDA\\\\\n",
       "\\hline\n",
       "\t+ MHDIAB & 0.02820946  & 1           & 2203.715    & 18.358943   & 0.002       & 0.028209459\\\\\n",
       "\t+ GIERACE & 0.04439227  & 4           & 2197.629    &  3.527485   & 0.006       & 0.016182807\\\\\n",
       "\t+ SITE & 0.05514210  & 5           & 2195.780    &  2.349336   & 0.048       & 0.010749839\\\\\n",
       "\t+ M1ADEPR & 0.06599851  & 1           & 2189.838    &  7.834645   & 0.002       & 0.010856409\\\\\n",
       "\t+ BMI & 0.07331497  & 1           & 2186.106    &  5.634544   & 0.016       & 0.007316461\\\\\n",
       "\\end{tabular}\n"
      ],
      "text/markdown": [
       "\n",
       "| <!--/--> | R2.adj | Df | AIC | F | Pr(>F) | ES.RDA | \n",
       "|---|---|---|---|---|\n",
       "| + MHDIAB | 0.02820946  | 1           | 2203.715    | 18.358943   | 0.002       | 0.028209459 | \n",
       "| + GIERACE | 0.04439227  | 4           | 2197.629    |  3.527485   | 0.006       | 0.016182807 | \n",
       "| + SITE | 0.05514210  | 5           | 2195.780    |  2.349336   | 0.048       | 0.010749839 | \n",
       "| + M1ADEPR | 0.06599851  | 1           | 2189.838    |  7.834645   | 0.002       | 0.010856409 | \n",
       "| + BMI | 0.07331497  | 1           | 2186.106    |  5.634544   | 0.016       | 0.007316461 | \n",
       "\n",
       "\n"
      ],
      "text/plain": [
       "          R2.adj     Df AIC      F         Pr(>F) ES.RDA     \n",
       "+ MHDIAB  0.02820946 1  2203.715 18.358943 0.002  0.028209459\n",
       "+ GIERACE 0.04439227 4  2197.629  3.527485 0.006  0.016182807\n",
       "+ SITE    0.05514210 5  2195.780  2.349336 0.048  0.010749839\n",
       "+ M1ADEPR 0.06599851 1  2189.838  7.834645 0.002  0.010856409\n",
       "+ BMI     0.07331497 1  2186.106  5.634544 0.016  0.007316461"
      ]
     },
     "metadata": {},
     "output_type": "display_data"
    }
   ],
   "source": [
    "table"
   ]
  },
  {
   "cell_type": "code",
   "execution_count": 17,
   "metadata": {},
   "outputs": [],
   "source": [
    "rownames(table) = c('Diabetes', 'Race', 'Site', 'Antidepressant Use', 'BMI')"
   ]
  },
  {
   "cell_type": "code",
   "execution_count": 18,
   "metadata": {},
   "outputs": [
    {
     "data": {},
     "metadata": {},
     "output_type": "display_data"
    },
    {
     "data": {
      "text/html": [
       "<strong>pdf:</strong> 2"
      ],
      "text/latex": [
       "\\textbf{pdf:} 2"
      ],
      "text/markdown": [
       "**pdf:** 2"
      ],
      "text/plain": [
       "pdf \n",
       "  2 "
      ]
     },
     "metadata": {},
     "output_type": "display_data"
    }
   ],
   "source": [
    "library(ggplot2)\n",
    "pdf('../figures/RDA_PD_alpha.pdf')\n",
    "covariates = rownames(table)\n",
    "ggplot(table, aes(x=reorder(covariates, ES.RDA), y=ES.RDA, fill=covariates)) +\n",
    "  labs(x = 'Non-redundant Covariants', y = 'Effect Size (PD Alpha Diversity)') +\n",
    "  geom_bar(stat='identity') +\n",
    " theme(axis.text=element_text(size=10), \n",
    "       axis.title=element_text(size=14,face=\"bold\"), \n",
    "       legend.position=\"none\") + \n",
    "  coord_flip()\n",
    "dev.off()"
   ]
  },
  {
   "cell_type": "code",
   "execution_count": null,
   "metadata": {},
   "outputs": [],
   "source": []
  }
 ],
 "metadata": {
  "kernelspec": {
   "display_name": "R",
   "language": "R",
   "name": "ir"
  },
  "language_info": {
   "codemirror_mode": "r",
   "file_extension": ".r",
   "mimetype": "text/x-r-source",
   "name": "R",
   "pygments_lexer": "r",
   "version": "3.5.0"
  }
 },
 "nbformat": 4,
 "nbformat_minor": 2
}

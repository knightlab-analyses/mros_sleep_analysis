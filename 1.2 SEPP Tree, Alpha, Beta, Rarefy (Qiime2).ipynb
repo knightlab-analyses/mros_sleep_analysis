{
 "cells": [
  {
   "cell_type": "markdown",
   "metadata": {},
   "source": [
    "#### This notebook is to use Qiime2-2018.2 environment to construct phylogenetic tree, assign taxonomy, rarefaction, calculate alpha and beta diversities and generate PCoA plots"
   ]
  },
  {
   "cell_type": "code",
   "execution_count": null,
   "metadata": {},
   "outputs": [],
   "source": [
    "# compute alpha and beta diversity (include emperor plot for beta diversity)\n",
    "Qm qiime diversity core-metrics-phylogenetic \\\n",
    "  --i-phylogeny insertion-tree.qza \\\n",
    "  --i-table mros_deblur_otus_unrare.qza \\\n",
    "  --p-sampling-depth 5807 \\\n",
    "  --m-metadata-file mapping_sleep_alpha.txt \\\n",
    "  --output-dir sleep-core-metrics-results\n",
    "    \n",
    "# export    \n",
    "Qm qiime tools export \\\n",
    "  sleep-core-metrics-results/faith_pd_vector.qza \\\n",
    "  --output-dir sleep-alpha_PD\n",
    "\n",
    "Qm qiime tools export \\\n",
    "  sleep-core-metrics-results/shannon_vector.qza \\\n",
    "  --output-dir sleep-alpha_Shannon\n",
    "\n",
    "Qm qiime tools export \\\n",
    "  sleep-core-metrics-results/observed_otus_vector.qza \\\n",
    "  --output-dir sleep-alpha_ObsOTU\n",
    "\n",
    "Qm qiime tools export \\\n",
    "  sleep-core-metrics-results/evenness_vector.qza \\\n",
    "  --output-dir sleep-alpha_Evenness"
   ]
  },
  {
   "cell_type": "code",
   "execution_count": null,
   "metadata": {},
   "outputs": [],
   "source": [
    "# taxonomy\n",
    "Qm qiime taxa barplot \\\n",
    "--i-table mros_deblur_otus_unrare.qza \\\n",
    "--i-taxonomy taxonomy.qza \\\n",
    "--m-metadata-file mapping_sleep_alpha.txt \\\n",
    "--o-visualization taxonomy_sleep_barplot.qzv "
   ]
  },
  {
   "cell_type": "code",
   "execution_count": null,
   "metadata": {},
   "outputs": [],
   "source": [
    "# ancom (no significant features detected)\n",
    "Qm qiime taxa collapse \\\n",
    "  --i-table mros_deblur_otus_unrare.qza\\\n",
    "  --i-taxonomy taxonomy.qza \\\n",
    "  --p-level 6 \\\n",
    "  --o-collapsed-table sleep-table-l6.qza\n",
    "\n",
    "Qm qiime composition add-pseudocount \\\n",
    "  --i-table sleep-table-l6.qza \\\n",
    "  --o-composition-table comp-sleep-table-l6.qza\n",
    "\n",
    "Qm qiime composition ancom \\\n",
    "  --i-table comp-sleep-table-l6.qza \\\n",
    "  --m-metadata-file mapping_sleep_alpha.txt \\\n",
    "  --m-metadata-column PQBADSLP \\\n",
    "  --o-visualization l6-ancom-sleep-PQBADSLP.qzv"
   ]
  }
 ],
 "metadata": {
  "kernelspec": {
   "display_name": "Python 3",
   "language": "python",
   "name": "python3"
  },
  "language_info": {
   "codemirror_mode": {
    "name": "ipython",
    "version": 3
   },
   "file_extension": ".py",
   "mimetype": "text/x-python",
   "name": "python",
   "nbconvert_exporter": "python",
   "pygments_lexer": "ipython3",
   "version": "3.5.5"
  }
 },
 "nbformat": 4,
 "nbformat_minor": 2
}

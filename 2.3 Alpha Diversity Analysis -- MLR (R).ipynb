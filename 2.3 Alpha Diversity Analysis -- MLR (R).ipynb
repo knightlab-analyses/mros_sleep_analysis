{
 "cells": [
  {
   "cell_type": "markdown",
   "metadata": {},
   "source": [
    "#### This notebook is to perform Multiple Linear Regression"
   ]
  },
  {
   "cell_type": "code",
   "execution_count": 10,
   "metadata": {},
   "outputs": [],
   "source": [
    "data = read.csv('../data/mapping_sleep_alpha.txt', stringsAsFactors=FALSE, sep='\\t')\n",
    "data$Age_78 = data$Age - min(data$Age)"
   ]
  },
  {
   "cell_type": "code",
   "execution_count": 11,
   "metadata": {},
   "outputs": [
    {
     "data": {
      "text/html": [
       "<table>\n",
       "<thead><tr><th scope=col>X.SampleID</th><th scope=col>BarcodeSequence</th><th scope=col>LinkerPrimerSequence</th><th scope=col>Experiment_Design_Description</th><th scope=col>Library_Construction_Protocol</th><th scope=col>Linker</th><th scope=col>Platform</th><th scope=col>Center_Name</th><th scope=col>Center_Project</th><th scope=col>Instrument_Model</th><th scope=col>⋯</th><th scope=col>M1BENZO</th><th scope=col>AMAMPT_C1</th><th scope=col>AMFVT_C1</th><th scope=col>AMPHIT_15SD</th><th scope=col>Description</th><th scope=col>alpha_pd</th><th scope=col>observed_otus</th><th scope=col>shannon</th><th scope=col>pielou_e</th><th scope=col>Age_78</th></tr></thead>\n",
       "<tbody>\n",
       "\t<tr><td>BI0023                                              </td><td>TCTGGTGACATT                                        </td><td>GGACTACHVGGGTWTCTAAT                                </td><td>16S stool samples sequenced for MrOS Vitamin D study</td><td>16S rRNA v4                                         </td><td>GT                                                  </td><td>Illumina                                            </td><td>BI                                                  </td><td>MrOS                                                </td><td>Illumina MiSeq                                      </td><td>⋯                                                   </td><td>0: No                                               </td><td>Missing:not collected                               </td><td>Missing:not collected                               </td><td>Missing:not collected                               </td><td>Orwoll.BI0023.BI                                    </td><td>27.77117                                            </td><td>302                                                 </td><td>5.727116                                            </td><td>0.6951729                                           </td><td>5                                                   </td></tr>\n",
       "\t<tr><td>BI0056                                              </td><td>CAAGCATGCCTA                                        </td><td>GGACTACHVGGGTWTCTAAT                                </td><td>16S stool samples sequenced for MrOS Vitamin D study</td><td>16S rRNA v4                                         </td><td>GT                                                  </td><td>Illumina                                            </td><td>BI                                                  </td><td>MrOS                                                </td><td>Illumina MiSeq                                      </td><td>⋯                                                   </td><td>0: No                                               </td><td>1.0                                                 </td><td>1.0                                                 </td><td>0.0                                                 </td><td>Orwoll.BI0056.BI                                    </td><td>17.93266                                            </td><td>173                                                 </td><td>3.888281                                            </td><td>0.5229960                                           </td><td>3                                                   </td></tr>\n",
       "\t<tr><td>BI0131                                              </td><td>CTATTTGCGACA                                        </td><td>GGACTACHVGGGTWTCTAAT                                </td><td>16S stool samples sequenced for MrOS Vitamin D study</td><td>16S rRNA v4                                         </td><td>GT                                                  </td><td>Illumina                                            </td><td>BI                                                  </td><td>MrOS                                                </td><td>Illumina MiSeq                                      </td><td>⋯                                                   </td><td>0: No                                               </td><td>1.0                                                 </td><td>1.0                                                 </td><td>0.0                                                 </td><td>Orwoll.BI0131.BI                                    </td><td>21.45366                                            </td><td>223                                                 </td><td>4.050730                                            </td><td>0.5192645                                           </td><td>5                                                   </td></tr>\n",
       "\t<tr><td>BI0153                                              </td><td>ATCGGCGTTACA                                        </td><td>GGACTACHVGGGTWTCTAAT                                </td><td>16S stool samples sequenced for MrOS Vitamin D study</td><td>16S rRNA v4                                         </td><td>GT                                                  </td><td>Illumina                                            </td><td>BI                                                  </td><td>MrOS                                                </td><td>Illumina MiSeq                                      </td><td>⋯                                                   </td><td>0: No                                               </td><td>1.0                                                 </td><td>1.0                                                 </td><td>-1.0                                                </td><td>Orwoll.BI0153.BI                                    </td><td>18.46968                                            </td><td>223                                                 </td><td>4.894253                                            </td><td>0.6273959                                           </td><td>1                                                   </td></tr>\n",
       "\t<tr><td>BI0215                                              </td><td>CCTCTCGTGATC                                        </td><td>GGACTACHVGGGTWTCTAAT                                </td><td>16S stool samples sequenced for MrOS Vitamin D study</td><td>16S rRNA v4                                         </td><td>GT                                                  </td><td>Illumina                                            </td><td>BI                                                  </td><td>MrOS                                                </td><td>Illumina MiSeq                                      </td><td>⋯                                                   </td><td>0: No                                               </td><td>1.0                                                 </td><td>0.0                                                 </td><td>-1.0                                                </td><td>Orwoll.BI0215.BI                                    </td><td>20.04983                                            </td><td>222                                                 </td><td>5.295055                                            </td><td>0.6793396                                           </td><td>3                                                   </td></tr>\n",
       "\t<tr><td>BI0353                                              </td><td>TGCCATCTGAAT                                        </td><td>GGACTACHVGGGTWTCTAAT                                </td><td>16S stool samples sequenced for MrOS Vitamin D study</td><td>16S rRNA v4                                         </td><td>GT                                                  </td><td>Illumina                                            </td><td>BI                                                  </td><td>MrOS                                                </td><td>Illumina MiSeq                                      </td><td>⋯                                                   </td><td>0: No                                               </td><td>1.0                                                 </td><td>1.0                                                 </td><td>0.0                                                 </td><td>Orwoll.BI0353.BI                                    </td><td>13.75183                                            </td><td>155                                                 </td><td>4.213016                                            </td><td>0.5790192                                           </td><td>2                                                   </td></tr>\n",
       "</tbody>\n",
       "</table>\n"
      ],
      "text/latex": [
       "\\begin{tabular}{r|lllllllllllllllllllllllllllllllllllllllllllllllllllllllllllllllllllllllllllllllll}\n",
       " X.SampleID & BarcodeSequence & LinkerPrimerSequence & Experiment\\_Design\\_Description & Library\\_Construction\\_Protocol & Linker & Platform & Center\\_Name & Center\\_Project & Instrument\\_Model & ⋯ & M1BENZO & AMAMPT\\_C1 & AMFVT\\_C1 & AMPHIT\\_15SD & Description & alpha\\_pd & observed\\_otus & shannon & pielou\\_e & Age\\_78\\\\\n",
       "\\hline\n",
       "\t BI0023                                               & TCTGGTGACATT                                         & GGACTACHVGGGTWTCTAAT                                 & 16S stool samples sequenced for MrOS Vitamin D study & 16S rRNA v4                                          & GT                                                   & Illumina                                             & BI                                                   & MrOS                                                 & Illumina MiSeq                                       & ⋯                                                    & 0: No                                                & Missing:not collected                                & Missing:not collected                                & Missing:not collected                                & Orwoll.BI0023.BI                                     & 27.77117                                             & 302                                                  & 5.727116                                             & 0.6951729                                            & 5                                                   \\\\\n",
       "\t BI0056                                               & CAAGCATGCCTA                                         & GGACTACHVGGGTWTCTAAT                                 & 16S stool samples sequenced for MrOS Vitamin D study & 16S rRNA v4                                          & GT                                                   & Illumina                                             & BI                                                   & MrOS                                                 & Illumina MiSeq                                       & ⋯                                                    & 0: No                                                & 1.0                                                  & 1.0                                                  & 0.0                                                  & Orwoll.BI0056.BI                                     & 17.93266                                             & 173                                                  & 3.888281                                             & 0.5229960                                            & 3                                                   \\\\\n",
       "\t BI0131                                               & CTATTTGCGACA                                         & GGACTACHVGGGTWTCTAAT                                 & 16S stool samples sequenced for MrOS Vitamin D study & 16S rRNA v4                                          & GT                                                   & Illumina                                             & BI                                                   & MrOS                                                 & Illumina MiSeq                                       & ⋯                                                    & 0: No                                                & 1.0                                                  & 1.0                                                  & 0.0                                                  & Orwoll.BI0131.BI                                     & 21.45366                                             & 223                                                  & 4.050730                                             & 0.5192645                                            & 5                                                   \\\\\n",
       "\t BI0153                                               & ATCGGCGTTACA                                         & GGACTACHVGGGTWTCTAAT                                 & 16S stool samples sequenced for MrOS Vitamin D study & 16S rRNA v4                                          & GT                                                   & Illumina                                             & BI                                                   & MrOS                                                 & Illumina MiSeq                                       & ⋯                                                    & 0: No                                                & 1.0                                                  & 1.0                                                  & -1.0                                                 & Orwoll.BI0153.BI                                     & 18.46968                                             & 223                                                  & 4.894253                                             & 0.6273959                                            & 1                                                   \\\\\n",
       "\t BI0215                                               & CCTCTCGTGATC                                         & GGACTACHVGGGTWTCTAAT                                 & 16S stool samples sequenced for MrOS Vitamin D study & 16S rRNA v4                                          & GT                                                   & Illumina                                             & BI                                                   & MrOS                                                 & Illumina MiSeq                                       & ⋯                                                    & 0: No                                                & 1.0                                                  & 0.0                                                  & -1.0                                                 & Orwoll.BI0215.BI                                     & 20.04983                                             & 222                                                  & 5.295055                                             & 0.6793396                                            & 3                                                   \\\\\n",
       "\t BI0353                                               & TGCCATCTGAAT                                         & GGACTACHVGGGTWTCTAAT                                 & 16S stool samples sequenced for MrOS Vitamin D study & 16S rRNA v4                                          & GT                                                   & Illumina                                             & BI                                                   & MrOS                                                 & Illumina MiSeq                                       & ⋯                                                    & 0: No                                                & 1.0                                                  & 1.0                                                  & 0.0                                                  & Orwoll.BI0353.BI                                     & 13.75183                                             & 155                                                  & 4.213016                                             & 0.5790192                                            & 2                                                   \\\\\n",
       "\\end{tabular}\n"
      ],
      "text/markdown": [
       "\n",
       "X.SampleID | BarcodeSequence | LinkerPrimerSequence | Experiment_Design_Description | Library_Construction_Protocol | Linker | Platform | Center_Name | Center_Project | Instrument_Model | ⋯ | M1BENZO | AMAMPT_C1 | AMFVT_C1 | AMPHIT_15SD | Description | alpha_pd | observed_otus | shannon | pielou_e | Age_78 | \n",
       "|---|---|---|---|---|---|\n",
       "| BI0023                                               | TCTGGTGACATT                                         | GGACTACHVGGGTWTCTAAT                                 | 16S stool samples sequenced for MrOS Vitamin D study | 16S rRNA v4                                          | GT                                                   | Illumina                                             | BI                                                   | MrOS                                                 | Illumina MiSeq                                       | ⋯                                                    | 0: No                                                | Missing:not collected                                | Missing:not collected                                | Missing:not collected                                | Orwoll.BI0023.BI                                     | 27.77117                                             | 302                                                  | 5.727116                                             | 0.6951729                                            | 5                                                    | \n",
       "| BI0056                                               | CAAGCATGCCTA                                         | GGACTACHVGGGTWTCTAAT                                 | 16S stool samples sequenced for MrOS Vitamin D study | 16S rRNA v4                                          | GT                                                   | Illumina                                             | BI                                                   | MrOS                                                 | Illumina MiSeq                                       | ⋯                                                    | 0: No                                                | 1.0                                                  | 1.0                                                  | 0.0                                                  | Orwoll.BI0056.BI                                     | 17.93266                                             | 173                                                  | 3.888281                                             | 0.5229960                                            | 3                                                    | \n",
       "| BI0131                                               | CTATTTGCGACA                                         | GGACTACHVGGGTWTCTAAT                                 | 16S stool samples sequenced for MrOS Vitamin D study | 16S rRNA v4                                          | GT                                                   | Illumina                                             | BI                                                   | MrOS                                                 | Illumina MiSeq                                       | ⋯                                                    | 0: No                                                | 1.0                                                  | 1.0                                                  | 0.0                                                  | Orwoll.BI0131.BI                                     | 21.45366                                             | 223                                                  | 4.050730                                             | 0.5192645                                            | 5                                                    | \n",
       "| BI0153                                               | ATCGGCGTTACA                                         | GGACTACHVGGGTWTCTAAT                                 | 16S stool samples sequenced for MrOS Vitamin D study | 16S rRNA v4                                          | GT                                                   | Illumina                                             | BI                                                   | MrOS                                                 | Illumina MiSeq                                       | ⋯                                                    | 0: No                                                | 1.0                                                  | 1.0                                                  | -1.0                                                 | Orwoll.BI0153.BI                                     | 18.46968                                             | 223                                                  | 4.894253                                             | 0.6273959                                            | 1                                                    | \n",
       "| BI0215                                               | CCTCTCGTGATC                                         | GGACTACHVGGGTWTCTAAT                                 | 16S stool samples sequenced for MrOS Vitamin D study | 16S rRNA v4                                          | GT                                                   | Illumina                                             | BI                                                   | MrOS                                                 | Illumina MiSeq                                       | ⋯                                                    | 0: No                                                | 1.0                                                  | 0.0                                                  | -1.0                                                 | Orwoll.BI0215.BI                                     | 20.04983                                             | 222                                                  | 5.295055                                             | 0.6793396                                            | 3                                                    | \n",
       "| BI0353                                               | TGCCATCTGAAT                                         | GGACTACHVGGGTWTCTAAT                                 | 16S stool samples sequenced for MrOS Vitamin D study | 16S rRNA v4                                          | GT                                                   | Illumina                                             | BI                                                   | MrOS                                                 | Illumina MiSeq                                       | ⋯                                                    | 0: No                                                | 1.0                                                  | 1.0                                                  | 0.0                                                  | Orwoll.BI0353.BI                                     | 13.75183                                             | 155                                                  | 4.213016                                             | 0.5790192                                            | 2                                                    | \n",
       "\n",
       "\n"
      ],
      "text/plain": [
       "  X.SampleID BarcodeSequence LinkerPrimerSequence\n",
       "1 BI0023     TCTGGTGACATT    GGACTACHVGGGTWTCTAAT\n",
       "2 BI0056     CAAGCATGCCTA    GGACTACHVGGGTWTCTAAT\n",
       "3 BI0131     CTATTTGCGACA    GGACTACHVGGGTWTCTAAT\n",
       "4 BI0153     ATCGGCGTTACA    GGACTACHVGGGTWTCTAAT\n",
       "5 BI0215     CCTCTCGTGATC    GGACTACHVGGGTWTCTAAT\n",
       "6 BI0353     TGCCATCTGAAT    GGACTACHVGGGTWTCTAAT\n",
       "  Experiment_Design_Description                       \n",
       "1 16S stool samples sequenced for MrOS Vitamin D study\n",
       "2 16S stool samples sequenced for MrOS Vitamin D study\n",
       "3 16S stool samples sequenced for MrOS Vitamin D study\n",
       "4 16S stool samples sequenced for MrOS Vitamin D study\n",
       "5 16S stool samples sequenced for MrOS Vitamin D study\n",
       "6 16S stool samples sequenced for MrOS Vitamin D study\n",
       "  Library_Construction_Protocol Linker Platform Center_Name Center_Project\n",
       "1 16S rRNA v4                   GT     Illumina BI          MrOS          \n",
       "2 16S rRNA v4                   GT     Illumina BI          MrOS          \n",
       "3 16S rRNA v4                   GT     Illumina BI          MrOS          \n",
       "4 16S rRNA v4                   GT     Illumina BI          MrOS          \n",
       "5 16S rRNA v4                   GT     Illumina BI          MrOS          \n",
       "6 16S rRNA v4                   GT     Illumina BI          MrOS          \n",
       "  Instrument_Model ⋯ M1BENZO AMAMPT_C1             AMFVT_C1             \n",
       "1 Illumina MiSeq   ⋯ 0: No   Missing:not collected Missing:not collected\n",
       "2 Illumina MiSeq   ⋯ 0: No   1.0                   1.0                  \n",
       "3 Illumina MiSeq   ⋯ 0: No   1.0                   1.0                  \n",
       "4 Illumina MiSeq   ⋯ 0: No   1.0                   1.0                  \n",
       "5 Illumina MiSeq   ⋯ 0: No   1.0                   0.0                  \n",
       "6 Illumina MiSeq   ⋯ 0: No   1.0                   1.0                  \n",
       "  AMPHIT_15SD           Description      alpha_pd observed_otus shannon \n",
       "1 Missing:not collected Orwoll.BI0023.BI 27.77117 302           5.727116\n",
       "2 0.0                   Orwoll.BI0056.BI 17.93266 173           3.888281\n",
       "3 0.0                   Orwoll.BI0131.BI 21.45366 223           4.050730\n",
       "4 -1.0                  Orwoll.BI0153.BI 18.46968 223           4.894253\n",
       "5 -1.0                  Orwoll.BI0215.BI 20.04983 222           5.295055\n",
       "6 0.0                   Orwoll.BI0353.BI 13.75183 155           4.213016\n",
       "  pielou_e  Age_78\n",
       "1 0.6951729 5     \n",
       "2 0.5229960 3     \n",
       "3 0.5192645 5     \n",
       "4 0.6273959 1     \n",
       "5 0.6793396 3     \n",
       "6 0.5790192 2     "
      ]
     },
     "metadata": {},
     "output_type": "display_data"
    }
   ],
   "source": [
    "head(data)"
   ]
  },
  {
   "cell_type": "code",
   "execution_count": 12,
   "metadata": {},
   "outputs": [
    {
     "data": {
      "text/html": [
       "<ol class=list-inline>\n",
       "\t<li>'X.SampleID'</li>\n",
       "\t<li>'BarcodeSequence'</li>\n",
       "\t<li>'LinkerPrimerSequence'</li>\n",
       "\t<li>'Experiment_Design_Description'</li>\n",
       "\t<li>'Library_Construction_Protocol'</li>\n",
       "\t<li>'Linker'</li>\n",
       "\t<li>'Platform'</li>\n",
       "\t<li>'Center_Name'</li>\n",
       "\t<li>'Center_Project'</li>\n",
       "\t<li>'Instrument_Model'</li>\n",
       "\t<li>'Title'</li>\n",
       "\t<li>'Anonymized_Name'</li>\n",
       "\t<li>'Scientific_Name'</li>\n",
       "\t<li>'Taxon_ID'</li>\n",
       "\t<li>'Sample_Type'</li>\n",
       "\t<li>'Geo_Loc_Name'</li>\n",
       "\t<li>'Elevation'</li>\n",
       "\t<li>'Env_Biome'</li>\n",
       "\t<li>'Env_Feature'</li>\n",
       "\t<li>'Env_Material'</li>\n",
       "\t<li>'Env_Package'</li>\n",
       "\t<li>'Latitude'</li>\n",
       "\t<li>'Longitude'</li>\n",
       "\t<li>'Collection_Timestamp'</li>\n",
       "\t<li>'DNA_Extracted'</li>\n",
       "\t<li>'Physical_Specimen_Location'</li>\n",
       "\t<li>'Physical_Specimen_Remaining'</li>\n",
       "\t<li>'Age'</li>\n",
       "\t<li>'Age_Units'</li>\n",
       "\t<li>'Host_Subject_ID'</li>\n",
       "\t<li>'Host_Taxid'</li>\n",
       "\t<li>'Host_Scientific_Name'</li>\n",
       "\t<li>'Host_Common_Name'</li>\n",
       "\t<li>'Life_Stage'</li>\n",
       "\t<li>'Sex'</li>\n",
       "\t<li>'Height'</li>\n",
       "\t<li>'Height_Units'</li>\n",
       "\t<li>'Weight'</li>\n",
       "\t<li>'Weight_Units'</li>\n",
       "\t<li>'BMI'</li>\n",
       "\t<li>'Body_Habitat'</li>\n",
       "\t<li>'Body_Site'</li>\n",
       "\t<li>'Body_Product'</li>\n",
       "\t<li>'GIERACE'</li>\n",
       "\t<li>'SITE'</li>\n",
       "\t<li>'AMAMPT'</li>\n",
       "\t<li>'AMPHIT'</li>\n",
       "\t<li>'AMFVT'</li>\n",
       "\t<li>'MIDATA'</li>\n",
       "\t<li>'V4DATE'</li>\n",
       "\t<li>'GIMSTAT'</li>\n",
       "\t<li>'MHDIAB'</li>\n",
       "\t<li>'MHRHEU1'</li>\n",
       "\t<li>'MHOA'</li>\n",
       "\t<li>'MHCHF'</li>\n",
       "\t<li>'MHMI'</li>\n",
       "\t<li>'MHDEPR'</li>\n",
       "\t<li>'MHDEPRT'</li>\n",
       "\t<li>'TUDRAMT_REVISED'</li>\n",
       "\t<li>'PQPSLMED'</li>\n",
       "\t<li>'PQPSQUAL'</li>\n",
       "\t<li>'PASCORE'</li>\n",
       "\t<li>'QLCOMP'</li>\n",
       "\t<li>'SLSLPHRS'</li>\n",
       "\t<li>'SLEEPHRS'</li>\n",
       "\t<li>'PQPEFFCY'</li>\n",
       "\t<li>'PQPEFFIC'</li>\n",
       "\t<li>'PQPSQI'</li>\n",
       "\t<li>'PQBADSLP'</li>\n",
       "\t<li>'TURSMOKE'</li>\n",
       "\t<li>'M1ADEPR'</li>\n",
       "\t<li>'M1BENZO'</li>\n",
       "\t<li>'AMAMPT_C1'</li>\n",
       "\t<li>'AMFVT_C1'</li>\n",
       "\t<li>'AMPHIT_15SD'</li>\n",
       "\t<li>'Description'</li>\n",
       "\t<li>'alpha_pd'</li>\n",
       "\t<li>'observed_otus'</li>\n",
       "\t<li>'shannon'</li>\n",
       "\t<li>'pielou_e'</li>\n",
       "\t<li>'Age_78'</li>\n",
       "</ol>\n"
      ],
      "text/latex": [
       "\\begin{enumerate*}\n",
       "\\item 'X.SampleID'\n",
       "\\item 'BarcodeSequence'\n",
       "\\item 'LinkerPrimerSequence'\n",
       "\\item 'Experiment\\_Design\\_Description'\n",
       "\\item 'Library\\_Construction\\_Protocol'\n",
       "\\item 'Linker'\n",
       "\\item 'Platform'\n",
       "\\item 'Center\\_Name'\n",
       "\\item 'Center\\_Project'\n",
       "\\item 'Instrument\\_Model'\n",
       "\\item 'Title'\n",
       "\\item 'Anonymized\\_Name'\n",
       "\\item 'Scientific\\_Name'\n",
       "\\item 'Taxon\\_ID'\n",
       "\\item 'Sample\\_Type'\n",
       "\\item 'Geo\\_Loc\\_Name'\n",
       "\\item 'Elevation'\n",
       "\\item 'Env\\_Biome'\n",
       "\\item 'Env\\_Feature'\n",
       "\\item 'Env\\_Material'\n",
       "\\item 'Env\\_Package'\n",
       "\\item 'Latitude'\n",
       "\\item 'Longitude'\n",
       "\\item 'Collection\\_Timestamp'\n",
       "\\item 'DNA\\_Extracted'\n",
       "\\item 'Physical\\_Specimen\\_Location'\n",
       "\\item 'Physical\\_Specimen\\_Remaining'\n",
       "\\item 'Age'\n",
       "\\item 'Age\\_Units'\n",
       "\\item 'Host\\_Subject\\_ID'\n",
       "\\item 'Host\\_Taxid'\n",
       "\\item 'Host\\_Scientific\\_Name'\n",
       "\\item 'Host\\_Common\\_Name'\n",
       "\\item 'Life\\_Stage'\n",
       "\\item 'Sex'\n",
       "\\item 'Height'\n",
       "\\item 'Height\\_Units'\n",
       "\\item 'Weight'\n",
       "\\item 'Weight\\_Units'\n",
       "\\item 'BMI'\n",
       "\\item 'Body\\_Habitat'\n",
       "\\item 'Body\\_Site'\n",
       "\\item 'Body\\_Product'\n",
       "\\item 'GIERACE'\n",
       "\\item 'SITE'\n",
       "\\item 'AMAMPT'\n",
       "\\item 'AMPHIT'\n",
       "\\item 'AMFVT'\n",
       "\\item 'MIDATA'\n",
       "\\item 'V4DATE'\n",
       "\\item 'GIMSTAT'\n",
       "\\item 'MHDIAB'\n",
       "\\item 'MHRHEU1'\n",
       "\\item 'MHOA'\n",
       "\\item 'MHCHF'\n",
       "\\item 'MHMI'\n",
       "\\item 'MHDEPR'\n",
       "\\item 'MHDEPRT'\n",
       "\\item 'TUDRAMT\\_REVISED'\n",
       "\\item 'PQPSLMED'\n",
       "\\item 'PQPSQUAL'\n",
       "\\item 'PASCORE'\n",
       "\\item 'QLCOMP'\n",
       "\\item 'SLSLPHRS'\n",
       "\\item 'SLEEPHRS'\n",
       "\\item 'PQPEFFCY'\n",
       "\\item 'PQPEFFIC'\n",
       "\\item 'PQPSQI'\n",
       "\\item 'PQBADSLP'\n",
       "\\item 'TURSMOKE'\n",
       "\\item 'M1ADEPR'\n",
       "\\item 'M1BENZO'\n",
       "\\item 'AMAMPT\\_C1'\n",
       "\\item 'AMFVT\\_C1'\n",
       "\\item 'AMPHIT\\_15SD'\n",
       "\\item 'Description'\n",
       "\\item 'alpha\\_pd'\n",
       "\\item 'observed\\_otus'\n",
       "\\item 'shannon'\n",
       "\\item 'pielou\\_e'\n",
       "\\item 'Age\\_78'\n",
       "\\end{enumerate*}\n"
      ],
      "text/markdown": [
       "1. 'X.SampleID'\n",
       "2. 'BarcodeSequence'\n",
       "3. 'LinkerPrimerSequence'\n",
       "4. 'Experiment_Design_Description'\n",
       "5. 'Library_Construction_Protocol'\n",
       "6. 'Linker'\n",
       "7. 'Platform'\n",
       "8. 'Center_Name'\n",
       "9. 'Center_Project'\n",
       "10. 'Instrument_Model'\n",
       "11. 'Title'\n",
       "12. 'Anonymized_Name'\n",
       "13. 'Scientific_Name'\n",
       "14. 'Taxon_ID'\n",
       "15. 'Sample_Type'\n",
       "16. 'Geo_Loc_Name'\n",
       "17. 'Elevation'\n",
       "18. 'Env_Biome'\n",
       "19. 'Env_Feature'\n",
       "20. 'Env_Material'\n",
       "21. 'Env_Package'\n",
       "22. 'Latitude'\n",
       "23. 'Longitude'\n",
       "24. 'Collection_Timestamp'\n",
       "25. 'DNA_Extracted'\n",
       "26. 'Physical_Specimen_Location'\n",
       "27. 'Physical_Specimen_Remaining'\n",
       "28. 'Age'\n",
       "29. 'Age_Units'\n",
       "30. 'Host_Subject_ID'\n",
       "31. 'Host_Taxid'\n",
       "32. 'Host_Scientific_Name'\n",
       "33. 'Host_Common_Name'\n",
       "34. 'Life_Stage'\n",
       "35. 'Sex'\n",
       "36. 'Height'\n",
       "37. 'Height_Units'\n",
       "38. 'Weight'\n",
       "39. 'Weight_Units'\n",
       "40. 'BMI'\n",
       "41. 'Body_Habitat'\n",
       "42. 'Body_Site'\n",
       "43. 'Body_Product'\n",
       "44. 'GIERACE'\n",
       "45. 'SITE'\n",
       "46. 'AMAMPT'\n",
       "47. 'AMPHIT'\n",
       "48. 'AMFVT'\n",
       "49. 'MIDATA'\n",
       "50. 'V4DATE'\n",
       "51. 'GIMSTAT'\n",
       "52. 'MHDIAB'\n",
       "53. 'MHRHEU1'\n",
       "54. 'MHOA'\n",
       "55. 'MHCHF'\n",
       "56. 'MHMI'\n",
       "57. 'MHDEPR'\n",
       "58. 'MHDEPRT'\n",
       "59. 'TUDRAMT_REVISED'\n",
       "60. 'PQPSLMED'\n",
       "61. 'PQPSQUAL'\n",
       "62. 'PASCORE'\n",
       "63. 'QLCOMP'\n",
       "64. 'SLSLPHRS'\n",
       "65. 'SLEEPHRS'\n",
       "66. 'PQPEFFCY'\n",
       "67. 'PQPEFFIC'\n",
       "68. 'PQPSQI'\n",
       "69. 'PQBADSLP'\n",
       "70. 'TURSMOKE'\n",
       "71. 'M1ADEPR'\n",
       "72. 'M1BENZO'\n",
       "73. 'AMAMPT_C1'\n",
       "74. 'AMFVT_C1'\n",
       "75. 'AMPHIT_15SD'\n",
       "76. 'Description'\n",
       "77. 'alpha_pd'\n",
       "78. 'observed_otus'\n",
       "79. 'shannon'\n",
       "80. 'pielou_e'\n",
       "81. 'Age_78'\n",
       "\n",
       "\n"
      ],
      "text/plain": [
       " [1] \"X.SampleID\"                    \"BarcodeSequence\"              \n",
       " [3] \"LinkerPrimerSequence\"          \"Experiment_Design_Description\"\n",
       " [5] \"Library_Construction_Protocol\" \"Linker\"                       \n",
       " [7] \"Platform\"                      \"Center_Name\"                  \n",
       " [9] \"Center_Project\"                \"Instrument_Model\"             \n",
       "[11] \"Title\"                         \"Anonymized_Name\"              \n",
       "[13] \"Scientific_Name\"               \"Taxon_ID\"                     \n",
       "[15] \"Sample_Type\"                   \"Geo_Loc_Name\"                 \n",
       "[17] \"Elevation\"                     \"Env_Biome\"                    \n",
       "[19] \"Env_Feature\"                   \"Env_Material\"                 \n",
       "[21] \"Env_Package\"                   \"Latitude\"                     \n",
       "[23] \"Longitude\"                     \"Collection_Timestamp\"         \n",
       "[25] \"DNA_Extracted\"                 \"Physical_Specimen_Location\"   \n",
       "[27] \"Physical_Specimen_Remaining\"   \"Age\"                          \n",
       "[29] \"Age_Units\"                     \"Host_Subject_ID\"              \n",
       "[31] \"Host_Taxid\"                    \"Host_Scientific_Name\"         \n",
       "[33] \"Host_Common_Name\"              \"Life_Stage\"                   \n",
       "[35] \"Sex\"                           \"Height\"                       \n",
       "[37] \"Height_Units\"                  \"Weight\"                       \n",
       "[39] \"Weight_Units\"                  \"BMI\"                          \n",
       "[41] \"Body_Habitat\"                  \"Body_Site\"                    \n",
       "[43] \"Body_Product\"                  \"GIERACE\"                      \n",
       "[45] \"SITE\"                          \"AMAMPT\"                       \n",
       "[47] \"AMPHIT\"                        \"AMFVT\"                        \n",
       "[49] \"MIDATA\"                        \"V4DATE\"                       \n",
       "[51] \"GIMSTAT\"                       \"MHDIAB\"                       \n",
       "[53] \"MHRHEU1\"                       \"MHOA\"                         \n",
       "[55] \"MHCHF\"                         \"MHMI\"                         \n",
       "[57] \"MHDEPR\"                        \"MHDEPRT\"                      \n",
       "[59] \"TUDRAMT_REVISED\"               \"PQPSLMED\"                     \n",
       "[61] \"PQPSQUAL\"                      \"PASCORE\"                      \n",
       "[63] \"QLCOMP\"                        \"SLSLPHRS\"                     \n",
       "[65] \"SLEEPHRS\"                      \"PQPEFFCY\"                     \n",
       "[67] \"PQPEFFIC\"                      \"PQPSQI\"                       \n",
       "[69] \"PQBADSLP\"                      \"TURSMOKE\"                     \n",
       "[71] \"M1ADEPR\"                       \"M1BENZO\"                      \n",
       "[73] \"AMAMPT_C1\"                     \"AMFVT_C1\"                     \n",
       "[75] \"AMPHIT_15SD\"                   \"Description\"                  \n",
       "[77] \"alpha_pd\"                      \"observed_otus\"                \n",
       "[79] \"shannon\"                       \"pielou_e\"                     \n",
       "[81] \"Age_78\"                       "
      ]
     },
     "metadata": {},
     "output_type": "display_data"
    }
   ],
   "source": [
    "names(data)"
   ]
  },
  {
   "cell_type": "code",
   "execution_count": 13,
   "metadata": {},
   "outputs": [
    {
     "name": "stderr",
     "output_type": "stream",
     "text": [
      "Warning message in lapply(data[vars_cts], as.numeric):\n",
      "“NAs introduced by coercion”Warning message in lapply(data[vars_cts], as.numeric):\n",
      "“NAs introduced by coercion”Warning message in lapply(data[vars_cts], as.numeric):\n",
      "“NAs introduced by coercion”Warning message in lapply(data[vars_cts], as.numeric):\n",
      "“NAs introduced by coercion”Warning message in lapply(data[vars_cts], as.numeric):\n",
      "“NAs introduced by coercion”"
     ]
    }
   ],
   "source": [
    "# convert categorial to factors\n",
    "vars_cat = c('GIERACE', 'SITE', 'SLEEPHRS', 'AMPHIT_15SD', 'MHDIAB', 'MHRHEU1', 'MHOA', 'MHCHF', 'MHMI', 'MHDEPR', 'GIMSTAT',\n",
    "             'MHDEPRT', 'TUDRAMT_REVISED', 'PQPSQUAL', 'QLCOMP', 'PQBADSLP', 'TURSMOKE', 'M1ADEPR', 'M1BENZO', \n",
    "             'AMAMPT_C1', 'AMFVT_C1', 'PQPSLMED', 'PQPEFFIC', 'MIDATA', 'V4DATE')\n",
    "data[vars_cat] = lapply(data[vars_cat], factor)\n",
    "\n",
    "# convert continuous to numeric\n",
    "vars_cts = c('Age', 'BMI', 'PASCORE', 'AMAMPT', 'SLSLPHRS',\n",
    "             'AMPHIT', 'AMFVT',  'PQPSQI', 'PQPEFFCY', 'alpha_pd')\n",
    "data[vars_cts] = lapply(data[vars_cts], as.numeric)"
   ]
  },
  {
   "cell_type": "code",
   "execution_count": 14,
   "metadata": {},
   "outputs": [
    {
     "data": {
      "text/plain": [
       "      Age             BMI           PASCORE           AMAMPT      \n",
       " Min.   :78.00   Min.   :17.60   Min.   :  0.00   Min.   : 36.99  \n",
       " 1st Qu.:81.00   1st Qu.:24.51   1st Qu.: 70.14   1st Qu.:128.59  \n",
       " Median :83.00   Median :26.72   Median :116.75   Median :159.28  \n",
       " Mean   :84.24   Mean   :27.01   Mean   :122.48   Mean   :176.33  \n",
       " 3rd Qu.:87.00   3rd Qu.:28.98   3rd Qu.:165.79   3rd Qu.:201.25  \n",
       " Max.   :98.00   Max.   :42.93   Max.   :359.14   Max.   :642.65  \n",
       "                                                  NA's   :181     \n",
       "    SLSLPHRS          AMPHIT           AMFVT            PQPSQI      \n",
       " Min.   : 3.000   Min.   : 8.773   Min.   : 161.0   Min.   : 0.000  \n",
       " 1st Qu.: 6.000   1st Qu.:12.231   1st Qu.: 637.2   1st Qu.: 3.000  \n",
       " Median : 7.000   Median :13.101   Median : 871.6   Median : 5.000  \n",
       " Mean   : 6.882   Mean   :13.147   Mean   : 960.5   Mean   : 5.306  \n",
       " 3rd Qu.: 8.000   3rd Qu.:14.011   3rd Qu.:1169.2   3rd Qu.: 7.000  \n",
       " Max.   :10.000   Max.   :22.501   Max.   :4363.1   Max.   :15.000  \n",
       " NA's   :175      NA's   :181      NA's   :181                      \n",
       "    PQPEFFCY         alpha_pd    \n",
       " Min.   : 40.00   Min.   : 3.90  \n",
       " 1st Qu.: 80.00   1st Qu.:16.32  \n",
       " Median : 87.50   Median :20.25  \n",
       " Mean   : 86.65   Mean   :21.09  \n",
       " 3rd Qu.: 94.12   3rd Qu.:25.87  \n",
       " Max.   :133.33   Max.   :44.03  \n",
       " NA's   :2                       "
      ]
     },
     "metadata": {},
     "output_type": "display_data"
    }
   ],
   "source": [
    "summary(data[vars_cts])"
   ]
  },
  {
   "cell_type": "code",
   "execution_count": 25,
   "metadata": {},
   "outputs": [
    {
     "data": {
      "image/png": "[encoded data removed]",
      "text/plain": [
       "Plot with title “Histogram of data[, \"AMPHIT\"]”"
      ]
     },
     "metadata": {},
     "output_type": "display_data"
    }
   ],
   "source": [
    "par(mfrow=c(4,3))\n",
    "hist(data[, 'AMAMPT'])\n",
    "hist(data[, 'AMFVT'])\n",
    "hist(data[, 'AMPHIT'])\n",
    "boxplot(AMAMPT ~ PQPSQUAL, data=data)\n",
    "boxplot(AMFVT ~ PQPSQUAL, data=data)\n",
    "boxplot(AMPHIT ~ PQPSQUAL, data=data)\n",
    "\n",
    "boxplot(AMAMPT ~ PQBADSLP , data=data)\n",
    "boxplot(AMFVT ~ PQBADSLP , data=data)\n",
    "boxplot(AMPHIT ~ PQBADSLP , data=data)\n",
    "\n",
    "boxplot(AMAMPT ~ PQPSLMED , data=data)\n",
    "boxplot(AMFVT ~ PQPSLMED , data=data)\n",
    "boxplot(AMPHIT ~ PQPSLMED , data=data)"
   ]
  },
  {
   "cell_type": "code",
   "execution_count": 16,
   "metadata": {},
   "outputs": [
    {
     "data": {
      "text/plain": [
       "               GIERACE             SITE                      SLEEPHRS  \n",
       " 1:WHITE           :520   Birmingham : 75   1: <=6 HRS           :153  \n",
       " 2:AFRICAN AMERICAN: 24   Minneapolis: 91   2: 7 HRS             :143  \n",
       " 3:ASIAN           : 34   Palo Alto  : 86   3:>=8 HRS            :128  \n",
       " 4:HISPANIC        : 12   Pittsburgh : 92   Missing:not collected:175  \n",
       " 5:OTHER           :  9   Portland   :121                              \n",
       "                          San Diego  :134                              \n",
       "                                                                       \n",
       "                AMPHIT_15SD     MHDIAB      MHRHEU1        MHOA    \n",
       " -1.0                 : 28   0: No :508   0: No :552   0: No :450  \n",
       " 0.0                  :371   1: Yes: 91   1: Yes: 47   1: Yes:149  \n",
       " 1.0                  : 19                                         \n",
       " Missing:not collected:181                                         \n",
       "                                                                   \n",
       "                                                                   \n",
       "                                                                   \n",
       "    MHCHF         MHMI        MHDEPR                        GIMSTAT   \n",
       " 0: No :550   0: No :520   0: No :542   1: Married              :428  \n",
       " 1: Yes: 49   1: Yes: 79   1: Yes: 57   2: Widowed              :120  \n",
       "                                        4: Divorced             : 35  \n",
       "                                        5: Single, never married: 16  \n",
       "                                                                      \n",
       "                                                                      \n",
       "                                                                      \n",
       "             MHDEPRT                           TUDRAMT_REVISED\n",
       " 0: No           : 33   .                              :  2   \n",
       " 1: Yes          : 24   0:None drinker                 :230   \n",
       " M:Not Applicable:542   1: Less than one drink per week: 78   \n",
       "                        2: 1-2drinks per week          : 66   \n",
       "                        3: 3-5 drinks per week         : 90   \n",
       "                        4: 6-13 drinks per week        :106   \n",
       "                        5: 14 or more drinks per week  : 27   \n",
       "           PQPSQUAL                QLCOMP      PQBADSLP  \n",
       " 0: Very good  :208   0:PR/VPOOR/FAIR : 66   0: No :359  \n",
       " 1: Fairly good:337   1:GOOD/EXCELLENT:533   1: Yes:240  \n",
       " 2: Fairly bad : 50                                      \n",
       " 3: Very bad   :  4                                      \n",
       "                                                         \n",
       "                                                         \n",
       "                                                         \n",
       "             TURSMOKE     M1ADEPR      M1BENZO                    AMAMPT_C1  \n",
       " 0:NO            :230   0: No :546   0: No :580   0.0                  :139  \n",
       " 1:PAST          :289   1: Yes: 53   1: Yes: 19   1.0                  :279  \n",
       " 2:CURRENT       :  9                             Missing:not collected:181  \n",
       " M:Not Applicable: 71                                                        \n",
       "                                                                             \n",
       "                                                                             \n",
       "                                                                             \n",
       "                  AMFVT_C1                            PQPSLMED  \n",
       " 0.0                  :139   0: Not during the past month :454  \n",
       " 1.0                  :279   1: Less than once a week     : 40  \n",
       " Missing:not collected:181   2: Once or twice a week      : 23  \n",
       "                             3: Three or more times a week: 82  \n",
       "                                                                \n",
       "                                                                \n",
       "                                                                \n",
       "                        PQPEFFIC      MIDATA         V4DATE   \n",
       " 0:>85% EFFICIENCY          :374   1: Yes:599   8/19/15 : 11  \n",
       " 1:>=75% TO <=85% EFFICIENCY:132                8/4/15  :  8  \n",
       " 2:>=65% TO <75% EFFICIENCY : 55                9/2/15  :  8  \n",
       " 3:<65% EFFICIENCY          : 36                6/8/15  :  7  \n",
       " W:Weird Value              :  2                10/14/15:  6  \n",
       "                                                4/14/15 :  6  \n",
       "                                                (Other) :553  "
      ]
     },
     "metadata": {},
     "output_type": "display_data"
    }
   ],
   "source": [
    "summary(data[vars_cat])"
   ]
  },
  {
   "cell_type": "code",
   "execution_count": 7,
   "metadata": {},
   "outputs": [],
   "source": [
    "# change reference level\n",
    "data$SITE = relevel(data$SITE, ref='San Diego')\n",
    "data$TUDRAMT_REVISED  = relevel(data$TUDRAMT, ref='0:None drinker')\n",
    "data$QLCOMP = relevel(data$QLCOMP, ref='1:GOOD/EXCELLENT')\n",
    "data$AMPHIT_15SD = relevel(data$AMPHIT_15SD, ref='0.0')"
   ]
  },
  {
   "cell_type": "code",
   "execution_count": 8,
   "metadata": {},
   "outputs": [],
   "source": [
    "attach(data)"
   ]
  },
  {
   "cell_type": "markdown",
   "metadata": {},
   "source": [
    "## stepwise backwards selection, with p-value threshold 0.2"
   ]
  },
  {
   "cell_type": "code",
   "execution_count": 9,
   "metadata": {},
   "outputs": [
    {
     "data": {
      "text/html": [
       "<table>\n",
       "<thead><tr><th></th><th scope=col>Sum Sq</th><th scope=col>Df</th><th scope=col>F value</th><th scope=col>Pr(&gt;F)</th></tr></thead>\n",
       "<tbody>\n",
       "\t<tr><th scope=row>Age_78</th><td>   38.280860</td><td>  1         </td><td> 1.01160337 </td><td>0.314957327 </td></tr>\n",
       "\t<tr><th scope=row>BMI</th><td>  138.892430</td><td>  1         </td><td> 3.67034727 </td><td>0.055902107 </td></tr>\n",
       "\t<tr><th scope=row>PASCORE</th><td>   59.286144</td><td>  1         </td><td> 1.56668535 </td><td>0.211216313 </td></tr>\n",
       "\t<tr><th scope=row>GIERACE</th><td>  449.318352</td><td>  4         </td><td> 2.96840221 </td><td>0.019150281 </td></tr>\n",
       "\t<tr><th scope=row>SITE</th><td>  361.912665</td><td>  5         </td><td> 1.91276826 </td><td>0.090440345 </td></tr>\n",
       "\t<tr><th scope=row>GIMSTAT</th><td>  178.415748</td><td>  3         </td><td> 1.57159453 </td><td>0.195204360 </td></tr>\n",
       "\t<tr><th scope=row>MHDIAB</th><td>  394.628708</td><td>  1         </td><td>10.42838981 </td><td>0.001314298 </td></tr>\n",
       "\t<tr><th scope=row>MHRHEU1</th><td>   27.794681</td><td>  1         </td><td> 0.73449743 </td><td>0.391799171 </td></tr>\n",
       "\t<tr><th scope=row>MHOA</th><td>    4.311558</td><td>  1         </td><td> 0.11393650 </td><td>0.735833865 </td></tr>\n",
       "\t<tr><th scope=row>MHCHF</th><td>   31.699021</td><td>  1         </td><td> 0.83767284 </td><td>0.360460664 </td></tr>\n",
       "\t<tr><th scope=row>MHMI</th><td>   14.489327</td><td>  1         </td><td> 0.38289245 </td><td>0.536313178 </td></tr>\n",
       "\t<tr><th scope=row>MHDEPR</th><td>    1.029366</td><td>  1         </td><td> 0.02720185 </td><td>0.869059275 </td></tr>\n",
       "\t<tr><th scope=row>TUDRAMT_REVISED</th><td>  244.531417</td><td>  6         </td><td> 1.07699080 </td><td>0.374946679 </td></tr>\n",
       "\t<tr><th scope=row>PQPSLMED</th><td>   41.500753</td><td>  3         </td><td> 0.36556390 </td><td>0.777895951 </td></tr>\n",
       "\t<tr><th scope=row>PQPSQUAL</th><td>  162.054088</td><td>  3         </td><td> 1.42747107 </td><td>0.233764475 </td></tr>\n",
       "\t<tr><th scope=row>QLCOMP</th><td>    2.156781</td><td>  1         </td><td> 0.05699473 </td><td>0.811398672 </td></tr>\n",
       "\t<tr><th scope=row>TURSMOKE</th><td>   91.937961</td><td>  3         </td><td> 0.80984554 </td><td>0.488736247 </td></tr>\n",
       "\t<tr><th scope=row>M1ADEPR</th><td>  172.711992</td><td>  1         </td><td> 4.56405714 </td><td>0.033086402 </td></tr>\n",
       "\t<tr><th scope=row>M1BENZO</th><td>   30.244918</td><td>  1         </td><td> 0.79924695 </td><td>0.371706126 </td></tr>\n",
       "\t<tr><th scope=row>PQPEFFIC</th><td>   75.328936</td><td>  4         </td><td> 0.49765735 </td><td>0.737479814 </td></tr>\n",
       "\t<tr><th scope=row>Residuals</th><td>21002.181271</td><td>555         </td><td>         NA </td><td>         NA </td></tr>\n",
       "</tbody>\n",
       "</table>\n"
      ],
      "text/latex": [
       "\\begin{tabular}{r|llll}\n",
       "  & Sum Sq & Df & F value & Pr(>F)\\\\\n",
       "\\hline\n",
       "\tAge\\_78 &    38.280860 &   1          &  1.01160337  & 0.314957327 \\\\\n",
       "\tBMI &   138.892430 &   1          &  3.67034727  & 0.055902107 \\\\\n",
       "\tPASCORE &    59.286144 &   1          &  1.56668535  & 0.211216313 \\\\\n",
       "\tGIERACE &   449.318352 &   4          &  2.96840221  & 0.019150281 \\\\\n",
       "\tSITE &   361.912665 &   5          &  1.91276826  & 0.090440345 \\\\\n",
       "\tGIMSTAT &   178.415748 &   3          &  1.57159453  & 0.195204360 \\\\\n",
       "\tMHDIAB &   394.628708 &   1          & 10.42838981  & 0.001314298 \\\\\n",
       "\tMHRHEU1 &    27.794681 &   1          &  0.73449743  & 0.391799171 \\\\\n",
       "\tMHOA &     4.311558 &   1          &  0.11393650  & 0.735833865 \\\\\n",
       "\tMHCHF &    31.699021 &   1          &  0.83767284  & 0.360460664 \\\\\n",
       "\tMHMI &    14.489327 &   1          &  0.38289245  & 0.536313178 \\\\\n",
       "\tMHDEPR &     1.029366 &   1          &  0.02720185  & 0.869059275 \\\\\n",
       "\tTUDRAMT\\_REVISED &   244.531417 &   6          &  1.07699080  & 0.374946679 \\\\\n",
       "\tPQPSLMED &    41.500753 &   3          &  0.36556390  & 0.777895951 \\\\\n",
       "\tPQPSQUAL &   162.054088 &   3          &  1.42747107  & 0.233764475 \\\\\n",
       "\tQLCOMP &     2.156781 &   1          &  0.05699473  & 0.811398672 \\\\\n",
       "\tTURSMOKE &    91.937961 &   3          &  0.80984554  & 0.488736247 \\\\\n",
       "\tM1ADEPR &   172.711992 &   1          &  4.56405714  & 0.033086402 \\\\\n",
       "\tM1BENZO &    30.244918 &   1          &  0.79924695  & 0.371706126 \\\\\n",
       "\tPQPEFFIC &    75.328936 &   4          &  0.49765735  & 0.737479814 \\\\\n",
       "\tResiduals & 21002.181271 & 555          &          NA  &          NA \\\\\n",
       "\\end{tabular}\n"
      ],
      "text/markdown": [
       "\n",
       "| <!--/--> | Sum Sq | Df | F value | Pr(>F) | \n",
       "|---|---|---|---|---|---|---|---|---|---|---|---|---|---|---|---|---|---|---|---|---|\n",
       "| Age_78 |    38.280860 |   1          |  1.01160337  | 0.314957327  | \n",
       "| BMI |   138.892430 |   1          |  3.67034727  | 0.055902107  | \n",
       "| PASCORE |    59.286144 |   1          |  1.56668535  | 0.211216313  | \n",
       "| GIERACE |   449.318352 |   4          |  2.96840221  | 0.019150281  | \n",
       "| SITE |   361.912665 |   5          |  1.91276826  | 0.090440345  | \n",
       "| GIMSTAT |   178.415748 |   3          |  1.57159453  | 0.195204360  | \n",
       "| MHDIAB |   394.628708 |   1          | 10.42838981  | 0.001314298  | \n",
       "| MHRHEU1 |    27.794681 |   1          |  0.73449743  | 0.391799171  | \n",
       "| MHOA |     4.311558 |   1          |  0.11393650  | 0.735833865  | \n",
       "| MHCHF |    31.699021 |   1          |  0.83767284  | 0.360460664  | \n",
       "| MHMI |    14.489327 |   1          |  0.38289245  | 0.536313178  | \n",
       "| MHDEPR |     1.029366 |   1          |  0.02720185  | 0.869059275  | \n",
       "| TUDRAMT_REVISED |   244.531417 |   6          |  1.07699080  | 0.374946679  | \n",
       "| PQPSLMED |    41.500753 |   3          |  0.36556390  | 0.777895951  | \n",
       "| PQPSQUAL |   162.054088 |   3          |  1.42747107  | 0.233764475  | \n",
       "| QLCOMP |     2.156781 |   1          |  0.05699473  | 0.811398672  | \n",
       "| TURSMOKE |    91.937961 |   3          |  0.80984554  | 0.488736247  | \n",
       "| M1ADEPR |   172.711992 |   1          |  4.56405714  | 0.033086402  | \n",
       "| M1BENZO |    30.244918 |   1          |  0.79924695  | 0.371706126  | \n",
       "| PQPEFFIC |    75.328936 |   4          |  0.49765735  | 0.737479814  | \n",
       "| Residuals | 21002.181271 | 555          |          NA  |          NA  | \n",
       "\n",
       "\n"
      ],
      "text/plain": [
       "                Sum Sq       Df  F value     Pr(>F)     \n",
       "Age_78             38.280860   1  1.01160337 0.314957327\n",
       "BMI               138.892430   1  3.67034727 0.055902107\n",
       "PASCORE            59.286144   1  1.56668535 0.211216313\n",
       "GIERACE           449.318352   4  2.96840221 0.019150281\n",
       "SITE              361.912665   5  1.91276826 0.090440345\n",
       "GIMSTAT           178.415748   3  1.57159453 0.195204360\n",
       "MHDIAB            394.628708   1 10.42838981 0.001314298\n",
       "MHRHEU1            27.794681   1  0.73449743 0.391799171\n",
       "MHOA                4.311558   1  0.11393650 0.735833865\n",
       "MHCHF              31.699021   1  0.83767284 0.360460664\n",
       "MHMI               14.489327   1  0.38289245 0.536313178\n",
       "MHDEPR              1.029366   1  0.02720185 0.869059275\n",
       "TUDRAMT_REVISED   244.531417   6  1.07699080 0.374946679\n",
       "PQPSLMED           41.500753   3  0.36556390 0.777895951\n",
       "PQPSQUAL          162.054088   3  1.42747107 0.233764475\n",
       "QLCOMP              2.156781   1  0.05699473 0.811398672\n",
       "TURSMOKE           91.937961   3  0.80984554 0.488736247\n",
       "M1ADEPR           172.711992   1  4.56405714 0.033086402\n",
       "M1BENZO            30.244918   1  0.79924695 0.371706126\n",
       "PQPEFFIC           75.328936   4  0.49765735 0.737479814\n",
       "Residuals       21002.181271 555          NA          NA"
      ]
     },
     "metadata": {},
     "output_type": "display_data"
    }
   ],
   "source": [
    "library(car)\n",
    "Anova(lm(alpha_pd ~ Age_78 + BMI + PASCORE + GIERACE + SITE + GIMSTAT + MHDIAB + MHRHEU1 + MHOA + \n",
    "         MHCHF + MHMI + MHDEPR + TUDRAMT_REVISED + PQPSLMED + PQPSQUAL + QLCOMP + \n",
    "         TURSMOKE + M1ADEPR + M1BENZO + PQPEFFIC ))"
   ]
  },
  {
   "cell_type": "code",
   "execution_count": 10,
   "metadata": {},
   "outputs": [
    {
     "data": {
      "text/html": [
       "<table>\n",
       "<thead><tr><th></th><th scope=col>Sum Sq</th><th scope=col>Df</th><th scope=col>F value</th><th scope=col>Pr(&gt;F)</th></tr></thead>\n",
       "<tbody>\n",
       "\t<tr><th scope=row>Age_78</th><td>   38.086872</td><td>  1         </td><td> 1.00824113 </td><td>0.315761367 </td></tr>\n",
       "\t<tr><th scope=row>BMI</th><td>  139.190824</td><td>  1         </td><td> 3.68467943 </td><td>0.055425971 </td></tr>\n",
       "\t<tr><th scope=row>PASCORE</th><td>   59.157849</td><td>  1         </td><td> 1.56603506 </td><td>0.211310013 </td></tr>\n",
       "\t<tr><th scope=row>GIERACE</th><td>  449.021045</td><td>  4         </td><td> 2.97163736 </td><td>0.019045171 </td></tr>\n",
       "\t<tr><th scope=row>SITE</th><td>  361.980851</td><td>  5         </td><td> 1.91648179 </td><td>0.089824050 </td></tr>\n",
       "\t<tr><th scope=row>GIMSTAT</th><td>  177.645772</td><td>  3         </td><td> 1.56755477 </td><td>0.196196875 </td></tr>\n",
       "\t<tr><th scope=row>MHDIAB</th><td>  394.548226</td><td>  1         </td><td>10.44453714 </td><td>0.001302937 </td></tr>\n",
       "\t<tr><th scope=row>MHRHEU1</th><td>   27.593774</td><td>  1         </td><td> 0.73046633 </td><td>0.393100183 </td></tr>\n",
       "\t<tr><th scope=row>MHOA</th><td>    4.305535</td><td>  1         </td><td> 0.11397673 </td><td>0.735788746 </td></tr>\n",
       "\t<tr><th scope=row>MHCHF</th><td>   31.063096</td><td>  1         </td><td> 0.82230672 </td><td>0.364899423 </td></tr>\n",
       "\t<tr><th scope=row>MHMI</th><td>   14.545240</td><td>  1         </td><td> 0.38504368 </td><td>0.535170488 </td></tr>\n",
       "\t<tr><th scope=row>TUDRAMT_REVISED</th><td>  246.630489</td><td>  6         </td><td> 1.08813960 </td><td>0.368124933 </td></tr>\n",
       "\t<tr><th scope=row>PQPSLMED</th><td>   40.911593</td><td>  3         </td><td> 0.36100585 </td><td>0.781194861 </td></tr>\n",
       "\t<tr><th scope=row>PQPSQUAL</th><td>  161.331455</td><td>  3         </td><td> 1.42359646 </td><td>0.234890264 </td></tr>\n",
       "\t<tr><th scope=row>QLCOMP</th><td>    2.429942</td><td>  1         </td><td> 0.06432578 </td><td>0.799878822 </td></tr>\n",
       "\t<tr><th scope=row>TURSMOKE</th><td>   91.369906</td><td>  3         </td><td> 0.80625241 </td><td>0.490722595 </td></tr>\n",
       "\t<tr><th scope=row>M1ADEPR</th><td>  257.916018</td><td>  1         </td><td> 6.82758976 </td><td>0.009218926 </td></tr>\n",
       "\t<tr><th scope=row>M1BENZO</th><td>   31.220362</td><td>  1         </td><td> 0.82646990 </td><td>0.363689183 </td></tr>\n",
       "\t<tr><th scope=row>PQPEFFIC</th><td>   75.639919</td><td>  4         </td><td> 0.50058769 </td><td>0.735327654 </td></tr>\n",
       "\t<tr><th scope=row>Residuals</th><td>21003.210637</td><td>556         </td><td>         NA </td><td>         NA </td></tr>\n",
       "</tbody>\n",
       "</table>\n"
      ],
      "text/latex": [
       "\\begin{tabular}{r|llll}\n",
       "  & Sum Sq & Df & F value & Pr(>F)\\\\\n",
       "\\hline\n",
       "\tAge\\_78 &    38.086872 &   1          &  1.00824113  & 0.315761367 \\\\\n",
       "\tBMI &   139.190824 &   1          &  3.68467943  & 0.055425971 \\\\\n",
       "\tPASCORE &    59.157849 &   1          &  1.56603506  & 0.211310013 \\\\\n",
       "\tGIERACE &   449.021045 &   4          &  2.97163736  & 0.019045171 \\\\\n",
       "\tSITE &   361.980851 &   5          &  1.91648179  & 0.089824050 \\\\\n",
       "\tGIMSTAT &   177.645772 &   3          &  1.56755477  & 0.196196875 \\\\\n",
       "\tMHDIAB &   394.548226 &   1          & 10.44453714  & 0.001302937 \\\\\n",
       "\tMHRHEU1 &    27.593774 &   1          &  0.73046633  & 0.393100183 \\\\\n",
       "\tMHOA &     4.305535 &   1          &  0.11397673  & 0.735788746 \\\\\n",
       "\tMHCHF &    31.063096 &   1          &  0.82230672  & 0.364899423 \\\\\n",
       "\tMHMI &    14.545240 &   1          &  0.38504368  & 0.535170488 \\\\\n",
       "\tTUDRAMT\\_REVISED &   246.630489 &   6          &  1.08813960  & 0.368124933 \\\\\n",
       "\tPQPSLMED &    40.911593 &   3          &  0.36100585  & 0.781194861 \\\\\n",
       "\tPQPSQUAL &   161.331455 &   3          &  1.42359646  & 0.234890264 \\\\\n",
       "\tQLCOMP &     2.429942 &   1          &  0.06432578  & 0.799878822 \\\\\n",
       "\tTURSMOKE &    91.369906 &   3          &  0.80625241  & 0.490722595 \\\\\n",
       "\tM1ADEPR &   257.916018 &   1          &  6.82758976  & 0.009218926 \\\\\n",
       "\tM1BENZO &    31.220362 &   1          &  0.82646990  & 0.363689183 \\\\\n",
       "\tPQPEFFIC &    75.639919 &   4          &  0.50058769  & 0.735327654 \\\\\n",
       "\tResiduals & 21003.210637 & 556          &          NA  &          NA \\\\\n",
       "\\end{tabular}\n"
      ],
      "text/markdown": [
       "\n",
       "| <!--/--> | Sum Sq | Df | F value | Pr(>F) | \n",
       "|---|---|---|---|---|---|---|---|---|---|---|---|---|---|---|---|---|---|---|---|\n",
       "| Age_78 |    38.086872 |   1          |  1.00824113  | 0.315761367  | \n",
       "| BMI |   139.190824 |   1          |  3.68467943  | 0.055425971  | \n",
       "| PASCORE |    59.157849 |   1          |  1.56603506  | 0.211310013  | \n",
       "| GIERACE |   449.021045 |   4          |  2.97163736  | 0.019045171  | \n",
       "| SITE |   361.980851 |   5          |  1.91648179  | 0.089824050  | \n",
       "| GIMSTAT |   177.645772 |   3          |  1.56755477  | 0.196196875  | \n",
       "| MHDIAB |   394.548226 |   1          | 10.44453714  | 0.001302937  | \n",
       "| MHRHEU1 |    27.593774 |   1          |  0.73046633  | 0.393100183  | \n",
       "| MHOA |     4.305535 |   1          |  0.11397673  | 0.735788746  | \n",
       "| MHCHF |    31.063096 |   1          |  0.82230672  | 0.364899423  | \n",
       "| MHMI |    14.545240 |   1          |  0.38504368  | 0.535170488  | \n",
       "| TUDRAMT_REVISED |   246.630489 |   6          |  1.08813960  | 0.368124933  | \n",
       "| PQPSLMED |    40.911593 |   3          |  0.36100585  | 0.781194861  | \n",
       "| PQPSQUAL |   161.331455 |   3          |  1.42359646  | 0.234890264  | \n",
       "| QLCOMP |     2.429942 |   1          |  0.06432578  | 0.799878822  | \n",
       "| TURSMOKE |    91.369906 |   3          |  0.80625241  | 0.490722595  | \n",
       "| M1ADEPR |   257.916018 |   1          |  6.82758976  | 0.009218926  | \n",
       "| M1BENZO |    31.220362 |   1          |  0.82646990  | 0.363689183  | \n",
       "| PQPEFFIC |    75.639919 |   4          |  0.50058769  | 0.735327654  | \n",
       "| Residuals | 21003.210637 | 556          |          NA  |          NA  | \n",
       "\n",
       "\n"
      ],
      "text/plain": [
       "                Sum Sq       Df  F value     Pr(>F)     \n",
       "Age_78             38.086872   1  1.00824113 0.315761367\n",
       "BMI               139.190824   1  3.68467943 0.055425971\n",
       "PASCORE            59.157849   1  1.56603506 0.211310013\n",
       "GIERACE           449.021045   4  2.97163736 0.019045171\n",
       "SITE              361.980851   5  1.91648179 0.089824050\n",
       "GIMSTAT           177.645772   3  1.56755477 0.196196875\n",
       "MHDIAB            394.548226   1 10.44453714 0.001302937\n",
       "MHRHEU1            27.593774   1  0.73046633 0.393100183\n",
       "MHOA                4.305535   1  0.11397673 0.735788746\n",
       "MHCHF              31.063096   1  0.82230672 0.364899423\n",
       "MHMI               14.545240   1  0.38504368 0.535170488\n",
       "TUDRAMT_REVISED   246.630489   6  1.08813960 0.368124933\n",
       "PQPSLMED           40.911593   3  0.36100585 0.781194861\n",
       "PQPSQUAL          161.331455   3  1.42359646 0.234890264\n",
       "QLCOMP              2.429942   1  0.06432578 0.799878822\n",
       "TURSMOKE           91.369906   3  0.80625241 0.490722595\n",
       "M1ADEPR           257.916018   1  6.82758976 0.009218926\n",
       "M1BENZO            31.220362   1  0.82646990 0.363689183\n",
       "PQPEFFIC           75.639919   4  0.50058769 0.735327654\n",
       "Residuals       21003.210637 556          NA          NA"
      ]
     },
     "metadata": {},
     "output_type": "display_data"
    }
   ],
   "source": [
    "# drop MHDEPR\n",
    "Anova(lm(alpha_pd ~ Age_78 + BMI + PASCORE + GIERACE + SITE + GIMSTAT + MHDIAB + MHRHEU1 + MHOA + \n",
    "         MHCHF + MHMI + TUDRAMT_REVISED + PQPSLMED + PQPSQUAL + QLCOMP + \n",
    "         TURSMOKE + M1ADEPR + M1BENZO + PQPEFFIC ))"
   ]
  },
  {
   "cell_type": "code",
   "execution_count": 11,
   "metadata": {},
   "outputs": [
    {
     "data": {
      "text/html": [
       "<table>\n",
       "<thead><tr><th></th><th scope=col>Sum Sq</th><th scope=col>Df</th><th scope=col>F value</th><th scope=col>Pr(&gt;F)</th></tr></thead>\n",
       "<tbody>\n",
       "\t<tr><th scope=row>Age_78</th><td>   39.465202</td><td>  1         </td><td> 1.0464864  </td><td>0.3067617673</td></tr>\n",
       "\t<tr><th scope=row>BMI</th><td>  139.050150</td><td>  1         </td><td> 3.6871493  </td><td>0.0553435942</td></tr>\n",
       "\t<tr><th scope=row>PASCORE</th><td>   65.725026</td><td>  1         </td><td> 1.7428100  </td><td>0.1873254273</td></tr>\n",
       "\t<tr><th scope=row>GIERACE</th><td>  449.502562</td><td>  4         </td><td> 2.9798297  </td><td>0.0187837754</td></tr>\n",
       "\t<tr><th scope=row>SITE</th><td>  366.000834</td><td>  5         </td><td> 1.9410259  </td><td>0.0858653511</td></tr>\n",
       "\t<tr><th scope=row>GIMSTAT</th><td>  179.152145</td><td>  3         </td><td> 1.5835071  </td><td>0.1922935441</td></tr>\n",
       "\t<tr><th scope=row>MHDIAB</th><td>  413.395006</td><td>  1         </td><td>10.9618660  </td><td>0.0009902701</td></tr>\n",
       "\t<tr><th scope=row>MHRHEU1</th><td>   28.088132</td><td>  1         </td><td> 0.7448042  </td><td>0.3884976850</td></tr>\n",
       "\t<tr><th scope=row>MHOA</th><td>    4.673723</td><td>  1         </td><td> 0.1239317  </td><td>0.7249419567</td></tr>\n",
       "\t<tr><th scope=row>MHCHF</th><td>   29.719332</td><td>  1         </td><td> 0.7880582  </td><td>0.3750710828</td></tr>\n",
       "\t<tr><th scope=row>MHMI</th><td>   14.051465</td><td>  1         </td><td> 0.3725983  </td><td>0.5418403331</td></tr>\n",
       "\t<tr><th scope=row>TUDRAMT_REVISED</th><td>  245.580967</td><td>  6         </td><td> 1.0853323  </td><td>0.3698311182</td></tr>\n",
       "\t<tr><th scope=row>PQPSLMED</th><td>   40.280079</td><td>  3         </td><td> 0.3560314  </td><td>0.7847971953</td></tr>\n",
       "\t<tr><th scope=row>PQPSQUAL</th><td>  159.762335</td><td>  3         </td><td> 1.4121226  </td><td>0.2382578793</td></tr>\n",
       "\t<tr><th scope=row>TURSMOKE</th><td>   90.872020</td><td>  3         </td><td> 0.8032083  </td><td>0.4924102284</td></tr>\n",
       "\t<tr><th scope=row>M1ADEPR</th><td>  258.199469</td><td>  1         </td><td> 6.8465946  </td><td>0.0091221316</td></tr>\n",
       "\t<tr><th scope=row>M1BENZO</th><td>   31.019307</td><td>  1         </td><td> 0.8225293  </td><td>0.3648338819</td></tr>\n",
       "\t<tr><th scope=row>PQPEFFIC</th><td>   74.544609</td><td>  4         </td><td> 0.4941690  </td><td>0.7400417774</td></tr>\n",
       "\t<tr><th scope=row>Residuals</th><td>21005.640579</td><td>557         </td><td>        NA  </td><td>          NA</td></tr>\n",
       "</tbody>\n",
       "</table>\n"
      ],
      "text/latex": [
       "\\begin{tabular}{r|llll}\n",
       "  & Sum Sq & Df & F value & Pr(>F)\\\\\n",
       "\\hline\n",
       "\tAge\\_78 &    39.465202 &   1          &  1.0464864   & 0.3067617673\\\\\n",
       "\tBMI &   139.050150 &   1          &  3.6871493   & 0.0553435942\\\\\n",
       "\tPASCORE &    65.725026 &   1          &  1.7428100   & 0.1873254273\\\\\n",
       "\tGIERACE &   449.502562 &   4          &  2.9798297   & 0.0187837754\\\\\n",
       "\tSITE &   366.000834 &   5          &  1.9410259   & 0.0858653511\\\\\n",
       "\tGIMSTAT &   179.152145 &   3          &  1.5835071   & 0.1922935441\\\\\n",
       "\tMHDIAB &   413.395006 &   1          & 10.9618660   & 0.0009902701\\\\\n",
       "\tMHRHEU1 &    28.088132 &   1          &  0.7448042   & 0.3884976850\\\\\n",
       "\tMHOA &     4.673723 &   1          &  0.1239317   & 0.7249419567\\\\\n",
       "\tMHCHF &    29.719332 &   1          &  0.7880582   & 0.3750710828\\\\\n",
       "\tMHMI &    14.051465 &   1          &  0.3725983   & 0.5418403331\\\\\n",
       "\tTUDRAMT\\_REVISED &   245.580967 &   6          &  1.0853323   & 0.3698311182\\\\\n",
       "\tPQPSLMED &    40.280079 &   3          &  0.3560314   & 0.7847971953\\\\\n",
       "\tPQPSQUAL &   159.762335 &   3          &  1.4121226   & 0.2382578793\\\\\n",
       "\tTURSMOKE &    90.872020 &   3          &  0.8032083   & 0.4924102284\\\\\n",
       "\tM1ADEPR &   258.199469 &   1          &  6.8465946   & 0.0091221316\\\\\n",
       "\tM1BENZO &    31.019307 &   1          &  0.8225293   & 0.3648338819\\\\\n",
       "\tPQPEFFIC &    74.544609 &   4          &  0.4941690   & 0.7400417774\\\\\n",
       "\tResiduals & 21005.640579 & 557          &         NA   &           NA\\\\\n",
       "\\end{tabular}\n"
      ],
      "text/markdown": [
       "\n",
       "| <!--/--> | Sum Sq | Df | F value | Pr(>F) | \n",
       "|---|---|---|---|---|---|---|---|---|---|---|---|---|---|---|---|---|---|---|\n",
       "| Age_78 |    39.465202 |   1          |  1.0464864   | 0.3067617673 | \n",
       "| BMI |   139.050150 |   1          |  3.6871493   | 0.0553435942 | \n",
       "| PASCORE |    65.725026 |   1          |  1.7428100   | 0.1873254273 | \n",
       "| GIERACE |   449.502562 |   4          |  2.9798297   | 0.0187837754 | \n",
       "| SITE |   366.000834 |   5          |  1.9410259   | 0.0858653511 | \n",
       "| GIMSTAT |   179.152145 |   3          |  1.5835071   | 0.1922935441 | \n",
       "| MHDIAB |   413.395006 |   1          | 10.9618660   | 0.0009902701 | \n",
       "| MHRHEU1 |    28.088132 |   1          |  0.7448042   | 0.3884976850 | \n",
       "| MHOA |     4.673723 |   1          |  0.1239317   | 0.7249419567 | \n",
       "| MHCHF |    29.719332 |   1          |  0.7880582   | 0.3750710828 | \n",
       "| MHMI |    14.051465 |   1          |  0.3725983   | 0.5418403331 | \n",
       "| TUDRAMT_REVISED |   245.580967 |   6          |  1.0853323   | 0.3698311182 | \n",
       "| PQPSLMED |    40.280079 |   3          |  0.3560314   | 0.7847971953 | \n",
       "| PQPSQUAL |   159.762335 |   3          |  1.4121226   | 0.2382578793 | \n",
       "| TURSMOKE |    90.872020 |   3          |  0.8032083   | 0.4924102284 | \n",
       "| M1ADEPR |   258.199469 |   1          |  6.8465946   | 0.0091221316 | \n",
       "| M1BENZO |    31.019307 |   1          |  0.8225293   | 0.3648338819 | \n",
       "| PQPEFFIC |    74.544609 |   4          |  0.4941690   | 0.7400417774 | \n",
       "| Residuals | 21005.640579 | 557          |         NA   |           NA | \n",
       "\n",
       "\n"
      ],
      "text/plain": [
       "                Sum Sq       Df  F value    Pr(>F)      \n",
       "Age_78             39.465202   1  1.0464864 0.3067617673\n",
       "BMI               139.050150   1  3.6871493 0.0553435942\n",
       "PASCORE            65.725026   1  1.7428100 0.1873254273\n",
       "GIERACE           449.502562   4  2.9798297 0.0187837754\n",
       "SITE              366.000834   5  1.9410259 0.0858653511\n",
       "GIMSTAT           179.152145   3  1.5835071 0.1922935441\n",
       "MHDIAB            413.395006   1 10.9618660 0.0009902701\n",
       "MHRHEU1            28.088132   1  0.7448042 0.3884976850\n",
       "MHOA                4.673723   1  0.1239317 0.7249419567\n",
       "MHCHF              29.719332   1  0.7880582 0.3750710828\n",
       "MHMI               14.051465   1  0.3725983 0.5418403331\n",
       "TUDRAMT_REVISED   245.580967   6  1.0853323 0.3698311182\n",
       "PQPSLMED           40.280079   3  0.3560314 0.7847971953\n",
       "PQPSQUAL          159.762335   3  1.4121226 0.2382578793\n",
       "TURSMOKE           90.872020   3  0.8032083 0.4924102284\n",
       "M1ADEPR           258.199469   1  6.8465946 0.0091221316\n",
       "M1BENZO            31.019307   1  0.8225293 0.3648338819\n",
       "PQPEFFIC           74.544609   4  0.4941690 0.7400417774\n",
       "Residuals       21005.640579 557         NA           NA"
      ]
     },
     "metadata": {},
     "output_type": "display_data"
    }
   ],
   "source": [
    "# drop QLCOMP\n",
    "Anova(lm(alpha_pd ~ Age_78 + BMI + PASCORE + GIERACE + SITE + GIMSTAT + MHDIAB + MHRHEU1 + MHOA + \n",
    "         MHCHF + MHMI + TUDRAMT_REVISED + PQPSLMED + PQPSQUAL +  \n",
    "         TURSMOKE + M1ADEPR + M1BENZO + PQPEFFIC ))"
   ]
  },
  {
   "cell_type": "code",
   "execution_count": 12,
   "metadata": {},
   "outputs": [
    {
     "data": {
      "text/html": [
       "<table>\n",
       "<thead><tr><th></th><th scope=col>Sum Sq</th><th scope=col>Df</th><th scope=col>F value</th><th scope=col>Pr(&gt;F)</th></tr></thead>\n",
       "<tbody>\n",
       "\t<tr><th scope=row>Age_78</th><td>   38.805084</td><td>  1         </td><td> 1.0325444  </td><td>0.3100006277</td></tr>\n",
       "\t<tr><th scope=row>BMI</th><td>  142.960770</td><td>  1         </td><td> 3.8039691  </td><td>0.0516297468</td></tr>\n",
       "\t<tr><th scope=row>PASCORE</th><td>   63.525971</td><td>  1         </td><td> 1.6903297  </td><td>0.1940923657</td></tr>\n",
       "\t<tr><th scope=row>GIERACE</th><td>  456.562488</td><td>  4         </td><td> 3.0371087  </td><td>0.0170567025</td></tr>\n",
       "\t<tr><th scope=row>SITE</th><td>  373.470530</td><td>  5         </td><td> 1.9874968  </td><td>0.0788064466</td></tr>\n",
       "\t<tr><th scope=row>GIMSTAT</th><td>  186.025248</td><td>  3         </td><td> 1.6499498  </td><td>0.1768074396</td></tr>\n",
       "\t<tr><th scope=row>MHDIAB</th><td>  419.026845</td><td>  1         </td><td>11.1496682  </td><td>0.0008963524</td></tr>\n",
       "\t<tr><th scope=row>MHRHEU1</th><td>   28.651709</td><td>  1         </td><td> 0.7623785  </td><td>0.3829594496</td></tr>\n",
       "\t<tr><th scope=row>MHOA</th><td>    3.399457</td><td>  1         </td><td> 0.0904544  </td><td>0.7637118967</td></tr>\n",
       "\t<tr><th scope=row>MHCHF</th><td>   28.474337</td><td>  1         </td><td> 0.7576589  </td><td>0.3844351263</td></tr>\n",
       "\t<tr><th scope=row>MHMI</th><td>   18.770509</td><td>  1         </td><td> 0.4994548  </td><td>0.4800337445</td></tr>\n",
       "\t<tr><th scope=row>TUDRAMT_REVISED</th><td>  253.503461</td><td>  6         </td><td> 1.1242237  </td><td>0.3466441349</td></tr>\n",
       "\t<tr><th scope=row>PQPSQUAL</th><td>  148.722510</td><td>  3         </td><td> 1.3190934  </td><td>0.2672575859</td></tr>\n",
       "\t<tr><th scope=row>TURSMOKE</th><td>   91.070955</td><td>  3         </td><td> 0.8077533  </td><td>0.4898876058</td></tr>\n",
       "\t<tr><th scope=row>M1ADEPR</th><td>  256.504327</td><td>  1         </td><td> 6.8251908  </td><td>0.0092294177</td></tr>\n",
       "\t<tr><th scope=row>M1BENZO</th><td>   21.204894</td><td>  1         </td><td> 0.5642300  </td><td>0.4528764334</td></tr>\n",
       "\t<tr><th scope=row>PQPEFFIC</th><td>   72.790379</td><td>  4         </td><td> 0.4842104  </td><td>0.7473546291</td></tr>\n",
       "\t<tr><th scope=row>Residuals</th><td>21045.920658</td><td>560         </td><td>        NA  </td><td>          NA</td></tr>\n",
       "</tbody>\n",
       "</table>\n"
      ],
      "text/latex": [
       "\\begin{tabular}{r|llll}\n",
       "  & Sum Sq & Df & F value & Pr(>F)\\\\\n",
       "\\hline\n",
       "\tAge\\_78 &    38.805084 &   1          &  1.0325444   & 0.3100006277\\\\\n",
       "\tBMI &   142.960770 &   1          &  3.8039691   & 0.0516297468\\\\\n",
       "\tPASCORE &    63.525971 &   1          &  1.6903297   & 0.1940923657\\\\\n",
       "\tGIERACE &   456.562488 &   4          &  3.0371087   & 0.0170567025\\\\\n",
       "\tSITE &   373.470530 &   5          &  1.9874968   & 0.0788064466\\\\\n",
       "\tGIMSTAT &   186.025248 &   3          &  1.6499498   & 0.1768074396\\\\\n",
       "\tMHDIAB &   419.026845 &   1          & 11.1496682   & 0.0008963524\\\\\n",
       "\tMHRHEU1 &    28.651709 &   1          &  0.7623785   & 0.3829594496\\\\\n",
       "\tMHOA &     3.399457 &   1          &  0.0904544   & 0.7637118967\\\\\n",
       "\tMHCHF &    28.474337 &   1          &  0.7576589   & 0.3844351263\\\\\n",
       "\tMHMI &    18.770509 &   1          &  0.4994548   & 0.4800337445\\\\\n",
       "\tTUDRAMT\\_REVISED &   253.503461 &   6          &  1.1242237   & 0.3466441349\\\\\n",
       "\tPQPSQUAL &   148.722510 &   3          &  1.3190934   & 0.2672575859\\\\\n",
       "\tTURSMOKE &    91.070955 &   3          &  0.8077533   & 0.4898876058\\\\\n",
       "\tM1ADEPR &   256.504327 &   1          &  6.8251908   & 0.0092294177\\\\\n",
       "\tM1BENZO &    21.204894 &   1          &  0.5642300   & 0.4528764334\\\\\n",
       "\tPQPEFFIC &    72.790379 &   4          &  0.4842104   & 0.7473546291\\\\\n",
       "\tResiduals & 21045.920658 & 560          &         NA   &           NA\\\\\n",
       "\\end{tabular}\n"
      ],
      "text/markdown": [
       "\n",
       "| <!--/--> | Sum Sq | Df | F value | Pr(>F) | \n",
       "|---|---|---|---|---|---|---|---|---|---|---|---|---|---|---|---|---|---|\n",
       "| Age_78 |    38.805084 |   1          |  1.0325444   | 0.3100006277 | \n",
       "| BMI |   142.960770 |   1          |  3.8039691   | 0.0516297468 | \n",
       "| PASCORE |    63.525971 |   1          |  1.6903297   | 0.1940923657 | \n",
       "| GIERACE |   456.562488 |   4          |  3.0371087   | 0.0170567025 | \n",
       "| SITE |   373.470530 |   5          |  1.9874968   | 0.0788064466 | \n",
       "| GIMSTAT |   186.025248 |   3          |  1.6499498   | 0.1768074396 | \n",
       "| MHDIAB |   419.026845 |   1          | 11.1496682   | 0.0008963524 | \n",
       "| MHRHEU1 |    28.651709 |   1          |  0.7623785   | 0.3829594496 | \n",
       "| MHOA |     3.399457 |   1          |  0.0904544   | 0.7637118967 | \n",
       "| MHCHF |    28.474337 |   1          |  0.7576589   | 0.3844351263 | \n",
       "| MHMI |    18.770509 |   1          |  0.4994548   | 0.4800337445 | \n",
       "| TUDRAMT_REVISED |   253.503461 |   6          |  1.1242237   | 0.3466441349 | \n",
       "| PQPSQUAL |   148.722510 |   3          |  1.3190934   | 0.2672575859 | \n",
       "| TURSMOKE |    91.070955 |   3          |  0.8077533   | 0.4898876058 | \n",
       "| M1ADEPR |   256.504327 |   1          |  6.8251908   | 0.0092294177 | \n",
       "| M1BENZO |    21.204894 |   1          |  0.5642300   | 0.4528764334 | \n",
       "| PQPEFFIC |    72.790379 |   4          |  0.4842104   | 0.7473546291 | \n",
       "| Residuals | 21045.920658 | 560          |         NA   |           NA | \n",
       "\n",
       "\n"
      ],
      "text/plain": [
       "                Sum Sq       Df  F value    Pr(>F)      \n",
       "Age_78             38.805084   1  1.0325444 0.3100006277\n",
       "BMI               142.960770   1  3.8039691 0.0516297468\n",
       "PASCORE            63.525971   1  1.6903297 0.1940923657\n",
       "GIERACE           456.562488   4  3.0371087 0.0170567025\n",
       "SITE              373.470530   5  1.9874968 0.0788064466\n",
       "GIMSTAT           186.025248   3  1.6499498 0.1768074396\n",
       "MHDIAB            419.026845   1 11.1496682 0.0008963524\n",
       "MHRHEU1            28.651709   1  0.7623785 0.3829594496\n",
       "MHOA                3.399457   1  0.0904544 0.7637118967\n",
       "MHCHF              28.474337   1  0.7576589 0.3844351263\n",
       "MHMI               18.770509   1  0.4994548 0.4800337445\n",
       "TUDRAMT_REVISED   253.503461   6  1.1242237 0.3466441349\n",
       "PQPSQUAL          148.722510   3  1.3190934 0.2672575859\n",
       "TURSMOKE           91.070955   3  0.8077533 0.4898876058\n",
       "M1ADEPR           256.504327   1  6.8251908 0.0092294177\n",
       "M1BENZO            21.204894   1  0.5642300 0.4528764334\n",
       "PQPEFFIC           72.790379   4  0.4842104 0.7473546291\n",
       "Residuals       21045.920658 560         NA           NA"
      ]
     },
     "metadata": {},
     "output_type": "display_data"
    }
   ],
   "source": [
    "# drop PQPSLMED\n",
    "Anova(lm(alpha_pd ~ Age_78 + BMI + PASCORE + GIERACE + SITE + GIMSTAT + MHDIAB + MHRHEU1 + MHOA + \n",
    "         MHCHF + MHMI + TUDRAMT_REVISED + PQPSQUAL + TURSMOKE + M1ADEPR + M1BENZO + PQPEFFIC ))"
   ]
  },
  {
   "cell_type": "code",
   "execution_count": 13,
   "metadata": {},
   "outputs": [
    {
     "data": {
      "text/html": [
       "<table>\n",
       "<thead><tr><th></th><th scope=col>Sum Sq</th><th scope=col>Df</th><th scope=col>F value</th><th scope=col>Pr(&gt;F)</th></tr></thead>\n",
       "<tbody>\n",
       "\t<tr><th scope=row>Age_78</th><td>   40.46586</td><td>  1        </td><td> 1.0784838 </td><td>0.299484382</td></tr>\n",
       "\t<tr><th scope=row>BMI</th><td>  146.78731</td><td>  1        </td><td> 3.9121303 </td><td>0.048427684</td></tr>\n",
       "\t<tr><th scope=row>PASCORE</th><td>   64.29775</td><td>  1        </td><td> 1.7136439 </td><td>0.191049209</td></tr>\n",
       "\t<tr><th scope=row>GIERACE</th><td>  458.72649</td><td>  4        </td><td> 3.0564593 </td><td>0.016509016</td></tr>\n",
       "\t<tr><th scope=row>SITE</th><td>  381.72430</td><td>  5        </td><td> 2.0347197 </td><td>0.072195736</td></tr>\n",
       "\t<tr><th scope=row>GIMSTAT</th><td>  190.90748</td><td>  3        </td><td> 1.6960024 </td><td>0.166772443</td></tr>\n",
       "\t<tr><th scope=row>MHDIAB</th><td>  416.79746</td><td>  1        </td><td>11.1083577 </td><td>0.000916035</td></tr>\n",
       "\t<tr><th scope=row>MHRHEU1</th><td>   30.05774</td><td>  1        </td><td> 0.8010896 </td><td>0.371151641</td></tr>\n",
       "\t<tr><th scope=row>MHCHF</th><td>   27.01335</td><td>  1        </td><td> 0.7199515 </td><td>0.396521716</td></tr>\n",
       "\t<tr><th scope=row>MHMI</th><td>   18.63991</td><td>  1        </td><td> 0.4967850 </td><td>0.481208680</td></tr>\n",
       "\t<tr><th scope=row>TUDRAMT_REVISED</th><td>  250.95951</td><td>  6        </td><td> 1.1147493 </td><td>0.352189484</td></tr>\n",
       "\t<tr><th scope=row>PQPSQUAL</th><td>  150.67124</td><td>  3        </td><td> 1.3385478 </td><td>0.260935385</td></tr>\n",
       "\t<tr><th scope=row>TURSMOKE</th><td>   92.24372</td><td>  3        </td><td> 0.8194838 </td><td>0.483430141</td></tr>\n",
       "\t<tr><th scope=row>M1ADEPR</th><td>  255.03564</td><td>  1        </td><td> 6.7971313 </td><td>0.009373346</td></tr>\n",
       "\t<tr><th scope=row>M1BENZO</th><td>   20.69102</td><td>  1        </td><td> 0.5514507 </td><td>0.458036381</td></tr>\n",
       "\t<tr><th scope=row>PQPEFFIC</th><td>   71.48845</td><td>  4        </td><td> 0.4763221 </td><td>0.753144361</td></tr>\n",
       "\t<tr><th scope=row>Residuals</th><td>21049.32012</td><td>561        </td><td>        NA </td><td>         NA</td></tr>\n",
       "</tbody>\n",
       "</table>\n"
      ],
      "text/latex": [
       "\\begin{tabular}{r|llll}\n",
       "  & Sum Sq & Df & F value & Pr(>F)\\\\\n",
       "\\hline\n",
       "\tAge\\_78 &    40.46586 &   1         &  1.0784838  & 0.299484382\\\\\n",
       "\tBMI &   146.78731 &   1         &  3.9121303  & 0.048427684\\\\\n",
       "\tPASCORE &    64.29775 &   1         &  1.7136439  & 0.191049209\\\\\n",
       "\tGIERACE &   458.72649 &   4         &  3.0564593  & 0.016509016\\\\\n",
       "\tSITE &   381.72430 &   5         &  2.0347197  & 0.072195736\\\\\n",
       "\tGIMSTAT &   190.90748 &   3         &  1.6960024  & 0.166772443\\\\\n",
       "\tMHDIAB &   416.79746 &   1         & 11.1083577  & 0.000916035\\\\\n",
       "\tMHRHEU1 &    30.05774 &   1         &  0.8010896  & 0.371151641\\\\\n",
       "\tMHCHF &    27.01335 &   1         &  0.7199515  & 0.396521716\\\\\n",
       "\tMHMI &    18.63991 &   1         &  0.4967850  & 0.481208680\\\\\n",
       "\tTUDRAMT\\_REVISED &   250.95951 &   6         &  1.1147493  & 0.352189484\\\\\n",
       "\tPQPSQUAL &   150.67124 &   3         &  1.3385478  & 0.260935385\\\\\n",
       "\tTURSMOKE &    92.24372 &   3         &  0.8194838  & 0.483430141\\\\\n",
       "\tM1ADEPR &   255.03564 &   1         &  6.7971313  & 0.009373346\\\\\n",
       "\tM1BENZO &    20.69102 &   1         &  0.5514507  & 0.458036381\\\\\n",
       "\tPQPEFFIC &    71.48845 &   4         &  0.4763221  & 0.753144361\\\\\n",
       "\tResiduals & 21049.32012 & 561         &         NA  &          NA\\\\\n",
       "\\end{tabular}\n"
      ],
      "text/markdown": [
       "\n",
       "| <!--/--> | Sum Sq | Df | F value | Pr(>F) | \n",
       "|---|---|---|---|---|---|---|---|---|---|---|---|---|---|---|---|---|\n",
       "| Age_78 |    40.46586 |   1         |  1.0784838  | 0.299484382 | \n",
       "| BMI |   146.78731 |   1         |  3.9121303  | 0.048427684 | \n",
       "| PASCORE |    64.29775 |   1         |  1.7136439  | 0.191049209 | \n",
       "| GIERACE |   458.72649 |   4         |  3.0564593  | 0.016509016 | \n",
       "| SITE |   381.72430 |   5         |  2.0347197  | 0.072195736 | \n",
       "| GIMSTAT |   190.90748 |   3         |  1.6960024  | 0.166772443 | \n",
       "| MHDIAB |   416.79746 |   1         | 11.1083577  | 0.000916035 | \n",
       "| MHRHEU1 |    30.05774 |   1         |  0.8010896  | 0.371151641 | \n",
       "| MHCHF |    27.01335 |   1         |  0.7199515  | 0.396521716 | \n",
       "| MHMI |    18.63991 |   1         |  0.4967850  | 0.481208680 | \n",
       "| TUDRAMT_REVISED |   250.95951 |   6         |  1.1147493  | 0.352189484 | \n",
       "| PQPSQUAL |   150.67124 |   3         |  1.3385478  | 0.260935385 | \n",
       "| TURSMOKE |    92.24372 |   3         |  0.8194838  | 0.483430141 | \n",
       "| M1ADEPR |   255.03564 |   1         |  6.7971313  | 0.009373346 | \n",
       "| M1BENZO |    20.69102 |   1         |  0.5514507  | 0.458036381 | \n",
       "| PQPEFFIC |    71.48845 |   4         |  0.4763221  | 0.753144361 | \n",
       "| Residuals | 21049.32012 | 561         |         NA  |          NA | \n",
       "\n",
       "\n"
      ],
      "text/plain": [
       "                Sum Sq      Df  F value    Pr(>F)     \n",
       "Age_78             40.46586   1  1.0784838 0.299484382\n",
       "BMI               146.78731   1  3.9121303 0.048427684\n",
       "PASCORE            64.29775   1  1.7136439 0.191049209\n",
       "GIERACE           458.72649   4  3.0564593 0.016509016\n",
       "SITE              381.72430   5  2.0347197 0.072195736\n",
       "GIMSTAT           190.90748   3  1.6960024 0.166772443\n",
       "MHDIAB            416.79746   1 11.1083577 0.000916035\n",
       "MHRHEU1            30.05774   1  0.8010896 0.371151641\n",
       "MHCHF              27.01335   1  0.7199515 0.396521716\n",
       "MHMI               18.63991   1  0.4967850 0.481208680\n",
       "TUDRAMT_REVISED   250.95951   6  1.1147493 0.352189484\n",
       "PQPSQUAL          150.67124   3  1.3385478 0.260935385\n",
       "TURSMOKE           92.24372   3  0.8194838 0.483430141\n",
       "M1ADEPR           255.03564   1  6.7971313 0.009373346\n",
       "M1BENZO            20.69102   1  0.5514507 0.458036381\n",
       "PQPEFFIC           71.48845   4  0.4763221 0.753144361\n",
       "Residuals       21049.32012 561         NA          NA"
      ]
     },
     "metadata": {},
     "output_type": "display_data"
    }
   ],
   "source": [
    "# drop MHOA\n",
    "Anova(lm(alpha_pd ~ Age_78 + BMI + PASCORE + GIERACE + SITE + GIMSTAT + MHDIAB + MHRHEU1 + \n",
    "         MHCHF + MHMI + TUDRAMT_REVISED + PQPSQUAL + TURSMOKE + M1ADEPR + M1BENZO + PQPEFFIC ))"
   ]
  },
  {
   "cell_type": "code",
   "execution_count": 14,
   "metadata": {},
   "outputs": [
    {
     "data": {
      "text/html": [
       "<table>\n",
       "<thead><tr><th></th><th scope=col>Sum Sq</th><th scope=col>Df</th><th scope=col>F value</th><th scope=col>Pr(&gt;F)</th></tr></thead>\n",
       "<tbody>\n",
       "\t<tr><th scope=row>Age_78</th><td>   34.51268 </td><td>  1         </td><td> 0.9232443  </td><td>0.3370355812</td></tr>\n",
       "\t<tr><th scope=row>BMI</th><td>  140.40112 </td><td>  1         </td><td> 3.7558521  </td><td>0.0531208160</td></tr>\n",
       "\t<tr><th scope=row>PASCORE</th><td>   74.76678 </td><td>  1         </td><td> 2.0000764  </td><td>0.1578420755</td></tr>\n",
       "\t<tr><th scope=row>GIERACE</th><td>  467.10255 </td><td>  4         </td><td> 3.1238499  </td><td>0.0147316162</td></tr>\n",
       "\t<tr><th scope=row>SITE</th><td>  375.60165 </td><td>  5         </td><td> 2.0095342  </td><td>0.0756400324</td></tr>\n",
       "\t<tr><th scope=row>GIMSTAT</th><td>  190.15097 </td><td>  3         </td><td> 1.6955680  </td><td>0.1668552999</td></tr>\n",
       "\t<tr><th scope=row>MHDIAB</th><td>  446.70633 </td><td>  1         </td><td>11.9497829  </td><td>0.0005876409</td></tr>\n",
       "\t<tr><th scope=row>MHRHEU1</th><td>   28.87715 </td><td>  1         </td><td> 0.7724888  </td><td>0.3798218504</td></tr>\n",
       "\t<tr><th scope=row>MHCHF</th><td>   24.72020 </td><td>  1         </td><td> 0.6612868  </td><td>0.4164485458</td></tr>\n",
       "\t<tr><th scope=row>MHMI</th><td>   20.25133 </td><td>  1         </td><td> 0.5417406  </td><td>0.4620177241</td></tr>\n",
       "\t<tr><th scope=row>TUDRAMT_REVISED</th><td>  263.63424 </td><td>  6         </td><td> 1.1754075  </td><td>0.3177558287</td></tr>\n",
       "\t<tr><th scope=row>PQPSQUAL</th><td>  161.41963 </td><td>  3         </td><td> 1.4393718  </td><td>0.2303093479</td></tr>\n",
       "\t<tr><th scope=row>TURSMOKE</th><td>   91.93151 </td><td>  3         </td><td> 0.8197493  </td><td>0.4832806528</td></tr>\n",
       "\t<tr><th scope=row>M1ADEPR</th><td>  265.30321 </td><td>  1         </td><td> 7.0970917  </td><td>0.0079413405</td></tr>\n",
       "\t<tr><th scope=row>M1BENZO</th><td>   17.77964 </td><td>  1         </td><td> 0.4756207  </td><td>0.4906958249</td></tr>\n",
       "\t<tr><th scope=row>Residuals</th><td>21120.80857 </td><td>565         </td><td>        NA  </td><td>          NA</td></tr>\n",
       "</tbody>\n",
       "</table>\n"
      ],
      "text/latex": [
       "\\begin{tabular}{r|llll}\n",
       "  & Sum Sq & Df & F value & Pr(>F)\\\\\n",
       "\\hline\n",
       "\tAge\\_78 &    34.51268  &   1          &  0.9232443   & 0.3370355812\\\\\n",
       "\tBMI &   140.40112  &   1          &  3.7558521   & 0.0531208160\\\\\n",
       "\tPASCORE &    74.76678  &   1          &  2.0000764   & 0.1578420755\\\\\n",
       "\tGIERACE &   467.10255  &   4          &  3.1238499   & 0.0147316162\\\\\n",
       "\tSITE &   375.60165  &   5          &  2.0095342   & 0.0756400324\\\\\n",
       "\tGIMSTAT &   190.15097  &   3          &  1.6955680   & 0.1668552999\\\\\n",
       "\tMHDIAB &   446.70633  &   1          & 11.9497829   & 0.0005876409\\\\\n",
       "\tMHRHEU1 &    28.87715  &   1          &  0.7724888   & 0.3798218504\\\\\n",
       "\tMHCHF &    24.72020  &   1          &  0.6612868   & 0.4164485458\\\\\n",
       "\tMHMI &    20.25133  &   1          &  0.5417406   & 0.4620177241\\\\\n",
       "\tTUDRAMT\\_REVISED &   263.63424  &   6          &  1.1754075   & 0.3177558287\\\\\n",
       "\tPQPSQUAL &   161.41963  &   3          &  1.4393718   & 0.2303093479\\\\\n",
       "\tTURSMOKE &    91.93151  &   3          &  0.8197493   & 0.4832806528\\\\\n",
       "\tM1ADEPR &   265.30321  &   1          &  7.0970917   & 0.0079413405\\\\\n",
       "\tM1BENZO &    17.77964  &   1          &  0.4756207   & 0.4906958249\\\\\n",
       "\tResiduals & 21120.80857  & 565          &         NA   &           NA\\\\\n",
       "\\end{tabular}\n"
      ],
      "text/markdown": [
       "\n",
       "| <!--/--> | Sum Sq | Df | F value | Pr(>F) | \n",
       "|---|---|---|---|---|---|---|---|---|---|---|---|---|---|---|---|\n",
       "| Age_78 |    34.51268  |   1          |  0.9232443   | 0.3370355812 | \n",
       "| BMI |   140.40112  |   1          |  3.7558521   | 0.0531208160 | \n",
       "| PASCORE |    74.76678  |   1          |  2.0000764   | 0.1578420755 | \n",
       "| GIERACE |   467.10255  |   4          |  3.1238499   | 0.0147316162 | \n",
       "| SITE |   375.60165  |   5          |  2.0095342   | 0.0756400324 | \n",
       "| GIMSTAT |   190.15097  |   3          |  1.6955680   | 0.1668552999 | \n",
       "| MHDIAB |   446.70633  |   1          | 11.9497829   | 0.0005876409 | \n",
       "| MHRHEU1 |    28.87715  |   1          |  0.7724888   | 0.3798218504 | \n",
       "| MHCHF |    24.72020  |   1          |  0.6612868   | 0.4164485458 | \n",
       "| MHMI |    20.25133  |   1          |  0.5417406   | 0.4620177241 | \n",
       "| TUDRAMT_REVISED |   263.63424  |   6          |  1.1754075   | 0.3177558287 | \n",
       "| PQPSQUAL |   161.41963  |   3          |  1.4393718   | 0.2303093479 | \n",
       "| TURSMOKE |    91.93151  |   3          |  0.8197493   | 0.4832806528 | \n",
       "| M1ADEPR |   265.30321  |   1          |  7.0970917   | 0.0079413405 | \n",
       "| M1BENZO |    17.77964  |   1          |  0.4756207   | 0.4906958249 | \n",
       "| Residuals | 21120.80857  | 565          |         NA   |           NA | \n",
       "\n",
       "\n"
      ],
      "text/plain": [
       "                Sum Sq      Df  F value    Pr(>F)      \n",
       "Age_78             34.51268   1  0.9232443 0.3370355812\n",
       "BMI               140.40112   1  3.7558521 0.0531208160\n",
       "PASCORE            74.76678   1  2.0000764 0.1578420755\n",
       "GIERACE           467.10255   4  3.1238499 0.0147316162\n",
       "SITE              375.60165   5  2.0095342 0.0756400324\n",
       "GIMSTAT           190.15097   3  1.6955680 0.1668552999\n",
       "MHDIAB            446.70633   1 11.9497829 0.0005876409\n",
       "MHRHEU1            28.87715   1  0.7724888 0.3798218504\n",
       "MHCHF              24.72020   1  0.6612868 0.4164485458\n",
       "MHMI               20.25133   1  0.5417406 0.4620177241\n",
       "TUDRAMT_REVISED   263.63424   6  1.1754075 0.3177558287\n",
       "PQPSQUAL          161.41963   3  1.4393718 0.2303093479\n",
       "TURSMOKE           91.93151   3  0.8197493 0.4832806528\n",
       "M1ADEPR           265.30321   1  7.0970917 0.0079413405\n",
       "M1BENZO            17.77964   1  0.4756207 0.4906958249\n",
       "Residuals       21120.80857 565         NA           NA"
      ]
     },
     "metadata": {},
     "output_type": "display_data"
    }
   ],
   "source": [
    "# drop PQPEFFIC\n",
    "Anova(lm(alpha_pd ~ Age_78 + BMI + PASCORE + GIERACE + SITE + GIMSTAT + MHDIAB + MHRHEU1 + \n",
    "         MHCHF + MHMI + TUDRAMT_REVISED + PQPSQUAL + TURSMOKE + M1ADEPR + M1BENZO))"
   ]
  },
  {
   "cell_type": "code",
   "execution_count": 15,
   "metadata": {},
   "outputs": [
    {
     "data": {
      "text/html": [
       "<table>\n",
       "<thead><tr><th></th><th scope=col>Sum Sq</th><th scope=col>Df</th><th scope=col>F value</th><th scope=col>Pr(&gt;F)</th></tr></thead>\n",
       "<tbody>\n",
       "\t<tr><th scope=row>Age_78</th><td>   39.41149 </td><td>  1         </td><td> 1.0552692  </td><td>0.3047354626</td></tr>\n",
       "\t<tr><th scope=row>BMI</th><td>  142.97141 </td><td>  1         </td><td> 3.8281561  </td><td>0.0508896541</td></tr>\n",
       "\t<tr><th scope=row>PASCORE</th><td>   79.11156 </td><td>  1         </td><td> 2.1182656  </td><td>0.1461056914</td></tr>\n",
       "\t<tr><th scope=row>GIERACE</th><td>  461.39109 </td><td>  4         </td><td> 3.0885147  </td><td>0.0156348701</td></tr>\n",
       "\t<tr><th scope=row>SITE</th><td>  395.46556 </td><td>  5         </td><td> 2.1177716  </td><td>0.0618020484</td></tr>\n",
       "\t<tr><th scope=row>GIMSTAT</th><td>  199.85663 </td><td>  3         </td><td> 1.7837655  </td><td>0.1491127045</td></tr>\n",
       "\t<tr><th scope=row>MHDIAB</th><td>  446.33781 </td><td>  1         </td><td>11.9509969  </td><td>0.0005871919</td></tr>\n",
       "\t<tr><th scope=row>MHRHEU1</th><td>   31.82970 </td><td>  1         </td><td> 0.8522618  </td><td>0.3563066382</td></tr>\n",
       "\t<tr><th scope=row>MHCHF</th><td>   26.55184 </td><td>  1         </td><td> 0.7109434  </td><td>0.3994869701</td></tr>\n",
       "\t<tr><th scope=row>MHMI</th><td>   20.54890 </td><td>  1         </td><td> 0.5502108  </td><td>0.4585392474</td></tr>\n",
       "\t<tr><th scope=row>TUDRAMT_REVISED</th><td>  276.57442 </td><td>  6         </td><td> 1.2342445  </td><td>0.2868422172</td></tr>\n",
       "\t<tr><th scope=row>PQPSQUAL</th><td>  161.81288 </td><td>  3         </td><td> 1.4442164  </td><td>0.2289228685</td></tr>\n",
       "\t<tr><th scope=row>TURSMOKE</th><td>   97.91169 </td><td>  3         </td><td> 0.8738839  </td><td>0.4543588950</td></tr>\n",
       "\t<tr><th scope=row>M1ADEPR</th><td>  298.61486 </td><td>  1         </td><td> 7.9956150  </td><td>0.0048550274</td></tr>\n",
       "\t<tr><th scope=row>Residuals</th><td>21138.58820 </td><td>566         </td><td>        NA  </td><td>          NA</td></tr>\n",
       "</tbody>\n",
       "</table>\n"
      ],
      "text/latex": [
       "\\begin{tabular}{r|llll}\n",
       "  & Sum Sq & Df & F value & Pr(>F)\\\\\n",
       "\\hline\n",
       "\tAge\\_78 &    39.41149  &   1          &  1.0552692   & 0.3047354626\\\\\n",
       "\tBMI &   142.97141  &   1          &  3.8281561   & 0.0508896541\\\\\n",
       "\tPASCORE &    79.11156  &   1          &  2.1182656   & 0.1461056914\\\\\n",
       "\tGIERACE &   461.39109  &   4          &  3.0885147   & 0.0156348701\\\\\n",
       "\tSITE &   395.46556  &   5          &  2.1177716   & 0.0618020484\\\\\n",
       "\tGIMSTAT &   199.85663  &   3          &  1.7837655   & 0.1491127045\\\\\n",
       "\tMHDIAB &   446.33781  &   1          & 11.9509969   & 0.0005871919\\\\\n",
       "\tMHRHEU1 &    31.82970  &   1          &  0.8522618   & 0.3563066382\\\\\n",
       "\tMHCHF &    26.55184  &   1          &  0.7109434   & 0.3994869701\\\\\n",
       "\tMHMI &    20.54890  &   1          &  0.5502108   & 0.4585392474\\\\\n",
       "\tTUDRAMT\\_REVISED &   276.57442  &   6          &  1.2342445   & 0.2868422172\\\\\n",
       "\tPQPSQUAL &   161.81288  &   3          &  1.4442164   & 0.2289228685\\\\\n",
       "\tTURSMOKE &    97.91169  &   3          &  0.8738839   & 0.4543588950\\\\\n",
       "\tM1ADEPR &   298.61486  &   1          &  7.9956150   & 0.0048550274\\\\\n",
       "\tResiduals & 21138.58820  & 566          &         NA   &           NA\\\\\n",
       "\\end{tabular}\n"
      ],
      "text/markdown": [
       "\n",
       "| <!--/--> | Sum Sq | Df | F value | Pr(>F) | \n",
       "|---|---|---|---|---|---|---|---|---|---|---|---|---|---|---|\n",
       "| Age_78 |    39.41149  |   1          |  1.0552692   | 0.3047354626 | \n",
       "| BMI |   142.97141  |   1          |  3.8281561   | 0.0508896541 | \n",
       "| PASCORE |    79.11156  |   1          |  2.1182656   | 0.1461056914 | \n",
       "| GIERACE |   461.39109  |   4          |  3.0885147   | 0.0156348701 | \n",
       "| SITE |   395.46556  |   5          |  2.1177716   | 0.0618020484 | \n",
       "| GIMSTAT |   199.85663  |   3          |  1.7837655   | 0.1491127045 | \n",
       "| MHDIAB |   446.33781  |   1          | 11.9509969   | 0.0005871919 | \n",
       "| MHRHEU1 |    31.82970  |   1          |  0.8522618   | 0.3563066382 | \n",
       "| MHCHF |    26.55184  |   1          |  0.7109434   | 0.3994869701 | \n",
       "| MHMI |    20.54890  |   1          |  0.5502108   | 0.4585392474 | \n",
       "| TUDRAMT_REVISED |   276.57442  |   6          |  1.2342445   | 0.2868422172 | \n",
       "| PQPSQUAL |   161.81288  |   3          |  1.4442164   | 0.2289228685 | \n",
       "| TURSMOKE |    97.91169  |   3          |  0.8738839   | 0.4543588950 | \n",
       "| M1ADEPR |   298.61486  |   1          |  7.9956150   | 0.0048550274 | \n",
       "| Residuals | 21138.58820  | 566          |         NA   |           NA | \n",
       "\n",
       "\n"
      ],
      "text/plain": [
       "                Sum Sq      Df  F value    Pr(>F)      \n",
       "Age_78             39.41149   1  1.0552692 0.3047354626\n",
       "BMI               142.97141   1  3.8281561 0.0508896541\n",
       "PASCORE            79.11156   1  2.1182656 0.1461056914\n",
       "GIERACE           461.39109   4  3.0885147 0.0156348701\n",
       "SITE              395.46556   5  2.1177716 0.0618020484\n",
       "GIMSTAT           199.85663   3  1.7837655 0.1491127045\n",
       "MHDIAB            446.33781   1 11.9509969 0.0005871919\n",
       "MHRHEU1            31.82970   1  0.8522618 0.3563066382\n",
       "MHCHF              26.55184   1  0.7109434 0.3994869701\n",
       "MHMI               20.54890   1  0.5502108 0.4585392474\n",
       "TUDRAMT_REVISED   276.57442   6  1.2342445 0.2868422172\n",
       "PQPSQUAL          161.81288   3  1.4442164 0.2289228685\n",
       "TURSMOKE           97.91169   3  0.8738839 0.4543588950\n",
       "M1ADEPR           298.61486   1  7.9956150 0.0048550274\n",
       "Residuals       21138.58820 566         NA           NA"
      ]
     },
     "metadata": {},
     "output_type": "display_data"
    }
   ],
   "source": [
    "## drop M1BENZO\n",
    "Anova(lm(alpha_pd ~ Age_78 + BMI + PASCORE + GIERACE + SITE + GIMSTAT + MHDIAB + MHRHEU1 + \n",
    "         MHCHF + MHMI + TUDRAMT_REVISED + PQPSQUAL + TURSMOKE + M1ADEPR))"
   ]
  },
  {
   "cell_type": "code",
   "execution_count": 16,
   "metadata": {},
   "outputs": [
    {
     "data": {
      "text/html": [
       "<table>\n",
       "<thead><tr><th></th><th scope=col>Sum Sq</th><th scope=col>Df</th><th scope=col>F value</th><th scope=col>Pr(&gt;F)</th></tr></thead>\n",
       "<tbody>\n",
       "\t<tr><th scope=row>Age_78</th><td>   39.15136 </td><td>  1         </td><td> 1.0490018  </td><td>0.3061723287</td></tr>\n",
       "\t<tr><th scope=row>BMI</th><td>  164.33689 </td><td>  1         </td><td> 4.4031592  </td><td>0.0363126919</td></tr>\n",
       "\t<tr><th scope=row>PASCORE</th><td>   78.45065 </td><td>  1         </td><td> 2.1019670  </td><td>0.1476607340</td></tr>\n",
       "\t<tr><th scope=row>GIERACE</th><td>  449.26697 </td><td>  4         </td><td> 3.0093578  </td><td>0.0178584199</td></tr>\n",
       "\t<tr><th scope=row>SITE</th><td>  375.57873 </td><td>  5         </td><td> 2.0126132  </td><td>0.0751970873</td></tr>\n",
       "\t<tr><th scope=row>GIMSTAT</th><td>  188.38917 </td><td>  3         </td><td> 1.6825346  </td><td>0.1696311759</td></tr>\n",
       "\t<tr><th scope=row>MHDIAB</th><td>  436.60218 </td><td>  1         </td><td>11.6980971  </td><td>0.0006704908</td></tr>\n",
       "\t<tr><th scope=row>MHRHEU1</th><td>   41.63448 </td><td>  1         </td><td> 1.1155331  </td><td>0.2913305503</td></tr>\n",
       "\t<tr><th scope=row>MHCHF</th><td>   29.54916 </td><td>  1         </td><td> 0.7917253  </td><td>0.3739549739</td></tr>\n",
       "\t<tr><th scope=row>MHMI</th><td>   15.06118 </td><td>  1         </td><td> 0.4035416  </td><td>0.5255212586</td></tr>\n",
       "\t<tr><th scope=row>TUDRAMT_REVISED</th><td>  251.71814 </td><td>  6         </td><td> 1.1240680  </td><td>0.3467095982</td></tr>\n",
       "\t<tr><th scope=row>PQPSQUAL</th><td>  177.14105 </td><td>  3         </td><td> 1.5820758  </td><td>0.1926134487</td></tr>\n",
       "\t<tr><th scope=row>M1ADEPR</th><td>  310.24357 </td><td>  1         </td><td> 8.3125089  </td><td>0.0040861359</td></tr>\n",
       "\t<tr><th scope=row>Residuals</th><td>21236.49989 </td><td>569         </td><td>        NA  </td><td>          NA</td></tr>\n",
       "</tbody>\n",
       "</table>\n"
      ],
      "text/latex": [
       "\\begin{tabular}{r|llll}\n",
       "  & Sum Sq & Df & F value & Pr(>F)\\\\\n",
       "\\hline\n",
       "\tAge\\_78 &    39.15136  &   1          &  1.0490018   & 0.3061723287\\\\\n",
       "\tBMI &   164.33689  &   1          &  4.4031592   & 0.0363126919\\\\\n",
       "\tPASCORE &    78.45065  &   1          &  2.1019670   & 0.1476607340\\\\\n",
       "\tGIERACE &   449.26697  &   4          &  3.0093578   & 0.0178584199\\\\\n",
       "\tSITE &   375.57873  &   5          &  2.0126132   & 0.0751970873\\\\\n",
       "\tGIMSTAT &   188.38917  &   3          &  1.6825346   & 0.1696311759\\\\\n",
       "\tMHDIAB &   436.60218  &   1          & 11.6980971   & 0.0006704908\\\\\n",
       "\tMHRHEU1 &    41.63448  &   1          &  1.1155331   & 0.2913305503\\\\\n",
       "\tMHCHF &    29.54916  &   1          &  0.7917253   & 0.3739549739\\\\\n",
       "\tMHMI &    15.06118  &   1          &  0.4035416   & 0.5255212586\\\\\n",
       "\tTUDRAMT\\_REVISED &   251.71814  &   6          &  1.1240680   & 0.3467095982\\\\\n",
       "\tPQPSQUAL &   177.14105  &   3          &  1.5820758   & 0.1926134487\\\\\n",
       "\tM1ADEPR &   310.24357  &   1          &  8.3125089   & 0.0040861359\\\\\n",
       "\tResiduals & 21236.49989  & 569          &         NA   &           NA\\\\\n",
       "\\end{tabular}\n"
      ],
      "text/markdown": [
       "\n",
       "| <!--/--> | Sum Sq | Df | F value | Pr(>F) | \n",
       "|---|---|---|---|---|---|---|---|---|---|---|---|---|---|\n",
       "| Age_78 |    39.15136  |   1          |  1.0490018   | 0.3061723287 | \n",
       "| BMI |   164.33689  |   1          |  4.4031592   | 0.0363126919 | \n",
       "| PASCORE |    78.45065  |   1          |  2.1019670   | 0.1476607340 | \n",
       "| GIERACE |   449.26697  |   4          |  3.0093578   | 0.0178584199 | \n",
       "| SITE |   375.57873  |   5          |  2.0126132   | 0.0751970873 | \n",
       "| GIMSTAT |   188.38917  |   3          |  1.6825346   | 0.1696311759 | \n",
       "| MHDIAB |   436.60218  |   1          | 11.6980971   | 0.0006704908 | \n",
       "| MHRHEU1 |    41.63448  |   1          |  1.1155331   | 0.2913305503 | \n",
       "| MHCHF |    29.54916  |   1          |  0.7917253   | 0.3739549739 | \n",
       "| MHMI |    15.06118  |   1          |  0.4035416   | 0.5255212586 | \n",
       "| TUDRAMT_REVISED |   251.71814  |   6          |  1.1240680   | 0.3467095982 | \n",
       "| PQPSQUAL |   177.14105  |   3          |  1.5820758   | 0.1926134487 | \n",
       "| M1ADEPR |   310.24357  |   1          |  8.3125089   | 0.0040861359 | \n",
       "| Residuals | 21236.49989  | 569          |         NA   |           NA | \n",
       "\n",
       "\n"
      ],
      "text/plain": [
       "                Sum Sq      Df  F value    Pr(>F)      \n",
       "Age_78             39.15136   1  1.0490018 0.3061723287\n",
       "BMI               164.33689   1  4.4031592 0.0363126919\n",
       "PASCORE            78.45065   1  2.1019670 0.1476607340\n",
       "GIERACE           449.26697   4  3.0093578 0.0178584199\n",
       "SITE              375.57873   5  2.0126132 0.0751970873\n",
       "GIMSTAT           188.38917   3  1.6825346 0.1696311759\n",
       "MHDIAB            436.60218   1 11.6980971 0.0006704908\n",
       "MHRHEU1            41.63448   1  1.1155331 0.2913305503\n",
       "MHCHF              29.54916   1  0.7917253 0.3739549739\n",
       "MHMI               15.06118   1  0.4035416 0.5255212586\n",
       "TUDRAMT_REVISED   251.71814   6  1.1240680 0.3467095982\n",
       "PQPSQUAL          177.14105   3  1.5820758 0.1926134487\n",
       "M1ADEPR           310.24357   1  8.3125089 0.0040861359\n",
       "Residuals       21236.49989 569         NA           NA"
      ]
     },
     "metadata": {},
     "output_type": "display_data"
    }
   ],
   "source": [
    "## drop TURSMOKE\n",
    "Anova(lm(alpha_pd ~ Age_78 + BMI + PASCORE + GIERACE + SITE + GIMSTAT + MHDIAB + MHRHEU1 + \n",
    "         MHCHF + MHMI + TUDRAMT_REVISED + PQPSQUAL + M1ADEPR ))"
   ]
  },
  {
   "cell_type": "code",
   "execution_count": 17,
   "metadata": {},
   "outputs": [
    {
     "data": {
      "text/html": [
       "<table>\n",
       "<thead><tr><th></th><th scope=col>Sum Sq</th><th scope=col>Df</th><th scope=col>F value</th><th scope=col>Pr(&gt;F)</th></tr></thead>\n",
       "<tbody>\n",
       "\t<tr><th scope=row>Age_78</th><td>   39.52548 </td><td>  1         </td><td> 1.060135   </td><td>0.3036211083</td></tr>\n",
       "\t<tr><th scope=row>BMI</th><td>  165.79079 </td><td>  1         </td><td> 4.446768   </td><td>0.0354030309</td></tr>\n",
       "\t<tr><th scope=row>PASCORE</th><td>   76.56707 </td><td>  1         </td><td> 2.053648   </td><td>0.1523902133</td></tr>\n",
       "\t<tr><th scope=row>GIERACE</th><td>  454.69955 </td><td>  4         </td><td> 3.048938   </td><td>0.0167071086</td></tr>\n",
       "\t<tr><th scope=row>SITE</th><td>  374.01353 </td><td>  5         </td><td> 2.006325   </td><td>0.0760760799</td></tr>\n",
       "\t<tr><th scope=row>GIMSTAT</th><td>  185.73935 </td><td>  3         </td><td> 1.660606   </td><td>0.1744137411</td></tr>\n",
       "\t<tr><th scope=row>MHDIAB</th><td>  436.54542 </td><td>  1         </td><td>11.708829   </td><td>0.0006666331</td></tr>\n",
       "\t<tr><th scope=row>MHRHEU1</th><td>   42.41108 </td><td>  1         </td><td> 1.137531   </td><td>0.2866260980</td></tr>\n",
       "\t<tr><th scope=row>MHCHF</th><td>   40.57221 </td><td>  1         </td><td> 1.088210   </td><td>0.2973104077</td></tr>\n",
       "\t<tr><th scope=row>TUDRAMT_REVISED</th><td>  247.83709 </td><td>  6         </td><td> 1.107896   </td><td>0.3562178816</td></tr>\n",
       "\t<tr><th scope=row>PQPSQUAL</th><td>  177.73950 </td><td>  3         </td><td> 1.589084   </td><td>0.1909177087</td></tr>\n",
       "\t<tr><th scope=row>M1ADEPR</th><td>  305.68081 </td><td>  1         </td><td> 8.198836   </td><td>0.0043459563</td></tr>\n",
       "\t<tr><th scope=row>Residuals</th><td>21251.56107 </td><td>570         </td><td>       NA   </td><td>          NA</td></tr>\n",
       "</tbody>\n",
       "</table>\n"
      ],
      "text/latex": [
       "\\begin{tabular}{r|llll}\n",
       "  & Sum Sq & Df & F value & Pr(>F)\\\\\n",
       "\\hline\n",
       "\tAge\\_78 &    39.52548  &   1          &  1.060135    & 0.3036211083\\\\\n",
       "\tBMI &   165.79079  &   1          &  4.446768    & 0.0354030309\\\\\n",
       "\tPASCORE &    76.56707  &   1          &  2.053648    & 0.1523902133\\\\\n",
       "\tGIERACE &   454.69955  &   4          &  3.048938    & 0.0167071086\\\\\n",
       "\tSITE &   374.01353  &   5          &  2.006325    & 0.0760760799\\\\\n",
       "\tGIMSTAT &   185.73935  &   3          &  1.660606    & 0.1744137411\\\\\n",
       "\tMHDIAB &   436.54542  &   1          & 11.708829    & 0.0006666331\\\\\n",
       "\tMHRHEU1 &    42.41108  &   1          &  1.137531    & 0.2866260980\\\\\n",
       "\tMHCHF &    40.57221  &   1          &  1.088210    & 0.2973104077\\\\\n",
       "\tTUDRAMT\\_REVISED &   247.83709  &   6          &  1.107896    & 0.3562178816\\\\\n",
       "\tPQPSQUAL &   177.73950  &   3          &  1.589084    & 0.1909177087\\\\\n",
       "\tM1ADEPR &   305.68081  &   1          &  8.198836    & 0.0043459563\\\\\n",
       "\tResiduals & 21251.56107  & 570          &        NA    &           NA\\\\\n",
       "\\end{tabular}\n"
      ],
      "text/markdown": [
       "\n",
       "| <!--/--> | Sum Sq | Df | F value | Pr(>F) | \n",
       "|---|---|---|---|---|---|---|---|---|---|---|---|---|\n",
       "| Age_78 |    39.52548  |   1          |  1.060135    | 0.3036211083 | \n",
       "| BMI |   165.79079  |   1          |  4.446768    | 0.0354030309 | \n",
       "| PASCORE |    76.56707  |   1          |  2.053648    | 0.1523902133 | \n",
       "| GIERACE |   454.69955  |   4          |  3.048938    | 0.0167071086 | \n",
       "| SITE |   374.01353  |   5          |  2.006325    | 0.0760760799 | \n",
       "| GIMSTAT |   185.73935  |   3          |  1.660606    | 0.1744137411 | \n",
       "| MHDIAB |   436.54542  |   1          | 11.708829    | 0.0006666331 | \n",
       "| MHRHEU1 |    42.41108  |   1          |  1.137531    | 0.2866260980 | \n",
       "| MHCHF |    40.57221  |   1          |  1.088210    | 0.2973104077 | \n",
       "| TUDRAMT_REVISED |   247.83709  |   6          |  1.107896    | 0.3562178816 | \n",
       "| PQPSQUAL |   177.73950  |   3          |  1.589084    | 0.1909177087 | \n",
       "| M1ADEPR |   305.68081  |   1          |  8.198836    | 0.0043459563 | \n",
       "| Residuals | 21251.56107  | 570          |        NA    |           NA | \n",
       "\n",
       "\n"
      ],
      "text/plain": [
       "                Sum Sq      Df  F value   Pr(>F)      \n",
       "Age_78             39.52548   1  1.060135 0.3036211083\n",
       "BMI               165.79079   1  4.446768 0.0354030309\n",
       "PASCORE            76.56707   1  2.053648 0.1523902133\n",
       "GIERACE           454.69955   4  3.048938 0.0167071086\n",
       "SITE              374.01353   5  2.006325 0.0760760799\n",
       "GIMSTAT           185.73935   3  1.660606 0.1744137411\n",
       "MHDIAB            436.54542   1 11.708829 0.0006666331\n",
       "MHRHEU1            42.41108   1  1.137531 0.2866260980\n",
       "MHCHF              40.57221   1  1.088210 0.2973104077\n",
       "TUDRAMT_REVISED   247.83709   6  1.107896 0.3562178816\n",
       "PQPSQUAL          177.73950   3  1.589084 0.1909177087\n",
       "M1ADEPR           305.68081   1  8.198836 0.0043459563\n",
       "Residuals       21251.56107 570        NA           NA"
      ]
     },
     "metadata": {},
     "output_type": "display_data"
    }
   ],
   "source": [
    "# drop MHMI\n",
    "Anova(lm(alpha_pd ~ Age_78 + BMI + PASCORE + GIERACE + SITE + GIMSTAT + MHDIAB + MHRHEU1 + \n",
    "         MHCHF + TUDRAMT_REVISED + PQPSQUAL + M1ADEPR ))"
   ]
  },
  {
   "cell_type": "code",
   "execution_count": 18,
   "metadata": {},
   "outputs": [
    {
     "data": {
      "text/html": [
       "<table>\n",
       "<thead><tr><th></th><th scope=col>Sum Sq</th><th scope=col>Df</th><th scope=col>F value</th><th scope=col>Pr(&gt;F)</th></tr></thead>\n",
       "<tbody>\n",
       "\t<tr><th scope=row>Age_78</th><td>   39.86138 </td><td>  1         </td><td> 1.067944   </td><td>0.3018439646</td></tr>\n",
       "\t<tr><th scope=row>BMI</th><td>  156.90838 </td><td>  1         </td><td> 4.203803   </td><td>0.0407855065</td></tr>\n",
       "\t<tr><th scope=row>PASCORE</th><td>   88.40240 </td><td>  1         </td><td> 2.368428   </td><td>0.1243607822</td></tr>\n",
       "\t<tr><th scope=row>GIERACE</th><td>  556.60976 </td><td>  4         </td><td> 3.728095   </td><td>0.0052532387</td></tr>\n",
       "\t<tr><th scope=row>SITE</th><td>  401.41402 </td><td>  5         </td><td> 2.150893   </td><td>0.0580408642</td></tr>\n",
       "\t<tr><th scope=row>GIMSTAT</th><td>  189.06408 </td><td>  3         </td><td> 1.688433   </td><td>0.1683497059</td></tr>\n",
       "\t<tr><th scope=row>MHDIAB</th><td>  473.70592 </td><td>  1         </td><td>12.691267   </td><td>0.0003977786</td></tr>\n",
       "\t<tr><th scope=row>MHRHEU1</th><td>   57.01554 </td><td>  1         </td><td> 1.527529   </td><td>0.2169874886</td></tr>\n",
       "\t<tr><th scope=row>MHCHF</th><td>   39.83513 </td><td>  1         </td><td> 1.067241   </td><td>0.3020030834</td></tr>\n",
       "\t<tr><th scope=row>PQPSQUAL</th><td>  174.32526 </td><td>  3         </td><td> 1.556809   </td><td>0.1988218848</td></tr>\n",
       "\t<tr><th scope=row>M1ADEPR</th><td>  339.16841 </td><td>  1         </td><td> 9.086813   </td><td>0.0026879017</td></tr>\n",
       "\t<tr><th scope=row>Residuals</th><td>21499.39817 </td><td>576         </td><td>       NA   </td><td>          NA</td></tr>\n",
       "</tbody>\n",
       "</table>\n"
      ],
      "text/latex": [
       "\\begin{tabular}{r|llll}\n",
       "  & Sum Sq & Df & F value & Pr(>F)\\\\\n",
       "\\hline\n",
       "\tAge\\_78 &    39.86138  &   1          &  1.067944    & 0.3018439646\\\\\n",
       "\tBMI &   156.90838  &   1          &  4.203803    & 0.0407855065\\\\\n",
       "\tPASCORE &    88.40240  &   1          &  2.368428    & 0.1243607822\\\\\n",
       "\tGIERACE &   556.60976  &   4          &  3.728095    & 0.0052532387\\\\\n",
       "\tSITE &   401.41402  &   5          &  2.150893    & 0.0580408642\\\\\n",
       "\tGIMSTAT &   189.06408  &   3          &  1.688433    & 0.1683497059\\\\\n",
       "\tMHDIAB &   473.70592  &   1          & 12.691267    & 0.0003977786\\\\\n",
       "\tMHRHEU1 &    57.01554  &   1          &  1.527529    & 0.2169874886\\\\\n",
       "\tMHCHF &    39.83513  &   1          &  1.067241    & 0.3020030834\\\\\n",
       "\tPQPSQUAL &   174.32526  &   3          &  1.556809    & 0.1988218848\\\\\n",
       "\tM1ADEPR &   339.16841  &   1          &  9.086813    & 0.0026879017\\\\\n",
       "\tResiduals & 21499.39817  & 576          &        NA    &           NA\\\\\n",
       "\\end{tabular}\n"
      ],
      "text/markdown": [
       "\n",
       "| <!--/--> | Sum Sq | Df | F value | Pr(>F) | \n",
       "|---|---|---|---|---|---|---|---|---|---|---|---|\n",
       "| Age_78 |    39.86138  |   1          |  1.067944    | 0.3018439646 | \n",
       "| BMI |   156.90838  |   1          |  4.203803    | 0.0407855065 | \n",
       "| PASCORE |    88.40240  |   1          |  2.368428    | 0.1243607822 | \n",
       "| GIERACE |   556.60976  |   4          |  3.728095    | 0.0052532387 | \n",
       "| SITE |   401.41402  |   5          |  2.150893    | 0.0580408642 | \n",
       "| GIMSTAT |   189.06408  |   3          |  1.688433    | 0.1683497059 | \n",
       "| MHDIAB |   473.70592  |   1          | 12.691267    | 0.0003977786 | \n",
       "| MHRHEU1 |    57.01554  |   1          |  1.527529    | 0.2169874886 | \n",
       "| MHCHF |    39.83513  |   1          |  1.067241    | 0.3020030834 | \n",
       "| PQPSQUAL |   174.32526  |   3          |  1.556809    | 0.1988218848 | \n",
       "| M1ADEPR |   339.16841  |   1          |  9.086813    | 0.0026879017 | \n",
       "| Residuals | 21499.39817  | 576          |        NA    |           NA | \n",
       "\n",
       "\n"
      ],
      "text/plain": [
       "          Sum Sq      Df  F value   Pr(>F)      \n",
       "Age_78       39.86138   1  1.067944 0.3018439646\n",
       "BMI         156.90838   1  4.203803 0.0407855065\n",
       "PASCORE      88.40240   1  2.368428 0.1243607822\n",
       "GIERACE     556.60976   4  3.728095 0.0052532387\n",
       "SITE        401.41402   5  2.150893 0.0580408642\n",
       "GIMSTAT     189.06408   3  1.688433 0.1683497059\n",
       "MHDIAB      473.70592   1 12.691267 0.0003977786\n",
       "MHRHEU1      57.01554   1  1.527529 0.2169874886\n",
       "MHCHF        39.83513   1  1.067241 0.3020030834\n",
       "PQPSQUAL    174.32526   3  1.556809 0.1988218848\n",
       "M1ADEPR     339.16841   1  9.086813 0.0026879017\n",
       "Residuals 21499.39817 576        NA           NA"
      ]
     },
     "metadata": {},
     "output_type": "display_data"
    }
   ],
   "source": [
    "# drop TUDRAMT_REVISED\n",
    "Anova(lm(alpha_pd ~ Age_78 + BMI + PASCORE + GIERACE + SITE + GIMSTAT + MHDIAB + MHRHEU1 + \n",
    "         MHCHF + PQPSQUAL + M1ADEPR ))"
   ]
  },
  {
   "cell_type": "code",
   "execution_count": 19,
   "metadata": {},
   "outputs": [
    {
     "data": {
      "text/html": [
       "<table>\n",
       "<thead><tr><th></th><th scope=col>Sum Sq</th><th scope=col>Df</th><th scope=col>F value</th><th scope=col>Pr(&gt;F)</th></tr></thead>\n",
       "<tbody>\n",
       "\t<tr><th scope=row>Age_78</th><td>   39.63474 </td><td>  1         </td><td> 1.061748   </td><td>0.3032484997</td></tr>\n",
       "\t<tr><th scope=row>BMI</th><td>  151.15897 </td><td>  1         </td><td> 4.049296   </td><td>0.0446539771</td></tr>\n",
       "\t<tr><th scope=row>PASCORE</th><td>   78.64327 </td><td>  1         </td><td> 2.106721   </td><td>0.1471966889</td></tr>\n",
       "\t<tr><th scope=row>GIERACE</th><td>  569.70505 </td><td>  4         </td><td> 3.815361   </td><td>0.0045198791</td></tr>\n",
       "\t<tr><th scope=row>SITE</th><td>  395.47230 </td><td>  5         </td><td> 2.118808   </td><td>0.0616507478</td></tr>\n",
       "\t<tr><th scope=row>GIMSTAT</th><td>  183.61570 </td><td>  3         </td><td> 1.639586   </td><td>0.1791041609</td></tr>\n",
       "\t<tr><th scope=row>MHDIAB</th><td>  452.45610 </td><td>  1         </td><td>12.120541   </td><td>0.0005364137</td></tr>\n",
       "\t<tr><th scope=row>MHRHEU1</th><td>   48.76215 </td><td>  1         </td><td> 1.306256   </td><td>0.2535475740</td></tr>\n",
       "\t<tr><th scope=row>PQPSQUAL</th><td>  170.48314 </td><td>  3         </td><td> 1.522319   </td><td>0.2076186244</td></tr>\n",
       "\t<tr><th scope=row>M1ADEPR</th><td>  332.91693 </td><td>  1         </td><td> 8.918287   </td><td>0.0029431003</td></tr>\n",
       "\t<tr><th scope=row>Residuals</th><td>21539.23329 </td><td>577         </td><td>       NA   </td><td>          NA</td></tr>\n",
       "</tbody>\n",
       "</table>\n"
      ],
      "text/latex": [
       "\\begin{tabular}{r|llll}\n",
       "  & Sum Sq & Df & F value & Pr(>F)\\\\\n",
       "\\hline\n",
       "\tAge\\_78 &    39.63474  &   1          &  1.061748    & 0.3032484997\\\\\n",
       "\tBMI &   151.15897  &   1          &  4.049296    & 0.0446539771\\\\\n",
       "\tPASCORE &    78.64327  &   1          &  2.106721    & 0.1471966889\\\\\n",
       "\tGIERACE &   569.70505  &   4          &  3.815361    & 0.0045198791\\\\\n",
       "\tSITE &   395.47230  &   5          &  2.118808    & 0.0616507478\\\\\n",
       "\tGIMSTAT &   183.61570  &   3          &  1.639586    & 0.1791041609\\\\\n",
       "\tMHDIAB &   452.45610  &   1          & 12.120541    & 0.0005364137\\\\\n",
       "\tMHRHEU1 &    48.76215  &   1          &  1.306256    & 0.2535475740\\\\\n",
       "\tPQPSQUAL &   170.48314  &   3          &  1.522319    & 0.2076186244\\\\\n",
       "\tM1ADEPR &   332.91693  &   1          &  8.918287    & 0.0029431003\\\\\n",
       "\tResiduals & 21539.23329  & 577          &        NA    &           NA\\\\\n",
       "\\end{tabular}\n"
      ],
      "text/markdown": [
       "\n",
       "| <!--/--> | Sum Sq | Df | F value | Pr(>F) | \n",
       "|---|---|---|---|---|---|---|---|---|---|---|\n",
       "| Age_78 |    39.63474  |   1          |  1.061748    | 0.3032484997 | \n",
       "| BMI |   151.15897  |   1          |  4.049296    | 0.0446539771 | \n",
       "| PASCORE |    78.64327  |   1          |  2.106721    | 0.1471966889 | \n",
       "| GIERACE |   569.70505  |   4          |  3.815361    | 0.0045198791 | \n",
       "| SITE |   395.47230  |   5          |  2.118808    | 0.0616507478 | \n",
       "| GIMSTAT |   183.61570  |   3          |  1.639586    | 0.1791041609 | \n",
       "| MHDIAB |   452.45610  |   1          | 12.120541    | 0.0005364137 | \n",
       "| MHRHEU1 |    48.76215  |   1          |  1.306256    | 0.2535475740 | \n",
       "| PQPSQUAL |   170.48314  |   3          |  1.522319    | 0.2076186244 | \n",
       "| M1ADEPR |   332.91693  |   1          |  8.918287    | 0.0029431003 | \n",
       "| Residuals | 21539.23329  | 577          |        NA    |           NA | \n",
       "\n",
       "\n"
      ],
      "text/plain": [
       "          Sum Sq      Df  F value   Pr(>F)      \n",
       "Age_78       39.63474   1  1.061748 0.3032484997\n",
       "BMI         151.15897   1  4.049296 0.0446539771\n",
       "PASCORE      78.64327   1  2.106721 0.1471966889\n",
       "GIERACE     569.70505   4  3.815361 0.0045198791\n",
       "SITE        395.47230   5  2.118808 0.0616507478\n",
       "GIMSTAT     183.61570   3  1.639586 0.1791041609\n",
       "MHDIAB      452.45610   1 12.120541 0.0005364137\n",
       "MHRHEU1      48.76215   1  1.306256 0.2535475740\n",
       "PQPSQUAL    170.48314   3  1.522319 0.2076186244\n",
       "M1ADEPR     332.91693   1  8.918287 0.0029431003\n",
       "Residuals 21539.23329 577        NA           NA"
      ]
     },
     "metadata": {},
     "output_type": "display_data"
    }
   ],
   "source": [
    "# drop MHCHF\n",
    "Anova(lm(alpha_pd ~ Age_78 + BMI + PASCORE + GIERACE + SITE + GIMSTAT + MHDIAB + MHRHEU1 + PQPSQUAL + M1ADEPR ))"
   ]
  },
  {
   "cell_type": "code",
   "execution_count": 20,
   "metadata": {},
   "outputs": [
    {
     "data": {
      "text/html": [
       "<table>\n",
       "<thead><tr><th></th><th scope=col>Sum Sq</th><th scope=col>Df</th><th scope=col>F value</th><th scope=col>Pr(&gt;F)</th></tr></thead>\n",
       "<tbody>\n",
       "\t<tr><th scope=row>BMI</th><td>  182.04308 </td><td>  1         </td><td> 4.876108   </td><td>0.0276227454</td></tr>\n",
       "\t<tr><th scope=row>PASCORE</th><td>   59.04377 </td><td>  1         </td><td> 1.581515   </td><td>0.2090504759</td></tr>\n",
       "\t<tr><th scope=row>GIERACE</th><td>  591.44443 </td><td>  4         </td><td> 3.960528   </td><td>0.0035174961</td></tr>\n",
       "\t<tr><th scope=row>SITE</th><td>  390.87297 </td><td>  5         </td><td> 2.093943   </td><td>0.0645921802</td></tr>\n",
       "\t<tr><th scope=row>GIMSTAT</th><td>  183.32772 </td><td>  3         </td><td> 1.636839   </td><td>0.1797255625</td></tr>\n",
       "\t<tr><th scope=row>MHDIAB</th><td>  470.41233 </td><td>  1         </td><td>12.600213   </td><td>0.0004170803</td></tr>\n",
       "\t<tr><th scope=row>MHRHEU1</th><td>   47.55406 </td><td>  1         </td><td> 1.273758   </td><td>0.2595311523</td></tr>\n",
       "\t<tr><th scope=row>PQPSQUAL</th><td>  181.20467 </td><td>  3         </td><td> 1.617884   </td><td>0.1840855436</td></tr>\n",
       "\t<tr><th scope=row>M1ADEPR</th><td>  330.90282 </td><td>  1         </td><td> 8.863386   </td><td>0.0030313237</td></tr>\n",
       "\t<tr><th scope=row>Residuals</th><td>21578.86803 </td><td>578         </td><td>       NA   </td><td>          NA</td></tr>\n",
       "</tbody>\n",
       "</table>\n"
      ],
      "text/latex": [
       "\\begin{tabular}{r|llll}\n",
       "  & Sum Sq & Df & F value & Pr(>F)\\\\\n",
       "\\hline\n",
       "\tBMI &   182.04308  &   1          &  4.876108    & 0.0276227454\\\\\n",
       "\tPASCORE &    59.04377  &   1          &  1.581515    & 0.2090504759\\\\\n",
       "\tGIERACE &   591.44443  &   4          &  3.960528    & 0.0035174961\\\\\n",
       "\tSITE &   390.87297  &   5          &  2.093943    & 0.0645921802\\\\\n",
       "\tGIMSTAT &   183.32772  &   3          &  1.636839    & 0.1797255625\\\\\n",
       "\tMHDIAB &   470.41233  &   1          & 12.600213    & 0.0004170803\\\\\n",
       "\tMHRHEU1 &    47.55406  &   1          &  1.273758    & 0.2595311523\\\\\n",
       "\tPQPSQUAL &   181.20467  &   3          &  1.617884    & 0.1840855436\\\\\n",
       "\tM1ADEPR &   330.90282  &   1          &  8.863386    & 0.0030313237\\\\\n",
       "\tResiduals & 21578.86803  & 578          &        NA    &           NA\\\\\n",
       "\\end{tabular}\n"
      ],
      "text/markdown": [
       "\n",
       "| <!--/--> | Sum Sq | Df | F value | Pr(>F) | \n",
       "|---|---|---|---|---|---|---|---|---|---|\n",
       "| BMI |   182.04308  |   1          |  4.876108    | 0.0276227454 | \n",
       "| PASCORE |    59.04377  |   1          |  1.581515    | 0.2090504759 | \n",
       "| GIERACE |   591.44443  |   4          |  3.960528    | 0.0035174961 | \n",
       "| SITE |   390.87297  |   5          |  2.093943    | 0.0645921802 | \n",
       "| GIMSTAT |   183.32772  |   3          |  1.636839    | 0.1797255625 | \n",
       "| MHDIAB |   470.41233  |   1          | 12.600213    | 0.0004170803 | \n",
       "| MHRHEU1 |    47.55406  |   1          |  1.273758    | 0.2595311523 | \n",
       "| PQPSQUAL |   181.20467  |   3          |  1.617884    | 0.1840855436 | \n",
       "| M1ADEPR |   330.90282  |   1          |  8.863386    | 0.0030313237 | \n",
       "| Residuals | 21578.86803  | 578          |        NA    |           NA | \n",
       "\n",
       "\n"
      ],
      "text/plain": [
       "          Sum Sq      Df  F value   Pr(>F)      \n",
       "BMI         182.04308   1  4.876108 0.0276227454\n",
       "PASCORE      59.04377   1  1.581515 0.2090504759\n",
       "GIERACE     591.44443   4  3.960528 0.0035174961\n",
       "SITE        390.87297   5  2.093943 0.0645921802\n",
       "GIMSTAT     183.32772   3  1.636839 0.1797255625\n",
       "MHDIAB      470.41233   1 12.600213 0.0004170803\n",
       "MHRHEU1      47.55406   1  1.273758 0.2595311523\n",
       "PQPSQUAL    181.20467   3  1.617884 0.1840855436\n",
       "M1ADEPR     330.90282   1  8.863386 0.0030313237\n",
       "Residuals 21578.86803 578        NA           NA"
      ]
     },
     "metadata": {},
     "output_type": "display_data"
    }
   ],
   "source": [
    "## drop Age_78\n",
    "Anova(lm(alpha_pd ~ BMI + PASCORE + GIERACE + SITE + GIMSTAT + MHDIAB + MHRHEU1 + PQPSQUAL + M1ADEPR ))"
   ]
  },
  {
   "cell_type": "code",
   "execution_count": 21,
   "metadata": {},
   "outputs": [
    {
     "data": {
      "text/html": [
       "<table>\n",
       "<thead><tr><th></th><th scope=col>Sum Sq</th><th scope=col>Df</th><th scope=col>F value</th><th scope=col>Pr(&gt;F)</th></tr></thead>\n",
       "<tbody>\n",
       "\t<tr><th scope=row>BMI</th><td>  189.75156 </td><td>  1         </td><td> 5.080182   </td><td>0.0245739559</td></tr>\n",
       "\t<tr><th scope=row>PASCORE</th><td>   58.15833 </td><td>  1         </td><td> 1.557062   </td><td>0.2126003578</td></tr>\n",
       "\t<tr><th scope=row>GIERACE</th><td>  575.24537 </td><td>  4         </td><td> 3.850233   </td><td>0.0042550184</td></tr>\n",
       "\t<tr><th scope=row>SITE</th><td>  402.54318 </td><td>  5         </td><td> 2.155442   </td><td>0.0575369423</td></tr>\n",
       "\t<tr><th scope=row>GIMSTAT</th><td>  172.47563 </td><td>  3         </td><td> 1.539219   </td><td>0.2032585942</td></tr>\n",
       "\t<tr><th scope=row>MHDIAB</th><td>  455.39094 </td><td>  1         </td><td>12.192093   </td><td>0.0005165074</td></tr>\n",
       "\t<tr><th scope=row>PQPSQUAL</th><td>  189.18198 </td><td>  3         </td><td> 1.688311   </td><td>0.1683693596</td></tr>\n",
       "\t<tr><th scope=row>M1ADEPR</th><td>  318.06226 </td><td>  1         </td><td> 8.515419   </td><td>0.0036582312</td></tr>\n",
       "\t<tr><th scope=row>Residuals</th><td>21626.42209 </td><td>579         </td><td>       NA   </td><td>          NA</td></tr>\n",
       "</tbody>\n",
       "</table>\n"
      ],
      "text/latex": [
       "\\begin{tabular}{r|llll}\n",
       "  & Sum Sq & Df & F value & Pr(>F)\\\\\n",
       "\\hline\n",
       "\tBMI &   189.75156  &   1          &  5.080182    & 0.0245739559\\\\\n",
       "\tPASCORE &    58.15833  &   1          &  1.557062    & 0.2126003578\\\\\n",
       "\tGIERACE &   575.24537  &   4          &  3.850233    & 0.0042550184\\\\\n",
       "\tSITE &   402.54318  &   5          &  2.155442    & 0.0575369423\\\\\n",
       "\tGIMSTAT &   172.47563  &   3          &  1.539219    & 0.2032585942\\\\\n",
       "\tMHDIAB &   455.39094  &   1          & 12.192093    & 0.0005165074\\\\\n",
       "\tPQPSQUAL &   189.18198  &   3          &  1.688311    & 0.1683693596\\\\\n",
       "\tM1ADEPR &   318.06226  &   1          &  8.515419    & 0.0036582312\\\\\n",
       "\tResiduals & 21626.42209  & 579          &        NA    &           NA\\\\\n",
       "\\end{tabular}\n"
      ],
      "text/markdown": [
       "\n",
       "| <!--/--> | Sum Sq | Df | F value | Pr(>F) | \n",
       "|---|---|---|---|---|---|---|---|---|\n",
       "| BMI |   189.75156  |   1          |  5.080182    | 0.0245739559 | \n",
       "| PASCORE |    58.15833  |   1          |  1.557062    | 0.2126003578 | \n",
       "| GIERACE |   575.24537  |   4          |  3.850233    | 0.0042550184 | \n",
       "| SITE |   402.54318  |   5          |  2.155442    | 0.0575369423 | \n",
       "| GIMSTAT |   172.47563  |   3          |  1.539219    | 0.2032585942 | \n",
       "| MHDIAB |   455.39094  |   1          | 12.192093    | 0.0005165074 | \n",
       "| PQPSQUAL |   189.18198  |   3          |  1.688311    | 0.1683693596 | \n",
       "| M1ADEPR |   318.06226  |   1          |  8.515419    | 0.0036582312 | \n",
       "| Residuals | 21626.42209  | 579          |        NA    |           NA | \n",
       "\n",
       "\n"
      ],
      "text/plain": [
       "          Sum Sq      Df  F value   Pr(>F)      \n",
       "BMI         189.75156   1  5.080182 0.0245739559\n",
       "PASCORE      58.15833   1  1.557062 0.2126003578\n",
       "GIERACE     575.24537   4  3.850233 0.0042550184\n",
       "SITE        402.54318   5  2.155442 0.0575369423\n",
       "GIMSTAT     172.47563   3  1.539219 0.2032585942\n",
       "MHDIAB      455.39094   1 12.192093 0.0005165074\n",
       "PQPSQUAL    189.18198   3  1.688311 0.1683693596\n",
       "M1ADEPR     318.06226   1  8.515419 0.0036582312\n",
       "Residuals 21626.42209 579        NA           NA"
      ]
     },
     "metadata": {},
     "output_type": "display_data"
    }
   ],
   "source": [
    "# drop MHRHEU1\n",
    "Anova(lm(alpha_pd ~ BMI + PASCORE + GIERACE + SITE + GIMSTAT + MHDIAB + PQPSQUAL + M1ADEPR ))"
   ]
  },
  {
   "cell_type": "code",
   "execution_count": 22,
   "metadata": {},
   "outputs": [
    {
     "data": {
      "text/html": [
       "<table>\n",
       "<thead><tr><th></th><th scope=col>Sum Sq</th><th scope=col>Df</th><th scope=col>F value</th><th scope=col>Pr(&gt;F)</th></tr></thead>\n",
       "<tbody>\n",
       "\t<tr><th scope=row>BMI</th><td>  215.0548  </td><td>  1         </td><td> 5.752097   </td><td>0.0167838819</td></tr>\n",
       "\t<tr><th scope=row>GIERACE</th><td>  557.3795  </td><td>  4         </td><td> 3.727073   </td><td>0.0052599011</td></tr>\n",
       "\t<tr><th scope=row>SITE</th><td>  384.0714  </td><td>  5         </td><td> 2.054561   </td><td>0.0695211635</td></tr>\n",
       "\t<tr><th scope=row>GIMSTAT</th><td>  182.4119  </td><td>  3         </td><td> 1.626331   </td><td>0.1821262598</td></tr>\n",
       "\t<tr><th scope=row>MHDIAB</th><td>  507.2826  </td><td>  1         </td><td>13.568347   </td><td>0.0002515521</td></tr>\n",
       "\t<tr><th scope=row>PQPSQUAL</th><td>  196.1601  </td><td>  3         </td><td> 1.748906   </td><td>0.1558683266</td></tr>\n",
       "\t<tr><th scope=row>M1ADEPR</th><td>  334.8109  </td><td>  1         </td><td> 8.955227   </td><td>0.0028844610</td></tr>\n",
       "\t<tr><th scope=row>Residuals</th><td>21684.5804  </td><td>580         </td><td>       NA   </td><td>          NA</td></tr>\n",
       "</tbody>\n",
       "</table>\n"
      ],
      "text/latex": [
       "\\begin{tabular}{r|llll}\n",
       "  & Sum Sq & Df & F value & Pr(>F)\\\\\n",
       "\\hline\n",
       "\tBMI &   215.0548   &   1          &  5.752097    & 0.0167838819\\\\\n",
       "\tGIERACE &   557.3795   &   4          &  3.727073    & 0.0052599011\\\\\n",
       "\tSITE &   384.0714   &   5          &  2.054561    & 0.0695211635\\\\\n",
       "\tGIMSTAT &   182.4119   &   3          &  1.626331    & 0.1821262598\\\\\n",
       "\tMHDIAB &   507.2826   &   1          & 13.568347    & 0.0002515521\\\\\n",
       "\tPQPSQUAL &   196.1601   &   3          &  1.748906    & 0.1558683266\\\\\n",
       "\tM1ADEPR &   334.8109   &   1          &  8.955227    & 0.0028844610\\\\\n",
       "\tResiduals & 21684.5804   & 580          &        NA    &           NA\\\\\n",
       "\\end{tabular}\n"
      ],
      "text/markdown": [
       "\n",
       "| <!--/--> | Sum Sq | Df | F value | Pr(>F) | \n",
       "|---|---|---|---|---|---|---|---|\n",
       "| BMI |   215.0548   |   1          |  5.752097    | 0.0167838819 | \n",
       "| GIERACE |   557.3795   |   4          |  3.727073    | 0.0052599011 | \n",
       "| SITE |   384.0714   |   5          |  2.054561    | 0.0695211635 | \n",
       "| GIMSTAT |   182.4119   |   3          |  1.626331    | 0.1821262598 | \n",
       "| MHDIAB |   507.2826   |   1          | 13.568347    | 0.0002515521 | \n",
       "| PQPSQUAL |   196.1601   |   3          |  1.748906    | 0.1558683266 | \n",
       "| M1ADEPR |   334.8109   |   1          |  8.955227    | 0.0028844610 | \n",
       "| Residuals | 21684.5804   | 580          |        NA    |           NA | \n",
       "\n",
       "\n"
      ],
      "text/plain": [
       "          Sum Sq     Df  F value   Pr(>F)      \n",
       "BMI         215.0548   1  5.752097 0.0167838819\n",
       "GIERACE     557.3795   4  3.727073 0.0052599011\n",
       "SITE        384.0714   5  2.054561 0.0695211635\n",
       "GIMSTAT     182.4119   3  1.626331 0.1821262598\n",
       "MHDIAB      507.2826   1 13.568347 0.0002515521\n",
       "PQPSQUAL    196.1601   3  1.748906 0.1558683266\n",
       "M1ADEPR     334.8109   1  8.955227 0.0028844610\n",
       "Residuals 21684.5804 580        NA           NA"
      ]
     },
     "metadata": {},
     "output_type": "display_data"
    }
   ],
   "source": [
    "# drop PASCORE\n",
    "Anova(lm(alpha_pd ~ BMI + GIERACE + SITE + GIMSTAT + MHDIAB + PQPSQUAL + M1ADEPR ))"
   ]
  },
  {
   "cell_type": "code",
   "execution_count": 23,
   "metadata": {},
   "outputs": [],
   "source": [
    "#### model with confounders ######\n",
    "mdl_cf = lm(alpha_pd ~ BMI + GIERACE + SITE + GIMSTAT + MHDIAB + PQPSQUAL + M1ADEPR)"
   ]
  },
  {
   "cell_type": "code",
   "execution_count": 24,
   "metadata": {},
   "outputs": [
    {
     "data": {
      "text/plain": [
       "\n",
       "Call:\n",
       "lm(formula = alpha_pd ~ BMI + GIERACE + SITE + GIMSTAT + MHDIAB + \n",
       "    PQPSQUAL + M1ADEPR)\n",
       "\n",
       "Residuals:\n",
       "     Min       1Q   Median       3Q      Max \n",
       "-14.6260  -4.6192  -0.4185   4.1503  21.3594 \n",
       "\n",
       "Coefficients:\n",
       "                                Estimate Std. Error t value Pr(>|t|)    \n",
       "(Intercept)                     26.50953    1.94201  13.651  < 2e-16 ***\n",
       "BMI                             -0.16409    0.06842  -2.398 0.016784 *  \n",
       "GIERACE2:AFRICAN AMERICAN       -1.17411    1.31049  -0.896 0.370662    \n",
       "GIERACE3:ASIAN                  -4.41250    1.17016  -3.771 0.000179 ***\n",
       "GIERACE4:HISPANIC               -1.41191    1.84251  -0.766 0.443811    \n",
       "GIERACE5:OTHER                  -0.75680    2.08459  -0.363 0.716703    \n",
       "SITEBirmingham                   0.30630    0.89776   0.341 0.733086    \n",
       "SITEMinneapolis                  1.93736    0.85139   2.276 0.023239 *  \n",
       "SITEPalo Alto                    0.23941    0.89013   0.269 0.788053    \n",
       "SITEPittsburgh                  -0.78313    0.85354  -0.918 0.359261    \n",
       "SITEPortland                     0.88073    0.77944   1.130 0.258963    \n",
       "GIMSTAT2: Widowed                0.27382    0.64254   0.426 0.670155    \n",
       "GIMSTAT4: Divorced               2.19021    1.09934   1.992 0.046807 *  \n",
       "GIMSTAT5: Single, never married  1.67280    1.57480   1.062 0.288574    \n",
       "MHDIAB1: Yes                    -2.61746    0.71059  -3.684 0.000252 ***\n",
       "PQPSQUAL1: Fairly good          -1.12600    0.54435  -2.069 0.039034 *  \n",
       "PQPSQUAL2: Fairly bad           -0.12914    0.97625  -0.132 0.894806    \n",
       "PQPSQUAL3: Very bad             -3.02295    3.14093  -0.962 0.336231    \n",
       "M1ADEPR1: Yes                   -2.67646    0.89438  -2.993 0.002884 ** \n",
       "---\n",
       "Signif. codes:  0 ‘***’ 0.001 ‘**’ 0.01 ‘*’ 0.05 ‘.’ 0.1 ‘ ’ 1\n",
       "\n",
       "Residual standard error: 6.115 on 580 degrees of freedom\n",
       "Multiple R-squared:  0.1073,\tAdjusted R-squared:  0.0796 \n",
       "F-statistic: 3.873 on 18 and 580 DF,  p-value: 1.602e-07\n"
      ]
     },
     "metadata": {},
     "output_type": "display_data"
    }
   ],
   "source": [
    "summary(mdl_cf)"
   ]
  },
  {
   "cell_type": "markdown",
   "metadata": {},
   "source": [
    "## all interested covariates"
   ]
  },
  {
   "cell_type": "code",
   "execution_count": 44,
   "metadata": {},
   "outputs": [
    {
     "data": {
      "text/html": [
       "<table>\n",
       "<thead><tr><th></th><th scope=col>Sum Sq</th><th scope=col>Df</th><th scope=col>F value</th><th scope=col>Pr(&gt;F)</th></tr></thead>\n",
       "<tbody>\n",
       "\t<tr><th scope=row>AMAMPT</th><td>    2.434122</td><td>  1         </td><td>0.06247753  </td><td>0.80275440  </td></tr>\n",
       "\t<tr><th scope=row>AMAMPT_C1</th><td>   18.246356</td><td>  1         </td><td>0.46833619  </td><td>0.49416215  </td></tr>\n",
       "\t<tr><th scope=row>AMPHIT</th><td>    4.461737</td><td>  1         </td><td>0.11452111  </td><td>0.73523753  </td></tr>\n",
       "\t<tr><th scope=row>AMPHIT_15SD</th><td>  108.076356</td><td>  2         </td><td>1.38701855  </td><td>0.25105487  </td></tr>\n",
       "\t<tr><th scope=row>AMFVT</th><td>    2.085794</td><td>  1         </td><td>0.05353686  </td><td>0.81714130  </td></tr>\n",
       "\t<tr><th scope=row>AMFVT_C1</th><td>   30.941539</td><td>  1         </td><td>0.79418829  </td><td>0.37338896  </td></tr>\n",
       "\t<tr><th scope=row>PQBADSLP</th><td>   63.310575</td><td>  1         </td><td>1.62501670  </td><td>0.20315656  </td></tr>\n",
       "\t<tr><th scope=row>SLEEPHRS</th><td>   77.955342</td><td>  3         </td><td>0.66696984  </td><td>0.57275217  </td></tr>\n",
       "\t<tr><th scope=row>BMI</th><td>  190.420813</td><td>  1         </td><td>4.88760372  </td><td>0.02763288  </td></tr>\n",
       "\t<tr><th scope=row>GIERACE</th><td>  453.881802</td><td>  4         </td><td>2.91248937  </td><td>0.02141109  </td></tr>\n",
       "\t<tr><th scope=row>SITE</th><td>  163.753988</td><td>  5         </td><td>0.84062723  </td><td>0.52146372  </td></tr>\n",
       "\t<tr><th scope=row>GIMSTAT</th><td>   59.025562</td><td>  3         </td><td>0.50501054  </td><td>0.67903665  </td></tr>\n",
       "\t<tr><th scope=row>MHDIAB</th><td>  251.833571</td><td>  1         </td><td>6.46390841  </td><td>0.01139654  </td></tr>\n",
       "\t<tr><th scope=row>PQPSQUAL</th><td>  170.579340</td><td>  3         </td><td>1.45944168  </td><td>0.22517910  </td></tr>\n",
       "\t<tr><th scope=row>M1ADEPR</th><td>  198.531214</td><td>  1         </td><td>5.09577646  </td><td>0.02453952  </td></tr>\n",
       "\t<tr><th scope=row>Residuals</th><td>15116.461951</td><td>388         </td><td>        NA  </td><td>        NA  </td></tr>\n",
       "</tbody>\n",
       "</table>\n"
      ],
      "text/latex": [
       "\\begin{tabular}{r|llll}\n",
       "  & Sum Sq & Df & F value & Pr(>F)\\\\\n",
       "\\hline\n",
       "\tAMAMPT &     2.434122 &   1          & 0.06247753   & 0.80275440  \\\\\n",
       "\tAMAMPT\\_C1 &    18.246356 &   1          & 0.46833619   & 0.49416215  \\\\\n",
       "\tAMPHIT &     4.461737 &   1          & 0.11452111   & 0.73523753  \\\\\n",
       "\tAMPHIT\\_15SD &   108.076356 &   2          & 1.38701855   & 0.25105487  \\\\\n",
       "\tAMFVT &     2.085794 &   1          & 0.05353686   & 0.81714130  \\\\\n",
       "\tAMFVT\\_C1 &    30.941539 &   1          & 0.79418829   & 0.37338896  \\\\\n",
       "\tPQBADSLP &    63.310575 &   1          & 1.62501670   & 0.20315656  \\\\\n",
       "\tSLEEPHRS &    77.955342 &   3          & 0.66696984   & 0.57275217  \\\\\n",
       "\tBMI &   190.420813 &   1          & 4.88760372   & 0.02763288  \\\\\n",
       "\tGIERACE &   453.881802 &   4          & 2.91248937   & 0.02141109  \\\\\n",
       "\tSITE &   163.753988 &   5          & 0.84062723   & 0.52146372  \\\\\n",
       "\tGIMSTAT &    59.025562 &   3          & 0.50501054   & 0.67903665  \\\\\n",
       "\tMHDIAB &   251.833571 &   1          & 6.46390841   & 0.01139654  \\\\\n",
       "\tPQPSQUAL &   170.579340 &   3          & 1.45944168   & 0.22517910  \\\\\n",
       "\tM1ADEPR &   198.531214 &   1          & 5.09577646   & 0.02453952  \\\\\n",
       "\tResiduals & 15116.461951 & 388          &         NA   &         NA  \\\\\n",
       "\\end{tabular}\n"
      ],
      "text/markdown": [
       "\n",
       "| <!--/--> | Sum Sq | Df | F value | Pr(>F) | \n",
       "|---|---|---|---|---|---|---|---|---|---|---|---|---|---|---|---|\n",
       "| AMAMPT |     2.434122 |   1          | 0.06247753   | 0.80275440   | \n",
       "| AMAMPT_C1 |    18.246356 |   1          | 0.46833619   | 0.49416215   | \n",
       "| AMPHIT |     4.461737 |   1          | 0.11452111   | 0.73523753   | \n",
       "| AMPHIT_15SD |   108.076356 |   2          | 1.38701855   | 0.25105487   | \n",
       "| AMFVT |     2.085794 |   1          | 0.05353686   | 0.81714130   | \n",
       "| AMFVT_C1 |    30.941539 |   1          | 0.79418829   | 0.37338896   | \n",
       "| PQBADSLP |    63.310575 |   1          | 1.62501670   | 0.20315656   | \n",
       "| SLEEPHRS |    77.955342 |   3          | 0.66696984   | 0.57275217   | \n",
       "| BMI |   190.420813 |   1          | 4.88760372   | 0.02763288   | \n",
       "| GIERACE |   453.881802 |   4          | 2.91248937   | 0.02141109   | \n",
       "| SITE |   163.753988 |   5          | 0.84062723   | 0.52146372   | \n",
       "| GIMSTAT |    59.025562 |   3          | 0.50501054   | 0.67903665   | \n",
       "| MHDIAB |   251.833571 |   1          | 6.46390841   | 0.01139654   | \n",
       "| PQPSQUAL |   170.579340 |   3          | 1.45944168   | 0.22517910   | \n",
       "| M1ADEPR |   198.531214 |   1          | 5.09577646   | 0.02453952   | \n",
       "| Residuals | 15116.461951 | 388          |         NA   |         NA   | \n",
       "\n",
       "\n"
      ],
      "text/plain": [
       "            Sum Sq       Df  F value    Pr(>F)    \n",
       "AMAMPT          2.434122   1 0.06247753 0.80275440\n",
       "AMAMPT_C1      18.246356   1 0.46833619 0.49416215\n",
       "AMPHIT          4.461737   1 0.11452111 0.73523753\n",
       "AMPHIT_15SD   108.076356   2 1.38701855 0.25105487\n",
       "AMFVT           2.085794   1 0.05353686 0.81714130\n",
       "AMFVT_C1       30.941539   1 0.79418829 0.37338896\n",
       "PQBADSLP       63.310575   1 1.62501670 0.20315656\n",
       "SLEEPHRS       77.955342   3 0.66696984 0.57275217\n",
       "BMI           190.420813   1 4.88760372 0.02763288\n",
       "GIERACE       453.881802   4 2.91248937 0.02141109\n",
       "SITE          163.753988   5 0.84062723 0.52146372\n",
       "GIMSTAT        59.025562   3 0.50501054 0.67903665\n",
       "MHDIAB        251.833571   1 6.46390841 0.01139654\n",
       "PQPSQUAL      170.579340   3 1.45944168 0.22517910\n",
       "M1ADEPR       198.531214   1 5.09577646 0.02453952\n",
       "Residuals   15116.461951 388         NA         NA"
      ]
     },
     "metadata": {},
     "output_type": "display_data"
    }
   ],
   "source": [
    "Anova(lm(alpha_pd ~ AMAMPT + AMAMPT_C1 + AMPHIT + AMPHIT_15SD + AMFVT + AMFVT_C1 + PQBADSLP + SLEEPHRS +\n",
    "        + BMI + GIERACE + SITE + GIMSTAT + MHDIAB + PQPSQUAL + M1ADEPR))"
   ]
  },
  {
   "cell_type": "code",
   "execution_count": 45,
   "metadata": {},
   "outputs": [
    {
     "data": {
      "text/html": [
       "<table>\n",
       "<thead><tr><th></th><th scope=col>Sum Sq</th><th scope=col>Df</th><th scope=col>F value</th><th scope=col>Pr(&gt;F)</th></tr></thead>\n",
       "<tbody>\n",
       "\t<tr><th scope=row>AMAMPT_C1</th><td>   25.01676</td><td>  2        </td><td> 0.3367246 </td><td>0.714247196</td></tr>\n",
       "\t<tr><th scope=row>AMPHIT_15SD</th><td>  123.33593</td><td>  2        </td><td> 1.6600966 </td><td>0.191036894</td></tr>\n",
       "\t<tr><th scope=row>AMFVT_C1</th><td>   52.84839</td><td>  1        </td><td> 1.4226742 </td><td>0.233459147</td></tr>\n",
       "\t<tr><th scope=row>PQBADSLP</th><td>  113.25459</td><td>  1        </td><td> 3.0488041 </td><td>0.081334401</td></tr>\n",
       "\t<tr><th scope=row>SLEEPHRS</th><td>  173.54542</td><td>  3        </td><td> 1.5572761 </td><td>0.198715889</td></tr>\n",
       "\t<tr><th scope=row>BMI</th><td>  199.16370</td><td>  1        </td><td> 5.3614704 </td><td>0.020939886</td></tr>\n",
       "\t<tr><th scope=row>GIERACE</th><td>  610.87563</td><td>  4        </td><td> 4.1111804 </td><td>0.002712652</td></tr>\n",
       "\t<tr><th scope=row>SITE</th><td>  338.95061</td><td>  5        </td><td> 1.8249045 </td><td>0.106066615</td></tr>\n",
       "\t<tr><th scope=row>GIMSTAT</th><td>  201.29553</td><td>  3        </td><td> 1.8062863 </td><td>0.144866787</td></tr>\n",
       "\t<tr><th scope=row>MHDIAB</th><td>  384.37615</td><td>  1        </td><td>10.3473741 </td><td>0.001369981</td></tr>\n",
       "\t<tr><th scope=row>PQPSQUAL</th><td>  118.24120</td><td>  3        </td><td> 1.0610144 </td><td>0.365134912</td></tr>\n",
       "\t<tr><th scope=row>M1ADEPR</th><td>  252.81916</td><td>  1        </td><td> 6.8058709 </td><td>0.009323870</td></tr>\n",
       "\t<tr><th scope=row>Residuals</th><td>21211.06065</td><td>571        </td><td>        NA </td><td>         NA</td></tr>\n",
       "</tbody>\n",
       "</table>\n"
      ],
      "text/latex": [
       "\\begin{tabular}{r|llll}\n",
       "  & Sum Sq & Df & F value & Pr(>F)\\\\\n",
       "\\hline\n",
       "\tAMAMPT\\_C1 &    25.01676 &   2         &  0.3367246  & 0.714247196\\\\\n",
       "\tAMPHIT\\_15SD &   123.33593 &   2         &  1.6600966  & 0.191036894\\\\\n",
       "\tAMFVT\\_C1 &    52.84839 &   1         &  1.4226742  & 0.233459147\\\\\n",
       "\tPQBADSLP &   113.25459 &   1         &  3.0488041  & 0.081334401\\\\\n",
       "\tSLEEPHRS &   173.54542 &   3         &  1.5572761  & 0.198715889\\\\\n",
       "\tBMI &   199.16370 &   1         &  5.3614704  & 0.020939886\\\\\n",
       "\tGIERACE &   610.87563 &   4         &  4.1111804  & 0.002712652\\\\\n",
       "\tSITE &   338.95061 &   5         &  1.8249045  & 0.106066615\\\\\n",
       "\tGIMSTAT &   201.29553 &   3         &  1.8062863  & 0.144866787\\\\\n",
       "\tMHDIAB &   384.37615 &   1         & 10.3473741  & 0.001369981\\\\\n",
       "\tPQPSQUAL &   118.24120 &   3         &  1.0610144  & 0.365134912\\\\\n",
       "\tM1ADEPR &   252.81916 &   1         &  6.8058709  & 0.009323870\\\\\n",
       "\tResiduals & 21211.06065 & 571         &         NA  &          NA\\\\\n",
       "\\end{tabular}\n"
      ],
      "text/markdown": [
       "\n",
       "| <!--/--> | Sum Sq | Df | F value | Pr(>F) | \n",
       "|---|---|---|---|---|---|---|---|---|---|---|---|---|\n",
       "| AMAMPT_C1 |    25.01676 |   2         |  0.3367246  | 0.714247196 | \n",
       "| AMPHIT_15SD |   123.33593 |   2         |  1.6600966  | 0.191036894 | \n",
       "| AMFVT_C1 |    52.84839 |   1         |  1.4226742  | 0.233459147 | \n",
       "| PQBADSLP |   113.25459 |   1         |  3.0488041  | 0.081334401 | \n",
       "| SLEEPHRS |   173.54542 |   3         |  1.5572761  | 0.198715889 | \n",
       "| BMI |   199.16370 |   1         |  5.3614704  | 0.020939886 | \n",
       "| GIERACE |   610.87563 |   4         |  4.1111804  | 0.002712652 | \n",
       "| SITE |   338.95061 |   5         |  1.8249045  | 0.106066615 | \n",
       "| GIMSTAT |   201.29553 |   3         |  1.8062863  | 0.144866787 | \n",
       "| MHDIAB |   384.37615 |   1         | 10.3473741  | 0.001369981 | \n",
       "| PQPSQUAL |   118.24120 |   3         |  1.0610144  | 0.365134912 | \n",
       "| M1ADEPR |   252.81916 |   1         |  6.8058709  | 0.009323870 | \n",
       "| Residuals | 21211.06065 | 571         |         NA  |          NA | \n",
       "\n",
       "\n"
      ],
      "text/plain": [
       "            Sum Sq      Df  F value    Pr(>F)     \n",
       "AMAMPT_C1      25.01676   2  0.3367246 0.714247196\n",
       "AMPHIT_15SD   123.33593   2  1.6600966 0.191036894\n",
       "AMFVT_C1       52.84839   1  1.4226742 0.233459147\n",
       "PQBADSLP      113.25459   1  3.0488041 0.081334401\n",
       "SLEEPHRS      173.54542   3  1.5572761 0.198715889\n",
       "BMI           199.16370   1  5.3614704 0.020939886\n",
       "GIERACE       610.87563   4  4.1111804 0.002712652\n",
       "SITE          338.95061   5  1.8249045 0.106066615\n",
       "GIMSTAT       201.29553   3  1.8062863 0.144866787\n",
       "MHDIAB        384.37615   1 10.3473741 0.001369981\n",
       "PQPSQUAL      118.24120   3  1.0610144 0.365134912\n",
       "M1ADEPR       252.81916   1  6.8058709 0.009323870\n",
       "Residuals   21211.06065 571         NA          NA"
      ]
     },
     "metadata": {},
     "output_type": "display_data"
    }
   ],
   "source": [
    "# drop PQPSQUAL\t\n",
    "Anova(lm(alpha_pd ~ AMAMPT_C1 + AMPHIT_15SD + AMFVT_C1 + PQBADSLP + SLEEPHRS +\n",
    "        + BMI + GIERACE + SITE + GIMSTAT + MHDIAB + PQPSQUAL + M1ADEPR))"
   ]
  },
  {
   "cell_type": "code",
   "execution_count": 47,
   "metadata": {},
   "outputs": [
    {
     "data": {
      "text/html": [
       "<table>\n",
       "<thead><tr><th></th><th scope=col>Sum Sq</th><th scope=col>Df</th><th scope=col>F value</th><th scope=col>Pr(&gt;F)</th></tr></thead>\n",
       "<tbody>\n",
       "\t<tr><th scope=row>AMPHIT_15SD</th><td>  144.3771  </td><td>  3         </td><td> 1.296707   </td><td>0.2746713281</td></tr>\n",
       "\t<tr><th scope=row>PQBADSLP</th><td>  182.5382  </td><td>  1         </td><td> 4.918338   </td><td>0.0269624848</td></tr>\n",
       "\t<tr><th scope=row>SLEEPHRS</th><td>  182.4112  </td><td>  3         </td><td> 1.638306   </td><td>0.1793967461</td></tr>\n",
       "\t<tr><th scope=row>BMI</th><td>  181.9732  </td><td>  1         </td><td> 4.903116   </td><td>0.0271990356</td></tr>\n",
       "\t<tr><th scope=row>GIERACE</th><td>  605.1208  </td><td>  4         </td><td> 4.076118   </td><td>0.0028804305</td></tr>\n",
       "\t<tr><th scope=row>SITE</th><td>  329.3991  </td><td>  5         </td><td> 1.775076   </td><td>0.1160154948</td></tr>\n",
       "\t<tr><th scope=row>GIMSTAT</th><td>  202.0928  </td><td>  3         </td><td> 1.815074   </td><td>0.1432344737</td></tr>\n",
       "\t<tr><th scope=row>MHDIAB</th><td>  439.1420  </td><td>  1         </td><td>11.832314   </td><td>0.0006242367</td></tr>\n",
       "\t<tr><th scope=row>M1ADEPR</th><td>  272.9628  </td><td>  1         </td><td> 7.354755   </td><td>0.0068883226</td></tr>\n",
       "\t<tr><th scope=row>Residuals</th><td>21377.5437  </td><td>576         </td><td>       NA   </td><td>          NA</td></tr>\n",
       "</tbody>\n",
       "</table>\n"
      ],
      "text/latex": [
       "\\begin{tabular}{r|llll}\n",
       "  & Sum Sq & Df & F value & Pr(>F)\\\\\n",
       "\\hline\n",
       "\tAMPHIT\\_15SD &   144.3771   &   3          &  1.296707    & 0.2746713281\\\\\n",
       "\tPQBADSLP &   182.5382   &   1          &  4.918338    & 0.0269624848\\\\\n",
       "\tSLEEPHRS &   182.4112   &   3          &  1.638306    & 0.1793967461\\\\\n",
       "\tBMI &   181.9732   &   1          &  4.903116    & 0.0271990356\\\\\n",
       "\tGIERACE &   605.1208   &   4          &  4.076118    & 0.0028804305\\\\\n",
       "\tSITE &   329.3991   &   5          &  1.775076    & 0.1160154948\\\\\n",
       "\tGIMSTAT &   202.0928   &   3          &  1.815074    & 0.1432344737\\\\\n",
       "\tMHDIAB &   439.1420   &   1          & 11.832314    & 0.0006242367\\\\\n",
       "\tM1ADEPR &   272.9628   &   1          &  7.354755    & 0.0068883226\\\\\n",
       "\tResiduals & 21377.5437   & 576          &        NA    &           NA\\\\\n",
       "\\end{tabular}\n"
      ],
      "text/markdown": [
       "\n",
       "| <!--/--> | Sum Sq | Df | F value | Pr(>F) | \n",
       "|---|---|---|---|---|---|---|---|---|---|\n",
       "| AMPHIT_15SD |   144.3771   |   3          |  1.296707    | 0.2746713281 | \n",
       "| PQBADSLP |   182.5382   |   1          |  4.918338    | 0.0269624848 | \n",
       "| SLEEPHRS |   182.4112   |   3          |  1.638306    | 0.1793967461 | \n",
       "| BMI |   181.9732   |   1          |  4.903116    | 0.0271990356 | \n",
       "| GIERACE |   605.1208   |   4          |  4.076118    | 0.0028804305 | \n",
       "| SITE |   329.3991   |   5          |  1.775076    | 0.1160154948 | \n",
       "| GIMSTAT |   202.0928   |   3          |  1.815074    | 0.1432344737 | \n",
       "| MHDIAB |   439.1420   |   1          | 11.832314    | 0.0006242367 | \n",
       "| M1ADEPR |   272.9628   |   1          |  7.354755    | 0.0068883226 | \n",
       "| Residuals | 21377.5437   | 576          |        NA    |           NA | \n",
       "\n",
       "\n"
      ],
      "text/plain": [
       "            Sum Sq     Df  F value   Pr(>F)      \n",
       "AMPHIT_15SD   144.3771   3  1.296707 0.2746713281\n",
       "PQBADSLP      182.5382   1  4.918338 0.0269624848\n",
       "SLEEPHRS      182.4112   3  1.638306 0.1793967461\n",
       "BMI           181.9732   1  4.903116 0.0271990356\n",
       "GIERACE       605.1208   4  4.076118 0.0028804305\n",
       "SITE          329.3991   5  1.775076 0.1160154948\n",
       "GIMSTAT       202.0928   3  1.815074 0.1432344737\n",
       "MHDIAB        439.1420   1 11.832314 0.0006242367\n",
       "M1ADEPR       272.9628   1  7.354755 0.0068883226\n",
       "Residuals   21377.5437 576        NA           NA"
      ]
     },
     "metadata": {},
     "output_type": "display_data"
    }
   ],
   "source": [
    "Anova(lm(alpha_pd ~ AMPHIT_15SD +  PQBADSLP + SLEEPHRS + BMI + GIERACE + SITE + GIMSTAT + MHDIAB + M1ADEPR))"
   ]
  },
  {
   "cell_type": "code",
   "execution_count": 48,
   "metadata": {},
   "outputs": [
    {
     "data": {
      "text/plain": [
       "\n",
       "Call:\n",
       "lm(formula = alpha_pd ~ AMPHIT_15SD + PQBADSLP + SLEEPHRS + BMI + \n",
       "    GIERACE + SITE + GIMSTAT + MHDIAB + M1ADEPR)\n",
       "\n",
       "Residuals:\n",
       "     Min       1Q   Median       3Q      Max \n",
       "-13.1016  -4.4769  -0.2044   4.2807  21.2326 \n",
       "\n",
       "Coefficients:\n",
       "                                 Estimate Std. Error t value Pr(>|t|)    \n",
       "(Intercept)                      26.51046    2.04481  12.965  < 2e-16 ***\n",
       "AMPHIT_15SD-1.0                  -2.02343    1.22144  -1.657 0.098146 .  \n",
       "AMPHIT_15SD1.0                   -1.67213    1.45774  -1.147 0.251828    \n",
       "AMPHIT_15SDMissing:not collected -0.10288    0.56341  -0.183 0.855179    \n",
       "PQBADSLP1: Yes                   -1.18558    0.53459  -2.218 0.026962 *  \n",
       "SLEEPHRS2: 7 HRS                  0.41197    0.73806   0.558 0.576944    \n",
       "SLEEPHRS3:>=8 HRS                -1.11286    0.75948  -1.465 0.143384    \n",
       "SLEEPHRSMissing:not collected    -0.60403    0.69354  -0.871 0.384149    \n",
       "BMI                              -0.15242    0.06884  -2.214 0.027199 *  \n",
       "GIERACE2:AFRICAN AMERICAN        -1.31936    1.30577  -1.010 0.312722    \n",
       "GIERACE3:ASIAN                   -4.57275    1.17664  -3.886 0.000114 ***\n",
       "GIERACE4:HISPANIC                -1.60344    1.84089  -0.871 0.384108    \n",
       "GIERACE5:OTHER                   -1.50580    2.08989  -0.721 0.471499    \n",
       "SITEBirmingham                    0.38312    0.90193   0.425 0.671160    \n",
       "SITEMinneapolis                   1.78171    0.84866   2.099 0.036213 *  \n",
       "SITEPalo Alto                     0.17363    0.88506   0.196 0.844543    \n",
       "SITEPittsburgh                   -0.76352    0.85628  -0.892 0.372940    \n",
       "SITEPortland                      0.81087    0.77857   1.041 0.298089    \n",
       "GIMSTAT2: Widowed                 0.27034    0.63855   0.423 0.672182    \n",
       "GIMSTAT4: Divorced                2.23954    1.09721   2.041 0.041693 *  \n",
       "GIMSTAT5: Single, never married   1.93976    1.57865   1.229 0.219668    \n",
       "MHDIAB1: Yes                     -2.46187    0.71570  -3.440 0.000624 ***\n",
       "M1ADEPR1: Yes                    -2.44169    0.90034  -2.712 0.006888 ** \n",
       "---\n",
       "Signif. codes:  0 ‘***’ 0.001 ‘**’ 0.01 ‘*’ 0.05 ‘.’ 0.1 ‘ ’ 1\n",
       "\n",
       "Residual standard error: 6.092 on 576 degrees of freedom\n",
       "Multiple R-squared:  0.1199,\tAdjusted R-squared:  0.08633 \n",
       "F-statistic: 3.568 on 22 and 576 DF,  p-value: 1.116e-07\n"
      ]
     },
     "metadata": {},
     "output_type": "display_data"
    }
   ],
   "source": [
    "summary(lm(alpha_pd ~ AMPHIT_15SD +  PQBADSLP + SLEEPHRS + BMI + GIERACE + SITE + GIMSTAT + MHDIAB + M1ADEPR))"
   ]
  },
  {
   "cell_type": "code",
   "execution_count": 49,
   "metadata": {},
   "outputs": [
    {
     "data": {
      "image/png": "[encoded data removed]",
      "text/plain": [
       "Plot with title “”"
      ]
     },
     "metadata": {},
     "output_type": "display_data"
    }
   ],
   "source": [
    "mdl_combine = lm(alpha_pd ~ AMPHIT_15SD +  PQBADSLP + SLEEPHRS + BMI + GIERACE + SITE + GIMSTAT + MHDIAB + M1ADEPR)\n",
    "par(mfrow=c(2,2))\n",
    "plot(mdl_combine, 1, id.n=0)\n",
    "qqPlot(mdl_combine$residuals)\n",
    "\n",
    "# DFBETAs\n",
    "n = nrow(data)\n",
    "dfbetas.vd = dfbetas(mdl_combine)\n",
    "plot(dfbetas.vd[,2], type='h', xlab='Observation Number', ylab='DFBETA BETA1')\n",
    "show.points = order(-abs(dfbetas.vd[,2]))[1:3]\n",
    "text(seq(1,n)[show.points], dfbetas.vd[show.points,2], show.points, col='red')"
   ]
  },
  {
   "cell_type": "code",
   "execution_count": 51,
   "metadata": {},
   "outputs": [
    {
     "data": {
      "text/plain": [
       "\n",
       "\tPearson's product-moment correlation\n",
       "\n",
       "data:  as.numeric(AMPHIT) and as.numeric(PQBADSLP)\n",
       "t = 0.30208, df = 416, p-value = 0.7627\n",
       "alternative hypothesis: true correlation is not equal to 0\n",
       "95 percent confidence interval:\n",
       " -0.08122158  0.11056690\n",
       "sample estimates:\n",
       "       cor \n",
       "0.01480887 \n"
      ]
     },
     "metadata": {},
     "output_type": "display_data"
    }
   ],
   "source": [
    "cor.test(as.numeric(AMPHIT), as.numeric(PQBADSLP))"
   ]
  },
  {
   "cell_type": "code",
   "execution_count": 54,
   "metadata": {},
   "outputs": [
    {
     "data": {
      "text/plain": [
       "                AMPHIT_15SD    PQBADSLP                    SLEEPHRS  \n",
       " 0.0                  :371   0: No :359   1: <=6 HRS           :153  \n",
       " -1.0                 : 28   1: Yes:240   2: 7 HRS             :143  \n",
       " 1.0                  : 19                3:>=8 HRS            :128  \n",
       " Missing:not collected:181                Missing:not collected:175  \n",
       "                                                                     \n",
       "                                                                     \n",
       "      BMI                      GIERACE             SITE    \n",
       " Min.   :17.60   1:WHITE           :520   San Diego  :134  \n",
       " 1st Qu.:24.51   2:AFRICAN AMERICAN: 24   Birmingham : 75  \n",
       " Median :26.72   3:ASIAN           : 34   Minneapolis: 91  \n",
       " Mean   :27.01   4:HISPANIC        : 12   Palo Alto  : 86  \n",
       " 3rd Qu.:28.98   5:OTHER           :  9   Pittsburgh : 92  \n",
       " Max.   :42.93                            Portland   :121  \n",
       "                     GIMSTAT       MHDIAB      M1ADEPR   \n",
       " 1: Married              :428   0: No :508   0: No :546  \n",
       " 2: Widowed              :120   1: Yes: 91   1: Yes: 53  \n",
       " 4: Divorced             : 35                            \n",
       " 5: Single, never married: 16                            \n",
       "                                                         \n",
       "                                                         "
      ]
     },
     "metadata": {},
     "output_type": "display_data"
    }
   ],
   "source": [
    "summary(data[, c('AMPHIT_15SD', 'PQBADSLP', 'SLEEPHRS', 'BMI', 'GIERACE', 'SITE', 'GIMSTAT', 'MHDIAB', 'M1ADEPR')])"
   ]
  },
  {
   "cell_type": "code",
   "execution_count": 87,
   "metadata": {},
   "outputs": [
    {
     "data": {
      "text/html": [
       "<strong>pdf:</strong> 2"
      ],
      "text/latex": [
       "\\textbf{pdf:} 2"
      ],
      "text/markdown": [
       "**pdf:** 2"
      ],
      "text/plain": [
       "pdf \n",
       "  2 "
      ]
     },
     "metadata": {},
     "output_type": "display_data"
    }
   ],
   "source": [
    "pdf('../figures/MLRplot.pdf')\n",
    "BMI.sort = sort(data$BMI)\n",
    "plot(BMI, alpha_pd, col='darkblue', xlab='BMI', ylab='PD Alpha Diversity')\n",
    "pred.0 = predict(mdl_combine, newdata=data.frame(PQBADSLP='0: No', AMPHIT_15SD='0.0', \n",
    "                                               SLEEPHRS='2: 7 HRS', BMI=sort(data$BMI),\n",
    "                                               GIERACE='1:WHITE', SITE='San Diego', \n",
    "                                               GIMSTAT='1: Married', MHDIAB='0: No', \n",
    "                                               M1ADEPR='0: No'), type='response', se.fit=T)\n",
    "pred.1 = predict(mdl_combine, newdata=data.frame(PQBADSLP='1: Yes', AMPHIT_15SD='0.0', \n",
    "                                               SLEEPHRS='2: 7 HRS', BMI=sort(data$BMI),\n",
    "                                               GIERACE='1:WHITE', SITE='San Diego', \n",
    "                                               GIMSTAT='1: Married', MHDIAB='0: No', \n",
    "                                               M1ADEPR='0: No'), type='response', se.fit=T)\n",
    "lines(BMI.sort, pred.0$fit, col='green', lwd=3)\n",
    "# lines(BMI.sort, pred.0$fit - 1.96*pred.0$se.fit, col='green', lty=2, lwd=2)\n",
    "# lines(BMI.sort, pred.0$fit + 1.96*pred.0$se.fit, col='green', lty=2, lwd=2)\n",
    "\n",
    "lines(BMI.sort, pred.1$fit, col='orange', lwd=3)\n",
    "# lines(BMI.sort, pred.1$fit - 1.96*pred.1$se.fit, col='orange', lty=2, lwd=2)\n",
    "# lines(BMI.sort, pred.1$fit + 1.96*pred.1$se.fit, col='orange', lty=2, lwd=2)\n",
    "\n",
    "legend(37, 38, c('No', 'Yes'), title='Poor Sleep',\n",
    "       col=c('green', 'orange'), lty=c('solid', 'solid'), lwd=c(3,3),  bty='n')\n",
    "dev.off()"
   ]
  },
  {
   "cell_type": "markdown",
   "metadata": {},
   "source": [
    "## AMAMPT (not significant)"
   ]
  },
  {
   "cell_type": "code",
   "execution_count": 25,
   "metadata": {},
   "outputs": [],
   "source": [
    "fit_mpt_cts = lm(alpha_pd ~ AMAMPT + BMI + GIERACE + SITE + GIMSTAT + MHDIAB + PQPSQUAL + M1ADEPR)\n",
    "fit_mpt_cat = lm(alpha_pd ~ AMAMPT_C1 + BMI + GIERACE + SITE + GIMSTAT + MHDIAB + PQPSQUAL + M1ADEPR)"
   ]
  },
  {
   "cell_type": "code",
   "execution_count": 26,
   "metadata": {},
   "outputs": [
    {
     "data": {
      "text/html": [
       "<table>\n",
       "<thead><tr><th></th><th scope=col>Sum Sq</th><th scope=col>Df</th><th scope=col>F value</th><th scope=col>Pr(&gt;F)</th></tr></thead>\n",
       "<tbody>\n",
       "\t<tr><th scope=row>AMAMPT</th><td>    6.652119</td><td>  1         </td><td>0.1714964   </td><td>0.679008366 </td></tr>\n",
       "\t<tr><th scope=row>BMI</th><td>  221.094691</td><td>  1         </td><td>5.6999812   </td><td>0.017430969 </td></tr>\n",
       "\t<tr><th scope=row>GIERACE</th><td>  401.343865</td><td>  4         </td><td>2.5867338   </td><td>0.036568615 </td></tr>\n",
       "\t<tr><th scope=row>SITE</th><td>  209.017983</td><td>  5         </td><td>1.0777270   </td><td>0.372117765 </td></tr>\n",
       "\t<tr><th scope=row>GIMSTAT</th><td>   61.706189</td><td>  3         </td><td>0.5302767   </td><td>0.661738625 </td></tr>\n",
       "\t<tr><th scope=row>MHDIAB</th><td>  349.294804</td><td>  1         </td><td>9.0050729   </td><td>0.002861796 </td></tr>\n",
       "\t<tr><th scope=row>PQPSQUAL</th><td>  227.216628</td><td>  3         </td><td>1.9526030   </td><td>0.120577469 </td></tr>\n",
       "\t<tr><th scope=row>M1ADEPR</th><td>  284.397073</td><td>  1         </td><td>7.3319624   </td><td>0.007065907 </td></tr>\n",
       "\t<tr><th scope=row>Residuals</th><td>15437.890827</td><td>398         </td><td>       NA   </td><td>         NA </td></tr>\n",
       "</tbody>\n",
       "</table>\n"
      ],
      "text/latex": [
       "\\begin{tabular}{r|llll}\n",
       "  & Sum Sq & Df & F value & Pr(>F)\\\\\n",
       "\\hline\n",
       "\tAMAMPT &     6.652119 &   1          & 0.1714964    & 0.679008366 \\\\\n",
       "\tBMI &   221.094691 &   1          & 5.6999812    & 0.017430969 \\\\\n",
       "\tGIERACE &   401.343865 &   4          & 2.5867338    & 0.036568615 \\\\\n",
       "\tSITE &   209.017983 &   5          & 1.0777270    & 0.372117765 \\\\\n",
       "\tGIMSTAT &    61.706189 &   3          & 0.5302767    & 0.661738625 \\\\\n",
       "\tMHDIAB &   349.294804 &   1          & 9.0050729    & 0.002861796 \\\\\n",
       "\tPQPSQUAL &   227.216628 &   3          & 1.9526030    & 0.120577469 \\\\\n",
       "\tM1ADEPR &   284.397073 &   1          & 7.3319624    & 0.007065907 \\\\\n",
       "\tResiduals & 15437.890827 & 398          &        NA    &          NA \\\\\n",
       "\\end{tabular}\n"
      ],
      "text/markdown": [
       "\n",
       "| <!--/--> | Sum Sq | Df | F value | Pr(>F) | \n",
       "|---|---|---|---|---|---|---|---|---|\n",
       "| AMAMPT |     6.652119 |   1          | 0.1714964    | 0.679008366  | \n",
       "| BMI |   221.094691 |   1          | 5.6999812    | 0.017430969  | \n",
       "| GIERACE |   401.343865 |   4          | 2.5867338    | 0.036568615  | \n",
       "| SITE |   209.017983 |   5          | 1.0777270    | 0.372117765  | \n",
       "| GIMSTAT |    61.706189 |   3          | 0.5302767    | 0.661738625  | \n",
       "| MHDIAB |   349.294804 |   1          | 9.0050729    | 0.002861796  | \n",
       "| PQPSQUAL |   227.216628 |   3          | 1.9526030    | 0.120577469  | \n",
       "| M1ADEPR |   284.397073 |   1          | 7.3319624    | 0.007065907  | \n",
       "| Residuals | 15437.890827 | 398          |        NA    |          NA  | \n",
       "\n",
       "\n"
      ],
      "text/plain": [
       "          Sum Sq       Df  F value   Pr(>F)     \n",
       "AMAMPT        6.652119   1 0.1714964 0.679008366\n",
       "BMI         221.094691   1 5.6999812 0.017430969\n",
       "GIERACE     401.343865   4 2.5867338 0.036568615\n",
       "SITE        209.017983   5 1.0777270 0.372117765\n",
       "GIMSTAT      61.706189   3 0.5302767 0.661738625\n",
       "MHDIAB      349.294804   1 9.0050729 0.002861796\n",
       "PQPSQUAL    227.216628   3 1.9526030 0.120577469\n",
       "M1ADEPR     284.397073   1 7.3319624 0.007065907\n",
       "Residuals 15437.890827 398        NA          NA"
      ]
     },
     "metadata": {},
     "output_type": "display_data"
    }
   ],
   "source": [
    "Anova(fit_mpt_cts)"
   ]
  },
  {
   "cell_type": "code",
   "execution_count": 27,
   "metadata": {},
   "outputs": [
    {
     "data": {
      "text/html": [
       "<table>\n",
       "<thead><tr><th></th><th scope=col>Sum Sq</th><th scope=col>Df</th><th scope=col>F value</th><th scope=col>Pr(&gt;F)</th></tr></thead>\n",
       "<tbody>\n",
       "\t<tr><th scope=row>AMAMPT_C1</th><td>    1.714181</td><td>  2         </td><td> 0.02284745 </td><td>0.9774124595</td></tr>\n",
       "\t<tr><th scope=row>BMI</th><td>  212.711137</td><td>  1         </td><td> 5.67023915 </td><td>0.0175779331</td></tr>\n",
       "\t<tr><th scope=row>GIERACE</th><td>  558.703359</td><td>  4         </td><td> 3.72333780 </td><td>0.0052950924</td></tr>\n",
       "\t<tr><th scope=row>SITE</th><td>  384.127418</td><td>  5         </td><td> 2.04793633 </td><td>0.0703908813</td></tr>\n",
       "\t<tr><th scope=row>GIMSTAT</th><td>  180.906823</td><td>  3         </td><td> 1.60747726 </td><td>0.1865211712</td></tr>\n",
       "\t<tr><th scope=row>MHDIAB</th><td>  499.667508</td><td>  1         </td><td>13.31963295 </td><td>0.0002864296</td></tr>\n",
       "\t<tr><th scope=row>PQPSQUAL</th><td>  196.252033</td><td>  3         </td><td> 1.74382965 </td><td>0.1568850478</td></tr>\n",
       "\t<tr><th scope=row>M1ADEPR</th><td>  336.229564</td><td>  1         </td><td> 8.96286892 </td><td>0.0028730168</td></tr>\n",
       "\t<tr><th scope=row>Residuals</th><td>21682.866248</td><td>578         </td><td>         NA </td><td>          NA</td></tr>\n",
       "</tbody>\n",
       "</table>\n"
      ],
      "text/latex": [
       "\\begin{tabular}{r|llll}\n",
       "  & Sum Sq & Df & F value & Pr(>F)\\\\\n",
       "\\hline\n",
       "\tAMAMPT\\_C1 &     1.714181 &   2          &  0.02284745  & 0.9774124595\\\\\n",
       "\tBMI &   212.711137 &   1          &  5.67023915  & 0.0175779331\\\\\n",
       "\tGIERACE &   558.703359 &   4          &  3.72333780  & 0.0052950924\\\\\n",
       "\tSITE &   384.127418 &   5          &  2.04793633  & 0.0703908813\\\\\n",
       "\tGIMSTAT &   180.906823 &   3          &  1.60747726  & 0.1865211712\\\\\n",
       "\tMHDIAB &   499.667508 &   1          & 13.31963295  & 0.0002864296\\\\\n",
       "\tPQPSQUAL &   196.252033 &   3          &  1.74382965  & 0.1568850478\\\\\n",
       "\tM1ADEPR &   336.229564 &   1          &  8.96286892  & 0.0028730168\\\\\n",
       "\tResiduals & 21682.866248 & 578          &          NA  &           NA\\\\\n",
       "\\end{tabular}\n"
      ],
      "text/markdown": [
       "\n",
       "| <!--/--> | Sum Sq | Df | F value | Pr(>F) | \n",
       "|---|---|---|---|---|---|---|---|---|\n",
       "| AMAMPT_C1 |     1.714181 |   2          |  0.02284745  | 0.9774124595 | \n",
       "| BMI |   212.711137 |   1          |  5.67023915  | 0.0175779331 | \n",
       "| GIERACE |   558.703359 |   4          |  3.72333780  | 0.0052950924 | \n",
       "| SITE |   384.127418 |   5          |  2.04793633  | 0.0703908813 | \n",
       "| GIMSTAT |   180.906823 |   3          |  1.60747726  | 0.1865211712 | \n",
       "| MHDIAB |   499.667508 |   1          | 13.31963295  | 0.0002864296 | \n",
       "| PQPSQUAL |   196.252033 |   3          |  1.74382965  | 0.1568850478 | \n",
       "| M1ADEPR |   336.229564 |   1          |  8.96286892  | 0.0028730168 | \n",
       "| Residuals | 21682.866248 | 578          |          NA  |           NA | \n",
       "\n",
       "\n"
      ],
      "text/plain": [
       "          Sum Sq       Df  F value     Pr(>F)      \n",
       "AMAMPT_C1     1.714181   2  0.02284745 0.9774124595\n",
       "BMI         212.711137   1  5.67023915 0.0175779331\n",
       "GIERACE     558.703359   4  3.72333780 0.0052950924\n",
       "SITE        384.127418   5  2.04793633 0.0703908813\n",
       "GIMSTAT     180.906823   3  1.60747726 0.1865211712\n",
       "MHDIAB      499.667508   1 13.31963295 0.0002864296\n",
       "PQPSQUAL    196.252033   3  1.74382965 0.1568850478\n",
       "M1ADEPR     336.229564   1  8.96286892 0.0028730168\n",
       "Residuals 21682.866248 578          NA           NA"
      ]
     },
     "metadata": {},
     "output_type": "display_data"
    }
   ],
   "source": [
    "Anova(fit_mpt_cat)"
   ]
  },
  {
   "cell_type": "markdown",
   "metadata": {},
   "source": [
    "## AMPHIT"
   ]
  },
  {
   "cell_type": "code",
   "execution_count": 28,
   "metadata": {},
   "outputs": [],
   "source": [
    "fit_hit_cts = lm(alpha_pd ~ AMPHIT + BMI + GIERACE + SITE + GIMSTAT + MHDIAB + PQPSQUAL + M1ADEPR)\n",
    "fit_hit_cat = lm(alpha_pd ~ AMPHIT_15SD + BMI + GIERACE + SITE + GIMSTAT + MHDIAB + PQPSQUAL + M1ADEPR)"
   ]
  },
  {
   "cell_type": "code",
   "execution_count": 29,
   "metadata": {},
   "outputs": [
    {
     "data": {
      "text/html": [
       "<table>\n",
       "<thead><tr><th></th><th scope=col>Sum Sq</th><th scope=col>Df</th><th scope=col>F value</th><th scope=col>Pr(&gt;F)</th></tr></thead>\n",
       "<tbody>\n",
       "\t<tr><th scope=row>AMPHIT</th><td>8.209066e-01</td><td>  1         </td><td>0.02115558  </td><td>0.884429567 </td></tr>\n",
       "\t<tr><th scope=row>BMI</th><td>2.319404e+02</td><td>  1         </td><td>5.97733447  </td><td>0.014923690 </td></tr>\n",
       "\t<tr><th scope=row>GIERACE</th><td>4.029825e+02</td><td>  4         </td><td>2.59631467  </td><td>0.036000141 </td></tr>\n",
       "\t<tr><th scope=row>SITE</th><td>1.983045e+02</td><td>  5         </td><td>1.02210084  </td><td>0.404149971 </td></tr>\n",
       "\t<tr><th scope=row>GIMSTAT</th><td>6.194676e+01</td><td>  3         </td><td>0.53214310  </td><td>0.660470762 </td></tr>\n",
       "\t<tr><th scope=row>MHDIAB</th><td>3.565173e+02</td><td>  1         </td><td>9.18780413  </td><td>0.002595564 </td></tr>\n",
       "\t<tr><th scope=row>PQPSQUAL</th><td>2.247667e+02</td><td>  3         </td><td>1.93082019  </td><td>0.124000556 </td></tr>\n",
       "\t<tr><th scope=row>M1ADEPR</th><td>2.760797e+02</td><td>  1         </td><td>7.11484732  </td><td>0.007956851 </td></tr>\n",
       "\t<tr><th scope=row>Residuals</th><td>1.544372e+04</td><td>398         </td><td>        NA  </td><td>         NA </td></tr>\n",
       "</tbody>\n",
       "</table>\n"
      ],
      "text/latex": [
       "\\begin{tabular}{r|llll}\n",
       "  & Sum Sq & Df & F value & Pr(>F)\\\\\n",
       "\\hline\n",
       "\tAMPHIT & 8.209066e-01 &   1          & 0.02115558   & 0.884429567 \\\\\n",
       "\tBMI & 2.319404e+02 &   1          & 5.97733447   & 0.014923690 \\\\\n",
       "\tGIERACE & 4.029825e+02 &   4          & 2.59631467   & 0.036000141 \\\\\n",
       "\tSITE & 1.983045e+02 &   5          & 1.02210084   & 0.404149971 \\\\\n",
       "\tGIMSTAT & 6.194676e+01 &   3          & 0.53214310   & 0.660470762 \\\\\n",
       "\tMHDIAB & 3.565173e+02 &   1          & 9.18780413   & 0.002595564 \\\\\n",
       "\tPQPSQUAL & 2.247667e+02 &   3          & 1.93082019   & 0.124000556 \\\\\n",
       "\tM1ADEPR & 2.760797e+02 &   1          & 7.11484732   & 0.007956851 \\\\\n",
       "\tResiduals & 1.544372e+04 & 398          &         NA   &          NA \\\\\n",
       "\\end{tabular}\n"
      ],
      "text/markdown": [
       "\n",
       "| <!--/--> | Sum Sq | Df | F value | Pr(>F) | \n",
       "|---|---|---|---|---|---|---|---|---|\n",
       "| AMPHIT | 8.209066e-01 |   1          | 0.02115558   | 0.884429567  | \n",
       "| BMI | 2.319404e+02 |   1          | 5.97733447   | 0.014923690  | \n",
       "| GIERACE | 4.029825e+02 |   4          | 2.59631467   | 0.036000141  | \n",
       "| SITE | 1.983045e+02 |   5          | 1.02210084   | 0.404149971  | \n",
       "| GIMSTAT | 6.194676e+01 |   3          | 0.53214310   | 0.660470762  | \n",
       "| MHDIAB | 3.565173e+02 |   1          | 9.18780413   | 0.002595564  | \n",
       "| PQPSQUAL | 2.247667e+02 |   3          | 1.93082019   | 0.124000556  | \n",
       "| M1ADEPR | 2.760797e+02 |   1          | 7.11484732   | 0.007956851  | \n",
       "| Residuals | 1.544372e+04 | 398          |         NA   |          NA  | \n",
       "\n",
       "\n"
      ],
      "text/plain": [
       "          Sum Sq       Df  F value    Pr(>F)     \n",
       "AMPHIT    8.209066e-01   1 0.02115558 0.884429567\n",
       "BMI       2.319404e+02   1 5.97733447 0.014923690\n",
       "GIERACE   4.029825e+02   4 2.59631467 0.036000141\n",
       "SITE      1.983045e+02   5 1.02210084 0.404149971\n",
       "GIMSTAT   6.194676e+01   3 0.53214310 0.660470762\n",
       "MHDIAB    3.565173e+02   1 9.18780413 0.002595564\n",
       "PQPSQUAL  2.247667e+02   3 1.93082019 0.124000556\n",
       "M1ADEPR   2.760797e+02   1 7.11484732 0.007956851\n",
       "Residuals 1.544372e+04 398         NA          NA"
      ]
     },
     "metadata": {},
     "output_type": "display_data"
    }
   ],
   "source": [
    "Anova(fit_hit_cts)"
   ]
  },
  {
   "cell_type": "code",
   "execution_count": 30,
   "metadata": {},
   "outputs": [
    {
     "data": {
      "text/html": [
       "<table>\n",
       "<thead><tr><th></th><th scope=col>Sum Sq</th><th scope=col>Df</th><th scope=col>F value</th><th scope=col>Pr(&gt;F)</th></tr></thead>\n",
       "<tbody>\n",
       "\t<tr><th scope=row>AMPHIT_15SD</th><td>  128.9699  </td><td>  3         </td><td> 1.150754   </td><td>0.3279718595</td></tr>\n",
       "\t<tr><th scope=row>BMI</th><td>  183.7307  </td><td>  1         </td><td> 4.918100   </td><td>0.0269654908</td></tr>\n",
       "\t<tr><th scope=row>GIERACE</th><td>  595.7707  </td><td>  4         </td><td> 3.986893   </td><td>0.0033611781</td></tr>\n",
       "\t<tr><th scope=row>SITE</th><td>  366.6477  </td><td>  5         </td><td> 1.962883   </td><td>0.0824170093</td></tr>\n",
       "\t<tr><th scope=row>GIMSTAT</th><td>  181.0648  </td><td>  3         </td><td> 1.615579   </td><td>0.1846245857</td></tr>\n",
       "\t<tr><th scope=row>MHDIAB</th><td>  451.1122  </td><td>  1         </td><td>12.075359   </td><td>0.0005492953</td></tr>\n",
       "\t<tr><th scope=row>PQPSQUAL</th><td>  176.9255  </td><td>  3         </td><td> 1.578646   </td><td>0.1934300798</td></tr>\n",
       "\t<tr><th scope=row>M1ADEPR</th><td>  319.6934  </td><td>  1         </td><td> 8.557543   </td><td>0.0035762310</td></tr>\n",
       "\t<tr><th scope=row>Residuals</th><td>21555.6106  </td><td>577         </td><td>       NA   </td><td>          NA</td></tr>\n",
       "</tbody>\n",
       "</table>\n"
      ],
      "text/latex": [
       "\\begin{tabular}{r|llll}\n",
       "  & Sum Sq & Df & F value & Pr(>F)\\\\\n",
       "\\hline\n",
       "\tAMPHIT\\_15SD &   128.9699   &   3          &  1.150754    & 0.3279718595\\\\\n",
       "\tBMI &   183.7307   &   1          &  4.918100    & 0.0269654908\\\\\n",
       "\tGIERACE &   595.7707   &   4          &  3.986893    & 0.0033611781\\\\\n",
       "\tSITE &   366.6477   &   5          &  1.962883    & 0.0824170093\\\\\n",
       "\tGIMSTAT &   181.0648   &   3          &  1.615579    & 0.1846245857\\\\\n",
       "\tMHDIAB &   451.1122   &   1          & 12.075359    & 0.0005492953\\\\\n",
       "\tPQPSQUAL &   176.9255   &   3          &  1.578646    & 0.1934300798\\\\\n",
       "\tM1ADEPR &   319.6934   &   1          &  8.557543    & 0.0035762310\\\\\n",
       "\tResiduals & 21555.6106   & 577          &        NA    &           NA\\\\\n",
       "\\end{tabular}\n"
      ],
      "text/markdown": [
       "\n",
       "| <!--/--> | Sum Sq | Df | F value | Pr(>F) | \n",
       "|---|---|---|---|---|---|---|---|---|\n",
       "| AMPHIT_15SD |   128.9699   |   3          |  1.150754    | 0.3279718595 | \n",
       "| BMI |   183.7307   |   1          |  4.918100    | 0.0269654908 | \n",
       "| GIERACE |   595.7707   |   4          |  3.986893    | 0.0033611781 | \n",
       "| SITE |   366.6477   |   5          |  1.962883    | 0.0824170093 | \n",
       "| GIMSTAT |   181.0648   |   3          |  1.615579    | 0.1846245857 | \n",
       "| MHDIAB |   451.1122   |   1          | 12.075359    | 0.0005492953 | \n",
       "| PQPSQUAL |   176.9255   |   3          |  1.578646    | 0.1934300798 | \n",
       "| M1ADEPR |   319.6934   |   1          |  8.557543    | 0.0035762310 | \n",
       "| Residuals | 21555.6106   | 577          |        NA    |           NA | \n",
       "\n",
       "\n"
      ],
      "text/plain": [
       "            Sum Sq     Df  F value   Pr(>F)      \n",
       "AMPHIT_15SD   128.9699   3  1.150754 0.3279718595\n",
       "BMI           183.7307   1  4.918100 0.0269654908\n",
       "GIERACE       595.7707   4  3.986893 0.0033611781\n",
       "SITE          366.6477   5  1.962883 0.0824170093\n",
       "GIMSTAT       181.0648   3  1.615579 0.1846245857\n",
       "MHDIAB        451.1122   1 12.075359 0.0005492953\n",
       "PQPSQUAL      176.9255   3  1.578646 0.1934300798\n",
       "M1ADEPR       319.6934   1  8.557543 0.0035762310\n",
       "Residuals   21555.6106 577        NA           NA"
      ]
     },
     "metadata": {},
     "output_type": "display_data"
    }
   ],
   "source": [
    "Anova(fit_hit_cat)"
   ]
  },
  {
   "cell_type": "markdown",
   "metadata": {},
   "source": [
    "### AMFVT"
   ]
  },
  {
   "cell_type": "code",
   "execution_count": 31,
   "metadata": {},
   "outputs": [],
   "source": [
    "fit_fvt_cts = lm(alpha_pd ~ AMFVT + BMI + GIERACE + SITE + GIMSTAT + MHDIAB + PQPSQUAL + M1ADEPR)\n",
    "fit_fvt_cat = lm(alpha_pd ~ AMFVT_C1 + BMI + GIERACE + SITE + GIMSTAT + MHDIAB + PQPSQUAL + M1ADEPR)"
   ]
  },
  {
   "cell_type": "code",
   "execution_count": 32,
   "metadata": {},
   "outputs": [
    {
     "data": {
      "text/html": [
       "<table>\n",
       "<thead><tr><th></th><th scope=col>Sum Sq</th><th scope=col>Df</th><th scope=col>F value</th><th scope=col>Pr(&gt;F)</th></tr></thead>\n",
       "<tbody>\n",
       "\t<tr><th scope=row>AMFVT</th><td>   36.61289</td><td>  1        </td><td>0.9457422  </td><td>0.331396103</td></tr>\n",
       "\t<tr><th scope=row>BMI</th><td>  208.69943</td><td>  1        </td><td>5.3908847  </td><td>0.020746219</td></tr>\n",
       "\t<tr><th scope=row>GIERACE</th><td>  420.77167</td><td>  4        </td><td>2.7172229  </td><td>0.029522360</td></tr>\n",
       "\t<tr><th scope=row>SITE</th><td>  214.81746</td><td>  5        </td><td>1.1097837  </td><td>0.354525149</td></tr>\n",
       "\t<tr><th scope=row>GIMSTAT</th><td>   63.88632</td><td>  3        </td><td>0.5500794  </td><td>0.648355287</td></tr>\n",
       "\t<tr><th scope=row>MHDIAB</th><td>  310.36515</td><td>  1        </td><td>8.0169972  </td><td>0.004869245</td></tr>\n",
       "\t<tr><th scope=row>PQPSQUAL</th><td>  233.62608</td><td>  3        </td><td>2.0115871  </td><td>0.111757538</td></tr>\n",
       "\t<tr><th scope=row>M1ADEPR</th><td>  275.82018</td><td>  1        </td><td>7.1246709  </td><td>0.007914149</td></tr>\n",
       "\t<tr><th scope=row>Residuals</th><td>15407.93006</td><td>398        </td><td>       NA  </td><td>         NA</td></tr>\n",
       "</tbody>\n",
       "</table>\n"
      ],
      "text/latex": [
       "\\begin{tabular}{r|llll}\n",
       "  & Sum Sq & Df & F value & Pr(>F)\\\\\n",
       "\\hline\n",
       "\tAMFVT &    36.61289 &   1         & 0.9457422   & 0.331396103\\\\\n",
       "\tBMI &   208.69943 &   1         & 5.3908847   & 0.020746219\\\\\n",
       "\tGIERACE &   420.77167 &   4         & 2.7172229   & 0.029522360\\\\\n",
       "\tSITE &   214.81746 &   5         & 1.1097837   & 0.354525149\\\\\n",
       "\tGIMSTAT &    63.88632 &   3         & 0.5500794   & 0.648355287\\\\\n",
       "\tMHDIAB &   310.36515 &   1         & 8.0169972   & 0.004869245\\\\\n",
       "\tPQPSQUAL &   233.62608 &   3         & 2.0115871   & 0.111757538\\\\\n",
       "\tM1ADEPR &   275.82018 &   1         & 7.1246709   & 0.007914149\\\\\n",
       "\tResiduals & 15407.93006 & 398         &        NA   &          NA\\\\\n",
       "\\end{tabular}\n"
      ],
      "text/markdown": [
       "\n",
       "| <!--/--> | Sum Sq | Df | F value | Pr(>F) | \n",
       "|---|---|---|---|---|---|---|---|---|\n",
       "| AMFVT |    36.61289 |   1         | 0.9457422   | 0.331396103 | \n",
       "| BMI |   208.69943 |   1         | 5.3908847   | 0.020746219 | \n",
       "| GIERACE |   420.77167 |   4         | 2.7172229   | 0.029522360 | \n",
       "| SITE |   214.81746 |   5         | 1.1097837   | 0.354525149 | \n",
       "| GIMSTAT |    63.88632 |   3         | 0.5500794   | 0.648355287 | \n",
       "| MHDIAB |   310.36515 |   1         | 8.0169972   | 0.004869245 | \n",
       "| PQPSQUAL |   233.62608 |   3         | 2.0115871   | 0.111757538 | \n",
       "| M1ADEPR |   275.82018 |   1         | 7.1246709   | 0.007914149 | \n",
       "| Residuals | 15407.93006 | 398         |        NA   |          NA | \n",
       "\n",
       "\n"
      ],
      "text/plain": [
       "          Sum Sq      Df  F value   Pr(>F)     \n",
       "AMFVT        36.61289   1 0.9457422 0.331396103\n",
       "BMI         208.69943   1 5.3908847 0.020746219\n",
       "GIERACE     420.77167   4 2.7172229 0.029522360\n",
       "SITE        214.81746   5 1.1097837 0.354525149\n",
       "GIMSTAT      63.88632   3 0.5500794 0.648355287\n",
       "MHDIAB      310.36515   1 8.0169972 0.004869245\n",
       "PQPSQUAL    233.62608   3 2.0115871 0.111757538\n",
       "M1ADEPR     275.82018   1 7.1246709 0.007914149\n",
       "Residuals 15407.93006 398        NA          NA"
      ]
     },
     "metadata": {},
     "output_type": "display_data"
    }
   ],
   "source": [
    "Anova(fit_fvt_cts)"
   ]
  },
  {
   "cell_type": "code",
   "execution_count": 33,
   "metadata": {},
   "outputs": [
    {
     "data": {
      "text/html": [
       "<table>\n",
       "<thead><tr><th></th><th scope=col>Sum Sq</th><th scope=col>Df</th><th scope=col>F value</th><th scope=col>Pr(&gt;F)</th></tr></thead>\n",
       "<tbody>\n",
       "\t<tr><th scope=row>AMFVT_C1</th><td>   48.3070  </td><td>  2         </td><td> 0.6452462  </td><td>0.5249108076</td></tr>\n",
       "\t<tr><th scope=row>BMI</th><td>  207.7244  </td><td>  1         </td><td> 5.5492312  </td><td>0.0188218676</td></tr>\n",
       "\t<tr><th scope=row>GIERACE</th><td>  578.2707  </td><td>  4         </td><td> 3.8620381  </td><td>0.0041697907</td></tr>\n",
       "\t<tr><th scope=row>SITE</th><td>  396.7437  </td><td>  5         </td><td> 2.1197536  </td><td>0.0615385655</td></tr>\n",
       "\t<tr><th scope=row>GIMSTAT</th><td>  178.0109  </td><td>  3         </td><td> 1.5851516  </td><td>0.1918487852</td></tr>\n",
       "\t<tr><th scope=row>MHDIAB</th><td>  443.4275  </td><td>  1         </td><td>11.8458983  </td><td>0.0006196431</td></tr>\n",
       "\t<tr><th scope=row>PQPSQUAL</th><td>  203.5908  </td><td>  3         </td><td> 1.8129356  </td><td>0.1436229365</td></tr>\n",
       "\t<tr><th scope=row>M1ADEPR</th><td>  318.1388  </td><td>  1         </td><td> 8.4988851  </td><td>0.0036913700</td></tr>\n",
       "\t<tr><th scope=row>Residuals</th><td>21636.2734  </td><td>578         </td><td>        NA  </td><td>          NA</td></tr>\n",
       "</tbody>\n",
       "</table>\n"
      ],
      "text/latex": [
       "\\begin{tabular}{r|llll}\n",
       "  & Sum Sq & Df & F value & Pr(>F)\\\\\n",
       "\\hline\n",
       "\tAMFVT\\_C1 &    48.3070   &   2          &  0.6452462   & 0.5249108076\\\\\n",
       "\tBMI &   207.7244   &   1          &  5.5492312   & 0.0188218676\\\\\n",
       "\tGIERACE &   578.2707   &   4          &  3.8620381   & 0.0041697907\\\\\n",
       "\tSITE &   396.7437   &   5          &  2.1197536   & 0.0615385655\\\\\n",
       "\tGIMSTAT &   178.0109   &   3          &  1.5851516   & 0.1918487852\\\\\n",
       "\tMHDIAB &   443.4275   &   1          & 11.8458983   & 0.0006196431\\\\\n",
       "\tPQPSQUAL &   203.5908   &   3          &  1.8129356   & 0.1436229365\\\\\n",
       "\tM1ADEPR &   318.1388   &   1          &  8.4988851   & 0.0036913700\\\\\n",
       "\tResiduals & 21636.2734   & 578          &         NA   &           NA\\\\\n",
       "\\end{tabular}\n"
      ],
      "text/markdown": [
       "\n",
       "| <!--/--> | Sum Sq | Df | F value | Pr(>F) | \n",
       "|---|---|---|---|---|---|---|---|---|\n",
       "| AMFVT_C1 |    48.3070   |   2          |  0.6452462   | 0.5249108076 | \n",
       "| BMI |   207.7244   |   1          |  5.5492312   | 0.0188218676 | \n",
       "| GIERACE |   578.2707   |   4          |  3.8620381   | 0.0041697907 | \n",
       "| SITE |   396.7437   |   5          |  2.1197536   | 0.0615385655 | \n",
       "| GIMSTAT |   178.0109   |   3          |  1.5851516   | 0.1918487852 | \n",
       "| MHDIAB |   443.4275   |   1          | 11.8458983   | 0.0006196431 | \n",
       "| PQPSQUAL |   203.5908   |   3          |  1.8129356   | 0.1436229365 | \n",
       "| M1ADEPR |   318.1388   |   1          |  8.4988851   | 0.0036913700 | \n",
       "| Residuals | 21636.2734   | 578          |         NA   |           NA | \n",
       "\n",
       "\n"
      ],
      "text/plain": [
       "          Sum Sq     Df  F value    Pr(>F)      \n",
       "AMFVT_C1     48.3070   2  0.6452462 0.5249108076\n",
       "BMI         207.7244   1  5.5492312 0.0188218676\n",
       "GIERACE     578.2707   4  3.8620381 0.0041697907\n",
       "SITE        396.7437   5  2.1197536 0.0615385655\n",
       "GIMSTAT     178.0109   3  1.5851516 0.1918487852\n",
       "MHDIAB      443.4275   1 11.8458983 0.0006196431\n",
       "PQPSQUAL    203.5908   3  1.8129356 0.1436229365\n",
       "M1ADEPR     318.1388   1  8.4988851 0.0036913700\n",
       "Residuals 21636.2734 578         NA           NA"
      ]
     },
     "metadata": {},
     "output_type": "display_data"
    }
   ],
   "source": [
    "Anova(fit_fvt_cat)"
   ]
  },
  {
   "cell_type": "markdown",
   "metadata": {},
   "source": [
    "### PQBADSLP (only one significant)"
   ]
  },
  {
   "cell_type": "code",
   "execution_count": 34,
   "metadata": {},
   "outputs": [],
   "source": [
    "fit_slp_cts = lm(alpha_pd ~ PQPSQI + BMI + GIERACE + SITE + GIMSTAT + MHDIAB + PQPSQUAL + M1ADEPR)\n",
    "fit_slp_cat = lm(alpha_pd ~ PQBADSLP + BMI + GIERACE + SITE + GIMSTAT + MHDIAB + PQPSQUAL + M1ADEPR)"
   ]
  },
  {
   "cell_type": "code",
   "execution_count": 35,
   "metadata": {},
   "outputs": [
    {
     "data": {
      "text/html": [
       "<table>\n",
       "<thead><tr><th></th><th scope=col>Sum Sq</th><th scope=col>Df</th><th scope=col>F value</th><th scope=col>Pr(&gt;F)</th></tr></thead>\n",
       "<tbody>\n",
       "\t<tr><th scope=row>PQPSQI</th><td>   42.40113 </td><td>  1         </td><td> 1.134371   </td><td>0.2872888929</td></tr>\n",
       "\t<tr><th scope=row>BMI</th><td>  208.45997 </td><td>  1         </td><td> 5.576995   </td><td>0.0185280525</td></tr>\n",
       "\t<tr><th scope=row>GIERACE</th><td>  551.03052 </td><td>  4         </td><td> 3.685473   </td><td>0.0056504976</td></tr>\n",
       "\t<tr><th scope=row>SITE</th><td>  369.01923 </td><td>  5         </td><td> 1.974497   </td><td>0.0806632810</td></tr>\n",
       "\t<tr><th scope=row>GIMSTAT</th><td>  191.68682 </td><td>  3         </td><td> 1.709419   </td><td>0.1639115492</td></tr>\n",
       "\t<tr><th scope=row>MHDIAB</th><td>  485.30488 </td><td>  1         </td><td>12.983513   </td><td>0.0003412846</td></tr>\n",
       "\t<tr><th scope=row>PQPSQUAL</th><td>  154.74690 </td><td>  3         </td><td> 1.379997   </td><td>0.2478857717</td></tr>\n",
       "\t<tr><th scope=row>M1ADEPR</th><td>  310.61946 </td><td>  1         </td><td> 8.310100   </td><td>0.0040888841</td></tr>\n",
       "\t<tr><th scope=row>Residuals</th><td>21642.17929 </td><td>579         </td><td>       NA   </td><td>          NA</td></tr>\n",
       "</tbody>\n",
       "</table>\n"
      ],
      "text/latex": [
       "\\begin{tabular}{r|llll}\n",
       "  & Sum Sq & Df & F value & Pr(>F)\\\\\n",
       "\\hline\n",
       "\tPQPSQI &    42.40113  &   1          &  1.134371    & 0.2872888929\\\\\n",
       "\tBMI &   208.45997  &   1          &  5.576995    & 0.0185280525\\\\\n",
       "\tGIERACE &   551.03052  &   4          &  3.685473    & 0.0056504976\\\\\n",
       "\tSITE &   369.01923  &   5          &  1.974497    & 0.0806632810\\\\\n",
       "\tGIMSTAT &   191.68682  &   3          &  1.709419    & 0.1639115492\\\\\n",
       "\tMHDIAB &   485.30488  &   1          & 12.983513    & 0.0003412846\\\\\n",
       "\tPQPSQUAL &   154.74690  &   3          &  1.379997    & 0.2478857717\\\\\n",
       "\tM1ADEPR &   310.61946  &   1          &  8.310100    & 0.0040888841\\\\\n",
       "\tResiduals & 21642.17929  & 579          &        NA    &           NA\\\\\n",
       "\\end{tabular}\n"
      ],
      "text/markdown": [
       "\n",
       "| <!--/--> | Sum Sq | Df | F value | Pr(>F) | \n",
       "|---|---|---|---|---|---|---|---|---|\n",
       "| PQPSQI |    42.40113  |   1          |  1.134371    | 0.2872888929 | \n",
       "| BMI |   208.45997  |   1          |  5.576995    | 0.0185280525 | \n",
       "| GIERACE |   551.03052  |   4          |  3.685473    | 0.0056504976 | \n",
       "| SITE |   369.01923  |   5          |  1.974497    | 0.0806632810 | \n",
       "| GIMSTAT |   191.68682  |   3          |  1.709419    | 0.1639115492 | \n",
       "| MHDIAB |   485.30488  |   1          | 12.983513    | 0.0003412846 | \n",
       "| PQPSQUAL |   154.74690  |   3          |  1.379997    | 0.2478857717 | \n",
       "| M1ADEPR |   310.61946  |   1          |  8.310100    | 0.0040888841 | \n",
       "| Residuals | 21642.17929  | 579          |        NA    |           NA | \n",
       "\n",
       "\n"
      ],
      "text/plain": [
       "          Sum Sq      Df  F value   Pr(>F)      \n",
       "PQPSQI       42.40113   1  1.134371 0.2872888929\n",
       "BMI         208.45997   1  5.576995 0.0185280525\n",
       "GIERACE     551.03052   4  3.685473 0.0056504976\n",
       "SITE        369.01923   5  1.974497 0.0806632810\n",
       "GIMSTAT     191.68682   3  1.709419 0.1639115492\n",
       "MHDIAB      485.30488   1 12.983513 0.0003412846\n",
       "PQPSQUAL    154.74690   3  1.379997 0.2478857717\n",
       "M1ADEPR     310.61946   1  8.310100 0.0040888841\n",
       "Residuals 21642.17929 579        NA           NA"
      ]
     },
     "metadata": {},
     "output_type": "display_data"
    }
   ],
   "source": [
    "Anova(fit_slp_cts)"
   ]
  },
  {
   "cell_type": "code",
   "execution_count": 36,
   "metadata": {},
   "outputs": [
    {
     "data": {
      "text/html": [
       "<table>\n",
       "<thead><tr><th></th><th scope=col>Sum Sq</th><th scope=col>Df</th><th scope=col>F value</th><th scope=col>Pr(&gt;F)</th></tr></thead>\n",
       "<tbody>\n",
       "\t<tr><th scope=row>PQBADSLP</th><td>  120.1773  </td><td>  1         </td><td> 3.226737   </td><td>0.0729660885</td></tr>\n",
       "\t<tr><th scope=row>BMI</th><td>  207.5712  </td><td>  1         </td><td> 5.573247   </td><td>0.0185673606</td></tr>\n",
       "\t<tr><th scope=row>GIERACE</th><td>  530.1556  </td><td>  4         </td><td> 3.558643   </td><td>0.0070236387</td></tr>\n",
       "\t<tr><th scope=row>SITE</th><td>  362.3625  </td><td>  5         </td><td> 1.945872   </td><td>0.0850343855</td></tr>\n",
       "\t<tr><th scope=row>GIMSTAT</th><td>  192.9504  </td><td>  3         </td><td> 1.726894   </td><td>0.1603057953</td></tr>\n",
       "\t<tr><th scope=row>MHDIAB</th><td>  471.9534  </td><td>  1         </td><td>12.671856   </td><td>0.0004016762</td></tr>\n",
       "\t<tr><th scope=row>PQPSQUAL</th><td>  150.4604  </td><td>  3         </td><td> 1.346610   </td><td>0.2583202498</td></tr>\n",
       "\t<tr><th scope=row>M1ADEPR</th><td>  290.4167  </td><td>  1         </td><td> 7.797632   </td><td>0.0054043317</td></tr>\n",
       "\t<tr><th scope=row>Residuals</th><td>21564.4031  </td><td>579         </td><td>       NA   </td><td>          NA</td></tr>\n",
       "</tbody>\n",
       "</table>\n"
      ],
      "text/latex": [
       "\\begin{tabular}{r|llll}\n",
       "  & Sum Sq & Df & F value & Pr(>F)\\\\\n",
       "\\hline\n",
       "\tPQBADSLP &   120.1773   &   1          &  3.226737    & 0.0729660885\\\\\n",
       "\tBMI &   207.5712   &   1          &  5.573247    & 0.0185673606\\\\\n",
       "\tGIERACE &   530.1556   &   4          &  3.558643    & 0.0070236387\\\\\n",
       "\tSITE &   362.3625   &   5          &  1.945872    & 0.0850343855\\\\\n",
       "\tGIMSTAT &   192.9504   &   3          &  1.726894    & 0.1603057953\\\\\n",
       "\tMHDIAB &   471.9534   &   1          & 12.671856    & 0.0004016762\\\\\n",
       "\tPQPSQUAL &   150.4604   &   3          &  1.346610    & 0.2583202498\\\\\n",
       "\tM1ADEPR &   290.4167   &   1          &  7.797632    & 0.0054043317\\\\\n",
       "\tResiduals & 21564.4031   & 579          &        NA    &           NA\\\\\n",
       "\\end{tabular}\n"
      ],
      "text/markdown": [
       "\n",
       "| <!--/--> | Sum Sq | Df | F value | Pr(>F) | \n",
       "|---|---|---|---|---|---|---|---|---|\n",
       "| PQBADSLP |   120.1773   |   1          |  3.226737    | 0.0729660885 | \n",
       "| BMI |   207.5712   |   1          |  5.573247    | 0.0185673606 | \n",
       "| GIERACE |   530.1556   |   4          |  3.558643    | 0.0070236387 | \n",
       "| SITE |   362.3625   |   5          |  1.945872    | 0.0850343855 | \n",
       "| GIMSTAT |   192.9504   |   3          |  1.726894    | 0.1603057953 | \n",
       "| MHDIAB |   471.9534   |   1          | 12.671856    | 0.0004016762 | \n",
       "| PQPSQUAL |   150.4604   |   3          |  1.346610    | 0.2583202498 | \n",
       "| M1ADEPR |   290.4167   |   1          |  7.797632    | 0.0054043317 | \n",
       "| Residuals | 21564.4031   | 579          |        NA    |           NA | \n",
       "\n",
       "\n"
      ],
      "text/plain": [
       "          Sum Sq     Df  F value   Pr(>F)      \n",
       "PQBADSLP    120.1773   1  3.226737 0.0729660885\n",
       "BMI         207.5712   1  5.573247 0.0185673606\n",
       "GIERACE     530.1556   4  3.558643 0.0070236387\n",
       "SITE        362.3625   5  1.945872 0.0850343855\n",
       "GIMSTAT     192.9504   3  1.726894 0.1603057953\n",
       "MHDIAB      471.9534   1 12.671856 0.0004016762\n",
       "PQPSQUAL    150.4604   3  1.346610 0.2583202498\n",
       "M1ADEPR     290.4167   1  7.797632 0.0054043317\n",
       "Residuals 21564.4031 579        NA           NA"
      ]
     },
     "metadata": {},
     "output_type": "display_data"
    }
   ],
   "source": [
    "Anova(fit_slp_cat)"
   ]
  },
  {
   "cell_type": "code",
   "execution_count": 38,
   "metadata": {},
   "outputs": [
    {
     "data": {
      "text/plain": [
       "\n",
       "Call:\n",
       "lm(formula = alpha_pd ~ PQBADSLP + BMI + GIERACE + SITE + GIMSTAT + \n",
       "    MHDIAB + M1ADEPR)\n",
       "\n",
       "Residuals:\n",
       "     Min       1Q   Median       3Q      Max \n",
       "-13.2853  -4.6489  -0.2802   4.4065  21.6536 \n",
       "\n",
       "Coefficients:\n",
       "                                Estimate Std. Error t value Pr(>|t|)    \n",
       "(Intercept)                     26.01821    1.91741  13.569  < 2e-16 ***\n",
       "PQBADSLP1: Yes                  -1.10266    0.52296  -2.109 0.035413 *  \n",
       "BMI                             -0.15291    0.06819  -2.242 0.025325 *  \n",
       "GIERACE2:AFRICAN AMERICAN       -1.24919    1.30400  -0.958 0.338477    \n",
       "GIERACE3:ASIAN                  -4.30859    1.16956  -3.684 0.000251 ***\n",
       "GIERACE4:HISPANIC               -1.41337    1.83754  -0.769 0.442108    \n",
       "GIERACE5:OTHER                  -1.34744    2.09106  -0.644 0.519582    \n",
       "SITEBirmingham                   0.32427    0.89683   0.362 0.717806    \n",
       "SITEMinneapolis                  1.80790    0.84772   2.133 0.033372 *  \n",
       "SITEPalo Alto                    0.15116    0.88613   0.171 0.864612    \n",
       "SITEPittsburgh                  -0.85566    0.84999  -1.007 0.314512    \n",
       "SITEPortland                     0.80984    0.77687   1.042 0.297639    \n",
       "GIMSTAT2: Widowed                0.24616    0.63709   0.386 0.699359    \n",
       "GIMSTAT4: Divorced               2.24857    1.09623   2.051 0.040695 *  \n",
       "GIMSTAT5: Single, never married  1.76462    1.57256   1.122 0.262268    \n",
       "MHDIAB1: Yes                    -2.54389    0.71099  -3.578 0.000375 ***\n",
       "M1ADEPR1: Yes                   -2.48826    0.89751  -2.772 0.005743 ** \n",
       "---\n",
       "Signif. codes:  0 ‘***’ 0.001 ‘**’ 0.01 ‘*’ 0.05 ‘.’ 0.1 ‘ ’ 1\n",
       "\n",
       "Residual standard error: 6.108 on 582 degrees of freedom\n",
       "Multiple R-squared:  0.1061,\tAdjusted R-squared:  0.08148 \n",
       "F-statistic: 4.315 on 16 and 582 DF,  p-value: 4.908e-08\n"
      ]
     },
     "metadata": {},
     "output_type": "display_data"
    }
   ],
   "source": [
    "# drop PQPSQUAL\n",
    "fit_slp_cat = lm(alpha_pd ~ PQBADSLP + BMI + GIERACE + SITE + GIMSTAT + MHDIAB + M1ADEPR)\n",
    "summary(fit_slp_cat)"
   ]
  },
  {
   "cell_type": "code",
   "execution_count": 39,
   "metadata": {},
   "outputs": [
    {
     "data": {
      "image/png": "[encoded data removed]",
      "text/plain": [
       "Plot with title “”"
      ]
     },
     "metadata": {},
     "output_type": "display_data"
    }
   ],
   "source": [
    "par(mfrow=c(2,2))\n",
    "\n",
    "# residual scatterplot\n",
    "plot(fit_slp_cat, 1, id.n = 0)\n",
    "qqPlot(fit_slp_cat$residuals)\n",
    "\n",
    "# DFBETAs\n",
    "n = nrow(data)\n",
    "dfbetas.vd = dfbetas(fit_slp_cat)\n",
    "plot(dfbetas.vd[,2], type='h', xlab='Observation Number', ylab='DFBETA BETA1')\n",
    "show.points = order(-abs(dfbetas.vd[,2]))[1:3]\n",
    "text(seq(1,n)[show.points], dfbetas.vd[show.points,2], show.points, col='red')"
   ]
  },
  {
   "cell_type": "code",
   "execution_count": 40,
   "metadata": {},
   "outputs": [
    {
     "data": {
      "text/plain": [
       "\n",
       "Call:\n",
       "lm(formula = alpha_pd[-show.points] ~ PQBADSLP[-show.points] + \n",
       "    GIERACE[-show.points] + SITE[-show.points] + BMI[-show.points] + \n",
       "    GIMSTAT[-show.points] + MHDIAB[-show.points] + M1ADEPR[-show.points])\n",
       "\n",
       "Residuals:\n",
       "     Min       1Q   Median       3Q      Max \n",
       "-13.0838  -4.5097  -0.2741   4.3998  17.5457 \n",
       "\n",
       "Coefficients:\n",
       "                                              Estimate Std. Error t value\n",
       "(Intercept)                                   25.78546    1.89318  13.620\n",
       "PQBADSLP[-show.points]1: Yes                  -1.21895    0.51687  -2.358\n",
       "GIERACE[-show.points]2:AFRICAN AMERICAN       -1.79654    1.30791  -1.374\n",
       "GIERACE[-show.points]3:ASIAN                  -4.30047    1.15006  -3.739\n",
       "GIERACE[-show.points]4:HISPANIC               -1.45773    1.80625  -0.807\n",
       "GIERACE[-show.points]5:OTHER                  -1.46452    2.05559  -0.712\n",
       "SITE[-show.points]Birmingham                   0.26721    0.88303   0.303\n",
       "SITE[-show.points]Minneapolis                  1.53761    0.83685   1.837\n",
       "SITE[-show.points]Palo Alto                    0.08507    0.87222   0.098\n",
       "SITE[-show.points]Pittsburgh                  -0.95813    0.83663  -1.145\n",
       "SITE[-show.points]Portland                     0.55546    0.76683   0.724\n",
       "BMI[-show.points]                             -0.13853    0.06731  -2.058\n",
       "GIMSTAT[-show.points]2: Widowed                0.17296    0.62828   0.275\n",
       "GIMSTAT[-show.points]4: Divorced               2.37256    1.07833   2.200\n",
       "GIMSTAT[-show.points]5: Single, never married  1.82719    1.54588   1.182\n",
       "MHDIAB[-show.points]1: Yes                    -2.52476    0.69897  -3.612\n",
       "M1ADEPR[-show.points]1: Yes                   -2.43975    0.88252  -2.765\n",
       "                                              Pr(>|t|)    \n",
       "(Intercept)                                    < 2e-16 ***\n",
       "PQBADSLP[-show.points]1: Yes                  0.018690 *  \n",
       "GIERACE[-show.points]2:AFRICAN AMERICAN       0.170097    \n",
       "GIERACE[-show.points]3:ASIAN                  0.000203 ***\n",
       "GIERACE[-show.points]4:HISPANIC               0.419970    \n",
       "GIERACE[-show.points]5:OTHER                  0.476469    \n",
       "SITE[-show.points]Birmingham                  0.762301    \n",
       "SITE[-show.points]Minneapolis                 0.066666 .  \n",
       "SITE[-show.points]Palo Alto                   0.922337    \n",
       "SITE[-show.points]Pittsburgh                  0.252586    \n",
       "SITE[-show.points]Portland                    0.469142    \n",
       "BMI[-show.points]                             0.040038 *  \n",
       "GIMSTAT[-show.points]2: Widowed               0.783189    \n",
       "GIMSTAT[-show.points]4: Divorced              0.028185 *  \n",
       "GIMSTAT[-show.points]5: Single, never married 0.237699    \n",
       "MHDIAB[-show.points]1: Yes                    0.000330 ***\n",
       "M1ADEPR[-show.points]1: Yes                   0.005882 ** \n",
       "---\n",
       "Signif. codes:  0 ‘***’ 0.001 ‘**’ 0.01 ‘*’ 0.05 ‘.’ 0.1 ‘ ’ 1\n",
       "\n",
       "Residual standard error: 6.004 on 579 degrees of freedom\n",
       "Multiple R-squared:  0.1074,\tAdjusted R-squared:  0.08277 \n",
       "F-statistic: 4.356 on 16 and 579 DF,  p-value: 3.911e-08\n"
      ]
     },
     "metadata": {},
     "output_type": "display_data"
    }
   ],
   "source": [
    "fit_slp_cat_outlier = lm(alpha_pd[-show.points] ~ PQBADSLP[-show.points] + GIERACE[-show.points] + \n",
    "SITE[-show.points] + BMI[-show.points] + GIMSTAT[-show.points] + MHDIAB[-show.points] + M1ADEPR[-show.points])\n",
    "summary(fit_slp_cat_outlier)"
   ]
  },
  {
   "cell_type": "markdown",
   "metadata": {},
   "source": [
    "### SLEEPHRS"
   ]
  },
  {
   "cell_type": "code",
   "execution_count": 41,
   "metadata": {},
   "outputs": [],
   "source": [
    "fit_hrs_cts = lm(alpha_pd ~ SLEEPHRS + BMI + GIERACE + SITE + GIMSTAT + MHDIAB + PQPSQUAL + M1ADEPR)\n",
    "fit_hrs_cat = lm(alpha_pd ~ SLSLPHRS + BMI + GIERACE + SITE + GIMSTAT + MHDIAB + PQPSQUAL + M1ADEPR)"
   ]
  },
  {
   "cell_type": "code",
   "execution_count": 42,
   "metadata": {},
   "outputs": [
    {
     "data": {
      "text/html": [
       "<table>\n",
       "<thead><tr><th></th><th scope=col>Sum Sq</th><th scope=col>Df</th><th scope=col>F value</th><th scope=col>Pr(&gt;F)</th></tr></thead>\n",
       "<tbody>\n",
       "\t<tr><th scope=row>SLEEPHRS</th><td>  175.6776  </td><td>  3         </td><td> 1.570915   </td><td>0.1953223164</td></tr>\n",
       "\t<tr><th scope=row>BMI</th><td>  237.4275  </td><td>  1         </td><td> 6.369254   </td><td>0.0118787629</td></tr>\n",
       "\t<tr><th scope=row>GIERACE</th><td>  572.4698  </td><td>  4         </td><td> 3.839283   </td><td>0.0043372766</td></tr>\n",
       "\t<tr><th scope=row>SITE</th><td>  365.8888  </td><td>  5         </td><td> 1.963074   </td><td>0.0823880170</td></tr>\n",
       "\t<tr><th scope=row>GIMSTAT</th><td>  192.5878  </td><td>  3         </td><td> 1.722126   </td><td>0.1612863943</td></tr>\n",
       "\t<tr><th scope=row>MHDIAB</th><td>  528.7770  </td><td>  1         </td><td>14.185024   </td><td>0.0001826791</td></tr>\n",
       "\t<tr><th scope=row>PQPSQUAL</th><td>  188.1220  </td><td>  3         </td><td> 1.682193   </td><td>0.1696869635</td></tr>\n",
       "\t<tr><th scope=row>M1ADEPR</th><td>  339.5369  </td><td>  1         </td><td> 9.108450   </td><td>0.0026565890</td></tr>\n",
       "\t<tr><th scope=row>Residuals</th><td>21508.9028  </td><td>577         </td><td>       NA   </td><td>          NA</td></tr>\n",
       "</tbody>\n",
       "</table>\n"
      ],
      "text/latex": [
       "\\begin{tabular}{r|llll}\n",
       "  & Sum Sq & Df & F value & Pr(>F)\\\\\n",
       "\\hline\n",
       "\tSLEEPHRS &   175.6776   &   3          &  1.570915    & 0.1953223164\\\\\n",
       "\tBMI &   237.4275   &   1          &  6.369254    & 0.0118787629\\\\\n",
       "\tGIERACE &   572.4698   &   4          &  3.839283    & 0.0043372766\\\\\n",
       "\tSITE &   365.8888   &   5          &  1.963074    & 0.0823880170\\\\\n",
       "\tGIMSTAT &   192.5878   &   3          &  1.722126    & 0.1612863943\\\\\n",
       "\tMHDIAB &   528.7770   &   1          & 14.185024    & 0.0001826791\\\\\n",
       "\tPQPSQUAL &   188.1220   &   3          &  1.682193    & 0.1696869635\\\\\n",
       "\tM1ADEPR &   339.5369   &   1          &  9.108450    & 0.0026565890\\\\\n",
       "\tResiduals & 21508.9028   & 577          &        NA    &           NA\\\\\n",
       "\\end{tabular}\n"
      ],
      "text/markdown": [
       "\n",
       "| <!--/--> | Sum Sq | Df | F value | Pr(>F) | \n",
       "|---|---|---|---|---|---|---|---|---|\n",
       "| SLEEPHRS |   175.6776   |   3          |  1.570915    | 0.1953223164 | \n",
       "| BMI |   237.4275   |   1          |  6.369254    | 0.0118787629 | \n",
       "| GIERACE |   572.4698   |   4          |  3.839283    | 0.0043372766 | \n",
       "| SITE |   365.8888   |   5          |  1.963074    | 0.0823880170 | \n",
       "| GIMSTAT |   192.5878   |   3          |  1.722126    | 0.1612863943 | \n",
       "| MHDIAB |   528.7770   |   1          | 14.185024    | 0.0001826791 | \n",
       "| PQPSQUAL |   188.1220   |   3          |  1.682193    | 0.1696869635 | \n",
       "| M1ADEPR |   339.5369   |   1          |  9.108450    | 0.0026565890 | \n",
       "| Residuals | 21508.9028   | 577          |        NA    |           NA | \n",
       "\n",
       "\n"
      ],
      "text/plain": [
       "          Sum Sq     Df  F value   Pr(>F)      \n",
       "SLEEPHRS    175.6776   3  1.570915 0.1953223164\n",
       "BMI         237.4275   1  6.369254 0.0118787629\n",
       "GIERACE     572.4698   4  3.839283 0.0043372766\n",
       "SITE        365.8888   5  1.963074 0.0823880170\n",
       "GIMSTAT     192.5878   3  1.722126 0.1612863943\n",
       "MHDIAB      528.7770   1 14.185024 0.0001826791\n",
       "PQPSQUAL    188.1220   3  1.682193 0.1696869635\n",
       "M1ADEPR     339.5369   1  9.108450 0.0026565890\n",
       "Residuals 21508.9028 577        NA           NA"
      ]
     },
     "metadata": {},
     "output_type": "display_data"
    }
   ],
   "source": [
    "Anova(fit_hrs_cts)"
   ]
  },
  {
   "cell_type": "code",
   "execution_count": 43,
   "metadata": {},
   "outputs": [
    {
     "data": {
      "text/html": [
       "<table>\n",
       "<thead><tr><th></th><th scope=col>Sum Sq</th><th scope=col>Df</th><th scope=col>F value</th><th scope=col>Pr(&gt;F)</th></tr></thead>\n",
       "<tbody>\n",
       "\t<tr><th scope=row>SLSLPHRS</th><td>   15.59872</td><td>  1        </td><td>0.4112123  </td><td>0.521718424</td></tr>\n",
       "\t<tr><th scope=row>BMI</th><td>  169.71841</td><td>  1        </td><td>4.4741035  </td><td>0.035023844</td></tr>\n",
       "\t<tr><th scope=row>GIERACE</th><td>  565.13708</td><td>  4        </td><td>3.7245248  </td><td>0.005446447</td></tr>\n",
       "\t<tr><th scope=row>SITE</th><td>  263.77064</td><td>  5        </td><td>1.3907002  </td><td>0.226668771</td></tr>\n",
       "\t<tr><th scope=row>GIMSTAT</th><td>  221.21747</td><td>  3        </td><td>1.9439058  </td><td>0.121905899</td></tr>\n",
       "\t<tr><th scope=row>MHDIAB</th><td>  352.03269</td><td>  1        </td><td>9.2802581  </td><td>0.002468295</td></tr>\n",
       "\t<tr><th scope=row>PQPSQUAL</th><td>  101.57952</td><td>  3        </td><td>0.8926104  </td><td>0.444956271</td></tr>\n",
       "\t<tr><th scope=row>M1ADEPR</th><td>  211.62917</td><td>  1        </td><td>5.5789516  </td><td>0.018651097</td></tr>\n",
       "\t<tr><th scope=row>Residuals</th><td>15325.13488</td><td>404        </td><td>       NA  </td><td>         NA</td></tr>\n",
       "</tbody>\n",
       "</table>\n"
      ],
      "text/latex": [
       "\\begin{tabular}{r|llll}\n",
       "  & Sum Sq & Df & F value & Pr(>F)\\\\\n",
       "\\hline\n",
       "\tSLSLPHRS &    15.59872 &   1         & 0.4112123   & 0.521718424\\\\\n",
       "\tBMI &   169.71841 &   1         & 4.4741035   & 0.035023844\\\\\n",
       "\tGIERACE &   565.13708 &   4         & 3.7245248   & 0.005446447\\\\\n",
       "\tSITE &   263.77064 &   5         & 1.3907002   & 0.226668771\\\\\n",
       "\tGIMSTAT &   221.21747 &   3         & 1.9439058   & 0.121905899\\\\\n",
       "\tMHDIAB &   352.03269 &   1         & 9.2802581   & 0.002468295\\\\\n",
       "\tPQPSQUAL &   101.57952 &   3         & 0.8926104   & 0.444956271\\\\\n",
       "\tM1ADEPR &   211.62917 &   1         & 5.5789516   & 0.018651097\\\\\n",
       "\tResiduals & 15325.13488 & 404         &        NA   &          NA\\\\\n",
       "\\end{tabular}\n"
      ],
      "text/markdown": [
       "\n",
       "| <!--/--> | Sum Sq | Df | F value | Pr(>F) | \n",
       "|---|---|---|---|---|---|---|---|---|\n",
       "| SLSLPHRS |    15.59872 |   1         | 0.4112123   | 0.521718424 | \n",
       "| BMI |   169.71841 |   1         | 4.4741035   | 0.035023844 | \n",
       "| GIERACE |   565.13708 |   4         | 3.7245248   | 0.005446447 | \n",
       "| SITE |   263.77064 |   5         | 1.3907002   | 0.226668771 | \n",
       "| GIMSTAT |   221.21747 |   3         | 1.9439058   | 0.121905899 | \n",
       "| MHDIAB |   352.03269 |   1         | 9.2802581   | 0.002468295 | \n",
       "| PQPSQUAL |   101.57952 |   3         | 0.8926104   | 0.444956271 | \n",
       "| M1ADEPR |   211.62917 |   1         | 5.5789516   | 0.018651097 | \n",
       "| Residuals | 15325.13488 | 404         |        NA   |          NA | \n",
       "\n",
       "\n"
      ],
      "text/plain": [
       "          Sum Sq      Df  F value   Pr(>F)     \n",
       "SLSLPHRS     15.59872   1 0.4112123 0.521718424\n",
       "BMI         169.71841   1 4.4741035 0.035023844\n",
       "GIERACE     565.13708   4 3.7245248 0.005446447\n",
       "SITE        263.77064   5 1.3907002 0.226668771\n",
       "GIMSTAT     221.21747   3 1.9439058 0.121905899\n",
       "MHDIAB      352.03269   1 9.2802581 0.002468295\n",
       "PQPSQUAL    101.57952   3 0.8926104 0.444956271\n",
       "M1ADEPR     211.62917   1 5.5789516 0.018651097\n",
       "Residuals 15325.13488 404        NA          NA"
      ]
     },
     "metadata": {},
     "output_type": "display_data"
    }
   ],
   "source": [
    "Anova(fit_hrs_cat)"
   ]
  },
  {
   "cell_type": "code",
   "execution_count": null,
   "metadata": {},
   "outputs": [],
   "source": []
  }
 ],
 "metadata": {
  "kernelspec": {
   "display_name": "R",
   "language": "R",
   "name": "ir"
  },
  "language_info": {
   "codemirror_mode": "r",
   "file_extension": ".r",
   "mimetype": "text/x-r-source",
   "name": "R",
   "pygments_lexer": "r",
   "version": "3.5.0"
  }
 },
 "nbformat": 4,
 "nbformat_minor": 2
}

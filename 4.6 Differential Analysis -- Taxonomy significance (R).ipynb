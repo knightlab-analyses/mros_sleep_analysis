{
 "cells": [
  {
   "cell_type": "code",
   "execution_count": 1,
   "metadata": {},
   "outputs": [
    {
     "name": "stderr",
     "output_type": "stream",
     "text": [
      "\n",
      "Attaching package: ‘dplyr’\n",
      "\n",
      "\n",
      "The following objects are masked from ‘package:stats’:\n",
      "\n",
      "    filter, lag\n",
      "\n",
      "\n",
      "The following objects are masked from ‘package:base’:\n",
      "\n",
      "    intersect, setdiff, setequal, union\n",
      "\n",
      "\n"
     ]
    }
   ],
   "source": [
    "setwd(\"~/Dropbox/lab/sleep/Results\")\n",
    "source('4.5 Differential Analysis -- Taxa test functions.R')\n",
    "options(warn=-1)"
   ]
  },
  {
   "cell_type": "code",
   "execution_count": 2,
   "metadata": {},
   "outputs": [],
   "source": [
    "df <- read.delim(\"~/Dropbox/lab/sleep/Results/mapping_sleep_alpha_omit_sleep.txt\")\n",
    "var.test <- c(\"AMFVT_C1\", \"AMAMPT_C1\", \"PQBADSLP\", \"SLEEPHRS\",\n",
    "              \"AMFVT\", \"PQPEFFCY\", \"AMAMPT\", \"AMPHIT\", \"PQPSQI\", \"SLSLPHRS\")\n",
    "df <- df[ ,c(\"X.SampleID\", var.test)]"
   ]
  },
  {
   "cell_type": "code",
   "execution_count": 3,
   "metadata": {},
   "outputs": [],
   "source": [
    "file.name <- c(\"sample_plot_data.tsv\", \"sample_plot_data (1).tsv\", \"sample_plot_data (2).tsv\",\n",
    "               \"sample_plot_data (3).tsv\", \"sample_plot_data (4).tsv\", \"sample_plot_data (5).tsv\",\n",
    "               \"sample_plot_data (6).tsv\", \"sample_plot_data (7).tsv\", \"sample_plot_data (8).tsv\",\n",
    "               \"sample_plot_data (9).tsv\")"
   ]
  },
  {
   "cell_type": "code",
   "execution_count": 4,
   "metadata": {},
   "outputs": [
    {
     "data": {
      "text/html": [
       "0"
      ],
      "text/latex": [
       "0"
      ],
      "text/markdown": [
       "0"
      ],
      "text/plain": [
       "[1] 0"
      ]
     },
     "metadata": {},
     "output_type": "display_data"
    }
   ],
   "source": [
    "Acrophase <- get.pvalue(df, \"Acrophase\", file.name, var.test)\n",
    "sum(Acrophase$AMPHIT < 0.05)"
   ]
  },
  {
   "cell_type": "code",
   "execution_count": 5,
   "metadata": {},
   "outputs": [
    {
     "data": {
      "text/html": [
       "0"
      ],
      "text/latex": [
       "0"
      ],
      "text/markdown": [
       "0"
      ],
      "text/plain": [
       "[1] 0"
      ]
     },
     "metadata": {},
     "output_type": "display_data"
    }
   ],
   "source": [
    "amplitude <- get.pvalue(df, \"amplitude\", file.name, var.test)\n",
    "sum(amplitude$AMAMPT < 0.05)"
   ]
  },
  {
   "cell_type": "code",
   "execution_count": 6,
   "metadata": {},
   "outputs": [
    {
     "data": {
      "text/html": [
       "0"
      ],
      "text/latex": [
       "0"
      ],
      "text/markdown": [
       "0"
      ],
      "text/plain": [
       "[1] 0"
      ]
     },
     "metadata": {},
     "output_type": "display_data"
    }
   ],
   "source": [
    "amplitude_cat <- get.pvalue(df, \"amplitude-cat\", file.name, var.test)\n",
    "sum(amplitude_cat$AMAMPT_C1 < 0.05)"
   ]
  },
  {
   "cell_type": "code",
   "execution_count": 7,
   "metadata": {},
   "outputs": [
    {
     "data": {
      "text/html": [
       "9"
      ],
      "text/latex": [
       "9"
      ],
      "text/markdown": [
       "9"
      ],
      "text/plain": [
       "[1] 9"
      ]
     },
     "metadata": {},
     "output_type": "display_data"
    }
   ],
   "source": [
    "Fstats <- get.pvalue(df, \"Fstats\", file.name,  var.test)\n",
    "sum(Fstats$AMFVT < 0.05)"
   ]
  },
  {
   "cell_type": "code",
   "execution_count": 8,
   "metadata": {},
   "outputs": [
    {
     "data": {
      "text/html": [
       "2"
      ],
      "text/latex": [
       "2"
      ],
      "text/markdown": [
       "2"
      ],
      "text/plain": [
       "[1] 2"
      ]
     },
     "metadata": {},
     "output_type": "display_data"
    }
   ],
   "source": [
    "Fstats_cat <- get.pvalue(df, \"Fstats-cat\", file.name, var.test)\n",
    "sum(Fstats_cat$AMFVT_C1 < 0.05)"
   ]
  },
  {
   "cell_type": "code",
   "execution_count": 9,
   "metadata": {},
   "outputs": [
    {
     "data": {
      "text/html": [
       "0"
      ],
      "text/latex": [
       "0"
      ],
      "text/markdown": [
       "0"
      ],
      "text/plain": [
       "[1] 0"
      ]
     },
     "metadata": {},
     "output_type": "display_data"
    }
   ],
   "source": [
    "Poorslp <- get.pvalue(df, \"Poorslp\", file.name,  var.test)\n",
    "sum(Poorslp$PQBADSLP < 0.05)"
   ]
  },
  {
   "cell_type": "code",
   "execution_count": 10,
   "metadata": {},
   "outputs": [
    {
     "data": {
      "text/html": [
       "<table>\n",
       "<caption>A data.frame: 10 × 11</caption>\n",
       "<thead>\n",
       "\t<tr><th></th><th scope=col>AMFVT_C1</th><th scope=col>AMAMPT_C1</th><th scope=col>PQBADSLP</th><th scope=col>SLEEPHRS</th><th scope=col>AMFVT</th><th scope=col>PQPEFFCY</th><th scope=col>AMAMPT</th><th scope=col>AMPHIT</th><th scope=col>PQPSQI</th><th scope=col>SLSLPHRS</th><th scope=col>Taxaname</th></tr>\n",
       "\t<tr><th></th><th scope=col>&lt;dbl&gt;</th><th scope=col>&lt;dbl&gt;</th><th scope=col>&lt;dbl&gt;</th><th scope=col>&lt;dbl&gt;</th><th scope=col>&lt;dbl&gt;</th><th scope=col>&lt;dbl&gt;</th><th scope=col>&lt;dbl&gt;</th><th scope=col>&lt;dbl&gt;</th><th scope=col>&lt;dbl&gt;</th><th scope=col>&lt;dbl&gt;</th><th scope=col>&lt;chr&gt;</th></tr>\n",
       "</thead>\n",
       "<tbody>\n",
       "\t<tr><th scope=row>1</th><td>0.15604308</td><td>0.8580525</td><td>0.6334688</td><td>0.06947691</td><td>0.014684114</td><td>0.8452688</td><td>0.8982741</td><td>0.8914125</td><td>0.9283881</td><td>0.04484152</td><td>k__Bacteria; p__Bacteroidetes; c__Bacteroidia; o__Bacteroidales; f__Bacteroidaceae; g__Bacteroides; s__</td></tr>\n",
       "\t<tr><th scope=row>2</th><td>0.05251960</td><td>0.4361698</td><td>0.5445650</td><td>0.08018442</td><td>0.002959487</td><td>0.3603905</td><td>0.4919239</td><td>0.9885054</td><td>0.7570620</td><td>0.04435332</td><td>k__Bacteria; p__Firmicutes; c__Clostridia; o__Clostridiales; f__Lachnospiraceae; g__; s__              </td></tr>\n",
       "\t<tr><th scope=row>3</th><td>0.01903676</td><td>0.8336828</td><td>0.8517113</td><td>0.01864070</td><td>0.003332677</td><td>0.7907112</td><td>0.6014464</td><td>0.8167623</td><td>0.6885989</td><td>0.01624639</td><td>k__Bacteria; p__Firmicutes; c__Clostridia; o__Clostridiales; f__; g__; s__                             </td></tr>\n",
       "\t<tr><th scope=row>4</th><td>0.10785704</td><td>0.7360868</td><td>0.8788874</td><td>0.05960282</td><td>0.020020927</td><td>0.6579392</td><td>0.8028191</td><td>0.9111379</td><td>0.6425943</td><td>0.03105251</td><td>k__Bacteria; p__Firmicutes; c__Clostridia; o__Clostridiales; f__Ruminococcaceae; g__; s__              </td></tr>\n",
       "\t<tr><th scope=row>5</th><td>0.09555179</td><td>0.8989827</td><td>0.6081352</td><td>0.05180574</td><td>0.010895258</td><td>0.3107992</td><td>0.7936793</td><td>0.7044587</td><td>0.8364738</td><td>0.02019309</td><td>k__Bacteria; p__Firmicutes; c__Clostridia; o__Clostridiales; f__Ruminococcaceae; g__Oscillospira; s__  </td></tr>\n",
       "\t<tr><th scope=row>6</th><td>0.05251960</td><td>0.4361698</td><td>0.5445650</td><td>0.08018442</td><td>0.002959487</td><td>0.3603905</td><td>0.4919239</td><td>0.9885054</td><td>0.7570620</td><td>0.04435332</td><td>k__Bacteria; p__Firmicutes; c__Clostridia; o__Clostridiales; f__Lachnospiraceae; g__; s__              </td></tr>\n",
       "\t<tr><th scope=row>7</th><td>0.13514555</td><td>0.2282580</td><td>0.7204384</td><td>0.78372787</td><td>0.056433662</td><td>0.9185095</td><td>0.1192413</td><td>0.8617801</td><td>0.9960689</td><td>0.99240060</td><td>k__Bacteria; p__Firmicutes; c__Clostridia; o__Clostridiales; f__Clostridiaceae; g__; s__               </td></tr>\n",
       "\t<tr><th scope=row>8</th><td>0.10785704</td><td>0.7360868</td><td>0.8788874</td><td>0.05960282</td><td>0.020020927</td><td>0.6579392</td><td>0.8028191</td><td>0.9111379</td><td>0.6425943</td><td>0.03105251</td><td>k__Bacteria; p__Firmicutes; c__Clostridia; o__Clostridiales; f__Ruminococcaceae; g__; s__              </td></tr>\n",
       "\t<tr><th scope=row>9</th><td>0.05251960</td><td>0.4361698</td><td>0.5445650</td><td>0.08018442</td><td>0.002959487</td><td>0.3603905</td><td>0.4919239</td><td>0.9885054</td><td>0.7570620</td><td>0.04435332</td><td>k__Bacteria; p__Firmicutes; c__Clostridia; o__Clostridiales; f__Lachnospiraceae; g__; s__              </td></tr>\n",
       "\t<tr><th scope=row>10</th><td>0.01903676</td><td>0.8336828</td><td>0.8517113</td><td>0.01864070</td><td>0.003332677</td><td>0.7907112</td><td>0.6014464</td><td>0.8167623</td><td>0.6885989</td><td>0.01624639</td><td>k__Bacteria; p__Firmicutes; c__Clostridia; o__Clostridiales; f__; g__; s__                             </td></tr>\n",
       "</tbody>\n",
       "</table>\n"
      ],
      "text/latex": [
       "A data.frame: 10 × 11\n",
       "\\begin{tabular}{r|lllllllllll}\n",
       "  & AMFVT\\_C1 & AMAMPT\\_C1 & PQBADSLP & SLEEPHRS & AMFVT & PQPEFFCY & AMAMPT & AMPHIT & PQPSQI & SLSLPHRS & Taxaname\\\\\n",
       "  & <dbl> & <dbl> & <dbl> & <dbl> & <dbl> & <dbl> & <dbl> & <dbl> & <dbl> & <dbl> & <chr>\\\\\n",
       "\\hline\n",
       "\t1 & 0.15604308 & 0.8580525 & 0.6334688 & 0.06947691 & 0.014684114 & 0.8452688 & 0.8982741 & 0.8914125 & 0.9283881 & 0.04484152 & k\\_\\_Bacteria; p\\_\\_Bacteroidetes; c\\_\\_Bacteroidia; o\\_\\_Bacteroidales; f\\_\\_Bacteroidaceae; g\\_\\_Bacteroides; s\\_\\_\\\\\n",
       "\t2 & 0.05251960 & 0.4361698 & 0.5445650 & 0.08018442 & 0.002959487 & 0.3603905 & 0.4919239 & 0.9885054 & 0.7570620 & 0.04435332 & k\\_\\_Bacteria; p\\_\\_Firmicutes; c\\_\\_Clostridia; o\\_\\_Clostridiales; f\\_\\_Lachnospiraceae; g\\_\\_; s\\_\\_              \\\\\n",
       "\t3 & 0.01903676 & 0.8336828 & 0.8517113 & 0.01864070 & 0.003332677 & 0.7907112 & 0.6014464 & 0.8167623 & 0.6885989 & 0.01624639 & k\\_\\_Bacteria; p\\_\\_Firmicutes; c\\_\\_Clostridia; o\\_\\_Clostridiales; f\\_\\_; g\\_\\_; s\\_\\_                             \\\\\n",
       "\t4 & 0.10785704 & 0.7360868 & 0.8788874 & 0.05960282 & 0.020020927 & 0.6579392 & 0.8028191 & 0.9111379 & 0.6425943 & 0.03105251 & k\\_\\_Bacteria; p\\_\\_Firmicutes; c\\_\\_Clostridia; o\\_\\_Clostridiales; f\\_\\_Ruminococcaceae; g\\_\\_; s\\_\\_              \\\\\n",
       "\t5 & 0.09555179 & 0.8989827 & 0.6081352 & 0.05180574 & 0.010895258 & 0.3107992 & 0.7936793 & 0.7044587 & 0.8364738 & 0.02019309 & k\\_\\_Bacteria; p\\_\\_Firmicutes; c\\_\\_Clostridia; o\\_\\_Clostridiales; f\\_\\_Ruminococcaceae; g\\_\\_Oscillospira; s\\_\\_  \\\\\n",
       "\t6 & 0.05251960 & 0.4361698 & 0.5445650 & 0.08018442 & 0.002959487 & 0.3603905 & 0.4919239 & 0.9885054 & 0.7570620 & 0.04435332 & k\\_\\_Bacteria; p\\_\\_Firmicutes; c\\_\\_Clostridia; o\\_\\_Clostridiales; f\\_\\_Lachnospiraceae; g\\_\\_; s\\_\\_              \\\\\n",
       "\t7 & 0.13514555 & 0.2282580 & 0.7204384 & 0.78372787 & 0.056433662 & 0.9185095 & 0.1192413 & 0.8617801 & 0.9960689 & 0.99240060 & k\\_\\_Bacteria; p\\_\\_Firmicutes; c\\_\\_Clostridia; o\\_\\_Clostridiales; f\\_\\_Clostridiaceae; g\\_\\_; s\\_\\_               \\\\\n",
       "\t8 & 0.10785704 & 0.7360868 & 0.8788874 & 0.05960282 & 0.020020927 & 0.6579392 & 0.8028191 & 0.9111379 & 0.6425943 & 0.03105251 & k\\_\\_Bacteria; p\\_\\_Firmicutes; c\\_\\_Clostridia; o\\_\\_Clostridiales; f\\_\\_Ruminococcaceae; g\\_\\_; s\\_\\_              \\\\\n",
       "\t9 & 0.05251960 & 0.4361698 & 0.5445650 & 0.08018442 & 0.002959487 & 0.3603905 & 0.4919239 & 0.9885054 & 0.7570620 & 0.04435332 & k\\_\\_Bacteria; p\\_\\_Firmicutes; c\\_\\_Clostridia; o\\_\\_Clostridiales; f\\_\\_Lachnospiraceae; g\\_\\_; s\\_\\_              \\\\\n",
       "\t10 & 0.01903676 & 0.8336828 & 0.8517113 & 0.01864070 & 0.003332677 & 0.7907112 & 0.6014464 & 0.8167623 & 0.6885989 & 0.01624639 & k\\_\\_Bacteria; p\\_\\_Firmicutes; c\\_\\_Clostridia; o\\_\\_Clostridiales; f\\_\\_; g\\_\\_; s\\_\\_                             \\\\\n",
       "\\end{tabular}\n"
      ],
      "text/markdown": [
       "\n",
       "A data.frame: 10 × 11\n",
       "\n",
       "| <!--/--> | AMFVT_C1 &lt;dbl&gt; | AMAMPT_C1 &lt;dbl&gt; | PQBADSLP &lt;dbl&gt; | SLEEPHRS &lt;dbl&gt; | AMFVT &lt;dbl&gt; | PQPEFFCY &lt;dbl&gt; | AMAMPT &lt;dbl&gt; | AMPHIT &lt;dbl&gt; | PQPSQI &lt;dbl&gt; | SLSLPHRS &lt;dbl&gt; | Taxaname &lt;chr&gt; |\n",
       "|---|---|---|---|---|---|---|---|---|---|---|---|\n",
       "| 1 | 0.15604308 | 0.8580525 | 0.6334688 | 0.06947691 | 0.014684114 | 0.8452688 | 0.8982741 | 0.8914125 | 0.9283881 | 0.04484152 | k__Bacteria; p__Bacteroidetes; c__Bacteroidia; o__Bacteroidales; f__Bacteroidaceae; g__Bacteroides; s__ |\n",
       "| 2 | 0.05251960 | 0.4361698 | 0.5445650 | 0.08018442 | 0.002959487 | 0.3603905 | 0.4919239 | 0.9885054 | 0.7570620 | 0.04435332 | k__Bacteria; p__Firmicutes; c__Clostridia; o__Clostridiales; f__Lachnospiraceae; g__; s__               |\n",
       "| 3 | 0.01903676 | 0.8336828 | 0.8517113 | 0.01864070 | 0.003332677 | 0.7907112 | 0.6014464 | 0.8167623 | 0.6885989 | 0.01624639 | k__Bacteria; p__Firmicutes; c__Clostridia; o__Clostridiales; f__; g__; s__                              |\n",
       "| 4 | 0.10785704 | 0.7360868 | 0.8788874 | 0.05960282 | 0.020020927 | 0.6579392 | 0.8028191 | 0.9111379 | 0.6425943 | 0.03105251 | k__Bacteria; p__Firmicutes; c__Clostridia; o__Clostridiales; f__Ruminococcaceae; g__; s__               |\n",
       "| 5 | 0.09555179 | 0.8989827 | 0.6081352 | 0.05180574 | 0.010895258 | 0.3107992 | 0.7936793 | 0.7044587 | 0.8364738 | 0.02019309 | k__Bacteria; p__Firmicutes; c__Clostridia; o__Clostridiales; f__Ruminococcaceae; g__Oscillospira; s__   |\n",
       "| 6 | 0.05251960 | 0.4361698 | 0.5445650 | 0.08018442 | 0.002959487 | 0.3603905 | 0.4919239 | 0.9885054 | 0.7570620 | 0.04435332 | k__Bacteria; p__Firmicutes; c__Clostridia; o__Clostridiales; f__Lachnospiraceae; g__; s__               |\n",
       "| 7 | 0.13514555 | 0.2282580 | 0.7204384 | 0.78372787 | 0.056433662 | 0.9185095 | 0.1192413 | 0.8617801 | 0.9960689 | 0.99240060 | k__Bacteria; p__Firmicutes; c__Clostridia; o__Clostridiales; f__Clostridiaceae; g__; s__                |\n",
       "| 8 | 0.10785704 | 0.7360868 | 0.8788874 | 0.05960282 | 0.020020927 | 0.6579392 | 0.8028191 | 0.9111379 | 0.6425943 | 0.03105251 | k__Bacteria; p__Firmicutes; c__Clostridia; o__Clostridiales; f__Ruminococcaceae; g__; s__               |\n",
       "| 9 | 0.05251960 | 0.4361698 | 0.5445650 | 0.08018442 | 0.002959487 | 0.3603905 | 0.4919239 | 0.9885054 | 0.7570620 | 0.04435332 | k__Bacteria; p__Firmicutes; c__Clostridia; o__Clostridiales; f__Lachnospiraceae; g__; s__               |\n",
       "| 10 | 0.01903676 | 0.8336828 | 0.8517113 | 0.01864070 | 0.003332677 | 0.7907112 | 0.6014464 | 0.8167623 | 0.6885989 | 0.01624639 | k__Bacteria; p__Firmicutes; c__Clostridia; o__Clostridiales; f__; g__; s__                              |\n",
       "\n"
      ],
      "text/plain": [
       "   AMFVT_C1   AMAMPT_C1 PQBADSLP  SLEEPHRS   AMFVT       PQPEFFCY  AMAMPT   \n",
       "1  0.15604308 0.8580525 0.6334688 0.06947691 0.014684114 0.8452688 0.8982741\n",
       "2  0.05251960 0.4361698 0.5445650 0.08018442 0.002959487 0.3603905 0.4919239\n",
       "3  0.01903676 0.8336828 0.8517113 0.01864070 0.003332677 0.7907112 0.6014464\n",
       "4  0.10785704 0.7360868 0.8788874 0.05960282 0.020020927 0.6579392 0.8028191\n",
       "5  0.09555179 0.8989827 0.6081352 0.05180574 0.010895258 0.3107992 0.7936793\n",
       "6  0.05251960 0.4361698 0.5445650 0.08018442 0.002959487 0.3603905 0.4919239\n",
       "7  0.13514555 0.2282580 0.7204384 0.78372787 0.056433662 0.9185095 0.1192413\n",
       "8  0.10785704 0.7360868 0.8788874 0.05960282 0.020020927 0.6579392 0.8028191\n",
       "9  0.05251960 0.4361698 0.5445650 0.08018442 0.002959487 0.3603905 0.4919239\n",
       "10 0.01903676 0.8336828 0.8517113 0.01864070 0.003332677 0.7907112 0.6014464\n",
       "   AMPHIT    PQPSQI    SLSLPHRS  \n",
       "1  0.8914125 0.9283881 0.04484152\n",
       "2  0.9885054 0.7570620 0.04435332\n",
       "3  0.8167623 0.6885989 0.01624639\n",
       "4  0.9111379 0.6425943 0.03105251\n",
       "5  0.7044587 0.8364738 0.02019309\n",
       "6  0.9885054 0.7570620 0.04435332\n",
       "7  0.8617801 0.9960689 0.99240060\n",
       "8  0.9111379 0.6425943 0.03105251\n",
       "9  0.9885054 0.7570620 0.04435332\n",
       "10 0.8167623 0.6885989 0.01624639\n",
       "   Taxaname                                                                                               \n",
       "1  k__Bacteria; p__Bacteroidetes; c__Bacteroidia; o__Bacteroidales; f__Bacteroidaceae; g__Bacteroides; s__\n",
       "2  k__Bacteria; p__Firmicutes; c__Clostridia; o__Clostridiales; f__Lachnospiraceae; g__; s__              \n",
       "3  k__Bacteria; p__Firmicutes; c__Clostridia; o__Clostridiales; f__; g__; s__                             \n",
       "4  k__Bacteria; p__Firmicutes; c__Clostridia; o__Clostridiales; f__Ruminococcaceae; g__; s__              \n",
       "5  k__Bacteria; p__Firmicutes; c__Clostridia; o__Clostridiales; f__Ruminococcaceae; g__Oscillospira; s__  \n",
       "6  k__Bacteria; p__Firmicutes; c__Clostridia; o__Clostridiales; f__Lachnospiraceae; g__; s__              \n",
       "7  k__Bacteria; p__Firmicutes; c__Clostridia; o__Clostridiales; f__Clostridiaceae; g__; s__               \n",
       "8  k__Bacteria; p__Firmicutes; c__Clostridia; o__Clostridiales; f__Ruminococcaceae; g__; s__              \n",
       "9  k__Bacteria; p__Firmicutes; c__Clostridia; o__Clostridiales; f__Lachnospiraceae; g__; s__              \n",
       "10 k__Bacteria; p__Firmicutes; c__Clostridia; o__Clostridiales; f__; g__; s__                             "
      ]
     },
     "metadata": {},
     "output_type": "display_data"
    }
   ],
   "source": [
    "Fstats"
   ]
  },
  {
   "cell_type": "code",
   "execution_count": 11,
   "metadata": {},
   "outputs": [
    {
     "data": {
      "text/html": [
       "<table>\n",
       "<caption>A data.frame: 10 × 10</caption>\n",
       "<thead>\n",
       "\t<tr><th></th><th scope=col>AMFVT_C1</th><th scope=col>AMAMPT_C1</th><th scope=col>PQBADSLP</th><th scope=col>SLEEPHRS</th><th scope=col>AMFVT</th><th scope=col>PQPEFFCY</th><th scope=col>AMAMPT</th><th scope=col>AMPHIT</th><th scope=col>PQPSQI</th><th scope=col>SLSLPHRS</th></tr>\n",
       "\t<tr><th></th><th scope=col>&lt;dbl&gt;</th><th scope=col>&lt;dbl&gt;</th><th scope=col>&lt;dbl&gt;</th><th scope=col>&lt;dbl&gt;</th><th scope=col>&lt;dbl&gt;</th><th scope=col>&lt;dbl&gt;</th><th scope=col>&lt;dbl&gt;</th><th scope=col>&lt;dbl&gt;</th><th scope=col>&lt;dbl&gt;</th><th scope=col>&lt;dbl&gt;</th></tr>\n",
       "</thead>\n",
       "<tbody>\n",
       "\t<tr><th scope=row>AMFVT_C1</th><td>0.1560431</td><td>0.8989827</td><td>0.8788874</td><td>0.0890938</td><td>0.020977306</td><td>0.9185095</td><td>0.8982741</td><td>0.9885054</td><td>0.9960689</td><td>0.04982391</td></tr>\n",
       "\t<tr><th scope=row>AMAMPT_C1</th><td>0.1050392</td><td>0.8989827</td><td>0.8788874</td><td>0.0890938</td><td>0.006665354</td><td>0.9009763</td><td>0.8920212</td><td>0.9885054</td><td>0.9960689</td><td>0.04982391</td></tr>\n",
       "\t<tr><th scope=row>PQBADSLP</th><td>0.0951838</td><td>0.8989827</td><td>0.8788874</td><td>0.0890938</td><td>0.006665354</td><td>0.9185095</td><td>0.8920212</td><td>0.9885054</td><td>0.9960689</td><td>0.04982391</td></tr>\n",
       "\t<tr><th scope=row>SLEEPHRS</th><td>0.1348213</td><td>0.8989827</td><td>0.8788874</td><td>0.0890938</td><td>0.022245475</td><td>0.9185095</td><td>0.8920212</td><td>0.9885054</td><td>0.9960689</td><td>0.04982391</td></tr>\n",
       "\t<tr><th scope=row>AMFVT</th><td>0.1348213</td><td>0.8989827</td><td>0.8788874</td><td>0.0890938</td><td>0.018158763</td><td>0.9009763</td><td>0.8920212</td><td>0.9885054</td><td>0.9960689</td><td>0.04982391</td></tr>\n",
       "\t<tr><th scope=row>PQPEFFCY</th><td>0.1050392</td><td>0.8989827</td><td>0.8788874</td><td>0.0890938</td><td>0.006665354</td><td>0.9009763</td><td>0.8920212</td><td>0.9885054</td><td>0.9960689</td><td>0.04982391</td></tr>\n",
       "\t<tr><th scope=row>AMAMPT</th><td>0.1501617</td><td>0.8989827</td><td>0.8788874</td><td>0.7837279</td><td>0.056433662</td><td>0.9185095</td><td>0.8920212</td><td>0.9885054</td><td>0.9960689</td><td>0.99240060</td></tr>\n",
       "\t<tr><th scope=row>AMPHIT</th><td>0.1348213</td><td>0.8989827</td><td>0.8788874</td><td>0.0890938</td><td>0.022245475</td><td>0.9185095</td><td>0.8920212</td><td>0.9885054</td><td>0.9960689</td><td>0.04982391</td></tr>\n",
       "\t<tr><th scope=row>PQPSQI</th><td>0.1050392</td><td>0.8989827</td><td>0.8788874</td><td>0.0890938</td><td>0.006665354</td><td>0.9009763</td><td>0.8920212</td><td>0.9885054</td><td>0.9960689</td><td>0.04982391</td></tr>\n",
       "\t<tr><th scope=row>SLSLPHRS</th><td>0.0951838</td><td>0.8989827</td><td>0.8788874</td><td>0.0890938</td><td>0.006665354</td><td>0.9185095</td><td>0.8920212</td><td>0.9885054</td><td>0.9960689</td><td>0.04982391</td></tr>\n",
       "</tbody>\n",
       "</table>\n"
      ],
      "text/latex": [
       "A data.frame: 10 × 10\n",
       "\\begin{tabular}{r|llllllllll}\n",
       "  & AMFVT\\_C1 & AMAMPT\\_C1 & PQBADSLP & SLEEPHRS & AMFVT & PQPEFFCY & AMAMPT & AMPHIT & PQPSQI & SLSLPHRS\\\\\n",
       "  & <dbl> & <dbl> & <dbl> & <dbl> & <dbl> & <dbl> & <dbl> & <dbl> & <dbl> & <dbl>\\\\\n",
       "\\hline\n",
       "\tAMFVT\\_C1 & 0.1560431 & 0.8989827 & 0.8788874 & 0.0890938 & 0.020977306 & 0.9185095 & 0.8982741 & 0.9885054 & 0.9960689 & 0.04982391\\\\\n",
       "\tAMAMPT\\_C1 & 0.1050392 & 0.8989827 & 0.8788874 & 0.0890938 & 0.006665354 & 0.9009763 & 0.8920212 & 0.9885054 & 0.9960689 & 0.04982391\\\\\n",
       "\tPQBADSLP & 0.0951838 & 0.8989827 & 0.8788874 & 0.0890938 & 0.006665354 & 0.9185095 & 0.8920212 & 0.9885054 & 0.9960689 & 0.04982391\\\\\n",
       "\tSLEEPHRS & 0.1348213 & 0.8989827 & 0.8788874 & 0.0890938 & 0.022245475 & 0.9185095 & 0.8920212 & 0.9885054 & 0.9960689 & 0.04982391\\\\\n",
       "\tAMFVT & 0.1348213 & 0.8989827 & 0.8788874 & 0.0890938 & 0.018158763 & 0.9009763 & 0.8920212 & 0.9885054 & 0.9960689 & 0.04982391\\\\\n",
       "\tPQPEFFCY & 0.1050392 & 0.8989827 & 0.8788874 & 0.0890938 & 0.006665354 & 0.9009763 & 0.8920212 & 0.9885054 & 0.9960689 & 0.04982391\\\\\n",
       "\tAMAMPT & 0.1501617 & 0.8989827 & 0.8788874 & 0.7837279 & 0.056433662 & 0.9185095 & 0.8920212 & 0.9885054 & 0.9960689 & 0.99240060\\\\\n",
       "\tAMPHIT & 0.1348213 & 0.8989827 & 0.8788874 & 0.0890938 & 0.022245475 & 0.9185095 & 0.8920212 & 0.9885054 & 0.9960689 & 0.04982391\\\\\n",
       "\tPQPSQI & 0.1050392 & 0.8989827 & 0.8788874 & 0.0890938 & 0.006665354 & 0.9009763 & 0.8920212 & 0.9885054 & 0.9960689 & 0.04982391\\\\\n",
       "\tSLSLPHRS & 0.0951838 & 0.8989827 & 0.8788874 & 0.0890938 & 0.006665354 & 0.9185095 & 0.8920212 & 0.9885054 & 0.9960689 & 0.04982391\\\\\n",
       "\\end{tabular}\n"
      ],
      "text/markdown": [
       "\n",
       "A data.frame: 10 × 10\n",
       "\n",
       "| <!--/--> | AMFVT_C1 &lt;dbl&gt; | AMAMPT_C1 &lt;dbl&gt; | PQBADSLP &lt;dbl&gt; | SLEEPHRS &lt;dbl&gt; | AMFVT &lt;dbl&gt; | PQPEFFCY &lt;dbl&gt; | AMAMPT &lt;dbl&gt; | AMPHIT &lt;dbl&gt; | PQPSQI &lt;dbl&gt; | SLSLPHRS &lt;dbl&gt; |\n",
       "|---|---|---|---|---|---|---|---|---|---|---|\n",
       "| AMFVT_C1 | 0.1560431 | 0.8989827 | 0.8788874 | 0.0890938 | 0.020977306 | 0.9185095 | 0.8982741 | 0.9885054 | 0.9960689 | 0.04982391 |\n",
       "| AMAMPT_C1 | 0.1050392 | 0.8989827 | 0.8788874 | 0.0890938 | 0.006665354 | 0.9009763 | 0.8920212 | 0.9885054 | 0.9960689 | 0.04982391 |\n",
       "| PQBADSLP | 0.0951838 | 0.8989827 | 0.8788874 | 0.0890938 | 0.006665354 | 0.9185095 | 0.8920212 | 0.9885054 | 0.9960689 | 0.04982391 |\n",
       "| SLEEPHRS | 0.1348213 | 0.8989827 | 0.8788874 | 0.0890938 | 0.022245475 | 0.9185095 | 0.8920212 | 0.9885054 | 0.9960689 | 0.04982391 |\n",
       "| AMFVT | 0.1348213 | 0.8989827 | 0.8788874 | 0.0890938 | 0.018158763 | 0.9009763 | 0.8920212 | 0.9885054 | 0.9960689 | 0.04982391 |\n",
       "| PQPEFFCY | 0.1050392 | 0.8989827 | 0.8788874 | 0.0890938 | 0.006665354 | 0.9009763 | 0.8920212 | 0.9885054 | 0.9960689 | 0.04982391 |\n",
       "| AMAMPT | 0.1501617 | 0.8989827 | 0.8788874 | 0.7837279 | 0.056433662 | 0.9185095 | 0.8920212 | 0.9885054 | 0.9960689 | 0.99240060 |\n",
       "| AMPHIT | 0.1348213 | 0.8989827 | 0.8788874 | 0.0890938 | 0.022245475 | 0.9185095 | 0.8920212 | 0.9885054 | 0.9960689 | 0.04982391 |\n",
       "| PQPSQI | 0.1050392 | 0.8989827 | 0.8788874 | 0.0890938 | 0.006665354 | 0.9009763 | 0.8920212 | 0.9885054 | 0.9960689 | 0.04982391 |\n",
       "| SLSLPHRS | 0.0951838 | 0.8989827 | 0.8788874 | 0.0890938 | 0.006665354 | 0.9185095 | 0.8920212 | 0.9885054 | 0.9960689 | 0.04982391 |\n",
       "\n"
      ],
      "text/plain": [
       "          AMFVT_C1  AMAMPT_C1 PQBADSLP  SLEEPHRS  AMFVT       PQPEFFCY \n",
       "AMFVT_C1  0.1560431 0.8989827 0.8788874 0.0890938 0.020977306 0.9185095\n",
       "AMAMPT_C1 0.1050392 0.8989827 0.8788874 0.0890938 0.006665354 0.9009763\n",
       "PQBADSLP  0.0951838 0.8989827 0.8788874 0.0890938 0.006665354 0.9185095\n",
       "SLEEPHRS  0.1348213 0.8989827 0.8788874 0.0890938 0.022245475 0.9185095\n",
       "AMFVT     0.1348213 0.8989827 0.8788874 0.0890938 0.018158763 0.9009763\n",
       "PQPEFFCY  0.1050392 0.8989827 0.8788874 0.0890938 0.006665354 0.9009763\n",
       "AMAMPT    0.1501617 0.8989827 0.8788874 0.7837279 0.056433662 0.9185095\n",
       "AMPHIT    0.1348213 0.8989827 0.8788874 0.0890938 0.022245475 0.9185095\n",
       "PQPSQI    0.1050392 0.8989827 0.8788874 0.0890938 0.006665354 0.9009763\n",
       "SLSLPHRS  0.0951838 0.8989827 0.8788874 0.0890938 0.006665354 0.9185095\n",
       "          AMAMPT    AMPHIT    PQPSQI    SLSLPHRS  \n",
       "AMFVT_C1  0.8982741 0.9885054 0.9960689 0.04982391\n",
       "AMAMPT_C1 0.8920212 0.9885054 0.9960689 0.04982391\n",
       "PQBADSLP  0.8920212 0.9885054 0.9960689 0.04982391\n",
       "SLEEPHRS  0.8920212 0.9885054 0.9960689 0.04982391\n",
       "AMFVT     0.8920212 0.9885054 0.9960689 0.04982391\n",
       "PQPEFFCY  0.8920212 0.9885054 0.9960689 0.04982391\n",
       "AMAMPT    0.8920212 0.9885054 0.9960689 0.99240060\n",
       "AMPHIT    0.8920212 0.9885054 0.9960689 0.04982391\n",
       "PQPSQI    0.8920212 0.9885054 0.9960689 0.04982391\n",
       "SLSLPHRS  0.8920212 0.9885054 0.9960689 0.04982391"
      ]
     },
     "metadata": {},
     "output_type": "display_data"
    }
   ],
   "source": [
    "Fstats.adjust <- sapply(1:10, function(i){\n",
    "  p.adjust(Fstats[,i], \"BH\")\n",
    "})\n",
    "colnames(Fstats.adjust) <- colnames(Fstats)[1:10]\n",
    "as.data.frame(Fstats.adjust, colnames(Fstats.adjust))"
   ]
  },
  {
   "cell_type": "code",
   "execution_count": 12,
   "metadata": {},
   "outputs": [
    {
     "data": {
      "text/html": [
       "<table>\n",
       "<caption>A data.frame: 10 × 11</caption>\n",
       "<thead>\n",
       "\t<tr><th></th><th scope=col>AMFVT_C1</th><th scope=col>AMAMPT_C1</th><th scope=col>PQBADSLP</th><th scope=col>SLEEPHRS</th><th scope=col>AMFVT</th><th scope=col>PQPEFFCY</th><th scope=col>AMAMPT</th><th scope=col>AMPHIT</th><th scope=col>PQPSQI</th><th scope=col>SLSLPHRS</th><th scope=col>Taxaname</th></tr>\n",
       "\t<tr><th></th><th scope=col>&lt;dbl&gt;</th><th scope=col>&lt;dbl&gt;</th><th scope=col>&lt;dbl&gt;</th><th scope=col>&lt;dbl&gt;</th><th scope=col>&lt;dbl&gt;</th><th scope=col>&lt;dbl&gt;</th><th scope=col>&lt;dbl&gt;</th><th scope=col>&lt;dbl&gt;</th><th scope=col>&lt;dbl&gt;</th><th scope=col>&lt;dbl&gt;</th><th scope=col>&lt;chr&gt;</th></tr>\n",
       "</thead>\n",
       "<tbody>\n",
       "\t<tr><th scope=row>1</th><td>0.23525953</td><td>0.2898627</td><td>0.9417472</td><td>0.125193480</td><td>0.083679047</td><td>0.5858704</td><td>0.7280202</td><td>0.9786228</td><td>0.6905813</td><td>0.111767884</td><td>k__Bacteria; p__Proteobacteria; c__Gammaproteobacteria; o__Enterobacteriales; f__Enterobacteriaceae; g__; s__            </td></tr>\n",
       "\t<tr><th scope=row>2</th><td>0.01903676</td><td>0.8336828</td><td>0.8517113</td><td>0.018640699</td><td>0.003332677</td><td>0.7907112</td><td>0.6014464</td><td>0.8167623</td><td>0.6885989</td><td>0.016246389</td><td>k__Bacteria; p__Firmicutes; c__Clostridia; o__Clostridiales; f__; g__; s__                                               </td></tr>\n",
       "\t<tr><th scope=row>3</th><td>0.01903676</td><td>0.8336828</td><td>0.8517113</td><td>0.018640699</td><td>0.003332677</td><td>0.7907112</td><td>0.6014464</td><td>0.8167623</td><td>0.6885989</td><td>0.016246389</td><td>k__Bacteria; p__Firmicutes; c__Clostridia; o__Clostridiales; f__; g__; s__                                               </td></tr>\n",
       "\t<tr><th scope=row>4</th><td>0.09555179</td><td>0.8989827</td><td>0.6081352</td><td>0.051805738</td><td>0.010895258</td><td>0.3107992</td><td>0.7936793</td><td>0.7044587</td><td>0.8364738</td><td>0.020193086</td><td>k__Bacteria; p__Firmicutes; c__Clostridia; o__Clostridiales; f__Ruminococcaceae; g__Oscillospira; s__                    </td></tr>\n",
       "\t<tr><th scope=row>5</th><td>0.16508503</td><td>0.7609187</td><td>0.4711253</td><td>0.231456895</td><td>0.631858913</td><td>0.8220727</td><td>0.2593583</td><td>0.9843608</td><td>0.6445201</td><td>0.156210510</td><td>k__Bacteria; p__Cyanobacteria; c__4C0d-2; o__YS2; f__; g__; s__                                                          </td></tr>\n",
       "\t<tr><th scope=row>6</th><td>0.05539343</td><td>0.5471754</td><td>0.9185644</td><td>0.044709460</td><td>0.003138581</td><td>0.9833254</td><td>0.3888270</td><td>0.9248352</td><td>0.6707833</td><td>0.024177213</td><td>k__Bacteria; p__Firmicutes; c__Clostridia; o__Clostridiales; f__Lachnospiraceae; g__Blautia; s__                         </td></tr>\n",
       "\t<tr><th scope=row>7</th><td>0.28053563</td><td>0.8588206</td><td>0.9004064</td><td>0.033427794</td><td>0.065843988</td><td>0.8615769</td><td>0.7717036</td><td>0.5607646</td><td>0.8231976</td><td>0.017617605</td><td>k__Bacteria; p__Bacteroidetes; c__Bacteroidia; o__Bacteroidales; f__Porphyromonadaceae; g__Parabacteroides; s__          </td></tr>\n",
       "\t<tr><th scope=row>8</th><td>0.59670078</td><td>0.5465181</td><td>0.7179646</td><td>0.267182812</td><td>0.149698541</td><td>0.6611553</td><td>0.5682282</td><td>0.3815191</td><td>0.6895359</td><td>0.166780708</td><td>k__Bacteria; p__Firmicutes; c__Clostridia; o__Clostridiales; f__Peptococcaceae; g__rc4-4; s__                            </td></tr>\n",
       "\t<tr><th scope=row>9</th><td>0.13559971</td><td>0.6738595</td><td>0.6638277</td><td>0.009388931</td><td>0.045889376</td><td>0.7424820</td><td>0.6492113</td><td>0.4789427</td><td>0.7894544</td><td>0.008450938</td><td>k__Bacteria; p__Bacteroidetes; c__Bacteroidia; o__Bacteroidales; f__Porphyromonadaceae; g__Parabacteroides; s__distasonis</td></tr>\n",
       "\t<tr><th scope=row>10</th><td>0.05251960</td><td>0.4361698</td><td>0.5445650</td><td>0.080184424</td><td>0.002959487</td><td>0.3603905</td><td>0.4919239</td><td>0.9885054</td><td>0.7570620</td><td>0.044353322</td><td>k__Bacteria; p__Firmicutes; c__Clostridia; o__Clostridiales; f__Lachnospiraceae; g__; s__                                </td></tr>\n",
       "</tbody>\n",
       "</table>\n"
      ],
      "text/latex": [
       "A data.frame: 10 × 11\n",
       "\\begin{tabular}{r|lllllllllll}\n",
       "  & AMFVT\\_C1 & AMAMPT\\_C1 & PQBADSLP & SLEEPHRS & AMFVT & PQPEFFCY & AMAMPT & AMPHIT & PQPSQI & SLSLPHRS & Taxaname\\\\\n",
       "  & <dbl> & <dbl> & <dbl> & <dbl> & <dbl> & <dbl> & <dbl> & <dbl> & <dbl> & <dbl> & <chr>\\\\\n",
       "\\hline\n",
       "\t1 & 0.23525953 & 0.2898627 & 0.9417472 & 0.125193480 & 0.083679047 & 0.5858704 & 0.7280202 & 0.9786228 & 0.6905813 & 0.111767884 & k\\_\\_Bacteria; p\\_\\_Proteobacteria; c\\_\\_Gammaproteobacteria; o\\_\\_Enterobacteriales; f\\_\\_Enterobacteriaceae; g\\_\\_; s\\_\\_            \\\\\n",
       "\t2 & 0.01903676 & 0.8336828 & 0.8517113 & 0.018640699 & 0.003332677 & 0.7907112 & 0.6014464 & 0.8167623 & 0.6885989 & 0.016246389 & k\\_\\_Bacteria; p\\_\\_Firmicutes; c\\_\\_Clostridia; o\\_\\_Clostridiales; f\\_\\_; g\\_\\_; s\\_\\_                                               \\\\\n",
       "\t3 & 0.01903676 & 0.8336828 & 0.8517113 & 0.018640699 & 0.003332677 & 0.7907112 & 0.6014464 & 0.8167623 & 0.6885989 & 0.016246389 & k\\_\\_Bacteria; p\\_\\_Firmicutes; c\\_\\_Clostridia; o\\_\\_Clostridiales; f\\_\\_; g\\_\\_; s\\_\\_                                               \\\\\n",
       "\t4 & 0.09555179 & 0.8989827 & 0.6081352 & 0.051805738 & 0.010895258 & 0.3107992 & 0.7936793 & 0.7044587 & 0.8364738 & 0.020193086 & k\\_\\_Bacteria; p\\_\\_Firmicutes; c\\_\\_Clostridia; o\\_\\_Clostridiales; f\\_\\_Ruminococcaceae; g\\_\\_Oscillospira; s\\_\\_                    \\\\\n",
       "\t5 & 0.16508503 & 0.7609187 & 0.4711253 & 0.231456895 & 0.631858913 & 0.8220727 & 0.2593583 & 0.9843608 & 0.6445201 & 0.156210510 & k\\_\\_Bacteria; p\\_\\_Cyanobacteria; c\\_\\_4C0d-2; o\\_\\_YS2; f\\_\\_; g\\_\\_; s\\_\\_                                                          \\\\\n",
       "\t6 & 0.05539343 & 0.5471754 & 0.9185644 & 0.044709460 & 0.003138581 & 0.9833254 & 0.3888270 & 0.9248352 & 0.6707833 & 0.024177213 & k\\_\\_Bacteria; p\\_\\_Firmicutes; c\\_\\_Clostridia; o\\_\\_Clostridiales; f\\_\\_Lachnospiraceae; g\\_\\_Blautia; s\\_\\_                         \\\\\n",
       "\t7 & 0.28053563 & 0.8588206 & 0.9004064 & 0.033427794 & 0.065843988 & 0.8615769 & 0.7717036 & 0.5607646 & 0.8231976 & 0.017617605 & k\\_\\_Bacteria; p\\_\\_Bacteroidetes; c\\_\\_Bacteroidia; o\\_\\_Bacteroidales; f\\_\\_Porphyromonadaceae; g\\_\\_Parabacteroides; s\\_\\_          \\\\\n",
       "\t8 & 0.59670078 & 0.5465181 & 0.7179646 & 0.267182812 & 0.149698541 & 0.6611553 & 0.5682282 & 0.3815191 & 0.6895359 & 0.166780708 & k\\_\\_Bacteria; p\\_\\_Firmicutes; c\\_\\_Clostridia; o\\_\\_Clostridiales; f\\_\\_Peptococcaceae; g\\_\\_rc4-4; s\\_\\_                            \\\\\n",
       "\t9 & 0.13559971 & 0.6738595 & 0.6638277 & 0.009388931 & 0.045889376 & 0.7424820 & 0.6492113 & 0.4789427 & 0.7894544 & 0.008450938 & k\\_\\_Bacteria; p\\_\\_Bacteroidetes; c\\_\\_Bacteroidia; o\\_\\_Bacteroidales; f\\_\\_Porphyromonadaceae; g\\_\\_Parabacteroides; s\\_\\_distasonis\\\\\n",
       "\t10 & 0.05251960 & 0.4361698 & 0.5445650 & 0.080184424 & 0.002959487 & 0.3603905 & 0.4919239 & 0.9885054 & 0.7570620 & 0.044353322 & k\\_\\_Bacteria; p\\_\\_Firmicutes; c\\_\\_Clostridia; o\\_\\_Clostridiales; f\\_\\_Lachnospiraceae; g\\_\\_; s\\_\\_                                \\\\\n",
       "\\end{tabular}\n"
      ],
      "text/markdown": [
       "\n",
       "A data.frame: 10 × 11\n",
       "\n",
       "| <!--/--> | AMFVT_C1 &lt;dbl&gt; | AMAMPT_C1 &lt;dbl&gt; | PQBADSLP &lt;dbl&gt; | SLEEPHRS &lt;dbl&gt; | AMFVT &lt;dbl&gt; | PQPEFFCY &lt;dbl&gt; | AMAMPT &lt;dbl&gt; | AMPHIT &lt;dbl&gt; | PQPSQI &lt;dbl&gt; | SLSLPHRS &lt;dbl&gt; | Taxaname &lt;chr&gt; |\n",
       "|---|---|---|---|---|---|---|---|---|---|---|---|\n",
       "| 1 | 0.23525953 | 0.2898627 | 0.9417472 | 0.125193480 | 0.083679047 | 0.5858704 | 0.7280202 | 0.9786228 | 0.6905813 | 0.111767884 | k__Bacteria; p__Proteobacteria; c__Gammaproteobacteria; o__Enterobacteriales; f__Enterobacteriaceae; g__; s__             |\n",
       "| 2 | 0.01903676 | 0.8336828 | 0.8517113 | 0.018640699 | 0.003332677 | 0.7907112 | 0.6014464 | 0.8167623 | 0.6885989 | 0.016246389 | k__Bacteria; p__Firmicutes; c__Clostridia; o__Clostridiales; f__; g__; s__                                                |\n",
       "| 3 | 0.01903676 | 0.8336828 | 0.8517113 | 0.018640699 | 0.003332677 | 0.7907112 | 0.6014464 | 0.8167623 | 0.6885989 | 0.016246389 | k__Bacteria; p__Firmicutes; c__Clostridia; o__Clostridiales; f__; g__; s__                                                |\n",
       "| 4 | 0.09555179 | 0.8989827 | 0.6081352 | 0.051805738 | 0.010895258 | 0.3107992 | 0.7936793 | 0.7044587 | 0.8364738 | 0.020193086 | k__Bacteria; p__Firmicutes; c__Clostridia; o__Clostridiales; f__Ruminococcaceae; g__Oscillospira; s__                     |\n",
       "| 5 | 0.16508503 | 0.7609187 | 0.4711253 | 0.231456895 | 0.631858913 | 0.8220727 | 0.2593583 | 0.9843608 | 0.6445201 | 0.156210510 | k__Bacteria; p__Cyanobacteria; c__4C0d-2; o__YS2; f__; g__; s__                                                           |\n",
       "| 6 | 0.05539343 | 0.5471754 | 0.9185644 | 0.044709460 | 0.003138581 | 0.9833254 | 0.3888270 | 0.9248352 | 0.6707833 | 0.024177213 | k__Bacteria; p__Firmicutes; c__Clostridia; o__Clostridiales; f__Lachnospiraceae; g__Blautia; s__                          |\n",
       "| 7 | 0.28053563 | 0.8588206 | 0.9004064 | 0.033427794 | 0.065843988 | 0.8615769 | 0.7717036 | 0.5607646 | 0.8231976 | 0.017617605 | k__Bacteria; p__Bacteroidetes; c__Bacteroidia; o__Bacteroidales; f__Porphyromonadaceae; g__Parabacteroides; s__           |\n",
       "| 8 | 0.59670078 | 0.5465181 | 0.7179646 | 0.267182812 | 0.149698541 | 0.6611553 | 0.5682282 | 0.3815191 | 0.6895359 | 0.166780708 | k__Bacteria; p__Firmicutes; c__Clostridia; o__Clostridiales; f__Peptococcaceae; g__rc4-4; s__                             |\n",
       "| 9 | 0.13559971 | 0.6738595 | 0.6638277 | 0.009388931 | 0.045889376 | 0.7424820 | 0.6492113 | 0.4789427 | 0.7894544 | 0.008450938 | k__Bacteria; p__Bacteroidetes; c__Bacteroidia; o__Bacteroidales; f__Porphyromonadaceae; g__Parabacteroides; s__distasonis |\n",
       "| 10 | 0.05251960 | 0.4361698 | 0.5445650 | 0.080184424 | 0.002959487 | 0.3603905 | 0.4919239 | 0.9885054 | 0.7570620 | 0.044353322 | k__Bacteria; p__Firmicutes; c__Clostridia; o__Clostridiales; f__Lachnospiraceae; g__; s__                                 |\n",
       "\n"
      ],
      "text/plain": [
       "   AMFVT_C1   AMAMPT_C1 PQBADSLP  SLEEPHRS    AMFVT       PQPEFFCY  AMAMPT   \n",
       "1  0.23525953 0.2898627 0.9417472 0.125193480 0.083679047 0.5858704 0.7280202\n",
       "2  0.01903676 0.8336828 0.8517113 0.018640699 0.003332677 0.7907112 0.6014464\n",
       "3  0.01903676 0.8336828 0.8517113 0.018640699 0.003332677 0.7907112 0.6014464\n",
       "4  0.09555179 0.8989827 0.6081352 0.051805738 0.010895258 0.3107992 0.7936793\n",
       "5  0.16508503 0.7609187 0.4711253 0.231456895 0.631858913 0.8220727 0.2593583\n",
       "6  0.05539343 0.5471754 0.9185644 0.044709460 0.003138581 0.9833254 0.3888270\n",
       "7  0.28053563 0.8588206 0.9004064 0.033427794 0.065843988 0.8615769 0.7717036\n",
       "8  0.59670078 0.5465181 0.7179646 0.267182812 0.149698541 0.6611553 0.5682282\n",
       "9  0.13559971 0.6738595 0.6638277 0.009388931 0.045889376 0.7424820 0.6492113\n",
       "10 0.05251960 0.4361698 0.5445650 0.080184424 0.002959487 0.3603905 0.4919239\n",
       "   AMPHIT    PQPSQI    SLSLPHRS   \n",
       "1  0.9786228 0.6905813 0.111767884\n",
       "2  0.8167623 0.6885989 0.016246389\n",
       "3  0.8167623 0.6885989 0.016246389\n",
       "4  0.7044587 0.8364738 0.020193086\n",
       "5  0.9843608 0.6445201 0.156210510\n",
       "6  0.9248352 0.6707833 0.024177213\n",
       "7  0.5607646 0.8231976 0.017617605\n",
       "8  0.3815191 0.6895359 0.166780708\n",
       "9  0.4789427 0.7894544 0.008450938\n",
       "10 0.9885054 0.7570620 0.044353322\n",
       "   Taxaname                                                                                                                 \n",
       "1  k__Bacteria; p__Proteobacteria; c__Gammaproteobacteria; o__Enterobacteriales; f__Enterobacteriaceae; g__; s__            \n",
       "2  k__Bacteria; p__Firmicutes; c__Clostridia; o__Clostridiales; f__; g__; s__                                               \n",
       "3  k__Bacteria; p__Firmicutes; c__Clostridia; o__Clostridiales; f__; g__; s__                                               \n",
       "4  k__Bacteria; p__Firmicutes; c__Clostridia; o__Clostridiales; f__Ruminococcaceae; g__Oscillospira; s__                    \n",
       "5  k__Bacteria; p__Cyanobacteria; c__4C0d-2; o__YS2; f__; g__; s__                                                          \n",
       "6  k__Bacteria; p__Firmicutes; c__Clostridia; o__Clostridiales; f__Lachnospiraceae; g__Blautia; s__                         \n",
       "7  k__Bacteria; p__Bacteroidetes; c__Bacteroidia; o__Bacteroidales; f__Porphyromonadaceae; g__Parabacteroides; s__          \n",
       "8  k__Bacteria; p__Firmicutes; c__Clostridia; o__Clostridiales; f__Peptococcaceae; g__rc4-4; s__                            \n",
       "9  k__Bacteria; p__Bacteroidetes; c__Bacteroidia; o__Bacteroidales; f__Porphyromonadaceae; g__Parabacteroides; s__distasonis\n",
       "10 k__Bacteria; p__Firmicutes; c__Clostridia; o__Clostridiales; f__Lachnospiraceae; g__; s__                                "
      ]
     },
     "metadata": {},
     "output_type": "display_data"
    }
   ],
   "source": [
    "Fstats_cat"
   ]
  },
  {
   "cell_type": "code",
   "execution_count": 13,
   "metadata": {},
   "outputs": [
    {
     "data": {
      "text/html": [
       "<table>\n",
       "<caption>A data.frame: 10 × 10</caption>\n",
       "<thead>\n",
       "\t<tr><th></th><th scope=col>AMFVT_C1</th><th scope=col>AMAMPT_C1</th><th scope=col>PQBADSLP</th><th scope=col>SLEEPHRS</th><th scope=col>AMFVT</th><th scope=col>PQPEFFCY</th><th scope=col>AMAMPT</th><th scope=col>AMPHIT</th><th scope=col>PQPSQI</th><th scope=col>SLSLPHRS</th></tr>\n",
       "\t<tr><th></th><th scope=col>&lt;dbl&gt;</th><th scope=col>&lt;dbl&gt;</th><th scope=col>&lt;dbl&gt;</th><th scope=col>&lt;dbl&gt;</th><th scope=col>&lt;dbl&gt;</th><th scope=col>&lt;dbl&gt;</th><th scope=col>&lt;dbl&gt;</th><th scope=col>&lt;dbl&gt;</th><th scope=col>&lt;dbl&gt;</th><th scope=col>&lt;dbl&gt;</th></tr>\n",
       "</thead>\n",
       "<tbody>\n",
       "\t<tr><th scope=row>AMFVT_C1</th><td>0.2940744</td><td>0.8989827</td><td>0.9417472</td><td>0.15649185</td><td>0.104598809</td><td>0.9573076</td><td>0.7936793</td><td>0.9885054</td><td>0.8364738</td><td>0.13970986</td></tr>\n",
       "\t<tr><th scope=row>AMAMPT_C1</th><td>0.0951838</td><td>0.8989827</td><td>0.9417472</td><td>0.06213566</td><td>0.008331693</td><td>0.9573076</td><td>0.7936793</td><td>0.9885054</td><td>0.8364738</td><td>0.04029535</td></tr>\n",
       "\t<tr><th scope=row>PQBADSLP</th><td>0.0951838</td><td>0.8989827</td><td>0.9417472</td><td>0.06213566</td><td>0.008331693</td><td>0.9573076</td><td>0.7936793</td><td>0.9885054</td><td>0.8364738</td><td>0.04029535</td></tr>\n",
       "\t<tr><th scope=row>SLEEPHRS</th><td>0.1911036</td><td>0.8989827</td><td>0.9417472</td><td>0.08634290</td><td>0.021790516</td><td>0.9573076</td><td>0.7936793</td><td>0.9885054</td><td>0.8364738</td><td>0.04029535</td></tr>\n",
       "\t<tr><th scope=row>AMFVT</th><td>0.2358358</td><td>0.8989827</td><td>0.9417472</td><td>0.25717433</td><td>0.631858913</td><td>0.9573076</td><td>0.7936793</td><td>0.9885054</td><td>0.8364738</td><td>0.16678071</td></tr>\n",
       "\t<tr><th scope=row>PQPEFFCY</th><td>0.1384836</td><td>0.8989827</td><td>0.9417472</td><td>0.08634290</td><td>0.008331693</td><td>0.9833254</td><td>0.7936793</td><td>0.9885054</td><td>0.8364738</td><td>0.04029535</td></tr>\n",
       "\t<tr><th scope=row>AMAMPT</th><td>0.3117063</td><td>0.8989827</td><td>0.9417472</td><td>0.08356949</td><td>0.094062841</td><td>0.9573076</td><td>0.7936793</td><td>0.9885054</td><td>0.8364738</td><td>0.04029535</td></tr>\n",
       "\t<tr><th scope=row>AMPHIT</th><td>0.5967008</td><td>0.8989827</td><td>0.9417472</td><td>0.26718281</td><td>0.166331713</td><td>0.9573076</td><td>0.7936793</td><td>0.9885054</td><td>0.8364738</td><td>0.16678071</td></tr>\n",
       "\t<tr><th scope=row>PQPSQI</th><td>0.2259995</td><td>0.8989827</td><td>0.9417472</td><td>0.06213566</td><td>0.076482293</td><td>0.9573076</td><td>0.7936793</td><td>0.9885054</td><td>0.8364738</td><td>0.04029535</td></tr>\n",
       "\t<tr><th scope=row>SLSLPHRS</th><td>0.1384836</td><td>0.8989827</td><td>0.9417472</td><td>0.11454918</td><td>0.008331693</td><td>0.9573076</td><td>0.7936793</td><td>0.9885054</td><td>0.8364738</td><td>0.06336189</td></tr>\n",
       "</tbody>\n",
       "</table>\n"
      ],
      "text/latex": [
       "A data.frame: 10 × 10\n",
       "\\begin{tabular}{r|llllllllll}\n",
       "  & AMFVT\\_C1 & AMAMPT\\_C1 & PQBADSLP & SLEEPHRS & AMFVT & PQPEFFCY & AMAMPT & AMPHIT & PQPSQI & SLSLPHRS\\\\\n",
       "  & <dbl> & <dbl> & <dbl> & <dbl> & <dbl> & <dbl> & <dbl> & <dbl> & <dbl> & <dbl>\\\\\n",
       "\\hline\n",
       "\tAMFVT\\_C1 & 0.2940744 & 0.8989827 & 0.9417472 & 0.15649185 & 0.104598809 & 0.9573076 & 0.7936793 & 0.9885054 & 0.8364738 & 0.13970986\\\\\n",
       "\tAMAMPT\\_C1 & 0.0951838 & 0.8989827 & 0.9417472 & 0.06213566 & 0.008331693 & 0.9573076 & 0.7936793 & 0.9885054 & 0.8364738 & 0.04029535\\\\\n",
       "\tPQBADSLP & 0.0951838 & 0.8989827 & 0.9417472 & 0.06213566 & 0.008331693 & 0.9573076 & 0.7936793 & 0.9885054 & 0.8364738 & 0.04029535\\\\\n",
       "\tSLEEPHRS & 0.1911036 & 0.8989827 & 0.9417472 & 0.08634290 & 0.021790516 & 0.9573076 & 0.7936793 & 0.9885054 & 0.8364738 & 0.04029535\\\\\n",
       "\tAMFVT & 0.2358358 & 0.8989827 & 0.9417472 & 0.25717433 & 0.631858913 & 0.9573076 & 0.7936793 & 0.9885054 & 0.8364738 & 0.16678071\\\\\n",
       "\tPQPEFFCY & 0.1384836 & 0.8989827 & 0.9417472 & 0.08634290 & 0.008331693 & 0.9833254 & 0.7936793 & 0.9885054 & 0.8364738 & 0.04029535\\\\\n",
       "\tAMAMPT & 0.3117063 & 0.8989827 & 0.9417472 & 0.08356949 & 0.094062841 & 0.9573076 & 0.7936793 & 0.9885054 & 0.8364738 & 0.04029535\\\\\n",
       "\tAMPHIT & 0.5967008 & 0.8989827 & 0.9417472 & 0.26718281 & 0.166331713 & 0.9573076 & 0.7936793 & 0.9885054 & 0.8364738 & 0.16678071\\\\\n",
       "\tPQPSQI & 0.2259995 & 0.8989827 & 0.9417472 & 0.06213566 & 0.076482293 & 0.9573076 & 0.7936793 & 0.9885054 & 0.8364738 & 0.04029535\\\\\n",
       "\tSLSLPHRS & 0.1384836 & 0.8989827 & 0.9417472 & 0.11454918 & 0.008331693 & 0.9573076 & 0.7936793 & 0.9885054 & 0.8364738 & 0.06336189\\\\\n",
       "\\end{tabular}\n"
      ],
      "text/markdown": [
       "\n",
       "A data.frame: 10 × 10\n",
       "\n",
       "| <!--/--> | AMFVT_C1 &lt;dbl&gt; | AMAMPT_C1 &lt;dbl&gt; | PQBADSLP &lt;dbl&gt; | SLEEPHRS &lt;dbl&gt; | AMFVT &lt;dbl&gt; | PQPEFFCY &lt;dbl&gt; | AMAMPT &lt;dbl&gt; | AMPHIT &lt;dbl&gt; | PQPSQI &lt;dbl&gt; | SLSLPHRS &lt;dbl&gt; |\n",
       "|---|---|---|---|---|---|---|---|---|---|---|\n",
       "| AMFVT_C1 | 0.2940744 | 0.8989827 | 0.9417472 | 0.15649185 | 0.104598809 | 0.9573076 | 0.7936793 | 0.9885054 | 0.8364738 | 0.13970986 |\n",
       "| AMAMPT_C1 | 0.0951838 | 0.8989827 | 0.9417472 | 0.06213566 | 0.008331693 | 0.9573076 | 0.7936793 | 0.9885054 | 0.8364738 | 0.04029535 |\n",
       "| PQBADSLP | 0.0951838 | 0.8989827 | 0.9417472 | 0.06213566 | 0.008331693 | 0.9573076 | 0.7936793 | 0.9885054 | 0.8364738 | 0.04029535 |\n",
       "| SLEEPHRS | 0.1911036 | 0.8989827 | 0.9417472 | 0.08634290 | 0.021790516 | 0.9573076 | 0.7936793 | 0.9885054 | 0.8364738 | 0.04029535 |\n",
       "| AMFVT | 0.2358358 | 0.8989827 | 0.9417472 | 0.25717433 | 0.631858913 | 0.9573076 | 0.7936793 | 0.9885054 | 0.8364738 | 0.16678071 |\n",
       "| PQPEFFCY | 0.1384836 | 0.8989827 | 0.9417472 | 0.08634290 | 0.008331693 | 0.9833254 | 0.7936793 | 0.9885054 | 0.8364738 | 0.04029535 |\n",
       "| AMAMPT | 0.3117063 | 0.8989827 | 0.9417472 | 0.08356949 | 0.094062841 | 0.9573076 | 0.7936793 | 0.9885054 | 0.8364738 | 0.04029535 |\n",
       "| AMPHIT | 0.5967008 | 0.8989827 | 0.9417472 | 0.26718281 | 0.166331713 | 0.9573076 | 0.7936793 | 0.9885054 | 0.8364738 | 0.16678071 |\n",
       "| PQPSQI | 0.2259995 | 0.8989827 | 0.9417472 | 0.06213566 | 0.076482293 | 0.9573076 | 0.7936793 | 0.9885054 | 0.8364738 | 0.04029535 |\n",
       "| SLSLPHRS | 0.1384836 | 0.8989827 | 0.9417472 | 0.11454918 | 0.008331693 | 0.9573076 | 0.7936793 | 0.9885054 | 0.8364738 | 0.06336189 |\n",
       "\n"
      ],
      "text/plain": [
       "          AMFVT_C1  AMAMPT_C1 PQBADSLP  SLEEPHRS   AMFVT       PQPEFFCY \n",
       "AMFVT_C1  0.2940744 0.8989827 0.9417472 0.15649185 0.104598809 0.9573076\n",
       "AMAMPT_C1 0.0951838 0.8989827 0.9417472 0.06213566 0.008331693 0.9573076\n",
       "PQBADSLP  0.0951838 0.8989827 0.9417472 0.06213566 0.008331693 0.9573076\n",
       "SLEEPHRS  0.1911036 0.8989827 0.9417472 0.08634290 0.021790516 0.9573076\n",
       "AMFVT     0.2358358 0.8989827 0.9417472 0.25717433 0.631858913 0.9573076\n",
       "PQPEFFCY  0.1384836 0.8989827 0.9417472 0.08634290 0.008331693 0.9833254\n",
       "AMAMPT    0.3117063 0.8989827 0.9417472 0.08356949 0.094062841 0.9573076\n",
       "AMPHIT    0.5967008 0.8989827 0.9417472 0.26718281 0.166331713 0.9573076\n",
       "PQPSQI    0.2259995 0.8989827 0.9417472 0.06213566 0.076482293 0.9573076\n",
       "SLSLPHRS  0.1384836 0.8989827 0.9417472 0.11454918 0.008331693 0.9573076\n",
       "          AMAMPT    AMPHIT    PQPSQI    SLSLPHRS  \n",
       "AMFVT_C1  0.7936793 0.9885054 0.8364738 0.13970986\n",
       "AMAMPT_C1 0.7936793 0.9885054 0.8364738 0.04029535\n",
       "PQBADSLP  0.7936793 0.9885054 0.8364738 0.04029535\n",
       "SLEEPHRS  0.7936793 0.9885054 0.8364738 0.04029535\n",
       "AMFVT     0.7936793 0.9885054 0.8364738 0.16678071\n",
       "PQPEFFCY  0.7936793 0.9885054 0.8364738 0.04029535\n",
       "AMAMPT    0.7936793 0.9885054 0.8364738 0.04029535\n",
       "AMPHIT    0.7936793 0.9885054 0.8364738 0.16678071\n",
       "PQPSQI    0.7936793 0.9885054 0.8364738 0.04029535\n",
       "SLSLPHRS  0.7936793 0.9885054 0.8364738 0.06336189"
      ]
     },
     "metadata": {},
     "output_type": "display_data"
    }
   ],
   "source": [
    "Fstats_cat.adjust <- sapply(1:10, function(i){\n",
    "  p.adjust(Fstats_cat[,i], \"BH\")\n",
    "})\n",
    "colnames(Fstats_cat.adjust) <- colnames(Fstats_cat)[1:10]\n",
    "as.data.frame(Fstats_cat.adjust, colnames(Fstats_cat.adjust))"
   ]
  }
 ],
 "metadata": {
  "kernelspec": {
   "display_name": "R",
   "language": "R",
   "name": "ir"
  },
  "language_info": {
   "codemirror_mode": "r",
   "file_extension": ".r",
   "mimetype": "text/x-r-source",
   "name": "R",
   "pygments_lexer": "r",
   "version": "3.6.1"
  }
 },
 "nbformat": 4,
 "nbformat_minor": 2
}

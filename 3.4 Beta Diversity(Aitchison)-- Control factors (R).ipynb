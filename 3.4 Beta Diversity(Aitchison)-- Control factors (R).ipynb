{
 "cells": [
  {
   "cell_type": "markdown",
   "metadata": {},
   "source": [
    "####  This notebook is to test for association between microbiome composition and sleep measurements controlling confounding factors (MiRKAT)"
   ]
  },
  {
   "cell_type": "code",
   "execution_count": 48,
   "metadata": {},
   "outputs": [],
   "source": [
    "library(MiRKAT)"
   ]
  },
  {
   "cell_type": "code",
   "execution_count": 49,
   "metadata": {},
   "outputs": [
    {
     "data": {
      "text/html": [
       "<table>\n",
       "<thead><tr><th scope=col>X.SampleID</th><th scope=col>BarcodeSequence</th><th scope=col>LinkerPrimerSequence</th><th scope=col>Experiment_Design_Description</th><th scope=col>Library_Construction_Protocol</th><th scope=col>Linker</th><th scope=col>Platform</th><th scope=col>Center_Name</th><th scope=col>Center_Project</th><th scope=col>Instrument_Model</th><th scope=col>...</th><th scope=col>M1ADEPR</th><th scope=col>M1BENZO</th><th scope=col>AMAMPT_C1</th><th scope=col>AMFVT_C1</th><th scope=col>AMPHIT_15SD</th><th scope=col>Description</th><th scope=col>alpha_pd</th><th scope=col>observed_otus</th><th scope=col>shannon</th><th scope=col>pielou_e</th></tr></thead>\n",
       "<tbody>\n",
       "\t<tr><td>BI0023                                              </td><td>TCTGGTGACATT                                        </td><td>GGACTACHVGGGTWTCTAAT                                </td><td>16S stool samples sequenced for MrOS Vitamin D study</td><td>16S rRNA v4                                         </td><td>GT                                                  </td><td>Illumina                                            </td><td>BI                                                  </td><td>MrOS                                                </td><td>Illumina MiSeq                                      </td><td>...                                                 </td><td>0: No                                               </td><td>0: No                                               </td><td>Missing:not collected                               </td><td>Missing:not collected                               </td><td>Missing:not collected                               </td><td>Orwoll.BI0023.BI                                    </td><td>27.77117                                            </td><td>302                                                 </td><td>5.727116                                            </td><td>0.6951729                                           </td></tr>\n",
       "\t<tr><td>BI0056                                              </td><td>CAAGCATGCCTA                                        </td><td>GGACTACHVGGGTWTCTAAT                                </td><td>16S stool samples sequenced for MrOS Vitamin D study</td><td>16S rRNA v4                                         </td><td>GT                                                  </td><td>Illumina                                            </td><td>BI                                                  </td><td>MrOS                                                </td><td>Illumina MiSeq                                      </td><td>...                                                 </td><td>0: No                                               </td><td>0: No                                               </td><td>1.0                                                 </td><td>1.0                                                 </td><td>0.0                                                 </td><td>Orwoll.BI0056.BI                                    </td><td>17.93266                                            </td><td>173                                                 </td><td>3.888281                                            </td><td>0.5229960                                           </td></tr>\n",
       "\t<tr><td>BI0131                                              </td><td>CTATTTGCGACA                                        </td><td>GGACTACHVGGGTWTCTAAT                                </td><td>16S stool samples sequenced for MrOS Vitamin D study</td><td>16S rRNA v4                                         </td><td>GT                                                  </td><td>Illumina                                            </td><td>BI                                                  </td><td>MrOS                                                </td><td>Illumina MiSeq                                      </td><td>...                                                 </td><td>0: No                                               </td><td>0: No                                               </td><td>1.0                                                 </td><td>1.0                                                 </td><td>0.0                                                 </td><td>Orwoll.BI0131.BI                                    </td><td>21.45366                                            </td><td>223                                                 </td><td>4.050730                                            </td><td>0.5192645                                           </td></tr>\n",
       "\t<tr><td>BI0153                                              </td><td>ATCGGCGTTACA                                        </td><td>GGACTACHVGGGTWTCTAAT                                </td><td>16S stool samples sequenced for MrOS Vitamin D study</td><td>16S rRNA v4                                         </td><td>GT                                                  </td><td>Illumina                                            </td><td>BI                                                  </td><td>MrOS                                                </td><td>Illumina MiSeq                                      </td><td>...                                                 </td><td>0: No                                               </td><td>0: No                                               </td><td>1.0                                                 </td><td>1.0                                                 </td><td>-1.0                                                </td><td>Orwoll.BI0153.BI                                    </td><td>18.46968                                            </td><td>223                                                 </td><td>4.894253                                            </td><td>0.6273959                                           </td></tr>\n",
       "\t<tr><td>BI0215                                              </td><td>CCTCTCGTGATC                                        </td><td>GGACTACHVGGGTWTCTAAT                                </td><td>16S stool samples sequenced for MrOS Vitamin D study</td><td>16S rRNA v4                                         </td><td>GT                                                  </td><td>Illumina                                            </td><td>BI                                                  </td><td>MrOS                                                </td><td>Illumina MiSeq                                      </td><td>...                                                 </td><td>0: No                                               </td><td>0: No                                               </td><td>1.0                                                 </td><td>0.0                                                 </td><td>-1.0                                                </td><td>Orwoll.BI0215.BI                                    </td><td>20.04983                                            </td><td>222                                                 </td><td>5.295055                                            </td><td>0.6793396                                           </td></tr>\n",
       "\t<tr><td>BI0353                                              </td><td>TGCCATCTGAAT                                        </td><td>GGACTACHVGGGTWTCTAAT                                </td><td>16S stool samples sequenced for MrOS Vitamin D study</td><td>16S rRNA v4                                         </td><td>GT                                                  </td><td>Illumina                                            </td><td>BI                                                  </td><td>MrOS                                                </td><td>Illumina MiSeq                                      </td><td>...                                                 </td><td>0: No                                               </td><td>0: No                                               </td><td>1.0                                                 </td><td>1.0                                                 </td><td>0.0                                                 </td><td>Orwoll.BI0353.BI                                    </td><td>13.75183                                            </td><td>155                                                 </td><td>4.213016                                            </td><td>0.5790192                                           </td></tr>\n",
       "</tbody>\n",
       "</table>\n"
      ],
      "text/latex": [
       "\\begin{tabular}{r|llllllllllllllllllllllllllllllllllllllllllllllllllllllllllllllllllllllllllllllll}\n",
       " X.SampleID & BarcodeSequence & LinkerPrimerSequence & Experiment\\_Design\\_Description & Library\\_Construction\\_Protocol & Linker & Platform & Center\\_Name & Center\\_Project & Instrument\\_Model & ... & M1ADEPR & M1BENZO & AMAMPT\\_C1 & AMFVT\\_C1 & AMPHIT\\_15SD & Description & alpha\\_pd & observed\\_otus & shannon & pielou\\_e\\\\\n",
       "\\hline\n",
       "\t BI0023                                               & TCTGGTGACATT                                         & GGACTACHVGGGTWTCTAAT                                 & 16S stool samples sequenced for MrOS Vitamin D study & 16S rRNA v4                                          & GT                                                   & Illumina                                             & BI                                                   & MrOS                                                 & Illumina MiSeq                                       & ...                                                  & 0: No                                                & 0: No                                                & Missing:not collected                                & Missing:not collected                                & Missing:not collected                                & Orwoll.BI0023.BI                                     & 27.77117                                             & 302                                                  & 5.727116                                             & 0.6951729                                           \\\\\n",
       "\t BI0056                                               & CAAGCATGCCTA                                         & GGACTACHVGGGTWTCTAAT                                 & 16S stool samples sequenced for MrOS Vitamin D study & 16S rRNA v4                                          & GT                                                   & Illumina                                             & BI                                                   & MrOS                                                 & Illumina MiSeq                                       & ...                                                  & 0: No                                                & 0: No                                                & 1.0                                                  & 1.0                                                  & 0.0                                                  & Orwoll.BI0056.BI                                     & 17.93266                                             & 173                                                  & 3.888281                                             & 0.5229960                                           \\\\\n",
       "\t BI0131                                               & CTATTTGCGACA                                         & GGACTACHVGGGTWTCTAAT                                 & 16S stool samples sequenced for MrOS Vitamin D study & 16S rRNA v4                                          & GT                                                   & Illumina                                             & BI                                                   & MrOS                                                 & Illumina MiSeq                                       & ...                                                  & 0: No                                                & 0: No                                                & 1.0                                                  & 1.0                                                  & 0.0                                                  & Orwoll.BI0131.BI                                     & 21.45366                                             & 223                                                  & 4.050730                                             & 0.5192645                                           \\\\\n",
       "\t BI0153                                               & ATCGGCGTTACA                                         & GGACTACHVGGGTWTCTAAT                                 & 16S stool samples sequenced for MrOS Vitamin D study & 16S rRNA v4                                          & GT                                                   & Illumina                                             & BI                                                   & MrOS                                                 & Illumina MiSeq                                       & ...                                                  & 0: No                                                & 0: No                                                & 1.0                                                  & 1.0                                                  & -1.0                                                 & Orwoll.BI0153.BI                                     & 18.46968                                             & 223                                                  & 4.894253                                             & 0.6273959                                           \\\\\n",
       "\t BI0215                                               & CCTCTCGTGATC                                         & GGACTACHVGGGTWTCTAAT                                 & 16S stool samples sequenced for MrOS Vitamin D study & 16S rRNA v4                                          & GT                                                   & Illumina                                             & BI                                                   & MrOS                                                 & Illumina MiSeq                                       & ...                                                  & 0: No                                                & 0: No                                                & 1.0                                                  & 0.0                                                  & -1.0                                                 & Orwoll.BI0215.BI                                     & 20.04983                                             & 222                                                  & 5.295055                                             & 0.6793396                                           \\\\\n",
       "\t BI0353                                               & TGCCATCTGAAT                                         & GGACTACHVGGGTWTCTAAT                                 & 16S stool samples sequenced for MrOS Vitamin D study & 16S rRNA v4                                          & GT                                                   & Illumina                                             & BI                                                   & MrOS                                                 & Illumina MiSeq                                       & ...                                                  & 0: No                                                & 0: No                                                & 1.0                                                  & 1.0                                                  & 0.0                                                  & Orwoll.BI0353.BI                                     & 13.75183                                             & 155                                                  & 4.213016                                             & 0.5790192                                           \\\\\n",
       "\\end{tabular}\n"
      ],
      "text/markdown": [
       "\n",
       "| X.SampleID | BarcodeSequence | LinkerPrimerSequence | Experiment_Design_Description | Library_Construction_Protocol | Linker | Platform | Center_Name | Center_Project | Instrument_Model | ... | M1ADEPR | M1BENZO | AMAMPT_C1 | AMFVT_C1 | AMPHIT_15SD | Description | alpha_pd | observed_otus | shannon | pielou_e |\n",
       "|---|---|---|---|---|---|---|---|---|---|---|---|---|---|---|---|---|---|---|---|---|\n",
       "| BI0023                                               | TCTGGTGACATT                                         | GGACTACHVGGGTWTCTAAT                                 | 16S stool samples sequenced for MrOS Vitamin D study | 16S rRNA v4                                          | GT                                                   | Illumina                                             | BI                                                   | MrOS                                                 | Illumina MiSeq                                       | ...                                                  | 0: No                                                | 0: No                                                | Missing:not collected                                | Missing:not collected                                | Missing:not collected                                | Orwoll.BI0023.BI                                     | 27.77117                                             | 302                                                  | 5.727116                                             | 0.6951729                                            |\n",
       "| BI0056                                               | CAAGCATGCCTA                                         | GGACTACHVGGGTWTCTAAT                                 | 16S stool samples sequenced for MrOS Vitamin D study | 16S rRNA v4                                          | GT                                                   | Illumina                                             | BI                                                   | MrOS                                                 | Illumina MiSeq                                       | ...                                                  | 0: No                                                | 0: No                                                | 1.0                                                  | 1.0                                                  | 0.0                                                  | Orwoll.BI0056.BI                                     | 17.93266                                             | 173                                                  | 3.888281                                             | 0.5229960                                            |\n",
       "| BI0131                                               | CTATTTGCGACA                                         | GGACTACHVGGGTWTCTAAT                                 | 16S stool samples sequenced for MrOS Vitamin D study | 16S rRNA v4                                          | GT                                                   | Illumina                                             | BI                                                   | MrOS                                                 | Illumina MiSeq                                       | ...                                                  | 0: No                                                | 0: No                                                | 1.0                                                  | 1.0                                                  | 0.0                                                  | Orwoll.BI0131.BI                                     | 21.45366                                             | 223                                                  | 4.050730                                             | 0.5192645                                            |\n",
       "| BI0153                                               | ATCGGCGTTACA                                         | GGACTACHVGGGTWTCTAAT                                 | 16S stool samples sequenced for MrOS Vitamin D study | 16S rRNA v4                                          | GT                                                   | Illumina                                             | BI                                                   | MrOS                                                 | Illumina MiSeq                                       | ...                                                  | 0: No                                                | 0: No                                                | 1.0                                                  | 1.0                                                  | -1.0                                                 | Orwoll.BI0153.BI                                     | 18.46968                                             | 223                                                  | 4.894253                                             | 0.6273959                                            |\n",
       "| BI0215                                               | CCTCTCGTGATC                                         | GGACTACHVGGGTWTCTAAT                                 | 16S stool samples sequenced for MrOS Vitamin D study | 16S rRNA v4                                          | GT                                                   | Illumina                                             | BI                                                   | MrOS                                                 | Illumina MiSeq                                       | ...                                                  | 0: No                                                | 0: No                                                | 1.0                                                  | 0.0                                                  | -1.0                                                 | Orwoll.BI0215.BI                                     | 20.04983                                             | 222                                                  | 5.295055                                             | 0.6793396                                            |\n",
       "| BI0353                                               | TGCCATCTGAAT                                         | GGACTACHVGGGTWTCTAAT                                 | 16S stool samples sequenced for MrOS Vitamin D study | 16S rRNA v4                                          | GT                                                   | Illumina                                             | BI                                                   | MrOS                                                 | Illumina MiSeq                                       | ...                                                  | 0: No                                                | 0: No                                                | 1.0                                                  | 1.0                                                  | 0.0                                                  | Orwoll.BI0353.BI                                     | 13.75183                                             | 155                                                  | 4.213016                                             | 0.5790192                                            |\n",
       "\n"
      ],
      "text/plain": [
       "  X.SampleID BarcodeSequence LinkerPrimerSequence\n",
       "1 BI0023     TCTGGTGACATT    GGACTACHVGGGTWTCTAAT\n",
       "2 BI0056     CAAGCATGCCTA    GGACTACHVGGGTWTCTAAT\n",
       "3 BI0131     CTATTTGCGACA    GGACTACHVGGGTWTCTAAT\n",
       "4 BI0153     ATCGGCGTTACA    GGACTACHVGGGTWTCTAAT\n",
       "5 BI0215     CCTCTCGTGATC    GGACTACHVGGGTWTCTAAT\n",
       "6 BI0353     TGCCATCTGAAT    GGACTACHVGGGTWTCTAAT\n",
       "  Experiment_Design_Description                       \n",
       "1 16S stool samples sequenced for MrOS Vitamin D study\n",
       "2 16S stool samples sequenced for MrOS Vitamin D study\n",
       "3 16S stool samples sequenced for MrOS Vitamin D study\n",
       "4 16S stool samples sequenced for MrOS Vitamin D study\n",
       "5 16S stool samples sequenced for MrOS Vitamin D study\n",
       "6 16S stool samples sequenced for MrOS Vitamin D study\n",
       "  Library_Construction_Protocol Linker Platform Center_Name Center_Project\n",
       "1 16S rRNA v4                   GT     Illumina BI          MrOS          \n",
       "2 16S rRNA v4                   GT     Illumina BI          MrOS          \n",
       "3 16S rRNA v4                   GT     Illumina BI          MrOS          \n",
       "4 16S rRNA v4                   GT     Illumina BI          MrOS          \n",
       "5 16S rRNA v4                   GT     Illumina BI          MrOS          \n",
       "6 16S rRNA v4                   GT     Illumina BI          MrOS          \n",
       "  Instrument_Model ... M1ADEPR M1BENZO AMAMPT_C1            \n",
       "1 Illumina MiSeq   ... 0: No   0: No   Missing:not collected\n",
       "2 Illumina MiSeq   ... 0: No   0: No   1.0                  \n",
       "3 Illumina MiSeq   ... 0: No   0: No   1.0                  \n",
       "4 Illumina MiSeq   ... 0: No   0: No   1.0                  \n",
       "5 Illumina MiSeq   ... 0: No   0: No   1.0                  \n",
       "6 Illumina MiSeq   ... 0: No   0: No   1.0                  \n",
       "  AMFVT_C1              AMPHIT_15SD           Description      alpha_pd\n",
       "1 Missing:not collected Missing:not collected Orwoll.BI0023.BI 27.77117\n",
       "2 1.0                   0.0                   Orwoll.BI0056.BI 17.93266\n",
       "3 1.0                   0.0                   Orwoll.BI0131.BI 21.45366\n",
       "4 1.0                   -1.0                  Orwoll.BI0153.BI 18.46968\n",
       "5 0.0                   -1.0                  Orwoll.BI0215.BI 20.04983\n",
       "6 1.0                   0.0                   Orwoll.BI0353.BI 13.75183\n",
       "  observed_otus shannon  pielou_e \n",
       "1 302           5.727116 0.6951729\n",
       "2 173           3.888281 0.5229960\n",
       "3 223           4.050730 0.5192645\n",
       "4 223           4.894253 0.6273959\n",
       "5 222           5.295055 0.6793396\n",
       "6 155           4.213016 0.5790192"
      ]
     },
     "metadata": {},
     "output_type": "display_data"
    }
   ],
   "source": [
    "dat <- read.delim(\"mapping_sleep_alpha.txt\")\n",
    "head(dat)"
   ]
  },
  {
   "cell_type": "code",
   "execution_count": 50,
   "metadata": {},
   "outputs": [
    {
     "data": {
      "text/html": [
       "<table>\n",
       "<thead><tr><th></th><th scope=col>BI0023</th><th scope=col>BI0056</th><th scope=col>BI0131</th><th scope=col>BI0153</th><th scope=col>BI0215</th><th scope=col>BI0353</th><th scope=col>BI0371</th><th scope=col>BI0372</th><th scope=col>BI0380</th><th scope=col>BI0389</th><th scope=col>...</th><th scope=col>SD8964</th><th scope=col>SD8966</th><th scope=col>SD8972</th><th scope=col>SD8973</th><th scope=col>SD8985</th><th scope=col>SD8996</th><th scope=col>SD8999</th><th scope=col>SD9001</th><th scope=col>SD9003</th><th scope=col>SD9009</th></tr></thead>\n",
       "<tbody>\n",
       "\t<tr><th scope=row>BI0023</th><td>0.000000 </td><td>3.854117 </td><td>2.2624907</td><td>2.4775439</td><td>2.5230138</td><td>1.7619373</td><td>2.1528977</td><td>1.9830176</td><td>2.6162961</td><td>3.2161124</td><td>...      </td><td>2.580809 </td><td>2.363842 </td><td>1.8658996</td><td>0.6541107</td><td>2.0763756</td><td>2.4418900</td><td>2.1524018</td><td>2.4828776</td><td>1.4064145</td><td>1.9565111</td></tr>\n",
       "\t<tr><th scope=row>BI0056</th><td>3.854117 </td><td>0.000000 </td><td>1.9646308</td><td>1.5220292</td><td>1.3861677</td><td>2.2796945</td><td>2.1249924</td><td>1.9383154</td><td>1.3795474</td><td>0.7936802</td><td>...      </td><td>2.497952 </td><td>2.510412 </td><td>2.1737659</td><td>3.3408064</td><td>1.8774769</td><td>1.6105415</td><td>1.7734031</td><td>1.6163271</td><td>2.6733278</td><td>2.0245220</td></tr>\n",
       "\t<tr><th scope=row>BI0131</th><td>2.262491 </td><td>1.964631 </td><td>0.0000000</td><td>0.4890927</td><td>1.1557511</td><td>1.4876324</td><td>0.2544336</td><td>1.0246636</td><td>0.7861452</td><td>1.2313847</td><td>...      </td><td>2.504723 </td><td>1.458492 </td><td>0.6172946</td><td>1.6397262</td><td>0.4333382</td><td>1.4194710</td><td>1.1651333</td><td>0.5942780</td><td>0.8830507</td><td>0.4597581</td></tr>\n",
       "\t<tr><th scope=row>BI0153</th><td>2.477544 </td><td>1.522029 </td><td>0.4890927</td><td>0.0000000</td><td>0.7256925</td><td>1.3117906</td><td>0.6347898</td><td>0.8148648</td><td>0.3597706</td><td>0.7980843</td><td>...      </td><td>2.188765 </td><td>1.576987 </td><td>0.7198735</td><td>1.9029710</td><td>0.4015967</td><td>1.0378047</td><td>0.8612151</td><td>0.4745573</td><td>1.1733543</td><td>0.5377071</td></tr>\n",
       "\t<tr><th scope=row>BI0215</th><td>2.523014 </td><td>1.386168 </td><td>1.1557511</td><td>0.7256925</td><td>0.0000000</td><td>0.9155407</td><td>1.2265470</td><td>0.5707754</td><td>0.5491120</td><td>0.8728960</td><td>...      </td><td>1.521053 </td><td>1.914718 </td><td>1.0009216</td><td>2.0749441</td><td>0.8104914</td><td>0.3478145</td><td>0.3933339</td><td>0.9894309</td><td>1.4846073</td><td>0.9068951</td></tr>\n",
       "\t<tr><th scope=row>BI0353</th><td>1.761937 </td><td>2.279694 </td><td>1.4876324</td><td>1.3117906</td><td>0.9155407</td><td>0.0000000</td><td>1.4634691</td><td>0.5320803</td><td>1.2680218</td><td>1.7699147</td><td>...      </td><td>1.131693 </td><td>1.997822 </td><td>1.0184174</td><td>1.4855149</td><td>1.0649812</td><td>0.7169299</td><td>0.5315208</td><td>1.4751000</td><td>1.2178086</td><td>1.0416172</td></tr>\n",
       "</tbody>\n",
       "</table>\n"
      ],
      "text/latex": [
       "\\begin{tabular}{r|lllllllllllllllllllllllllllllllllllllllllllllllllllllllllllllllllllllllllllllllllllllllllllllllllllllllllllllllllllllllllllllllllllllllllllllllllllllllllllllllllllllllllllllllllllllllllllllllllllllllllllllllllllllllllllllllllllllllllllllllllllllllllllllllllllllllllllllllllllllllllllllllllllllllllllllllllllllllllllllllllllllllllllllllllllllllllllllllllllllllllllllllllllllllllllllllllllllllllllllllllllllllllllllllllllllllllllllllllllllllllllllllllllllllllllllllllllllllllllllllllllllllllllllllllllllllllllllllllllllllllllllllllllllllllllllllllllllllllllllllllllllllllllllllllllllllllllllllllllllll}\n",
       "  & BI0023 & BI0056 & BI0131 & BI0153 & BI0215 & BI0353 & BI0371 & BI0372 & BI0380 & BI0389 & ... & SD8964 & SD8966 & SD8972 & SD8973 & SD8985 & SD8996 & SD8999 & SD9001 & SD9003 & SD9009\\\\\n",
       "\\hline\n",
       "\tBI0023 & 0.000000  & 3.854117  & 2.2624907 & 2.4775439 & 2.5230138 & 1.7619373 & 2.1528977 & 1.9830176 & 2.6162961 & 3.2161124 & ...       & 2.580809  & 2.363842  & 1.8658996 & 0.6541107 & 2.0763756 & 2.4418900 & 2.1524018 & 2.4828776 & 1.4064145 & 1.9565111\\\\\n",
       "\tBI0056 & 3.854117  & 0.000000  & 1.9646308 & 1.5220292 & 1.3861677 & 2.2796945 & 2.1249924 & 1.9383154 & 1.3795474 & 0.7936802 & ...       & 2.497952  & 2.510412  & 2.1737659 & 3.3408064 & 1.8774769 & 1.6105415 & 1.7734031 & 1.6163271 & 2.6733278 & 2.0245220\\\\\n",
       "\tBI0131 & 2.262491  & 1.964631  & 0.0000000 & 0.4890927 & 1.1557511 & 1.4876324 & 0.2544336 & 1.0246636 & 0.7861452 & 1.2313847 & ...       & 2.504723  & 1.458492  & 0.6172946 & 1.6397262 & 0.4333382 & 1.4194710 & 1.1651333 & 0.5942780 & 0.8830507 & 0.4597581\\\\\n",
       "\tBI0153 & 2.477544  & 1.522029  & 0.4890927 & 0.0000000 & 0.7256925 & 1.3117906 & 0.6347898 & 0.8148648 & 0.3597706 & 0.7980843 & ...       & 2.188765  & 1.576987  & 0.7198735 & 1.9029710 & 0.4015967 & 1.0378047 & 0.8612151 & 0.4745573 & 1.1733543 & 0.5377071\\\\\n",
       "\tBI0215 & 2.523014  & 1.386168  & 1.1557511 & 0.7256925 & 0.0000000 & 0.9155407 & 1.2265470 & 0.5707754 & 0.5491120 & 0.8728960 & ...       & 1.521053  & 1.914718  & 1.0009216 & 2.0749441 & 0.8104914 & 0.3478145 & 0.3933339 & 0.9894309 & 1.4846073 & 0.9068951\\\\\n",
       "\tBI0353 & 1.761937  & 2.279694  & 1.4876324 & 1.3117906 & 0.9155407 & 0.0000000 & 1.4634691 & 0.5320803 & 1.2680218 & 1.7699147 & ...       & 1.131693  & 1.997822  & 1.0184174 & 1.4855149 & 1.0649812 & 0.7169299 & 0.5315208 & 1.4751000 & 1.2178086 & 1.0416172\\\\\n",
       "\\end{tabular}\n"
      ],
      "text/markdown": [
       "\n",
       "| <!--/--> | BI0023 | BI0056 | BI0131 | BI0153 | BI0215 | BI0353 | BI0371 | BI0372 | BI0380 | BI0389 | ... | SD8964 | SD8966 | SD8972 | SD8973 | SD8985 | SD8996 | SD8999 | SD9001 | SD9003 | SD9009 |\n",
       "|---|---|---|---|---|---|---|---|---|---|---|---|---|---|---|---|---|---|---|---|---|---|\n",
       "| BI0023 | 0.000000  | 3.854117  | 2.2624907 | 2.4775439 | 2.5230138 | 1.7619373 | 2.1528977 | 1.9830176 | 2.6162961 | 3.2161124 | ...       | 2.580809  | 2.363842  | 1.8658996 | 0.6541107 | 2.0763756 | 2.4418900 | 2.1524018 | 2.4828776 | 1.4064145 | 1.9565111 |\n",
       "| BI0056 | 3.854117  | 0.000000  | 1.9646308 | 1.5220292 | 1.3861677 | 2.2796945 | 2.1249924 | 1.9383154 | 1.3795474 | 0.7936802 | ...       | 2.497952  | 2.510412  | 2.1737659 | 3.3408064 | 1.8774769 | 1.6105415 | 1.7734031 | 1.6163271 | 2.6733278 | 2.0245220 |\n",
       "| BI0131 | 2.262491  | 1.964631  | 0.0000000 | 0.4890927 | 1.1557511 | 1.4876324 | 0.2544336 | 1.0246636 | 0.7861452 | 1.2313847 | ...       | 2.504723  | 1.458492  | 0.6172946 | 1.6397262 | 0.4333382 | 1.4194710 | 1.1651333 | 0.5942780 | 0.8830507 | 0.4597581 |\n",
       "| BI0153 | 2.477544  | 1.522029  | 0.4890927 | 0.0000000 | 0.7256925 | 1.3117906 | 0.6347898 | 0.8148648 | 0.3597706 | 0.7980843 | ...       | 2.188765  | 1.576987  | 0.7198735 | 1.9029710 | 0.4015967 | 1.0378047 | 0.8612151 | 0.4745573 | 1.1733543 | 0.5377071 |\n",
       "| BI0215 | 2.523014  | 1.386168  | 1.1557511 | 0.7256925 | 0.0000000 | 0.9155407 | 1.2265470 | 0.5707754 | 0.5491120 | 0.8728960 | ...       | 1.521053  | 1.914718  | 1.0009216 | 2.0749441 | 0.8104914 | 0.3478145 | 0.3933339 | 0.9894309 | 1.4846073 | 0.9068951 |\n",
       "| BI0353 | 1.761937  | 2.279694  | 1.4876324 | 1.3117906 | 0.9155407 | 0.0000000 | 1.4634691 | 0.5320803 | 1.2680218 | 1.7699147 | ...       | 1.131693  | 1.997822  | 1.0184174 | 1.4855149 | 1.0649812 | 0.7169299 | 0.5315208 | 1.4751000 | 1.2178086 | 1.0416172 |\n",
       "\n"
      ],
      "text/plain": [
       "       BI0023   BI0056   BI0131    BI0153    BI0215    BI0353    BI0371   \n",
       "BI0023 0.000000 3.854117 2.2624907 2.4775439 2.5230138 1.7619373 2.1528977\n",
       "BI0056 3.854117 0.000000 1.9646308 1.5220292 1.3861677 2.2796945 2.1249924\n",
       "BI0131 2.262491 1.964631 0.0000000 0.4890927 1.1557511 1.4876324 0.2544336\n",
       "BI0153 2.477544 1.522029 0.4890927 0.0000000 0.7256925 1.3117906 0.6347898\n",
       "BI0215 2.523014 1.386168 1.1557511 0.7256925 0.0000000 0.9155407 1.2265470\n",
       "BI0353 1.761937 2.279694 1.4876324 1.3117906 0.9155407 0.0000000 1.4634691\n",
       "       BI0372    BI0380    BI0389    ... SD8964   SD8966   SD8972    SD8973   \n",
       "BI0023 1.9830176 2.6162961 3.2161124 ... 2.580809 2.363842 1.8658996 0.6541107\n",
       "BI0056 1.9383154 1.3795474 0.7936802 ... 2.497952 2.510412 2.1737659 3.3408064\n",
       "BI0131 1.0246636 0.7861452 1.2313847 ... 2.504723 1.458492 0.6172946 1.6397262\n",
       "BI0153 0.8148648 0.3597706 0.7980843 ... 2.188765 1.576987 0.7198735 1.9029710\n",
       "BI0215 0.5707754 0.5491120 0.8728960 ... 1.521053 1.914718 1.0009216 2.0749441\n",
       "BI0353 0.5320803 1.2680218 1.7699147 ... 1.131693 1.997822 1.0184174 1.4855149\n",
       "       SD8985    SD8996    SD8999    SD9001    SD9003    SD9009   \n",
       "BI0023 2.0763756 2.4418900 2.1524018 2.4828776 1.4064145 1.9565111\n",
       "BI0056 1.8774769 1.6105415 1.7734031 1.6163271 2.6733278 2.0245220\n",
       "BI0131 0.4333382 1.4194710 1.1651333 0.5942780 0.8830507 0.4597581\n",
       "BI0153 0.4015967 1.0378047 0.8612151 0.4745573 1.1733543 0.5377071\n",
       "BI0215 0.8104914 0.3478145 0.3933339 0.9894309 1.4846073 0.9068951\n",
       "BI0353 1.0649812 0.7169299 0.5315208 1.4751000 1.2178086 1.0416172"
      ]
     },
     "metadata": {},
     "output_type": "display_data"
    }
   ],
   "source": [
    "distance <- read.table(file = 'distance-matrix.tsv', sep = '\\t', header = TRUE, row.names = 1)\n",
    "distance <- distance[ , order(colnames(distance))]\n",
    "distance <- distance[ order(rownames(distance)), ]\n",
    "distance[] <- lapply(distance, as.numeric)\n",
    "head(distance)"
   ]
  },
  {
   "cell_type": "code",
   "execution_count": 51,
   "metadata": {},
   "outputs": [
    {
     "data": {
      "text/html": [
       "<table>\n",
       "<thead><tr><th scope=col>AMAMPT</th><th scope=col>AMPHIT</th><th scope=col>AMFVT</th><th scope=col>PQPEFFCY</th><th scope=col>PQPSQI</th><th scope=col>AMAMPT_C1</th><th scope=col>AMFVT_C1</th><th scope=col>PQBADSLP</th><th scope=col>GIERACE</th><th scope=col>SITE</th><th scope=col>MHDIAB</th><th scope=col>M1ADEPR</th><th scope=col>PASCORE</th><th scope=col>BMI</th></tr></thead>\n",
       "<tbody>\n",
       "\t<tr><td>Missing:not collected</td><td>Missing:not collected</td><td>Missing:not collected</td><td>93.33                </td><td>4                    </td><td>Missing:not collected</td><td>Missing:not collected</td><td>0: No                </td><td>1:WHITE              </td><td>Birmingham           </td><td>0: No                </td><td>0: No                </td><td> 91.00000            </td><td>28.89012             </td></tr>\n",
       "\t<tr><td>176.1758554          </td><td>11.9598842           </td><td>1049.2338550000002   </td><td>60.0                 </td><td>9                    </td><td>1.0                  </td><td>1.0                  </td><td>1: Yes               </td><td>1:WHITE              </td><td>Birmingham           </td><td>0: No                </td><td>0: No                </td><td>199.17857            </td><td>28.53980             </td></tr>\n",
       "\t<tr><td>271.7428785          </td><td>10.99705997          </td><td>2069.032006          </td><td>90.0                 </td><td>2                    </td><td>1.0                  </td><td>1.0                  </td><td>0: No                </td><td>1:WHITE              </td><td>Birmingham           </td><td>0: No                </td><td>0: No                </td><td>161.71429            </td><td>25.01424             </td></tr>\n",
       "\t<tr><td>190.69266919999998   </td><td>10.51493608          </td><td>1498.285048          </td><td>100.0                </td><td>3                    </td><td>1.0                  </td><td>1.0                  </td><td>0: No                </td><td>1:WHITE              </td><td>Birmingham           </td><td>0: No                </td><td>0: No                </td><td> 88.21429            </td><td>30.87637             </td></tr>\n",
       "\t<tr><td>240.3133519          </td><td>10.83951835          </td><td>702.4915457000001    </td><td>88.89                </td><td>1                    </td><td>1.0                  </td><td>0.0                  </td><td>0: No                </td><td>1:WHITE              </td><td>Birmingham           </td><td>0: No                </td><td>0: No                </td><td>256.82143            </td><td>33.58739             </td></tr>\n",
       "\t<tr><td>345.2370838          </td><td>12.17318952          </td><td>1836.677682          </td><td>80.0                 </td><td>6                    </td><td>1.0                  </td><td>1.0                  </td><td>1: Yes               </td><td>1:WHITE              </td><td>Birmingham           </td><td>0: No                </td><td>0: No                </td><td>179.57143            </td><td>26.41523             </td></tr>\n",
       "</tbody>\n",
       "</table>\n"
      ],
      "text/latex": [
       "\\begin{tabular}{r|llllllllllllll}\n",
       " AMAMPT & AMPHIT & AMFVT & PQPEFFCY & PQPSQI & AMAMPT\\_C1 & AMFVT\\_C1 & PQBADSLP & GIERACE & SITE & MHDIAB & M1ADEPR & PASCORE & BMI\\\\\n",
       "\\hline\n",
       "\t Missing:not collected & Missing:not collected & Missing:not collected & 93.33                 & 4                     & Missing:not collected & Missing:not collected & 0: No                 & 1:WHITE               & Birmingham            & 0: No                 & 0: No                 &  91.00000             & 28.89012             \\\\\n",
       "\t 176.1758554           & 11.9598842            & 1049.2338550000002    & 60.0                  & 9                     & 1.0                   & 1.0                   & 1: Yes                & 1:WHITE               & Birmingham            & 0: No                 & 0: No                 & 199.17857             & 28.53980             \\\\\n",
       "\t 271.7428785           & 10.99705997           & 2069.032006           & 90.0                  & 2                     & 1.0                   & 1.0                   & 0: No                 & 1:WHITE               & Birmingham            & 0: No                 & 0: No                 & 161.71429             & 25.01424             \\\\\n",
       "\t 190.69266919999998    & 10.51493608           & 1498.285048           & 100.0                 & 3                     & 1.0                   & 1.0                   & 0: No                 & 1:WHITE               & Birmingham            & 0: No                 & 0: No                 &  88.21429             & 30.87637             \\\\\n",
       "\t 240.3133519           & 10.83951835           & 702.4915457000001     & 88.89                 & 1                     & 1.0                   & 0.0                   & 0: No                 & 1:WHITE               & Birmingham            & 0: No                 & 0: No                 & 256.82143             & 33.58739             \\\\\n",
       "\t 345.2370838           & 12.17318952           & 1836.677682           & 80.0                  & 6                     & 1.0                   & 1.0                   & 1: Yes                & 1:WHITE               & Birmingham            & 0: No                 & 0: No                 & 179.57143             & 26.41523             \\\\\n",
       "\\end{tabular}\n"
      ],
      "text/markdown": [
       "\n",
       "| AMAMPT | AMPHIT | AMFVT | PQPEFFCY | PQPSQI | AMAMPT_C1 | AMFVT_C1 | PQBADSLP | GIERACE | SITE | MHDIAB | M1ADEPR | PASCORE | BMI |\n",
       "|---|---|---|---|---|---|---|---|---|---|---|---|---|---|\n",
       "| Missing:not collected | Missing:not collected | Missing:not collected | 93.33                 | 4                     | Missing:not collected | Missing:not collected | 0: No                 | 1:WHITE               | Birmingham            | 0: No                 | 0: No                 |  91.00000             | 28.89012              |\n",
       "| 176.1758554           | 11.9598842            | 1049.2338550000002    | 60.0                  | 9                     | 1.0                   | 1.0                   | 1: Yes                | 1:WHITE               | Birmingham            | 0: No                 | 0: No                 | 199.17857             | 28.53980              |\n",
       "| 271.7428785           | 10.99705997           | 2069.032006           | 90.0                  | 2                     | 1.0                   | 1.0                   | 0: No                 | 1:WHITE               | Birmingham            | 0: No                 | 0: No                 | 161.71429             | 25.01424              |\n",
       "| 190.69266919999998    | 10.51493608           | 1498.285048           | 100.0                 | 3                     | 1.0                   | 1.0                   | 0: No                 | 1:WHITE               | Birmingham            | 0: No                 | 0: No                 |  88.21429             | 30.87637              |\n",
       "| 240.3133519           | 10.83951835           | 702.4915457000001     | 88.89                 | 1                     | 1.0                   | 0.0                   | 0: No                 | 1:WHITE               | Birmingham            | 0: No                 | 0: No                 | 256.82143             | 33.58739              |\n",
       "| 345.2370838           | 12.17318952           | 1836.677682           | 80.0                  | 6                     | 1.0                   | 1.0                   | 1: Yes                | 1:WHITE               | Birmingham            | 0: No                 | 0: No                 | 179.57143             | 26.41523              |\n",
       "\n"
      ],
      "text/plain": [
       "  AMAMPT                AMPHIT                AMFVT                 PQPEFFCY\n",
       "1 Missing:not collected Missing:not collected Missing:not collected 93.33   \n",
       "2 176.1758554           11.9598842            1049.2338550000002    60.0    \n",
       "3 271.7428785           10.99705997           2069.032006           90.0    \n",
       "4 190.69266919999998    10.51493608           1498.285048           100.0   \n",
       "5 240.3133519           10.83951835           702.4915457000001     88.89   \n",
       "6 345.2370838           12.17318952           1836.677682           80.0    \n",
       "  PQPSQI AMAMPT_C1             AMFVT_C1              PQBADSLP GIERACE\n",
       "1 4      Missing:not collected Missing:not collected 0: No    1:WHITE\n",
       "2 9      1.0                   1.0                   1: Yes   1:WHITE\n",
       "3 2      1.0                   1.0                   0: No    1:WHITE\n",
       "4 3      1.0                   1.0                   0: No    1:WHITE\n",
       "5 1      1.0                   0.0                   0: No    1:WHITE\n",
       "6 6      1.0                   1.0                   1: Yes   1:WHITE\n",
       "  SITE       MHDIAB M1ADEPR PASCORE   BMI     \n",
       "1 Birmingham 0: No  0: No    91.00000 28.89012\n",
       "2 Birmingham 0: No  0: No   199.17857 28.53980\n",
       "3 Birmingham 0: No  0: No   161.71429 25.01424\n",
       "4 Birmingham 0: No  0: No    88.21429 30.87637\n",
       "5 Birmingham 0: No  0: No   256.82143 33.58739\n",
       "6 Birmingham 0: No  0: No   179.57143 26.41523"
      ]
     },
     "metadata": {},
     "output_type": "display_data"
    }
   ],
   "source": [
    "vars_test = c('AMAMPT','AMPHIT','AMFVT','PQPEFFCY', 'PQPSQI','AMAMPT_C1' , 'AMFVT_C1','PQBADSLP')\n",
    "vars_imp = c('GIERACE', 'SITE','MHDIAB', 'M1ADEPR', 'PASCORE',\"BMI\")\n",
    "dat <- dat[c(vars_test,vars_imp)]\n",
    "head(dat)"
   ]
  },
  {
   "cell_type": "code",
   "execution_count": 52,
   "metadata": {},
   "outputs": [
    {
     "name": "stderr",
     "output_type": "stream",
     "text": [
      "Warning message in eval(expr, envir, enclos):\n",
      "\"NAs introduced by coercion\"Warning message in eval(expr, envir, enclos):\n",
      "\"NAs introduced by coercion\""
     ]
    },
    {
     "data": {
      "text/html": [
       "<table>\n",
       "<thead><tr><th></th><th scope=col>AMAMPT</th><th scope=col>AMPHIT</th><th scope=col>AMFVT</th><th scope=col>PQPEFFCY</th><th scope=col>PQPSQI</th><th scope=col>AMAMPT_C1</th><th scope=col>AMFVT_C1</th><th scope=col>PQBADSLP</th><th scope=col>GIERACE</th><th scope=col>SITE</th><th scope=col>MHDIAB</th><th scope=col>M1ADEPR</th><th scope=col>PASCORE</th><th scope=col>BMI</th></tr></thead>\n",
       "<tbody>\n",
       "\t<tr><th scope=row>2</th><td>176.1758554       </td><td>11.9598842        </td><td>1049.2339         </td><td> 60.00            </td><td>9                 </td><td>1.0               </td><td>1.0               </td><td>1: Yes            </td><td>1:WHITE           </td><td>Birmingham        </td><td>0: No             </td><td>0: No             </td><td>199.17857         </td><td>28.53980          </td></tr>\n",
       "\t<tr><th scope=row>3</th><td>271.7428785       </td><td>10.99705997       </td><td>2069.0320         </td><td> 90.00            </td><td>2                 </td><td>1.0               </td><td>1.0               </td><td>0: No             </td><td>1:WHITE           </td><td>Birmingham        </td><td>0: No             </td><td>0: No             </td><td>161.71429         </td><td>25.01424          </td></tr>\n",
       "\t<tr><th scope=row>4</th><td>190.69266919999998</td><td>10.51493608       </td><td>1498.2850         </td><td>100.00            </td><td>3                 </td><td>1.0               </td><td>1.0               </td><td>0: No             </td><td>1:WHITE           </td><td>Birmingham        </td><td>0: No             </td><td>0: No             </td><td> 88.21429         </td><td>30.87637          </td></tr>\n",
       "\t<tr><th scope=row>5</th><td>240.3133519       </td><td>10.83951835       </td><td> 702.4915         </td><td> 88.89            </td><td>1                 </td><td>1.0               </td><td>0.0               </td><td>0: No             </td><td>1:WHITE           </td><td>Birmingham        </td><td>0: No             </td><td>0: No             </td><td>256.82143         </td><td>33.58739          </td></tr>\n",
       "\t<tr><th scope=row>6</th><td>345.2370838       </td><td>12.17318952       </td><td>1836.6777         </td><td> 80.00            </td><td>6                 </td><td>1.0               </td><td>1.0               </td><td>1: Yes            </td><td>1:WHITE           </td><td>Birmingham        </td><td>0: No             </td><td>0: No             </td><td>179.57143         </td><td>26.41523          </td></tr>\n",
       "\t<tr><th scope=row>7</th><td>153.4988362       </td><td>15.24806835       </td><td> 514.8809         </td><td> 88.89            </td><td>5                 </td><td>1.0               </td><td>0.0               </td><td>0: No             </td><td>2:AFRICAN AMERICAN</td><td>Birmingham        </td><td>0: No             </td><td>0: No             </td><td>144.57143         </td><td>28.39116          </td></tr>\n",
       "</tbody>\n",
       "</table>\n"
      ],
      "text/latex": [
       "\\begin{tabular}{r|llllllllllllll}\n",
       "  & AMAMPT & AMPHIT & AMFVT & PQPEFFCY & PQPSQI & AMAMPT\\_C1 & AMFVT\\_C1 & PQBADSLP & GIERACE & SITE & MHDIAB & M1ADEPR & PASCORE & BMI\\\\\n",
       "\\hline\n",
       "\t2 & 176.1758554        & 11.9598842         & 1049.2339          &  60.00             & 9                  & 1.0                & 1.0                & 1: Yes             & 1:WHITE            & Birmingham         & 0: No              & 0: No              & 199.17857          & 28.53980          \\\\\n",
       "\t3 & 271.7428785        & 10.99705997        & 2069.0320          &  90.00             & 2                  & 1.0                & 1.0                & 0: No              & 1:WHITE            & Birmingham         & 0: No              & 0: No              & 161.71429          & 25.01424          \\\\\n",
       "\t4 & 190.69266919999998 & 10.51493608        & 1498.2850          & 100.00             & 3                  & 1.0                & 1.0                & 0: No              & 1:WHITE            & Birmingham         & 0: No              & 0: No              &  88.21429          & 30.87637          \\\\\n",
       "\t5 & 240.3133519        & 10.83951835        &  702.4915          &  88.89             & 1                  & 1.0                & 0.0                & 0: No              & 1:WHITE            & Birmingham         & 0: No              & 0: No              & 256.82143          & 33.58739          \\\\\n",
       "\t6 & 345.2370838        & 12.17318952        & 1836.6777          &  80.00             & 6                  & 1.0                & 1.0                & 1: Yes             & 1:WHITE            & Birmingham         & 0: No              & 0: No              & 179.57143          & 26.41523          \\\\\n",
       "\t7 & 153.4988362        & 15.24806835        &  514.8809          &  88.89             & 5                  & 1.0                & 0.0                & 0: No              & 2:AFRICAN AMERICAN & Birmingham         & 0: No              & 0: No              & 144.57143          & 28.39116          \\\\\n",
       "\\end{tabular}\n"
      ],
      "text/markdown": [
       "\n",
       "| <!--/--> | AMAMPT | AMPHIT | AMFVT | PQPEFFCY | PQPSQI | AMAMPT_C1 | AMFVT_C1 | PQBADSLP | GIERACE | SITE | MHDIAB | M1ADEPR | PASCORE | BMI |\n",
       "|---|---|---|---|---|---|---|---|---|---|---|---|---|---|---|\n",
       "| 2 | 176.1758554        | 11.9598842         | 1049.2339          |  60.00             | 9                  | 1.0                | 1.0                | 1: Yes             | 1:WHITE            | Birmingham         | 0: No              | 0: No              | 199.17857          | 28.53980           |\n",
       "| 3 | 271.7428785        | 10.99705997        | 2069.0320          |  90.00             | 2                  | 1.0                | 1.0                | 0: No              | 1:WHITE            | Birmingham         | 0: No              | 0: No              | 161.71429          | 25.01424           |\n",
       "| 4 | 190.69266919999998 | 10.51493608        | 1498.2850          | 100.00             | 3                  | 1.0                | 1.0                | 0: No              | 1:WHITE            | Birmingham         | 0: No              | 0: No              |  88.21429          | 30.87637           |\n",
       "| 5 | 240.3133519        | 10.83951835        |  702.4915          |  88.89             | 1                  | 1.0                | 0.0                | 0: No              | 1:WHITE            | Birmingham         | 0: No              | 0: No              | 256.82143          | 33.58739           |\n",
       "| 6 | 345.2370838        | 12.17318952        | 1836.6777          |  80.00             | 6                  | 1.0                | 1.0                | 1: Yes             | 1:WHITE            | Birmingham         | 0: No              | 0: No              | 179.57143          | 26.41523           |\n",
       "| 7 | 153.4988362        | 15.24806835        |  514.8809          |  88.89             | 5                  | 1.0                | 0.0                | 0: No              | 2:AFRICAN AMERICAN | Birmingham         | 0: No              | 0: No              | 144.57143          | 28.39116           |\n",
       "\n"
      ],
      "text/plain": [
       "  AMAMPT             AMPHIT      AMFVT     PQPEFFCY PQPSQI AMAMPT_C1 AMFVT_C1\n",
       "2 176.1758554        11.9598842  1049.2339  60.00   9      1.0       1.0     \n",
       "3 271.7428785        10.99705997 2069.0320  90.00   2      1.0       1.0     \n",
       "4 190.69266919999998 10.51493608 1498.2850 100.00   3      1.0       1.0     \n",
       "5 240.3133519        10.83951835  702.4915  88.89   1      1.0       0.0     \n",
       "6 345.2370838        12.17318952 1836.6777  80.00   6      1.0       1.0     \n",
       "7 153.4988362        15.24806835  514.8809  88.89   5      1.0       0.0     \n",
       "  PQBADSLP GIERACE            SITE       MHDIAB M1ADEPR PASCORE   BMI     \n",
       "2 1: Yes   1:WHITE            Birmingham 0: No  0: No   199.17857 28.53980\n",
       "3 0: No    1:WHITE            Birmingham 0: No  0: No   161.71429 25.01424\n",
       "4 0: No    1:WHITE            Birmingham 0: No  0: No    88.21429 30.87637\n",
       "5 0: No    1:WHITE            Birmingham 0: No  0: No   256.82143 33.58739\n",
       "6 1: Yes   1:WHITE            Birmingham 0: No  0: No   179.57143 26.41523\n",
       "7 0: No    2:AFRICAN AMERICAN Birmingham 0: No  0: No   144.57143 28.39116"
      ]
     },
     "metadata": {},
     "output_type": "display_data"
    }
   ],
   "source": [
    "dat$AMFVT <- as.numeric(as.character(dat$AMFVT))\n",
    "dat$PQPEFFCY <- as.numeric(as.character(dat$PQPEFFCY))\n",
    "\n",
    "ind <- which(is.na(dat$AMFVT))\n",
    "ind2 <- which(is.na(dat$PQPEFFCY))\n",
    "dist <- distance[-c(ind,ind2), ]\n",
    "dist <- dist[, -c(ind,ind2)]\n",
    "dat <- na.omit(dat)\n",
    "head(dat)"
   ]
  },
  {
   "cell_type": "code",
   "execution_count": 53,
   "metadata": {},
   "outputs": [
    {
     "data": {
      "text/html": [
       "<ol class=list-inline>\n",
       "\t<li>417</li>\n",
       "\t<li>14</li>\n",
       "</ol>\n"
      ],
      "text/latex": [
       "\\begin{enumerate*}\n",
       "\\item 417\n",
       "\\item 14\n",
       "\\end{enumerate*}\n"
      ],
      "text/markdown": [
       "1. 417\n",
       "2. 14\n",
       "\n",
       "\n"
      ],
      "text/plain": [
       "[1] 417  14"
      ]
     },
     "metadata": {},
     "output_type": "display_data"
    },
    {
     "data": {
      "text/html": [
       "<table>\n",
       "<thead><tr><th></th><th scope=col>BI0056</th><th scope=col>BI0131</th><th scope=col>BI0153</th><th scope=col>BI0215</th><th scope=col>BI0353</th><th scope=col>BI0371</th><th scope=col>BI0372</th><th scope=col>BI0380</th><th scope=col>BI0389</th><th scope=col>BI0395</th><th scope=col>...</th><th scope=col>SD8918</th><th scope=col>SD8934</th><th scope=col>SD8942</th><th scope=col>SD8966</th><th scope=col>SD8972</th><th scope=col>SD8973</th><th scope=col>SD8985</th><th scope=col>SD8996</th><th scope=col>SD9001</th><th scope=col>SD9009</th></tr></thead>\n",
       "<tbody>\n",
       "\t<tr><th scope=row>BI0056</th><td>0.000000 </td><td>1.9646308</td><td>1.5220292</td><td>1.3861677</td><td>2.2796945</td><td>2.1249924</td><td>1.9383154</td><td>1.3795474</td><td>0.7936802</td><td>1.7095180</td><td>...      </td><td>0.5956897</td><td>3.898778 </td><td>3.097856 </td><td>2.510412 </td><td>2.1737659</td><td>3.340806 </td><td>1.8774769</td><td>1.6105415</td><td>1.6163271</td><td>2.0245220</td></tr>\n",
       "\t<tr><th scope=row>BI0131</th><td>1.964631 </td><td>0.0000000</td><td>0.4890927</td><td>1.1557511</td><td>1.4876324</td><td>0.2544336</td><td>1.0246636</td><td>0.7861452</td><td>1.2313847</td><td>1.9934037</td><td>...      </td><td>1.6046783</td><td>2.606488 </td><td>1.890094 </td><td>1.458492 </td><td>0.6172946</td><td>1.639726 </td><td>0.4333382</td><td>1.4194710</td><td>0.5942780</td><td>0.4597581</td></tr>\n",
       "\t<tr><th scope=row>BI0153</th><td>1.522029 </td><td>0.4890927</td><td>0.0000000</td><td>0.7256925</td><td>1.3117906</td><td>0.6347898</td><td>0.8148648</td><td>0.3597706</td><td>0.7980843</td><td>1.5867218</td><td>...      </td><td>1.1208936</td><td>2.726822 </td><td>1.925176 </td><td>1.576987 </td><td>0.7198735</td><td>1.902971 </td><td>0.4015967</td><td>1.0378047</td><td>0.4745573</td><td>0.5377071</td></tr>\n",
       "\t<tr><th scope=row>BI0215</th><td>1.386168 </td><td>1.1557511</td><td>0.7256925</td><td>0.0000000</td><td>0.9155407</td><td>1.2265470</td><td>0.5707754</td><td>0.5491120</td><td>0.8728960</td><td>0.8659662</td><td>...      </td><td>0.8151901</td><td>2.661172 </td><td>1.763694 </td><td>1.914718 </td><td>1.0009216</td><td>2.074944 </td><td>0.8104914</td><td>0.3478145</td><td>0.9894309</td><td>0.9068951</td></tr>\n",
       "\t<tr><th scope=row>BI0353</th><td>2.279694 </td><td>1.4876324</td><td>1.3117906</td><td>0.9155407</td><td>0.0000000</td><td>1.4634691</td><td>0.5320803</td><td>1.2680218</td><td>1.7699147</td><td>1.0309972</td><td>...      </td><td>1.7060332</td><td>1.897092 </td><td>0.926741 </td><td>1.997822 </td><td>1.0184174</td><td>1.485515 </td><td>1.0649812</td><td>0.7169299</td><td>1.4751000</td><td>1.0416172</td></tr>\n",
       "\t<tr><th scope=row>BI0371</th><td>2.124992 </td><td>0.2544336</td><td>0.6347898</td><td>1.2265470</td><td>1.4634691</td><td>0.0000000</td><td>1.0035298</td><td>0.8492519</td><td>1.3599767</td><td>2.0455402</td><td>...      </td><td>1.7314988</td><td>2.586406 </td><td>1.841603 </td><td>1.646293 </td><td>0.4837797</td><td>1.542577 </td><td>0.5014978</td><td>1.4526540</td><td>0.8340428</td><td>0.4355701</td></tr>\n",
       "</tbody>\n",
       "</table>\n"
      ],
      "text/latex": [
       "\\begin{tabular}{r|lllllllllllllllllllllllllllllllllllllllllllllllllllllllllllllllllllllllllllllllllllllllllllllllllllllllllllllllllllllllllllllllllllllllllllllllllllllllllllllllllllllllllllllllllllllllllllllllllllllllllllllllllllllllllllllllllllllllllllllllllllllllllllllllllllllllllllllllllllllllllllllllllllllllllllllllllllllllllllllllllllllllllllllllllllllllllllllllllllllllllllllllllllllllllllllllllllllllllllllllllllllllllllllllll}\n",
       "  & BI0056 & BI0131 & BI0153 & BI0215 & BI0353 & BI0371 & BI0372 & BI0380 & BI0389 & BI0395 & ... & SD8918 & SD8934 & SD8942 & SD8966 & SD8972 & SD8973 & SD8985 & SD8996 & SD9001 & SD9009\\\\\n",
       "\\hline\n",
       "\tBI0056 & 0.000000  & 1.9646308 & 1.5220292 & 1.3861677 & 2.2796945 & 2.1249924 & 1.9383154 & 1.3795474 & 0.7936802 & 1.7095180 & ...       & 0.5956897 & 3.898778  & 3.097856  & 2.510412  & 2.1737659 & 3.340806  & 1.8774769 & 1.6105415 & 1.6163271 & 2.0245220\\\\\n",
       "\tBI0131 & 1.964631  & 0.0000000 & 0.4890927 & 1.1557511 & 1.4876324 & 0.2544336 & 1.0246636 & 0.7861452 & 1.2313847 & 1.9934037 & ...       & 1.6046783 & 2.606488  & 1.890094  & 1.458492  & 0.6172946 & 1.639726  & 0.4333382 & 1.4194710 & 0.5942780 & 0.4597581\\\\\n",
       "\tBI0153 & 1.522029  & 0.4890927 & 0.0000000 & 0.7256925 & 1.3117906 & 0.6347898 & 0.8148648 & 0.3597706 & 0.7980843 & 1.5867218 & ...       & 1.1208936 & 2.726822  & 1.925176  & 1.576987  & 0.7198735 & 1.902971  & 0.4015967 & 1.0378047 & 0.4745573 & 0.5377071\\\\\n",
       "\tBI0215 & 1.386168  & 1.1557511 & 0.7256925 & 0.0000000 & 0.9155407 & 1.2265470 & 0.5707754 & 0.5491120 & 0.8728960 & 0.8659662 & ...       & 0.8151901 & 2.661172  & 1.763694  & 1.914718  & 1.0009216 & 2.074944  & 0.8104914 & 0.3478145 & 0.9894309 & 0.9068951\\\\\n",
       "\tBI0353 & 2.279694  & 1.4876324 & 1.3117906 & 0.9155407 & 0.0000000 & 1.4634691 & 0.5320803 & 1.2680218 & 1.7699147 & 1.0309972 & ...       & 1.7060332 & 1.897092  & 0.926741  & 1.997822  & 1.0184174 & 1.485515  & 1.0649812 & 0.7169299 & 1.4751000 & 1.0416172\\\\\n",
       "\tBI0371 & 2.124992  & 0.2544336 & 0.6347898 & 1.2265470 & 1.4634691 & 0.0000000 & 1.0035298 & 0.8492519 & 1.3599767 & 2.0455402 & ...       & 1.7314988 & 2.586406  & 1.841603  & 1.646293  & 0.4837797 & 1.542577  & 0.5014978 & 1.4526540 & 0.8340428 & 0.4355701\\\\\n",
       "\\end{tabular}\n"
      ],
      "text/markdown": [
       "\n",
       "| <!--/--> | BI0056 | BI0131 | BI0153 | BI0215 | BI0353 | BI0371 | BI0372 | BI0380 | BI0389 | BI0395 | ... | SD8918 | SD8934 | SD8942 | SD8966 | SD8972 | SD8973 | SD8985 | SD8996 | SD9001 | SD9009 |\n",
       "|---|---|---|---|---|---|---|---|---|---|---|---|---|---|---|---|---|---|---|---|---|---|\n",
       "| BI0056 | 0.000000  | 1.9646308 | 1.5220292 | 1.3861677 | 2.2796945 | 2.1249924 | 1.9383154 | 1.3795474 | 0.7936802 | 1.7095180 | ...       | 0.5956897 | 3.898778  | 3.097856  | 2.510412  | 2.1737659 | 3.340806  | 1.8774769 | 1.6105415 | 1.6163271 | 2.0245220 |\n",
       "| BI0131 | 1.964631  | 0.0000000 | 0.4890927 | 1.1557511 | 1.4876324 | 0.2544336 | 1.0246636 | 0.7861452 | 1.2313847 | 1.9934037 | ...       | 1.6046783 | 2.606488  | 1.890094  | 1.458492  | 0.6172946 | 1.639726  | 0.4333382 | 1.4194710 | 0.5942780 | 0.4597581 |\n",
       "| BI0153 | 1.522029  | 0.4890927 | 0.0000000 | 0.7256925 | 1.3117906 | 0.6347898 | 0.8148648 | 0.3597706 | 0.7980843 | 1.5867218 | ...       | 1.1208936 | 2.726822  | 1.925176  | 1.576987  | 0.7198735 | 1.902971  | 0.4015967 | 1.0378047 | 0.4745573 | 0.5377071 |\n",
       "| BI0215 | 1.386168  | 1.1557511 | 0.7256925 | 0.0000000 | 0.9155407 | 1.2265470 | 0.5707754 | 0.5491120 | 0.8728960 | 0.8659662 | ...       | 0.8151901 | 2.661172  | 1.763694  | 1.914718  | 1.0009216 | 2.074944  | 0.8104914 | 0.3478145 | 0.9894309 | 0.9068951 |\n",
       "| BI0353 | 2.279694  | 1.4876324 | 1.3117906 | 0.9155407 | 0.0000000 | 1.4634691 | 0.5320803 | 1.2680218 | 1.7699147 | 1.0309972 | ...       | 1.7060332 | 1.897092  | 0.926741  | 1.997822  | 1.0184174 | 1.485515  | 1.0649812 | 0.7169299 | 1.4751000 | 1.0416172 |\n",
       "| BI0371 | 2.124992  | 0.2544336 | 0.6347898 | 1.2265470 | 1.4634691 | 0.0000000 | 1.0035298 | 0.8492519 | 1.3599767 | 2.0455402 | ...       | 1.7314988 | 2.586406  | 1.841603  | 1.646293  | 0.4837797 | 1.542577  | 0.5014978 | 1.4526540 | 0.8340428 | 0.4355701 |\n",
       "\n"
      ],
      "text/plain": [
       "       BI0056   BI0131    BI0153    BI0215    BI0353    BI0371    BI0372   \n",
       "BI0056 0.000000 1.9646308 1.5220292 1.3861677 2.2796945 2.1249924 1.9383154\n",
       "BI0131 1.964631 0.0000000 0.4890927 1.1557511 1.4876324 0.2544336 1.0246636\n",
       "BI0153 1.522029 0.4890927 0.0000000 0.7256925 1.3117906 0.6347898 0.8148648\n",
       "BI0215 1.386168 1.1557511 0.7256925 0.0000000 0.9155407 1.2265470 0.5707754\n",
       "BI0353 2.279694 1.4876324 1.3117906 0.9155407 0.0000000 1.4634691 0.5320803\n",
       "BI0371 2.124992 0.2544336 0.6347898 1.2265470 1.4634691 0.0000000 1.0035298\n",
       "       BI0380    BI0389    BI0395    ... SD8918    SD8934   SD8942   SD8966  \n",
       "BI0056 1.3795474 0.7936802 1.7095180 ... 0.5956897 3.898778 3.097856 2.510412\n",
       "BI0131 0.7861452 1.2313847 1.9934037 ... 1.6046783 2.606488 1.890094 1.458492\n",
       "BI0153 0.3597706 0.7980843 1.5867218 ... 1.1208936 2.726822 1.925176 1.576987\n",
       "BI0215 0.5491120 0.8728960 0.8659662 ... 0.8151901 2.661172 1.763694 1.914718\n",
       "BI0353 1.2680218 1.7699147 1.0309972 ... 1.7060332 1.897092 0.926741 1.997822\n",
       "BI0371 0.8492519 1.3599767 2.0455402 ... 1.7314988 2.586406 1.841603 1.646293\n",
       "       SD8972    SD8973   SD8985    SD8996    SD9001    SD9009   \n",
       "BI0056 2.1737659 3.340806 1.8774769 1.6105415 1.6163271 2.0245220\n",
       "BI0131 0.6172946 1.639726 0.4333382 1.4194710 0.5942780 0.4597581\n",
       "BI0153 0.7198735 1.902971 0.4015967 1.0378047 0.4745573 0.5377071\n",
       "BI0215 1.0009216 2.074944 0.8104914 0.3478145 0.9894309 0.9068951\n",
       "BI0353 1.0184174 1.485515 1.0649812 0.7169299 1.4751000 1.0416172\n",
       "BI0371 0.4837797 1.542577 0.5014978 1.4526540 0.8340428 0.4355701"
      ]
     },
     "metadata": {},
     "output_type": "display_data"
    }
   ],
   "source": [
    "dim(dat)\n",
    "head(dist)"
   ]
  },
  {
   "cell_type": "code",
   "execution_count": 54,
   "metadata": {},
   "outputs": [
    {
     "data": {
      "text/html": [
       "<table>\n",
       "<thead><tr><th></th><th scope=col>AMAMPT</th><th scope=col>AMPHIT</th><th scope=col>AMFVT</th><th scope=col>PQPEFFCY</th><th scope=col>PQPSQI</th><th scope=col>AMAMPT_C1</th><th scope=col>AMFVT_C1</th><th scope=col>PQBADSLP</th></tr></thead>\n",
       "<tbody>\n",
       "\t<tr><th scope=row>2</th><td>176.1758554       </td><td>11.9598842        </td><td>1049.2339         </td><td> 60.00            </td><td>9                 </td><td>1.0               </td><td>1.0               </td><td>1: Yes            </td></tr>\n",
       "\t<tr><th scope=row>3</th><td>271.7428785       </td><td>10.99705997       </td><td>2069.0320         </td><td> 90.00            </td><td>2                 </td><td>1.0               </td><td>1.0               </td><td>0: No             </td></tr>\n",
       "\t<tr><th scope=row>4</th><td>190.69266919999998</td><td>10.51493608       </td><td>1498.2850         </td><td>100.00            </td><td>3                 </td><td>1.0               </td><td>1.0               </td><td>0: No             </td></tr>\n",
       "\t<tr><th scope=row>5</th><td>240.3133519       </td><td>10.83951835       </td><td> 702.4915         </td><td> 88.89            </td><td>1                 </td><td>1.0               </td><td>0.0               </td><td>0: No             </td></tr>\n",
       "\t<tr><th scope=row>6</th><td>345.2370838       </td><td>12.17318952       </td><td>1836.6777         </td><td> 80.00            </td><td>6                 </td><td>1.0               </td><td>1.0               </td><td>1: Yes            </td></tr>\n",
       "\t<tr><th scope=row>7</th><td>153.4988362       </td><td>15.24806835       </td><td> 514.8809         </td><td> 88.89            </td><td>5                 </td><td>1.0               </td><td>0.0               </td><td>0: No             </td></tr>\n",
       "</tbody>\n",
       "</table>\n"
      ],
      "text/latex": [
       "\\begin{tabular}{r|llllllll}\n",
       "  & AMAMPT & AMPHIT & AMFVT & PQPEFFCY & PQPSQI & AMAMPT\\_C1 & AMFVT\\_C1 & PQBADSLP\\\\\n",
       "\\hline\n",
       "\t2 & 176.1758554        & 11.9598842         & 1049.2339          &  60.00             & 9                  & 1.0                & 1.0                & 1: Yes            \\\\\n",
       "\t3 & 271.7428785        & 10.99705997        & 2069.0320          &  90.00             & 2                  & 1.0                & 1.0                & 0: No             \\\\\n",
       "\t4 & 190.69266919999998 & 10.51493608        & 1498.2850          & 100.00             & 3                  & 1.0                & 1.0                & 0: No             \\\\\n",
       "\t5 & 240.3133519        & 10.83951835        &  702.4915          &  88.89             & 1                  & 1.0                & 0.0                & 0: No             \\\\\n",
       "\t6 & 345.2370838        & 12.17318952        & 1836.6777          &  80.00             & 6                  & 1.0                & 1.0                & 1: Yes            \\\\\n",
       "\t7 & 153.4988362        & 15.24806835        &  514.8809          &  88.89             & 5                  & 1.0                & 0.0                & 0: No             \\\\\n",
       "\\end{tabular}\n"
      ],
      "text/markdown": [
       "\n",
       "| <!--/--> | AMAMPT | AMPHIT | AMFVT | PQPEFFCY | PQPSQI | AMAMPT_C1 | AMFVT_C1 | PQBADSLP |\n",
       "|---|---|---|---|---|---|---|---|---|\n",
       "| 2 | 176.1758554        | 11.9598842         | 1049.2339          |  60.00             | 9                  | 1.0                | 1.0                | 1: Yes             |\n",
       "| 3 | 271.7428785        | 10.99705997        | 2069.0320          |  90.00             | 2                  | 1.0                | 1.0                | 0: No              |\n",
       "| 4 | 190.69266919999998 | 10.51493608        | 1498.2850          | 100.00             | 3                  | 1.0                | 1.0                | 0: No              |\n",
       "| 5 | 240.3133519        | 10.83951835        |  702.4915          |  88.89             | 1                  | 1.0                | 0.0                | 0: No              |\n",
       "| 6 | 345.2370838        | 12.17318952        | 1836.6777          |  80.00             | 6                  | 1.0                | 1.0                | 1: Yes             |\n",
       "| 7 | 153.4988362        | 15.24806835        |  514.8809          |  88.89             | 5                  | 1.0                | 0.0                | 0: No              |\n",
       "\n"
      ],
      "text/plain": [
       "  AMAMPT             AMPHIT      AMFVT     PQPEFFCY PQPSQI AMAMPT_C1 AMFVT_C1\n",
       "2 176.1758554        11.9598842  1049.2339  60.00   9      1.0       1.0     \n",
       "3 271.7428785        10.99705997 2069.0320  90.00   2      1.0       1.0     \n",
       "4 190.69266919999998 10.51493608 1498.2850 100.00   3      1.0       1.0     \n",
       "5 240.3133519        10.83951835  702.4915  88.89   1      1.0       0.0     \n",
       "6 345.2370838        12.17318952 1836.6777  80.00   6      1.0       1.0     \n",
       "7 153.4988362        15.24806835  514.8809  88.89   5      1.0       0.0     \n",
       "  PQBADSLP\n",
       "2 1: Yes  \n",
       "3 0: No   \n",
       "4 0: No   \n",
       "5 0: No   \n",
       "6 1: Yes  \n",
       "7 0: No   "
      ]
     },
     "metadata": {},
     "output_type": "display_data"
    }
   ],
   "source": [
    "test <- dat[c(vars_test)]\n",
    "head(test)"
   ]
  },
  {
   "cell_type": "code",
   "execution_count": 55,
   "metadata": {},
   "outputs": [
    {
     "data": {
      "text/html": [
       "<table>\n",
       "<thead><tr><th></th><th scope=col>GIERACE</th><th scope=col>SITE</th><th scope=col>MHDIAB</th><th scope=col>M1ADEPR</th><th scope=col>PASCORE</th><th scope=col>BMI</th></tr></thead>\n",
       "<tbody>\n",
       "\t<tr><th scope=row>2</th><td>1:WHITE           </td><td>Birmingham        </td><td>0: No             </td><td>0: No             </td><td>199.17857         </td><td>28.53980          </td></tr>\n",
       "\t<tr><th scope=row>3</th><td>1:WHITE           </td><td>Birmingham        </td><td>0: No             </td><td>0: No             </td><td>161.71429         </td><td>25.01424          </td></tr>\n",
       "\t<tr><th scope=row>4</th><td>1:WHITE           </td><td>Birmingham        </td><td>0: No             </td><td>0: No             </td><td> 88.21429         </td><td>30.87637          </td></tr>\n",
       "\t<tr><th scope=row>5</th><td>1:WHITE           </td><td>Birmingham        </td><td>0: No             </td><td>0: No             </td><td>256.82143         </td><td>33.58739          </td></tr>\n",
       "\t<tr><th scope=row>6</th><td>1:WHITE           </td><td>Birmingham        </td><td>0: No             </td><td>0: No             </td><td>179.57143         </td><td>26.41523          </td></tr>\n",
       "\t<tr><th scope=row>7</th><td>2:AFRICAN AMERICAN</td><td>Birmingham        </td><td>0: No             </td><td>0: No             </td><td>144.57143         </td><td>28.39116          </td></tr>\n",
       "</tbody>\n",
       "</table>\n"
      ],
      "text/latex": [
       "\\begin{tabular}{r|llllll}\n",
       "  & GIERACE & SITE & MHDIAB & M1ADEPR & PASCORE & BMI\\\\\n",
       "\\hline\n",
       "\t2 & 1:WHITE            & Birmingham         & 0: No              & 0: No              & 199.17857          & 28.53980          \\\\\n",
       "\t3 & 1:WHITE            & Birmingham         & 0: No              & 0: No              & 161.71429          & 25.01424          \\\\\n",
       "\t4 & 1:WHITE            & Birmingham         & 0: No              & 0: No              &  88.21429          & 30.87637          \\\\\n",
       "\t5 & 1:WHITE            & Birmingham         & 0: No              & 0: No              & 256.82143          & 33.58739          \\\\\n",
       "\t6 & 1:WHITE            & Birmingham         & 0: No              & 0: No              & 179.57143          & 26.41523          \\\\\n",
       "\t7 & 2:AFRICAN AMERICAN & Birmingham         & 0: No              & 0: No              & 144.57143          & 28.39116          \\\\\n",
       "\\end{tabular}\n"
      ],
      "text/markdown": [
       "\n",
       "| <!--/--> | GIERACE | SITE | MHDIAB | M1ADEPR | PASCORE | BMI |\n",
       "|---|---|---|---|---|---|---|\n",
       "| 2 | 1:WHITE            | Birmingham         | 0: No              | 0: No              | 199.17857          | 28.53980           |\n",
       "| 3 | 1:WHITE            | Birmingham         | 0: No              | 0: No              | 161.71429          | 25.01424           |\n",
       "| 4 | 1:WHITE            | Birmingham         | 0: No              | 0: No              |  88.21429          | 30.87637           |\n",
       "| 5 | 1:WHITE            | Birmingham         | 0: No              | 0: No              | 256.82143          | 33.58739           |\n",
       "| 6 | 1:WHITE            | Birmingham         | 0: No              | 0: No              | 179.57143          | 26.41523           |\n",
       "| 7 | 2:AFRICAN AMERICAN | Birmingham         | 0: No              | 0: No              | 144.57143          | 28.39116           |\n",
       "\n"
      ],
      "text/plain": [
       "  GIERACE            SITE       MHDIAB M1ADEPR PASCORE   BMI     \n",
       "2 1:WHITE            Birmingham 0: No  0: No   199.17857 28.53980\n",
       "3 1:WHITE            Birmingham 0: No  0: No   161.71429 25.01424\n",
       "4 1:WHITE            Birmingham 0: No  0: No    88.21429 30.87637\n",
       "5 1:WHITE            Birmingham 0: No  0: No   256.82143 33.58739\n",
       "6 1:WHITE            Birmingham 0: No  0: No   179.57143 26.41523\n",
       "7 2:AFRICAN AMERICAN Birmingham 0: No  0: No   144.57143 28.39116"
      ]
     },
     "metadata": {},
     "output_type": "display_data"
    }
   ],
   "source": [
    "imp <- dat[c(vars_imp)]\n",
    "head(imp)"
   ]
  },
  {
   "cell_type": "code",
   "execution_count": 56,
   "metadata": {},
   "outputs": [
    {
     "data": {
      "text/html": [
       "<dl>\n",
       "\t<dt>$AMAMPT</dt>\n",
       "\t\t<dd>'factor'</dd>\n",
       "\t<dt>$AMPHIT</dt>\n",
       "\t\t<dd>'factor'</dd>\n",
       "\t<dt>$AMFVT</dt>\n",
       "\t\t<dd>'numeric'</dd>\n",
       "\t<dt>$PQPEFFCY</dt>\n",
       "\t\t<dd>'numeric'</dd>\n",
       "\t<dt>$PQPSQI</dt>\n",
       "\t\t<dd>'numeric'</dd>\n",
       "\t<dt>$AMAMPT_C1</dt>\n",
       "\t\t<dd>'factor'</dd>\n",
       "\t<dt>$AMFVT_C1</dt>\n",
       "\t\t<dd>'factor'</dd>\n",
       "\t<dt>$PQBADSLP</dt>\n",
       "\t\t<dd>'factor'</dd>\n",
       "</dl>\n"
      ],
      "text/latex": [
       "\\begin{description}\n",
       "\\item[\\$AMAMPT] 'factor'\n",
       "\\item[\\$AMPHIT] 'factor'\n",
       "\\item[\\$AMFVT] 'numeric'\n",
       "\\item[\\$PQPEFFCY] 'numeric'\n",
       "\\item[\\$PQPSQI] 'numeric'\n",
       "\\item[\\$AMAMPT\\_C1] 'factor'\n",
       "\\item[\\$AMFVT\\_C1] 'factor'\n",
       "\\item[\\$PQBADSLP] 'factor'\n",
       "\\end{description}\n"
      ],
      "text/markdown": [
       "$AMAMPT\n",
       ":   'factor'\n",
       "$AMPHIT\n",
       ":   'factor'\n",
       "$AMFVT\n",
       ":   'numeric'\n",
       "$PQPEFFCY\n",
       ":   'numeric'\n",
       "$PQPSQI\n",
       ":   'numeric'\n",
       "$AMAMPT_C1\n",
       ":   'factor'\n",
       "$AMFVT_C1\n",
       ":   'factor'\n",
       "$PQBADSLP\n",
       ":   'factor'\n",
       "\n",
       "\n"
      ],
      "text/plain": [
       "$AMAMPT\n",
       "[1] \"factor\"\n",
       "\n",
       "$AMPHIT\n",
       "[1] \"factor\"\n",
       "\n",
       "$AMFVT\n",
       "[1] \"numeric\"\n",
       "\n",
       "$PQPEFFCY\n",
       "[1] \"numeric\"\n",
       "\n",
       "$PQPSQI\n",
       "[1] \"numeric\"\n",
       "\n",
       "$AMAMPT_C1\n",
       "[1] \"factor\"\n",
       "\n",
       "$AMFVT_C1\n",
       "[1] \"factor\"\n",
       "\n",
       "$PQBADSLP\n",
       "[1] \"factor\"\n"
      ]
     },
     "metadata": {},
     "output_type": "display_data"
    },
    {
     "data": {
      "text/html": [
       "<dl>\n",
       "\t<dt>$GIERACE</dt>\n",
       "\t\t<dd>'factor'</dd>\n",
       "\t<dt>$SITE</dt>\n",
       "\t\t<dd>'factor'</dd>\n",
       "\t<dt>$MHDIAB</dt>\n",
       "\t\t<dd>'factor'</dd>\n",
       "\t<dt>$M1ADEPR</dt>\n",
       "\t\t<dd>'factor'</dd>\n",
       "\t<dt>$PASCORE</dt>\n",
       "\t\t<dd>'numeric'</dd>\n",
       "\t<dt>$BMI</dt>\n",
       "\t\t<dd>'numeric'</dd>\n",
       "</dl>\n"
      ],
      "text/latex": [
       "\\begin{description}\n",
       "\\item[\\$GIERACE] 'factor'\n",
       "\\item[\\$SITE] 'factor'\n",
       "\\item[\\$MHDIAB] 'factor'\n",
       "\\item[\\$M1ADEPR] 'factor'\n",
       "\\item[\\$PASCORE] 'numeric'\n",
       "\\item[\\$BMI] 'numeric'\n",
       "\\end{description}\n"
      ],
      "text/markdown": [
       "$GIERACE\n",
       ":   'factor'\n",
       "$SITE\n",
       ":   'factor'\n",
       "$MHDIAB\n",
       ":   'factor'\n",
       "$M1ADEPR\n",
       ":   'factor'\n",
       "$PASCORE\n",
       ":   'numeric'\n",
       "$BMI\n",
       ":   'numeric'\n",
       "\n",
       "\n"
      ],
      "text/plain": [
       "$GIERACE\n",
       "[1] \"factor\"\n",
       "\n",
       "$SITE\n",
       "[1] \"factor\"\n",
       "\n",
       "$MHDIAB\n",
       "[1] \"factor\"\n",
       "\n",
       "$M1ADEPR\n",
       "[1] \"factor\"\n",
       "\n",
       "$PASCORE\n",
       "[1] \"numeric\"\n",
       "\n",
       "$BMI\n",
       "[1] \"numeric\"\n"
      ]
     },
     "metadata": {},
     "output_type": "display_data"
    }
   ],
   "source": [
    "lapply(test, class)\n",
    "lapply(imp, class)"
   ]
  },
  {
   "cell_type": "code",
   "execution_count": 57,
   "metadata": {},
   "outputs": [
    {
     "data": {
      "text/html": [
       "<table>\n",
       "<thead><tr><th></th><th scope=col>AMAMPT</th><th scope=col>AMPHIT</th><th scope=col>AMFVT</th><th scope=col>PQPEFFCY</th><th scope=col>PQPSQI</th><th scope=col>AMAMPT_C1</th><th scope=col>AMFVT_C1</th><th scope=col>PQBADSLP</th></tr></thead>\n",
       "<tbody>\n",
       "\t<tr><th scope=row>2</th><td>176.1759 </td><td>11.95988 </td><td>1049.2339</td><td> 60.00   </td><td>9        </td><td>1        </td><td>1        </td><td>1        </td></tr>\n",
       "\t<tr><th scope=row>3</th><td>271.7429 </td><td>10.99706 </td><td>2069.0320</td><td> 90.00   </td><td>2        </td><td>1        </td><td>1        </td><td>0        </td></tr>\n",
       "\t<tr><th scope=row>4</th><td>190.6927 </td><td>10.51494 </td><td>1498.2850</td><td>100.00   </td><td>3        </td><td>1        </td><td>1        </td><td>0        </td></tr>\n",
       "\t<tr><th scope=row>5</th><td>240.3134 </td><td>10.83952 </td><td> 702.4915</td><td> 88.89   </td><td>1        </td><td>1        </td><td>0        </td><td>0        </td></tr>\n",
       "\t<tr><th scope=row>6</th><td>345.2371 </td><td>12.17319 </td><td>1836.6777</td><td> 80.00   </td><td>6        </td><td>1        </td><td>1        </td><td>1        </td></tr>\n",
       "\t<tr><th scope=row>7</th><td>153.4988 </td><td>15.24807 </td><td> 514.8809</td><td> 88.89   </td><td>5        </td><td>1        </td><td>0        </td><td>0        </td></tr>\n",
       "</tbody>\n",
       "</table>\n"
      ],
      "text/latex": [
       "\\begin{tabular}{r|llllllll}\n",
       "  & AMAMPT & AMPHIT & AMFVT & PQPEFFCY & PQPSQI & AMAMPT\\_C1 & AMFVT\\_C1 & PQBADSLP\\\\\n",
       "\\hline\n",
       "\t2 & 176.1759  & 11.95988  & 1049.2339 &  60.00    & 9         & 1         & 1         & 1        \\\\\n",
       "\t3 & 271.7429  & 10.99706  & 2069.0320 &  90.00    & 2         & 1         & 1         & 0        \\\\\n",
       "\t4 & 190.6927  & 10.51494  & 1498.2850 & 100.00    & 3         & 1         & 1         & 0        \\\\\n",
       "\t5 & 240.3134  & 10.83952  &  702.4915 &  88.89    & 1         & 1         & 0         & 0        \\\\\n",
       "\t6 & 345.2371  & 12.17319  & 1836.6777 &  80.00    & 6         & 1         & 1         & 1        \\\\\n",
       "\t7 & 153.4988  & 15.24807  &  514.8809 &  88.89    & 5         & 1         & 0         & 0        \\\\\n",
       "\\end{tabular}\n"
      ],
      "text/markdown": [
       "\n",
       "| <!--/--> | AMAMPT | AMPHIT | AMFVT | PQPEFFCY | PQPSQI | AMAMPT_C1 | AMFVT_C1 | PQBADSLP |\n",
       "|---|---|---|---|---|---|---|---|---|\n",
       "| 2 | 176.1759  | 11.95988  | 1049.2339 |  60.00    | 9         | 1         | 1         | 1         |\n",
       "| 3 | 271.7429  | 10.99706  | 2069.0320 |  90.00    | 2         | 1         | 1         | 0         |\n",
       "| 4 | 190.6927  | 10.51494  | 1498.2850 | 100.00    | 3         | 1         | 1         | 0         |\n",
       "| 5 | 240.3134  | 10.83952  |  702.4915 |  88.89    | 1         | 1         | 0         | 0         |\n",
       "| 6 | 345.2371  | 12.17319  | 1836.6777 |  80.00    | 6         | 1         | 1         | 1         |\n",
       "| 7 | 153.4988  | 15.24807  |  514.8809 |  88.89    | 5         | 1         | 0         | 0         |\n",
       "\n"
      ],
      "text/plain": [
       "  AMAMPT   AMPHIT   AMFVT     PQPEFFCY PQPSQI AMAMPT_C1 AMFVT_C1 PQBADSLP\n",
       "2 176.1759 11.95988 1049.2339  60.00   9      1         1        1       \n",
       "3 271.7429 10.99706 2069.0320  90.00   2      1         1        0       \n",
       "4 190.6927 10.51494 1498.2850 100.00   3      1         1        0       \n",
       "5 240.3134 10.83952  702.4915  88.89   1      1         0        0       \n",
       "6 345.2371 12.17319 1836.6777  80.00   6      1         1        1       \n",
       "7 153.4988 15.24807  514.8809  88.89   5      1         0        0       "
      ]
     },
     "metadata": {},
     "output_type": "display_data"
    }
   ],
   "source": [
    "imp[] <- lapply(imp, as.numeric)\n",
    "test[, 1:5] <- lapply(test[, 1:5], as.character)\n",
    "test[, 1:5] <- lapply(test[, 1:5], as.numeric)\n",
    "test[, 6:8] <- lapply(test[, 6:8], as.factor)\n",
    "test[, 6:8] <- lapply(test[, 6:8], as.numeric)\n",
    "test[, 6:8] <- sapply(c(6:8), function(i){\n",
    "    a <- as.numeric(test[, i])\n",
    "    ifelse(a==2, 1, 0)})\n",
    "head(test)"
   ]
  },
  {
   "cell_type": "code",
   "execution_count": 58,
   "metadata": {},
   "outputs": [
    {
     "data": {
      "text/html": [
       "<table>\n",
       "<thead><tr><th></th><th scope=col>BI0056</th><th scope=col>BI0131</th><th scope=col>BI0153</th><th scope=col>BI0215</th><th scope=col>BI0353</th><th scope=col>BI0371</th><th scope=col>BI0372</th><th scope=col>BI0380</th><th scope=col>BI0389</th><th scope=col>BI0395</th><th scope=col>...</th><th scope=col>SD8918</th><th scope=col>SD8934</th><th scope=col>SD8942</th><th scope=col>SD8966</th><th scope=col>SD8972</th><th scope=col>SD8973</th><th scope=col>SD8985</th><th scope=col>SD8996</th><th scope=col>SD9001</th><th scope=col>SD9009</th></tr></thead>\n",
       "<tbody>\n",
       "\t<tr><th scope=row>BI0056</th><td>0.000000 </td><td>1.9646308</td><td>1.5220292</td><td>1.3861677</td><td>2.2796945</td><td>2.1249924</td><td>1.9383154</td><td>1.3795474</td><td>0.7936802</td><td>1.7095180</td><td>...      </td><td>0.5956897</td><td>3.898778 </td><td>3.097856 </td><td>2.510412 </td><td>2.1737659</td><td>3.340806 </td><td>1.8774769</td><td>1.6105415</td><td>1.6163271</td><td>2.0245220</td></tr>\n",
       "\t<tr><th scope=row>BI0131</th><td>1.964631 </td><td>0.0000000</td><td>0.4890927</td><td>1.1557511</td><td>1.4876324</td><td>0.2544336</td><td>1.0246636</td><td>0.7861452</td><td>1.2313847</td><td>1.9934037</td><td>...      </td><td>1.6046783</td><td>2.606488 </td><td>1.890094 </td><td>1.458492 </td><td>0.6172946</td><td>1.639726 </td><td>0.4333382</td><td>1.4194710</td><td>0.5942780</td><td>0.4597581</td></tr>\n",
       "\t<tr><th scope=row>BI0153</th><td>1.522029 </td><td>0.4890927</td><td>0.0000000</td><td>0.7256925</td><td>1.3117906</td><td>0.6347898</td><td>0.8148648</td><td>0.3597706</td><td>0.7980843</td><td>1.5867218</td><td>...      </td><td>1.1208936</td><td>2.726822 </td><td>1.925176 </td><td>1.576987 </td><td>0.7198735</td><td>1.902971 </td><td>0.4015967</td><td>1.0378047</td><td>0.4745573</td><td>0.5377071</td></tr>\n",
       "\t<tr><th scope=row>BI0215</th><td>1.386168 </td><td>1.1557511</td><td>0.7256925</td><td>0.0000000</td><td>0.9155407</td><td>1.2265470</td><td>0.5707754</td><td>0.5491120</td><td>0.8728960</td><td>0.8659662</td><td>...      </td><td>0.8151901</td><td>2.661172 </td><td>1.763694 </td><td>1.914718 </td><td>1.0009216</td><td>2.074944 </td><td>0.8104914</td><td>0.3478145</td><td>0.9894309</td><td>0.9068951</td></tr>\n",
       "\t<tr><th scope=row>BI0353</th><td>2.279694 </td><td>1.4876324</td><td>1.3117906</td><td>0.9155407</td><td>0.0000000</td><td>1.4634691</td><td>0.5320803</td><td>1.2680218</td><td>1.7699147</td><td>1.0309972</td><td>...      </td><td>1.7060332</td><td>1.897092 </td><td>0.926741 </td><td>1.997822 </td><td>1.0184174</td><td>1.485515 </td><td>1.0649812</td><td>0.7169299</td><td>1.4751000</td><td>1.0416172</td></tr>\n",
       "\t<tr><th scope=row>BI0371</th><td>2.124992 </td><td>0.2544336</td><td>0.6347898</td><td>1.2265470</td><td>1.4634691</td><td>0.0000000</td><td>1.0035298</td><td>0.8492519</td><td>1.3599767</td><td>2.0455402</td><td>...      </td><td>1.7314988</td><td>2.586406 </td><td>1.841603 </td><td>1.646293 </td><td>0.4837797</td><td>1.542577 </td><td>0.5014978</td><td>1.4526540</td><td>0.8340428</td><td>0.4355701</td></tr>\n",
       "</tbody>\n",
       "</table>\n"
      ],
      "text/latex": [
       "\\begin{tabular}{r|lllllllllllllllllllllllllllllllllllllllllllllllllllllllllllllllllllllllllllllllllllllllllllllllllllllllllllllllllllllllllllllllllllllllllllllllllllllllllllllllllllllllllllllllllllllllllllllllllllllllllllllllllllllllllllllllllllllllllllllllllllllllllllllllllllllllllllllllllllllllllllllllllllllllllllllllllllllllllllllllllllllllllllllllllllllllllllllllllllllllllllllllllllllllllllllllllllllllllllllllllllllllllllllllll}\n",
       "  & BI0056 & BI0131 & BI0153 & BI0215 & BI0353 & BI0371 & BI0372 & BI0380 & BI0389 & BI0395 & ... & SD8918 & SD8934 & SD8942 & SD8966 & SD8972 & SD8973 & SD8985 & SD8996 & SD9001 & SD9009\\\\\n",
       "\\hline\n",
       "\tBI0056 & 0.000000  & 1.9646308 & 1.5220292 & 1.3861677 & 2.2796945 & 2.1249924 & 1.9383154 & 1.3795474 & 0.7936802 & 1.7095180 & ...       & 0.5956897 & 3.898778  & 3.097856  & 2.510412  & 2.1737659 & 3.340806  & 1.8774769 & 1.6105415 & 1.6163271 & 2.0245220\\\\\n",
       "\tBI0131 & 1.964631  & 0.0000000 & 0.4890927 & 1.1557511 & 1.4876324 & 0.2544336 & 1.0246636 & 0.7861452 & 1.2313847 & 1.9934037 & ...       & 1.6046783 & 2.606488  & 1.890094  & 1.458492  & 0.6172946 & 1.639726  & 0.4333382 & 1.4194710 & 0.5942780 & 0.4597581\\\\\n",
       "\tBI0153 & 1.522029  & 0.4890927 & 0.0000000 & 0.7256925 & 1.3117906 & 0.6347898 & 0.8148648 & 0.3597706 & 0.7980843 & 1.5867218 & ...       & 1.1208936 & 2.726822  & 1.925176  & 1.576987  & 0.7198735 & 1.902971  & 0.4015967 & 1.0378047 & 0.4745573 & 0.5377071\\\\\n",
       "\tBI0215 & 1.386168  & 1.1557511 & 0.7256925 & 0.0000000 & 0.9155407 & 1.2265470 & 0.5707754 & 0.5491120 & 0.8728960 & 0.8659662 & ...       & 0.8151901 & 2.661172  & 1.763694  & 1.914718  & 1.0009216 & 2.074944  & 0.8104914 & 0.3478145 & 0.9894309 & 0.9068951\\\\\n",
       "\tBI0353 & 2.279694  & 1.4876324 & 1.3117906 & 0.9155407 & 0.0000000 & 1.4634691 & 0.5320803 & 1.2680218 & 1.7699147 & 1.0309972 & ...       & 1.7060332 & 1.897092  & 0.926741  & 1.997822  & 1.0184174 & 1.485515  & 1.0649812 & 0.7169299 & 1.4751000 & 1.0416172\\\\\n",
       "\tBI0371 & 2.124992  & 0.2544336 & 0.6347898 & 1.2265470 & 1.4634691 & 0.0000000 & 1.0035298 & 0.8492519 & 1.3599767 & 2.0455402 & ...       & 1.7314988 & 2.586406  & 1.841603  & 1.646293  & 0.4837797 & 1.542577  & 0.5014978 & 1.4526540 & 0.8340428 & 0.4355701\\\\\n",
       "\\end{tabular}\n"
      ],
      "text/markdown": [
       "\n",
       "| <!--/--> | BI0056 | BI0131 | BI0153 | BI0215 | BI0353 | BI0371 | BI0372 | BI0380 | BI0389 | BI0395 | ... | SD8918 | SD8934 | SD8942 | SD8966 | SD8972 | SD8973 | SD8985 | SD8996 | SD9001 | SD9009 |\n",
       "|---|---|---|---|---|---|---|---|---|---|---|---|---|---|---|---|---|---|---|---|---|---|\n",
       "| BI0056 | 0.000000  | 1.9646308 | 1.5220292 | 1.3861677 | 2.2796945 | 2.1249924 | 1.9383154 | 1.3795474 | 0.7936802 | 1.7095180 | ...       | 0.5956897 | 3.898778  | 3.097856  | 2.510412  | 2.1737659 | 3.340806  | 1.8774769 | 1.6105415 | 1.6163271 | 2.0245220 |\n",
       "| BI0131 | 1.964631  | 0.0000000 | 0.4890927 | 1.1557511 | 1.4876324 | 0.2544336 | 1.0246636 | 0.7861452 | 1.2313847 | 1.9934037 | ...       | 1.6046783 | 2.606488  | 1.890094  | 1.458492  | 0.6172946 | 1.639726  | 0.4333382 | 1.4194710 | 0.5942780 | 0.4597581 |\n",
       "| BI0153 | 1.522029  | 0.4890927 | 0.0000000 | 0.7256925 | 1.3117906 | 0.6347898 | 0.8148648 | 0.3597706 | 0.7980843 | 1.5867218 | ...       | 1.1208936 | 2.726822  | 1.925176  | 1.576987  | 0.7198735 | 1.902971  | 0.4015967 | 1.0378047 | 0.4745573 | 0.5377071 |\n",
       "| BI0215 | 1.386168  | 1.1557511 | 0.7256925 | 0.0000000 | 0.9155407 | 1.2265470 | 0.5707754 | 0.5491120 | 0.8728960 | 0.8659662 | ...       | 0.8151901 | 2.661172  | 1.763694  | 1.914718  | 1.0009216 | 2.074944  | 0.8104914 | 0.3478145 | 0.9894309 | 0.9068951 |\n",
       "| BI0353 | 2.279694  | 1.4876324 | 1.3117906 | 0.9155407 | 0.0000000 | 1.4634691 | 0.5320803 | 1.2680218 | 1.7699147 | 1.0309972 | ...       | 1.7060332 | 1.897092  | 0.926741  | 1.997822  | 1.0184174 | 1.485515  | 1.0649812 | 0.7169299 | 1.4751000 | 1.0416172 |\n",
       "| BI0371 | 2.124992  | 0.2544336 | 0.6347898 | 1.2265470 | 1.4634691 | 0.0000000 | 1.0035298 | 0.8492519 | 1.3599767 | 2.0455402 | ...       | 1.7314988 | 2.586406  | 1.841603  | 1.646293  | 0.4837797 | 1.542577  | 0.5014978 | 1.4526540 | 0.8340428 | 0.4355701 |\n",
       "\n"
      ],
      "text/plain": [
       "       BI0056   BI0131    BI0153    BI0215    BI0353    BI0371    BI0372   \n",
       "BI0056 0.000000 1.9646308 1.5220292 1.3861677 2.2796945 2.1249924 1.9383154\n",
       "BI0131 1.964631 0.0000000 0.4890927 1.1557511 1.4876324 0.2544336 1.0246636\n",
       "BI0153 1.522029 0.4890927 0.0000000 0.7256925 1.3117906 0.6347898 0.8148648\n",
       "BI0215 1.386168 1.1557511 0.7256925 0.0000000 0.9155407 1.2265470 0.5707754\n",
       "BI0353 2.279694 1.4876324 1.3117906 0.9155407 0.0000000 1.4634691 0.5320803\n",
       "BI0371 2.124992 0.2544336 0.6347898 1.2265470 1.4634691 0.0000000 1.0035298\n",
       "       BI0380    BI0389    BI0395    ... SD8918    SD8934   SD8942   SD8966  \n",
       "BI0056 1.3795474 0.7936802 1.7095180 ... 0.5956897 3.898778 3.097856 2.510412\n",
       "BI0131 0.7861452 1.2313847 1.9934037 ... 1.6046783 2.606488 1.890094 1.458492\n",
       "BI0153 0.3597706 0.7980843 1.5867218 ... 1.1208936 2.726822 1.925176 1.576987\n",
       "BI0215 0.5491120 0.8728960 0.8659662 ... 0.8151901 2.661172 1.763694 1.914718\n",
       "BI0353 1.2680218 1.7699147 1.0309972 ... 1.7060332 1.897092 0.926741 1.997822\n",
       "BI0371 0.8492519 1.3599767 2.0455402 ... 1.7314988 2.586406 1.841603 1.646293\n",
       "       SD8972    SD8973   SD8985    SD8996    SD9001    SD9009   \n",
       "BI0056 2.1737659 3.340806 1.8774769 1.6105415 1.6163271 2.0245220\n",
       "BI0131 0.6172946 1.639726 0.4333382 1.4194710 0.5942780 0.4597581\n",
       "BI0153 0.7198735 1.902971 0.4015967 1.0378047 0.4745573 0.5377071\n",
       "BI0215 1.0009216 2.074944 0.8104914 0.3478145 0.9894309 0.9068951\n",
       "BI0353 1.0184174 1.485515 1.0649812 0.7169299 1.4751000 1.0416172\n",
       "BI0371 0.4837797 1.542577 0.5014978 1.4526540 0.8340428 0.4355701"
      ]
     },
     "metadata": {},
     "output_type": "display_data"
    }
   ],
   "source": [
    "head(dist)"
   ]
  },
  {
   "cell_type": "code",
   "execution_count": 59,
   "metadata": {},
   "outputs": [],
   "source": [
    "ker <- D2K(as.matrix(dist))"
   ]
  },
  {
   "cell_type": "code",
   "execution_count": 60,
   "metadata": {},
   "outputs": [
    {
     "data": {
      "text/html": [
       "0.026"
      ],
      "text/latex": [
       "0.026"
      ],
      "text/markdown": [
       "0.026"
      ],
      "text/plain": [
       "[1] 0.026"
      ]
     },
     "metadata": {},
     "output_type": "display_data"
    },
    {
     "data": {
      "text/html": [
       "0.159"
      ],
      "text/latex": [
       "0.159"
      ],
      "text/markdown": [
       "0.159"
      ],
      "text/plain": [
       "[1] 0.159"
      ]
     },
     "metadata": {},
     "output_type": "display_data"
    }
   ],
   "source": [
    "set.seed(10)\n",
    "MiRKAT(test$AMFVT, imp, ker, out_type = \"C\", method = \"permutation\")\n",
    "MiRKAT(test$AMFVT_C1, imp, ker, out_type = \"D\", method = \"permutation\")"
   ]
  },
  {
   "cell_type": "code",
   "execution_count": 61,
   "metadata": {},
   "outputs": [
    {
     "data": {
      "text/html": [
       "0.886"
      ],
      "text/latex": [
       "0.886"
      ],
      "text/markdown": [
       "0.886"
      ],
      "text/plain": [
       "[1] 0.886"
      ]
     },
     "metadata": {},
     "output_type": "display_data"
    },
    {
     "data": {
      "text/html": [
       "0.86"
      ],
      "text/latex": [
       "0.86"
      ],
      "text/markdown": [
       "0.86"
      ],
      "text/plain": [
       "[1] 0.86"
      ]
     },
     "metadata": {},
     "output_type": "display_data"
    }
   ],
   "source": [
    "set.seed(10)\n",
    "MiRKAT(test$AMAMPT, imp, ker, out_type = \"C\", method = \"permutation\")\n",
    "MiRKAT(test$AMAMPT_C1, imp, ker, out_type = \"D\", method = \"permutation\")"
   ]
  },
  {
   "cell_type": "code",
   "execution_count": 62,
   "metadata": {},
   "outputs": [
    {
     "data": {
      "text/html": [
       "0.71"
      ],
      "text/latex": [
       "0.71"
      ],
      "text/markdown": [
       "0.71"
      ],
      "text/plain": [
       "[1] 0.71"
      ]
     },
     "metadata": {},
     "output_type": "display_data"
    }
   ],
   "source": [
    "set.seed(10)\n",
    "MiRKAT(test$AMPHIT, imp, ker, out_type = \"C\", method = \"permutation\")"
   ]
  },
  {
   "cell_type": "code",
   "execution_count": 63,
   "metadata": {},
   "outputs": [
    {
     "data": {
      "text/html": [
       "0.053"
      ],
      "text/latex": [
       "0.053"
      ],
      "text/markdown": [
       "0.053"
      ],
      "text/plain": [
       "[1] 0.053"
      ]
     },
     "metadata": {},
     "output_type": "display_data"
    },
    {
     "data": {
      "text/html": [
       "0.169"
      ],
      "text/latex": [
       "0.169"
      ],
      "text/markdown": [
       "0.169"
      ],
      "text/plain": [
       "[1] 0.169"
      ]
     },
     "metadata": {},
     "output_type": "display_data"
    },
    {
     "data": {
      "text/html": [
       "0.305"
      ],
      "text/latex": [
       "0.305"
      ],
      "text/markdown": [
       "0.305"
      ],
      "text/plain": [
       "[1] 0.305"
      ]
     },
     "metadata": {},
     "output_type": "display_data"
    }
   ],
   "source": [
    "set.seed(10)\n",
    "MiRKAT(test$PQPEFFCY, imp, ker, out_type = \"C\", method = \"permutation\")\n",
    "MiRKAT(test$PQBADSLP, imp, ker, out_type = \"D\", method = \"permutation\")\n",
    "MiRKAT(test$PQPSQI, imp, ker, out_type = \"C\", method = \"permutation\")"
   ]
  }
 ],
 "metadata": {
  "kernelspec": {
   "display_name": "R",
   "language": "R",
   "name": "ir"
  },
  "language_info": {
   "codemirror_mode": "r",
   "file_extension": ".r",
   "mimetype": "text/x-r-source",
   "name": "R",
   "pygments_lexer": "r",
   "version": "3.6.1"
  }
 },
 "nbformat": 4,
 "nbformat_minor": 2
}

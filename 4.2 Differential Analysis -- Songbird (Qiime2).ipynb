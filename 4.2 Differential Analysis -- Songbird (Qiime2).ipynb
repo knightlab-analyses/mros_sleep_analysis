{
 "cells": [
  {
   "cell_type": "markdown",
   "metadata": {},
   "source": [
    "### This notebook is to perform analysis on log-fold change of features with respect to measurements in metadata"
   ]
  },
  {
   "cell_type": "code",
   "execution_count": 1,
   "metadata": {},
   "outputs": [
    {
     "name": "stdout",
     "output_type": "stream",
     "text": [
      "\u001b[33mQIIME is caching your current deployment for improved performance. This may take a few moments and should only happen once per deployment.\u001b[0m\r\n"
     ]
    }
   ],
   "source": [
    "!qiime dev refresh-cache"
   ]
  },
  {
   "cell_type": "code",
   "execution_count": 2,
   "metadata": {},
   "outputs": [
    {
     "name": "stdout",
     "output_type": "stream",
     "text": [
      "\u001b[32mSaved FeatureData[Differential] to: Songbird/amplitute.qza\u001b[0m\n",
      "\u001b[32mSaved SampleData[SongbirdStats] to: Songbird/regression-stats-amplitute.qza\u001b[0m\n",
      "\u001b[32mSaved PCoAResults % Properties('biplot') to: Songbird/regression-biplot-amplitute.qza\u001b[0m\n",
      "\u001b[32mSaved Visualization to: Songbird/regression-summary-amplitute.qzv\u001b[0m\n",
      "\u001b[32mSaved Visualization to: Songbird/amplitute-viz.qzv\u001b[0m\n",
      "\u001b[32mExported Songbird/amplitute-viz.qzv as Visualization to directory Songbird/amplitute-table\u001b[0m\n"
     ]
    }
   ],
   "source": [
    "!qiime songbird multinomial \\\n",
    "    --i-table mros_deblur_otus_unrare.qza \\\n",
    "    --m-metadata-file mapping_sleep_alpha_omit.txt \\\n",
    "    --p-formula \"AMAMPT+BMI+GIERACE+SITE+MHDIAB+M1ADEPR+GIMSTAT\" \\\n",
    "    --p-epochs 1000 \\\n",
    "    --p-differential-prior 0.5 \\\n",
    "    --p-summary-interval 1 \\\n",
    "    --o-differentials Songbird/amplitute.qza \\\n",
    "    --o-regression-stats Songbird/regression-stats-amplitute.qza \\\n",
    "    --o-regression-biplot Songbird/regression-biplot-amplitute.qza\n",
    "!qiime songbird summarize-single \\\n",
    "    --i-feature-table mros_deblur_otus_unrare.qza \\\n",
    "    --i-regression-stats Songbird/regression-stats-amplitute.qza \\\n",
    "    --o-visualization Songbird/regression-summary-amplitute.qzv\n",
    "!qiime metadata tabulate \\\n",
    "    --m-input-file Songbird/amplitute.qza \\\n",
    "    --o-visualization Songbird/amplitute-viz.qzv\n",
    "!qiime tools export \\\n",
    "  --input-path Songbird/amplitute-viz.qzv \\\n",
    "  --output-path Songbird/amplitute-table"
   ]
  },
  {
   "cell_type": "code",
   "execution_count": 3,
   "metadata": {},
   "outputs": [
    {
     "name": "stdout",
     "output_type": "stream",
     "text": [
      "\u001b[32mSaved FeatureData[Differential] to: Songbird/amplitute-cat.qza\u001b[0m\n",
      "\u001b[32mSaved SampleData[SongbirdStats] to: Songbird/regression-stats-amplitute-cat.qza\u001b[0m\n",
      "\u001b[32mSaved PCoAResults % Properties('biplot') to: Songbird/regression-biplot-amplitute-cat.qza\u001b[0m\n",
      "\u001b[32mSaved Visualization to: Songbird/regression-summary-amplitute-cat.qzv\u001b[0m\n",
      "\u001b[32mSaved Visualization to: Songbird/amplitute-cat-viz.qzv\u001b[0m\n",
      "\u001b[32mExported Songbird/amplitute-cat-viz.qzv as Visualization to directory Songbird/amplitute-cat-table\u001b[0m\n"
     ]
    }
   ],
   "source": [
    "!qiime songbird multinomial \\\n",
    "    --i-table mros_deblur_otus_unrare.qza \\\n",
    "    --m-metadata-file mapping_sleep_alpha_omit.txt \\\n",
    "    --p-formula \"AMAMPT_C1+BMI+GIERACE+SITE+MHDIAB+M1ADEPR+GIMSTAT\" \\\n",
    "    --p-epochs 500 \\\n",
    "    --p-differential-prior 0.5 \\\n",
    "    --p-summary-interval 1 \\\n",
    "    --o-differentials Songbird/amplitute-cat.qza \\\n",
    "    --o-regression-stats Songbird/regression-stats-amplitute-cat.qza \\\n",
    "    --o-regression-biplot Songbird/regression-biplot-amplitute-cat.qza\n",
    "!qiime songbird summarize-single \\\n",
    "    --i-feature-table mros_deblur_otus_unrare.qza \\\n",
    "    --i-regression-stats Songbird/regression-stats-amplitute-cat.qza \\\n",
    "    --o-visualization Songbird/regression-summary-amplitute-cat.qzv\n",
    "!qiime metadata tabulate \\\n",
    "    --m-input-file Songbird/amplitute-cat.qza \\\n",
    "    --o-visualization Songbird/amplitute-cat-viz.qzv\n",
    "!qiime tools export \\\n",
    "  --input-path Songbird/amplitute-cat-viz.qzv \\\n",
    "  --output-path Songbird/amplitute-cat-table"
   ]
  },
  {
   "cell_type": "code",
   "execution_count": 4,
   "metadata": {},
   "outputs": [
    {
     "name": "stdout",
     "output_type": "stream",
     "text": [
      "\u001b[32mSaved FeatureData[Differential] to: Songbird/AcrophaseSD.qza\u001b[0m\n",
      "\u001b[32mSaved SampleData[SongbirdStats] to: Songbird/regression-stats-AcrophaseSD.qza\u001b[0m\n",
      "\u001b[32mSaved PCoAResults % Properties('biplot') to: Songbird/regression-biplot-AcrophaseSD.qza\u001b[0m\n",
      "\u001b[32mSaved Visualization to: Songbird/regression-summary-AcrophaseSD.qzv\u001b[0m\n",
      "\u001b[32mSaved Visualization to: Songbird/AcrophaseSD-viz.qzv\u001b[0m\n",
      "\u001b[32mExported Songbird/AcrophaseSD-viz.qzv as Visualization to directory Songbird/AcrophaseSD-table\u001b[0m\n"
     ]
    }
   ],
   "source": [
    "!qiime songbird multinomial \\\n",
    "    --i-table mros_deblur_otus_unrare.qza \\\n",
    "    --m-metadata-file mapping_sleep_alpha_omit.txt \\\n",
    "    --p-formula \"AMPHIT_15SD+BMI+GIERACE+SITE+MHDIAB+M1ADEPR+GIMSTAT\" \\\n",
    "    --p-epochs 1000 \\\n",
    "    --p-differential-prior 0.5 \\\n",
    "    --p-summary-interval 1 \\\n",
    "    --o-differentials Songbird/AcrophaseSD.qza \\\n",
    "    --o-regression-stats Songbird/regression-stats-AcrophaseSD.qza \\\n",
    "    --o-regression-biplot Songbird/regression-biplot-AcrophaseSD.qza\n",
    "!qiime songbird summarize-single \\\n",
    "    --i-feature-table mros_deblur_otus_unrare.qza \\\n",
    "    --i-regression-stats Songbird/regression-stats-AcrophaseSD.qza \\\n",
    "    --o-visualization Songbird/regression-summary-AcrophaseSD.qzv\n",
    "!qiime metadata tabulate \\\n",
    "    --m-input-file Songbird/AcrophaseSD.qza \\\n",
    "    --o-visualization Songbird/AcrophaseSD-viz.qzv\n",
    "!qiime tools export \\\n",
    "  --input-path Songbird/AcrophaseSD-viz.qzv \\\n",
    "  --output-path Songbird/AcrophaseSD-table"
   ]
  },
  {
   "cell_type": "code",
   "execution_count": 5,
   "metadata": {},
   "outputs": [
    {
     "name": "stdout",
     "output_type": "stream",
     "text": [
      "\u001b[32mSaved FeatureData[Differential] to: Songbird/Acrophase.qza\u001b[0m\n",
      "\u001b[32mSaved SampleData[SongbirdStats] to: Songbird/regression-stats-Acrophase.qza\u001b[0m\n",
      "\u001b[32mSaved PCoAResults % Properties('biplot') to: Songbird/regression-biplot-Acrophase.qza\u001b[0m\n",
      "\u001b[32mSaved Visualization to: Songbird/regression-summary-Acrophase.qzv\u001b[0m\n",
      "\u001b[32mSaved Visualization to: Songbird/Acrophase-viz.qzv\u001b[0m\n",
      "\u001b[32mExported Songbird/Acrophase-viz.qzv as Visualization to directory Songbird/Acrophase-table\u001b[0m\n"
     ]
    }
   ],
   "source": [
    "!qiime songbird multinomial \\\n",
    "    --i-table mros_deblur_otus_unrare.qza \\\n",
    "    --m-metadata-file mapping_sleep_alpha_omit.txt \\\n",
    "    --p-formula \"AMPHIT+BMI+GIERACE+SITE+MHDIAB+M1ADEPR+GIMSTAT\" \\\n",
    "    --p-epochs 500 \\\n",
    "    --p-differential-prior 0.5 \\\n",
    "    --p-summary-interval 1 \\\n",
    "    --o-differentials Songbird/Acrophase.qza \\\n",
    "    --o-regression-stats Songbird/regression-stats-Acrophase.qza \\\n",
    "    --o-regression-biplot Songbird/regression-biplot-Acrophase.qza\n",
    "!qiime songbird summarize-single \\\n",
    "    --i-feature-table mros_deblur_otus_unrare.qza \\\n",
    "    --i-regression-stats Songbird/regression-stats-Acrophase.qza \\\n",
    "    --o-visualization Songbird/regression-summary-Acrophase.qzv\n",
    "!qiime metadata tabulate \\\n",
    "    --m-input-file Songbird/Acrophase.qza \\\n",
    "    --o-visualization Songbird/Acrophase-viz.qzv\n",
    "!qiime tools export \\\n",
    "  --input-path Songbird/Acrophase-viz.qzv \\\n",
    "  --output-path Songbird/Acrophase-table"
   ]
  },
  {
   "cell_type": "code",
   "execution_count": 6,
   "metadata": {},
   "outputs": [
    {
     "name": "stdout",
     "output_type": "stream",
     "text": [
      "\u001b[32mSaved FeatureData[Differential] to: Songbird/FStats.qza\u001b[0m\n",
      "\u001b[32mSaved SampleData[SongbirdStats] to: Songbird/regression-stats-FStats.qza\u001b[0m\n",
      "\u001b[32mSaved PCoAResults % Properties('biplot') to: Songbird/regression-biplot-FStats.qza\u001b[0m\n",
      "\u001b[32mSaved Visualization to: Songbird/regression-summary-FStats.qzv\u001b[0m\n",
      "\u001b[32mSaved Visualization to: Songbird/Fstats-viz.qzv\u001b[0m\n",
      "\u001b[32mExported Songbird/Fstats-viz.qzv as Visualization to directory Songbird/Fstats-table\u001b[0m\n"
     ]
    }
   ],
   "source": [
    "!qiime songbird multinomial \\\n",
    "    --i-table mros_deblur_otus_unrare.qza \\\n",
    "    --m-metadata-file mapping_sleep_alpha_omit.txt \\\n",
    "    --p-formula \"AMFVT+BMI+GIERACE+SITE+MHDIAB+M1ADEPR+GIMSTAT\" \\\n",
    "    --p-epochs 1000 \\\n",
    "    --p-differential-prior 0.5 \\\n",
    "    --p-summary-interval 1 \\\n",
    "    --o-differentials Songbird/FStats.qza \\\n",
    "    --o-regression-stats Songbird/regression-stats-FStats.qza \\\n",
    "    --o-regression-biplot Songbird/regression-biplot-FStats.qza\n",
    "!qiime songbird summarize-single \\\n",
    "    --i-feature-table mros_deblur_otus_unrare.qza \\\n",
    "    --i-regression-stats Songbird/regression-stats-FStats.qza \\\n",
    "    --o-visualization Songbird/regression-summary-FStats.qzv\n",
    "!qiime metadata tabulate \\\n",
    "    --m-input-file Songbird/Fstats.qza \\\n",
    "    --o-visualization Songbird/Fstats-viz.qzv\n",
    "!qiime tools export \\\n",
    "  --input-path Songbird/Fstats-viz.qzv \\\n",
    "  --output-path Songbird/Fstats-table"
   ]
  },
  {
   "cell_type": "code",
   "execution_count": 7,
   "metadata": {},
   "outputs": [
    {
     "name": "stdout",
     "output_type": "stream",
     "text": [
      "\u001b[32mSaved FeatureData[Differential] to: Songbird/FStats-cat.qza\u001b[0m\n",
      "\u001b[32mSaved SampleData[SongbirdStats] to: Songbird/regression-stats-FStats-cat.qza\u001b[0m\n",
      "\u001b[32mSaved PCoAResults % Properties('biplot') to: Songbird/regression-biplot-FStats-cat.qza\u001b[0m\n",
      "\u001b[32mSaved Visualization to: Songbird/regression-summary-FStats-cat.qzv\u001b[0m\n",
      "\u001b[32mSaved Visualization to: Songbird/Fstats-cat-viz.qzv\u001b[0m\n",
      "\u001b[32mExported Songbird/Fstats-cat-viz.qzv as Visualization to directory Songbird/Fstats-cat-table\u001b[0m\n"
     ]
    }
   ],
   "source": [
    "!qiime songbird multinomial \\\n",
    "    --i-table mros_deblur_otus_unrare.qza \\\n",
    "    --m-metadata-file mapping_sleep_alpha_omit.txt \\\n",
    "    --p-formula \"AMFVT_C1+BMI+GIERACE+SITE+MHDIAB+M1ADEPR+GIMSTAT\" \\\n",
    "    --p-epochs 1000 \\\n",
    "    --p-differential-prior 0.5 \\\n",
    "    --p-summary-interval 1 \\\n",
    "    --o-differentials Songbird/FStats-cat.qza \\\n",
    "    --o-regression-stats Songbird/regression-stats-FStats-cat.qza \\\n",
    "    --o-regression-biplot Songbird/regression-biplot-FStats-cat.qza\n",
    "!qiime songbird summarize-single \\\n",
    "    --i-feature-table mros_deblur_otus_unrare.qza \\\n",
    "    --i-regression-stats Songbird/regression-stats-FStats-cat.qza \\\n",
    "    --o-visualization Songbird/regression-summary-FStats-cat.qzv\n",
    "!qiime metadata tabulate \\\n",
    "    --m-input-file Songbird/Fstats-cat.qza \\\n",
    "    --o-visualization Songbird/Fstats-cat-viz.qzv\n",
    "!qiime tools export \\\n",
    "  --input-path Songbird/Fstats-cat-viz.qzv \\\n",
    "  --output-path Songbird/Fstats-cat-table"
   ]
  },
  {
   "cell_type": "code",
   "execution_count": 8,
   "metadata": {},
   "outputs": [
    {
     "name": "stdout",
     "output_type": "stream",
     "text": [
      "\u001b[32mSaved FeatureData[Differential] to: Songbird/Poorslp.qza\u001b[0m\n",
      "\u001b[32mSaved SampleData[SongbirdStats] to: Songbird/regression-stats-Poorslp.qza\u001b[0m\n",
      "\u001b[32mSaved PCoAResults % Properties('biplot') to: Songbird/regression-biplot-Poorslp.qza\u001b[0m\n",
      "\u001b[32mSaved Visualization to: Songbird/regression-summary-Poorslp.qzv\u001b[0m\n",
      "\u001b[32mSaved Visualization to: Songbird/Poorslp-viz.qzv\u001b[0m\n",
      "\u001b[32mExported Songbird/Poorslp-viz.qzv as Visualization to directory Songbird/Poorslp-table\u001b[0m\n"
     ]
    }
   ],
   "source": [
    "!qiime songbird multinomial \\\n",
    "    --i-table mros_deblur_otus_unrare.qza \\\n",
    "    --m-metadata-file mapping_sleep_alpha_omit.txt \\\n",
    "    --p-formula \"PQBADSLP+BMI+GIERACE+SITE+MHDIAB+M1ADEPR+GIMSTAT\" \\\n",
    "    --p-epochs 1000 \\\n",
    "    --p-differential-prior 0.5 \\\n",
    "    --p-summary-interval 1 \\\n",
    "    --o-differentials Songbird/Poorslp.qza \\\n",
    "    --o-regression-stats Songbird/regression-stats-Poorslp.qza \\\n",
    "    --o-regression-biplot Songbird/regression-biplot-Poorslp.qza\n",
    "!qiime songbird summarize-single \\\n",
    "    --i-feature-table mros_deblur_otus_unrare.qza \\\n",
    "    --i-regression-stats Songbird/regression-stats-Poorslp.qza \\\n",
    "    --o-visualization Songbird/regression-summary-Poorslp.qzv\n",
    "!qiime metadata tabulate \\\n",
    "    --m-input-file Songbird/Poorslp.qza \\\n",
    "    --o-visualization Songbird/Poorslp-viz.qzv\n",
    "!qiime tools export \\\n",
    "  --input-path Songbird/Poorslp-viz.qzv \\\n",
    "  --output-path Songbird/Poorslp-table"
   ]
  },
  {
   "cell_type": "code",
   "execution_count": 9,
   "metadata": {},
   "outputs": [
    {
     "name": "stdout",
     "output_type": "stream",
     "text": [
      "\u001b[32mSaved FeatureData[Differential] to: Songbird/Slphours.qza\u001b[0m\n",
      "\u001b[32mSaved SampleData[SongbirdStats] to: Songbird/regression-stats-Slphours.qza\u001b[0m\n",
      "\u001b[32mSaved PCoAResults % Properties('biplot') to: Songbird/regression-biplot-Slphours.qza\u001b[0m\n",
      "\u001b[32mSaved Visualization to: Songbird/regression-summary-Slphours.qzv\u001b[0m\n",
      "\u001b[32mSaved Visualization to: Songbird/Slphours-viz.qzv\u001b[0m\n",
      "\u001b[32mExported Songbird/Slphours-viz.qzv as Visualization to directory Songbird/Slphours-table\u001b[0m\n"
     ]
    }
   ],
   "source": [
    "!qiime songbird multinomial \\\n",
    "    --i-table mros_deblur_otus_unrare.qza \\\n",
    "    --m-metadata-file mapping_sleep_alpha_omit.txt \\\n",
    "    --p-formula \"SLEEPHRS+BMI+GIERACE+SITE+MHDIAB+M1ADEPR+GIMSTAT\" \\\n",
    "    --p-epochs 1000 \\\n",
    "    --p-differential-prior 0.5 \\\n",
    "    --p-summary-interval 1 \\\n",
    "    --o-differentials Songbird/Slphours.qza \\\n",
    "    --o-regression-stats Songbird/regression-stats-Slphours.qza \\\n",
    "    --o-regression-biplot Songbird/regression-biplot-Slphours.qza\n",
    "!qiime songbird summarize-single \\\n",
    "    --i-feature-table mros_deblur_otus_unrare.qza \\\n",
    "    --i-regression-stats Songbird/regression-stats-Slphours.qza \\\n",
    "    --o-visualization Songbird/regression-summary-Slphours.qzv\n",
    "!qiime metadata tabulate \\\n",
    "    --m-input-file Songbird/Slphours.qza \\\n",
    "    --o-visualization Songbird/Slphours-viz.qzv\n",
    "!qiime tools export \\\n",
    "  --input-path Songbird/Slphours-viz.qzv \\\n",
    "  --output-path Songbird/Slphours-table"
   ]
  },
  {
   "cell_type": "code",
   "execution_count": 10,
   "metadata": {},
   "outputs": [
    {
     "name": "stdout",
     "output_type": "stream",
     "text": [
      "\u001b[32mSaved FeatureData[Differential] to: Songbird/Slphours-con.qza\u001b[0m\n",
      "\u001b[32mSaved SampleData[SongbirdStats] to: Songbird/regression-stats-Slphours-con.qza\u001b[0m\n",
      "\u001b[32mSaved PCoAResults % Properties('biplot') to: Songbird/regression-biplot-Slphours-con.qza\u001b[0m\n",
      "\u001b[32mSaved Visualization to: Songbird/regression-summary-Slphours-con.qzv\u001b[0m\n",
      "\u001b[32mSaved Visualization to: Songbird/Slphours-con-viz.qzv\u001b[0m\n",
      "\u001b[32mExported Songbird/Slphours-con-viz.qzv as Visualization to directory Songbird/Slphours-con-table\u001b[0m\n"
     ]
    }
   ],
   "source": [
    "!qiime songbird multinomial \\\n",
    "    --i-table mros_deblur_otus_unrare.qza \\\n",
    "    --m-metadata-file mapping_sleep_alpha_omit_sleep.txt \\\n",
    "    --p-formula \"SLSLPHRS+BMI+GIERACE+SITE+MHDIAB+M1ADEPR+GIMSTAT\" \\\n",
    "    --p-epochs 1000 \\\n",
    "    --p-differential-prior 0.5 \\\n",
    "    --p-summary-interval 1 \\\n",
    "    --o-differentials Songbird/Slphours-con.qza \\\n",
    "    --o-regression-stats Songbird/regression-stats-Slphours-con.qza \\\n",
    "    --o-regression-biplot Songbird/regression-biplot-Slphours-con.qza\n",
    "!qiime songbird summarize-single \\\n",
    "    --i-feature-table mros_deblur_otus_unrare.qza \\\n",
    "    --i-regression-stats Songbird/regression-stats-Slphours-con.qza \\\n",
    "    --o-visualization Songbird/regression-summary-Slphours-con.qzv\n",
    "!qiime metadata tabulate \\\n",
    "    --m-input-file Songbird/Slphours-con.qza \\\n",
    "    --o-visualization Songbird/Slphours-con-viz.qzv\n",
    "!qiime tools export \\\n",
    "  --input-path Songbird/Slphours-con-viz.qzv \\\n",
    "  --output-path Songbird/Slphours-con-table"
   ]
  },
  {
   "cell_type": "code",
   "execution_count": 11,
   "metadata": {},
   "outputs": [
    {
     "name": "stdout",
     "output_type": "stream",
     "text": [
      "\u001b[32mSaved Visualization to: qurro-plot.qzv\u001b[0m\r\n"
     ]
    }
   ],
   "source": [
    "#Get plot of feature rankings\n",
    "!qiime qurro loading-plot \\\n",
    "    --i-table mros_deblur_otus_unrare.qza \\\n",
    "    --i-ranks ordination.qza \\\n",
    "    --m-sample-metadata-file mapping_sleep_alpha_omit.txt \\\n",
    "    --m-feature-metadata-file taxonomy.qza \\\n",
    "    --o-visualization qurro-plot.qzv"
   ]
  }
 ],
 "metadata": {
  "kernelspec": {
   "display_name": "Python 3",
   "language": "python",
   "name": "python3"
  },
  "language_info": {
   "codemirror_mode": {
    "name": "ipython",
    "version": 3
   },
   "file_extension": ".py",
   "mimetype": "text/x-python",
   "name": "python",
   "nbconvert_exporter": "python",
   "pygments_lexer": "ipython3",
   "version": "3.6.7"
  }
 },
 "nbformat": 4,
 "nbformat_minor": 2
}
